{
  "nbformat": 4,
  "nbformat_minor": 0,
  "metadata": {
    "colab": {
      "provenance": [],
      "toc_visible": true,
      "authorship_tag": "ABX9TyN/GCcbgNQdqeQ1AFmctq+f",
      "include_colab_link": true
    },
    "kernelspec": {
      "name": "python3",
      "display_name": "Python 3"
    },
    "language_info": {
      "name": "python"
    },
    "accelerator": "GPU",
    "gpuClass": "standard"
  },
  "cells": [
    {
      "cell_type": "markdown",
      "metadata": {
        "id": "view-in-github",
        "colab_type": "text"
      },
      "source": [
        "<a href=\"https://colab.research.google.com/github/Neelectric/TaD-Labs/blob/main/Text_as_Data_Coursework.ipynb\" target=\"_parent\"><img src=\"https://colab.research.google.com/assets/colab-badge.svg\" alt=\"Open In Colab\"/></a>"
      ]
    },
    {
      "cell_type": "markdown",
      "source": [
        "# Text as Data Coursework\n",
        "by Neel Rajani, 2514211r \n",
        "\n",
        "*   Note: While answering questions 3-5, I was at times very insecure of whether my code was doing what the assignment was asking for. In addition to asking friends for how they understood questions, I occasionally turned to chatGPT for advice and demonstrations of how some functions work or how to plot things. At times I adapted some of those demonstrations, and at all times rewrote the code shown to me. For example, it suggested hex values of pastel colours to me, or showed me how to print evaluation metrics nicely with pandas dataframs. In complying with University plagiarism rules, I hereby give due credit to chatGPT for supporting my work."
      ],
      "metadata": {
        "id": "ghP4cuPfYeHS"
      }
    },
    {
      "cell_type": "code",
      "source": [
        "#fix due to this stackoverflow post. https://stackoverflow.com/questions/56081324/why-are-google-colab-shell-commands-not-working\n",
        "import locale\n",
        "print(locale.getpreferredencoding())"
      ],
      "metadata": {
        "colab": {
          "base_uri": "https://localhost:8080/"
        },
        "id": "FRgmVUmf8Wor",
        "outputId": "d5ca83d8-e5c7-4c97-c0ee-f257a78c6b1f"
      },
      "execution_count": 62,
      "outputs": [
        {
          "output_type": "stream",
          "name": "stdout",
          "text": [
            "UTF-8\n"
          ]
        }
      ]
    },
    {
      "cell_type": "code",
      "source": [
        "import locale\n",
        "def getpreferredencoding(do_setlocale = True):\n",
        "    return \"UTF-8\"\n",
        "locale.getpreferredencoding = getpreferredencoding"
      ],
      "metadata": {
        "id": "YwMVqBdU8d18"
      },
      "execution_count": 63,
      "outputs": []
    },
    {
      "cell_type": "code",
      "source": [
        "#small cell due to https://stackoverflow.com/questions/58890109/line-wrapping-in-collaboratory-google-results that disables word wrap\n",
        "#enabled during report write up to make taking screenshots easier\n",
        "\n",
        "# from IPython.display import HTML, display\n",
        "\n",
        "# def set_css():\n",
        "#   display(HTML('''\n",
        "#   <style>\n",
        "#     pre {\n",
        "#         white-space: pre-wrap;\n",
        "#     }\n",
        "#   </style>\n",
        "#   '''))\n",
        "# get_ipython().events.register('pre_run_cell', set_css)\n",
        "\n",
        "#small snippet for pandas to show all columns and rows of dataframes with unlimited width\n",
        "import pandas as pd\n",
        "pd.set_option('display.max_columns', None)\n",
        "pd.set_option('display.max_rows', None)\n",
        "pd.set_option('display.max_colwidth', -1)\n",
        "pd.set_option('display.width', 1000)"
      ],
      "metadata": {
        "id": "ycoO6Gn1HTxM",
        "colab": {
          "base_uri": "https://localhost:8080/"
        },
        "outputId": "1c1ea35e-b94f-491c-9243-a2dcd2ef03f0"
      },
      "execution_count": 64,
      "outputs": [
        {
          "output_type": "stream",
          "name": "stderr",
          "text": [
            "<ipython-input-64-6354ad2bbf2f>:20: FutureWarning: Passing a negative integer is deprecated in version 1.0 and will not be supported in future version. Instead, use None to not limit the column width.\n",
            "  pd.set_option('display.max_colwidth', -1)\n"
          ]
        }
      ]
    },
    {
      "cell_type": "code",
      "source": [
        "#import statements\n",
        "import json\n",
        "from collections import Counter\n",
        "import numpy as np\n",
        "import pandas as pd\n",
        "import random\n",
        "import spacy\n",
        "from sklearn.model_selection import train_test_split\n",
        "from sklearn.feature_extraction.text import TfidfVectorizer\n",
        "from scipy.sparse import csr_matrix\n",
        "import seaborn as sn\n",
        "import matplotlib.pyplot as plt"
      ],
      "metadata": {
        "id": "4uRYGe4n7dQ0"
      },
      "execution_count": 65,
      "outputs": []
    },
    {
      "cell_type": "code",
      "execution_count": 66,
      "metadata": {
        "colab": {
          "base_uri": "https://localhost:8080/"
        },
        "id": "Tdr2SZL36mWr",
        "outputId": "6667c500-1109-4d8e-dafd-d8fa65a2c056"
      },
      "outputs": [
        {
          "output_type": "stream",
          "name": "stdout",
          "text": [
            "--2023-03-12 19:27:58--  https://gla-my.sharepoint.com/:u:/g/personal/jake_lever_glasgow_ac_uk/EY_R8Y7DkrxMqXGe-zlgeNkBdJU5ZNTf8FYrN2pqDwddMA?download=1\n",
            "Resolving gla-my.sharepoint.com (gla-my.sharepoint.com)... 13.107.136.8, 13.107.138.8, 2620:1ec:8f8::8, ...\n",
            "Connecting to gla-my.sharepoint.com (gla-my.sharepoint.com)|13.107.136.8|:443... connected.\n",
            "HTTP request sent, awaiting response... 302 Found\n",
            "Location: https://gla-my.sharepoint.com/personal/jake_lever_glasgow_ac_uk/_layouts/15/download.aspx?UniqueId=8ef1d18f92c34cbca9719efb396078d9 [following]\n",
            "--2023-03-12 19:27:58--  https://gla-my.sharepoint.com/personal/jake_lever_glasgow_ac_uk/_layouts/15/download.aspx?UniqueId=8ef1d18f92c34cbca9719efb396078d9\n",
            "Reusing existing connection to gla-my.sharepoint.com:443.\n",
            "HTTP request sent, awaiting response... 200 OK\n",
            "Length: 1279064 (1.2M) [application/json]\n",
            "Saving to: ‘reddit_posts.json’\n",
            "\n",
            "reddit_posts.json   100%[===================>]   1.22M  --.-KB/s    in 0.05s   \n",
            "\n",
            "2023-03-12 19:27:58 (23.2 MB/s) - ‘reddit_posts.json’ saved [1279064/1279064]\n",
            "\n"
          ]
        }
      ],
      "source": [
        "#Download data from reddit\n",
        "!wget -O reddit_posts.json https://gla-my.sharepoint.com/:u:/g/personal/jake_lever_glasgow_ac_uk/EY_R8Y7DkrxMqXGe-zlgeNkBdJU5ZNTf8FYrN2pqDwddMA?download=1\n",
        "\n",
        "#load into python\n",
        "with open('reddit_posts.json', 'rt') as file:\n",
        "  source = json.load(file)"
      ]
    },
    {
      "cell_type": "markdown",
      "source": [
        "# Q1 - Dataset\n"
      ],
      "metadata": {
        "id": "gLU6Ciu9YpS5"
      }
    },
    {
      "cell_type": "code",
      "source": [
        "labels, texts = [], []\n",
        "texts = [entry['title'] + '\\n' + entry['body'] for entry in source]\n",
        "labels = [entry['subreddit'] for entry in source]\n",
        "Counter(labels).most_common()"
      ],
      "metadata": {
        "colab": {
          "base_uri": "https://localhost:8080/"
        },
        "id": "G8D3ZQVqGgJA",
        "outputId": "34f68756-79e0-4ccc-db9f-2a23c3bba4a5"
      },
      "execution_count": 67,
      "outputs": [
        {
          "output_type": "execute_result",
          "data": {
            "text/plain": [
              "[('NintendoSwitch', 249),\n",
              " ('tea', 236),\n",
              " ('Coffee', 234),\n",
              " ('PS4', 233),\n",
              " ('antiMLM', 226),\n",
              " ('pcgaming', 225),\n",
              " ('xbox', 213),\n",
              " ('HydroHomies', 210),\n",
              " ('Soda', 174)]"
            ]
          },
          "metadata": {},
          "execution_count": 67
        }
      ]
    },
    {
      "cell_type": "code",
      "source": [
        "labels_train_val, labels_test, texts_train_val, texts_test = train_test_split(labels, texts, test_size=0.2, random_state=42)\n",
        "labels_train, labels_val, texts_train, texts_val = train_test_split(labels_train_val, texts_train_val, test_size=0.25, random_state=42)\n",
        "print(f\"{len(texts_train)=},{len(labels_train)=}\")\n",
        "print(f\"{len(texts_val)=},{len(labels_val)=}\")\n",
        "print(f\"{len(texts_test)=},{len(labels_test)=}\")\n",
        "total_texts = len(texts_train) + len(texts_val) + len(texts_test)\n",
        "len(texts_train)/total_texts, len(texts_val)/total_texts, len(texts_test)/total_texts"
      ],
      "metadata": {
        "colab": {
          "base_uri": "https://localhost:8080/"
        },
        "id": "t234C2fs3V3E",
        "outputId": "c85e0f1f-ab7a-4b2a-f294-a8ab1ffdd48e"
      },
      "execution_count": 68,
      "outputs": [
        {
          "output_type": "stream",
          "name": "stdout",
          "text": [
            "len(texts_train)=1200,len(labels_train)=1200\n",
            "len(texts_val)=400,len(labels_val)=400\n",
            "len(texts_test)=400,len(labels_test)=400\n"
          ]
        },
        {
          "output_type": "execute_result",
          "data": {
            "text/plain": [
              "(0.6, 0.2, 0.2)"
            ]
          },
          "metadata": {},
          "execution_count": 68
        }
      ]
    },
    {
      "cell_type": "code",
      "source": [
        "#helper function to apply spacy tokenizer on text\n",
        "nlp = spacy.load(\"en_core_web_sm\")\n",
        "def spacyfy(text):\n",
        "  tokens = []\n",
        "  doc = nlp(text)\n",
        "  for t in doc:\n",
        "    if not t.is_stop and not t.is_punct and not t.is_space:\n",
        "      tokens.append(t.lemma_.lower())\n",
        "  return tokens"
      ],
      "metadata": {
        "id": "p0PNAKbUNVFu"
      },
      "execution_count": 69,
      "outputs": []
    },
    {
      "cell_type": "markdown",
      "source": [
        "# Q2: Clustering\n",
        "What follows is a cell by cell execution of k-means clustering, with k hardcoded to 5 and the full \"texts\" list chosen as input, as I want to learn about the clustering of the whole dataset, and not only texts_train"
      ],
      "metadata": {
        "id": "qVygUeqDWYtG"
      }
    },
    {
      "cell_type": "code",
      "source": [
        "def tfidf_vec_scikitlearn_spacy(input):\n",
        "  vectorizer = TfidfVectorizer(tokenizer = spacyfy)\n",
        "  return vectorizer.fit_transform(input)"
      ],
      "metadata": {
        "id": "-rSYf7qhXjgJ"
      },
      "execution_count": 70,
      "outputs": []
    },
    {
      "cell_type": "markdown",
      "source": [
        "With the aim of getting 5 random centroids to start with, I elected the Forgy partition approach: To randomly select k data points from dataset as initial centroids"
      ],
      "metadata": {
        "id": "8LbpzbjQO7Ty"
      }
    },
    {
      "cell_type": "code",
      "source": [
        "random_indices = random.sample(range(0, 1199), 5)\n",
        "#every time this cell is called, new random numbers are printed. to have some consistency, I decided to copy this output at some point. the output is hardcoded below\n",
        "random_indices = [1055, 1164, 28, 1136, 618]"
      ],
      "metadata": {
        "id": "h8b3Z-KU7nQg"
      },
      "execution_count": 71,
      "outputs": []
    },
    {
      "cell_type": "code",
      "source": [
        "#Step 0: Vectorise text\n",
        "k = 5\n",
        "tfidf_matrix = tfidf_vec_scikitlearn_spacy(texts)"
      ],
      "metadata": {
        "colab": {
          "base_uri": "https://localhost:8080/"
        },
        "id": "yhlLCRPu5aot",
        "outputId": "3dd1bd5e-d6fa-4681-b739-cc3f5cd34df4"
      },
      "execution_count": 72,
      "outputs": [
        {
          "output_type": "stream",
          "name": "stderr",
          "text": [
            "/usr/local/lib/python3.9/dist-packages/sklearn/feature_extraction/text.py:528: UserWarning: The parameter 'token_pattern' will not be used since 'tokenizer' is not None'\n",
            "  warnings.warn(\n"
          ]
        }
      ]
    },
    {
      "cell_type": "code",
      "source": [
        "#Step 1: Pick k random \"centroids\"\n",
        "centroids = [tfidf_matrix[index] for index in random_indices]\n",
        "print(len(centroids))"
      ],
      "metadata": {
        "colab": {
          "base_uri": "https://localhost:8080/"
        },
        "id": "kpqpM71YlYSk",
        "outputId": "8a9895f6-7d11-4a29-ba2b-c7535bdad87b"
      },
      "execution_count": 73,
      "outputs": [
        {
          "output_type": "stream",
          "name": "stdout",
          "text": [
            "5\n"
          ]
        }
      ]
    },
    {
      "cell_type": "markdown",
      "source": [
        "The following cell implements k-means clustering, iterating until the model converges or reaches 100 iterations (which it doesn't)"
      ],
      "metadata": {
        "id": "p1chVK5LPHPq"
      }
    },
    {
      "cell_type": "code",
      "source": [
        "#create dictionary to save closest centroid per text, populate with dummy data\n",
        "closest_centroid_per_text = {i: [-1,0] for i, _ in enumerate(texts)}\n",
        "\n",
        "print(\"start\")\n",
        "converged = False\n",
        "iterations = 0\n",
        "while(not converged) & (iterations != 100):\n",
        "  converged = True\n",
        "  entries_by_centroid = [[] for i in range(k)]\n",
        "  print(\"iteration: \" + str(iterations))\n",
        "  for i in range(len(texts)):\n",
        "    #Step 2: Assign each vector to its closest centroid\n",
        "    similarity_list = [centroid.dot(tfidf_matrix[i,:].T)[0,0] for centroid in centroids]\n",
        "    closest_centroid_index = np.argmax(similarity_list)\n",
        "    entries_by_centroid[closest_centroid_index].append(tfidf_matrix[i])\n",
        "\n",
        "    #if the newly calculated closest centroid (and the degree of similarity) differs from the old one, we must update this, and have not yet converged\n",
        "    if (closest_centroid_per_text[i] != [closest_centroid_index, similarity_list[closest_centroid_index]]):\n",
        "      converged = False\n",
        "      closest_centroid_per_text[i] = [closest_centroid_index, similarity_list[closest_centroid_index]]\n",
        "\n",
        "  #Step 3: Recalculate the centroids based on the closest vectors\n",
        "  for i in range(k):\n",
        "      n_matrices = len(entries_by_centroid[i])\n",
        "      m,n = entries_by_centroid[i][0].shape\n",
        "      average_matrix = csr_matrix((m,n), dtype=np.float32)\n",
        "      for matrix in entries_by_centroid[i]:\n",
        "        average_matrix += matrix\n",
        "      average_matrix /= n_matrices\n",
        "      #amend 'centroids' to reflect this\n",
        "      centroids[i] = average_matrix\n",
        "  iterations += 1"
      ],
      "metadata": {
        "colab": {
          "base_uri": "https://localhost:8080/"
        },
        "id": "gdN4NJNnBwWQ",
        "outputId": "60726514-559b-44fe-f30d-e91d73ce8946"
      },
      "execution_count": 74,
      "outputs": [
        {
          "output_type": "stream",
          "name": "stdout",
          "text": [
            "start\n",
            "iteration: 0\n",
            "iteration: 1\n",
            "iteration: 2\n",
            "iteration: 3\n",
            "iteration: 4\n",
            "iteration: 5\n",
            "iteration: 6\n",
            "iteration: 7\n",
            "iteration: 8\n",
            "iteration: 9\n",
            "iteration: 10\n",
            "iteration: 11\n",
            "iteration: 12\n",
            "iteration: 13\n",
            "iteration: 14\n",
            "iteration: 15\n",
            "iteration: 16\n",
            "iteration: 17\n",
            "iteration: 18\n"
          ]
        }
      ]
    },
    {
      "cell_type": "markdown",
      "source": [
        "Here I create a list with 5 sublists, where every sublist contains every text inserted into that cluster"
      ],
      "metadata": {
        "id": "y2kpXYBoOvmU"
      }
    },
    {
      "cell_type": "code",
      "source": [
        "texts_by_cluster = []\n",
        "for i in range(k):\n",
        "  cluster_size = 0\n",
        "  cluster_list = []\n",
        "  for j in range(len(closest_centroid_per_text)):\n",
        "    if closest_centroid_per_text[j][0] == i:\n",
        "      cluster_size += 1\n",
        "      cluster_list.append(j)\n",
        "  print(cluster_size)\n",
        "  texts_by_cluster.append(cluster_list)"
      ],
      "metadata": {
        "colab": {
          "base_uri": "https://localhost:8080/"
        },
        "id": "oy12OcQxqU37",
        "outputId": "57fda280-0f3c-4bf5-e8f3-d47ba3189119"
      },
      "execution_count": 75,
      "outputs": [
        {
          "output_type": "stream",
          "name": "stdout",
          "text": [
            "566\n",
            "225\n",
            "442\n",
            "444\n",
            "323\n"
          ]
        }
      ]
    },
    {
      "cell_type": "markdown",
      "source": [
        "Printing every cluster: an example text, the most represented subreddits, and the top 5 tokens with counts"
      ],
      "metadata": {
        "id": "SM2R34BxOoZC"
      }
    },
    {
      "cell_type": "code",
      "source": [
        "cluster_counters = []\n",
        "for i in range(len(texts_by_cluster)):\n",
        "  cluster_dict = {}\n",
        "  counter = Counter()\n",
        "  \n",
        "  print(\"Cluster \" + str(i+1))\n",
        "  print(\"Example text:\")\n",
        "  print(texts[texts_by_cluster[i][0]][0:200])\n",
        "  for j in range(len(texts_by_cluster[i])):\n",
        "    text_string = spacyfy(texts[texts_by_cluster[i][j]])\n",
        "    counts = Counter(text_string)\n",
        "    counter += counts\n",
        "    if source[texts_by_cluster[i][j]]['subreddit'] in cluster_dict.keys():\n",
        "      cluster_dict[source[texts_by_cluster[i][j]]['subreddit']] +=1\n",
        "    else:\n",
        "      cluster_dict[source[texts_by_cluster[i][j]]['subreddit']] = 1\n",
        "  size = 0\n",
        "  for subreddit, count in cluster_dict.items():\n",
        "    if (count > 10):\n",
        "      print(f\"{subreddit}: {count}\")\n",
        "    size+= count\n",
        "  cluster_counters.append(cluster_dict)\n",
        "  print(\"total size: \"+str(size))\n",
        "  print(\"counts:\")\n",
        "  print(counter.most_common(5))\n",
        "  print(\"\\n\")"
      ],
      "metadata": {
        "colab": {
          "base_uri": "https://localhost:8080/"
        },
        "id": "xEMHdiICveia",
        "outputId": "3e43c698-3ee9-4c72-d173-ac66deeeef58"
      },
      "execution_count": 76,
      "outputs": [
        {
          "output_type": "stream",
          "name": "stdout",
          "text": [
            "Cluster 1\n",
            "Example text:\n",
            "Please help me find this game!\n",
            "Like 10 or so years ago I loved this game and I can’t remember it now.. \n",
            "It was a game show battle Royale thing where all the  contestants killed each other for a prize.\n",
            "xbox: 45\n",
            "pcgaming: 165\n",
            "PS4: 161\n",
            "NintendoSwitch: 192\n",
            "total size: 566\n",
            "counts:\n",
            "[('game', 1210), ('play', 512), ('like', 307), ('switch', 288), ('look', 172)]\n",
            "\n",
            "\n",
            "Cluster 2\n",
            "Example text:\n",
            "Anyone tried Irn Bru?\n",
            "It’s a Scottish drink and it’s banned some countries and I was wondering if anyone here has tried it. It has quite a unique taste and it’s not something you’d forget quickly. You\n",
            "Soda: 158\n",
            "PS4: 17\n",
            "HydroHomies: 15\n",
            "total size: 225\n",
            "counts:\n",
            "[('soda', 227), ('find', 111), ('like', 89), ('know', 77), ('try', 71)]\n",
            "\n",
            "\n",
            "Cluster 3\n",
            "Example text:\n",
            "I once had a box of tea that I believe was Scottish Highland black tea. Can anyone recommend me a tea along those lines?\n",
            "I'd like to repurchase this tea but I cannot find the exact box and don't want \n",
            "tea: 222\n",
            "Coffee: 203\n",
            "total size: 442\n",
            "counts:\n",
            "[('tea', 780), ('coffee', 470), ('like', 255), ('good', 209), ('try', 180)]\n",
            "\n",
            "\n",
            "Cluster 4\n",
            "Example text:\n",
            "I was ddos'd, my city was named, and I was kicked from a party by a person who wasn't the party leader, nor was he in the party.\n",
            "Hi, I have a question. Someone joined our party. 1. He said my city, st\n",
            "antiMLM: 215\n",
            "HydroHomies: 192\n",
            "total size: 444\n",
            "counts:\n",
            "[('water', 409), ('mlm', 288), ('like', 212), ('drink', 209), ('know', 191)]\n",
            "\n",
            "\n",
            "Cluster 5\n",
            "Example text:\n",
            "Just got my Xbox series s, haven't had any type of Xbox since the 360 so I'm new and have a question.\n",
            "I'm pretty sure I can but just to be sure. Can I make an account before I even turn the system on?\n",
            "xbox: 161\n",
            "NintendoSwitch: 46\n",
            "pcgaming: 47\n",
            "Coffee: 17\n",
            "PS4: 50\n",
            "total size: 323\n",
            "counts:\n",
            "[('xbox', 265), ('series', 178), ('controller', 131), ('x', 124), ('game', 104)]\n",
            "\n",
            "\n"
          ]
        }
      ]
    },
    {
      "cell_type": "markdown",
      "source": [
        "Here I convert the cluster data to a list for our predicted labels. I also had to convert our \"labels\" list to a numerical representation for the confusion_matrix function to work"
      ],
      "metadata": {
        "id": "qQ6B6DHCPUvo"
      }
    },
    {
      "cell_type": "code",
      "source": [
        "labels_predicted = []\n",
        "for i in range(len(texts)):\n",
        "  labels_predicted.append(closest_centroid_per_text[i][0])\n",
        "label_dictionary = {'NintendoSwitch':0,'tea':1,'PS4':2,'Coffee':3,'pcgaming':4,'antiMLM':5,'xbox':6,'HydroHomies':7,'Soda':8}\n",
        "labels_numerical = [label_dictionary[label] for label in labels]"
      ],
      "metadata": {
        "id": "ZcOOXxE3H60g"
      },
      "execution_count": 77,
      "outputs": []
    },
    {
      "cell_type": "code",
      "source": [
        "from sklearn.metrics import confusion_matrix\n",
        "def plotConfusionMatrix(labels_val, labels_predicted):\n",
        "  cm = confusion_matrix(labels_val, labels_predicted)\n",
        "  colour_map = sn.color_palette(\"Reds\", as_cmap=True)\n",
        "  ylabels = ['NintendoSwitch','tea','PS4','Coffee','pcgaming','antiMLM','xbox','HydroHomies','Soda']\n",
        "  xlabels = [1,2,3,4,5]\n",
        "  plot = sn.heatmap(cm[:,:-4], \n",
        "                    annot=True, # Put the numbers in\n",
        "                    annot_kws={\"size\": 14}, # Make the numbers bigger\n",
        "                    fmt='g', # Stop scientific notation\n",
        "                    cmap = colour_map, # Choose the colour palette\n",
        "                    cbar = False, # Don't include the colour bar\n",
        "                    xticklabels=xlabels, # Put in the X and Y labels\n",
        "                    yticklabels=ylabels)\n",
        "  plot.set(xlabel='Predicted', ylabel='Actual')\n",
        "  return plot\n",
        "\n",
        "plotConfusionMatrix(labels_numerical, labels_predicted)"
      ],
      "metadata": {
        "colab": {
          "base_uri": "https://localhost:8080/",
          "height": 297
        },
        "id": "eYe4OcNYImWd",
        "outputId": "c3684370-f76b-4738-e511-69f8abaf3eb5"
      },
      "execution_count": 78,
      "outputs": [
        {
          "output_type": "execute_result",
          "data": {
            "text/plain": [
              "<AxesSubplot:xlabel='Predicted', ylabel='Actual'>"
            ]
          },
          "metadata": {},
          "execution_count": 78
        },
        {
          "output_type": "display_data",
          "data": {
            "text/plain": [
              "<Figure size 432x288 with 1 Axes>"
            ],
            "image/png": "[encoded data removed]"
          },
          "metadata": {
            "needs_background": "light"
          }
        }
      ]
    },
    {
      "cell_type": "markdown",
      "source": [
        "# Q3 - Comparing Classifiers"
      ],
      "metadata": {
        "id": "aoJBjSLoYuvs"
      }
    },
    {
      "cell_type": "markdown",
      "source": [
        "Dummy Classifier with strategy=\"most_frequent\". Most frequent labels in training set are shown below:"
      ],
      "metadata": {
        "id": "Ucb21jSR23PO"
      }
    },
    {
      "cell_type": "code",
      "source": [
        "Counter(labels_train).most_common()"
      ],
      "metadata": {
        "id": "G7N8sLC8Y1CN",
        "colab": {
          "base_uri": "https://localhost:8080/"
        },
        "outputId": "07b6a402-45d1-4e68-9664-89fe31a44fdf"
      },
      "execution_count": 79,
      "outputs": [
        {
          "output_type": "execute_result",
          "data": {
            "text/plain": [
              "[('NintendoSwitch', 156),\n",
              " ('tea', 149),\n",
              " ('PS4', 148),\n",
              " ('Coffee', 135),\n",
              " ('pcgaming', 134),\n",
              " ('antiMLM', 132),\n",
              " ('xbox', 125),\n",
              " ('HydroHomies', 117),\n",
              " ('Soda', 104)]"
            ]
          },
          "metadata": {},
          "execution_count": 79
        }
      ]
    },
    {
      "cell_type": "code",
      "source": [
        "pd.set_option('display.width', 1000)\n",
        "\n",
        "from sklearn.dummy import DummyClassifier\n",
        "from sklearn.metrics import accuracy_score, precision_score, recall_score, f1_score, classification_report\n",
        "\n",
        "vectorizer = TfidfVectorizer(tokenizer=spacyfy)\n",
        "texts_train_tfidf = vectorizer.fit_transform(texts_train)\n",
        "texts_val_tfidf = vectorizer.transform(texts_val)\n",
        "\n",
        "dummy_clf_mf = DummyClassifier(strategy=\"most_frequent\")\n",
        "dummy_clf_mf.fit(texts_train_tfidf, labels_train)\n",
        "\n",
        "labels_train_predicted = dummy_clf_mf.predict(texts_train_tfidf)\n",
        "labels_val_predicted = dummy_clf_mf.predict(texts_val_tfidf)\n",
        "\n",
        "#report = classification_report(labels_val, labels_predicted)\n",
        "train_accuracy = accuracy_score(labels_train, labels_train_predicted)\n",
        "train_precision = precision_score(labels_train, labels_train_predicted, average='macro')\n",
        "train_recall = recall_score(labels_train, labels_train_predicted, average='macro')\n",
        "train_f1 = f1_score(labels_train, labels_train_predicted, average='macro')\n",
        "\n",
        "val_accuracy = accuracy_score(labels_val, labels_val_predicted)\n",
        "val_precision = precision_score(labels_val, labels_val_predicted, average='macro')\n",
        "val_recall = recall_score(labels_val, labels_val_predicted, average='macro')\n",
        "val_f1 = f1_score(labels_val, labels_val_predicted, average='macro')\n",
        "\n",
        "#print evaluation metrics\n",
        "#create table of evaluation metrics\n",
        "df = pd.DataFrame({\n",
        "    'Set': ['Training', 'Validation'],\n",
        "    'Accuracy': [train_accuracy, val_accuracy],\n",
        "    'Macro Precision': [train_precision, val_precision],\n",
        "    'Macro Recall': [train_recall, val_recall],\n",
        "    'Macro F1-score': [train_f1, val_f1]\n",
        "})\n",
        "\n",
        "#highlight row with best validation performance\n",
        "best_val = df.iloc[df['Macro F1-score'].idxmax()]\n",
        "best_val.name = 'Best performance'\n",
        "df = df.append(best_val)\n",
        "\n",
        "#print table to console\n",
        "print(\"Dummy Classifier with strategy=\\\"most_frequent\\\"\")\n",
        "print(df.round(3))"
      ],
      "metadata": {
        "colab": {
          "base_uri": "https://localhost:8080/"
        },
        "id": "uW5nZyjO6hJN",
        "outputId": "b8bcf669-c028-4f85-cc04-1838e684fe75"
      },
      "execution_count": 80,
      "outputs": [
        {
          "output_type": "stream",
          "name": "stderr",
          "text": [
            "/usr/local/lib/python3.9/dist-packages/sklearn/feature_extraction/text.py:528: UserWarning: The parameter 'token_pattern' will not be used since 'tokenizer' is not None'\n",
            "  warnings.warn(\n"
          ]
        },
        {
          "output_type": "stream",
          "name": "stdout",
          "text": [
            "Dummy Classifier with strategy=\"most_frequent\"\n",
            "                         Set  Accuracy  Macro Precision  Macro Recall  Macro F1-score\n",
            "0                 Training    0.130     0.014            0.111         0.026         \n",
            "1                 Validation  0.138     0.015            0.111         0.027         \n",
            "Best performance  Validation  0.138     0.015            0.111         0.027         \n"
          ]
        },
        {
          "output_type": "stream",
          "name": "stderr",
          "text": [
            "/usr/local/lib/python3.9/dist-packages/sklearn/metrics/_classification.py:1344: UndefinedMetricWarning: Precision is ill-defined and being set to 0.0 in labels with no predicted samples. Use `zero_division` parameter to control this behavior.\n",
            "  _warn_prf(average, modifier, msg_start, len(result))\n",
            "/usr/local/lib/python3.9/dist-packages/sklearn/metrics/_classification.py:1344: UndefinedMetricWarning: Precision is ill-defined and being set to 0.0 in labels with no predicted samples. Use `zero_division` parameter to control this behavior.\n",
            "  _warn_prf(average, modifier, msg_start, len(result))\n"
          ]
        }
      ]
    },
    {
      "cell_type": "markdown",
      "source": [
        "Dummy Classifier with strategy=\"stratified\""
      ],
      "metadata": {
        "id": "z0EtkKXQLJgW"
      }
    },
    {
      "cell_type": "code",
      "source": [
        "vectorizer = TfidfVectorizer(tokenizer=spacyfy)\n",
        "texts_train_tfidf = vectorizer.fit_transform(texts_train)\n",
        "texts_val_tfidf = vectorizer.transform(texts_val)\n",
        "\n",
        "dummy_clf_mf = DummyClassifier(strategy=\"stratified\")\n",
        "dummy_clf_mf.fit(texts_train_tfidf, labels_train)\n",
        "\n",
        "labels_train_predicted = dummy_clf_mf.predict(texts_train_tfidf)\n",
        "labels_val_predicted = dummy_clf_mf.predict(texts_val_tfidf)\n",
        "\n",
        "#report = classification_report(labels_val, labels_predicted)\n",
        "train_accuracy = accuracy_score(labels_train, labels_train_predicted)\n",
        "train_precision = precision_score(labels_train, labels_train_predicted, average='macro')\n",
        "train_recall = recall_score(labels_train, labels_train_predicted, average='macro')\n",
        "train_f1 = f1_score(labels_train, labels_train_predicted, average='macro')\n",
        "\n",
        "val_accuracy = accuracy_score(labels_val, labels_val_predicted)\n",
        "val_precision = precision_score(labels_val, labels_val_predicted, average='macro')\n",
        "val_recall = recall_score(labels_val, labels_val_predicted, average='macro')\n",
        "val_f1 = f1_score(labels_val, labels_val_predicted, average='macro')\n",
        "\n",
        "#print evaluation metrics\n",
        "#create table of evaluation metrics\n",
        "df = pd.DataFrame({\n",
        "    'Set': ['Training', 'Validation'],\n",
        "    'Accuracy': [train_accuracy, val_accuracy],\n",
        "    'Macro Precision': [train_precision, val_precision],\n",
        "    'Macro Recall': [train_recall, val_recall],\n",
        "    'Macro F1-score': [train_f1, val_f1]\n",
        "})\n",
        "\n",
        "#highlight row with best validation performance\n",
        "best_val = df.iloc[df['Macro F1-score'].idxmax()]\n",
        "best_val.name = 'Best performance'\n",
        "df = df.append(best_val)\n",
        "\n",
        "#print table to console\n",
        "print(\"Dummy Classifier with strategy=\\\"stratified\\\"\")\n",
        "print(df.round(3))"
      ],
      "metadata": {
        "colab": {
          "base_uri": "https://localhost:8080/"
        },
        "id": "JPuuIpgwLFpq",
        "outputId": "aa8bd53e-9f37-4a56-8da0-9ab19b6a59ed"
      },
      "execution_count": 81,
      "outputs": [
        {
          "output_type": "stream",
          "name": "stderr",
          "text": [
            "/usr/local/lib/python3.9/dist-packages/sklearn/feature_extraction/text.py:528: UserWarning: The parameter 'token_pattern' will not be used since 'tokenizer' is not None'\n",
            "  warnings.warn(\n"
          ]
        },
        {
          "output_type": "stream",
          "name": "stdout",
          "text": [
            "Dummy Classifier with strategy=\"stratified\"\n",
            "                         Set  Accuracy  Macro Precision  Macro Recall  Macro F1-score\n",
            "0                 Training    0.11      0.107            0.108         0.108         \n",
            "1                 Validation  0.15      0.148            0.151         0.148         \n",
            "Best performance  Validation  0.15      0.148            0.151         0.148         \n"
          ]
        }
      ]
    },
    {
      "cell_type": "markdown",
      "source": [
        "LogisticRegression with One-hot vectorization"
      ],
      "metadata": {
        "id": "cpPMbCBwNXe7"
      }
    },
    {
      "cell_type": "code",
      "source": [
        "from sklearn.linear_model import LogisticRegression\n",
        "from sklearn.feature_extraction.text import CountVectorizer\n",
        "vectorizer = CountVectorizer()\n",
        "texts_train_oh = vectorizer.fit_transform(texts_train)\n",
        "\n",
        "texts_val_oh = vectorizer.transform(texts_val)\n",
        "\n",
        "clf_lr_oh = LogisticRegression()\n",
        "clf_lr_oh.fit(texts_train_oh, labels_train)\n",
        "\n",
        "labels_train_predicted = clf_lr_oh.predict(texts_train_oh)\n",
        "labels_val_predicted = clf_lr_oh.predict(texts_val_oh)\n",
        "\n",
        "#report = classification_report(labels_val, labels_predicted)\n",
        "train_accuracy = accuracy_score(labels_train, labels_train_predicted)\n",
        "train_precision = precision_score(labels_train, labels_train_predicted, average='macro')\n",
        "train_recall = recall_score(labels_train, labels_train_predicted, average='macro')\n",
        "train_f1 = f1_score(labels_train, labels_train_predicted, average='macro')\n",
        "\n",
        "val_accuracy = accuracy_score(labels_val, labels_val_predicted)\n",
        "val_precision = precision_score(labels_val, labels_val_predicted, average='macro')\n",
        "val_recall = recall_score(labels_val, labels_val_predicted, average='macro')\n",
        "val_f1 = f1_score(labels_val, labels_val_predicted, average='macro')\n",
        "\n",
        "#print evaluation metrics\n",
        "#create table of evaluation metrics\n",
        "df = pd.DataFrame({\n",
        "    'Set': ['Training', 'Validation'],\n",
        "    'Accuracy': [train_accuracy, val_accuracy],\n",
        "    'Macro Precision': [train_precision, val_precision],\n",
        "    'Macro Recall': [train_recall, val_recall],\n",
        "    'Macro F1-score': [train_f1, val_f1]\n",
        "})\n",
        "\n",
        "#highlight row with best validation performance\n",
        "best_val = df.iloc[df['Macro F1-score'].idxmax()]\n",
        "best_val.name = 'Best performance'\n",
        "df = df.append(best_val)\n",
        "\n",
        "#print table to console\n",
        "print(\"LogisticRegression with One-hot vectorization\")\n",
        "print(df.round(3))"
      ],
      "metadata": {
        "colab": {
          "base_uri": "https://localhost:8080/"
        },
        "id": "w10Y-bR8NXBj",
        "outputId": "e83210e4-3a03-4b51-c155-96f5dae2f292"
      },
      "execution_count": 82,
      "outputs": [
        {
          "output_type": "stream",
          "name": "stdout",
          "text": [
            "LogisticRegression with One-hot vectorization\n",
            "                         Set  Accuracy  Macro Precision  Macro Recall  Macro F1-score\n",
            "0                 Training    1.00      1.000            1.000         1.000         \n",
            "1                 Validation  0.78      0.794            0.785         0.783         \n",
            "Best performance  Training    1.00      1.000            1.000         1.000         \n"
          ]
        },
        {
          "output_type": "stream",
          "name": "stderr",
          "text": [
            "/usr/local/lib/python3.9/dist-packages/sklearn/linear_model/_logistic.py:458: ConvergenceWarning: lbfgs failed to converge (status=1):\n",
            "STOP: TOTAL NO. of ITERATIONS REACHED LIMIT.\n",
            "\n",
            "Increase the number of iterations (max_iter) or scale the data as shown in:\n",
            "    https://scikit-learn.org/stable/modules/preprocessing.html\n",
            "Please also refer to the documentation for alternative solver options:\n",
            "    https://scikit-learn.org/stable/modules/linear_model.html#logistic-regression\n",
            "  n_iter_i = _check_optimize_result(\n"
          ]
        }
      ]
    },
    {
      "cell_type": "markdown",
      "source": [
        "LogisticRegression with TF-IDF vectorization (default settings)"
      ],
      "metadata": {
        "id": "CqMLwNhvOWUz"
      }
    },
    {
      "cell_type": "code",
      "source": [
        "vectorizer = TfidfVectorizer(tokenizer=spacyfy)\n",
        "texts_train_tfidf = vectorizer.fit_transform(texts_train)\n",
        "texts_val_tfidf = vectorizer.transform(texts_val)\n",
        "\n",
        "clf_lr_tfidf = LogisticRegression()\n",
        "clf_lr_tfidf.fit(texts_train_tfidf, labels_train)\n",
        "\n",
        "labels_train_predicted = clf_lr_tfidf.predict(texts_train_tfidf)\n",
        "labels_val_predicted_lrtfidf = clf_lr_tfidf.predict(texts_val_tfidf)\n",
        "\n",
        "#report = classification_report(labels_val, labels_predicted)\n",
        "train_accuracy = accuracy_score(labels_train, labels_train_predicted)\n",
        "train_precision = precision_score(labels_train, labels_train_predicted, average='macro')\n",
        "train_recall = recall_score(labels_train, labels_train_predicted, average='macro')\n",
        "train_f1 = f1_score(labels_train, labels_train_predicted, average='macro')\n",
        "\n",
        "val_accuracy = accuracy_score(labels_val, labels_val_predicted_lrtfidf)\n",
        "val_precision = precision_score(labels_val, labels_val_predicted_lrtfidf, average='macro')\n",
        "val_recall = recall_score(labels_val, labels_val_predicted_lrtfidf, average='macro')\n",
        "val_f1 = f1_score(labels_val, labels_val_predicted_lrtfidf, average='macro')\n",
        "\n",
        "#print evaluation metrics\n",
        "#create table of evaluation metrics\n",
        "df = pd.DataFrame({\n",
        "    'Set': ['Training', 'Validation'],\n",
        "    'Accuracy': [train_accuracy, val_accuracy],\n",
        "    'Macro Precision': [train_precision, val_precision],\n",
        "    'Macro Recall': [train_recall, val_recall],\n",
        "    'Macro F1-score': [train_f1, val_f1]\n",
        "})\n",
        "\n",
        "#highlight row with best validation performance\n",
        "best_val = df.iloc[df['Macro F1-score'].idxmax()]\n",
        "best_val.name = 'Best performance'\n",
        "df = df.append(best_val)\n",
        "\n",
        "#print table to console\n",
        "print(\"LogisticRegression with TF-IDF vectorization (default settings)\")\n",
        "print(df.round(3))"
      ],
      "metadata": {
        "colab": {
          "base_uri": "https://localhost:8080/"
        },
        "id": "oVs-Mq8xOTxV",
        "outputId": "15ef5266-329c-4f85-c633-595512a39d5c"
      },
      "execution_count": 83,
      "outputs": [
        {
          "output_type": "stream",
          "name": "stderr",
          "text": [
            "/usr/local/lib/python3.9/dist-packages/sklearn/feature_extraction/text.py:528: UserWarning: The parameter 'token_pattern' will not be used since 'tokenizer' is not None'\n",
            "  warnings.warn(\n"
          ]
        },
        {
          "output_type": "stream",
          "name": "stdout",
          "text": [
            "LogisticRegression with TF-IDF vectorization (default settings)\n",
            "                         Set  Accuracy  Macro Precision  Macro Recall  Macro F1-score\n",
            "0                 Training    0.988     0.988            0.987         0.988         \n",
            "1                 Validation  0.832     0.848            0.833         0.834         \n",
            "Best performance  Training    0.988     0.988            0.987         0.988         \n"
          ]
        }
      ]
    },
    {
      "cell_type": "markdown",
      "source": [
        "SVC Classifier with One-hot vectorization (SVM with RBF kernel, default settings)"
      ],
      "metadata": {
        "id": "FWjl4swxWDE6"
      }
    },
    {
      "cell_type": "code",
      "source": [
        "from sklearn.svm import SVC\n",
        "vectorizer = CountVectorizer()\n",
        "texts_train_svc = vectorizer.fit_transform(texts_train)\n",
        "texts_val_svc = vectorizer.transform(texts_val)\n",
        "\n",
        "clf_svc = SVC()\n",
        "clf_svc.fit(texts_train_svc, labels_train)\n",
        "\n",
        "labels_train_predicted = clf_svc.predict(texts_train_svc)\n",
        "labels_val_predicted = clf_svc.predict(texts_val_svc)\n",
        "\n",
        "#report = classification_report(labels_val, labels_predicted)\n",
        "train_accuracy = accuracy_score(labels_train, labels_train_predicted)\n",
        "train_precision = precision_score(labels_train, labels_train_predicted, average='macro')\n",
        "train_recall = recall_score(labels_train, labels_train_predicted, average='macro')\n",
        "train_f1 = f1_score(labels_train, labels_train_predicted, average='macro')\n",
        "\n",
        "val_accuracy = accuracy_score(labels_val, labels_val_predicted)\n",
        "val_precision = precision_score(labels_val, labels_val_predicted, average='macro')\n",
        "val_recall = recall_score(labels_val, labels_val_predicted, average='macro')\n",
        "val_f1 = f1_score(labels_val, labels_val_predicted, average='macro')\n",
        "\n",
        "#print evaluation metrics\n",
        "#create table of evaluation metrics\n",
        "df = pd.DataFrame({\n",
        "    'Set': ['Training', 'Validation'],\n",
        "    'Accuracy': [train_accuracy, val_accuracy],\n",
        "    'Macro Precision': [train_precision, val_precision],\n",
        "    'Macro Recall': [train_recall, val_recall],\n",
        "    'Macro F1-score': [train_f1, val_f1]\n",
        "})\n",
        "\n",
        "#highlight row with best validation performance\n",
        "best_val = df.iloc[df['Macro F1-score'].idxmax()]\n",
        "best_val.name = 'Best performance'\n",
        "df = df.append(best_val)\n",
        "\n",
        "#print table to console\n",
        "print(\"SVC Classifier with One-hot vectorization (SVM with RBF kernel, default settings)\")\n",
        "print(df.round(3))"
      ],
      "metadata": {
        "colab": {
          "base_uri": "https://localhost:8080/"
        },
        "id": "QqftRHOGWGPQ",
        "outputId": "bc537ebf-2d01-442c-cb13-deabec58ac9b"
      },
      "execution_count": 84,
      "outputs": [
        {
          "output_type": "stream",
          "name": "stdout",
          "text": [
            "SVC Classifier with One-hot vectorization (SVM with RBF kernel, default settings)\n",
            "                         Set  Accuracy  Macro Precision  Macro Recall  Macro F1-score\n",
            "0                 Training    0.901     0.930            0.900         0.908         \n",
            "1                 Validation  0.588     0.704            0.598         0.614         \n",
            "Best performance  Training    0.901     0.930            0.900         0.908         \n"
          ]
        }
      ]
    },
    {
      "cell_type": "markdown",
      "source": [
        "The classifier with the best performance so far has been LogisticRegression with TF-IDF vectorization on default settings, with a Macro F1-Score of 0.834 on the validation set. Below is code to show a bar chart of F1 scores per class."
      ],
      "metadata": {
        "id": "jNDEo6dgyMrN"
      }
    },
    {
      "cell_type": "code",
      "source": [
        "#the pastel colors were suggested by chatGPT\n",
        "f1_scores_lrtfidf = f1_score(labels_val, labels_val_predicted_lrtfidf, average=None)\n",
        "subreddits = ['NintendoSwitch','tea','PS4','Coffee','pcgaming','antiMLM','xbox','HydroHomies','Soda']\n",
        "pastel_colors = ['#F8B195', '#F67280', '#C06C84', '#6C5B7B', '#355C7D', '#8D8741', '#CDB380', '#FFE5B4', '#ECD5E3']\n",
        "\n",
        "plt.bar(subreddits, f1_scores_lrtfidf, color=pastel_colors)\n",
        "plt.title(\"F1 score per subreddit\")\n",
        "plt.xlabel(\"Subreddit\")\n",
        "plt.ylabel(\"F1 score\")\n",
        "plt.xticks(rotation=90)\n",
        "\n",
        "plt.show()"
      ],
      "metadata": {
        "colab": {
          "base_uri": "https://localhost:8080/",
          "height": 364
        },
        "id": "1fTvGc-GyHbD",
        "outputId": "9e456fed-fb6b-4872-c633-325ecc96255f"
      },
      "execution_count": 85,
      "outputs": [
        {
          "output_type": "display_data",
          "data": {
            "text/plain": [
              "<Figure size 432x288 with 1 Axes>"
            ],
            "image/png": "[encoded data removed]"
          },
          "metadata": {
            "needs_background": "light"
          }
        }
      ]
    },
    {
      "cell_type": "markdown",
      "source": [
        "The approach I myself came up with is shown below: Multinomial Naive Bayes with TF-IDF vectorization"
      ],
      "metadata": {
        "id": "xu4O5c4VqEXA"
      }
    },
    {
      "cell_type": "code",
      "source": [
        "from sklearn.naive_bayes import MultinomialNB\n",
        "vectorizer = TfidfVectorizer(tokenizer=spacyfy)\n",
        "texts_train_tfidf = vectorizer.fit_transform(texts_train)\n",
        "texts_val_tfidf = vectorizer.transform(texts_val)\n",
        "\n",
        "clf_mnb_tfidf = MultinomialNB()\n",
        "clf_mnb_tfidf.fit(texts_train_tfidf, labels_train)\n",
        "\n",
        "labels_train_predicted = clf_mnb_tfidf.predict(texts_train_tfidf)\n",
        "labels_val_predicted = clf_mnb_tfidf.predict(texts_val_tfidf)\n",
        "\n",
        "#report = classification_report(labels_val, labels_predicted)\n",
        "train_accuracy = accuracy_score(labels_train, labels_train_predicted)\n",
        "train_precision = precision_score(labels_train, labels_train_predicted, average='macro')\n",
        "train_recall = recall_score(labels_train, labels_train_predicted, average='macro')\n",
        "train_f1 = f1_score(labels_train, labels_train_predicted, average='macro')\n",
        "\n",
        "val_accuracy = accuracy_score(labels_val, labels_val_predicted)\n",
        "val_precision = precision_score(labels_val, labels_val_predicted, average='macro')\n",
        "val_recall = recall_score(labels_val, labels_val_predicted, average='macro')\n",
        "val_f1 = f1_score(labels_val, labels_val_predicted, average='macro')\n",
        "\n",
        "#print evaluation metrics\n",
        "#create table of evaluation metrics\n",
        "df = pd.DataFrame({\n",
        "    'Set': ['Training', 'Validation'],\n",
        "    'Accuracy': [train_accuracy, val_accuracy],\n",
        "    'Macro Precision': [train_precision, val_precision],\n",
        "    'Macro Recall': [train_recall, val_recall],\n",
        "    'Macro F1-score': [train_f1, val_f1]\n",
        "})\n",
        "\n",
        "#highlight row with best validation performance\n",
        "best_val = df.iloc[df['Macro F1-score'].idxmax()]\n",
        "best_val.name = 'Best performance'\n",
        "df = df.append(best_val)\n",
        "\n",
        "#print table to console\n",
        "print(\"Multinomial Naive Bayes with TF-IDF vectorization\")\n",
        "print(df.round(3))"
      ],
      "metadata": {
        "colab": {
          "base_uri": "https://localhost:8080/"
        },
        "id": "V1c03YbtqC4Z",
        "outputId": "eeacc36d-af30-4063-e779-f76e2ab321fa"
      },
      "execution_count": 86,
      "outputs": [
        {
          "output_type": "stream",
          "name": "stderr",
          "text": [
            "/usr/local/lib/python3.9/dist-packages/sklearn/feature_extraction/text.py:528: UserWarning: The parameter 'token_pattern' will not be used since 'tokenizer' is not None'\n",
            "  warnings.warn(\n"
          ]
        },
        {
          "output_type": "stream",
          "name": "stdout",
          "text": [
            "Multinomial Naive Bayes with TF-IDF vectorization\n",
            "                         Set  Accuracy  Macro Precision  Macro Recall  Macro F1-score\n",
            "0                 Training    0.986     0.987            0.985         0.986         \n",
            "1                 Validation  0.782     0.832            0.777         0.779         \n",
            "Best performance  Training    0.986     0.987            0.985         0.986         \n"
          ]
        }
      ]
    },
    {
      "cell_type": "markdown",
      "source": [
        "# Q4 -  Parameter Tuning"
      ],
      "metadata": {
        "id": "4uCTYWj3Y4HZ"
      }
    },
    {
      "cell_type": "markdown",
      "source": [
        "Parameter Tuning of LogisticRegression with TF-IDF vectorisation for both the vectorizer and classifier on the validation set. Tuned Parameters:\n",
        "\n",
        "\n",
        "1.   Classifier - Regularisation C value (typical values might be powers of 10(from 10^-3 to 10^5)\n",
        "2.   Vectorizer - Parameters: sublinear_tf and max_features (vocabulary size) (in a range None to 50k)\n",
        "3.   My own parameter chosen for tuning: Vectorizer - max_df\n",
        "\n",
        "\n",
        "\n"
      ],
      "metadata": {
        "id": "qOOvdWz74kco"
      }
    },
    {
      "cell_type": "code",
      "source": [
        "from sklearn.model_selection import ParameterGrid\n",
        "#the following comments document values that I investigated during tuning\n",
        "#c_values = [10**i for i in range(-3, 6)]\n",
        "#c_values = [i for i in range(1,11)]\n",
        "#c_values = [1 + i*(3-1)/9 for i in range(10)]\n",
        "# param_grid = {\n",
        "#     'sublinear_tf': [True, False], \n",
        "#     'max_features': [None, 1000,5000,10000,20000,30000,40000,50000]\n",
        "#     }\n",
        "#'max_features': 10000, 'sublinear_tf': True\n",
        "# param_grid = {\n",
        "#     'max_df' : [0.1, 0.5, 0.75, 0.9, 1.0]\n",
        "# }\n",
        "param_grid = {\n",
        "    'max_df' : [0.1, 0.2, 0.3, 0.4, 0.5]\n",
        "}\n",
        "#for c_value in c_values:\n",
        "for params in ParameterGrid(param_grid):\n",
        "  print(\"\\n\")\n",
        "  vectorizer = TfidfVectorizer(tokenizer=spacyfy, sublinear_tf = True, max_features = 10000, max_df = params[\"max_df\"])\n",
        "  texts_train_tfidf = vectorizer.fit_transform(texts_train)\n",
        "  texts_val_tfidf = vectorizer.transform(texts_val)\n",
        "\n",
        "  clf_lr_tfidf = LogisticRegression(C = 1.7)\n",
        "  clf_lr_tfidf.fit(texts_train_tfidf, labels_train)\n",
        "\n",
        "  labels_train_predicted = clf_lr_tfidf.predict(texts_train_tfidf)\n",
        "  labels_val_predicted_lrtfidf = clf_lr_tfidf.predict(texts_val_tfidf)\n",
        "\n",
        "  #report = classification_report(labels_val, labels_predicted)\n",
        "  train_accuracy = accuracy_score(labels_train, labels_train_predicted)\n",
        "  train_precision = precision_score(labels_train, labels_train_predicted, average='macro')\n",
        "  train_recall = recall_score(labels_train, labels_train_predicted, average='macro')\n",
        "  train_f1 = f1_score(labels_train, labels_train_predicted, average='macro')\n",
        "\n",
        "  val_accuracy = accuracy_score(labels_val, labels_val_predicted_lrtfidf)\n",
        "  val_precision = precision_score(labels_val, labels_val_predicted_lrtfidf, average='macro')\n",
        "  val_recall = recall_score(labels_val, labels_val_predicted_lrtfidf, average='macro')\n",
        "  val_f1 = f1_score(labels_val, labels_val_predicted_lrtfidf, average='macro')\n",
        "\n",
        "  #print evaluation metrics\n",
        "  #create table of evaluation metrics\n",
        "  df = pd.DataFrame({\n",
        "      'Set': ['Validation'],\n",
        "      'Accuracy': [val_accuracy],\n",
        "      'Macro Precision': [val_precision],\n",
        "      'Macro Recall': [val_recall],\n",
        "      'Macro F1-score': [val_f1]\n",
        "  })\n",
        "\n",
        "  #highlight row with best validation performance\n",
        "  best_val = df.iloc[df['Macro F1-score'].idxmax()]\n",
        "\n",
        "  #print table to console\n",
        "  print(\"LogisticRegression with TF-IDF vectorization \" + str(params))\n",
        "  print(df.round(8))"
      ],
      "metadata": {
        "colab": {
          "base_uri": "https://localhost:8080/"
        },
        "id": "Ldq6PbU_5QJw",
        "outputId": "68b51f6d-b80c-414a-f352-e1d97631f0bf"
      },
      "execution_count": 87,
      "outputs": [
        {
          "output_type": "stream",
          "name": "stdout",
          "text": [
            "\n",
            "\n"
          ]
        },
        {
          "output_type": "stream",
          "name": "stderr",
          "text": [
            "/usr/local/lib/python3.9/dist-packages/sklearn/feature_extraction/text.py:528: UserWarning: The parameter 'token_pattern' will not be used since 'tokenizer' is not None'\n",
            "  warnings.warn(\n"
          ]
        },
        {
          "output_type": "stream",
          "name": "stdout",
          "text": [
            "LogisticRegression with TF-IDF vectorization {'max_df': 0.1}\n",
            "          Set  Accuracy  Macro Precision  Macro Recall  Macro F1-score\n",
            "0  Validation  0.805     0.812999         0.804349      0.80375       \n",
            "\n",
            "\n"
          ]
        },
        {
          "output_type": "stream",
          "name": "stderr",
          "text": [
            "/usr/local/lib/python3.9/dist-packages/sklearn/feature_extraction/text.py:528: UserWarning: The parameter 'token_pattern' will not be used since 'tokenizer' is not None'\n",
            "  warnings.warn(\n"
          ]
        },
        {
          "output_type": "stream",
          "name": "stdout",
          "text": [
            "LogisticRegression with TF-IDF vectorization {'max_df': 0.2}\n",
            "          Set  Accuracy  Macro Precision  Macro Recall  Macro F1-score\n",
            "0  Validation  0.8375    0.851405         0.839209      0.839419      \n",
            "\n",
            "\n"
          ]
        },
        {
          "output_type": "stream",
          "name": "stderr",
          "text": [
            "/usr/local/lib/python3.9/dist-packages/sklearn/feature_extraction/text.py:528: UserWarning: The parameter 'token_pattern' will not be used since 'tokenizer' is not None'\n",
            "  warnings.warn(\n"
          ]
        },
        {
          "output_type": "stream",
          "name": "stdout",
          "text": [
            "LogisticRegression with TF-IDF vectorization {'max_df': 0.3}\n",
            "          Set  Accuracy  Macro Precision  Macro Recall  Macro F1-score\n",
            "0  Validation  0.8425    0.854945         0.842807      0.843489      \n",
            "\n",
            "\n"
          ]
        },
        {
          "output_type": "stream",
          "name": "stderr",
          "text": [
            "/usr/local/lib/python3.9/dist-packages/sklearn/feature_extraction/text.py:528: UserWarning: The parameter 'token_pattern' will not be used since 'tokenizer' is not None'\n",
            "  warnings.warn(\n"
          ]
        },
        {
          "output_type": "stream",
          "name": "stdout",
          "text": [
            "LogisticRegression with TF-IDF vectorization {'max_df': 0.4}\n",
            "          Set  Accuracy  Macro Precision  Macro Recall  Macro F1-score\n",
            "0  Validation  0.84      0.851644         0.839633      0.840785      \n",
            "\n",
            "\n"
          ]
        },
        {
          "output_type": "stream",
          "name": "stderr",
          "text": [
            "/usr/local/lib/python3.9/dist-packages/sklearn/feature_extraction/text.py:528: UserWarning: The parameter 'token_pattern' will not be used since 'tokenizer' is not None'\n",
            "  warnings.warn(\n"
          ]
        },
        {
          "output_type": "stream",
          "name": "stdout",
          "text": [
            "LogisticRegression with TF-IDF vectorization {'max_df': 0.5}\n",
            "          Set  Accuracy  Macro Precision  Macro Recall  Macro F1-score\n",
            "0  Validation  0.84      0.851644         0.839633      0.840785      \n"
          ]
        }
      ]
    },
    {
      "cell_type": "markdown",
      "source": [
        "#Q5 - Context vectors using BERT"
      ],
      "metadata": {
        "id": "8e_PbJilY7cB"
      }
    },
    {
      "cell_type": "code",
      "source": [
        "!pip install transformers datasets"
      ],
      "metadata": {
        "colab": {
          "base_uri": "https://localhost:8080/"
        },
        "id": "cFmUN-I4EqCp",
        "outputId": "1d9bdfbb-568f-4dac-8cfd-4576f88a14f2"
      },
      "execution_count": 88,
      "outputs": [
        {
          "output_type": "stream",
          "name": "stdout",
          "text": [
            "Looking in indexes: https://pypi.org/simple, https://us-python.pkg.dev/colab-wheels/public/simple/\n",
            "Requirement already satisfied: transformers in /usr/local/lib/python3.9/dist-packages (4.26.1)\n",
            "Requirement already satisfied: datasets in /usr/local/lib/python3.9/dist-packages (2.10.1)\n",
            "Requirement already satisfied: pyyaml>=5.1 in /usr/local/lib/python3.9/dist-packages (from transformers) (6.0)\n",
            "Requirement already satisfied: huggingface-hub<1.0,>=0.11.0 in /usr/local/lib/python3.9/dist-packages (from transformers) (0.13.1)\n",
            "Requirement already satisfied: tokenizers!=0.11.3,<0.14,>=0.11.1 in /usr/local/lib/python3.9/dist-packages (from transformers) (0.13.2)\n",
            "Requirement already satisfied: filelock in /usr/local/lib/python3.9/dist-packages (from transformers) (3.9.0)\n",
            "Requirement already satisfied: packaging>=20.0 in /usr/local/lib/python3.9/dist-packages (from transformers) (23.0)\n",
            "Requirement already satisfied: tqdm>=4.27 in /usr/local/lib/python3.9/dist-packages (from transformers) (4.65.0)\n",
            "Requirement already satisfied: numpy>=1.17 in /usr/local/lib/python3.9/dist-packages (from transformers) (1.22.4)\n",
            "Requirement already satisfied: regex!=2019.12.17 in /usr/local/lib/python3.9/dist-packages (from transformers) (2022.6.2)\n",
            "Requirement already satisfied: requests in /usr/local/lib/python3.9/dist-packages (from transformers) (2.25.1)\n",
            "Requirement already satisfied: xxhash in /usr/local/lib/python3.9/dist-packages (from datasets) (3.2.0)\n",
            "Requirement already satisfied: aiohttp in /usr/local/lib/python3.9/dist-packages (from datasets) (3.8.4)\n",
            "Requirement already satisfied: pyarrow>=6.0.0 in /usr/local/lib/python3.9/dist-packages (from datasets) (9.0.0)\n",
            "Requirement already satisfied: responses<0.19 in /usr/local/lib/python3.9/dist-packages (from datasets) (0.18.0)\n",
            "Requirement already satisfied: multiprocess in /usr/local/lib/python3.9/dist-packages (from datasets) (0.70.14)\n",
            "Requirement already satisfied: pandas in /usr/local/lib/python3.9/dist-packages (from datasets) (1.3.5)\n",
            "Requirement already satisfied: dill<0.3.7,>=0.3.0 in /usr/local/lib/python3.9/dist-packages (from datasets) (0.3.6)\n",
            "Requirement already satisfied: fsspec[http]>=2021.11.1 in /usr/local/lib/python3.9/dist-packages (from datasets) (2023.3.0)\n",
            "Requirement already satisfied: charset-normalizer<4.0,>=2.0 in /usr/local/lib/python3.9/dist-packages (from aiohttp->datasets) (3.1.0)\n",
            "Requirement already satisfied: frozenlist>=1.1.1 in /usr/local/lib/python3.9/dist-packages (from aiohttp->datasets) (1.3.3)\n",
            "Requirement already satisfied: yarl<2.0,>=1.0 in /usr/local/lib/python3.9/dist-packages (from aiohttp->datasets) (1.8.2)\n",
            "Requirement already satisfied: aiosignal>=1.1.2 in /usr/local/lib/python3.9/dist-packages (from aiohttp->datasets) (1.3.1)\n",
            "Requirement already satisfied: async-timeout<5.0,>=4.0.0a3 in /usr/local/lib/python3.9/dist-packages (from aiohttp->datasets) (4.0.2)\n",
            "Requirement already satisfied: attrs>=17.3.0 in /usr/local/lib/python3.9/dist-packages (from aiohttp->datasets) (22.2.0)\n",
            "Requirement already satisfied: multidict<7.0,>=4.5 in /usr/local/lib/python3.9/dist-packages (from aiohttp->datasets) (6.0.4)\n",
            "Requirement already satisfied: typing-extensions>=3.7.4.3 in /usr/local/lib/python3.9/dist-packages (from huggingface-hub<1.0,>=0.11.0->transformers) (4.5.0)\n",
            "Requirement already satisfied: idna<3,>=2.5 in /usr/local/lib/python3.9/dist-packages (from requests->transformers) (2.10)\n",
            "Requirement already satisfied: urllib3<1.27,>=1.21.1 in /usr/local/lib/python3.9/dist-packages (from requests->transformers) (1.26.14)\n",
            "Requirement already satisfied: chardet<5,>=3.0.2 in /usr/local/lib/python3.9/dist-packages (from requests->transformers) (4.0.0)\n",
            "Requirement already satisfied: certifi>=2017.4.17 in /usr/local/lib/python3.9/dist-packages (from requests->transformers) (2022.12.7)\n",
            "Requirement already satisfied: pytz>=2017.3 in /usr/local/lib/python3.9/dist-packages (from pandas->datasets) (2022.7.1)\n",
            "Requirement already satisfied: python-dateutil>=2.7.3 in /usr/local/lib/python3.9/dist-packages (from pandas->datasets) (2.8.2)\n",
            "Requirement already satisfied: six>=1.5 in /usr/local/lib/python3.9/dist-packages (from python-dateutil>=2.7.3->pandas->datasets) (1.15.0)\n"
          ]
        }
      ]
    },
    {
      "cell_type": "code",
      "source": [
        "import torch\n",
        "from transformers import pipeline\n",
        "\n",
        "pipe = pipeline('feature-extraction', model=\"roberta-base\")"
      ],
      "metadata": {
        "id": "yvBnNbLhZCly",
        "colab": {
          "base_uri": "https://localhost:8080/"
        },
        "outputId": "3332af15-4f72-4969-bc22-38b803f063d0"
      },
      "execution_count": 89,
      "outputs": [
        {
          "output_type": "stream",
          "name": "stderr",
          "text": [
            "loading configuration file config.json from cache at /root/.cache/huggingface/hub/models--roberta-base/snapshots/bc2764f8af2e92b6eb5679868df33e224075ca68/config.json\n",
            "Model config RobertaConfig {\n",
            "  \"_name_or_path\": \"roberta-base\",\n",
            "  \"architectures\": [\n",
            "    \"RobertaForMaskedLM\"\n",
            "  ],\n",
            "  \"attention_probs_dropout_prob\": 0.1,\n",
            "  \"bos_token_id\": 0,\n",
            "  \"classifier_dropout\": null,\n",
            "  \"eos_token_id\": 2,\n",
            "  \"hidden_act\": \"gelu\",\n",
            "  \"hidden_dropout_prob\": 0.1,\n",
            "  \"hidden_size\": 768,\n",
            "  \"initializer_range\": 0.02,\n",
            "  \"intermediate_size\": 3072,\n",
            "  \"layer_norm_eps\": 1e-05,\n",
            "  \"max_position_embeddings\": 514,\n",
            "  \"model_type\": \"roberta\",\n",
            "  \"num_attention_heads\": 12,\n",
            "  \"num_hidden_layers\": 12,\n",
            "  \"pad_token_id\": 1,\n",
            "  \"position_embedding_type\": \"absolute\",\n",
            "  \"transformers_version\": \"4.26.1\",\n",
            "  \"type_vocab_size\": 1,\n",
            "  \"use_cache\": true,\n",
            "  \"vocab_size\": 50265\n",
            "}\n",
            "\n",
            "loading configuration file config.json from cache at /root/.cache/huggingface/hub/models--roberta-base/snapshots/bc2764f8af2e92b6eb5679868df33e224075ca68/config.json\n",
            "Model config RobertaConfig {\n",
            "  \"_name_or_path\": \"roberta-base\",\n",
            "  \"architectures\": [\n",
            "    \"RobertaForMaskedLM\"\n",
            "  ],\n",
            "  \"attention_probs_dropout_prob\": 0.1,\n",
            "  \"bos_token_id\": 0,\n",
            "  \"classifier_dropout\": null,\n",
            "  \"eos_token_id\": 2,\n",
            "  \"hidden_act\": \"gelu\",\n",
            "  \"hidden_dropout_prob\": 0.1,\n",
            "  \"hidden_size\": 768,\n",
            "  \"initializer_range\": 0.02,\n",
            "  \"intermediate_size\": 3072,\n",
            "  \"layer_norm_eps\": 1e-05,\n",
            "  \"max_position_embeddings\": 514,\n",
            "  \"model_type\": \"roberta\",\n",
            "  \"num_attention_heads\": 12,\n",
            "  \"num_hidden_layers\": 12,\n",
            "  \"pad_token_id\": 1,\n",
            "  \"position_embedding_type\": \"absolute\",\n",
            "  \"transformers_version\": \"4.26.1\",\n",
            "  \"type_vocab_size\": 1,\n",
            "  \"use_cache\": true,\n",
            "  \"vocab_size\": 50265\n",
            "}\n",
            "\n",
            "loading weights file pytorch_model.bin from cache at /root/.cache/huggingface/hub/models--roberta-base/snapshots/bc2764f8af2e92b6eb5679868df33e224075ca68/pytorch_model.bin\n",
            "Some weights of the model checkpoint at roberta-base were not used when initializing RobertaModel: ['lm_head.dense.bias', 'lm_head.decoder.weight', 'lm_head.dense.weight', 'lm_head.bias', 'lm_head.layer_norm.weight', 'lm_head.layer_norm.bias']\n",
            "- This IS expected if you are initializing RobertaModel from the checkpoint of a model trained on another task or with another architecture (e.g. initializing a BertForSequenceClassification model from a BertForPreTraining model).\n",
            "- This IS NOT expected if you are initializing RobertaModel from the checkpoint of a model that you expect to be exactly identical (initializing a BertForSequenceClassification model from a BertForSequenceClassification model).\n",
            "All the weights of RobertaModel were initialized from the model checkpoint at roberta-base.\n",
            "If your task is similar to the task the model of the checkpoint was trained on, you can already use RobertaModel for predictions without further training.\n",
            "Could not locate the tokenizer configuration file, will try to use the model config instead.\n",
            "loading configuration file config.json from cache at /root/.cache/huggingface/hub/models--roberta-base/snapshots/bc2764f8af2e92b6eb5679868df33e224075ca68/config.json\n",
            "Model config RobertaConfig {\n",
            "  \"_name_or_path\": \"roberta-base\",\n",
            "  \"architectures\": [\n",
            "    \"RobertaForMaskedLM\"\n",
            "  ],\n",
            "  \"attention_probs_dropout_prob\": 0.1,\n",
            "  \"bos_token_id\": 0,\n",
            "  \"classifier_dropout\": null,\n",
            "  \"eos_token_id\": 2,\n",
            "  \"hidden_act\": \"gelu\",\n",
            "  \"hidden_dropout_prob\": 0.1,\n",
            "  \"hidden_size\": 768,\n",
            "  \"initializer_range\": 0.02,\n",
            "  \"intermediate_size\": 3072,\n",
            "  \"layer_norm_eps\": 1e-05,\n",
            "  \"max_position_embeddings\": 514,\n",
            "  \"model_type\": \"roberta\",\n",
            "  \"num_attention_heads\": 12,\n",
            "  \"num_hidden_layers\": 12,\n",
            "  \"pad_token_id\": 1,\n",
            "  \"position_embedding_type\": \"absolute\",\n",
            "  \"transformers_version\": \"4.26.1\",\n",
            "  \"type_vocab_size\": 1,\n",
            "  \"use_cache\": true,\n",
            "  \"vocab_size\": 50265\n",
            "}\n",
            "\n",
            "loading file vocab.json from cache at /root/.cache/huggingface/hub/models--roberta-base/snapshots/bc2764f8af2e92b6eb5679868df33e224075ca68/vocab.json\n",
            "loading file merges.txt from cache at /root/.cache/huggingface/hub/models--roberta-base/snapshots/bc2764f8af2e92b6eb5679868df33e224075ca68/merges.txt\n",
            "loading file tokenizer.json from cache at /root/.cache/huggingface/hub/models--roberta-base/snapshots/bc2764f8af2e92b6eb5679868df33e224075ca68/tokenizer.json\n",
            "loading file added_tokens.json from cache at None\n",
            "loading file special_tokens_map.json from cache at None\n",
            "loading file tokenizer_config.json from cache at None\n",
            "loading configuration file config.json from cache at /root/.cache/huggingface/hub/models--roberta-base/snapshots/bc2764f8af2e92b6eb5679868df33e224075ca68/config.json\n",
            "Model config RobertaConfig {\n",
            "  \"_name_or_path\": \"roberta-base\",\n",
            "  \"architectures\": [\n",
            "    \"RobertaForMaskedLM\"\n",
            "  ],\n",
            "  \"attention_probs_dropout_prob\": 0.1,\n",
            "  \"bos_token_id\": 0,\n",
            "  \"classifier_dropout\": null,\n",
            "  \"eos_token_id\": 2,\n",
            "  \"hidden_act\": \"gelu\",\n",
            "  \"hidden_dropout_prob\": 0.1,\n",
            "  \"hidden_size\": 768,\n",
            "  \"initializer_range\": 0.02,\n",
            "  \"intermediate_size\": 3072,\n",
            "  \"layer_norm_eps\": 1e-05,\n",
            "  \"max_position_embeddings\": 514,\n",
            "  \"model_type\": \"roberta\",\n",
            "  \"num_attention_heads\": 12,\n",
            "  \"num_hidden_layers\": 12,\n",
            "  \"pad_token_id\": 1,\n",
            "  \"position_embedding_type\": \"absolute\",\n",
            "  \"transformers_version\": \"4.26.1\",\n",
            "  \"type_vocab_size\": 1,\n",
            "  \"use_cache\": true,\n",
            "  \"vocab_size\": 50265\n",
            "}\n",
            "\n"
          ]
        }
      ]
    },
    {
      "cell_type": "markdown",
      "source": [
        "As roberta-base has a maximum sequence length of 512 tokens, and our training set for eg. already contains texts up to 726 tokens long, we must use a function that cuts down strings. 420 is the maximum value that I have found, through trial and error, to let the expanded size of the tensor match the existing size (514) at non-singleton dimension 1."
      ],
      "metadata": {
        "id": "NUPuXZY7MYYd"
      }
    },
    {
      "cell_type": "code",
      "source": [
        "def ensure_max_length(text_set, max_length):\n",
        "  constrained_text_set = []\n",
        "  for text in text_set:\n",
        "    temp = text.split()\n",
        "    if len(temp) > max_length:\n",
        "      temp = temp[:max_length]\n",
        "    constrained_text = \" \".join(temp)\n",
        "    constrained_text_set.append(constrained_text)\n",
        "  return constrained_text_set\n",
        "\n",
        "texts_train_cnstd = ensure_max_length(texts_train, 35)\n",
        "texts_val_cnstd = ensure_max_length(texts_val, 35)\n",
        "texts_test_cnstd = ensure_max_length(texts_test, 35)"
      ],
      "metadata": {
        "id": "valDyA0rL1ZY"
      },
      "execution_count": 90,
      "outputs": []
    },
    {
      "cell_type": "code",
      "source": [],
      "metadata": {
        "id": "xV_3KQn3_X21"
      },
      "execution_count": 90,
      "outputs": []
    },
    {
      "cell_type": "code",
      "source": [
        "print(len(texts_train_cnstd[3].split()))"
      ],
      "metadata": {
        "colab": {
          "base_uri": "https://localhost:8080/"
        },
        "id": "K228CRCVPjvG",
        "outputId": "a1f8b572-dbd8-4197-9927-914dd69bd8be"
      },
      "execution_count": 91,
      "outputs": [
        {
          "output_type": "stream",
          "name": "stdout",
          "text": [
            "35\n"
          ]
        }
      ]
    },
    {
      "cell_type": "code",
      "source": [
        "# encoded_texts_train = pipe(texts_train_cnstd, return_tensors='pt')\n",
        "# encoded_texts_val = pipe(texts_val_cnstd, return_tensors='pt')\n",
        "# encoded_texts_test = pipe(texts_test_cnstd, return_tensors='pt')"
      ],
      "metadata": {
        "id": "nnDG65PGL-8f"
      },
      "execution_count": 92,
      "outputs": []
    },
    {
      "cell_type": "code",
      "source": [
        "from tqdm import tqdm\n",
        "encoded_texts_train = []\n",
        "for text in tqdm(texts_train_cnstd):\n",
        "  output = pipe(text, max_length=512, return_tensors='pt')\n",
        "  encoded_texts_train.append(output)"
      ],
      "metadata": {
        "colab": {
          "base_uri": "https://localhost:8080/"
        },
        "id": "DxkHIV1ZOXOL",
        "outputId": "ae4f0ffb-9f60-4a3e-eb1e-9b8a540aae1c"
      },
      "execution_count": 93,
      "outputs": [
        {
          "output_type": "stream",
          "name": "stderr",
          "text": [
            "100%|██████████| 1200/1200 [04:03<00:00,  4.93it/s]\n"
          ]
        }
      ]
    },
    {
      "cell_type": "code",
      "source": [
        "encoded_texts_val = []\n",
        "for text in tqdm(texts_val_cnstd):\n",
        "  output = pipe(text, max_length=512, return_tensors='pt')\n",
        "  encoded_texts_val.append(output)"
      ],
      "metadata": {
        "colab": {
          "base_uri": "https://localhost:8080/"
        },
        "id": "cX1LfML7VAUW",
        "outputId": "54b14c22-789c-47ab-cd67-b7fe61e7872c"
      },
      "execution_count": 94,
      "outputs": [
        {
          "output_type": "stream",
          "name": "stderr",
          "text": [
            "100%|██████████| 400/400 [01:22<00:00,  4.85it/s]\n"
          ]
        }
      ]
    },
    {
      "cell_type": "code",
      "source": [
        "encoded_texts_test = []\n",
        "for text in tqdm(texts_test_cnstd):\n",
        "  output = pipe(text, max_length=512, return_tensors='pt')\n",
        "  encoded_texts_test.append(output)"
      ],
      "metadata": {
        "colab": {
          "base_uri": "https://localhost:8080/"
        },
        "id": "QzoRrXucVSVB",
        "outputId": "0718b681-a5ce-4766-87de-7bb2b803a772"
      },
      "execution_count": 95,
      "outputs": [
        {
          "output_type": "stream",
          "name": "stderr",
          "text": [
            "100%|██████████| 400/400 [01:16<00:00,  5.20it/s]\n"
          ]
        }
      ]
    },
    {
      "cell_type": "code",
      "source": [
        "enc_texts_train_st = [text[0][0].numpy() for text in encoded_texts_train]\n",
        "enc_texts_val_st = [text[0][0].numpy() for text in encoded_texts_val]\n",
        "enc_texts_test_st = [text[0][0].numpy() for text in encoded_texts_test]\n",
        "\n",
        "#enc_texts_train_st = [pipe(text)[0][0].numpy() for text in texts_train_cnstd]"
      ],
      "metadata": {
        "id": "qPfY9jiaYv_-"
      },
      "execution_count": 96,
      "outputs": []
    },
    {
      "cell_type": "code",
      "source": [
        "# enc_texts_train_st = [text[:,0] for text in encoded_texts_train]\n",
        "# enc_texts_val_st = [text[:,0] for text in encoded_texts_val]\n",
        "# enc_texts_test_st = [text[:,0] for text in encoded_texts_test]"
      ],
      "metadata": {
        "id": "cK4VnWtzwTod"
      },
      "execution_count": 97,
      "outputs": []
    },
    {
      "cell_type": "code",
      "source": [
        "from sklearn.linear_model import LogisticRegression\n",
        "from sklearn.metrics import accuracy_score, precision_score, recall_score, f1_score, classification_report\n",
        "clf_lr_cv = LogisticRegression(max_iter=1000)\n",
        "clf_lr_cv.fit(enc_texts_train_st, labels_train)\n",
        "\n",
        "labels_train_predicted = clf_lr_cv.predict(enc_texts_train_st)\n",
        "labels_val_predicted = clf_lr_cv.predict(enc_texts_val_st)\n",
        "\n",
        "\n",
        "#report = classification_report(labels_val, labels_predicted)\n",
        "parameters = [[labels_train, labels_train_predicted],[labels_val, labels_val_predicted]]\n",
        "results = []\n",
        "for parameter_set in parameters:\n",
        "  accuracy = accuracy_score(parameter_set[0], parameter_set[1])\n",
        "  precision = precision_score(parameter_set[0], parameter_set[1], average='macro')\n",
        "  recall = recall_score(parameter_set[0], parameter_set[1], average='macro')\n",
        "  f1 = f1_score(parameter_set[0], parameter_set[1], average='macro')\n",
        "\n",
        "  result_list = [accuracy, precision, recall, f1]\n",
        "  results.append(result_list)\n",
        "\n",
        "#print evaluation metrics\n",
        "#create table of evaluation metrics\n",
        "df = pd.DataFrame({\n",
        "    'Set':              ['Training', 'Validation'],\n",
        "    'Accuracy':         [results[0][0], results[1][0]],\n",
        "    'Macro Precision':  [results[0][1], results[1][1]],\n",
        "    'Macro Recall':     [results[0][2], results[1][2]],\n",
        "    'Macro F1-score':   [results[0][3], results[1][3]]\n",
        "})\n",
        "\n",
        "#highlight row with best validation performance\n",
        "best_val = df.iloc[df['Macro F1-score'].idxmax()]\n",
        "best_val.name = 'Best performance'\n",
        "df = df.append(best_val)\n",
        "\n",
        "#print table to console\n",
        "print(\"LogisticRegression on the first encoded context vector per text using 'feature-extraction' and 'roberta-base'S\")\n",
        "print(df.round(3))"
      ],
      "metadata": {
        "colab": {
          "base_uri": "https://localhost:8080/"
        },
        "id": "gqjya64tRpH9",
        "outputId": "1ff58c01-3ab8-4f47-e7e7-824549dae686"
      },
      "execution_count": 98,
      "outputs": [
        {
          "output_type": "stream",
          "name": "stdout",
          "text": [
            "LogisticRegression on the first encoded context vector per text using 'feature-extraction' and 'roberta-base'S\n",
            "                         Set  Accuracy  Macro Precision  Macro Recall  Macro F1-score\n",
            "0                 Training    0.846     0.854            0.848         0.85          \n",
            "1                 Validation  0.778     0.773            0.771         0.77          \n",
            "Best performance  Training    0.846     0.854            0.848         0.85          \n"
          ]
        }
      ]
    },
    {
      "cell_type": "markdown",
      "source": [
        "Next, we train an end-to-end classifier using 'trainer'"
      ],
      "metadata": {
        "id": "Va_IIuNJd4Re"
      }
    },
    {
      "cell_type": "code",
      "source": [
        "learning_rate = 1e-4\n",
        "batch_size = 16\n",
        "epochs = 1 \n",
        "weight_decay = 0.0"
      ],
      "metadata": {
        "id": "ys7yzM0Ld3zQ"
      },
      "execution_count": 99,
      "outputs": []
    },
    {
      "cell_type": "code",
      "source": [
        "from transformers import TrainingArguments, Trainer\n",
        "\n",
        "training_args = TrainingArguments(\n",
        "    output_dir=\"my_awesome_model\", # HuggingFace wants a name for your model\n",
        "    evaluation_strategy=\"epoch\", # How often we want to evaluate the model\n",
        "    learning_rate=learning_rate, # Hyperparameter\n",
        "    per_device_train_batch_size=batch_size, # Hyperparameter\n",
        "    per_device_eval_batch_size=batch_size, # Hyperparameter\n",
        "    num_train_epochs=epochs, # Hyperparameter\n",
        "    weight_decay=weight_decay, # Hyperparameter\n",
        ")"
      ],
      "metadata": {
        "colab": {
          "base_uri": "https://localhost:8080/"
        },
        "id": "0NbS3YeKeEym",
        "outputId": "c12a350c-47a5-47ed-be99-bbb8049783ea"
      },
      "execution_count": 100,
      "outputs": [
        {
          "output_type": "stream",
          "name": "stderr",
          "text": [
            "PyTorch: setting up devices\n",
            "The default value for the training argument `--report_to` will change in v5 (from all installed integrations to none). In v5, you will need to use `--report_to all` to get the same behavior as now. You should start updating your code and make this info disappear :-).\n"
          ]
        }
      ]
    },
    {
      "cell_type": "code",
      "source": [
        "from transformers import AutoTokenizer\n",
        "tokenizer = AutoTokenizer.from_pretrained(\"roberta-base\")"
      ],
      "metadata": {
        "colab": {
          "base_uri": "https://localhost:8080/"
        },
        "id": "2Eti_eT9eVFY",
        "outputId": "54ca9b71-c128-45cf-ea20-affaf9eefc50"
      },
      "execution_count": 101,
      "outputs": [
        {
          "output_type": "stream",
          "name": "stderr",
          "text": [
            "Could not locate the tokenizer configuration file, will try to use the model config instead.\n",
            "loading configuration file config.json from cache at /root/.cache/huggingface/hub/models--roberta-base/snapshots/bc2764f8af2e92b6eb5679868df33e224075ca68/config.json\n",
            "Model config RobertaConfig {\n",
            "  \"_name_or_path\": \"roberta-base\",\n",
            "  \"architectures\": [\n",
            "    \"RobertaForMaskedLM\"\n",
            "  ],\n",
            "  \"attention_probs_dropout_prob\": 0.1,\n",
            "  \"bos_token_id\": 0,\n",
            "  \"classifier_dropout\": null,\n",
            "  \"eos_token_id\": 2,\n",
            "  \"hidden_act\": \"gelu\",\n",
            "  \"hidden_dropout_prob\": 0.1,\n",
            "  \"hidden_size\": 768,\n",
            "  \"initializer_range\": 0.02,\n",
            "  \"intermediate_size\": 3072,\n",
            "  \"layer_norm_eps\": 1e-05,\n",
            "  \"max_position_embeddings\": 514,\n",
            "  \"model_type\": \"roberta\",\n",
            "  \"num_attention_heads\": 12,\n",
            "  \"num_hidden_layers\": 12,\n",
            "  \"pad_token_id\": 1,\n",
            "  \"position_embedding_type\": \"absolute\",\n",
            "  \"transformers_version\": \"4.26.1\",\n",
            "  \"type_vocab_size\": 1,\n",
            "  \"use_cache\": true,\n",
            "  \"vocab_size\": 50265\n",
            "}\n",
            "\n",
            "loading file vocab.json from cache at /root/.cache/huggingface/hub/models--roberta-base/snapshots/bc2764f8af2e92b6eb5679868df33e224075ca68/vocab.json\n",
            "loading file merges.txt from cache at /root/.cache/huggingface/hub/models--roberta-base/snapshots/bc2764f8af2e92b6eb5679868df33e224075ca68/merges.txt\n",
            "loading file tokenizer.json from cache at /root/.cache/huggingface/hub/models--roberta-base/snapshots/bc2764f8af2e92b6eb5679868df33e224075ca68/tokenizer.json\n",
            "loading file added_tokens.json from cache at None\n",
            "loading file special_tokens_map.json from cache at None\n",
            "loading file tokenizer_config.json from cache at None\n",
            "loading configuration file config.json from cache at /root/.cache/huggingface/hub/models--roberta-base/snapshots/bc2764f8af2e92b6eb5679868df33e224075ca68/config.json\n",
            "Model config RobertaConfig {\n",
            "  \"_name_or_path\": \"roberta-base\",\n",
            "  \"architectures\": [\n",
            "    \"RobertaForMaskedLM\"\n",
            "  ],\n",
            "  \"attention_probs_dropout_prob\": 0.1,\n",
            "  \"bos_token_id\": 0,\n",
            "  \"classifier_dropout\": null,\n",
            "  \"eos_token_id\": 2,\n",
            "  \"hidden_act\": \"gelu\",\n",
            "  \"hidden_dropout_prob\": 0.1,\n",
            "  \"hidden_size\": 768,\n",
            "  \"initializer_range\": 0.02,\n",
            "  \"intermediate_size\": 3072,\n",
            "  \"layer_norm_eps\": 1e-05,\n",
            "  \"max_position_embeddings\": 514,\n",
            "  \"model_type\": \"roberta\",\n",
            "  \"num_attention_heads\": 12,\n",
            "  \"num_hidden_layers\": 12,\n",
            "  \"pad_token_id\": 1,\n",
            "  \"position_embedding_type\": \"absolute\",\n",
            "  \"transformers_version\": \"4.26.1\",\n",
            "  \"type_vocab_size\": 1,\n",
            "  \"use_cache\": true,\n",
            "  \"vocab_size\": 50265\n",
            "}\n",
            "\n"
          ]
        }
      ]
    },
    {
      "cell_type": "code",
      "source": [
        "from transformers import AutoConfig, AutoModelForSequenceClassification\n",
        "\n",
        "config = AutoConfig.from_pretrained(\"roberta-base\", num_labels=9)\n",
        "model = AutoModelForSequenceClassification.from_config(config)"
      ],
      "metadata": {
        "colab": {
          "base_uri": "https://localhost:8080/"
        },
        "id": "tL1aYeHTexEA",
        "outputId": "f7c361c2-842e-4d75-9d0a-9c4cb81f5783"
      },
      "execution_count": 102,
      "outputs": [
        {
          "output_type": "stream",
          "name": "stderr",
          "text": [
            "loading configuration file config.json from cache at /root/.cache/huggingface/hub/models--roberta-base/snapshots/bc2764f8af2e92b6eb5679868df33e224075ca68/config.json\n",
            "Model config RobertaConfig {\n",
            "  \"_name_or_path\": \"roberta-base\",\n",
            "  \"architectures\": [\n",
            "    \"RobertaForMaskedLM\"\n",
            "  ],\n",
            "  \"attention_probs_dropout_prob\": 0.1,\n",
            "  \"bos_token_id\": 0,\n",
            "  \"classifier_dropout\": null,\n",
            "  \"eos_token_id\": 2,\n",
            "  \"hidden_act\": \"gelu\",\n",
            "  \"hidden_dropout_prob\": 0.1,\n",
            "  \"hidden_size\": 768,\n",
            "  \"id2label\": {\n",
            "    \"0\": \"LABEL_0\",\n",
            "    \"1\": \"LABEL_1\",\n",
            "    \"2\": \"LABEL_2\",\n",
            "    \"3\": \"LABEL_3\",\n",
            "    \"4\": \"LABEL_4\",\n",
            "    \"5\": \"LABEL_5\",\n",
            "    \"6\": \"LABEL_6\",\n",
            "    \"7\": \"LABEL_7\",\n",
            "    \"8\": \"LABEL_8\"\n",
            "  },\n",
            "  \"initializer_range\": 0.02,\n",
            "  \"intermediate_size\": 3072,\n",
            "  \"label2id\": {\n",
            "    \"LABEL_0\": 0,\n",
            "    \"LABEL_1\": 1,\n",
            "    \"LABEL_2\": 2,\n",
            "    \"LABEL_3\": 3,\n",
            "    \"LABEL_4\": 4,\n",
            "    \"LABEL_5\": 5,\n",
            "    \"LABEL_6\": 6,\n",
            "    \"LABEL_7\": 7,\n",
            "    \"LABEL_8\": 8\n",
            "  },\n",
            "  \"layer_norm_eps\": 1e-05,\n",
            "  \"max_position_embeddings\": 514,\n",
            "  \"model_type\": \"roberta\",\n",
            "  \"num_attention_heads\": 12,\n",
            "  \"num_hidden_layers\": 12,\n",
            "  \"pad_token_id\": 1,\n",
            "  \"position_embedding_type\": \"absolute\",\n",
            "  \"transformers_version\": \"4.26.1\",\n",
            "  \"type_vocab_size\": 1,\n",
            "  \"use_cache\": true,\n",
            "  \"vocab_size\": 50265\n",
            "}\n",
            "\n"
          ]
        }
      ]
    },
    {
      "cell_type": "code",
      "source": [
        "from sklearn.preprocessing import LabelEncoder\n",
        "labels = ['NintendoSwitch','tea','PS4','Coffee','pcgaming','antiMLM','xbox','HydroHomies','Soda']\n",
        "label_encoder = LabelEncoder()\n",
        "encoded_labels_train = label_encoder.fit_transform(labels_train)\n",
        "encoded_labels_val = label_encoder.fit_transform(labels_val)\n",
        "encoded_labels_train"
      ],
      "metadata": {
        "colab": {
          "base_uri": "https://localhost:8080/"
        },
        "id": "ndSda8v9g8Yk",
        "outputId": "5596c2c4-c3b4-4657-fa15-8cd0c8e837e4"
      },
      "execution_count": 103,
      "outputs": [
        {
          "output_type": "execute_result",
          "data": {
            "text/plain": [
              "array([3, 0, 5, ..., 7, 5, 4])"
            ]
          },
          "metadata": {},
          "execution_count": 103
        }
      ]
    },
    {
      "cell_type": "code",
      "source": [
        "encoded_texts_train_for_input_ids = tokenizer(texts_train_cnstd, padding=True, truncation=True, return_tensors=\"pt\")\n",
        "encoded_texts_val_for_input_ids = tokenizer(texts_val_cnstd, padding=True, truncation=True, return_tensors=\"pt\")\n",
        "\n",
        "input_ids_train = encoded_texts_train_for_input_ids[\"input_ids\"]\n",
        "input_ids_val = encoded_texts_val_for_input_ids[\"input_ids\"]"
      ],
      "metadata": {
        "id": "dJe4qEG2nKua"
      },
      "execution_count": 104,
      "outputs": []
    },
    {
      "cell_type": "code",
      "source": [
        "print(input_ids_train)"
      ],
      "metadata": {
        "colab": {
          "base_uri": "https://localhost:8080/"
        },
        "id": "U2Oy47VjpUCR",
        "outputId": "7cf9be98-bdda-4b34-9ab6-eff0386bd093"
      },
      "execution_count": 105,
      "outputs": [
        {
          "output_type": "stream",
          "name": "stdout",
          "text": [
            "tensor([[    0, 10975,  2709,  ...,     1,     1,     1],\n",
            "        [    0,   387, 12807,  ...,     1,     1,     1],\n",
            "        [    0, 28062,  6228,  ...,     1,     1,     1],\n",
            "        ...,\n",
            "        [    0, 29042, 25440,  ...,     1,     1,     1],\n",
            "        [    0,   100,   437,  ...,     1,     1,     1],\n",
            "        [    0, 42968, 17132,  ...,     1,     1,     1]])\n"
          ]
        }
      ]
    },
    {
      "cell_type": "code",
      "source": [
        "train_dataset_dict = {\"input_ids\": input_ids_train, \"labels\": encoded_labels_train}\n",
        "eval_dataset_dict = {\"input_ids\": input_ids_val, \"labels\": encoded_labels_val}\n",
        "print(len(eval_dataset_dict[\"labels\"]))"
      ],
      "metadata": {
        "colab": {
          "base_uri": "https://localhost:8080/"
        },
        "id": "FgJ8lfT4gSVw",
        "outputId": "a43471bc-f448-41c6-ae16-4e5b66671107"
      },
      "execution_count": 106,
      "outputs": [
        {
          "output_type": "stream",
          "name": "stdout",
          "text": [
            "400\n"
          ]
        }
      ]
    },
    {
      "cell_type": "code",
      "source": [
        "from datasets import Dataset\n",
        "train_dataset = Dataset.from_dict(train_dataset_dict)\n",
        "eval_dataset = Dataset.from_dict(eval_dataset_dict)"
      ],
      "metadata": {
        "id": "T2wLigePk1Id"
      },
      "execution_count": 107,
      "outputs": []
    },
    {
      "cell_type": "code",
      "source": [
        "print(eval_dataset)"
      ],
      "metadata": {
        "colab": {
          "base_uri": "https://localhost:8080/"
        },
        "id": "5ZO5cBPpxLXd",
        "outputId": "3d7f7428-eb29-4c12-b4f4-852ba5b36369"
      },
      "execution_count": 108,
      "outputs": [
        {
          "output_type": "stream",
          "name": "stdout",
          "text": [
            "Dataset({\n",
            "    features: ['input_ids', 'labels'],\n",
            "    num_rows: 400\n",
            "})\n"
          ]
        }
      ]
    },
    {
      "cell_type": "code",
      "source": [
        "from transformers import DataCollatorWithPadding\n",
        "data_collator = DataCollatorWithPadding(tokenizer=tokenizer)\n",
        "\n",
        "trainer = Trainer(\n",
        "    model=model, # The model you want to train\n",
        "    args=training_args, # The various training arguments set up above\n",
        "    train_dataset=train_dataset, # The data to use to update the weights\n",
        "    eval_dataset=eval_dataset, # The data to use for evaluation\n",
        "    tokenizer=tokenizer, # The tokenizer used on the data\n",
        "    data_collator=data_collator, # A data collator that does clever things moving data around\n",
        ")"
      ],
      "metadata": {
        "id": "qtv0pdqfemWr"
      },
      "execution_count": 109,
      "outputs": []
    },
    {
      "cell_type": "code",
      "source": [
        "trainer.train()"
      ],
      "metadata": {
        "colab": {
          "base_uri": "https://localhost:8080/",
          "height": 514
        },
        "id": "ov8ayX8rflIQ",
        "outputId": "dfc28b1f-37b2-4088-9694-46a60e833a3f"
      },
      "execution_count": 110,
      "outputs": [
        {
          "output_type": "stream",
          "name": "stderr",
          "text": [
            "/usr/local/lib/python3.9/dist-packages/transformers/optimization.py:306: FutureWarning: This implementation of AdamW is deprecated and will be removed in a future version. Use the PyTorch implementation torch.optim.AdamW instead, or set `no_deprecation_warning=True` to disable this warning\n",
            "  warnings.warn(\n",
            "***** Running training *****\n",
            "  Num examples = 1200\n",
            "  Num Epochs = 1\n",
            "  Instantaneous batch size per device = 16\n",
            "  Total train batch size (w. parallel, distributed & accumulation) = 16\n",
            "  Gradient Accumulation steps = 1\n",
            "  Total optimization steps = 75\n",
            "  Number of trainable parameters = 124652553\n",
            "You're using a RobertaTokenizerFast tokenizer. Please note that with a fast tokenizer, using the `__call__` method is faster than using a method to encode the text followed by a call to the `pad` method to get a padded encoding.\n"
          ]
        },
        {
          "output_type": "display_data",
          "data": {
            "text/plain": [
              "<IPython.core.display.HTML object>"
            ],
            "text/html": [
              "\n",
              "    <div>\n",
              "      \n",
              "      <progress value='75' max='75' style='width:300px; height:20px; vertical-align: middle;'></progress>\n",
              "      [75/75 00:24, Epoch 1/1]\n",
              "    </div>\n",
              "    <table border=\"1\" class=\"dataframe\">\n",
              "  <thead>\n",
              " <tr style=\"text-align: left;\">\n",
              "      <th>Epoch</th>\n",
              "      <th>Training Loss</th>\n",
              "      <th>Validation Loss</th>\n",
              "    </tr>\n",
              "  </thead>\n",
              "  <tbody>\n",
              "    <tr>\n",
              "      <td>1</td>\n",
              "      <td>No log</td>\n",
              "      <td>2.195134</td>\n",
              "    </tr>\n",
              "  </tbody>\n",
              "</table><p>"
            ]
          },
          "metadata": {}
        },
        {
          "output_type": "stream",
          "name": "stderr",
          "text": [
            "***** Running Evaluation *****\n",
            "  Num examples = 400\n",
            "  Batch size = 16\n",
            "\n",
            "\n",
            "Training completed. Do not forget to share your model on huggingface.co/models =)\n",
            "\n",
            "\n"
          ]
        },
        {
          "output_type": "execute_result",
          "data": {
            "text/plain": [
              "TrainOutput(global_step=75, training_loss=2.2799652099609373, metrics={'train_runtime': 25.1725, 'train_samples_per_second': 47.671, 'train_steps_per_second': 2.979, 'total_flos': 64137350534400.0, 'train_loss': 2.2799652099609373, 'epoch': 1.0})"
            ]
          },
          "metadata": {},
          "execution_count": 110
        }
      ]
    },
    {
      "cell_type": "code",
      "source": [
        "predictions, label_ids, metrics = trainer.predict(eval_dataset)"
      ],
      "metadata": {
        "colab": {
          "base_uri": "https://localhost:8080/",
          "height": 72
        },
        "id": "u6B8SHkMgyDf",
        "outputId": "b15169eb-9420-46d2-8515-6ab91aab364f"
      },
      "execution_count": 111,
      "outputs": [
        {
          "output_type": "stream",
          "name": "stderr",
          "text": [
            "***** Running Prediction *****\n",
            "  Num examples = 400\n",
            "  Batch size = 16\n"
          ]
        },
        {
          "output_type": "display_data",
          "data": {
            "text/plain": [
              "<IPython.core.display.HTML object>"
            ],
            "text/html": []
          },
          "metadata": {}
        }
      ]
    },
    {
      "cell_type": "code",
      "source": [
        "print(predictions[0])"
      ],
      "metadata": {
        "colab": {
          "base_uri": "https://localhost:8080/"
        },
        "id": "uA4htvCc1E6k",
        "outputId": "0d4497f5-6623-4bfa-cafa-33120273b500"
      },
      "execution_count": 112,
      "outputs": [
        {
          "output_type": "stream",
          "name": "stdout",
          "text": [
            "[ 0.11704837  0.31202012  0.271253    0.0320636  -0.14343163  0.04907508\n",
            "  0.30272326  0.01425607  0.00043283]\n"
          ]
        }
      ]
    },
    {
      "cell_type": "code",
      "source": [
        "metrics"
      ],
      "metadata": {
        "colab": {
          "base_uri": "https://localhost:8080/"
        },
        "id": "cmfNh772yWs6",
        "outputId": "9d127947-15b6-474a-e9d7-592d7dfd784d"
      },
      "execution_count": 113,
      "outputs": [
        {
          "output_type": "execute_result",
          "data": {
            "text/plain": [
              "{'test_loss': 2.195133686065674,\n",
              " 'test_runtime': 2.3709,\n",
              " 'test_samples_per_second': 168.713,\n",
              " 'test_steps_per_second': 10.545}"
            ]
          },
          "metadata": {},
          "execution_count": 113
        }
      ]
    },
    {
      "cell_type": "code",
      "source": [
        "predicted_labels = []\n",
        "for prediction in predictions:\n",
        "  subreddit_index = np.argmax(prediction)\n",
        "  subreddit_label = label_encoder.inverse_transform([subreddit_index])[0]\n",
        "  predicted_labels.append(subreddit_label)"
      ],
      "metadata": {
        "id": "hvAGemw72MAs"
      },
      "execution_count": 114,
      "outputs": []
    },
    {
      "cell_type": "code",
      "source": [
        "#predicted_labels\n",
        "Counter(labels_val).most_common()"
      ],
      "metadata": {
        "colab": {
          "base_uri": "https://localhost:8080/"
        },
        "id": "xqIk9Kf03PsW",
        "outputId": "301a346b-8dda-4047-d7f4-d44c5d2b891f"
      },
      "execution_count": 115,
      "outputs": [
        {
          "output_type": "execute_result",
          "data": {
            "text/plain": [
              "[('NintendoSwitch', 55),\n",
              " ('pcgaming', 51),\n",
              " ('antiMLM', 47),\n",
              " ('tea', 46),\n",
              " ('HydroHomies', 45),\n",
              " ('xbox', 43),\n",
              " ('Coffee', 40),\n",
              " ('Soda', 38),\n",
              " ('PS4', 35)]"
            ]
          },
          "metadata": {},
          "execution_count": 115
        }
      ]
    },
    {
      "cell_type": "code",
      "source": [],
      "metadata": {
        "id": "wVm62Gjy21JA"
      },
      "execution_count": 115,
      "outputs": []
    },
    {
      "cell_type": "code",
      "source": [
        "from sklearn.metrics import accuracy_score, precision_score, recall_score, f1_score\n",
        "val_accuracy = accuracy_score(labels_val, predicted_labels)\n",
        "val_precision = precision_score(labels_val, predicted_labels, average='macro')\n",
        "val_recall = recall_score(labels_val, predicted_labels, average='macro')\n",
        "val_f1 = f1_score(labels_val, predicted_labels, average='macro')\n",
        "\n",
        "#print evaluation metrics\n",
        "#create table of evaluation metrics\n",
        "df = pd.DataFrame({\n",
        "    'Set': ['Validation'],\n",
        "    'Accuracy': [val_accuracy],\n",
        "    'Macro Precision': [val_precision],\n",
        "    'Macro Recall': [val_recall],\n",
        "    'Macro F1-score': [val_f1]\n",
        "})\n",
        "\n",
        "#highlight row with best validation performance\n",
        "best_val = df.iloc[df['Macro F1-score'].idxmax()]\n",
        "\n",
        "#print table to console\n",
        "print(\"End-to-end classifier using trainer on roberta-base, with learning rate = 1e-4, epochs = 1, batch_size = 16 and no weight decay\")\n",
        "print(df.round(8))"
      ],
      "metadata": {
        "colab": {
          "base_uri": "https://localhost:8080/"
        },
        "id": "IlSMfZsh0hhx",
        "outputId": "8578abbc-e638-4f18-99e9-6b5bb704f5b8"
      },
      "execution_count": 116,
      "outputs": [
        {
          "output_type": "stream",
          "name": "stdout",
          "text": [
            "End-to-end classifier using trainer on roberta-base, with learning rate = 1e-4, epochs = 1, batch_size = 16 and no weight decay\n",
            "          Set  Accuracy  Macro Precision  Macro Recall  Macro F1-score\n",
            "0  Validation  0.1125    0.0125           0.111111      0.022472      \n"
          ]
        },
        {
          "output_type": "stream",
          "name": "stderr",
          "text": [
            "/usr/local/lib/python3.9/dist-packages/sklearn/metrics/_classification.py:1344: UndefinedMetricWarning: Precision is ill-defined and being set to 0.0 in labels with no predicted samples. Use `zero_division` parameter to control this behavior.\n",
            "  _warn_prf(average, modifier, msg_start, len(result))\n"
          ]
        }
      ]
    },
    {
      "cell_type": "markdown",
      "source": [
        "#Q5c): Different sets of hyperparameters\n",
        "Set 1:\n",
        "learning_rate = 1e-3\n",
        "batch_size = 32\n",
        "epochs = 10\n",
        "weight_decay = 1e-5\n",
        "\n",
        "Set 2:\n",
        "learning_rate = 1e-2\n",
        "batch_size = 64\n",
        "epochs = 100\n",
        "weight_decay = 1e-4"
      ],
      "metadata": {
        "id": "PdZf0vX-5WBx"
      }
    },
    {
      "cell_type": "code",
      "source": [],
      "metadata": {
        "id": "daTqWtH_2ZhH"
      },
      "execution_count": 116,
      "outputs": []
    },
    {
      "cell_type": "code",
      "source": [
        "learning_rate = 1e-3\n",
        "batch_size = 32\n",
        "epochs = 10\n",
        "weight_decay = 1e-5\n",
        "\n",
        "training_args = TrainingArguments(\n",
        "    output_dir=\"my_awesome_model\", # HuggingFace wants a name for your model\n",
        "    evaluation_strategy=\"epoch\", # How often we want to evaluate the model\n",
        "    learning_rate=learning_rate, # Hyperparameter\n",
        "    per_device_train_batch_size=batch_size, # Hyperparameter\n",
        "    per_device_eval_batch_size=batch_size, # Hyperparameter\n",
        "    num_train_epochs=epochs, # Hyperparameter\n",
        "    weight_decay=weight_decay, # Hyperparameter\n",
        ")\n",
        "\n",
        "tokenizer = AutoTokenizer.from_pretrained(\"roberta-base\")\n",
        "\n",
        "config = AutoConfig.from_pretrained(\"roberta-base\", num_labels=9)\n",
        "model = AutoModelForSequenceClassification.from_config(config)\n",
        "\n",
        "labels = ['NintendoSwitch','tea','PS4','Coffee','pcgaming','antiMLM','xbox','HydroHomies','Soda']\n",
        "label_encoder = LabelEncoder()\n",
        "encoded_labels_train = label_encoder.fit_transform(labels_train)\n",
        "encoded_labels_val = label_encoder.fit_transform(labels_val)\n",
        "encoded_labels_train\n",
        "\n",
        "encoded_texts_train_for_input_ids = tokenizer(texts_train_cnstd, padding=True, truncation=True, return_tensors=\"pt\")\n",
        "encoded_texts_val_for_input_ids = tokenizer(texts_val_cnstd, padding=True, truncation=True, return_tensors=\"pt\")\n",
        "\n",
        "input_ids_train = encoded_texts_train_for_input_ids[\"input_ids\"]\n",
        "input_ids_val = encoded_texts_val_for_input_ids[\"input_ids\"]\n",
        "\n",
        "train_dataset_dict = {\"input_ids\": input_ids_train, \"labels\": encoded_labels_train}\n",
        "eval_dataset_dict = {\"input_ids\": input_ids_val, \"labels\": encoded_labels_val}\n",
        "print(len(eval_dataset_dict[\"labels\"]))\n",
        "\n",
        "train_dataset = Dataset.from_dict(train_dataset_dict)\n",
        "eval_dataset = Dataset.from_dict(eval_dataset_dict)\n",
        "\n",
        "data_collator = DataCollatorWithPadding(tokenizer=tokenizer)\n",
        "#print(data_collator)\n",
        "\n",
        "trainer = Trainer(\n",
        "    model=model, # The model you want to train\n",
        "    args=training_args, # The various training arguments set up above\n",
        "    train_dataset=train_dataset, # The data to use to update the weights\n",
        "    eval_dataset=eval_dataset, # The data to use for evaluation\n",
        "    tokenizer=tokenizer, # The tokenizer used on the data\n",
        "    data_collator=data_collator, # A data collator that does clever things moving data around\n",
        ")"
      ],
      "metadata": {
        "colab": {
          "base_uri": "https://localhost:8080/"
        },
        "id": "E9Vwuo_u5hFo",
        "outputId": "5ad87c24-1461-4f36-d66f-8ed490000e83"
      },
      "execution_count": 117,
      "outputs": [
        {
          "output_type": "stream",
          "name": "stderr",
          "text": [
            "PyTorch: setting up devices\n",
            "The default value for the training argument `--report_to` will change in v5 (from all installed integrations to none). In v5, you will need to use `--report_to all` to get the same behavior as now. You should start updating your code and make this info disappear :-).\n",
            "Could not locate the tokenizer configuration file, will try to use the model config instead.\n",
            "loading configuration file config.json from cache at /root/.cache/huggingface/hub/models--roberta-base/snapshots/bc2764f8af2e92b6eb5679868df33e224075ca68/config.json\n",
            "Model config RobertaConfig {\n",
            "  \"_name_or_path\": \"roberta-base\",\n",
            "  \"architectures\": [\n",
            "    \"RobertaForMaskedLM\"\n",
            "  ],\n",
            "  \"attention_probs_dropout_prob\": 0.1,\n",
            "  \"bos_token_id\": 0,\n",
            "  \"classifier_dropout\": null,\n",
            "  \"eos_token_id\": 2,\n",
            "  \"hidden_act\": \"gelu\",\n",
            "  \"hidden_dropout_prob\": 0.1,\n",
            "  \"hidden_size\": 768,\n",
            "  \"initializer_range\": 0.02,\n",
            "  \"intermediate_size\": 3072,\n",
            "  \"layer_norm_eps\": 1e-05,\n",
            "  \"max_position_embeddings\": 514,\n",
            "  \"model_type\": \"roberta\",\n",
            "  \"num_attention_heads\": 12,\n",
            "  \"num_hidden_layers\": 12,\n",
            "  \"pad_token_id\": 1,\n",
            "  \"position_embedding_type\": \"absolute\",\n",
            "  \"transformers_version\": \"4.26.1\",\n",
            "  \"type_vocab_size\": 1,\n",
            "  \"use_cache\": true,\n",
            "  \"vocab_size\": 50265\n",
            "}\n",
            "\n",
            "loading file vocab.json from cache at /root/.cache/huggingface/hub/models--roberta-base/snapshots/bc2764f8af2e92b6eb5679868df33e224075ca68/vocab.json\n",
            "loading file merges.txt from cache at /root/.cache/huggingface/hub/models--roberta-base/snapshots/bc2764f8af2e92b6eb5679868df33e224075ca68/merges.txt\n",
            "loading file tokenizer.json from cache at /root/.cache/huggingface/hub/models--roberta-base/snapshots/bc2764f8af2e92b6eb5679868df33e224075ca68/tokenizer.json\n",
            "loading file added_tokens.json from cache at None\n",
            "loading file special_tokens_map.json from cache at None\n",
            "loading file tokenizer_config.json from cache at None\n",
            "loading configuration file config.json from cache at /root/.cache/huggingface/hub/models--roberta-base/snapshots/bc2764f8af2e92b6eb5679868df33e224075ca68/config.json\n",
            "Model config RobertaConfig {\n",
            "  \"_name_or_path\": \"roberta-base\",\n",
            "  \"architectures\": [\n",
            "    \"RobertaForMaskedLM\"\n",
            "  ],\n",
            "  \"attention_probs_dropout_prob\": 0.1,\n",
            "  \"bos_token_id\": 0,\n",
            "  \"classifier_dropout\": null,\n",
            "  \"eos_token_id\": 2,\n",
            "  \"hidden_act\": \"gelu\",\n",
            "  \"hidden_dropout_prob\": 0.1,\n",
            "  \"hidden_size\": 768,\n",
            "  \"initializer_range\": 0.02,\n",
            "  \"intermediate_size\": 3072,\n",
            "  \"layer_norm_eps\": 1e-05,\n",
            "  \"max_position_embeddings\": 514,\n",
            "  \"model_type\": \"roberta\",\n",
            "  \"num_attention_heads\": 12,\n",
            "  \"num_hidden_layers\": 12,\n",
            "  \"pad_token_id\": 1,\n",
            "  \"position_embedding_type\": \"absolute\",\n",
            "  \"transformers_version\": \"4.26.1\",\n",
            "  \"type_vocab_size\": 1,\n",
            "  \"use_cache\": true,\n",
            "  \"vocab_size\": 50265\n",
            "}\n",
            "\n",
            "loading configuration file config.json from cache at /root/.cache/huggingface/hub/models--roberta-base/snapshots/bc2764f8af2e92b6eb5679868df33e224075ca68/config.json\n",
            "Model config RobertaConfig {\n",
            "  \"_name_or_path\": \"roberta-base\",\n",
            "  \"architectures\": [\n",
            "    \"RobertaForMaskedLM\"\n",
            "  ],\n",
            "  \"attention_probs_dropout_prob\": 0.1,\n",
            "  \"bos_token_id\": 0,\n",
            "  \"classifier_dropout\": null,\n",
            "  \"eos_token_id\": 2,\n",
            "  \"hidden_act\": \"gelu\",\n",
            "  \"hidden_dropout_prob\": 0.1,\n",
            "  \"hidden_size\": 768,\n",
            "  \"id2label\": {\n",
            "    \"0\": \"LABEL_0\",\n",
            "    \"1\": \"LABEL_1\",\n",
            "    \"2\": \"LABEL_2\",\n",
            "    \"3\": \"LABEL_3\",\n",
            "    \"4\": \"LABEL_4\",\n",
            "    \"5\": \"LABEL_5\",\n",
            "    \"6\": \"LABEL_6\",\n",
            "    \"7\": \"LABEL_7\",\n",
            "    \"8\": \"LABEL_8\"\n",
            "  },\n",
            "  \"initializer_range\": 0.02,\n",
            "  \"intermediate_size\": 3072,\n",
            "  \"label2id\": {\n",
            "    \"LABEL_0\": 0,\n",
            "    \"LABEL_1\": 1,\n",
            "    \"LABEL_2\": 2,\n",
            "    \"LABEL_3\": 3,\n",
            "    \"LABEL_4\": 4,\n",
            "    \"LABEL_5\": 5,\n",
            "    \"LABEL_6\": 6,\n",
            "    \"LABEL_7\": 7,\n",
            "    \"LABEL_8\": 8\n",
            "  },\n",
            "  \"layer_norm_eps\": 1e-05,\n",
            "  \"max_position_embeddings\": 514,\n",
            "  \"model_type\": \"roberta\",\n",
            "  \"num_attention_heads\": 12,\n",
            "  \"num_hidden_layers\": 12,\n",
            "  \"pad_token_id\": 1,\n",
            "  \"position_embedding_type\": \"absolute\",\n",
            "  \"transformers_version\": \"4.26.1\",\n",
            "  \"type_vocab_size\": 1,\n",
            "  \"use_cache\": true,\n",
            "  \"vocab_size\": 50265\n",
            "}\n",
            "\n"
          ]
        },
        {
          "output_type": "stream",
          "name": "stdout",
          "text": [
            "400\n"
          ]
        }
      ]
    },
    {
      "cell_type": "code",
      "source": [
        "trainer.train()"
      ],
      "metadata": {
        "colab": {
          "base_uri": "https://localhost:8080/",
          "height": 1000
        },
        "id": "-qcouiFD5luH",
        "outputId": "2ee7ad42-4f48-4bc2-be1f-4f63589aa516"
      },
      "execution_count": 118,
      "outputs": [
        {
          "output_type": "stream",
          "name": "stderr",
          "text": [
            "/usr/local/lib/python3.9/dist-packages/transformers/optimization.py:306: FutureWarning: This implementation of AdamW is deprecated and will be removed in a future version. Use the PyTorch implementation torch.optim.AdamW instead, or set `no_deprecation_warning=True` to disable this warning\n",
            "  warnings.warn(\n",
            "***** Running training *****\n",
            "  Num examples = 1200\n",
            "  Num Epochs = 10\n",
            "  Instantaneous batch size per device = 32\n",
            "  Total train batch size (w. parallel, distributed & accumulation) = 32\n",
            "  Gradient Accumulation steps = 1\n",
            "  Total optimization steps = 380\n",
            "  Number of trainable parameters = 124652553\n",
            "You're using a RobertaTokenizerFast tokenizer. Please note that with a fast tokenizer, using the `__call__` method is faster than using a method to encode the text followed by a call to the `pad` method to get a padded encoding.\n"
          ]
        },
        {
          "output_type": "display_data",
          "data": {
            "text/plain": [
              "<IPython.core.display.HTML object>"
            ],
            "text/html": [
              "\n",
              "    <div>\n",
              "      \n",
              "      <progress value='380' max='380' style='width:300px; height:20px; vertical-align: middle;'></progress>\n",
              "      [380/380 03:47, Epoch 10/10]\n",
              "    </div>\n",
              "    <table border=\"1\" class=\"dataframe\">\n",
              "  <thead>\n",
              " <tr style=\"text-align: left;\">\n",
              "      <th>Epoch</th>\n",
              "      <th>Training Loss</th>\n",
              "      <th>Validation Loss</th>\n",
              "    </tr>\n",
              "  </thead>\n",
              "  <tbody>\n",
              "    <tr>\n",
              "      <td>1</td>\n",
              "      <td>No log</td>\n",
              "      <td>2.256530</td>\n",
              "    </tr>\n",
              "    <tr>\n",
              "      <td>2</td>\n",
              "      <td>No log</td>\n",
              "      <td>2.239929</td>\n",
              "    </tr>\n",
              "    <tr>\n",
              "      <td>3</td>\n",
              "      <td>No log</td>\n",
              "      <td>2.283920</td>\n",
              "    </tr>\n",
              "    <tr>\n",
              "      <td>4</td>\n",
              "      <td>No log</td>\n",
              "      <td>2.236473</td>\n",
              "    </tr>\n",
              "    <tr>\n",
              "      <td>5</td>\n",
              "      <td>No log</td>\n",
              "      <td>2.265020</td>\n",
              "    </tr>\n",
              "    <tr>\n",
              "      <td>6</td>\n",
              "      <td>No log</td>\n",
              "      <td>2.234593</td>\n",
              "    </tr>\n",
              "    <tr>\n",
              "      <td>7</td>\n",
              "      <td>No log</td>\n",
              "      <td>2.225774</td>\n",
              "    </tr>\n",
              "    <tr>\n",
              "      <td>8</td>\n",
              "      <td>No log</td>\n",
              "      <td>2.204735</td>\n",
              "    </tr>\n",
              "    <tr>\n",
              "      <td>9</td>\n",
              "      <td>No log</td>\n",
              "      <td>2.213750</td>\n",
              "    </tr>\n",
              "    <tr>\n",
              "      <td>10</td>\n",
              "      <td>No log</td>\n",
              "      <td>2.202548</td>\n",
              "    </tr>\n",
              "  </tbody>\n",
              "</table><p>"
            ]
          },
          "metadata": {}
        },
        {
          "output_type": "stream",
          "name": "stderr",
          "text": [
            "***** Running Evaluation *****\n",
            "  Num examples = 400\n",
            "  Batch size = 32\n",
            "***** Running Evaluation *****\n",
            "  Num examples = 400\n",
            "  Batch size = 32\n",
            "***** Running Evaluation *****\n",
            "  Num examples = 400\n",
            "  Batch size = 32\n",
            "***** Running Evaluation *****\n",
            "  Num examples = 400\n",
            "  Batch size = 32\n",
            "***** Running Evaluation *****\n",
            "  Num examples = 400\n",
            "  Batch size = 32\n",
            "***** Running Evaluation *****\n",
            "  Num examples = 400\n",
            "  Batch size = 32\n",
            "***** Running Evaluation *****\n",
            "  Num examples = 400\n",
            "  Batch size = 32\n",
            "***** Running Evaluation *****\n",
            "  Num examples = 400\n",
            "  Batch size = 32\n",
            "***** Running Evaluation *****\n",
            "  Num examples = 400\n",
            "  Batch size = 32\n",
            "***** Running Evaluation *****\n",
            "  Num examples = 400\n",
            "  Batch size = 32\n",
            "\n",
            "\n",
            "Training completed. Do not forget to share your model on huggingface.co/models =)\n",
            "\n",
            "\n"
          ]
        },
        {
          "output_type": "execute_result",
          "data": {
            "text/plain": [
              "TrainOutput(global_step=380, training_loss=2.287077572471217, metrics={'train_runtime': 228.0923, 'train_samples_per_second': 52.61, 'train_steps_per_second': 1.666, 'total_flos': 641373505344000.0, 'train_loss': 2.287077572471217, 'epoch': 10.0})"
            ]
          },
          "metadata": {},
          "execution_count": 118
        }
      ]
    },
    {
      "cell_type": "code",
      "source": [
        "predictions, label_ids, metrics = trainer.predict(eval_dataset)\n",
        "predicted_labels = []\n",
        "for prediction in predictions:\n",
        "  subreddit_index = np.argmax(prediction)\n",
        "  subreddit_label = label_encoder.inverse_transform([subreddit_index])[0]\n",
        "  predicted_labels.append(subreddit_label)\n",
        "\n",
        "\n",
        "from sklearn.metrics import accuracy_score, precision_score, recall_score, f1_score\n",
        "val_accuracy = accuracy_score(labels_val, predicted_labels)\n",
        "val_precision = precision_score(labels_val, predicted_labels, average='macro')\n",
        "val_recall = recall_score(labels_val, predicted_labels, average='macro')\n",
        "val_f1 = f1_score(labels_val, predicted_labels, average='macro')\n",
        "\n",
        "#print evaluation metrics\n",
        "#create table of evaluation metrics\n",
        "df = pd.DataFrame({\n",
        "    'Set': ['Validation'],\n",
        "    'Accuracy': [val_accuracy],\n",
        "    'Macro Precision': [val_precision],\n",
        "    'Macro Recall': [val_recall],\n",
        "    'Macro F1-score': [val_f1]\n",
        "})\n",
        "\n",
        "#highlight row with best validation performance\n",
        "best_val = df.iloc[df['Macro F1-score'].idxmax()]\n",
        "\n",
        "#print table to console\n",
        "print(\"End-to-end classifier using trainer on roberta-base, with learning_rate = 1e-3, Sbatch_size = 32, epochs = 10, weight_decay = 1e-5\")\n",
        "print(df.round(8))"
      ],
      "metadata": {
        "colab": {
          "base_uri": "https://localhost:8080/",
          "height": 185
        },
        "id": "uYh_clxs9IXQ",
        "outputId": "33329f13-28f3-4511-b23d-062d8d7b6116"
      },
      "execution_count": 119,
      "outputs": [
        {
          "output_type": "stream",
          "name": "stderr",
          "text": [
            "***** Running Prediction *****\n",
            "  Num examples = 400\n",
            "  Batch size = 32\n"
          ]
        },
        {
          "output_type": "display_data",
          "data": {
            "text/plain": [
              "<IPython.core.display.HTML object>"
            ],
            "text/html": []
          },
          "metadata": {}
        },
        {
          "output_type": "stream",
          "name": "stdout",
          "text": [
            "End-to-end classifier using trainer on roberta-base, with learning_rate = 1e-3, Sbatch_size = 32, epochs = 10, weight_decay = 1e-5\n",
            "          Set  Accuracy  Macro Precision  Macro Recall  Macro F1-score\n",
            "0  Validation  0.1375    0.015278         0.111111      0.026862      \n"
          ]
        },
        {
          "output_type": "stream",
          "name": "stderr",
          "text": [
            "/usr/local/lib/python3.9/dist-packages/sklearn/metrics/_classification.py:1344: UndefinedMetricWarning: Precision is ill-defined and being set to 0.0 in labels with no predicted samples. Use `zero_division` parameter to control this behavior.\n",
            "  _warn_prf(average, modifier, msg_start, len(result))\n"
          ]
        }
      ]
    },
    {
      "cell_type": "markdown",
      "source": [
        "Second set of hyperparameters: \n",
        "learning_rate = 1e-2\n",
        "batch_size = 64\n",
        "epochs = 10\n",
        "weight_decay = 1e-4"
      ],
      "metadata": {
        "id": "8ulwDngJAhaE"
      }
    },
    {
      "cell_type": "code",
      "source": [
        "learning_rate = 1e-2\n",
        "batch_size = 64\n",
        "epochs = 100\n",
        "weight_decay = 1e-4\n",
        "\n",
        "training_args = TrainingArguments(\n",
        "    output_dir=\"my_awesome_model\", # HuggingFace wants a name for your model\n",
        "    evaluation_strategy=\"epoch\", # How often we want to evaluate the model\n",
        "    learning_rate=learning_rate, # Hyperparameter\n",
        "    per_device_train_batch_size=batch_size, # Hyperparameter\n",
        "    per_device_eval_batch_size=batch_size, # Hyperparameter\n",
        "    num_train_epochs=epochs, # Hyperparameter\n",
        "    weight_decay=weight_decay, # Hyperparameter\n",
        ")\n",
        "\n",
        "tokenizer = AutoTokenizer.from_pretrained(\"roberta-base\")\n",
        "\n",
        "config = AutoConfig.from_pretrained(\"roberta-base\", num_labels=9)\n",
        "model = AutoModelForSequenceClassification.from_config(config)\n",
        "\n",
        "labels = ['NintendoSwitch','tea','PS4','Coffee','pcgaming','antiMLM','xbox','HydroHomies','Soda']\n",
        "label_encoder = LabelEncoder()\n",
        "encoded_labels_train = label_encoder.fit_transform(labels_train)\n",
        "encoded_labels_val = label_encoder.fit_transform(labels_val)\n",
        "encoded_labels_train\n",
        "\n",
        "encoded_texts_train_for_input_ids = tokenizer(texts_train_cnstd, padding=True, truncation=True, return_tensors=\"pt\")\n",
        "encoded_texts_val_for_input_ids = tokenizer(texts_val_cnstd, padding=True, truncation=True, return_tensors=\"pt\")\n",
        "\n",
        "input_ids_train = encoded_texts_train_for_input_ids[\"input_ids\"]\n",
        "input_ids_val = encoded_texts_val_for_input_ids[\"input_ids\"]\n",
        "\n",
        "train_dataset_dict = {\"input_ids\": input_ids_train, \"labels\": encoded_labels_train}\n",
        "eval_dataset_dict = {\"input_ids\": input_ids_val, \"labels\": encoded_labels_val}\n",
        "print(len(eval_dataset_dict[\"labels\"]))\n",
        "\n",
        "train_dataset = Dataset.from_dict(train_dataset_dict)\n",
        "eval_dataset = Dataset.from_dict(eval_dataset_dict)\n",
        "\n",
        "data_collator = DataCollatorWithPadding(tokenizer=tokenizer)\n",
        "#print(data_collator)\n",
        "\n",
        "trainer = Trainer(\n",
        "    model=model, # The model you want to train\n",
        "    args=training_args, # The various training arguments set up above\n",
        "    train_dataset=train_dataset, # The data to use to update the weights\n",
        "    eval_dataset=eval_dataset, # The data to use for evaluation\n",
        "    tokenizer=tokenizer, # The tokenizer used on the data\n",
        "    data_collator=data_collator, # A data collator that does clever things moving data around\n",
        ")"
      ],
      "metadata": {
        "colab": {
          "base_uri": "https://localhost:8080/"
        },
        "id": "MoG0i99j9uoc",
        "outputId": "21ff3c87-a401-4eb8-f39e-cc29dfd175a4"
      },
      "execution_count": 120,
      "outputs": [
        {
          "output_type": "stream",
          "name": "stderr",
          "text": [
            "PyTorch: setting up devices\n",
            "The default value for the training argument `--report_to` will change in v5 (from all installed integrations to none). In v5, you will need to use `--report_to all` to get the same behavior as now. You should start updating your code and make this info disappear :-).\n",
            "Could not locate the tokenizer configuration file, will try to use the model config instead.\n",
            "loading configuration file config.json from cache at /root/.cache/huggingface/hub/models--roberta-base/snapshots/bc2764f8af2e92b6eb5679868df33e224075ca68/config.json\n",
            "Model config RobertaConfig {\n",
            "  \"_name_or_path\": \"roberta-base\",\n",
            "  \"architectures\": [\n",
            "    \"RobertaForMaskedLM\"\n",
            "  ],\n",
            "  \"attention_probs_dropout_prob\": 0.1,\n",
            "  \"bos_token_id\": 0,\n",
            "  \"classifier_dropout\": null,\n",
            "  \"eos_token_id\": 2,\n",
            "  \"hidden_act\": \"gelu\",\n",
            "  \"hidden_dropout_prob\": 0.1,\n",
            "  \"hidden_size\": 768,\n",
            "  \"initializer_range\": 0.02,\n",
            "  \"intermediate_size\": 3072,\n",
            "  \"layer_norm_eps\": 1e-05,\n",
            "  \"max_position_embeddings\": 514,\n",
            "  \"model_type\": \"roberta\",\n",
            "  \"num_attention_heads\": 12,\n",
            "  \"num_hidden_layers\": 12,\n",
            "  \"pad_token_id\": 1,\n",
            "  \"position_embedding_type\": \"absolute\",\n",
            "  \"transformers_version\": \"4.26.1\",\n",
            "  \"type_vocab_size\": 1,\n",
            "  \"use_cache\": true,\n",
            "  \"vocab_size\": 50265\n",
            "}\n",
            "\n",
            "loading file vocab.json from cache at /root/.cache/huggingface/hub/models--roberta-base/snapshots/bc2764f8af2e92b6eb5679868df33e224075ca68/vocab.json\n",
            "loading file merges.txt from cache at /root/.cache/huggingface/hub/models--roberta-base/snapshots/bc2764f8af2e92b6eb5679868df33e224075ca68/merges.txt\n",
            "loading file tokenizer.json from cache at /root/.cache/huggingface/hub/models--roberta-base/snapshots/bc2764f8af2e92b6eb5679868df33e224075ca68/tokenizer.json\n",
            "loading file added_tokens.json from cache at None\n",
            "loading file special_tokens_map.json from cache at None\n",
            "loading file tokenizer_config.json from cache at None\n",
            "loading configuration file config.json from cache at /root/.cache/huggingface/hub/models--roberta-base/snapshots/bc2764f8af2e92b6eb5679868df33e224075ca68/config.json\n",
            "Model config RobertaConfig {\n",
            "  \"_name_or_path\": \"roberta-base\",\n",
            "  \"architectures\": [\n",
            "    \"RobertaForMaskedLM\"\n",
            "  ],\n",
            "  \"attention_probs_dropout_prob\": 0.1,\n",
            "  \"bos_token_id\": 0,\n",
            "  \"classifier_dropout\": null,\n",
            "  \"eos_token_id\": 2,\n",
            "  \"hidden_act\": \"gelu\",\n",
            "  \"hidden_dropout_prob\": 0.1,\n",
            "  \"hidden_size\": 768,\n",
            "  \"initializer_range\": 0.02,\n",
            "  \"intermediate_size\": 3072,\n",
            "  \"layer_norm_eps\": 1e-05,\n",
            "  \"max_position_embeddings\": 514,\n",
            "  \"model_type\": \"roberta\",\n",
            "  \"num_attention_heads\": 12,\n",
            "  \"num_hidden_layers\": 12,\n",
            "  \"pad_token_id\": 1,\n",
            "  \"position_embedding_type\": \"absolute\",\n",
            "  \"transformers_version\": \"4.26.1\",\n",
            "  \"type_vocab_size\": 1,\n",
            "  \"use_cache\": true,\n",
            "  \"vocab_size\": 50265\n",
            "}\n",
            "\n",
            "loading configuration file config.json from cache at /root/.cache/huggingface/hub/models--roberta-base/snapshots/bc2764f8af2e92b6eb5679868df33e224075ca68/config.json\n",
            "Model config RobertaConfig {\n",
            "  \"_name_or_path\": \"roberta-base\",\n",
            "  \"architectures\": [\n",
            "    \"RobertaForMaskedLM\"\n",
            "  ],\n",
            "  \"attention_probs_dropout_prob\": 0.1,\n",
            "  \"bos_token_id\": 0,\n",
            "  \"classifier_dropout\": null,\n",
            "  \"eos_token_id\": 2,\n",
            "  \"hidden_act\": \"gelu\",\n",
            "  \"hidden_dropout_prob\": 0.1,\n",
            "  \"hidden_size\": 768,\n",
            "  \"id2label\": {\n",
            "    \"0\": \"LABEL_0\",\n",
            "    \"1\": \"LABEL_1\",\n",
            "    \"2\": \"LABEL_2\",\n",
            "    \"3\": \"LABEL_3\",\n",
            "    \"4\": \"LABEL_4\",\n",
            "    \"5\": \"LABEL_5\",\n",
            "    \"6\": \"LABEL_6\",\n",
            "    \"7\": \"LABEL_7\",\n",
            "    \"8\": \"LABEL_8\"\n",
            "  },\n",
            "  \"initializer_range\": 0.02,\n",
            "  \"intermediate_size\": 3072,\n",
            "  \"label2id\": {\n",
            "    \"LABEL_0\": 0,\n",
            "    \"LABEL_1\": 1,\n",
            "    \"LABEL_2\": 2,\n",
            "    \"LABEL_3\": 3,\n",
            "    \"LABEL_4\": 4,\n",
            "    \"LABEL_5\": 5,\n",
            "    \"LABEL_6\": 6,\n",
            "    \"LABEL_7\": 7,\n",
            "    \"LABEL_8\": 8\n",
            "  },\n",
            "  \"layer_norm_eps\": 1e-05,\n",
            "  \"max_position_embeddings\": 514,\n",
            "  \"model_type\": \"roberta\",\n",
            "  \"num_attention_heads\": 12,\n",
            "  \"num_hidden_layers\": 12,\n",
            "  \"pad_token_id\": 1,\n",
            "  \"position_embedding_type\": \"absolute\",\n",
            "  \"transformers_version\": \"4.26.1\",\n",
            "  \"type_vocab_size\": 1,\n",
            "  \"use_cache\": true,\n",
            "  \"vocab_size\": 50265\n",
            "}\n",
            "\n"
          ]
        },
        {
          "output_type": "stream",
          "name": "stdout",
          "text": [
            "400\n"
          ]
        }
      ]
    },
    {
      "cell_type": "code",
      "source": [
        "trainer.train()"
      ],
      "metadata": {
        "colab": {
          "base_uri": "https://localhost:8080/",
          "height": 1000
        },
        "id": "R-YG0w48Au54",
        "outputId": "8ba74b08-dc8e-4f16-f858-f8c76035b12f"
      },
      "execution_count": 121,
      "outputs": [
        {
          "output_type": "stream",
          "name": "stderr",
          "text": [
            "/usr/local/lib/python3.9/dist-packages/transformers/optimization.py:306: FutureWarning: This implementation of AdamW is deprecated and will be removed in a future version. Use the PyTorch implementation torch.optim.AdamW instead, or set `no_deprecation_warning=True` to disable this warning\n",
            "  warnings.warn(\n",
            "***** Running training *****\n",
            "  Num examples = 1200\n",
            "  Num Epochs = 100\n",
            "  Instantaneous batch size per device = 64\n",
            "  Total train batch size (w. parallel, distributed & accumulation) = 64\n",
            "  Gradient Accumulation steps = 1\n",
            "  Total optimization steps = 1900\n",
            "  Number of trainable parameters = 124652553\n",
            "You're using a RobertaTokenizerFast tokenizer. Please note that with a fast tokenizer, using the `__call__` method is faster than using a method to encode the text followed by a call to the `pad` method to get a padded encoding.\n"
          ]
        },
        {
          "output_type": "display_data",
          "data": {
            "text/plain": [
              "<IPython.core.display.HTML object>"
            ],
            "text/html": [
              "\n",
              "    <div>\n",
              "      \n",
              "      <progress value='1900' max='1900' style='width:300px; height:20px; vertical-align: middle;'></progress>\n",
              "      [1900/1900 35:53, Epoch 100/100]\n",
              "    </div>\n",
              "    <table border=\"1\" class=\"dataframe\">\n",
              "  <thead>\n",
              " <tr style=\"text-align: left;\">\n",
              "      <th>Epoch</th>\n",
              "      <th>Training Loss</th>\n",
              "      <th>Validation Loss</th>\n",
              "    </tr>\n",
              "  </thead>\n",
              "  <tbody>\n",
              "    <tr>\n",
              "      <td>1</td>\n",
              "      <td>No log</td>\n",
              "      <td>4.187460</td>\n",
              "    </tr>\n",
              "    <tr>\n",
              "      <td>2</td>\n",
              "      <td>No log</td>\n",
              "      <td>2.705859</td>\n",
              "    </tr>\n",
              "    <tr>\n",
              "      <td>3</td>\n",
              "      <td>No log</td>\n",
              "      <td>2.750918</td>\n",
              "    </tr>\n",
              "    <tr>\n",
              "      <td>4</td>\n",
              "      <td>No log</td>\n",
              "      <td>2.583448</td>\n",
              "    </tr>\n",
              "    <tr>\n",
              "      <td>5</td>\n",
              "      <td>No log</td>\n",
              "      <td>2.555523</td>\n",
              "    </tr>\n",
              "    <tr>\n",
              "      <td>6</td>\n",
              "      <td>No log</td>\n",
              "      <td>2.917461</td>\n",
              "    </tr>\n",
              "    <tr>\n",
              "      <td>7</td>\n",
              "      <td>No log</td>\n",
              "      <td>2.647347</td>\n",
              "    </tr>\n",
              "    <tr>\n",
              "      <td>8</td>\n",
              "      <td>No log</td>\n",
              "      <td>2.786024</td>\n",
              "    </tr>\n",
              "    <tr>\n",
              "      <td>9</td>\n",
              "      <td>No log</td>\n",
              "      <td>2.564052</td>\n",
              "    </tr>\n",
              "    <tr>\n",
              "      <td>10</td>\n",
              "      <td>No log</td>\n",
              "      <td>2.515482</td>\n",
              "    </tr>\n",
              "    <tr>\n",
              "      <td>11</td>\n",
              "      <td>No log</td>\n",
              "      <td>2.593020</td>\n",
              "    </tr>\n",
              "    <tr>\n",
              "      <td>12</td>\n",
              "      <td>No log</td>\n",
              "      <td>2.743698</td>\n",
              "    </tr>\n",
              "    <tr>\n",
              "      <td>13</td>\n",
              "      <td>No log</td>\n",
              "      <td>2.789895</td>\n",
              "    </tr>\n",
              "    <tr>\n",
              "      <td>14</td>\n",
              "      <td>No log</td>\n",
              "      <td>2.475546</td>\n",
              "    </tr>\n",
              "    <tr>\n",
              "      <td>15</td>\n",
              "      <td>No log</td>\n",
              "      <td>2.657399</td>\n",
              "    </tr>\n",
              "    <tr>\n",
              "      <td>16</td>\n",
              "      <td>No log</td>\n",
              "      <td>2.593149</td>\n",
              "    </tr>\n",
              "    <tr>\n",
              "      <td>17</td>\n",
              "      <td>No log</td>\n",
              "      <td>3.029506</td>\n",
              "    </tr>\n",
              "    <tr>\n",
              "      <td>18</td>\n",
              "      <td>No log</td>\n",
              "      <td>2.289993</td>\n",
              "    </tr>\n",
              "    <tr>\n",
              "      <td>19</td>\n",
              "      <td>No log</td>\n",
              "      <td>2.510277</td>\n",
              "    </tr>\n",
              "    <tr>\n",
              "      <td>20</td>\n",
              "      <td>No log</td>\n",
              "      <td>2.309910</td>\n",
              "    </tr>\n",
              "    <tr>\n",
              "      <td>21</td>\n",
              "      <td>No log</td>\n",
              "      <td>2.746079</td>\n",
              "    </tr>\n",
              "    <tr>\n",
              "      <td>22</td>\n",
              "      <td>No log</td>\n",
              "      <td>2.700967</td>\n",
              "    </tr>\n",
              "    <tr>\n",
              "      <td>23</td>\n",
              "      <td>No log</td>\n",
              "      <td>2.492039</td>\n",
              "    </tr>\n",
              "    <tr>\n",
              "      <td>24</td>\n",
              "      <td>No log</td>\n",
              "      <td>2.391857</td>\n",
              "    </tr>\n",
              "    <tr>\n",
              "      <td>25</td>\n",
              "      <td>No log</td>\n",
              "      <td>2.868735</td>\n",
              "    </tr>\n",
              "    <tr>\n",
              "      <td>26</td>\n",
              "      <td>No log</td>\n",
              "      <td>2.377404</td>\n",
              "    </tr>\n",
              "    <tr>\n",
              "      <td>27</td>\n",
              "      <td>2.732700</td>\n",
              "      <td>2.985590</td>\n",
              "    </tr>\n",
              "    <tr>\n",
              "      <td>28</td>\n",
              "      <td>2.732700</td>\n",
              "      <td>2.767464</td>\n",
              "    </tr>\n",
              "    <tr>\n",
              "      <td>29</td>\n",
              "      <td>2.732700</td>\n",
              "      <td>2.343056</td>\n",
              "    </tr>\n",
              "    <tr>\n",
              "      <td>30</td>\n",
              "      <td>2.732700</td>\n",
              "      <td>2.579061</td>\n",
              "    </tr>\n",
              "    <tr>\n",
              "      <td>31</td>\n",
              "      <td>2.732700</td>\n",
              "      <td>2.496731</td>\n",
              "    </tr>\n",
              "    <tr>\n",
              "      <td>32</td>\n",
              "      <td>2.732700</td>\n",
              "      <td>2.399870</td>\n",
              "    </tr>\n",
              "    <tr>\n",
              "      <td>33</td>\n",
              "      <td>2.732700</td>\n",
              "      <td>2.601131</td>\n",
              "    </tr>\n",
              "    <tr>\n",
              "      <td>34</td>\n",
              "      <td>2.732700</td>\n",
              "      <td>2.446007</td>\n",
              "    </tr>\n",
              "    <tr>\n",
              "      <td>35</td>\n",
              "      <td>2.732700</td>\n",
              "      <td>2.330079</td>\n",
              "    </tr>\n",
              "    <tr>\n",
              "      <td>36</td>\n",
              "      <td>2.732700</td>\n",
              "      <td>2.264903</td>\n",
              "    </tr>\n",
              "    <tr>\n",
              "      <td>37</td>\n",
              "      <td>2.732700</td>\n",
              "      <td>2.453435</td>\n",
              "    </tr>\n",
              "    <tr>\n",
              "      <td>38</td>\n",
              "      <td>2.732700</td>\n",
              "      <td>2.514994</td>\n",
              "    </tr>\n",
              "    <tr>\n",
              "      <td>39</td>\n",
              "      <td>2.732700</td>\n",
              "      <td>2.984345</td>\n",
              "    </tr>\n",
              "    <tr>\n",
              "      <td>40</td>\n",
              "      <td>2.732700</td>\n",
              "      <td>2.594836</td>\n",
              "    </tr>\n",
              "    <tr>\n",
              "      <td>41</td>\n",
              "      <td>2.732700</td>\n",
              "      <td>2.697580</td>\n",
              "    </tr>\n",
              "    <tr>\n",
              "      <td>42</td>\n",
              "      <td>2.732700</td>\n",
              "      <td>2.589786</td>\n",
              "    </tr>\n",
              "    <tr>\n",
              "      <td>43</td>\n",
              "      <td>2.732700</td>\n",
              "      <td>2.512742</td>\n",
              "    </tr>\n",
              "    <tr>\n",
              "      <td>44</td>\n",
              "      <td>2.732700</td>\n",
              "      <td>2.348850</td>\n",
              "    </tr>\n",
              "    <tr>\n",
              "      <td>45</td>\n",
              "      <td>2.732700</td>\n",
              "      <td>2.444330</td>\n",
              "    </tr>\n",
              "    <tr>\n",
              "      <td>46</td>\n",
              "      <td>2.732700</td>\n",
              "      <td>2.668741</td>\n",
              "    </tr>\n",
              "    <tr>\n",
              "      <td>47</td>\n",
              "      <td>2.732700</td>\n",
              "      <td>2.593713</td>\n",
              "    </tr>\n",
              "    <tr>\n",
              "      <td>48</td>\n",
              "      <td>2.732700</td>\n",
              "      <td>2.441749</td>\n",
              "    </tr>\n",
              "    <tr>\n",
              "      <td>49</td>\n",
              "      <td>2.732700</td>\n",
              "      <td>2.313279</td>\n",
              "    </tr>\n",
              "    <tr>\n",
              "      <td>50</td>\n",
              "      <td>2.732700</td>\n",
              "      <td>2.430153</td>\n",
              "    </tr>\n",
              "    <tr>\n",
              "      <td>51</td>\n",
              "      <td>2.732700</td>\n",
              "      <td>2.453849</td>\n",
              "    </tr>\n",
              "    <tr>\n",
              "      <td>52</td>\n",
              "      <td>2.732700</td>\n",
              "      <td>2.351568</td>\n",
              "    </tr>\n",
              "    <tr>\n",
              "      <td>53</td>\n",
              "      <td>2.506200</td>\n",
              "      <td>2.610953</td>\n",
              "    </tr>\n",
              "    <tr>\n",
              "      <td>54</td>\n",
              "      <td>2.506200</td>\n",
              "      <td>2.330621</td>\n",
              "    </tr>\n",
              "    <tr>\n",
              "      <td>55</td>\n",
              "      <td>2.506200</td>\n",
              "      <td>2.349218</td>\n",
              "    </tr>\n",
              "    <tr>\n",
              "      <td>56</td>\n",
              "      <td>2.506200</td>\n",
              "      <td>2.615283</td>\n",
              "    </tr>\n",
              "    <tr>\n",
              "      <td>57</td>\n",
              "      <td>2.506200</td>\n",
              "      <td>2.293468</td>\n",
              "    </tr>\n",
              "    <tr>\n",
              "      <td>58</td>\n",
              "      <td>2.506200</td>\n",
              "      <td>2.473203</td>\n",
              "    </tr>\n",
              "    <tr>\n",
              "      <td>59</td>\n",
              "      <td>2.506200</td>\n",
              "      <td>2.524378</td>\n",
              "    </tr>\n",
              "    <tr>\n",
              "      <td>60</td>\n",
              "      <td>2.506200</td>\n",
              "      <td>2.379577</td>\n",
              "    </tr>\n",
              "    <tr>\n",
              "      <td>61</td>\n",
              "      <td>2.506200</td>\n",
              "      <td>2.379644</td>\n",
              "    </tr>\n",
              "    <tr>\n",
              "      <td>62</td>\n",
              "      <td>2.506200</td>\n",
              "      <td>2.294521</td>\n",
              "    </tr>\n",
              "    <tr>\n",
              "      <td>63</td>\n",
              "      <td>2.506200</td>\n",
              "      <td>2.451755</td>\n",
              "    </tr>\n",
              "    <tr>\n",
              "      <td>64</td>\n",
              "      <td>2.506200</td>\n",
              "      <td>2.434864</td>\n",
              "    </tr>\n",
              "    <tr>\n",
              "      <td>65</td>\n",
              "      <td>2.506200</td>\n",
              "      <td>2.354478</td>\n",
              "    </tr>\n",
              "    <tr>\n",
              "      <td>66</td>\n",
              "      <td>2.506200</td>\n",
              "      <td>2.292189</td>\n",
              "    </tr>\n",
              "    <tr>\n",
              "      <td>67</td>\n",
              "      <td>2.506200</td>\n",
              "      <td>2.454041</td>\n",
              "    </tr>\n",
              "    <tr>\n",
              "      <td>68</td>\n",
              "      <td>2.506200</td>\n",
              "      <td>2.372475</td>\n",
              "    </tr>\n",
              "    <tr>\n",
              "      <td>69</td>\n",
              "      <td>2.506200</td>\n",
              "      <td>2.300501</td>\n",
              "    </tr>\n",
              "    <tr>\n",
              "      <td>70</td>\n",
              "      <td>2.506200</td>\n",
              "      <td>2.352436</td>\n",
              "    </tr>\n",
              "    <tr>\n",
              "      <td>71</td>\n",
              "      <td>2.506200</td>\n",
              "      <td>2.423634</td>\n",
              "    </tr>\n",
              "    <tr>\n",
              "      <td>72</td>\n",
              "      <td>2.506200</td>\n",
              "      <td>2.393658</td>\n",
              "    </tr>\n",
              "    <tr>\n",
              "      <td>73</td>\n",
              "      <td>2.506200</td>\n",
              "      <td>2.408892</td>\n",
              "    </tr>\n",
              "    <tr>\n",
              "      <td>74</td>\n",
              "      <td>2.506200</td>\n",
              "      <td>2.377622</td>\n",
              "    </tr>\n",
              "    <tr>\n",
              "      <td>75</td>\n",
              "      <td>2.506200</td>\n",
              "      <td>2.261712</td>\n",
              "    </tr>\n",
              "    <tr>\n",
              "      <td>76</td>\n",
              "      <td>2.506200</td>\n",
              "      <td>2.333027</td>\n",
              "    </tr>\n",
              "    <tr>\n",
              "      <td>77</td>\n",
              "      <td>2.506200</td>\n",
              "      <td>2.267321</td>\n",
              "    </tr>\n",
              "    <tr>\n",
              "      <td>78</td>\n",
              "      <td>2.506200</td>\n",
              "      <td>2.223341</td>\n",
              "    </tr>\n",
              "    <tr>\n",
              "      <td>79</td>\n",
              "      <td>2.388900</td>\n",
              "      <td>2.234916</td>\n",
              "    </tr>\n",
              "    <tr>\n",
              "      <td>80</td>\n",
              "      <td>2.388900</td>\n",
              "      <td>2.354812</td>\n",
              "    </tr>\n",
              "    <tr>\n",
              "      <td>81</td>\n",
              "      <td>2.388900</td>\n",
              "      <td>2.304757</td>\n",
              "    </tr>\n",
              "    <tr>\n",
              "      <td>82</td>\n",
              "      <td>2.388900</td>\n",
              "      <td>2.262021</td>\n",
              "    </tr>\n",
              "    <tr>\n",
              "      <td>83</td>\n",
              "      <td>2.388900</td>\n",
              "      <td>2.244861</td>\n",
              "    </tr>\n",
              "    <tr>\n",
              "      <td>84</td>\n",
              "      <td>2.388900</td>\n",
              "      <td>2.246793</td>\n",
              "    </tr>\n",
              "    <tr>\n",
              "      <td>85</td>\n",
              "      <td>2.388900</td>\n",
              "      <td>2.232028</td>\n",
              "    </tr>\n",
              "    <tr>\n",
              "      <td>86</td>\n",
              "      <td>2.388900</td>\n",
              "      <td>2.233677</td>\n",
              "    </tr>\n",
              "    <tr>\n",
              "      <td>87</td>\n",
              "      <td>2.388900</td>\n",
              "      <td>2.282063</td>\n",
              "    </tr>\n",
              "    <tr>\n",
              "      <td>88</td>\n",
              "      <td>2.388900</td>\n",
              "      <td>2.219754</td>\n",
              "    </tr>\n",
              "    <tr>\n",
              "      <td>89</td>\n",
              "      <td>2.388900</td>\n",
              "      <td>2.262156</td>\n",
              "    </tr>\n",
              "    <tr>\n",
              "      <td>90</td>\n",
              "      <td>2.388900</td>\n",
              "      <td>2.246267</td>\n",
              "    </tr>\n",
              "    <tr>\n",
              "      <td>91</td>\n",
              "      <td>2.388900</td>\n",
              "      <td>2.209065</td>\n",
              "    </tr>\n",
              "    <tr>\n",
              "      <td>92</td>\n",
              "      <td>2.388900</td>\n",
              "      <td>2.213451</td>\n",
              "    </tr>\n",
              "    <tr>\n",
              "      <td>93</td>\n",
              "      <td>2.388900</td>\n",
              "      <td>2.244420</td>\n",
              "    </tr>\n",
              "    <tr>\n",
              "      <td>94</td>\n",
              "      <td>2.388900</td>\n",
              "      <td>2.227563</td>\n",
              "    </tr>\n",
              "    <tr>\n",
              "      <td>95</td>\n",
              "      <td>2.388900</td>\n",
              "      <td>2.241825</td>\n",
              "    </tr>\n",
              "    <tr>\n",
              "      <td>96</td>\n",
              "      <td>2.388900</td>\n",
              "      <td>2.215844</td>\n",
              "    </tr>\n",
              "    <tr>\n",
              "      <td>97</td>\n",
              "      <td>2.388900</td>\n",
              "      <td>2.199143</td>\n",
              "    </tr>\n",
              "    <tr>\n",
              "      <td>98</td>\n",
              "      <td>2.388900</td>\n",
              "      <td>2.205837</td>\n",
              "    </tr>\n",
              "    <tr>\n",
              "      <td>99</td>\n",
              "      <td>2.388900</td>\n",
              "      <td>2.199275</td>\n",
              "    </tr>\n",
              "    <tr>\n",
              "      <td>100</td>\n",
              "      <td>2.388900</td>\n",
              "      <td>2.199205</td>\n",
              "    </tr>\n",
              "  </tbody>\n",
              "</table><p>"
            ]
          },
          "metadata": {}
        },
        {
          "output_type": "stream",
          "name": "stderr",
          "text": [
            "***** Running Evaluation *****\n",
            "  Num examples = 400\n",
            "  Batch size = 64\n",
            "***** Running Evaluation *****\n",
            "  Num examples = 400\n",
            "  Batch size = 64\n",
            "***** Running Evaluation *****\n",
            "  Num examples = 400\n",
            "  Batch size = 64\n",
            "***** Running Evaluation *****\n",
            "  Num examples = 400\n",
            "  Batch size = 64\n",
            "***** Running Evaluation *****\n",
            "  Num examples = 400\n",
            "  Batch size = 64\n",
            "***** Running Evaluation *****\n",
            "  Num examples = 400\n",
            "  Batch size = 64\n",
            "***** Running Evaluation *****\n",
            "  Num examples = 400\n",
            "  Batch size = 64\n",
            "***** Running Evaluation *****\n",
            "  Num examples = 400\n",
            "  Batch size = 64\n",
            "***** Running Evaluation *****\n",
            "  Num examples = 400\n",
            "  Batch size = 64\n",
            "***** Running Evaluation *****\n",
            "  Num examples = 400\n",
            "  Batch size = 64\n",
            "***** Running Evaluation *****\n",
            "  Num examples = 400\n",
            "  Batch size = 64\n",
            "***** Running Evaluation *****\n",
            "  Num examples = 400\n",
            "  Batch size = 64\n",
            "***** Running Evaluation *****\n",
            "  Num examples = 400\n",
            "  Batch size = 64\n",
            "***** Running Evaluation *****\n",
            "  Num examples = 400\n",
            "  Batch size = 64\n",
            "***** Running Evaluation *****\n",
            "  Num examples = 400\n",
            "  Batch size = 64\n",
            "***** Running Evaluation *****\n",
            "  Num examples = 400\n",
            "  Batch size = 64\n",
            "***** Running Evaluation *****\n",
            "  Num examples = 400\n",
            "  Batch size = 64\n",
            "***** Running Evaluation *****\n",
            "  Num examples = 400\n",
            "  Batch size = 64\n",
            "***** Running Evaluation *****\n",
            "  Num examples = 400\n",
            "  Batch size = 64\n",
            "***** Running Evaluation *****\n",
            "  Num examples = 400\n",
            "  Batch size = 64\n",
            "***** Running Evaluation *****\n",
            "  Num examples = 400\n",
            "  Batch size = 64\n",
            "***** Running Evaluation *****\n",
            "  Num examples = 400\n",
            "  Batch size = 64\n",
            "***** Running Evaluation *****\n",
            "  Num examples = 400\n",
            "  Batch size = 64\n",
            "***** Running Evaluation *****\n",
            "  Num examples = 400\n",
            "  Batch size = 64\n",
            "***** Running Evaluation *****\n",
            "  Num examples = 400\n",
            "  Batch size = 64\n",
            "***** Running Evaluation *****\n",
            "  Num examples = 400\n",
            "  Batch size = 64\n",
            "Saving model checkpoint to my_awesome_model/checkpoint-500\n",
            "Configuration saved in my_awesome_model/checkpoint-500/config.json\n",
            "Model weights saved in my_awesome_model/checkpoint-500/pytorch_model.bin\n",
            "tokenizer config file saved in my_awesome_model/checkpoint-500/tokenizer_config.json\n",
            "Special tokens file saved in my_awesome_model/checkpoint-500/special_tokens_map.json\n",
            "***** Running Evaluation *****\n",
            "  Num examples = 400\n",
            "  Batch size = 64\n",
            "***** Running Evaluation *****\n",
            "  Num examples = 400\n",
            "  Batch size = 64\n",
            "***** Running Evaluation *****\n",
            "  Num examples = 400\n",
            "  Batch size = 64\n",
            "***** Running Evaluation *****\n",
            "  Num examples = 400\n",
            "  Batch size = 64\n",
            "***** Running Evaluation *****\n",
            "  Num examples = 400\n",
            "  Batch size = 64\n",
            "***** Running Evaluation *****\n",
            "  Num examples = 400\n",
            "  Batch size = 64\n",
            "***** Running Evaluation *****\n",
            "  Num examples = 400\n",
            "  Batch size = 64\n",
            "***** Running Evaluation *****\n",
            "  Num examples = 400\n",
            "  Batch size = 64\n",
            "***** Running Evaluation *****\n",
            "  Num examples = 400\n",
            "  Batch size = 64\n",
            "***** Running Evaluation *****\n",
            "  Num examples = 400\n",
            "  Batch size = 64\n",
            "***** Running Evaluation *****\n",
            "  Num examples = 400\n",
            "  Batch size = 64\n",
            "***** Running Evaluation *****\n",
            "  Num examples = 400\n",
            "  Batch size = 64\n",
            "***** Running Evaluation *****\n",
            "  Num examples = 400\n",
            "  Batch size = 64\n",
            "***** Running Evaluation *****\n",
            "  Num examples = 400\n",
            "  Batch size = 64\n",
            "***** Running Evaluation *****\n",
            "  Num examples = 400\n",
            "  Batch size = 64\n",
            "***** Running Evaluation *****\n",
            "  Num examples = 400\n",
            "  Batch size = 64\n",
            "***** Running Evaluation *****\n",
            "  Num examples = 400\n",
            "  Batch size = 64\n",
            "***** Running Evaluation *****\n",
            "  Num examples = 400\n",
            "  Batch size = 64\n",
            "***** Running Evaluation *****\n",
            "  Num examples = 400\n",
            "  Batch size = 64\n",
            "***** Running Evaluation *****\n",
            "  Num examples = 400\n",
            "  Batch size = 64\n",
            "***** Running Evaluation *****\n",
            "  Num examples = 400\n",
            "  Batch size = 64\n",
            "***** Running Evaluation *****\n",
            "  Num examples = 400\n",
            "  Batch size = 64\n",
            "***** Running Evaluation *****\n",
            "  Num examples = 400\n",
            "  Batch size = 64\n",
            "***** Running Evaluation *****\n",
            "  Num examples = 400\n",
            "  Batch size = 64\n",
            "***** Running Evaluation *****\n",
            "  Num examples = 400\n",
            "  Batch size = 64\n",
            "***** Running Evaluation *****\n",
            "  Num examples = 400\n",
            "  Batch size = 64\n",
            "Saving model checkpoint to my_awesome_model/checkpoint-1000\n",
            "Configuration saved in my_awesome_model/checkpoint-1000/config.json\n",
            "Model weights saved in my_awesome_model/checkpoint-1000/pytorch_model.bin\n",
            "tokenizer config file saved in my_awesome_model/checkpoint-1000/tokenizer_config.json\n",
            "Special tokens file saved in my_awesome_model/checkpoint-1000/special_tokens_map.json\n",
            "***** Running Evaluation *****\n",
            "  Num examples = 400\n",
            "  Batch size = 64\n",
            "***** Running Evaluation *****\n",
            "  Num examples = 400\n",
            "  Batch size = 64\n",
            "***** Running Evaluation *****\n",
            "  Num examples = 400\n",
            "  Batch size = 64\n",
            "***** Running Evaluation *****\n",
            "  Num examples = 400\n",
            "  Batch size = 64\n",
            "***** Running Evaluation *****\n",
            "  Num examples = 400\n",
            "  Batch size = 64\n",
            "***** Running Evaluation *****\n",
            "  Num examples = 400\n",
            "  Batch size = 64\n",
            "***** Running Evaluation *****\n",
            "  Num examples = 400\n",
            "  Batch size = 64\n",
            "***** Running Evaluation *****\n",
            "  Num examples = 400\n",
            "  Batch size = 64\n",
            "***** Running Evaluation *****\n",
            "  Num examples = 400\n",
            "  Batch size = 64\n",
            "***** Running Evaluation *****\n",
            "  Num examples = 400\n",
            "  Batch size = 64\n",
            "***** Running Evaluation *****\n",
            "  Num examples = 400\n",
            "  Batch size = 64\n",
            "***** Running Evaluation *****\n",
            "  Num examples = 400\n",
            "  Batch size = 64\n",
            "***** Running Evaluation *****\n",
            "  Num examples = 400\n",
            "  Batch size = 64\n",
            "***** Running Evaluation *****\n",
            "  Num examples = 400\n",
            "  Batch size = 64\n",
            "***** Running Evaluation *****\n",
            "  Num examples = 400\n",
            "  Batch size = 64\n",
            "***** Running Evaluation *****\n",
            "  Num examples = 400\n",
            "  Batch size = 64\n",
            "***** Running Evaluation *****\n",
            "  Num examples = 400\n",
            "  Batch size = 64\n",
            "***** Running Evaluation *****\n",
            "  Num examples = 400\n",
            "  Batch size = 64\n",
            "***** Running Evaluation *****\n",
            "  Num examples = 400\n",
            "  Batch size = 64\n",
            "***** Running Evaluation *****\n",
            "  Num examples = 400\n",
            "  Batch size = 64\n",
            "***** Running Evaluation *****\n",
            "  Num examples = 400\n",
            "  Batch size = 64\n",
            "***** Running Evaluation *****\n",
            "  Num examples = 400\n",
            "  Batch size = 64\n",
            "***** Running Evaluation *****\n",
            "  Num examples = 400\n",
            "  Batch size = 64\n",
            "***** Running Evaluation *****\n",
            "  Num examples = 400\n",
            "  Batch size = 64\n",
            "***** Running Evaluation *****\n",
            "  Num examples = 400\n",
            "  Batch size = 64\n",
            "***** Running Evaluation *****\n",
            "  Num examples = 400\n",
            "  Batch size = 64\n",
            "Saving model checkpoint to my_awesome_model/checkpoint-1500\n",
            "Configuration saved in my_awesome_model/checkpoint-1500/config.json\n",
            "Model weights saved in my_awesome_model/checkpoint-1500/pytorch_model.bin\n",
            "tokenizer config file saved in my_awesome_model/checkpoint-1500/tokenizer_config.json\n",
            "Special tokens file saved in my_awesome_model/checkpoint-1500/special_tokens_map.json\n",
            "***** Running Evaluation *****\n",
            "  Num examples = 400\n",
            "  Batch size = 64\n",
            "***** Running Evaluation *****\n",
            "  Num examples = 400\n",
            "  Batch size = 64\n",
            "***** Running Evaluation *****\n",
            "  Num examples = 400\n",
            "  Batch size = 64\n",
            "***** Running Evaluation *****\n",
            "  Num examples = 400\n",
            "  Batch size = 64\n",
            "***** Running Evaluation *****\n",
            "  Num examples = 400\n",
            "  Batch size = 64\n",
            "***** Running Evaluation *****\n",
            "  Num examples = 400\n",
            "  Batch size = 64\n",
            "***** Running Evaluation *****\n",
            "  Num examples = 400\n",
            "  Batch size = 64\n",
            "***** Running Evaluation *****\n",
            "  Num examples = 400\n",
            "  Batch size = 64\n",
            "***** Running Evaluation *****\n",
            "  Num examples = 400\n",
            "  Batch size = 64\n",
            "***** Running Evaluation *****\n",
            "  Num examples = 400\n",
            "  Batch size = 64\n",
            "***** Running Evaluation *****\n",
            "  Num examples = 400\n",
            "  Batch size = 64\n",
            "***** Running Evaluation *****\n",
            "  Num examples = 400\n",
            "  Batch size = 64\n",
            "***** Running Evaluation *****\n",
            "  Num examples = 400\n",
            "  Batch size = 64\n",
            "***** Running Evaluation *****\n",
            "  Num examples = 400\n",
            "  Batch size = 64\n",
            "***** Running Evaluation *****\n",
            "  Num examples = 400\n",
            "  Batch size = 64\n",
            "***** Running Evaluation *****\n",
            "  Num examples = 400\n",
            "  Batch size = 64\n",
            "***** Running Evaluation *****\n",
            "  Num examples = 400\n",
            "  Batch size = 64\n",
            "***** Running Evaluation *****\n",
            "  Num examples = 400\n",
            "  Batch size = 64\n",
            "***** Running Evaluation *****\n",
            "  Num examples = 400\n",
            "  Batch size = 64\n",
            "***** Running Evaluation *****\n",
            "  Num examples = 400\n",
            "  Batch size = 64\n",
            "***** Running Evaluation *****\n",
            "  Num examples = 400\n",
            "  Batch size = 64\n",
            "***** Running Evaluation *****\n",
            "  Num examples = 400\n",
            "  Batch size = 64\n",
            "\n",
            "\n",
            "Training completed. Do not forget to share your model on huggingface.co/models =)\n",
            "\n",
            "\n"
          ]
        },
        {
          "output_type": "execute_result",
          "data": {
            "text/plain": [
              "TrainOutput(global_step=1900, training_loss=2.484320132606908, metrics={'train_runtime': 2154.2145, 'train_samples_per_second': 55.705, 'train_steps_per_second': 0.882, 'total_flos': 6413735053440000.0, 'train_loss': 2.484320132606908, 'epoch': 100.0})"
            ]
          },
          "metadata": {},
          "execution_count": 121
        }
      ]
    },
    {
      "cell_type": "code",
      "source": [
        "predictions, label_ids, metrics = trainer.predict(eval_dataset)\n",
        "predicted_labels = []\n",
        "for prediction in predictions:\n",
        "  subreddit_index = np.argmax(prediction)\n",
        "  subreddit_label = label_encoder.inverse_transform([subreddit_index])[0]\n",
        "  predicted_labels.append(subreddit_label)\n",
        "\n",
        "from sklearn.metrics import accuracy_score, precision_score, recall_score, f1_score\n",
        "val_accuracy = accuracy_score(labels_val, predicted_labels)\n",
        "val_precision = precision_score(labels_val, predicted_labels, average='macro')\n",
        "val_recall = recall_score(labels_val, predicted_labels, average='macro')\n",
        "val_f1 = f1_score(labels_val, predicted_labels, average='macro')\n",
        "\n",
        "#print evaluation metrics\n",
        "#create table of evaluation metrics\n",
        "df = pd.DataFrame({\n",
        "    'Set': ['Validation'],\n",
        "    'Accuracy': [val_accuracy],\n",
        "    'Macro Precision': [val_precision],\n",
        "    'Macro Recall': [val_recall],\n",
        "    'Macro F1-score': [val_f1]\n",
        "})\n",
        "\n",
        "#highlight row with best validation performance\n",
        "best_val = df.iloc[df['Macro F1-score'].idxmax()]\n",
        "\n",
        "#print table to console\n",
        "print(\"End-to-end classifier using trainer on roberta-base, with learning_rate = 1e-2, Sbatch_size = 64, epochs = 100, weight_decay = 1e-4\")\n",
        "print(df.round(8))"
      ],
      "metadata": {
        "colab": {
          "base_uri": "https://localhost:8080/",
          "height": 185
        },
        "id": "tF2mrJD5A18b",
        "outputId": "b731e129-6337-4f24-b339-45031daeb350"
      },
      "execution_count": 122,
      "outputs": [
        {
          "output_type": "stream",
          "name": "stderr",
          "text": [
            "***** Running Prediction *****\n",
            "  Num examples = 400\n",
            "  Batch size = 64\n"
          ]
        },
        {
          "output_type": "display_data",
          "data": {
            "text/plain": [
              "<IPython.core.display.HTML object>"
            ],
            "text/html": []
          },
          "metadata": {}
        },
        {
          "output_type": "stream",
          "name": "stdout",
          "text": [
            "End-to-end classifier using trainer on roberta-base, with learning_rate = 1e-2, Sbatch_size = 64, epochs = 100, weight_decay = 1e-4\n",
            "          Set  Accuracy  Macro Precision  Macro Recall  Macro F1-score\n",
            "0  Validation  0.1375    0.015278         0.111111      0.026862      \n"
          ]
        },
        {
          "output_type": "stream",
          "name": "stderr",
          "text": [
            "/usr/local/lib/python3.9/dist-packages/sklearn/metrics/_classification.py:1344: UndefinedMetricWarning: Precision is ill-defined and being set to 0.0 in labels with no predicted samples. Use `zero_division` parameter to control this behavior.\n",
            "  _warn_prf(average, modifier, msg_start, len(result))\n"
          ]
        }
      ]
    },
    {
      "cell_type": "markdown",
      "source": [
        "3rd set if parameters:\n"
      ],
      "metadata": {
        "id": "eETQPpFT2aNZ"
      }
    },
    {
      "cell_type": "code",
      "source": [
        "learning_rate = 1e-5\n",
        "batch_size = 32\n",
        "epochs = 25\n",
        "weight_decay = 1e-2\n",
        "\n",
        "training_args = TrainingArguments(\n",
        "    output_dir=\"my_awesome_model\", # HuggingFace wants a name for your model\n",
        "    evaluation_strategy=\"epoch\", # How often we want to evaluate the model\n",
        "    learning_rate=learning_rate, # Hyperparameter\n",
        "    per_device_train_batch_size=batch_size, # Hyperparameter\n",
        "    per_device_eval_batch_size=batch_size, # Hyperparameter\n",
        "    num_train_epochs=epochs, # Hyperparameter\n",
        "    weight_decay=weight_decay, # Hyperparameter\n",
        ")\n",
        "\n",
        "tokenizer = AutoTokenizer.from_pretrained(\"roberta-base\")\n",
        "\n",
        "config = AutoConfig.from_pretrained(\"roberta-base\", num_labels=9)\n",
        "model = AutoModelForSequenceClassification.from_config(config)\n",
        "\n",
        "labels = ['NintendoSwitch','tea','PS4','Coffee','pcgaming','antiMLM','xbox','HydroHomies','Soda']\n",
        "label_encoder = LabelEncoder()\n",
        "encoded_labels_train = label_encoder.fit_transform(labels_train)\n",
        "encoded_labels_val = label_encoder.fit_transform(labels_val)\n",
        "encoded_labels_train\n",
        "\n",
        "encoded_texts_train_for_input_ids = tokenizer(texts_train_cnstd, padding=True, truncation=True, return_tensors=\"pt\")\n",
        "encoded_texts_val_for_input_ids = tokenizer(texts_val_cnstd, padding=True, truncation=True, return_tensors=\"pt\")\n",
        "\n",
        "input_ids_train = encoded_texts_train_for_input_ids[\"input_ids\"]\n",
        "input_ids_val = encoded_texts_val_for_input_ids[\"input_ids\"]\n",
        "\n",
        "train_dataset_dict = {\"input_ids\": input_ids_train, \"labels\": encoded_labels_train}\n",
        "eval_dataset_dict = {\"input_ids\": input_ids_val, \"labels\": encoded_labels_val}\n",
        "print(len(eval_dataset_dict[\"labels\"]))\n",
        "\n",
        "train_dataset = Dataset.from_dict(train_dataset_dict)\n",
        "eval_dataset = Dataset.from_dict(eval_dataset_dict)\n",
        "\n",
        "data_collator = DataCollatorWithPadding(tokenizer=tokenizer)\n",
        "#print(data_collator)\n",
        "\n",
        "trainer = Trainer(\n",
        "    model=model, # The model you want to train\n",
        "    args=training_args, # The various training arguments set up above\n",
        "    train_dataset=train_dataset, # The data to use to update the weights\n",
        "    eval_dataset=eval_dataset, # The data to use for evaluation\n",
        "    tokenizer=tokenizer, # The tokenizer used on the data\n",
        "    data_collator=data_collator, # A data collator that does clever things moving data around\n",
        ")"
      ],
      "metadata": {
        "colab": {
          "base_uri": "https://localhost:8080/"
        },
        "id": "VCuKj9pf2dbv",
        "outputId": "11a1ae48-3038-4476-9e2a-be64d6454731"
      },
      "execution_count": 123,
      "outputs": [
        {
          "output_type": "stream",
          "name": "stderr",
          "text": [
            "PyTorch: setting up devices\n",
            "The default value for the training argument `--report_to` will change in v5 (from all installed integrations to none). In v5, you will need to use `--report_to all` to get the same behavior as now. You should start updating your code and make this info disappear :-).\n",
            "Could not locate the tokenizer configuration file, will try to use the model config instead.\n",
            "loading configuration file config.json from cache at /root/.cache/huggingface/hub/models--roberta-base/snapshots/bc2764f8af2e92b6eb5679868df33e224075ca68/config.json\n",
            "Model config RobertaConfig {\n",
            "  \"_name_or_path\": \"roberta-base\",\n",
            "  \"architectures\": [\n",
            "    \"RobertaForMaskedLM\"\n",
            "  ],\n",
            "  \"attention_probs_dropout_prob\": 0.1,\n",
            "  \"bos_token_id\": 0,\n",
            "  \"classifier_dropout\": null,\n",
            "  \"eos_token_id\": 2,\n",
            "  \"hidden_act\": \"gelu\",\n",
            "  \"hidden_dropout_prob\": 0.1,\n",
            "  \"hidden_size\": 768,\n",
            "  \"initializer_range\": 0.02,\n",
            "  \"intermediate_size\": 3072,\n",
            "  \"layer_norm_eps\": 1e-05,\n",
            "  \"max_position_embeddings\": 514,\n",
            "  \"model_type\": \"roberta\",\n",
            "  \"num_attention_heads\": 12,\n",
            "  \"num_hidden_layers\": 12,\n",
            "  \"pad_token_id\": 1,\n",
            "  \"position_embedding_type\": \"absolute\",\n",
            "  \"transformers_version\": \"4.26.1\",\n",
            "  \"type_vocab_size\": 1,\n",
            "  \"use_cache\": true,\n",
            "  \"vocab_size\": 50265\n",
            "}\n",
            "\n",
            "loading file vocab.json from cache at /root/.cache/huggingface/hub/models--roberta-base/snapshots/bc2764f8af2e92b6eb5679868df33e224075ca68/vocab.json\n",
            "loading file merges.txt from cache at /root/.cache/huggingface/hub/models--roberta-base/snapshots/bc2764f8af2e92b6eb5679868df33e224075ca68/merges.txt\n",
            "loading file tokenizer.json from cache at /root/.cache/huggingface/hub/models--roberta-base/snapshots/bc2764f8af2e92b6eb5679868df33e224075ca68/tokenizer.json\n",
            "loading file added_tokens.json from cache at None\n",
            "loading file special_tokens_map.json from cache at None\n",
            "loading file tokenizer_config.json from cache at None\n",
            "loading configuration file config.json from cache at /root/.cache/huggingface/hub/models--roberta-base/snapshots/bc2764f8af2e92b6eb5679868df33e224075ca68/config.json\n",
            "Model config RobertaConfig {\n",
            "  \"_name_or_path\": \"roberta-base\",\n",
            "  \"architectures\": [\n",
            "    \"RobertaForMaskedLM\"\n",
            "  ],\n",
            "  \"attention_probs_dropout_prob\": 0.1,\n",
            "  \"bos_token_id\": 0,\n",
            "  \"classifier_dropout\": null,\n",
            "  \"eos_token_id\": 2,\n",
            "  \"hidden_act\": \"gelu\",\n",
            "  \"hidden_dropout_prob\": 0.1,\n",
            "  \"hidden_size\": 768,\n",
            "  \"initializer_range\": 0.02,\n",
            "  \"intermediate_size\": 3072,\n",
            "  \"layer_norm_eps\": 1e-05,\n",
            "  \"max_position_embeddings\": 514,\n",
            "  \"model_type\": \"roberta\",\n",
            "  \"num_attention_heads\": 12,\n",
            "  \"num_hidden_layers\": 12,\n",
            "  \"pad_token_id\": 1,\n",
            "  \"position_embedding_type\": \"absolute\",\n",
            "  \"transformers_version\": \"4.26.1\",\n",
            "  \"type_vocab_size\": 1,\n",
            "  \"use_cache\": true,\n",
            "  \"vocab_size\": 50265\n",
            "}\n",
            "\n",
            "loading configuration file config.json from cache at /root/.cache/huggingface/hub/models--roberta-base/snapshots/bc2764f8af2e92b6eb5679868df33e224075ca68/config.json\n",
            "Model config RobertaConfig {\n",
            "  \"_name_or_path\": \"roberta-base\",\n",
            "  \"architectures\": [\n",
            "    \"RobertaForMaskedLM\"\n",
            "  ],\n",
            "  \"attention_probs_dropout_prob\": 0.1,\n",
            "  \"bos_token_id\": 0,\n",
            "  \"classifier_dropout\": null,\n",
            "  \"eos_token_id\": 2,\n",
            "  \"hidden_act\": \"gelu\",\n",
            "  \"hidden_dropout_prob\": 0.1,\n",
            "  \"hidden_size\": 768,\n",
            "  \"id2label\": {\n",
            "    \"0\": \"LABEL_0\",\n",
            "    \"1\": \"LABEL_1\",\n",
            "    \"2\": \"LABEL_2\",\n",
            "    \"3\": \"LABEL_3\",\n",
            "    \"4\": \"LABEL_4\",\n",
            "    \"5\": \"LABEL_5\",\n",
            "    \"6\": \"LABEL_6\",\n",
            "    \"7\": \"LABEL_7\",\n",
            "    \"8\": \"LABEL_8\"\n",
            "  },\n",
            "  \"initializer_range\": 0.02,\n",
            "  \"intermediate_size\": 3072,\n",
            "  \"label2id\": {\n",
            "    \"LABEL_0\": 0,\n",
            "    \"LABEL_1\": 1,\n",
            "    \"LABEL_2\": 2,\n",
            "    \"LABEL_3\": 3,\n",
            "    \"LABEL_4\": 4,\n",
            "    \"LABEL_5\": 5,\n",
            "    \"LABEL_6\": 6,\n",
            "    \"LABEL_7\": 7,\n",
            "    \"LABEL_8\": 8\n",
            "  },\n",
            "  \"layer_norm_eps\": 1e-05,\n",
            "  \"max_position_embeddings\": 514,\n",
            "  \"model_type\": \"roberta\",\n",
            "  \"num_attention_heads\": 12,\n",
            "  \"num_hidden_layers\": 12,\n",
            "  \"pad_token_id\": 1,\n",
            "  \"position_embedding_type\": \"absolute\",\n",
            "  \"transformers_version\": \"4.26.1\",\n",
            "  \"type_vocab_size\": 1,\n",
            "  \"use_cache\": true,\n",
            "  \"vocab_size\": 50265\n",
            "}\n",
            "\n"
          ]
        },
        {
          "output_type": "stream",
          "name": "stdout",
          "text": [
            "400\n"
          ]
        }
      ]
    },
    {
      "cell_type": "code",
      "source": [
        "trainer.train()"
      ],
      "metadata": {
        "colab": {
          "base_uri": "https://localhost:8080/",
          "height": 1000
        },
        "id": "Uqt2BU3Z3eCp",
        "outputId": "06d04bdb-daea-4da4-a6f6-7d03f03cfa8a"
      },
      "execution_count": 124,
      "outputs": [
        {
          "output_type": "stream",
          "name": "stderr",
          "text": [
            "/usr/local/lib/python3.9/dist-packages/transformers/optimization.py:306: FutureWarning: This implementation of AdamW is deprecated and will be removed in a future version. Use the PyTorch implementation torch.optim.AdamW instead, or set `no_deprecation_warning=True` to disable this warning\n",
            "  warnings.warn(\n",
            "***** Running training *****\n",
            "  Num examples = 1200\n",
            "  Num Epochs = 25\n",
            "  Instantaneous batch size per device = 32\n",
            "  Total train batch size (w. parallel, distributed & accumulation) = 32\n",
            "  Gradient Accumulation steps = 1\n",
            "  Total optimization steps = 950\n",
            "  Number of trainable parameters = 124652553\n",
            "You're using a RobertaTokenizerFast tokenizer. Please note that with a fast tokenizer, using the `__call__` method is faster than using a method to encode the text followed by a call to the `pad` method to get a padded encoding.\n"
          ]
        },
        {
          "output_type": "display_data",
          "data": {
            "text/plain": [
              "<IPython.core.display.HTML object>"
            ],
            "text/html": [
              "\n",
              "    <div>\n",
              "      \n",
              "      <progress value='950' max='950' style='width:300px; height:20px; vertical-align: middle;'></progress>\n",
              "      [950/950 09:41, Epoch 25/25]\n",
              "    </div>\n",
              "    <table border=\"1\" class=\"dataframe\">\n",
              "  <thead>\n",
              " <tr style=\"text-align: left;\">\n",
              "      <th>Epoch</th>\n",
              "      <th>Training Loss</th>\n",
              "      <th>Validation Loss</th>\n",
              "    </tr>\n",
              "  </thead>\n",
              "  <tbody>\n",
              "    <tr>\n",
              "      <td>1</td>\n",
              "      <td>No log</td>\n",
              "      <td>2.202411</td>\n",
              "    </tr>\n",
              "    <tr>\n",
              "      <td>2</td>\n",
              "      <td>No log</td>\n",
              "      <td>2.193274</td>\n",
              "    </tr>\n",
              "    <tr>\n",
              "      <td>3</td>\n",
              "      <td>No log</td>\n",
              "      <td>2.205780</td>\n",
              "    </tr>\n",
              "    <tr>\n",
              "      <td>4</td>\n",
              "      <td>No log</td>\n",
              "      <td>2.217999</td>\n",
              "    </tr>\n",
              "    <tr>\n",
              "      <td>5</td>\n",
              "      <td>No log</td>\n",
              "      <td>2.199453</td>\n",
              "    </tr>\n",
              "    <tr>\n",
              "      <td>6</td>\n",
              "      <td>No log</td>\n",
              "      <td>2.199346</td>\n",
              "    </tr>\n",
              "    <tr>\n",
              "      <td>7</td>\n",
              "      <td>No log</td>\n",
              "      <td>2.193736</td>\n",
              "    </tr>\n",
              "    <tr>\n",
              "      <td>8</td>\n",
              "      <td>No log</td>\n",
              "      <td>2.196563</td>\n",
              "    </tr>\n",
              "    <tr>\n",
              "      <td>9</td>\n",
              "      <td>No log</td>\n",
              "      <td>2.204711</td>\n",
              "    </tr>\n",
              "    <tr>\n",
              "      <td>10</td>\n",
              "      <td>No log</td>\n",
              "      <td>2.180887</td>\n",
              "    </tr>\n",
              "    <tr>\n",
              "      <td>11</td>\n",
              "      <td>No log</td>\n",
              "      <td>2.002385</td>\n",
              "    </tr>\n",
              "    <tr>\n",
              "      <td>12</td>\n",
              "      <td>No log</td>\n",
              "      <td>1.966779</td>\n",
              "    </tr>\n",
              "    <tr>\n",
              "      <td>13</td>\n",
              "      <td>No log</td>\n",
              "      <td>1.847558</td>\n",
              "    </tr>\n",
              "    <tr>\n",
              "      <td>14</td>\n",
              "      <td>2.155000</td>\n",
              "      <td>1.803312</td>\n",
              "    </tr>\n",
              "    <tr>\n",
              "      <td>15</td>\n",
              "      <td>2.155000</td>\n",
              "      <td>1.673889</td>\n",
              "    </tr>\n",
              "    <tr>\n",
              "      <td>16</td>\n",
              "      <td>2.155000</td>\n",
              "      <td>1.760973</td>\n",
              "    </tr>\n",
              "    <tr>\n",
              "      <td>17</td>\n",
              "      <td>2.155000</td>\n",
              "      <td>1.628979</td>\n",
              "    </tr>\n",
              "    <tr>\n",
              "      <td>18</td>\n",
              "      <td>2.155000</td>\n",
              "      <td>1.534972</td>\n",
              "    </tr>\n",
              "    <tr>\n",
              "      <td>19</td>\n",
              "      <td>2.155000</td>\n",
              "      <td>1.531210</td>\n",
              "    </tr>\n",
              "    <tr>\n",
              "      <td>20</td>\n",
              "      <td>2.155000</td>\n",
              "      <td>1.449478</td>\n",
              "    </tr>\n",
              "    <tr>\n",
              "      <td>21</td>\n",
              "      <td>2.155000</td>\n",
              "      <td>1.428873</td>\n",
              "    </tr>\n",
              "    <tr>\n",
              "      <td>22</td>\n",
              "      <td>2.155000</td>\n",
              "      <td>1.420663</td>\n",
              "    </tr>\n",
              "    <tr>\n",
              "      <td>23</td>\n",
              "      <td>2.155000</td>\n",
              "      <td>1.413813</td>\n",
              "    </tr>\n",
              "    <tr>\n",
              "      <td>24</td>\n",
              "      <td>2.155000</td>\n",
              "      <td>1.409612</td>\n",
              "    </tr>\n",
              "    <tr>\n",
              "      <td>25</td>\n",
              "      <td>2.155000</td>\n",
              "      <td>1.399868</td>\n",
              "    </tr>\n",
              "  </tbody>\n",
              "</table><p>"
            ]
          },
          "metadata": {}
        },
        {
          "output_type": "stream",
          "name": "stderr",
          "text": [
            "***** Running Evaluation *****\n",
            "  Num examples = 400\n",
            "  Batch size = 32\n",
            "***** Running Evaluation *****\n",
            "  Num examples = 400\n",
            "  Batch size = 32\n",
            "***** Running Evaluation *****\n",
            "  Num examples = 400\n",
            "  Batch size = 32\n",
            "***** Running Evaluation *****\n",
            "  Num examples = 400\n",
            "  Batch size = 32\n",
            "***** Running Evaluation *****\n",
            "  Num examples = 400\n",
            "  Batch size = 32\n",
            "***** Running Evaluation *****\n",
            "  Num examples = 400\n",
            "  Batch size = 32\n",
            "***** Running Evaluation *****\n",
            "  Num examples = 400\n",
            "  Batch size = 32\n",
            "***** Running Evaluation *****\n",
            "  Num examples = 400\n",
            "  Batch size = 32\n",
            "***** Running Evaluation *****\n",
            "  Num examples = 400\n",
            "  Batch size = 32\n",
            "***** Running Evaluation *****\n",
            "  Num examples = 400\n",
            "  Batch size = 32\n",
            "***** Running Evaluation *****\n",
            "  Num examples = 400\n",
            "  Batch size = 32\n",
            "***** Running Evaluation *****\n",
            "  Num examples = 400\n",
            "  Batch size = 32\n",
            "***** Running Evaluation *****\n",
            "  Num examples = 400\n",
            "  Batch size = 32\n",
            "Saving model checkpoint to my_awesome_model/checkpoint-500\n",
            "Configuration saved in my_awesome_model/checkpoint-500/config.json\n",
            "Model weights saved in my_awesome_model/checkpoint-500/pytorch_model.bin\n",
            "tokenizer config file saved in my_awesome_model/checkpoint-500/tokenizer_config.json\n",
            "Special tokens file saved in my_awesome_model/checkpoint-500/special_tokens_map.json\n",
            "***** Running Evaluation *****\n",
            "  Num examples = 400\n",
            "  Batch size = 32\n",
            "***** Running Evaluation *****\n",
            "  Num examples = 400\n",
            "  Batch size = 32\n",
            "***** Running Evaluation *****\n",
            "  Num examples = 400\n",
            "  Batch size = 32\n",
            "***** Running Evaluation *****\n",
            "  Num examples = 400\n",
            "  Batch size = 32\n",
            "***** Running Evaluation *****\n",
            "  Num examples = 400\n",
            "  Batch size = 32\n",
            "***** Running Evaluation *****\n",
            "  Num examples = 400\n",
            "  Batch size = 32\n",
            "***** Running Evaluation *****\n",
            "  Num examples = 400\n",
            "  Batch size = 32\n",
            "***** Running Evaluation *****\n",
            "  Num examples = 400\n",
            "  Batch size = 32\n",
            "***** Running Evaluation *****\n",
            "  Num examples = 400\n",
            "  Batch size = 32\n",
            "***** Running Evaluation *****\n",
            "  Num examples = 400\n",
            "  Batch size = 32\n",
            "***** Running Evaluation *****\n",
            "  Num examples = 400\n",
            "  Batch size = 32\n",
            "***** Running Evaluation *****\n",
            "  Num examples = 400\n",
            "  Batch size = 32\n",
            "\n",
            "\n",
            "Training completed. Do not forget to share your model on huggingface.co/models =)\n",
            "\n",
            "\n"
          ]
        },
        {
          "output_type": "execute_result",
          "data": {
            "text/plain": [
              "TrainOutput(global_step=950, training_loss=1.7408611096833881, metrics={'train_runtime': 582.0337, 'train_samples_per_second': 51.543, 'train_steps_per_second': 1.632, 'total_flos': 1603433763360000.0, 'train_loss': 1.7408611096833881, 'epoch': 25.0})"
            ]
          },
          "metadata": {},
          "execution_count": 124
        }
      ]
    },
    {
      "cell_type": "code",
      "source": [
        "predictions, label_ids, metrics = trainer.predict(eval_dataset)\n",
        "predicted_labels = []\n",
        "for prediction in predictions:\n",
        "  subreddit_index = np.argmax(prediction)\n",
        "  subreddit_label = label_encoder.inverse_transform([subreddit_index])[0]\n",
        "  predicted_labels.append(subreddit_label)\n",
        "\n",
        "\n",
        "from sklearn.metrics import accuracy_score, precision_score, recall_score, f1_score\n",
        "val_accuracy = accuracy_score(labels_val, predicted_labels)\n",
        "val_precision = precision_score(labels_val, predicted_labels, average='macro')\n",
        "val_recall = recall_score(labels_val, predicted_labels, average='macro')\n",
        "val_f1 = f1_score(labels_val, predicted_labels, average='macro')\n",
        "\n",
        "#print evaluation metrics\n",
        "#create table of evaluation metrics\n",
        "df = pd.DataFrame({\n",
        "    'Set': ['Validation'],\n",
        "    'Accuracy': [val_accuracy],\n",
        "    'Macro Precision': [val_precision],\n",
        "    'Macro Recall': [val_recall],\n",
        "    'Macro F1-score': [val_f1]\n",
        "})\n",
        "\n",
        "#highlight row with best validation performance\n",
        "best_val = df.iloc[df['Macro F1-score'].idxmax()]\n",
        "\n",
        "#print table to console\n",
        "print(\"End-to-end classifier using trainer on roberta-base, with learning_rate = 1e-5 batch_size = 32 epochs = 25 weight_decay = 1e-2\")\n",
        "print(df.round(8))"
      ],
      "metadata": {
        "colab": {
          "base_uri": "https://localhost:8080/",
          "height": 128
        },
        "id": "2Gz0nQ8E3kjf",
        "outputId": "faa6ad11-941c-4f24-a6e4-12ae0e8d16c1"
      },
      "execution_count": 125,
      "outputs": [
        {
          "output_type": "stream",
          "name": "stderr",
          "text": [
            "***** Running Prediction *****\n",
            "  Num examples = 400\n",
            "  Batch size = 32\n"
          ]
        },
        {
          "output_type": "display_data",
          "data": {
            "text/plain": [
              "<IPython.core.display.HTML object>"
            ],
            "text/html": []
          },
          "metadata": {}
        },
        {
          "output_type": "stream",
          "name": "stdout",
          "text": [
            "End-to-end classifier using trainer on roberta-base, with learning_rate = 1e-5 batch_size = 32 epochs = 25 weight_decay = 1e-2\n",
            "          Set  Accuracy  Macro Precision  Macro Recall  Macro F1-score\n",
            "0  Validation  0.5625    0.579639         0.561818      0.563639      \n"
          ]
        }
      ]
    },
    {
      "cell_type": "markdown",
      "source": [
        "#Q 6 - Conclusions and Future Work"
      ],
      "metadata": {
        "id": "WiktcpWFBY00"
      }
    },
    {
      "cell_type": "code",
      "source": [
        "from sklearn.linear_model import LogisticRegression\n",
        "vectorizer = TfidfVectorizer(tokenizer=spacyfy, sublinear_tf = True, max_features = 10000, max_df = 0.3)\n",
        "texts_train_tfidf = vectorizer.fit_transform(texts_train)\n",
        "texts_test_tfidf = vectorizer.transform(texts_test)\n",
        "\n",
        "clf_lr_tfidf = LogisticRegression(C = 1.7)\n",
        "clf_lr_tfidf.fit(texts_train_tfidf, labels_train)\n",
        "\n",
        "labels_train_predicted = clf_lr_tfidf.predict(texts_train_tfidf)\n",
        "labels_test_predicted_lrtfidf = clf_lr_tfidf.predict(texts_test_tfidf)\n",
        "\n",
        "#report = classification_report(labels_val, labels_predicted)\n",
        "\n",
        "test_accuracy = accuracy_score(labels_test, labels_test_predicted_lrtfidf)\n",
        "test_precision = precision_score(labels_test, labels_test_predicted_lrtfidf, average='macro')\n",
        "test_recall = recall_score(labels_test, labels_test_predicted_lrtfidf, average='macro')\n",
        "test_f1 = f1_score(labels_test, labels_test_predicted_lrtfidf, average='macro')\n",
        "\n",
        "#print evaluation metrics\n",
        "#create table of evaluation metrics\n",
        "df = pd.DataFrame({\n",
        "    'Set': ['Test'],\n",
        "    'Accuracy': [test_accuracy],\n",
        "    'Macro Precision': [test_precision],\n",
        "    'Macro Recall': [test_recall],\n",
        "    'Macro F1-score': [test_f1]\n",
        "})\n",
        "\n",
        "#highlight row with best validation performance\n",
        "best_val = df.iloc[df['Macro F1-score'].idxmax()]\n",
        "\n",
        "#print table to console\n",
        "print(\"LogisticRegression with TF-IDF vectorization on the test set with sublinear_tf = True, max_features = 10000, max_df = 0.3, and C = 1.7\")\n",
        "print(df.round(8))"
      ],
      "metadata": {
        "colab": {
          "base_uri": "https://localhost:8080/"
        },
        "id": "JP8eN5GaBbi4",
        "outputId": "554050c4-121c-40cf-a139-2e309686ddaf"
      },
      "execution_count": 126,
      "outputs": [
        {
          "output_type": "stream",
          "name": "stderr",
          "text": [
            "/usr/local/lib/python3.9/dist-packages/sklearn/feature_extraction/text.py:528: UserWarning: The parameter 'token_pattern' will not be used since 'tokenizer' is not None'\n",
            "  warnings.warn(\n"
          ]
        },
        {
          "output_type": "stream",
          "name": "stdout",
          "text": [
            "LogisticRegression with TF-IDF vectorization on the test set with sublinear_tf = True, max_features = 10000, max_df = 0.3, and C = 1.7\n",
            "    Set  Accuracy  Macro Precision  Macro Recall  Macro F1-score\n",
            "0  Test  0.8675    0.869354         0.869186      0.868125      \n"
          ]
        }
      ]
    },
    {
      "cell_type": "code",
      "source": [
        "print(labels_test_predicted_lrtfidf[0])"
      ],
      "metadata": {
        "colab": {
          "base_uri": "https://localhost:8080/"
        },
        "id": "lQvb8zG2FYdZ",
        "outputId": "ee9e1edb-9512-4aaf-8ca3-616478525f25"
      },
      "execution_count": 127,
      "outputs": [
        {
          "output_type": "stream",
          "name": "stdout",
          "text": [
            "tea\n"
          ]
        }
      ]
    },
    {
      "cell_type": "code",
      "source": [
        "labels_predicted = []\n",
        "for i in range(len(texts)):\n",
        "  labels_predicted.append(closest_centroid_per_text[i][0])\n",
        "label_dictionary = {'NintendoSwitch':0,'tea':1,'PS4':2,'Coffee':3,'pcgaming':4,'antiMLM':5,'xbox':6,'HydroHomies':7,'Soda':8}\n",
        "labels_numerical = [label_dictionary[label] for label in labels]"
      ],
      "metadata": {
        "id": "Xkrk4DifFKgQ"
      },
      "execution_count": 128,
      "outputs": []
    },
    {
      "cell_type": "code",
      "source": [
        "from sklearn.metrics import confusion_matrix\n",
        "def plotConfusionMatrix(labels_val, labels_predicted):\n",
        "  cm = confusion_matrix(labels_val, labels_predicted)\n",
        "  colour_map = sn.color_palette(\"Reds\", as_cmap=True)\n",
        "  ylabels = ['NintendoSwitch','tea','PS4','Coffee','pcgaming','antiMLM','xbox','HydroHomies','Soda']\n",
        "  xlabels = ['NintendoSwitch','tea','PS4','Coffee','pcgaming','antiMLM','xbox','HydroHomies','Soda']\n",
        "  plot = sn.heatmap(cm[:,:], \n",
        "                    annot=True, # Put the numbers in\n",
        "                    annot_kws={\"size\": 14}, # Make the numbers bigger\n",
        "                    fmt='g', # Stop scientific notation\n",
        "                    cmap = colour_map, # Choose the colour palette\n",
        "                    cbar = False, # Don't include the colour bar\n",
        "                    xticklabels=xlabels, # Put in the X and Y labels\n",
        "                    yticklabels=ylabels)\n",
        "  plot.set(xlabel='Predicted', ylabel='Actual')\n",
        "  return plot\n",
        "\n",
        "plotConfusionMatrix(labels_test, labels_test_predicted_lrtfidf)"
      ],
      "metadata": {
        "colab": {
          "base_uri": "https://localhost:8080/",
          "height": 366
        },
        "id": "Sz2WicgZFOOn",
        "outputId": "53afc166-cfae-4fde-a481-717bb1106d44"
      },
      "execution_count": 129,
      "outputs": [
        {
          "output_type": "execute_result",
          "data": {
            "text/plain": [
              "<AxesSubplot:xlabel='Predicted', ylabel='Actual'>"
            ]
          },
          "metadata": {},
          "execution_count": 129
        },
        {
          "output_type": "display_data",
          "data": {
            "text/plain": [
              "<Figure size 432x288 with 1 Axes>"
            ],
            "image/png": "[encoded data removed]"
          },
          "metadata": {
            "needs_background": "light"
          }
        }
      ]
    },
    {
      "cell_type": "code",
      "source": [
        "zipped = zip(labels_test, labels_test_predicted_lrtfidf)\n",
        "zlist = list(zipped)"
      ],
      "metadata": {
        "id": "NFunckXsJSMy"
      },
      "execution_count": 130,
      "outputs": []
    },
    {
      "cell_type": "code",
      "source": [
        "fn_coffee = []\n",
        "for i in range(len(zlist)):\n",
        "  if (zlist[i][0] == \"Coffee\") & (zlist[i][1] != \"Coffee\"):\n",
        "    fn_coffee.append(i)"
      ],
      "metadata": {
        "id": "GF6ViBaeJz5Z"
      },
      "execution_count": 131,
      "outputs": []
    },
    {
      "cell_type": "code",
      "source": [
        "print(fn_coffee)\n",
        "for ix in fn_coffee:\n",
        "  print(zlist[ix][1])\n",
        "  print(texts_test[ix])\n",
        "  print(\"\\n\")"
      ],
      "metadata": {
        "colab": {
          "base_uri": "https://localhost:8080/"
        },
        "id": "u_OH_GydLFEX",
        "outputId": "63de6210-d380-4a2b-fd39-6d6d30438cf3"
      },
      "execution_count": 132,
      "outputs": [
        {
          "output_type": "stream",
          "name": "stdout",
          "text": [
            "[106, 155, 174, 275, 345]\n",
            "HydroHomies\n",
            "What drink is the best judge of a cafe?\n",
            "Obviously answers will vary, but what is your go to drink when trying a new cafe for the first time to see how it stands up? This barista I know says a flat white, so was interested to see what others thought.\n",
            "\n",
            "\n",
            "PS4\n",
            "Huge shoutout to /u/suareasy! Sent a free Bodum carafe my way, thanks!\n",
            "I just wanted to give a public thanks to /u/suareasy for his generosity. He made a post last week offering a French Press carafe and was kind enough to send it my way, no strings attached. \n",
            "Pic of carafe next to my Bodum Chambord frame and plunger\n",
            "Thank you again!\n",
            "\n",
            "\n",
            "NintendoSwitch\n",
            "What's the one third wave shop you'd recommend visiting for a two-day trip to Anaheim?\n",
            "Willing to Uber to any shop outside of Anaheim, as there doesn't appear to be anything worthwhile around the area. What's the one shop you'd recommend me checking out in the surrounding area? The one that I just need to go to. \n",
            "I have been to Go Get 'Em Tiger when I was in LA a few years ago.\n",
            "\n",
            "\n",
            "pcgaming\n",
            "BES870XL problem\n",
            "My BES870XL has a leaking problem when it tries to make a shot. What parts do I have to replace? Below is the video.\n",
            "https://reddit.com/link/ca7z9c/video/c9lesvwofw831/player\n",
            "​\n",
            "​\n",
            "https://preview.redd.it/blln3plmlz831.jpg?width=1608&format=pjpg&auto=webp&s=e896f327de8ef788b7dc61250aea8f91eb4a0896\n",
            "It seems that the part inside red circle is leaking.\n",
            "\n",
            "\n",
            "PS4\n",
            "Induction frothers: an endangered species? O_o\n",
            "Has anyone else noticed that induction-based milk frothers + heaters are becoming harder to find? Googling \"induction frother\", the two top hits (both on Amazon) are \"currently unavailable\":\n",
            "Eurolux Pro XL EL-4000: http://amzn.com/B01MG5KEN3\n",
            "JAVA Group's Automatic Electric Milk Frother: http://amzn.com/B01MR8CE6I\n",
            "What gives? Are they starting fires? Patent problems? Are they ever coming back?! I own a Eurolux, and I'm terrified of the day it breaks down -- we need answers!\n",
            "PS: People who point to these $5 \"wand frothers\" have surely never had the insanely smooth frothy goodness that comes from an induction frother. I'm talking about milk foam that you can eat with a spoon. Bubbles so fine you don't see bubbles. Froth so good it could start a war, people! Feast your eyes: http://ibb.co/h154Sp\n",
            "\n",
            "\n"
          ]
        }
      ]
    }
  ]
}