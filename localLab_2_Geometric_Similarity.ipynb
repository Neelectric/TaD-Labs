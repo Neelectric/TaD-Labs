{
  "cells": [
    {
      "cell_type": "markdown",
      "metadata": {
        "id": "view-in-github",
        "colab_type": "text"
      },
      "source": [
        "<a href=\"https://colab.research.google.com/github/Neelectric/TaD-Labs/blob/main/localLab_2_Geometric_Similarity.ipynb\" target=\"_parent\"><img src=\"https://colab.research.google.com/assets/colab-badge.svg\" alt=\"Open In Colab\"/></a>"
      ]
    },
    {
      "cell_type": "markdown",
      "source": [
        "# Text as Data Lab 2: Geometric similarity\n",
        "\n",
        "The goal of the first lab is discover several ways to represent documents as numerical vectors and how they can be used for calculating the similarity of our Reddit posts.\n",
        "\n",
        "**Before you start, save a copy of this lab to your drive using \"File > Save a Copy in Drive\".** If you skip this step, you may lose progress that you have made (e.g., if you close the browser tab or your computer crashes).\n",
        "\n",
        "This lab is linked with the second lecture. Please watch the lecture and refer to the slides as needed.\n",
        "\n",
        "In this lab you will learn about:\n",
        "- Representing documents with one-hot encoding, term frequency and TFIDF\n",
        "- Storing vectors using dense and sparse representations\n",
        "- Zipf's law\n",
        "- Using the vectors to calculate similarity"
      ],
      "metadata": {
        "id": "QtJndOXXv2BM"
      },
      "id": "QtJndOXXv2BM"
    },
    {
      "cell_type": "markdown",
      "source": [
        "**Note:** Colab may hide some of this lab by collapsing a section. You'd see something that says \"X cells hidden\" (like below). Click on it to expand that section of the lab.\n"
      ],
      "metadata": {
        "id": "u0n0NPYDyBB8"
      },
      "id": "u0n0NPYDyBB8"
    },
    {
      "cell_type": "markdown",
      "source": [
        "![image.png](data:image/png;base64,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)"
      ],
      "metadata": {
        "id": "VokVMt2ZyJgJ"
      },
      "id": "VokVMt2ZyJgJ"
    },
    {
      "cell_type": "markdown",
      "source": [
        "## Setting up the labtest function\n",
        "\n",
        "As with the first lab, we'll use a `labtest` function so that you can check your code. You need to install and load it with the code below."
      ],
      "metadata": {
        "id": "iyRL3KbzupsJ"
      },
      "id": "iyRL3KbzupsJ"
    },
    {
      "cell_type": "code",
      "source": [
        "# Installs the labtest system and loads the tests for this specific lab\n",
        "\n",
        "!pip install -U git+https://github.com/jakelever/glasgowcs_labtest.git\n",
        "from glasgowcs_labtest.textasdata.lab2 import labtest"
      ],
      "metadata": {
        "id": "zDOMAwmQwZJ5",
        "colab": {
          "base_uri": "https://localhost:8080/"
        },
        "outputId": "12617621-ae41-4f0d-a847-a14753c81cb0"
      },
      "id": "zDOMAwmQwZJ5",
      "execution_count": 38,
      "outputs": [
        {
          "output_type": "stream",
          "name": "stdout",
          "text": [
            "Looking in indexes: https://pypi.org/simple, https://us-python.pkg.dev/colab-wheels/public/simple/\n",
            "Collecting git+https://github.com/jakelever/glasgowcs_labtest.git\n",
            "  Cloning https://github.com/jakelever/glasgowcs_labtest.git to /tmp/pip-req-build-16qq7pck\n",
            "  Running command git clone --filter=blob:none --quiet https://github.com/jakelever/glasgowcs_labtest.git /tmp/pip-req-build-16qq7pck\n",
            "  Resolved https://github.com/jakelever/glasgowcs_labtest.git to commit e5a3451dd219109484ea26d43b08f83e6934d489\n",
            "  Preparing metadata (setup.py) ... \u001b[?25l\u001b[?25hdone\n"
          ]
        }
      ]
    },
    {
      "cell_type": "markdown",
      "source": [
        "## Loading the Reddit data\n",
        "\n",
        "We'll be using the same Reddit data from the previous labs. We will download it and tokenize it with [Spacy](https://spacy.io/) for later use.\n",
        "\n",
        "First, let's download it:"
      ],
      "metadata": {
        "id": "fApkt8zXu35a"
      },
      "id": "fApkt8zXu35a"
    },
    {
      "cell_type": "code",
      "source": [
        "!wget -O reddit_posts.json https://gla-my.sharepoint.com/:u:/g/personal/jake_lever_glasgow_ac_uk/EY_R8Y7DkrxMqXGe-zlgeNkBdJU5ZNTf8FYrN2pqDwddMA?download=1"
      ],
      "metadata": {
        "id": "ehQpMnH5wwYM",
        "colab": {
          "base_uri": "https://localhost:8080/"
        },
        "outputId": "d5d53218-e726-45c5-c4e8-eb1558757eac"
      },
      "id": "ehQpMnH5wwYM",
      "execution_count": 39,
      "outputs": [
        {
          "output_type": "stream",
          "name": "stdout",
          "text": [
            "--2023-02-26 13:14:57--  https://gla-my.sharepoint.com/:u:/g/personal/jake_lever_glasgow_ac_uk/EY_R8Y7DkrxMqXGe-zlgeNkBdJU5ZNTf8FYrN2pqDwddMA?download=1\n",
            "Resolving gla-my.sharepoint.com (gla-my.sharepoint.com)... 13.107.136.8, 13.107.138.8, 2620:1ec:8f8::8, ...\n",
            "Connecting to gla-my.sharepoint.com (gla-my.sharepoint.com)|13.107.136.8|:443... connected.\n",
            "HTTP request sent, awaiting response... 302 Found\n",
            "Location: https://gla-my.sharepoint.com/personal/jake_lever_glasgow_ac_uk/_layouts/15/download.aspx?UniqueId=8ef1d18f92c34cbca9719efb396078d9 [following]\n",
            "--2023-02-26 13:14:57--  https://gla-my.sharepoint.com/personal/jake_lever_glasgow_ac_uk/_layouts/15/download.aspx?UniqueId=8ef1d18f92c34cbca9719efb396078d9\n",
            "Reusing existing connection to gla-my.sharepoint.com:443.\n",
            "HTTP request sent, awaiting response... 200 OK\n",
            "Length: 1279064 (1.2M) [application/json]\n",
            "Saving to: ‘reddit_posts.json’\n",
            "\n",
            "reddit_posts.json   100%[===================>]   1.22M  2.73MB/s    in 0.4s    \n",
            "\n",
            "2023-02-26 13:14:58 (2.73 MB/s) - ‘reddit_posts.json’ saved [1279064/1279064]\n",
            "\n"
          ]
        }
      ]
    },
    {
      "cell_type": "markdown",
      "source": [
        "Let's load in the posts:"
      ],
      "metadata": {
        "id": "PvvQ72A5vnts"
      },
      "id": "PvvQ72A5vnts"
    },
    {
      "cell_type": "code",
      "execution_count": 40,
      "id": "a7bc1fcf",
      "metadata": {
        "id": "a7bc1fcf",
        "colab": {
          "base_uri": "https://localhost:8080/"
        },
        "outputId": "aa110139-9f53-4d4c-ba20-4e14f66bde14"
      },
      "outputs": [
        {
          "output_type": "execute_result",
          "data": {
            "text/plain": [
              "list"
            ]
          },
          "metadata": {},
          "execution_count": 40
        }
      ],
      "source": [
        "import json\n",
        "with open('reddit_posts.json') as f:\n",
        "    posts = json.load(f)\n",
        "\n",
        "len(posts)\n",
        "type(posts)"
      ]
    },
    {
      "cell_type": "markdown",
      "source": [
        "And let's load Spacy."
      ],
      "metadata": {
        "id": "0dA5WFmWvf7N"
      },
      "id": "0dA5WFmWvf7N"
    },
    {
      "cell_type": "code",
      "execution_count": 41,
      "id": "601da9dc",
      "metadata": {
        "id": "601da9dc"
      },
      "outputs": [],
      "source": [
        "import spacy\n",
        "nlp = spacy.load(\"en_core_web_sm\")"
      ]
    },
    {
      "cell_type": "markdown",
      "source": [
        "And we'll use a function that we developed last lab to tokenize the posts."
      ],
      "metadata": {
        "id": "nS7sRLzMvhxi"
      },
      "id": "nS7sRLzMvhxi"
    },
    {
      "cell_type": "code",
      "execution_count": 42,
      "id": "574d351a",
      "metadata": {
        "id": "574d351a",
        "colab": {
          "base_uri": "https://localhost:8080/"
        },
        "outputId": "5f9f0e4b-25fa-4908-816d-03a13aa7d296"
      },
      "outputs": [
        {
          "output_type": "execute_result",
          "data": {
            "text/plain": [
              "['thing', 'miss', 'miss', 'mind']"
            ]
          },
          "metadata": {},
          "execution_count": 42
        }
      ],
      "source": [
        "def text_pipeline_spacy(text):\n",
        "    tokens = []\n",
        "    doc = nlp(text)\n",
        "    for t in doc:\n",
        "        if not t.is_stop and not t.is_punct and not t.is_space:\n",
        "            tokens.append(t.lemma_.lower())\n",
        "    return tokens\n",
        "\n",
        "# Example usage:\n",
        "text_pipeline_spacy(\"Of all the things I miss, I miss my mind the most.\")"
      ]
    },
    {
      "cell_type": "markdown",
      "source": [
        "And let's run it across all the posts to tokenize it. Recall that we can use the [tqdm library](https://tqdm.github.io/) to give us a nice progress bar."
      ],
      "metadata": {
        "id": "uvX7dt9OvySQ"
      },
      "id": "uvX7dt9OvySQ"
    },
    {
      "cell_type": "code",
      "execution_count": 43,
      "id": "ad04d13f",
      "metadata": {
        "id": "ad04d13f",
        "colab": {
          "base_uri": "https://localhost:8080/"
        },
        "outputId": "e2b7bfb7-8366-4744-ce43-e7731aedc6c3"
      },
      "outputs": [
        {
          "output_type": "stream",
          "name": "stderr",
          "text": [
            "100%|██████████| 2000/2000 [00:45<00:00, 44.08it/s]\n"
          ]
        },
        {
          "output_type": "execute_result",
          "data": {
            "text/plain": [
              "{'subreddit': 'Soda',\n",
              " 'title': 'Anyone tried Irn Bru?',\n",
              " 'score': 8,\n",
              " 'id': 'ou5yp1',\n",
              " 'author': 'jackibhoy',\n",
              " 'body': 'It’s a Scottish drink and it’s banned some countries and I was wondering if anyone here has tried it. It has quite a unique taste and it’s not something you’d forget quickly. You either love it or hate it I think.',\n",
              " 'tokens': ['try',\n",
              "  'irn',\n",
              "  'bru',\n",
              "  'scottish',\n",
              "  'drink',\n",
              "  'ban',\n",
              "  'country',\n",
              "  'wonder',\n",
              "  'try',\n",
              "  'unique',\n",
              "  'taste',\n",
              "  'forget',\n",
              "  'quickly',\n",
              "  'love',\n",
              "  'hate',\n",
              "  'think']}"
            ]
          },
          "metadata": {},
          "execution_count": 43
        }
      ],
      "source": [
        "from tqdm import tqdm # This provides a nice progress bar\n",
        "\n",
        "for post in tqdm(posts):\n",
        "    post['tokens'] = text_pipeline_spacy(post['title'] + '\\n' + post['body'])\n",
        "\n",
        "posts[0]"
      ]
    },
    {
      "cell_type": "markdown",
      "source": [
        "We'll use the full Reddit posts later on in the lab."
      ],
      "metadata": {
        "id": "ktpElOcTwDFK"
      },
      "id": "ktpElOcTwDFK"
    },
    {
      "cell_type": "markdown",
      "source": [
        "## Vector representation\n",
        "\n",
        "In this lab, we're going to learn about another representation of documents. Last lab, we used [sets](https://docs.python.org/3/library/stdtypes.html#set) to represent the unique tokens of a document. This lab, we're going to use numerical vectors to represent documents.\n",
        "\n",
        "Before we get started, here is a mini dataset that we'll use for a few of our functions. This is instead of running across the entire Reddit dataset for every function. We'll use the `text_pipeline_spacy` function from above to tokenize the sentences."
      ],
      "metadata": {
        "id": "hbnL0O95KGui"
      },
      "id": "hbnL0O95KGui"
    },
    {
      "cell_type": "code",
      "execution_count": 44,
      "id": "7752d456",
      "metadata": {
        "id": "7752d456",
        "colab": {
          "base_uri": "https://localhost:8080/"
        },
        "outputId": "14dd20d7-02c4-4457-ddce-fe563c25200b"
      },
      "outputs": [
        {
          "output_type": "execute_result",
          "data": {
            "text/plain": [
              "[['favourite', 'soft', 'drink', 'apple', 'tango', 'love', 'irn', 'bru'],\n",
              " ['irn', 'bru', 'great', 'drink'],\n",
              " ['find', 'irn', 'bru', 'st', 'petersburg'],\n",
              " ['irn', 'bru', 'soft', 'drink', 'launch', '1901', 'ag', 'barr'],\n",
              " ['irn', 'bru', 'ag', 'barr', 'cumbernauld']]"
            ]
          },
          "metadata": {},
          "execution_count": 44
        }
      ],
      "source": [
        "mini_sentences = [\n",
        "    \"My favourite soft drink is Apple Tango, but I also love Irn Bru.\",\n",
        "    \"Irn Bru is a great drink.\",\n",
        "    \"I once found a can of Irn Bru in St Petersburg.\",\n",
        "    \"Irn Bru is a soft drink launched in 1901 by AG Barr.\",\n",
        "    \"IRN-BRU is made at AG Barr in Cumbernauld.\"\n",
        "]\n",
        "\n",
        "mini_tokenized = [ text_pipeline_spacy(x) for x in mini_sentences ]\n",
        "\n",
        "mini_tokenized"
      ]
    },
    {
      "cell_type": "markdown",
      "source": [
        "\n",
        "\n",
        "```\n",
        "# This is formatted as code\n",
        "```\n",
        "\n",
        "### Building our own text vectorizer\n",
        "\n",
        "There are a few components to a vectorizer including collecting the vocabulary of a set of documents and several different ways to turn a document into a vector, knowing that vocabulary. We're going to build this up from scratch so you understand all the parts."
      ],
      "metadata": {
        "id": "lDDrYBEHyw1r"
      },
      "id": "lDDrYBEHyw1r"
    },
    {
      "cell_type": "markdown",
      "source": [
        "#### The vocabulary\n",
        "\n",
        "The first thing is to collect all the unique tokens in a corpus (collection of documents). And each unique token should be mapped to an integer ID, which should start from zero.\n",
        "\n",
        "**Exercise:** Write a function `make_vocabulary` that takes a corpus (i.e. a list of lists of tokens like `mini_tokenized` above) and returns a dictionary with each unique token mapped to an integer, starting from zero. The order of the tokens does not matter.\n",
        "\n",
        "For example, the output of `make_vocabulary( [ ['irn','bru','good'], ['irn','bru','bad'] ])` should be `{'bad': 0, 'bru': 1, 'good': 2, 'irn': 3}`. Recall that dictionaries can be created with `{}` just as lists are made with `[]`."
      ],
      "metadata": {
        "id": "uViV30mjy8bJ"
      },
      "id": "uViV30mjy8bJ"
    },
    {
      "cell_type": "code",
      "execution_count": 45,
      "id": "6b93414c",
      "metadata": {
        "id": "6b93414c",
        "colab": {
          "base_uri": "https://localhost:8080/"
        },
        "outputId": "56319f68-fa6a-475e-ff7b-c9cd6f1f4eed"
      },
      "outputs": [
        {
          "output_type": "execute_result",
          "data": {
            "text/plain": [
              "{'irn': 0, 'bru': 1, 'good': 2, 'bad': 3}"
            ]
          },
          "metadata": {},
          "execution_count": 45
        }
      ],
      "source": [
        "def make_vocabulary(corpus):\n",
        "  # your code!\n",
        "  vocab = {}\n",
        "  index = 0\n",
        "  for sublist in corpus:\n",
        "    for elt in sublist:\n",
        "      if elt in vocab:\n",
        "        pass\n",
        "      else:\n",
        "        vocab[elt] = index\n",
        "        index +=1\n",
        "\n",
        "  return vocab\n",
        "\n",
        "# Example usage:\n",
        "make_vocabulary( [ ['irn','bru','good'], ['irn','bru','bad'] ])"
      ]
    },
    {
      "cell_type": "markdown",
      "source": [
        "Remember that you can test your code with the `labtest` function:"
      ],
      "metadata": {
        "id": "eNRFN48hxu-9"
      },
      "id": "eNRFN48hxu-9"
    },
    {
      "cell_type": "code",
      "execution_count": 46,
      "id": "8b0af834",
      "metadata": {
        "id": "8b0af834",
        "colab": {
          "base_uri": "https://localhost:8080/"
        },
        "outputId": "1de7c202-e13f-458a-a2e4-be94b3259afe"
      },
      "outputs": [
        {
          "output_type": "stream",
          "name": "stdout",
          "text": [
            "----------------------------\n",
            "LABTEST: Running 4 testcases\n",
            "----------------------------\n",
            "Input: [['irn', 'bru', 'good'], ['irn', 'bru', 'bad']]. Running... \n",
            "Input: [['go', 'fish', 'today'], ['went', 'fish', 'yesterday']]. Running... \n",
            "Input: [['glasgow', 'city', 'culture', '1990'], ['university', 'glasgow', 'founded', '1451']]. Running... \n",
            "Input: [['expanse', 'season', 'six', 'excellent']]. Running... \n",
            "----------------------------\n",
            "4 testcases PASSED\n",
            "----------------------------\n"
          ]
        }
      ],
      "source": [
        "labtest(make_vocabulary)"
      ]
    },
    {
      "cell_type": "markdown",
      "source": [
        "Let's run it on our mini corpus to see what it happens."
      ],
      "metadata": {
        "id": "dtgcXLlMxyn_"
      },
      "id": "dtgcXLlMxyn_"
    },
    {
      "cell_type": "code",
      "execution_count": 47,
      "id": "f8d4f11b",
      "metadata": {
        "id": "f8d4f11b",
        "colab": {
          "base_uri": "https://localhost:8080/"
        },
        "outputId": "2167a5bf-18b3-4936-a0a2-f7bcb6290f76"
      },
      "outputs": [
        {
          "output_type": "execute_result",
          "data": {
            "text/plain": [
              "{'favourite': 0,\n",
              " 'soft': 1,\n",
              " 'drink': 2,\n",
              " 'apple': 3,\n",
              " 'tango': 4,\n",
              " 'love': 5,\n",
              " 'irn': 6,\n",
              " 'bru': 7,\n",
              " 'great': 8,\n",
              " 'find': 9,\n",
              " 'st': 10,\n",
              " 'petersburg': 11,\n",
              " 'launch': 12,\n",
              " '1901': 13,\n",
              " 'ag': 14,\n",
              " 'barr': 15,\n",
              " 'cumbernauld': 16}"
            ]
          },
          "metadata": {},
          "execution_count": 47
        }
      ],
      "source": [
        "make_vocabulary(mini_tokenized)"
      ]
    },
    {
      "cell_type": "markdown",
      "source": [
        "#### Dense vector representation\n",
        "\n",
        "Now we have our vocabulary, we can start making vectors. We'll start off with a dense one-hot vector. For a vocabulary with `N` unique tokens, a dense vector will contain `N` elements. The one-hot vector means that it will be all zeros except for the elements corresponding to the tokens in that document which are one.\n",
        "\n",
        "**Exercise:** Write a function `make_onehot_dense` that takes in the tokens of a document and the vocab dictionary and returns a one-hot vector (as a list) for that document."
      ],
      "metadata": {
        "id": "ULkHOV2LJv_S"
      },
      "id": "ULkHOV2LJv_S"
    },
    {
      "cell_type": "code",
      "execution_count": 48,
      "id": "018463fc",
      "metadata": {
        "id": "018463fc",
        "colab": {
          "base_uri": "https://localhost:8080/"
        },
        "outputId": "0bd78209-a260-462e-baa7-4cc6d624cf07"
      },
      "outputs": [
        {
          "output_type": "execute_result",
          "data": {
            "text/plain": [
              "[1, 1, 1, 0]"
            ]
          },
          "metadata": {},
          "execution_count": 48
        }
      ],
      "source": [
        "\n",
        "\n",
        "def make_onehot_dense(tokens, vocab):\n",
        "  # your code!\n",
        "  output = []\n",
        "  for option in vocab:\n",
        "    if option in tokens:\n",
        "      output.append(1)\n",
        "    else:\n",
        "      output.append(0)\n",
        "  return output\n",
        "\n",
        "# Example usage:\n",
        "make_onehot_dense(['irn','bru','good','good'], {'irn':0,'bru':1,'good':2,'bad':3})\n",
        "# irn bru good good\n",
        "# [1,0,0,0]\n",
        "# [0,1,0,0]\n",
        "# [0,0,1,0]\n",
        "# [0,0,1,0]\n",
        "\n",
        "#(['text', 'university', 'good', 'good'], {'text': 0, 'python': 1, 'city': 2, 'good': 3, 'university': 4})\n",
        "# [1,0,0,0,0]\n",
        "# [0,0,0,0,1]\n",
        "# [0,0,0,1,0]\n",
        "# [0,0,0,1,0]"
      ]
    },
    {
      "cell_type": "code",
      "execution_count": 49,
      "id": "ba1d2d31",
      "metadata": {
        "id": "ba1d2d31",
        "colab": {
          "base_uri": "https://localhost:8080/"
        },
        "outputId": "360d8097-27e8-4f53-bf31-662a672230c1"
      },
      "outputs": [
        {
          "output_type": "stream",
          "name": "stdout",
          "text": [
            "----------------------------\n",
            "LABTEST: Running 5 testcases\n",
            "----------------------------\n",
            "Input: (['text', 'university', 'good', 'good'], {'text': 0, 'python': 1, 'city': 2, 'good': 3, 'university': 4}). Running... \n",
            "OK.\n",
            "Input: (['coffee', 'university', 'culture', 'coffee'], {'coffee': 0, 'university': 1, 'culture': 2, 'city': 3}). Running... \n",
            "OK.\n",
            "Input: (['university', 'good', 'city', 'university'], {'university': 0, 'city': 1, 'good': 2, 'python': 3}). Running... \n",
            "OK.\n",
            "Input: (['university', 'shop', 'coffee', 'shop'], {'glasgow': 0, 'text': 1, 'coffee': 2, 'shop': 3, 'irn': 4, 'university': 5}). Running... \n",
            "OK.\n",
            "Input: (['culture', 'city', 'culture', 'good', 'shop'], {'city': 0, 'good': 1, 'culture': 2, 'shop': 3}). Running... \n",
            "OK.\n",
            "----------------------------\n",
            "5 testcases PASSED\n",
            "----------------------------\n"
          ]
        }
      ],
      "source": [
        "labtest(make_onehot_dense)"
      ]
    },
    {
      "cell_type": "markdown",
      "source": [
        "You can run it on the mini corpus. You can use the mini corpus later on too if it's helpful to debug your code."
      ],
      "metadata": {
        "id": "mTSsup6Iy0le"
      },
      "id": "mTSsup6Iy0le"
    },
    {
      "cell_type": "code",
      "execution_count": 50,
      "id": "d4fe9b2a",
      "metadata": {
        "id": "d4fe9b2a",
        "colab": {
          "base_uri": "https://localhost:8080/"
        },
        "outputId": "51f56075-f3c3-44c8-d965-b471f23dcb6f"
      },
      "outputs": [
        {
          "output_type": "stream",
          "name": "stdout",
          "text": [
            "['favourite', 'soft', 'drink', 'apple', 'tango', 'love', 'irn', 'bru']\n"
          ]
        }
      ],
      "source": [
        "mini_vocab = make_vocabulary(mini_tokenized)\n",
        "make_onehot_dense(mini_tokenized[0],mini_vocab)\n",
        "print(mini_tokenized[0])"
      ]
    },
    {
      "cell_type": "markdown",
      "source": [
        "#### Sparse vector representation\n",
        "\n",
        "Dense vectors have a big problem. They take up a lot of memory, even when containing only a few non-zero values. We can use a sparse representation that only stores the non-zero data.\n",
        "\n",
        "Remember that a sparse representation is generally a good idea for sparse data (mostly zeros), and a dense representaiton (like above) is a good idea for dense data (mostly non-zeros). If you use the wrong one for the wrong data, you'll have a bad time.\n",
        "\n",
        "We used a `list` to represent our dense vector as below."
      ],
      "metadata": {
        "id": "mQlIYtvuJsqJ"
      },
      "id": "mQlIYtvuJsqJ"
    },
    {
      "cell_type": "code",
      "execution_count": 51,
      "id": "82a231ab",
      "metadata": {
        "id": "82a231ab",
        "colab": {
          "base_uri": "https://localhost:8080/"
        },
        "outputId": "09f6a5a9-1ddc-4c7e-e589-6e1bfabb163d"
      },
      "outputs": [
        {
          "output_type": "execute_result",
          "data": {
            "text/plain": [
              "list"
            ]
          },
          "metadata": {},
          "execution_count": 51
        }
      ],
      "source": [
        "dense_vector = [1,0,1,0,1]\n",
        "type(dense_vector)"
      ]
    },
    {
      "cell_type": "markdown",
      "source": [
        "In the lecture, sparse data was shown as a list of pairs with the first number being the element index of the vector and the second element being the value in that element.\n",
        "\n",
        "For practical reasons, we're going to use a `dict` to represent our sparse vector and not a list of pairs of numbers. This allows a quick look up of values in a sparse vector.\n",
        "\n",
        "Below is a sparse vector that contains the same data as the `dense_vector` variable above."
      ],
      "metadata": {
        "id": "pTYeozWhzniX"
      },
      "id": "pTYeozWhzniX"
    },
    {
      "cell_type": "code",
      "execution_count": 52,
      "id": "5bca1172",
      "metadata": {
        "id": "5bca1172",
        "colab": {
          "base_uri": "https://localhost:8080/"
        },
        "outputId": "42a4f2d3-aaa0-4888-c2d1-5f9c82fdae7e"
      },
      "outputs": [
        {
          "output_type": "execute_result",
          "data": {
            "text/plain": [
              "dict"
            ]
          },
          "metadata": {},
          "execution_count": 52
        }
      ],
      "source": [
        "sparse_vector = {0:1, 2:1, 4:1}\n",
        "type(sparse_vector)"
      ]
    },
    {
      "cell_type": "markdown",
      "source": [
        "Two useful things to know about dictionaries. \n",
        "\n",
        "1. You can give a second argument to the `get` function and if the dictionary doesn't contain it, it will return that value instead. For instance, the `sparse_vector` above doesn't contain a value at element 1:"
      ],
      "metadata": {
        "id": "RxaNZxVE0Nct"
      },
      "id": "RxaNZxVE0Nct"
    },
    {
      "cell_type": "code",
      "source": [
        "sparse_vector.get(1,0)"
      ],
      "metadata": {
        "id": "VGUGRas60a_t",
        "colab": {
          "base_uri": "https://localhost:8080/"
        },
        "outputId": "fbba5392-a970-4c57-aba4-133bff1d36b5"
      },
      "id": "VGUGRas60a_t",
      "execution_count": 53,
      "outputs": [
        {
          "output_type": "execute_result",
          "data": {
            "text/plain": [
              "0"
            ]
          },
          "metadata": {},
          "execution_count": 53
        }
      ]
    },
    {
      "cell_type": "markdown",
      "source": [
        "2. Dictionaries have a function called `items()` that allows you to iterate over the keys and values in the dictionary:"
      ],
      "metadata": {
        "id": "Kq7Q057g0goW"
      },
      "id": "Kq7Q057g0goW"
    },
    {
      "cell_type": "code",
      "execution_count": 54,
      "id": "92f272c0",
      "metadata": {
        "id": "92f272c0",
        "colab": {
          "base_uri": "https://localhost:8080/"
        },
        "outputId": "19e02fd5-adda-4e3e-bc13-d1c349eaad6d"
      },
      "outputs": [
        {
          "output_type": "stream",
          "name": "stdout",
          "text": [
            "0 1\n",
            "2 1\n",
            "4 1\n"
          ]
        }
      ],
      "source": [
        "# Introducing .items()\n",
        "for index,val in sparse_vector.items():\n",
        "  print(index, val)"
      ]
    },
    {
      "cell_type": "markdown",
      "source": [
        "**Exercise:** Write a function `sparse_to_dense` that converts a sparse vector (stored as a `dict`) to a dense vector (stored as a `list`). In this case, you also need to give the length of the vector: `vector_length`."
      ],
      "metadata": {
        "id": "FD6d7Byf1NiK"
      },
      "id": "FD6d7Byf1NiK"
    },
    {
      "cell_type": "code",
      "execution_count": 55,
      "id": "3dbdef40",
      "metadata": {
        "id": "3dbdef40",
        "colab": {
          "base_uri": "https://localhost:8080/"
        },
        "outputId": "f16b3fad-6305-46d3-fb2c-f3c21b1c6414"
      },
      "outputs": [
        {
          "output_type": "execute_result",
          "data": {
            "text/plain": [
              "[1, 0, 1, 0, 1]"
            ]
          },
          "metadata": {},
          "execution_count": 55
        }
      ],
      "source": [
        "def sparse_to_dense(sv, vector_length):\n",
        "  # your code!\n",
        "  output = []\n",
        "  for i in range(vector_length):\n",
        "    output.append(sv.get(i,0))\n",
        "  return output\n",
        "\n",
        "# Example usage:\n",
        "sparse_to_dense({0:1, 2:1, 4:1}, 5)"
      ]
    },
    {
      "cell_type": "code",
      "source": [
        "labtest(sparse_to_dense)"
      ],
      "metadata": {
        "id": "OcC4bjfs1OeF",
        "colab": {
          "base_uri": "https://localhost:8080/"
        },
        "outputId": "4462f932-1fcd-4758-e9ca-1b4f141a054d"
      },
      "id": "OcC4bjfs1OeF",
      "execution_count": 56,
      "outputs": [
        {
          "output_type": "stream",
          "name": "stdout",
          "text": [
            "----------------------------\n",
            "LABTEST: Running 5 testcases\n",
            "----------------------------\n",
            "Input: ({2: 1, 1: 4}, 4). Running... \n",
            "OK.\n",
            "Input: ({4: 2}, 5). Running... \n",
            "OK.\n",
            "Input: ({0: 1, 1: 2, 4: 4}, 7). Running... \n",
            "OK.\n",
            "Input: ({1: 9, 3: 9}, 4). Running... \n",
            "OK.\n",
            "Input: ({4: 8, 0: 5}, 5). Running... \n",
            "OK.\n",
            "----------------------------\n",
            "5 testcases PASSED\n",
            "----------------------------\n"
          ]
        }
      ]
    },
    {
      "cell_type": "markdown",
      "source": [
        "Now that you can see the format of sparse vectors, we'll keep using them from now on. Dense vectors have some serious memory problems as we'll explore so it's good to stick with sparse vectors. Now it's time to rewrite the onehot vector function with sparse vectors.\n",
        "\n",
        "**Exercise**: Write a function `make_onehot_sparse` that gives a one-hot vector like above but returns a sparse vector.\n",
        "\n",
        "For performance reasons, you shouldn't create a dense vector and then convert it, or this lab will run very slowly."
      ],
      "metadata": {
        "id": "TRG9b_EU3zzj"
      },
      "id": "TRG9b_EU3zzj"
    },
    {
      "cell_type": "code",
      "execution_count": 57,
      "id": "5146067d",
      "metadata": {
        "id": "5146067d",
        "colab": {
          "base_uri": "https://localhost:8080/"
        },
        "outputId": "fb225a32-6aec-4a14-d837-2422b6f8dad6"
      },
      "outputs": [
        {
          "output_type": "execute_result",
          "data": {
            "text/plain": [
              "{3: 1, 1: 1, 2: 1}"
            ]
          },
          "metadata": {},
          "execution_count": 57
        }
      ],
      "source": [
        "#{0:1, 2:1, 4:1}\n",
        "def make_onehot_sparse(tokens, vocab):\n",
        "  # your code!\n",
        "  output = {}\n",
        "  for word in tokens:\n",
        "    if vocab[word] not in output:\n",
        "      output[vocab[word]] = 1\n",
        "  return output\n",
        "\n",
        "\n",
        "# Example usage:\n",
        "#make_onehot_sparse(['irn','bru','good','good'], {'irn':0,'bru':1,'good':2,'bad':3})\n",
        "make_onehot_sparse(['bad', 'irn', 'glasgow', 'glasgow', 'bad', 'bad'], {'bru': 0, 'irn': 1, 'glasgow': 2, 'bad': 3, 'coffee': 4, 'kelvin': 5})"
      ]
    },
    {
      "cell_type": "code",
      "execution_count": 58,
      "id": "764bb2ee",
      "metadata": {
        "id": "764bb2ee",
        "colab": {
          "base_uri": "https://localhost:8080/"
        },
        "outputId": "467d55fb-d2fe-45b6-a2bd-f85bde128d52"
      },
      "outputs": [
        {
          "output_type": "stream",
          "name": "stdout",
          "text": [
            "----------------------------\n",
            "LABTEST: Running 5 testcases\n",
            "----------------------------\n",
            "Input: (['bad', 'irn', 'glasgow', 'glasgow', 'bad', 'bad'], {'bru': 0, 'irn': 1, 'glasgow': 2, 'bad': 3, 'coffee': 4, 'kelvin': 5}). Running... \n",
            "OK.\n",
            "Input: (['kelvin', 'kelvin', 'irn', 'irn'], {'coffee': 0, 'shop': 1, 'irn': 2, 'kelvin': 3}). Running... \n",
            "OK.\n",
            "Input: (['culture', 'good', 'city', 'culture'], {'irn': 0, 'good': 1, 'culture': 2, 'city': 3, 'glasgow': 4}). Running... \n",
            "OK.\n",
            "Input: (['city', 'university', 'city', 'glasgow', 'shop', 'university'], {'city': 0, 'shop': 1, 'glasgow': 2, 'irn': 3, 'university': 4}). Running... \n",
            "OK.\n",
            "Input: (['shop', 'shop', 'shop', 'bru', 'irn'], {'shop': 0, 'bad': 1, 'bru': 2, 'irn': 3, 'python': 4}). Running... \n",
            "OK.\n",
            "----------------------------\n",
            "5 testcases PASSED\n",
            "----------------------------\n"
          ]
        }
      ],
      "source": [
        "labtest(make_onehot_sparse)"
      ]
    },
    {
      "cell_type": "markdown",
      "source": [
        "#### Memory usage of dense & sparse vectors\n",
        "\n",
        "Let's explore the performance of dense versus sparse vectors with the Reddit data set. First, let's create a vocabulary. We need to pull out the tokens from each post to give to the `make_vocabulary` function."
      ],
      "metadata": {
        "id": "u1Yq2l7IJlkZ"
      },
      "id": "u1Yq2l7IJlkZ"
    },
    {
      "cell_type": "code",
      "execution_count": 59,
      "id": "9010d996",
      "metadata": {
        "id": "9010d996"
      },
      "outputs": [],
      "source": [
        "post_tokens = [ p['tokens'] for p in posts ]\n",
        "posts_vocab = make_vocabulary(post_tokens)"
      ]
    },
    {
      "cell_type": "markdown",
      "source": [
        "Next, we'll create dense and sparse vectors for every post"
      ],
      "metadata": {
        "id": "eLQouK9r4lv1"
      },
      "id": "eLQouK9r4lv1"
    },
    {
      "cell_type": "code",
      "execution_count": 60,
      "id": "1cd5fa25",
      "metadata": {
        "id": "1cd5fa25"
      },
      "outputs": [],
      "source": [
        "posts_dense = [ make_onehot_dense(p['tokens'], posts_vocab) for p in posts ]\n",
        "posts_sparse = [ make_onehot_sparse(p['tokens'], posts_vocab) for p in posts ]"
      ]
    },
    {
      "cell_type": "markdown",
      "source": [
        "Now we want to check the memory requirements for each set of vectors. The `sys` module has a function `getsizeof`. However, it doesn't quite do what we want. As each set of vectors is a nested structure (e.g. a list of lists or a list of dicts), the `getsizeof` function doesn't calculate it properly as below."
      ],
      "metadata": {
        "id": "P8J8mfM84xHW"
      },
      "id": "P8J8mfM84xHW"
    },
    {
      "cell_type": "code",
      "execution_count": 61,
      "id": "7263cbf5",
      "metadata": {
        "id": "7263cbf5",
        "colab": {
          "base_uri": "https://localhost:8080/"
        },
        "outputId": "7572213c-7ef7-478a-8310-b7c08b105bfd"
      },
      "outputs": [
        {
          "output_type": "stream",
          "name": "stdout",
          "text": [
            "sys.getsizeof(posts_dense)=16552\n",
            "sys.getsizeof(posts_sparse)=16552\n"
          ]
        }
      ],
      "source": [
        "import sys\n",
        "\n",
        "# This doesn't work\n",
        "print(f\"sys.getsizeof(posts_dense)={sys.getsizeof(posts_dense)}\")\n",
        "print(f\"sys.getsizeof(posts_sparse)={sys.getsizeof(posts_sparse)}\")"
      ]
    },
    {
      "cell_type": "markdown",
      "source": [
        "That's in bytes. They should take up more space than that!\n",
        "\n",
        "Instead, we go to good-ol Stack Overflow as a nice person has written a recursive function that can go inside objects to calculate the size:"
      ],
      "metadata": {
        "id": "YWOyU2mL5Hi8"
      },
      "id": "YWOyU2mL5Hi8"
    },
    {
      "cell_type": "code",
      "execution_count": 62,
      "id": "ca77f5e7",
      "metadata": {
        "id": "ca77f5e7"
      },
      "outputs": [],
      "source": [
        "# From https://stackoverflow.com/questions/449560/how-do-i-determine-the-size-of-an-object-in-python\n",
        "\n",
        "def sizeof(obj):\n",
        "  size = sys.getsizeof(obj)\n",
        "  if isinstance(obj, dict): \n",
        "    return size + sum(map(sizeof, obj.keys())) + sum(map(sizeof, obj.values()))\n",
        "  if isinstance(obj, (list, tuple, set, frozenset)):\n",
        "    return size + sum(map(sizeof, obj))\n",
        "  return size"
      ]
    },
    {
      "cell_type": "markdown",
      "source": [
        "The code below runs it for both datasets."
      ],
      "metadata": {
        "id": "gADaCtfK5V5s"
      },
      "id": "gADaCtfK5V5s"
    },
    {
      "cell_type": "code",
      "source": [
        "print(f\"sizeof(posts_dense)={sizeof(posts_dense)}\")\n",
        "print(f\"sizeof(posts_sparse)={sizeof(posts_sparse)}\")"
      ],
      "metadata": {
        "id": "296dIv-P5Po6",
        "colab": {
          "base_uri": "https://localhost:8080/"
        },
        "outputId": "b6ae8335-44f5-4283-e2e2-44a25185e0b1"
      },
      "id": "296dIv-P5Po6",
      "execution_count": 63,
      "outputs": [
        {
          "output_type": "stream",
          "name": "stdout",
          "text": [
            "sizeof(posts_dense)=655020568\n",
            "sizeof(posts_sparse)=6064964\n"
          ]
        }
      ]
    },
    {
      "cell_type": "markdown",
      "source": [
        "Wow! The dense vectors do take up A LOT more memory than the sparse vectors. Let's delete the dense vectors (below) and Python will (eventually) clear the memory being used for them. We'll stick with the sparse vectors."
      ],
      "metadata": {
        "id": "RP5HxQVj5Zm-"
      },
      "id": "RP5HxQVj5Zm-"
    },
    {
      "cell_type": "code",
      "execution_count": 64,
      "id": "12495976",
      "metadata": {
        "id": "12495976"
      },
      "outputs": [],
      "source": [
        "del posts_dense"
      ]
    },
    {
      "cell_type": "markdown",
      "source": [
        "#### Term frequency\n",
        "\n",
        "The one-hot vector only captured whether a token was in a document or not. It doesn't show how frequently the token occurred. We discussed in class that the frequency (term frequency) may be important too as tokens that occur many times may give a clue about the document's topics.\n",
        "\n",
        "Let's take a look at `Counter` first. It may be useful to you. It's a common Python data structure for counting things. You can create a Counter by giving it a list of things to count:"
      ],
      "metadata": {
        "id": "Vr-NZl2iJgPA"
      },
      "id": "Vr-NZl2iJgPA"
    },
    {
      "cell_type": "code",
      "execution_count": 65,
      "id": "93aec984",
      "metadata": {
        "id": "93aec984",
        "colab": {
          "base_uri": "https://localhost:8080/"
        },
        "outputId": "eb2829d4-3a8c-47c2-da33-17a29590726f"
      },
      "outputs": [
        {
          "output_type": "execute_result",
          "data": {
            "text/plain": [
              "Counter({'a': 2, 'b': 1, 'c': 1})"
            ]
          },
          "metadata": {},
          "execution_count": 65
        }
      ],
      "source": [
        "# Recall Counter\n",
        "from collections import Counter\n",
        "counts = Counter(['a','b','a','c'])\n",
        "counts"
      ]
    },
    {
      "cell_type": "markdown",
      "source": [
        "Or create an empty `Counter` and change the values of each element."
      ],
      "metadata": {
        "id": "YzRLiFx26EWz"
      },
      "id": "YzRLiFx26EWz"
    },
    {
      "cell_type": "code",
      "source": [
        "counts = Counter()\n",
        "counts['a'] += 1\n",
        "counts['b'] += 1\n",
        "counts['a'] += 1\n",
        "counts"
      ],
      "metadata": {
        "id": "qC7_S4YP5uA1",
        "colab": {
          "base_uri": "https://localhost:8080/"
        },
        "outputId": "03b90222-f15a-47f4-a197-344e8228a575"
      },
      "id": "qC7_S4YP5uA1",
      "execution_count": 66,
      "outputs": [
        {
          "output_type": "execute_result",
          "data": {
            "text/plain": [
              "Counter({'a': 2, 'b': 1})"
            ]
          },
          "metadata": {},
          "execution_count": 66
        }
      ]
    },
    {
      "cell_type": "markdown",
      "source": [],
      "metadata": {
        "id": "wlBuifQfiyhO"
      },
      "id": "wlBuifQfiyhO"
    },
    {
      "cell_type": "markdown",
      "source": [
        "**Exercise:** Write a function `make_tf_sparse` that creates a vector represention of a document with term-frequency values. Instead of ones and zeros as in `make_onehot_sparse`, the non-zero values should be the term frequencies. You may want to use `Counter`."
      ],
      "metadata": {
        "id": "fp19uzmI6MDZ"
      },
      "id": "fp19uzmI6MDZ"
    },
    {
      "cell_type": "code",
      "execution_count": 67,
      "id": "041cc68e",
      "metadata": {
        "id": "041cc68e",
        "colab": {
          "base_uri": "https://localhost:8080/"
        },
        "outputId": "a9c7dfc5-45b5-402a-82c4-b130ccf1a59a"
      },
      "outputs": [
        {
          "output_type": "execute_result",
          "data": {
            "text/plain": [
              "{0: 1, 1: 1, 2: 2}"
            ]
          },
          "metadata": {},
          "execution_count": 67
        }
      ],
      "source": [
        "def make_tf_sparse(tokens, vocab):\n",
        "  # your code!\n",
        "  output = {}\n",
        "  counts = Counter(tokens)\n",
        "  for element in counts:\n",
        "    output[vocab[element]] = counts[element]\n",
        "  return output\n",
        "\n",
        "# Example usage:\n",
        "make_tf_sparse(['irn','bru','good','good'], {'irn':0,'bru':1,'good':2,'bad':3})"
      ]
    },
    {
      "cell_type": "code",
      "execution_count": 68,
      "id": "d450acfc",
      "metadata": {
        "id": "d450acfc",
        "colab": {
          "base_uri": "https://localhost:8080/"
        },
        "outputId": "53a95fd1-4b5a-410d-af06-6950beca810f"
      },
      "outputs": [
        {
          "output_type": "stream",
          "name": "stdout",
          "text": [
            "----------------------------\n",
            "LABTEST: Running 5 testcases\n",
            "----------------------------\n",
            "Input: (['bad', 'irn', 'glasgow', 'glasgow', 'bad', 'bad'], {'bru': 0, 'irn': 1, 'glasgow': 2, 'bad': 3, 'coffee': 4, 'kelvin': 5}). Running... \n",
            "OK.\n",
            "Input: (['kelvin', 'kelvin', 'irn', 'irn'], {'coffee': 0, 'shop': 1, 'irn': 2, 'kelvin': 3}). Running... \n",
            "OK.\n",
            "Input: (['culture', 'good', 'city', 'culture'], {'irn': 0, 'good': 1, 'culture': 2, 'city': 3, 'glasgow': 4}). Running... \n",
            "OK.\n",
            "Input: (['city', 'university', 'city', 'glasgow', 'shop', 'university'], {'city': 0, 'shop': 1, 'glasgow': 2, 'irn': 3, 'university': 4}). Running... \n",
            "OK.\n",
            "Input: (['shop', 'shop', 'shop', 'bru', 'irn'], {'shop': 0, 'bad': 1, 'bru': 2, 'irn': 3, 'python': 4}). Running... \n",
            "OK.\n",
            "----------------------------\n",
            "5 testcases PASSED\n",
            "----------------------------\n"
          ]
        }
      ],
      "source": [
        "labtest(make_tf_sparse)"
      ]
    },
    {
      "cell_type": "markdown",
      "source": [
        "#### TF-IDF: Term frequency - inverse document frequency\n",
        "\n",
        "The term frequency is certainly important, but maybe only important for some words. Some tokens are so common that they are expected to appear a lot. We've already filtered out many using the stopwords functionality of Spacy. But there will still be many unimportant words.\n",
        "\n",
        "Now we're going to look at TF-IDF which normalizes term frequency with the number of documents that a term appears in. This means that terms that appear across a lot of documents are deemed less important. But first we need to know the number of documents that each token appears in.\n",
        "\n",
        "**Exercise:** Write a function `doc_frequency` that takes a corpus (i.e. a list of token lists like `mini_tokenized` at the start) and returns a dictionary (or Counter) which maps each token to the number of documents it appears in.\n",
        "\n",
        "For example, the input `[['a','b'], ['b','c']]` should give the output: `{'a':1, 'b':2, 'c':1}`"
      ],
      "metadata": {
        "id": "zMuk5ROxJZGZ"
      },
      "id": "zMuk5ROxJZGZ"
    },
    {
      "cell_type": "code",
      "execution_count": 69,
      "id": "35b8b47e",
      "metadata": {
        "id": "35b8b47e",
        "colab": {
          "base_uri": "https://localhost:8080/"
        },
        "outputId": "15c73be8-ea32-4f65-ca30-80d43960a7d6"
      },
      "outputs": [
        {
          "output_type": "execute_result",
          "data": {
            "text/plain": [
              "{'a': 3, 'b': 2, 'c': 1, 'd': 1, 'e': 1, 'f': 1}"
            ]
          },
          "metadata": {},
          "execution_count": 69
        }
      ],
      "source": [
        "def doc_frequency(corpus):\n",
        "  output = {}\n",
        "  for text in corpus:\n",
        "    counts = Counter(text)\n",
        "    for elt in counts:\n",
        "      if elt in output:\n",
        "        output[elt] = output[elt] + 1\n",
        "      else:\n",
        "        output[elt] = 1\n",
        "  return output\n",
        "\n",
        "def doc_frequency_given_vocab(corpus,vocab):\n",
        "  output = {}\n",
        "  for elt in vocab.keys():\n",
        "    output[elt] = 0\n",
        "  for text in corpus:\n",
        "    counts = Counter(text)\n",
        "    for elt in counts:\n",
        "      output[elt] = output[elt] + 1\n",
        "  return output\n",
        "\n",
        "# Example usage:\n",
        "doc_frequency( [ ['a','a','b'], \n",
        "                 ['a','b','b','c'], \n",
        "                 ['a','d','e','f'] ] )"
      ]
    },
    {
      "cell_type": "code",
      "execution_count": 70,
      "id": "79ae33a8",
      "metadata": {
        "id": "79ae33a8",
        "colab": {
          "base_uri": "https://localhost:8080/"
        },
        "outputId": "df284367-e107-40c5-e309-886c6453bfd7"
      },
      "outputs": [
        {
          "output_type": "stream",
          "name": "stdout",
          "text": [
            "----------------------------\n",
            "LABTEST: Running 5 testcases\n",
            "----------------------------\n",
            "Input: ([['irn', 'kelvin'], ['glasgow', 'bad'], ['bru', 'glasgow'], ['glasgow', 'irn']],). Running... \n",
            "OK.\n",
            "Input: ([['python', 'culture', 'bad'], ['bad', 'culture', 'culture', 'culture']],). Running... \n",
            "OK.\n",
            "Input: ([['university', 'irn', 'university', 'culture'], ['bru', 'coffee']],). Running... \n",
            "OK.\n",
            "Input: ([['bad', 'bru', 'glasgow', 'glasgow'], ['glasgow', 'bad'], ['bad', 'bru', 'kelvin']],). Running... \n",
            "OK.\n",
            "Input: ([['city', 'bad', 'kelvin', 'coffee'], ['bru', 'city', 'kelvin', 'coffee']],). Running... \n",
            "OK.\n",
            "----------------------------\n",
            "5 testcases PASSED\n",
            "----------------------------\n"
          ]
        }
      ],
      "source": [
        "labtest(doc_frequency)"
      ]
    },
    {
      "cell_type": "markdown",
      "source": [
        "We can run it on the slightly larger set `mini_tokenized`."
      ],
      "metadata": {
        "id": "0JyEqWPY8UXJ"
      },
      "id": "0JyEqWPY8UXJ"
    },
    {
      "cell_type": "code",
      "execution_count": 71,
      "id": "81139693",
      "metadata": {
        "id": "81139693",
        "colab": {
          "base_uri": "https://localhost:8080/"
        },
        "outputId": "0e957529-33e1-484b-e633-cd6caf8299f7"
      },
      "outputs": [
        {
          "output_type": "execute_result",
          "data": {
            "text/plain": [
              "{'favourite': 1,\n",
              " 'soft': 2,\n",
              " 'drink': 3,\n",
              " 'apple': 1,\n",
              " 'tango': 1,\n",
              " 'love': 1,\n",
              " 'irn': 5,\n",
              " 'bru': 5,\n",
              " 'great': 1,\n",
              " 'find': 1,\n",
              " 'st': 1,\n",
              " 'petersburg': 1,\n",
              " 'launch': 1,\n",
              " '1901': 1,\n",
              " 'ag': 2,\n",
              " 'barr': 2,\n",
              " 'cumbernauld': 1}"
            ]
          },
          "metadata": {},
          "execution_count": 71
        }
      ],
      "source": [
        "doc_frequency(mini_tokenized)"
      ]
    },
    {
      "cell_type": "markdown",
      "source": [
        "Now we come to calculating TF-IDF. There are a few ways to calculate both the term frequency and inverse document frequency components.\n",
        "\n",
        "As discussed in class, it can be a good idea to use logarithms during these calculations so that very frequent words aren't weighted too highly. \n",
        "\n",
        "Refer to the slides in Lecture 2 for the equations to use for term frequency and inverse document frequency respectively. We'll use log 10 for both equations. And recall that TF-IDF is TF multiplied by IDF for each token.\n",
        "\n",
        "**Exercise:** Using the given definitions of TF and IDF, write a function  `make_tfidf_sparse` that returns the TF-IDF sparse vector for a document (given the list of tokens and the vocabulary mapping)."
      ],
      "metadata": {
        "id": "zXtSQoJE8cVz"
      },
      "id": "zXtSQoJE8cVz"
    },
    {
      "cell_type": "code",
      "execution_count": 72,
      "id": "745f57c9",
      "metadata": {
        "id": "745f57c9",
        "colab": {
          "base_uri": "https://localhost:8080/"
        },
        "outputId": "ce0839a5-7180-4d61-93a8-3643104bb70a"
      },
      "outputs": [
        {
          "output_type": "execute_result",
          "data": {
            "text/plain": [
              "{0: 0.3979400086720376, 1: 0.3979400086720376, 2: 0.20153209632859362}"
            ]
          },
          "metadata": {},
          "execution_count": 72
        }
      ],
      "source": [
        "import math\n",
        "\n",
        "def make_tfidf_sparse(tokens, vocab, doc_freq, N):\n",
        "  sparse_vector = {}\n",
        "  counts = Counter(tokens)\n",
        "  for t,c in counts.items():\n",
        "    tf = 1 + math.log10(c) if c > 0 else 0\n",
        "    idf = math.log10(N / doc_freq[t])\n",
        "    sparse_vector[vocab[t]] = tf*idf\n",
        "      \n",
        "  return sparse_vector\n",
        "# Example usage:\n",
        "make_tfidf_sparse(['irn','bru','good','good'],\n",
        "                  {'irn':0,'bru':1,'good':2,'bad':3},\n",
        "                  {'irn':4,'bru':4,'good':7,'bad':9},\n",
        "                  10)"
      ]
    },
    {
      "cell_type": "code",
      "execution_count": 73,
      "id": "4da6edda",
      "metadata": {
        "id": "4da6edda",
        "colab": {
          "base_uri": "https://localhost:8080/"
        },
        "outputId": "6677dc20-c29f-420b-9768-290f482d07a6"
      },
      "outputs": [
        {
          "output_type": "stream",
          "name": "stdout",
          "text": [
            "----------------------------\n",
            "LABTEST: Running 5 testcases\n",
            "----------------------------\n",
            "Input: (['irn', 'kelvin'], {'bru': 0, 'irn': 1, 'glasgow': 2, 'bad': 3, 'coffee': 4, 'kelvin': 5}, {'kelvin': 4, 'irn': 5, 'bad': 5, 'glasgow': 6, 'bru': 4, 'coffee': 3}, 10). Running... \n",
            "OK.\n",
            "Input: (['bad', 'bru', 'glasgow', 'glasgow'], {'bru': 0, 'bad': 1, 'kelvin': 2, 'culture': 3, 'glasgow': 4}, {'bad': 3, 'glasgow': 4, 'bru': 5, 'kelvin': 5, 'culture': 3}, 8). Running... \n",
            "OK.\n",
            "Input: (['kelvin', 'city', 'city'], {'kelvin': 0, 'shop': 1, 'culture': 2, 'python': 3, 'city': 4}, {'kelvin': 2, 'city': 4, 'culture': 2, 'python': 2, 'shop': 1}, 6). Running... \n",
            "OK.\n",
            "Input: (['bru', 'good', 'glasgow'], {'coffee': 0, 'good': 1, 'kelvin': 2, 'bru': 3, 'glasgow': 4}, {'good': 5, 'glasgow': 6, 'bru': 5, 'kelvin': 5, 'coffee': 4}, 10). Running... \n",
            "OK.\n",
            "Input: (['coffee', 'bru', 'bru', 'irn'], {'irn': 0, 'city': 1, 'bru': 2, 'coffee': 3}, {'irn': 2, 'coffee': 4, 'bru': 5, 'city': 3}, 6). Running... \n",
            "OK.\n",
            "----------------------------\n",
            "5 testcases PASSED\n",
            "----------------------------\n"
          ]
        }
      ],
      "source": [
        "labtest(make_tfidf_sparse)"
      ]
    },
    {
      "cell_type": "markdown",
      "source": [
        "#### Using your vectorizer with a new corpus\n",
        "\n",
        "There are plenty of scenarios where you may want to vectorize new documents without starting from scratch and redefining your vocabulary:\n",
        "\n",
        "- It may have been computationally expensive and you just want to add some more document vectors to your existing collection and don't care about any novel tokens\n",
        "- You may be splitting your data into training and test sets for a machine learning experiment. You could want to vectorize your training set and test set separately but in the same way, using the vocabulary of your training set only.\n",
        "\n",
        "Let's create some vectorizer functions that are happy to work with new text. The big hurdle is how to deal with tokens which aren't in your original vocabulary. There are two approaches:\n",
        "\n",
        "1. Ignore them - very popular and actually makes a lot of sense. If you've never seen them before, you may not know what to do with them\n",
        "2. Treat them as a special token `<UNK>` - may be useful for certain applications to know that there are new tokens in your text\n",
        "\n",
        "Let's start with the first option. We'll do one-hot encoding as the functions will be simpler.\n",
        "\n",
        "**Exercise:** Write a function `make_onehot_ignorenewtokens` which works like `make_onehot_sparse` and ignores any tokens that aren't in the vocabulary."
      ],
      "metadata": {
        "id": "AejEN60kRlcR"
      },
      "id": "AejEN60kRlcR"
    },
    {
      "cell_type": "code",
      "source": [
        "def make_onehot_ignorenewtokens(tokens, vocab):\n",
        "  # your code!\n",
        "  output = {}\n",
        "  for word in tokens:\n",
        "    if word in vocab.keys():\n",
        "      output[vocab[word]] = 1\n",
        "  return output\n",
        "\n",
        "# Example usage:\n",
        "make_onehot_ignorenewtokens(['irn','bru','fantastic'], {'irn':0,'bru':1,'good':2,'bad':3})"
      ],
      "metadata": {
        "id": "YtyGM1sjS7w_",
        "colab": {
          "base_uri": "https://localhost:8080/"
        },
        "outputId": "1217b58c-f8c4-4bf4-9125-1ca394b5d729"
      },
      "id": "YtyGM1sjS7w_",
      "execution_count": 75,
      "outputs": [
        {
          "output_type": "execute_result",
          "data": {
            "text/plain": [
              "{0: 1, 1: 1}"
            ]
          },
          "metadata": {},
          "execution_count": 75
        }
      ]
    },
    {
      "cell_type": "code",
      "source": [
        "# your code!\n",
        "  vocab = {}\n",
        "  index = 0\n",
        "  for sublist in corpus:\n",
        "    for elt in sublist:\n",
        "      if elt in vocab:\n",
        "        pass\n",
        "      else:\n",
        "        vocab[elt] = index\n",
        "        index +=1\n",
        "\n",
        "  return vocablabtest(make_onehot_ignorenewtokens)"
      ],
      "metadata": {
        "id": "Xx5bk62lTKmf",
        "colab": {
          "base_uri": "https://localhost:8080/"
        },
        "outputId": "0e85f632-20c3-41a5-92b4-66a763dce006"
      },
      "id": "Xx5bk62lTKmf",
      "execution_count": 76,
      "outputs": [
        {
          "output_type": "stream",
          "name": "stdout",
          "text": [
            "----------------------------\n",
            "LABTEST: Running 5 testcases\n",
            "----------------------------\n",
            "Input: (['bad', 'irn', 'glasgow', 'edinburgh', 'glasgow', 'bad', 'bad'], {'bru': 0, 'irn': 1, 'glasgow': 2, 'bad': 3, 'coffee': 4, 'kelvin': 5}). Running... \n",
            "OK.\n",
            "Input: (['thames', 'kelvin', 'kelvin', 'irn', 'clyde', 'irn'], {'coffee': 0, 'shop': 1, 'irn': 2, 'kelvin': 3}). Running... \n",
            "OK.\n",
            "Input: (['culture', 'good', 'city', 'culture', 'books'], {'irn': 0, 'good': 1, 'culture': 2, 'city': 3, 'glasgow': 4}). Running... \n",
            "OK.\n",
            "Input: (['city', 'university', 'edinburgh', 'city', 'glasgow', 'shop', 'university', 'library'], {'city': 0, 'shop': 1, 'glasgow': 2, 'irn': 3, 'university': 4}). Running... \n",
            "OK.\n",
            "Input: (['shop', 'shop', 'shop', 'bru', 'irn', 'vimto'], {'shop': 0, 'bad': 1, 'bru': 2, 'irn': 3, 'python': 4}). Running... \n",
            "OK.\n",
            "----------------------------\n",
            "5 testcases PASSED\n",
            "----------------------------\n"
          ]
        }
      ]
    },
    {
      "cell_type": "markdown",
      "source": [
        "# your code!\n",
        " \n",
        "nd option for dealing with new tokens is to add a special `<UNK>` token (which stands for unknown) to the vocabulary and map everything new to that.\n",
        "\n",
        "**Exercise:** Write a function `make_vocabulary_with_unk` (by slightly modifying `make_vocabulary`) that adds a `<UNK>` token to the vocabulary."
      ],
      "metadata": {
        "id": "agyUn76_TpPN"
      },
      "id": "agyUn76_TpPN"
    },
    {
      "cell_type": "code",
      "source": [
        "def make_vocabulary_with_unk(corpus):\n",
        "  # your code!\n",
        "  vocab = {}\n",
        "  index = 0\n",
        "  for sublist in corpus:\n",
        "    for elt in sublist:\n",
        "      if elt in vocab:\n",
        "        pass\n",
        "      else:\n",
        "        vocab[elt] = index\n",
        "        index +=1\n",
        "  vocab[\"<UNK>\"] = index\n",
        "  return vocab\n",
        "\n",
        "\n",
        "\n",
        "# Example usage:\n",
        "make_vocabulary_with_unk( [ ['irn','bru','good'], ['irn','bru','bad'] ])"
      ],
      "metadata": {
        "id": "8EHFBL7VT5jI",
        "colab": {
          "base_uri": "https://localhost:8080/"
        },
        "outputId": "2c433435-bbe4-4ee9-c6c6-f9b9cf5822aa"
      },
      "id": "8EHFBL7VT5jI",
      "execution_count": 77,
      "outputs": [
        {
          "output_type": "execute_result",
          "data": {
            "text/plain": [
              "{'irn': 0, 'bru': 1, 'good': 2, 'bad': 3, '<UNK>': 4}"
            ]
          },
          "metadata": {},
          "execution_count": 77
        }
      ]
    },
    {
      "cell_type": "code",
      "source": [
        "labtest(make_vocabulary_with_unk)"
      ],
      "metadata": {
        "id": "PCqRym3YTn5-",
        "colab": {
          "base_uri": "https://localhost:8080/"
        },
        "outputId": "277f8202-1b10-4e8d-f291-1b4e2c20acf6"
      },
      "id": "PCqRym3YTn5-",
      "execution_count": 78,
      "outputs": [
        {
          "output_type": "stream",
          "name": "stdout",
          "text": [
            "----------------------------\n",
            "LABTEST: Running 4 testcases\n",
            "----------------------------\n",
            "Input: [['irn', 'bru', 'good'], ['irn', 'bru', 'bad']]. Running... \n",
            "Input: [['go', 'fish', 'today'], ['went', 'fish', 'yesterday']]. Running... \n",
            "Input: [['glasgow', 'city', 'culture', '1990'], ['university', 'glasgow', 'founded', '1451']]. Running... \n",
            "Input: [['expanse', 'season', 'six', 'excellent']]. Running... \n",
            "----------------------------\n",
            "4 testcases PASSED\n",
            "----------------------------\n"
          ]
        }
      ]
    },
    {
      "cell_type": "markdown",
      "source": [
        "Now, time to use our vocabulary with `<UNK>` to create a vector.\n",
        "\n",
        "**Exercise:** Write a `make_onehot_unk` function that create a sparse one hot encoding of the input tokens and maps any new tokens (not in the vocabulary) to the `<UNK>` token id."
      ],
      "metadata": {
        "id": "UzxniFzfVHgS"
      },
      "id": "UzxniFzfVHgS"
    },
    {
      "cell_type": "code",
      "source": [
        "def make_onehot_unk(tokens, vocab):\n",
        "  # your code!\n",
        "  output = {}\n",
        "  for token in tokens:\n",
        "    if token not in vocab:\n",
        "      output[\"<UNK>\"] = 1\n",
        "    else:\n",
        "      output[vocab[token]] = 1\n",
        "  return output\n",
        "\n",
        "# Example usage:\n",
        "make_onehot_unk(['irn','bru','fantastic'], {'irn':0,'bru':1,'good':2,'bad':3,'<UNK>':4})"
      ],
      "metadata": {
        "id": "Luiiva2gVt5y",
        "colab": {
          "base_uri": "https://localhost:8080/"
        },
        "outputId": "f4bf3423-c675-4208-9fdc-f756b6402f06"
      },
      "id": "Luiiva2gVt5y",
      "execution_count": 79,
      "outputs": [
        {
          "output_type": "execute_result",
          "data": {
            "text/plain": [
              "{0: 1, 1: 1, '<UNK>': 1}"
            ]
          },
          "metadata": {},
          "execution_count": 79
        }
      ]
    },
    {
      "cell_type": "markdown",
      "source": [
        "### Zipf's Law\n",
        "\n",
        "We'll take a little interlude to show why we used logarithms in the TFIDF equations. In basically any text corpus, there are a small number of very frequent tokens while most tokens appear fairly infrequently. This is known as [Zipf's law](https://en.wikipedia.org/wiki/Zipf's_law). Let's see if it's true in our Reddit data.\n",
        "\n",
        "First, let's get the counts for each token. This will look similar to your `doc_frequency` function above, but we're counting all mentions of tokens. So if it appears multiple times in a single document, every mention counts."
      ],
      "metadata": {
        "id": "ZTjbBC8EJR_y"
      },
      "id": "ZTjbBC8EJR_y"
    },
    {
      "cell_type": "code",
      "execution_count": 80,
      "id": "3dd50a1c",
      "metadata": {
        "id": "3dd50a1c"
      },
      "outputs": [],
      "source": [
        "from collections import Counter\n",
        "token_counts = Counter()\n",
        "for post in posts:\n",
        "  for token in post['tokens']:\n",
        "    token_counts[token] += 1"
      ]
    },
    {
      "cell_type": "markdown",
      "source": [
        "We'll order them and calculate their rank (whether they are first, second, third, etc in the list). The `most_common` function on a Counter is nice as it returns the Counter data in descending order. We use a list comprehension with the [enumerate function](https://docs.python.org/3/library/functions.html#enumerate) to help us calculate the rank."
      ],
      "metadata": {
        "id": "W_zklb9gB0cI"
      },
      "id": "W_zklb9gB0cI"
    },
    {
      "cell_type": "code",
      "execution_count": 82,
      "id": "7df1db5f",
      "metadata": {
        "id": "7df1db5f"
      },
      "outputs": [],
      "source": [
        "token_counts_in_order = token_counts.most_common(len(token_counts))\n",
        "token_counts_with_rank = [ (i+1,t,c) for i,(t,c) in enumerate(token_counts_in_order)]"
      ]
    },
    {
      "cell_type": "markdown",
      "source": [
        "Let's have a look at the top ten tokens in the list. Remember that we have already removed stopwords (so things like \"the\" shouldn't appear)."
      ],
      "metadata": {
        "id": "aSczkj24CFvl"
      },
      "id": "aSczkj24CFvl"
    },
    {
      "cell_type": "code",
      "execution_count": 83,
      "id": "e3eb0a25",
      "metadata": {
        "id": "e3eb0a25",
        "colab": {
          "base_uri": "https://localhost:8080/"
        },
        "outputId": "7b4f6ded-830c-4156-908d-7a3c1ded6be2"
      },
      "outputs": [
        {
          "output_type": "execute_result",
          "data": {
            "text/plain": [
              "[(1, 'game', 1327),\n",
              " (2, 'like', 942),\n",
              " (3, 'tea', 793),\n",
              " (4, 'know', 640),\n",
              " (5, 'play', 607),\n",
              " (6, 'try', 560),\n",
              " (7, 'good', 558),\n",
              " (8, 'water', 533),\n",
              " (9, 'want', 507),\n",
              " (10, 'get', 498)]"
            ]
          },
          "metadata": {},
          "execution_count": 83
        }
      ],
      "source": [
        "token_counts_with_rank[:10]"
      ]
    },
    {
      "cell_type": "markdown",
      "source": [
        "Now we're going to do some plotting. We'll use [plotly](https://plotly.com/python/) as it makes some nice interactive plots. To import it and make it place nice in Colab, we use the following code."
      ],
      "metadata": {
        "id": "nn53GGA3CZDc"
      },
      "id": "nn53GGA3CZDc"
    },
    {
      "cell_type": "code",
      "execution_count": 84,
      "id": "f7c4655a",
      "metadata": {
        "id": "f7c4655a"
      },
      "outputs": [],
      "source": [
        "import plotly.io as pio\n",
        "pio.renderers.default='colab'"
      ]
    },
    {
      "cell_type": "markdown",
      "source": [
        "Let's plot the token ranks against their frequency. You can move your mouse of points to see which token it is."
      ],
      "metadata": {
        "id": "jF2h8M-iCiK6"
      },
      "id": "jF2h8M-iCiK6"
    },
    {
      "cell_type": "code",
      "execution_count": 85,
      "id": "62edfcd0",
      "metadata": {
        "id": "62edfcd0",
        "colab": {
          "base_uri": "https://localhost:8080/",
          "height": 542
        },
        "outputId": "350052fa-d08f-47da-9d65-16534675e381"
      },
      "outputs": [
        {
          "output_type": "display_data",
          "data": {
            "text/html": [
              "<html>\n",
              "<head><meta charset=\"utf-8\" /></head>\n",
              "<body>\n",
              "    <div>            <script src=\"https://cdnjs.cloudflare.com/ajax/libs/mathjax/2.7.5/MathJax.js?config=TeX-AMS-MML_SVG\"></script><script type=\"text/javascript\">if (window.MathJax) {MathJax.Hub.Config({SVG: {font: \"STIX-Web\"}});}</script>                <script type=\"text/javascript\">window.PlotlyConfig = {MathJaxConfig: 'local'};</script>\n",
              "        <script src=\"https://cdn.plot.ly/plotly-2.8.3.min.js\"></script>                <div id=\"8097aa80-e325-4faa-940c-9d74edbfd39d\" class=\"plotly-graph-div\" style=\"height:525px; width:100%;\"></div>            <script type=\"text/javascript\">                                    window.PLOTLYENV=window.PLOTLYENV || {};                                    if (document.getElementById(\"8097aa80-e325-4faa-940c-9d74edbfd39d\")) {                    Plotly.newPlot(                        \"8097aa80-e325-4faa-940c-9d74edbfd39d\",                        [{\"hovertemplate\":\"<b>%{hovertext}</b><br><br>Rank=%{x}<br>Frequency=%{y}<extra></extra>\",\"hovertext\":[\"game\",\"like\",\"tea\",\"know\",\"play\",\"try\",\"good\",\"water\",\"want\",\"get\",\"coffee\",\"look\",\"think\",\"buy\",\"time\",\"find\",\"switch\",\"drink\",\"work\",\"new\",\"go\",\"xbox\",\"people\",\"day\",\"mlm\",\"help\",\"use\",\"thank\",\"start\",\"post\",\"need\",\"love\",\"feel\",\"thing\",\"2\",\"year\",\"soda\",\"way\",\"come\",\"say\",\"friend\",\"series\",\"taste\",\"ps4\",\"lot\",\"$\",\"well\",\"x\",\"tell\",\"see\",\"sure\",\"cup\",\"guy\",\"question\",\"make\",\"controller\",\"pc\",\"brew\",\"old\",\"long\",\"right\",\"ask\",\"sell\",\"console\",\"store\",\"4\",\"3\",\"order\",\"wonder\",\"bad\",\"recently\",\"great\",\"nintendo\",\"month\",\"edit\",\"add\",\"pretty\",\"r\",\"money\",\"different\",\"s\",\"idea\",\"e\",\"run\",\"hear\",\"experience\",\"company\",\"flavor\",\"online\",\"problem\",\"let\",\"issue\",\"leave\",\"v\",\"enjoy\",\"end\",\"check\",\"able\",\"product\",\"maybe\",\"take\",\"sale\",\"big\",\"little\",\"talk\",\"\\u200b\",\"release\",\"5\",\"have\",\"setting\",\"week\",\"1\",\"notice\",\"etc\",\"grinder\",\"shop\",\"high\",\"point\",\"hope\",\"bit\",\"turn\",\"bottle\",\"world\",\"actually\",\"black\",\"option\",\"place\",\"free\",\"kind\",\"u\",\"super\",\"purchase\",\"update\",\"hey\",\"hi\",\"home\",\"today\",\"recommendation\",\"not\",\"/r\",\"hard\",\"suggestion\",\"brand\",\"give\",\"player\",\"download\",\"appreciate\",\"open\",\"ago\",\"sub\",\"c\",\"mean\",\"set\",\"happen\",\"account\",\"share\",\"video\",\"pro\",\"live\",\"version\",\"small\",\"remember\",\"type\",\"stuff\",\"screen\",\"decide\",\"change\",\"read\",\"grind\",\"usb\",\"second\",\"worth\",\"far\",\"story\",\"nice\",\"pick\",\"sugar\",\"hun\",\"10\",\"life\",\"hour\",\"espresso\",\"recommend\",\"join\",\"reason\",\"similar\",\"bean\",\"business\",\"advice\",\"quality\",\"miss\",\"machine\",\"will\",\"system\",\"steam\",\"local\",\"price\",\"send\",\"single\",\"probably\",\"mario\",\"cheap\",\"interested\",\"lose\",\"support\",\"one\",\"save\",\"list\",\"mode\",\"k\",\"base\",\"figure\",\"favorite\",\"usually\",\"easy\",\"|\",\"fun\",\"currently\",\"fine\",\"possible\",\"call\",\"family\",\"night\",\"curious\",\"mom\",\"away\",\"job\",\"ground\",\"fix\",\"link\",\"upgrade\",\"bag\",\"wii\",\"monitor\",\"review\",\"card\",\"pour\",\"instead\",\"comment\",\"g\",\"answer\",\"filter\",\"break\",\"gaming\",\"thread\",\"spend\",\"person\",\"close\",\"pay\",\"milk\",\"code\",\"guess\",\"m\",\"cold\",\"subreddit\",\"example\",\"real\",\"thought\",\"available\",\"+\",\"couple\",\"app\",\"consider\",\"light\",\"connect\",\"party\",\"school\",\"power\",\"wrong\",\"minute\",\"lido\",\"case\",\"community\",\"stop\",\"sweet\",\"level\",\"opinion\",\"low\",\"wait\",\"stay\",\"number\",\"original\",\"happy\",\"green\",\"gta\",\"sign\",\"website\",\"leaf\",\"sync\",\"difference\",\"caffeine\",\"fan\",\"mind\",\"7\",\"hand\",\"method\",\"port\",\"steep\",\"search\",\"got\",\"6\",\"loose\",\"message\",\"later\",\"pot\",\"believe\",\"cause\",\"8\",\"30\",\"stick\",\"watch\",\"gb\",\"control\",\"soon\",\"sound\",\"keep\",\"amazon\",\"cable\",\"morning\",\"sorry\",\"anymore\",\"mention\",\"note\",\"roast\",\"show\",\"homie\",\"group\",\"cool\",\"main\",\"headset\",\"kid\",\"normal\",\"you\",\"basically\",\"house\",\"finally\",\"tv\",\"state\",\"fps\",\"google\",\"strong\",\"ps\",\"market\",\"drive\",\"12\",\"100\",\"tip\",\"bring\",\"scheme\",\"hot\",\"allow\",\"graphic\",\"deal\",\"charge\",\"zero\",\"amazing\",\"diet\",\"to\",\"launch\",\"info\",\"gift\",\"20\",\"ok\",\"require\",\"anybody\",\"information\",\"course\",\"move\",\"absolutely\",\"finish\",\"hate\",\"include\",\"head\",\"pyramid\",\"fall\",\"build\",\"create\",\"drop\",\"speed\",\"aeropress\",\"line\",\"suppose\",\"character\",\"yesterday\",\"result\",\"size\",\"compare\",\"prefer\",\"press\",\"offer\",\"box\",\"apparently\",\"site\",\"360\",\"pack\",\"dark\",\"plus\",\"w/\",\"avoid\",\"realize\",\"expect\",\"edition\",\"advance\",\"digital\",\"oil\",\"learn\",\"cost\",\"plan\",\"follow\",\"feature\",\"shot\",\"past\",\"multiplayer\",\"color\",\"excited\",\"y\\u2019\",\"expensive\",\"chemex\",\"suggest\",\"source\",\"receive\",\"weird\",\"fast\",\"phone\",\"clean\",\"v60\",\"brewing\",\"general\",\"vs\",\"gameplay\",\"early\",\"performance\",\"mod\",\"pre\",\"microsoft\",\"hold\",\"blend\",\"half\",\"die\",\"woman\",\"fact\",\"hit\",\"especially\",\"copy\",\"true\",\"wish\",\"input\",\"key\",\"crash\",\"smell\",\"completely\",\"oz\",\"test\",\"jump\",\"white\",\"city\",\"definitely\",\"process\",\"certain\",\"lol\",\"matter\",\"area\",\"solution\",\"short\",\"sort\",\"non\",\"sense\",\"blue\",\"reddit\",\"discussion\",\"specific\",\"red\",\"style\",\"page\",\"hydro\",\"christmas\",\"user\",\"sleep\",\"15\",\"large\",\"ton\",\"room\",\"bitter\",\"team\",\"clear\",\"choice\",\"effect\",\"rate\",\"explain\",\"meet\",\"games\",\"situation\",\"load\",\"medium\",\"research\",\"health\",\"boss\",\"oolong\",\"picture\",\"future\",\"current\",\"man\",\"root\",\"chat\",\"amway\",\"uk\",\"forward\",\"shipping\",\"access\",\"remove\",\"youtube\",\"awesome\",\"model\",\"lead\",\"marketing\",\"choose\",\"kinda\",\"suck\",\"honestly\",\"double\",\"exist\",\"herbalife\",\"perfect\",\"interesting\",\"service\",\"content\",\"physical\",\"halo\",\"waste\",\"okay\",\"roaster\",\"frame\",\"keyboard\",\"y\",\"ps5\",\"ship\",\"official\",\"chai\",\"tap\",\"oh\",\"multiple\",\"brother\",\"return\",\"pop\",\"internet\",\"final\",\"understand\",\"yes\",\"own\",\"tomorrow\",\"syrup\",\"pepsi\",\"smooth\",\"playstation\",\"audio\",\"obviously\",\"moment\",\"error\",\"french\",\"crazy\",\"kettle\",\"scam\",\"instal\",\"luck\",\"involve\",\"gpu\",\"care\",\"claim\",\"bunch\",\"dew\",\"detail\",\"owner\",\"q\",\"word\",\"dlc\",\"actual\",\"profile\",\"complete\",\"reach\",\"literally\",\"slow\",\"popular\",\"device\",\"p.t.\",\"connection\",\"cut\",\"book\",\"put\",\"chance\",\"important\",\"wife\",\"orange\",\"dock\",\"stock\",\"date\",\"60\",\"burr\",\"library\",\"war\",\"mix\",\"huge\",\"trade\",\"fit\",\"50\",\"ginger\",\"d\",\"l\",\"40\",\"regular\",\"op\",\"computer\",\"reply\",\"college\",\"daily\",\"mail\",\"catch\",\"forget\",\"90\",\"design\",\"setup\",\"pull\",\"wanna\",\"r+f\",\"gen\",\"sit\",\"z\",\"pm\",\"car\",\"replace\",\"pad\",\"sister\",\"gram\",\"decent\",\"young\",\"cat\",\"contact\",\"scale\",\"grow\",\"girl\",\"mountain\",\"ratio\",\"recruit\",\"begin\",\"fruit\",\"text\",\"willing\",\"specifically\",\"display\",\"discount\",\"plug\",\"eye\",\"rpg\",\"discover\",\"drinker\",\"exchange\",\"personally\",\"grey\",\"totally\",\"extra\",\"4k\",\"facebook\",\"food\",\"discuss\",\"co\",\"battlefield\",\"ve\",\"interest\",\"response\",\"concern\",\"blow\",\"nvidia\",\"english\",\"dead\",\"mess\",\"mouse\",\"n\",\"improve\",\"late\",\"random\",\"beer\",\"budget\",\"keurig\",\"mic\",\"delete\",\"theme\",\"directly\",\"pitch\",\"monat\",\"maker\",\"pokemon\",\"outside\",\"listen\",\"zelda\",\"o\",\"gamer\",\"drip\",\"hype\",\"animal\",\"puerh\",\"visit\",\"customer\",\"request\",\"dog\",\"pepper\",\"cream\",\"x.\",\"event\",\"rep\",\"quick\",\"fill\",\"simple\",\"mug\",\"earl\",\"interview\",\"exactly\",\"adventure\",\"benefit\",\"struggle\",\"face\",\"click\",\"windows\",\"server\",\"manage\",\"country\",\"force\",\"member\",\"terrible\",\"immediately\",\"max\",\"doctor\",\"latte\",\"common\",\"rocket\",\"solid\",\"star\",\"install\",\"eventually\",\"replacement\",\"weekend\",\"barista\",\"b\",\"hydrated\",\"hopefully\",\"bed\",\"handheld\",\"term\",\"develop\",\"fresh\",\"approach\",\"w\",\"travel\",\"sony\",\"provide\",\"near\",\"increase\",\"energy\",\"thirsty\",\"3d\",\"patch\",\"recipe\",\"ban\",\"despite\",\"flavour\",\"gsync\",\"apply\",\"60fps\",\"u.s.\",\"lemon\",\"giveaway\",\"matcha\",\"jack\",\"refund\",\"focus\",\"select\",\"normally\",\"temp\",\"special\",\"laptop\",\"knight\",\"16\",\"stand\",\"unfortunately\",\"previous\",\"smart\",\"article\",\"hydrate\",\"quest\",\"handle\",\"social\",\"yeah\",\"t\",\"lock\",\"flat\",\"personal\",\"gold\",\"shut\",\"safe\",\"rest\",\"boot\",\"alternative\",\"hydrohomie\",\"baratza\",\"quickly\",\"fanta\",\"grocery\",\"gallon\",\"breakfast\",\"straight\",\"dry\",\"promote\",\"spec\",\"mm\",\"touch\",\"gear\",\"tired\",\"contain\",\"office\",\"affect\",\"preference\",\"awful\",\"aside\",\"difficult\",\"ring\",\"anti\",\"slightly\",\"canada\",\"144hz\",\"plastic\",\"remote\",\"stardew\",\"match\",\"triple\",\"husband\",\"monthly\",\"skin\",\"convince\",\"generally\",\"adapter\",\"body\",\"joycon\",\"fight\",\"season\",\"joy\",\"file\",\"hdr\",\"blood\",\"arbonne\",\"headphone\",\"unique\",\"report\",\"trouble\",\"variety\",\"supply\",\"announce\",\"promise\",\"major\",\"minecraft\",\"confirm\",\"overall\",\"throw\",\"girlfriend\",\"getting\",\"lite\",\"exclusive\",\"wiki\",\"ice\",\"temperature\",\"adjustment\",\"street\",\"weight\",\"age\",\"worried\",\"range\",\"art\",\"mini\",\"cake\",\"wireless\",\"trick\",\"heavy\",\"fairly\",\"hair\",\"asus\",\"hurt\",\"dollar\",\"herbal\",\"moka\",\"fellow\",\"hdmi\",\"fail\",\"lately\",\"cola\",\"win\",\"likely\",\"disc\",\"combat\",\"battery\",\"eat\",\"cap\",\"carry\",\"psn\",\"feeling\",\"spray\",\"present\",\"poor\",\"profit\",\"income\",\"license\",\"tooth\",\"idk\",\"cafe\",\"death\",\"unable\",\"push\",\"platform\",\"lack\",\"variable\",\"software\",\"window\",\"technology\",\"direction\",\"dripper\",\"grab\",\"target\",\"write\",\"remind\",\"cha\",\"spice\",\"cancel\",\"damage\",\"healthy\",\"juice\",\"con\",\"map\",\"student\",\"rtx\",\"indie\",\"self\",\"attempt\",\"walk\",\"lie\",\"botw\",\"remake\",\"heat\",\"menu\",\"pee\",\"act\",\"natural\",\"spin\",\"mother\",\"encore\",\"network\",\"kill\",\"holiday\",\"parent\",\"potential\",\"auto\",\"cpu\",\"memory\",\"deep\",\"paper\",\"welcome\",\"speak\",\"form\",\"possibly\",\"splatoon\",\"cover\",\"sparkle\",\"shooter\",\"skill\",\"fully\",\"bonus\",\"easily\",\"email\",\"tend\",\"part\",\"direct\",\"genuinely\",\"3rd\",\"boil\",\"sad\",\"starbucks\",\"buck\",\"grip\",\"barely\",\"bar\",\"developer\",\"mobile\",\"upline\",\"weak\",\"greatly\",\"collection\",\"region\",\"challenge\",\"son\",\"alcohol\",\"opportunity\",\"infinite\",\"conversation\",\"fantasy\",\"stupid\",\"smash\",\"chocolate\",\"teapot\",\"period\",\"teavana\",\"aware\",\"recent\",\"rule\",\"continue\",\"sprite\",\"metroid\",\"9\",\"spot\",\"crossing\",\"quit\",\"doterra\",\"explore\",\"town\",\"trust\",\"battle\",\"management\",\"and/or\",\"obvious\",\"summer\",\"3.5\",\"mark\",\"trailer\",\"folk\",\"section\",\"sd\",\"invest\",\"project\",\"particularly\",\"beat\",\"session\",\"prepare\",\"typically\",\"reusable\",\"confused\",\"golf\",\"burn\",\"monster\",\"hunter\",\"desk\",\"favourite\",\":d\",\"25\",\"daughter\",\"shake\",\"refuse\",\"pic\",\"relate\",\"salt\",\"r&f\",\"action\",\"legit\",\"simply\",\"treat\",\"pair\",\"drift\",\"ability\",\"guide\",\"instagram\",\"generation\",\"netflix\",\"extract\",\"f\",\"gamestop\",\"vr\",\"entire\",\"ingredient\",\"rooibo\",\"retro\",\"leak\",\"twice\",\"count\",\"theanine\",\"covid\",\"meme\",\"mlmer\",\"name\",\"helpful\",\"stream\",\"retailer\",\"having\",\"mistake\",\"flag\",\"door\",\"doubt\",\"eshop\",\"\\u00a3\",\"tag\",\"invite\",\"dr\",\"grand\",\"enemy\",\"essential\",\"noire\",\"dose\",\"tl;dr\",\"32\",\"mechanic\",\"financial\",\"swap\",\"nail\",\"ahead\",\"spring\",\"piece\",\"properly\",\"enter\",\"roll\",\"ale\",\"bottled\",\"history\",\"wire\",\"hardware\",\"/u\",\"nut\",\"enable\",\"1080p\",\"label\",\"amd\",\"ruin\",\"advantage\",\"gtx\",\"decision\",\"2018\",\"constantly\",\"middle\",\"ps3\",\"bother\",\"winner\",\"item\",\"refresh\",\"encourage\",\"200\",\"ti\",\"particular\",\"relatively\",\"fire\",\"hrs\",\"subscription\",\"gun\",\"pressure\",\"escape\",\"modern\",\"i.e.\",\"coupon\",\"identify\",\"mission\",\"shoot\",\"skyrim\",\"ssd\",\"horizon\",\"sip\",\"produce\",\"organization\",\"iris\",\"previously\",\"rich\",\"cherry\",\"preferably\",\"purpose\",\"zoom\",\"counter\",\"apart\",\"king\",\"sport\",\"friday\",\"deliver\",\"electric\",\"ready\",\"era\",\"dad\",\"standard\",\"wild\",\"master\",\"hang\",\"golden\",\"portafilter\",\"correct\",\"brain\",\"blast\",\"niche\",\"blog\",\"view\",\"et\",\"sick\",\"movie\",\"couch\",\"yunnan\",\"22\",\"drinking\",\"wonderful\",\"attention\",\"credit\",\"surprised\",\"craft\",\"package\",\"step\",\"air\",\"addition\",\"18\",\"factory\",\"minimum\",\"compatible\",\"shame\",\"limited\",\"psa\",\"address\",\"worry\",\"valley\",\"f.lux\",\"truly\",\"friendly\",\"experiment\",\"slowly\",\"news\",\"120hz\",\"ex\",\"stress\",\"steel\",\"progress\",\"ai\",\"driver\",\"coworker\",\"bluetooth\",\"e.g.\",\"apple\",\"accessory\",\"motion\",\"accord\",\"sweetness\",\"puzzle\",\"legend\",\"deluxe\",\"reduce\",\"datum\",\"alright\",\"demo\",\"extremely\",\"2015\",\"loss\",\"kick\",\"separate\",\"beach\",\"fundraiser\",\"position\",\"log\",\"sample\",\"bowl\",\"browse\",\"seriously\",\"11\",\"premium\",\"og\",\"dragon\",\"2016\",\"league\",\"basic\",\"hd\",\"wars\",\"jedi\",\"3ds\",\"dr.\",\"24\",\"annoying\",\"screw\",\"cheer\",\"dawn\",\"pain\",\"music\",\"consistent\",\"channel\",\"=\",\"table\",\"peach\",\"basket\",\"imagine\",\"pu'erh\",\"enjoyable\",\"journey\",\"fruity\",\"lucky\",\"board\",\"extraction\",\"transfer\",\"metroidvania\",\"lag\",\"potentially\",\"evidence\",\"dream\",\"upset\",\"program\",\"occasionally\",\"intake\",\"devs\",\"effort\",\"trilogy\",\"custom\",\"wide\",\"60hz\",\"refer\",\"usual\",\"evil\",\"fallout\",\"tear\",\"practice\",\"megaman\",\"december\",\"seller\",\"plenty\",\"limit\",\"logo\",\"arrive\",\"origin\",\"accidentally\",\"launcher\",\"1440p\",\"aroma\",\"honest\",\"appear\",\"traditional\",\"floral\",\"plain\",\"nyc\",\"2020\",\"franchise\",\"randomly\",\"35\",\"repair\",\"loud\",\"colour\",\"exotic\",\"respond\",\"charger\",\"lapsang\",\"uninstall\",\"irn\",\"bru\",\"70\",\"can\",\"lady\",\"kit\",\"liter\",\"trial\",\"million\",\"proper\",\"prior\",\"statement\",\"garbage\",\"2017\",\"fb\",\"sun\",\"digitally\",\"bundle\",\"la\",\"strategy\",\"aim\",\"theory\",\"delicious\",\"powerful\",\"odyssey\",\"necessary\",\"warm\",\"breville\",\"visual\",\"breath\",\"min\",\"afraid\",\"rock\",\"ripe\",\"china\",\"suddenly\",\"remain\",\"ms\",\"tin\",\"restart\",\"pure\",\"birthday\",\"equipment\",\"mid\",\"hollow\",\"lemonade\",\"antimlm\",\"somebody\",\"streaming\",\"entirely\",\"rumble\",\"core\",\"block\",\"redditor\",\"harney\",\"busy\",\"tool\",\"adjust\",\"anyways\",\"studio\",\"fair\",\"racing\",\"storage\",\"america\",\"epic\",\"alot\",\"p.t\",\"mad\",\"dm\",\"sensitive\",\"hdd\",\"beginning\",\"electrolyte\",\"500\",\"complex\",\"tank\",\"resource\",\"distributor\",\"client\",\"\\u00b0\",\"aged\",\"capture\",\"over\",\"record\",\"topic\",\"favor\",\"wall\",\"ultra\",\"cyberpunk\",\"metal\",\"living\",\"heart\",\"clearly\",\"pixel\",\"database\",\"external\",\"left\",\"bloom\",\"inside\",\"1000\",\"batch\",\"steal\",\"kart\",\"impression\",\"agree\",\"120fps\",\"shower\",\"cash\",\"ear\",\"mirror\",\"restaurant\",\"enhance\",\"perfectly\",\"decaf\",\"ray\",\"leader\",\"slot\",\"walmart\",\"hydrohomies\",\"proud\",\"raise\",\"ac\",\"accept\",\"reward\",\"chamomile\",\"roasted\",\"stage\",\"preorder\",\"discontinue\",\"complain\",\"theft\",\"vanilla\",\"tasting\",\"shape\",\"appeal\",\"meeting\",\"primerica\",\"l.a.\",\"impressed\",\"everybody\",\"adaptive\",\"cooler\",\"primary\",\"overly\",\"discord\",\"command\",\"application\",\"gaiwan\",\"kitchen\",\"ideal\",\"ad\",\"polish\",\"soft\",\"wake\",\"measure\",\"gets\",\"insight\",\"maintain\",\"disappointed\",\"1st\",\"tasty\",\"sadly\",\"baby\",\"employee\",\"consultant\",\"gate\",\"ignore\",\"useful\",\"value\",\"cups\",\"aunt\",\"80\",\"noticeable\",\"comparison\",\"beta\",\"alive\",\"trip\",\"unreal\",\"child\",\"pattern\",\"iv\",\"tonight\",\"cult\",\"secret\",\"law\",\"degree\",\"majority\",\"rodan\",\"fee\",\"intel\",\"inform\",\"ultimate\",\"vita\",\"frequently\",\"bf\",\"frustrating\",\"ps+\",\"iced\",\"elite\",\"rare\",\"fault\",\"doom\",\"framerate\",\"essentially\",\"white2tea\",\"coin\",\"feedback\",\"noise\",\"medical\",\"genre\",\"infuser\",\"tiny\",\"glitch\",\"cod\",\"playable\",\"campaign\",\"legal\",\"multi\",\"aspect\",\"lover\",\"horrible\",\"cinnamon\",\"render\",\"joke\",\"router\",\"beautiful\",\"pourover\",\"hydration\",\"feed\",\"voice\",\"amount\",\"military\",\"island\",\"shift\",\"a&w\",\"pu\",\"vario\",\"ghost\",\"north\",\"detect\",\"souchong\",\"pineapple\",\"linux\",\"mystery\",\"charity\",\"broken\",\"symptom\",\"ultrawide\",\"insurance\",\"american\",\"commission\",\"sink\",\"infusion\",\"flair\",\"u.k.\",\"unit\",\"episode\",\"btw\",\"teacup\",\"tldr\",\"2013\",\"poster\",\"liquid\",\"hunt\",\"possibility\",\"negative\",\"initially\",\"comparable\",\"nes\",\"snes\",\"`\",\"arm\",\"w/o\",\"fancy\",\"farm\",\"horribly\",\"scared\",\"14\",\"description\",\"disappoint\",\"vendor\",\"hole\",\"beverage\",\"s&w\",\"acidic\",\"spread\",\"category\",\"honey\",\"attach\",\"disable\",\"appropriate\",\"predatory\",\"chinese\",\"nope\",\"witcher\",\">\",\"odd\",\"3.0\",\"consume\",\"human\",\"ritual\",\"san\",\"ama\",\"cycle\",\"fake\",\"proof\",\"aaa\",\"sea\",\"route\",\"familiar\",\"fields\",\"generic\",\"samsung\",\"tb\",\"geforce\",\"cd\",\"nearly\",\"1zpresso\",\"everyday\",\"habit\",\"mint\",\"difficulty\",\"scentsy\",\"rechargeable\",\"clay\",\"stomach\",\"plant\",\"brewer\",\"bright\",\"oled\",\"tough\",\"technique\",\"consistently\",\"surprise\",\"hyper\",\"tech\",\"gain\",\"cousin\",\"vitamin\",\"processing\",\"material\",\"hint\",\"fantastic\",\"crush\",\"introduce\",\"swear\",\"trigger\",\"survival\",\"false\",\"manual\",\"v.\",\"urge\",\"understanding\",\"pibb\",\"bathroom\",\"january\",\"teas\",\"crystal\",\"submit\",\"offline\",\"boy\",\"complaint\",\"13\",\"platformer\",\"donate\",\"bored\",\"2019\",\"rush\",\"e3\",\"bandicoot\",\"clip\",\"sunday\",\"sweetener\",\"succeed\",\"preferred\",\"director\",\"clothing\",\"horror\",\"race\",\"debt\",\"monday\",\"atm\",\"axis\",\"payment\",\"id\",\"fu\",\"forza\",\"pcgaming\",\"mtn\",\"insane\",\"invert\",\"notification\",\"ventures\",\"gray\",\"strange\",\"blind\",\"2d\",\"partner\",\"impossible\",\"instruction\",\"coach\",\"\\ud83d\\udea9\",\"dolby\",\"manager\",\"desolatium\",\"exact\",\"dehydrate\",\"lime\",\"purple\",\"score\",\"fountain\",\"resolution\",\"alarm\",\"gongfu\",\"xsx\",\"advertise\",\"unlike\",\"tempt\",\"fortnite\",\"combo\",\"corner\",\"commercial\",\"stuck\",\"fallen\",\"europe\",\"perspective\",\"depend\",\"ram\",\"wow\",\"solve\",\"truth\",\"ebay\",\"ml\",\"forever\",\"usd\",\"adult\",\"ii\",\"replay\",\"fi\",\"nintendoswitch\",\"recognize\",\"comfortable\",\"knock\",\"trap\",\"chill\",\"paint\",\"hobby\",\"average\",\"99\",\"originally\",\"november\",\"reinstall\",\"rinse\",\"0\",\"wine\",\"image\",\"raw\",\"location\",\"concept\",\"hospital\",\"stumble\",\"suffer\",\"warning\",\"praise\",\"disconnect\",\"somewhat\",\"instant\",\"bodum\",\"path\",\"teach\",\"thinking\",\"oc\",\"stack\",\"technically\",\"processor\",\"planet\",\"selling\",\"active\",\"sons\",\"q&a\",\"1l\",\"150\",\"flow\",\"screenshot\",\"panel\",\"development\",\"bloodstaine\",\"preset\",\"risk\",\"output\",\"technical\",\"tia\",\"babe\",\"addiction\",\"coca\",\"collect\",\"rant\",\"grade\",\"reputable\",\"total\",\"park\",\"track\",\"certainly\",\"hero\",\"780\",\"warn\",\"brown\",\"45\",\"micro\",\"investment\",\"spicy\",\"significantly\",\"expire\",\"clarify\",\"photo\",\"ounce\",\"wash\",\"afford\",\"concerned\",\"rumor\",\"minor\",\"iphone\",\"announcement\",\"building\",\"endless\",\"states\",\"repeat\",\"chip\",\"encounter\",\"cloud\",\"tearing\",\"30fps\",\"constant\",\"background\",\"preview\",\"defend\",\"vibe\",\"2012\",\"ftc\",\"incredible\",\"gut\",\"\\ud83d\\ude02\",\"highly\",\"alliance\",\"supermarket\",\"european\",\"dread\",\"import\",\"bubble\",\"300\",\"lan\",\"combine\",\"corporate\",\"ridiculous\",\"status\",\"nutrition\",\"ideally\",\"alternate\",\"describe\",\"evening\",\"punch\",\"sodium\",\"tax\",\"fifa\",\"bros\",\"roasting\",\"schedule\",\"debate\",\"circle\",\"depth\",\"frother\",\"improvement\",\"bonavita\",\"nearby\",\"culture\",\"nestl\\u00e9\",\"blueberry\",\"artificial\",\"security\",\"automatic\",\"pandemic\",\"transition\",\"silly\",\"imo\",\"nestle\",\"shadow\",\"nabbit\",\"grape\",\"thermos\",\"dandelion\",\"seltzer\",\"lipton\",\"tweak\",\"texte\",\"freeze\",\"speaker\",\"cbd\",\"adagio\",\"d&d\",\"monica\",\"nioh\",\"hibiscus\",\"convenience\",\"chain\",\"rid\",\"initial\",\"goal\",\"stutter\",\"i7\",\"dig\",\"india\",\"reveal\",\"17\",\"host\",\"tournament\",\"reference\",\"neighbor\",\"advanced\",\"dial\",\"chrome\",\"radeon\",\"exploration\",\"attack\",\"builder\",\"language\",\"kidney\",\"hario\",\"theirs\",\"unlock\",\"wedding\",\"icon\",\"porcelain\",\"pricey\",\"excuse\",\"trace\",\"drunk\",\"wet\",\"lift\",\"insert\",\"booth\",\"incredibly\",\"4th\",\"28\",\"gong\",\"flash\",\"95\",\"dilute\",\"bitterness\",\"upload\",\"expectation\",\"astringent\",\"germany\",\"joystick\",\"correctly\",\"ui\",\"wifi\",\"600\",\"perform\",\"shill\",\"achieve\",\"cord\",\"bulk\",\"carafe\",\"msaa\",\"scene\",\"borderlands\",\"floor\",\"pampered\",\"chef\",\"career\",\"february\",\"plum\",\"destroy\",\"father\",\"tutorial\",\"obscure\",\"gamertag\",\"gooseneck\",\"makeup\",\"bandwidth\",\"970\",\"thirst\",\"trading\",\"brick\",\"optimize\",\"road\",\"engine\",\"minimal\",\"gently\",\"register\",\"acid\",\"implement\",\"sky\",\"dishonored\",\"intend\",\"prove\",\"drain\",\"dev\",\"mainly\",\"fizz\",\"packaging\",\"typical\",\"cane\",\"lovely\",\"scroll\",\"beachbody\",\"giant\",\"funny\",\"stranger\",\"awhile\",\"dual\",\"soul\",\"occur\",\"podcast\",\"wind\",\"phase\",\"kingdom\",\"batman\",\"haha\",\"rally\",\"sensitivity\",\"starter\",\"fund\",\"wtf\",\"redeem\",\"luckily\",\"2l\",\"absorb\",\"mineral\",\"dragonball\",\"washington\",\"mg\",\"powder\",\"smoke\",\"portable\",\"garden\",\"mask\",\"fold\",\"compatibility\",\"attend\",\"draw\",\"starbuck\",\"enthusiast\",\"confuse\",\"contribute\",\"boiling\",\"buffering\",\"childhood\",\"1500\",\"serve\",\"100ml\",\"glaze\",\"static\",\"earn\",\"decline\",\"equal\",\"bet\",\"basis\",\"expert\",\"split\",\"sequel\",\"stretch\",\"success\",\"stir\",\"thief\",\"effective\",\"instantly\",\"tie\",\"2080\",\"solo\",\"rope\",\"hack\",\"patient\",\"cache\",\"study\",\"harmful\",\"locate\",\"individual\",\"coop\",\"spoiler\",\"cute\",\"lurk\",\"prime\",\"\\ud83e\\udd23\",\"police\",\"washer\",\"protect\",\"n.\",\"sane\",\"gem\",\"freshly\",\"balance\",\"reading\",\"factor\",\"ip\",\"award\",\"uncomfortable\",\"saving\",\"hook\",\"south\",\"bl\",\"blah\",\"glad\",\"distance\",\"hoffman\",\"mate\",\"lego\",\"afternoon\",\"nba\",\"zombie\",\"forest\",\"environmental\",\"knowledge\",\"mac\",\"spider\",\"bomb\",\"relative\",\"brush\",\"yixe\",\"\\ud83d\\ude2d\",\"y'all\",\"semi\",\"novice\",\"erh\",\"strength\",\"thousand\",\"texas\",\"destiny\",\"stainless\",\"forgot\",\"disgusting\",\"lifestyle\",\"valid\",\"fridge\",\"downline\",\"finer\",\"tsushima\",\"h2o\",\"sarsaparilla\",\"mbps\",\"dogs\",\"equivalent\",\"iron\",\"wirelessly\",\"burst\",\"i.e\",\"gba\",\"workout\",\"england\",\"web\",\"j\",\"ethiopian\",\"flip\",\"aftertaste\",\"ea\",\"volume\",\"recruiter\",\"outlet\",\"stewart\",\"cons\",\"absolute\",\"tango\",\"shelf\",\"inventory\",\"july\",\"vacation\",\"recruitment\",\"tactic\",\"western\",\"roughly\",\"strawberry\",\"asap\",\"sidebar\",\"ips\",\"nephew\",\"converter\",\"environment\",\"zone\",\"entry\",\"cosmetic\",\"ff\",\"civilization\",\"experienced\",\"l.a\",\"dumb\",\"native\",\"lazy\",\"combination\",\"skerton\",\"clunky\",\"garage\",\"container\",\"guest\",\"hearts\",\"soundtrack\",\"selection\",\"primarily\",\"avatar\",\"ending\",\"h\",\"prevent\",\"criterion\",\"judge\",\"advise\",\"novel\",\"preface\",\"land\",\"boring\",\"disk\",\"plz\",\"prix\",\"gather\",\"rise\",\"guilt\",\"2014\",\"2nd\",\"6th\",\"rabbit\",\"australia\",\"chase\",\"simulator\",\"diamond\",\"plastik\",\"retail\",\"carbonated\",\"dashboard\",\"remaster\",\"sampler\",\"costa\",\"drinkable\",\"hub\",\"survive\",\"numerous\",\"thick\",\"public\",\"leninade\",\"skeptical\",\"motherboard\",\"widely\",\"horse\",\"professional\",\"acquaintance\",\"hire\",\"lunch\",\"strongly\",\"bud\",\"teaspoon\",\"squeeze\",\"context\",\"animation\",\"ekg\",\"frustration\",\"occasional\",\"redditgifts\",\"intention\",\"dude\",\"relaxing\",\"poorly\",\"march\",\"sodaswap\",\"sudden\",\"automatically\",\"asleep\",\"hotel\",\"mcc\",\"slayer\",\"nature\",\"flask\",\"da\",\"2/3\",\"eg\",\"british\",\"disappear\",\"capable\",\"jug\",\"pregnant\",\"beauty\",\"corsair\",\"250\",\"optical\",\"64\",\"conference\",\"translation\",\"dust\",\"handful\",\"vehicle\",\"itch\",\"desperately\",\"stat\",\"octopath\",\"forum\",\"kalita\",\"headache\",\"nasty\",\"cent\",\"c.\",\"angle\",\"quarantine\",\"tho\",\"reliable\",\"reset\",\"subscriber\",\"anytime\",\"scoop\",\"d.c.\",\"regularly\",\"science\",\"determine\",\"2021\",\"wave\",\"closed\",\"ipad\",\"significant\",\"reminder\",\"900\",\"warzone\",\"humble\",\"united\",\"backwards\",\"shampoo\",\"subject\",\"palate\",\"activate\",\"apologize\",\"vram\",\"ncp\",\"explanation\",\"consensus\",\"logic\",\"chart\",\"neighborhood\",\"sketchy\",\"slide\",\"mouth\",\"excellent\",\"honor\",\"skip\",\"reaction\",\"fury\",\"optimization\",\"throat\",\"august\",\"roommate\",\"rf\",\"mlms\",\"unavailable\",\"rarely\",\"rockstar\",\"remastered\",\"virtual\",\"immersion\",\"round\",\"testing\",\"best\",\"secure\",\"chug\",\"docked\",\"winter\",\"caramel\",\"\\ud83d\\ude01\",\"corn\",\"partially\",\"fish\",\"heck\",\"pvp\",\"xt\",\"florida\",\"noob\",\"rebuild\",\"bros.\",\"kay\",\"outer\",\"alien\",\"west\",\"dash\",\"apex\",\"twitch\",\"hardly\",\"genuine\",\"entrepreneur\",\"consumer\",\"u.\",\"s.\",\"twitter\",\"est\",\"mixed\",\"genmaicha\",\"indicate\",\"wallet\",\"sheng\",\"<3\",\"barq\",\"400\",\"ease\",\"cook\",\"uncle\",\"defensive\",\"sin\",\"checkerboard\",\"subscribe\",\"club\",\"nespresso\",\"descale\",\"logitech\",\"nalgene\",\"rdr2\",\"convo\",\"toothpaste\",\"treatment\",\"fighting\",\"jewelry\",\"branch\",\"sodastream\",\"dance\",\"stove\",\"cranberry\",\"unplayable\",\"slim\",\"asian\",\"bird\",\"fructose\",\"hopper\",\"mazzer\",\"private\",\"simon\",\"speech\",\"36\",\"international\",\"demand\",\"bungie\",\"california\",\"buddy\",\"narrative\",\"souls\",\"lavender\",\"farmer\",\"farming\",\"anxiety\",\"bear\",\"cartridge\",\"ippodo\",\"parameter\",\"acne\",\"spell\",\"reasonable\",\"username\",\"dislike\",\"sweden\",\"ratchet\",\"clank\",\"kyani\",\"luigi\",\"boost\",\"ya\",\"mr\",\"psv\",\"grandma\",\"ohio\",\"stale\",\"picky\",\"vet\",\"duty\",\"pace\",\"dmc\",\"ds\",\"gas\",\"domed\",\"ps2\",\"clothe\",\"yield\",\"metallic\",\"psvr\",\"19\",\"jamie\",\"ampe\",\"lobby\",\"f.e.a.r\",\"virtuoso\",\"victim\",\"upvote\",\"simulation\",\"nat\",\"tile\",\"ori\",\"yadda\",\"script\",\"sec\",\"clever\",\"expand\",\"draft\",\"dosbox\",\"barrel\",\"stamp\",\"university\",\"aergrind\",\"reshade\",\"depot\",\"mango\",\"xtra\",\"surely\",\"54\",\"artwork\",\"flower\",\"shortage\",\"nos\",\"turbo\",\"row\",\"survey\",\"incase\",\"actively\",\"agency\",\"bell\",\"accident\",\"last\",\"optimal\",\":p\",\"sticker\",\"heavily\",\"coconut\",\"lularoe\",\"haul\",\"overlook\",\"p.s\",\"fishy\",\"positive\",\"wing\",\"mmo\",\"ball\",\"dense\",\"brazil\",\"guilty\",\"mexico\",\"generate\",\"holy\",\"aggressive\",\"regional\",\"here](https://www.reddit.com\",\"bowser\",\"central\",\"canadian\",\"intro\",\"frustrated\",\"m&k\",\"clue\",\"lay\",\"suit\",\"neat\",\"superior\",\"cleaning\",\"strip\",\"subtle\",\"lean\",\"satisfying\",\"75\",\"accurate\",\"arcade\",\"sim\",\"oe\",\"translate\",\"watery\",\"syrah\",\"astringency\",\"mei\",\"58\",\"dispenser\",\"homies\",\"af\",\"functional\",\"diagnose\",\"influencer\",\"700\",\"reality\",\"til\",\"train\",\"gourmet\",\"posting\",\"rn\",\"successful\",\"thin\",\"decade\",\"square\",\"van\",\"splash\",\"immensely\",\"regardless\",\"trend\",\"cutscene\",\"teacher\",\"oc'd\",\"1k\",\"quad\",\"beg\",\"industry\",\"interaction\",\"ish\",\"camera\",\"sencha\",\"vague\",\"capacity\",\"suspect\",\"pci\",\"x2\",\"sli\",\"satisfy\",\"yooka\",\"laylee\",\"enhanced\",\"installation\",\"upwards\",\"acquire\",\"repeatedly\",\"deadzone\",\"warranty\",\"rely\",\"android\",\"legendary\",\"sunset\",\"ds4\",\"wen\",\"preordere\",\"lurker\",\"approve\",\"regulation\",\"mentor\",\"hollywood\",\"evolve\",\"evo\",\"2.5\",\"lg\",\"7.1\",\"resident\",\"uncharted\",\"arkham\",\"length\",\"steins\",\"function\",\"condition\",\"customization\",\"manually\",\"kickstarter\",\"shock\",\"cooper\",\"poll\",\"politely\",\"bc\",\"fighter\",\"champion\",\"percent\",\"mute\",\"forgive\",\"universe\",\"bravo\",\"wega\",\"italy\",\"peace\",\"math\",\"legging\",\"shopping\",\"argument\",\"worthwhile\",\"existence\",\"colleague\",\"tannin\",\"seek\",\"bite\",\"silent\",\"moral\",\"l\\u2019ange\",\"unsweetened\",\"sour\",\"distribute\",\"tweet\",\"stinger\",\"sting\",\"980\",\"principle\",\"blade\",\"song\",\"buggy\",\"le\",\"thrive\",\"supplement\",\"hide\",\"overnight\",\"redhead\",\"earthy\",\"citrus\",\"liquor\",\"apartment\",\"male\",\"crack\",\"reverse\",\"boyfriend\",\"relationship\",\"jp\",\"simulate\",\"clock\",\"1.5\",\"paparazzi\",\"ceo\",\"magic\",\"swing\",\"border\",\"reduction\",\"hybrid\",\"benchmark\",\"convenient\",\"finger\",\"cross\",\"u.k\",\"specialty\",\"bedroom\",\"hardcore\",\"dirty\",\"protective\",\"production\",\"awakening\",\"trash\",\"substance\",\"whilst\",\"slay\",\"sticky\",\"surround\",\"8.03\",\"aid\",\"vs.\",\"statistic\",\"aka\",\"mary\",\"prompt\",\"wilds\",\"buzz\",\"mood\",\"spam\",\"communication\",\"flood\",\"tbh\",\"spoilers\",\"resort\",\"unplug\",\"specify\",\"wsgf\",\"darjeele\",\"wholesale\",\"stall\",\"wi\",\"starting\",\"congrat\",\"sourcing\",\"korean\",\"teabag\",\"-checke\",\"stealth\",\"maintenance\",\"m47\",\"icarus\",\"fond\",\"doc\",\"jittery\",\"anxious\",\"4:6\",\"m.2\",\"loading\",\"fizzy\",\"clog\",\"55\",\"laugh\",\"italian\",\"rent\",\"exercise\",\"steer\",\"adopt\",\"female\",\"mortal\",\"kombat\",\"modest\",\"scratch\",\"mindset\",\"tips\",\"format\",\"chit\",\"supportive\",\"paranoid\",\"cyber\",\"plot\",\"silvia\",\"backstory\",\"heap\",\"chunk\",\"bat\",\"pushy\",\"commit\",\"rune\",\"lil\",\"aukey\",\"cart\",\"raspberry\",\"concentrate\",\"republic\",\"convert\",\"print\",\"necessarily\",\"rpgs\",\"rain\",\"gopro\",\"antique\",\"costco\",\"cube\",\"outcome\",\"pcgame\",\"meta\",\"mixture\",\"101\",\"moccamaster\",\"speciality\",\"comfort\",\"southern\",\"fear\",\"baja\",\"taco\",\"binge\",\"dram\",\"transaction\",\"i\\u00b4m\",\"relax\",\"maxe\",\"aa\",\"imgur\",\"stash\",\"responsible\",\"gyokuro\",\"transmitter\",\"connector\",\"mylar\",\"revolution\",\"overwhelming\",\"fat\",\"pod\",\"desperate\",\"organize\",\"quake\",\"unpleasant\",\"acnh\",\"platinum\",\"consideration\",\"wishlist\",\"toadette\",\"\\u2122\",\"additional\",\"smartphone\",\"caffeinate\",\"tennis\",\"gamepad\",\"blaster\",\"yep\",\"grandmother\",\"toxic\",\"catalog\",\"cry\",\"fuel\",\"shovel\",\"training\",\"midnight\",\"faygo\",\"station\",\"weapon\",\"deserve\",\"cacao\",\"husk\",\"rewind\",\"elaborate\",\"admit\",\"leg\",\"bethesda\",\"fortunate\",\"fiber\",\"conquer\",\"dedicate\",\"gtav\",\"mile\",\"zac\",\"\\ud83d\\udca7\",\"hurricane\",\"socom\",\"recon\",\"settlement\",\"percolator\",\"ezone.com\",\"cardamom\",\"amped\",\"ops\",\"activision\",\"downgrade\",\"straw\",\"sunshine\",\"cc\",\"copper\",\"victory\",\"rude\",\"kickstand\",\"delight\",\"rendering\",\"blu\",\"vizio\",\"maximum\",\"scalper\",\"alt\",\"prey\",\"awareness\",\"disclose\",\"twist\",\"xpost\",\"uninstalle\",\"mainstream\",\"masala\",\"\\u0111ezva\",\"dilemma\",\"overworld\",\"baffle\",\"unglazed\",\"exterior\",\"spirit\",\"disgust\",\"taiwanese\",\"q-\",\"peak\",\"steamworld\",\"cereal\",\"k.\",\"functionality\",\"induction\",\"safeway\",\"redirect\",\"exit\",\"houston\",\"1:2\",\"60ml\",\"rool\",\"\\u2125\",\"mariokart\",\"achievement\",\"reed\",\"welch\",\"housewife\",\"nextdoor\",\"scottish\",\"scary\",\"comply\",\"anniversary\",\"tapping\",\"tapir\",\"royal\",\"grant\",\"leftover\",\"1/2\",\"queue\",\"merch\",\"15th\",\"valhalla\",\"producer\",\"overview\",\"pertain\",\"textbook\",\"wholeheartedly\",\"foot\",\"role\",\"alert\",\"tgy\",\"19.99\",\"caf\\u00e9\",\"inspiration\",\"bunn\",\"avid\",\"egg\",\"forth\",\"on\",\"almond\",\"stevia\",\"promo\",\"ssbu\",\"obsess\",\"civ\",\"vi\",\"prioritize\",\"crowd\",\"ireland\",\"menus\",\"sdcard\",\"enforcement\",\"powered\",\"capresso\",\"secondary\",\"portal\",\"buyer\",\"electronic\",\"tl\",\"bot\",\"david\",\"dozen\",\"remotely\",\"moon\",\"chew\",\"refreshing\",\"wrench\",\"ig\",\"sleeve\",\"vegan\",\"conical\",\"weigh\",\"15:1\",\"spare\",\"insanely\",\"tedious\",\"severely\",\"tray\",\"cincinnati\",\"convention\",\"norway\",\"2000\",\"addictive\",\"addicted\",\"11th\",\"nose\",\"100c\",\"fragrance\",\"berry\",\"sept\",\"pump\",\"flight\",\"emotion\",\"pok\\u00e9mon\",\"looking\",\"operation\",\"carbonate\",\"complicated\",\"2022\",\"bland\",\"lost\",\"halloween\",\"scandal\",\"youtuber\",\"band\",\"preground\",\"benson\",\"rapid\",\"chronic\",\"ill\",\"headphones\",\"el\",\"disclaimer\",\"ceramic\",\"stovetop\",\"lid\",\"occasion\",\"thorough\",\"oppose\",\"sleepy\",\"delivery\",\"string\",\"sanctuary\",\"taa\",\"spill\",\"critical\",\"bin\",\"pcmasterrace\",\"desktop\",\"relevant\",\"venture\",\"disappointing\",\"younique\",\"spiel\",\"shady\",\"soooo\",\"boo\",\"metro\",\"hesitant\",\"dynamic\",\"footage\",\"linear\",\"interface\",\"field\",\"x16\",\"reboot\",\"laser\",\"gauge\",\"architecture\",\"hundred\",\"expanded\",\"promotion\",\"definitive\",\"mixamp\",\"astro\",\"sunlight\",\"ios\",\"unhealthy\",\"opt\",\"tablet\",\"eli5\",\"yu\",\"lin\",\"closely\",\"fool\",\"teenager\",\"signup\",\"llr\",\"\\ufe0f\",\"ds3\",\"shortly\",\"spiderman\",\"85\",\"watcheranon\",\"silver\",\"ensure\",\"moist\",\"homeless\",\"marry\",\"working\",\"danger\",\"strain\",\"rodan+field\",\"vast\",\"disguise\",\"fda\",\"medication\",\"salesperson\",\"operate\",\"acer\",\"uhd\",\"mentorship\",\"freedom\",\"suspicious\",\"slight\",\"shiny\",\"atx\",\"149.99\",\"internal\",\"writer\",\"quiet\",\"overcome\",\"resist\",\"uncertain\",\"studios\",\"gog\",\"subnautica\",\"durability\",\"wise\",\"vision\",\"barqs\",\"creme\",\"alcoholic\",\"tressa\",\"electricity\",\"paypal\",\"generator\",\"movement\",\"\\ud83d\\ude0a\",\"seed\",\"hemp\",\"nuclear\",\"tomb\",\"raider\",\"manufacturing\",\"steady\",\"accomplish\",\"covid-19\",\"melitta\",\"pressurize\",\"runner\",\"upcoming\",\"curiosity\",\"cell\",\"hustle\",\"solely\",\"espressos\",\"f@h\",\"informative\",\"lower\",\"global\",\"sluggish\",\"interact\",\"patience\",\"swipe\",\"persistent\",\"n64\",\"mp\",\"unsure\",\"annoy\",\"intense\",\"saturate\",\"9/10\",\"virus\",\"newb\",\"texture\",\"melaleuca\",\"gel\",\"ailment\",\"vulnerable\",\"involved\",\"thankful\",\"respect\",\"nicely\",\"increasingly\",\"abandon\",\"sized\",\"colorful\",\"challenging\",\"maturity\",\"290x\",\"nauseous\",\"caffeinated\",\"oddly\",\"marvel\",\"iii\",\"affiliate\",\"celestial\",\"u.s\",\"everytime\",\"nostalgia\",\"narrow\",\"september\",\"refill\",\"june\",\"bank\",\"household\",\"gatorade\",\"zyia\",\"extend\",\"nuskin\",\"confusion\",\"pet\",\"dockable\",\"melt\",\"celeste\",\"letter\",\"confront\",\"confusing\",\"brace\",\"keen\",\"ditch\",\"beginner\",\"pause\",\"userbenchmark\",\"speculation\",\"+18\",\"cappuccino\",\"wulong\",\"flame\",\"tflop\",\"5700\",\"26\",\"rdna\",\"binding\",\"isaac\",\"atmosphere\",\"hdtv\",\"em\",\"\\ud83d\\ude44\",\"loop\",\"toad\",\"kool\",\"twining\",\"tablespoon\",\"mild\",\"decrease\",\"expo\",\"header\",\"blaze\",\"phenomenal\",\"tuesday\",\"exciting\",\"axiom\",\"verge\",\"fulfill\",\"teachat.com\",\"avail\",\"folgers\",\"brita\",\"goodness\",\"lesson\",\"popularity\",\"advisory\",\"tale\",\"fyi\",\"flush\",\"agreement\",\"bf1\",\"don't\",\"nylon\",\"engage\",\"paste\",\"subjective\",\"playing\",\"prebuilt\",\"an\",\"dive\",\"visible\",\"knowledgeable\",\"a.\",\"orlando\",\"romance\",\"hidden\",\"gamecube\",\"firm\",\"c40\",\"grinding\",\"equally\",\"bash\",\"found\",\"y\\u2019all\",\"realistic\",\"cave\",\"creator\",\"kong\",\"programmable\",\"sacrifice\",\"justify\",\"nvme\",\"yellow\",\"edge\",\"sunkist\",\"2006\",\"membership\",\"tape\",\"cancer\",\"heal\",\"national\",\"cheerwine\",\"verify\",\"fave\",\"mart\",\"intelligent\",\"plannet\",\"mason\",\"react\",\"dedicated\",\"broth\",\"prediction\",\"jackbox\",\"amiibo\",\"costume\",\"bind\",\"deliberately\",\"excitement\",\"whistle\",\"pleased\",\"pickle\",\"bitcoin\",\"hill\",\"pid\",\"promising\",\"estore\",\"boredom\",\"diablo\",\"atomy\",\"calibrate\",\"fiance\",\"availability\",\"foundry\",\"videogame\",\"invitation\",\"vanquish\",\"yakuza\",\"policy\",\"nindie\",\"idiot\",\"milky\",\"12.99\",\"warfare\",\"acidity\",\"virgil\",\"128\",\"resemble\",\"linger\",\"craigslist\",\"dull\",\"motivation\",\"2k\",\"funnel\",\"rog\",\"notify\",\"akrafo\",\"department\",\"naturally\",\"wage\",\"14th\",\"co.\",\"cheat\",\"inc.\",\"expansion\",\"<\",\"satisfied\",\"president\",\"strictly\",\"newcomer\",\"throwback\",\"rough\",\"deny\",\"financially\",\"argue\",\"unpopular\",\"2.0\",\"pantie\",\"jones\",\"oxenfree\",\"boom\",\"stellar\",\"dinner\",\"karma\",\"calm\",\"xd\",\"fxaa\",\"adderall\",\"angry\",\"additive\",\"500ml\",\"individually\",\"hr\",\"rub\",\"center\",\"eliminate\",\"inverted\",\"driving\",\"euro\",\"t.\",\"boveda\",\"turtle\",\"timer\",\"spike\",\"pitcher\",\"supplier\",\"toronto\",\"signal\",\"hashtag\",\"amacha\",\"hive\",\"fermentation\",\"halfway\",\"minded\",\"settings\",\"sioux\",\"ridiculously\",\"banner\",\"gullible\",\"sight\",\"devos\",\"rican\",\"2.1\",\"freesync\",\"keeper\",\"amazingly\",\"trophy\",\"na\",\"accessibility\",\"com\",\"imply\",\"creative\",\"baseball\",\"megathread\",\"insurgency\",\"sandstorm\",\"immersive\",\"bug\",\"vietnamese\",\"decently\",\"gross\",\"blame\",\"creepy\",\"tight\",\"bold\",\"eta\",\"collectible\",\"saint\",\"psp\",\"stars\",\"sly\",\"deficiency\",\"pleasure\",\"counteract\",\"livid\",\"worker\",\"ps1\",\"sore\",\"tac\",\"rayman\",\"pirate\",\"qualified\",\"demon\",\"dante\",\"eastern\",\"careful\",\"tall\",\"nz\",\"sword\",\"crisis\",\"tree\",\"norwex\",\"eu\",\"q.u.b.e.\",\"ect\",\"insider\",\"arms\",\"staff\",\"breeder\",\"poodle\",\"mold\",\"poke\",\"bioshock\",\"creamy\",\"puzzler\",\"practically\",\"browser\",\"in\",\"estate\",\"wiiu\",\"usage\",\"efron\",\"dungeon\",\"sachet\",\"variation\",\"sims\",\"docx\",\"killer\",\"independent\",\"fitness\",\"back\",\"backup\",\"stone\",\"dip\",\"confrontational\",\"masters\",\"brag\",\"snap\",\"verification\",\"ambit\",\"frequent\",\"humid\",\"pg\",\"storyline\",\"communicate\",\"flavoring\",\"exclusively\",\"hunbot\",\"reconnect\",\"spout\",\"clove\",\"element\",\"corrupt\",\"salty\",\"wand\",\"salary\",\"graphical\",\"ugly\",\"playtime\",\"compliment\",\"realise\",\"yoshi\",\"airborne\",\"customize\",\"howdy\",\"macbook\",\"sf\",\"diagnostic\",\"proceed\",\"printable\",\"wasd\",\"bragging\",\"defer\",\"deferred\",\"engineer\",\"stereo\",\"p\",\"supervisor\",\"illegal\",\"stressful\",\"thankfully\",\"booklet\",\"pco\",\"lend\",\"irish\",\"appartamento\",\"gasket\",\"nu\",\"crosspost\",\"marukyu\",\"emulator\",\"340\",\"divide\",\"heroes\",\"related\",\"pulp\",\"dimension\",\"london\",\"admittedly\",\"rootbeer\",\"harbor\",\"sirena\",\"warcraft\",\"dlcs\",\"france\",\"karaoke\",\"minority\",\"usa\",\"sensor\",\"meh\",\"top\",\"modere\",\"hop\",\"180\",\"bang\",\"interior\",\"7up\",\"marzocco\",\"surprisingly\",\"mk8\",\"creditcard\",\"inferior\",\"e.g\",\"cabi\",\"polite\",\"dunno\",\"kona\",\"pound\",\"concentration\",\"ace\",\"65\",\"following\",\"interval\",\"mkl-\",\"nightmares\",\"l.\",\"1300\",\"timemore\",\"questions\",\"swirl\",\"scaling\",\"hzd\",\"valve\",\"vibrate\",\"fictional\",\"capability\",\"contamination\",\"premade\",\"guarda\",\"do\",\"coelhos\",\"friends\",\"xboxfriend\",\"screamer\",\"kinect\",\"ucb\",\"korea\",\"bergamot\",\"pouch\",\"muscovado\",\"\\u25cf\",\"tactile\",\"vest\",\"cope\",\"skincare\",\"hori\",\"tetsubin\",\"robusta\",\"fenyx\",\"explode\",\"liberty\",\"ergonomic\",\"lovecraft\",\"prologue\",\"grd\",\"calibration\",\"wegmans\",\"outcast\",\"organic\",\"stuttering\",\"sunsetscreen\",\"modify\",\"brightness\",\"coz\",\"slice\",\"breakpoint\",\"estimate\",\"hawaii\",\"egcg\",\"souvenir\",\"repurchase\",\"pu'er\",\"1991\",\"sparkling\",\"refrigerator\",\"distribution\",\"locally\",\"yuck\",\"boba\",\"1,000\",\"ubisoft\",\"8700k\",\"bottleneck\",\"licensed\",\"uncommon\",\"shocked\",\"maximize\",\"jin\",\"xuan\",\"towel\",\"unhappy\",\"omit\",\"wh\",\"correlate\",\"ek43\",\"hater\",\"2x\",\"yl\",\"pennsylvania\",\"monoprice\",\"backlit\",\"packet\",\"rotation\",\"mua3\",\"consignment\",\"rack\",\"marked\",\"bond\",\"candy\",\"splatte\",\"countless\",\"growth\",\"wary\",\"babes\",\"croix\",\"polar\",\"overwatch\",\"fend\",\"citizen\",\"object\",\"\\ud83d\\udc4d\",\"kotor\",\"gyro\",\"erase\",\"suspension\",\"polycystic\",\"drill\",\"belong\",\"infinity\",\"los\",\"angeles\",\"exclusivity\",\"hostile\",\"oblivion\",\"lo\",\"unflavored\",\"diving\",\"codes\",\"accounts\",\"relatedsub\",\"moderators](https://www.reddit.com\",\"compose?to=%2fr%2fnintendoswitch\",\"nintendofriend\",\"switchfcswap\",\"mecha\",\"server](https://discord.gg\",\"search?q\",\"friend+request+weekend&restrict_sr\",\"on&sort\",\"new&t\",\"inconsistent\",\"k&m\",\"ys\",\"cleanse\",\"dump\",\"inevitably\",\"conflicting\",\"cruelty\",\"faint\",\"toluene\",\"grammar\",\"stationary\",\"integrated\",\"oxo\",\"amazed\",\"globe\",\"phenomenon\",\"clarification\",\"temper\",\"demographic\",\"consistency\",\"profession\",\"guild\",\"f.e.a.r.\",\"masterpiece\",\"generous\",\"timing\",\"guarantee\",\"layout\",\"pan\",\"sorely\",\"comic\",\"yell\",\"pinchcliffe\",\"beloved\",\"atleast\",\"teaser\",\"pillars\",\"loathe\",\"heist\",\"chair\",\"seat\",\"juan\",\"surprising\",\"amber\",\"gui\",\"xi\",\"unheard\",\"consist\",\"guys\",\"tour\",\"shlt\",\"inlay\",\"fvckin\",\"duh\",\"wisdom\",\"chop\",\"waterni**as\",\"vloggersupdate\",\"reliability\",\"approximately\",\"braid\",\"reasonably\",\"fatigue\",\"education\",\"outright\",\"charm\",\"affordable\",\"cascara\",\"rica\",\"outstanding\",\"earning\",\"film\",\"bbc\",\"thx\",\"popper\",\"ancient\",\"flawlessly\",\"periodically\",\"stroke\",\"surgery\",\"detachable\",\"motor\",\"mcdonalds\",\"grove\",\"sleepytime\",\"minus\",\"brim\",\"suareasy\",\"generosity\",\"disabled\",\"branching\",\"completion\",\"downright\",\"pve\",\"variant\",\"editions\",\"reserve\",\"gigabyte\",\"3.6\",\"psu\",\"reconsider\",\"downer\",\"pursue\",\"stance\",\"ago-\",\"catalogue\",\"cider\",\"seep\",\"huns\",\"insist\",\"drastic\",\"yay\",\"convinced\",\"writing\",\"ed\",\"100hrs\",\"kandi\",\"toy\",\"bus\",\"incorrectly\",\"z.\",\"x8\",\"1.0\",\"elementary\",\"needless\",\"underrated\",\"rank\",\"b-\",\"bustelo\",\"nowadays\",\"emotional\",\"points\",\"andreas\",\"thumbstick\",\"detection\",\"migraine\",\"sennheiser\",\"whore\",\"bo3\",\"arise\",\"proprietary\",\"cradle\",\"caffiene\",\"scenario\",\"productive\",\"pricing\",\"highest\",\"clueless\",\"330ml\",\"thai\",\"indian\",\"santa\",\"docuserie\",\"purely\",\"balanced\",\"teamplay\",\"sixaxis\",\"emulate\",\"repackage\",\"finance\",\"r&c\",\"metacritic\",\"kicker\",\"800\",\"immediate\",\"evga\",\"sig\",\"teaware\",\"gasoline\",\"mexican\",\"daycare\",\"conventional\",\"hypothetically\",\"redout\",\"futuristic\",\"racer\",\"grandfather\",\"r&f.\",\"syndrome\",\"booster\",\"dangerous\",\"regimen\",\"permanent\",\"predator\",\"strike\",\"deliverance\",\"incentive\",\"vg248qe\",\"beastly\",\"rig\",\"breakdown\",\"merchant\",\"i5\",\"cfm\",\"124.99\",\"vii\",\"vengeance\",\"certify\",\"oem\",\"99.99\",\"120\",\"wired\",\"taxis\",\"cemu\",\"legitimate\",\"internship\",\"bs\",\"york\",\"pink\",\"aesthetic\",\"2.50\",\"vn\",\"graphics\",\"autosave\",\"genki\",\"bricke\",\"barrier\",\"consolidate\",\"steering\",\"saturation\",\"crashing\",\"phoenix\",\"ahold\",\"f.\",\"unlucky\",\"2.09\",\"zx\",\"v2\",\"firmly\",\"dehua\",\"smoky\",\"wether\",\"echo\",\"soo\",\"foreseeable\",\"eligible\",\"litre\",\"protein\",\"camomile\",\"6l\",\"hammer\",\"dbz\",\"systems\",\"riddle\",\"subreddits\",\"monkey\",\"vacuum\",\"scoot\",\"rust\",\"31\",\"cheaply\",\"plex\",\"x1\",\"furious\",\"incremental\",\"disclosure\",\"conspiracy\",\"dominate\",\"officially\",\"compete\",\"ole\",\"vein\",\"brutal\",\"destruction\",\"taikoo\",\"drum\",\"wear\",\"else\",\"validate\",\"lomonosov\",\"apology\",\"differ\",\"russian\",\"pique\",\"splinter\",\"mgs\",\"reception\",\"inevitable\",\"confrontation\",\"tongue\",\"scarce\",\"fulfil\",\"christian\",\"folger\",\"promos\",\"spectacular\",\"tamper\",\"hone\",\"specialist\",\"foul\",\"scent\",\"citric\",\"acrid\",\"liklihood\",\"computing\",\"hyperx\",\"nettle\",\"regard\",\"interfere\",\"clash\",\"weirdly\",\"witness\",\"universal\",\"complexity\",\"anecdotal\",\"meth\",\"bore\",\"instance\",\"thumbnail\",\"smoothly\",\"homepage\",\"touchscreen\",\"ecoshield\",\"recall\",\"buying\",\"unanswered\",\"humorous\",\"steeps\",\"minerally\",\"gongmei\",\"qi\",\"surge\",\"joint\",\"curve\",\"magnificent\",\"s\\u2019well\",\"slip\",\"golds\",\"interference\",\"infuriate\",\"snake\",\"flaw\",\"criticism\",\"de\",\"partake\",\"cure\",\"unrelated\",\"severe\",\"abnormal\",\"neutralize\",\"allergic\",\"walking\",\"colony\",\"ur\",\"dewmocracy\",\"loser\",\"motivated\",\"650\",\"seven\",\"infuse\",\"leafs\",\"rooibos\",\"engagement\",\"microwave\",\"zeal\",\"avon\",\"pamphlet\",\"opening\",\"baldur\",\"cutco\",\"float\",\"obsessed\",\"nso\",\"mimic\",\"shrink\",\"disservice\",\"farth\",\"realm\",\"accompany\",\"2077\",\"peripheral\",\"blink\",\"americans\",\"hopeful\",\"void\",\"microplastic\",\"liking\",\"fortune\",\"penny\",\"discard\",\"reuse\",\"shine\",\"exception\",\"tinker\",\"furry\",\"mumba\",\"orzly\",\"protector\",\"fortunately\",\"offering\",\"delay\",\"sanitizer\",\"misinformation\",\"tense\",\"divorce\",\"legaladvice\",\"newspaper\",\"nonpolar\",\"invention\",\"peppermint\",\"stain\",\"litterally\",\"propose\",\"supposedly\",\"few\",\"influence\",\"satisfaction\",\"c&c\",\"merry\",\"efficient\",\"meat\",\"nag\",\"soulslike\",\"drifter\",\"anaheim\",\"redownloade\",\"ff14\",\"longje\",\"mediocre\",\"illness\",\"ctc\",\"askreddit\",\"commonly\",\"respective\",\"triage\",\"temporary\",\"filling\",\"clover\",\"startup\",\"edit-\",\"jitter\",\"aforementioned\",\"cite\",\"nighttime\",\"deceptive\",\"violate\",\"interpretation\",\"utilize\",\"muscle\",\"sicily\",\"wrap\",\"francisco\",\"coast\",\"ikea\",\"gato\",\"roboto\",\"metroidvanias\",\"scientist\",\"polished\",\"presentation\",\"inquiry\",\"admin\",\"maxwell\",\"wintery\",\"legends\",\"pathfinder\",\"mama\",\"enthusiastically\",\"philadelphia\",\"widescreen\",\"browsing\",\"http://www.wsgf.org/forums/viewtopic.php?f=95&t=33144\",\"unwanted\",\"problematic\",\"plague\",\"appealing\",\"rental\",\"notion\",\"wpa\",\"wpa2\",\"brief\",\"modde\",\"drawback\",\"evenly\",\"nylock\",\"gamerscore\",\"crisp\",\"cocoa\",\"spyro\",\"reignited\",\"microsd\",\"rift\",\"controversy\",\"fad\",\"2.4ghz\",\"educate\",\"curate\",\"pekoe\",\"shou\",\"b.\",\"americano\",\"vividly\",\"waternword\",\"seal\",\"shasta\",\"kroger\",\"religion\",\"ce-38605\",\"explicitly\",\"infect\",\"interpret\",\"peanut\",\"recover\",\"glory\",\"excessive\",\"dehydration\",\"strive\",\"hyponatremia\",\"brothers\",\"traveller\",\"undecided\",\"dayz.\",\"dayz\",\"ps4s\",\"115\",\"dent\",\"chocolatey\",\"enormous\",\"famous\",\"donkey\",\"27\",\"convoluted\",\"gravity\",\"freshness\",\"nervous\",\"leadership\",\"tetsu\",\"kasuya\",\"origami\",\"sata\",\"briefly\",\"recording\",\"teammate\",\"cafec\",\"t-92\",\"injection\",\"bare\",\"interlace\",\"1080\",\"2009\",\"hibernationhomie\",\"deprive\",\"numerically\",\"heathen\",\"mysterious\",\"certification\",\"drainage\",\"radiation\",\"peg\",\"tube\",\"quench\",\"servers\",\"overload\",\"failure\",\"wal\",\"spoil\",\"tx\",\"scream\",\"nc\",\"s.o.s.\",\"freak\",\"wander\",\"acceptable\",\"jrpg\",\"straightforward\",\"postmix\",\"dodgy\",\"sum\",\"magical\",\"goo\",\"sm4sh\",\"advertising\",\"ironic\",\"opposite\",\"objective\",\"retract\",\"retreat\",\"constraint\",\"lengthy\",\"impress\",\"flexship\",\"csr\",\"contract\",\"penalty\",\"korra\",\"edit2\",\"midwest_wonder\",\"moderate\",\"symbol\",\"maps\",\"pretend\",\"teasales\",\"playgrounds\",\"task\",\"urine\",\"depravity\",\"sodahomies\",\"rancilio\",\"pat\",\"grateful\",\"1.7\",\"salesman\",\"fibre\",\"6.0.1\",\"6.0.0\",\"vary\",\"elden\",\"bob\",\"infiltrate\",\"smallbusiness\",\"grocer\",\"jungle\",\"jim\",\"avenue\",\"l\\u2019brie\",\"h1z1\",\"trainer\",\"magazine\",\"alongside\",\"tekken\",\"extent\",\"citation\",\"senior\",\"publicly\",\"rmx\",\"glorious\",\"spicey\",\"steeper\",\"hahaha\",\"shirt\",\"xl\",\"fighterz\",\"reader\",\"blackberry\",\"recommendations\",\"amazon.com\",\"sinensis\",\"flexibility\",\"forte\",\"bg\",\"formula\",\"mafia\",\"authorize\",\"~~i\",\"deactivate\",\"deactivation\",\"reinstate\",\"stranding\",\"fetco\",\"ek\",\"colombian\",\"brushing\",\"xcom\",\"\\u20ac\",\"calendar\",\"mu\",\"sieve\",\"buffs\",\"3080\",\"pst\",\"canister\",\"snack\",\"drpepper\",\"holidays\",\"dec\",\"guidance\",\"toe\",\"guru\",\"weekly\",\"jon\",\"danish\",\"svoboda\",\"celebrate\",\"marketplace\",\"shall\",\"downside\",\"embrace\",\"st.\",\"louis\",\"climb\",\"definition\",\"confident\",\"baked\",\"dramless\",\"meaningful\",\"enjoyment\",\"youth\",\"woods\",\"thimbleweed\",\"i\\u00b4ve\",\"brutality\",\"moda\",\"amp\",\"diego\",\"positivity\",\"perk\",\"cheers\",\"exhausted\",\"induce\",\"dependency\",\"consequence\",\"noticeably\",\"programmer\",\"29\",\"safari\",\"shocker\",\"fledge\",\"fujian\",\"overpriced\",\"realignment\",\"continuously\",\"n++\",\"bless\",\"mcdonald\",\"ab\",\"default\",\"pray\",\"aw\",\"rec\",\"climate\",\"humidity\",\"hei\",\"tou\",\"capcom\",\"frank\",\"outrageous\",\"unite\",\"sodanibbas\",\"fortebg\",\"lcd\",\"ie\",\"wpm\",\"here\",\"heartburn\",\"minimize\",\"healthyu\",\"eating\",\"harvesting\",\"rolling\",\"harvest\",\"october\",\"375\",\"1893\",\"hk\",\"clinic\",\"scatter\",\"cs\",\"nutty\",\"terror\",\"peruvian\",\"pocket\",\"voiceover\",\"bake\",\"cookie\",\"denmark\",\"pumpkin\",\"decorate\",\"7.99\",\"pleasant\",\"font\",\"behold\",\"incoming\",\"wilfa\",\"svart\",\"shin\",\"megami\",\"tensei\",\"smt\",\"refillable\",\"skittle\",\"dissolve\",\"shadows\",\"killzone\",\"neumorphism\",\"gentle\",\"violent\",\"battlefront\",\"mushroom\",\"wealth\",\"tackle\",\"platforming\",\"80/100\",\"predict\",\"peer\",\"stubborn\",\"drama\",\"cleaner\",\"span\",\"feasible\",\"somethin\",\"deliberate\",\"gunplay\",\"lookin\",\"al\",\"shwepps\",\"c+\",\"dasani\",\"robust\",\"breach\",\"5th\",\"ride\",\"moxie\",\"hat\",\"tab\",\"pokken\",\"spit\",\"tabletop\",\"es1\",\"express\",\"storytelling\",\"reject\",\"apparent\",\"chick\",\"dm\\u2019d\",\"attract\",\"pinch\",\"inhaler\",\"itworks\",\"nft\",\"sinner\",\"better\",\"daxter\",\"hurry\",\"politeness\",\"ffx\",\"27.5\",\"bullet\",\"sandisk\",\"commander\",\"mt\",\"cf\",\"grad\",\"peruse\",\"dangerously\",\"restrict\",\"betray\",\"elderberry\",\"edith\",\"finch\",\"deeply\",\"depressed\",\"detective\",\"350\",\"motorstorm\",\"offroad\",\"optional\",\"blank\",\"tint\",\"elderly\",\"diffuser\",\"diffuse\",\"audacity\",\"dramatic\",\"jamberry\",\"officer\",\"eternal\",\"requirement\",\"spotlight\",\"michigan\",\"largely\",\"digimon\",\"dogurai\",\"mega\",\"sweeten\",\"spearmint\",\"neglect\",\"lawn\",\"district\",\"gotten\",\"tolerate\",\"outsell\",\"dino\",\"fav\",\"therapeutic\",\"bait\",\"worldventures\",\"goblin\",\"fiancee\",\"breed\",\"inc\",\"tradition\",\"puppy\",\"ween\",\"overprice\",\"bedtime\",\"routine\",\"bistro\",\"giotto\",\"newbie\",\"marcus\",\"jar\",\"faxe\",\"kondi\",\"stateside\",\"aldi\",\"ticket\",\"ymmv\",\"airtight\",\"australian\",\"workshop\",\"arakai\",\"greeting\",\"danidev\",\"tacos\",\"monetarily\",\"terribly\",\"hud\",\"@60hz\",\"earth\",\"pearl\",\"rosali\",\"colossus\",\"unopened\",\"fart\",\"palette\",\"littlewood\",\"holding\",\"nabbits\",\"finder\",\"43\",\"teraflop\",\"twig\",\"ida\",\"nascar\",\"secondhand\",\"april\",\"finely\",\"unflavore\",\"darjeeling\",\"aromatherapist\",\"organizer\",\"naive\",\"economically\",\"cone\",\"takeaway\",\"kirkland\",\"property\",\"thoroughly\",\"oven\",\"chocolaty\",\"conflict\",\"watermelon\",\"tidal\",\"2042\",\"resolve\",\"afaik\",\"38\",\"duplicate\",\"renewable\",\"obtain\",\"faq\",\"hade\",\"deer\",\"cooking\",\"fusion\",\"mansion\",\"nuance\",\"withdrawal\",\"g'day\",\"sunny\",\"pit\",\"disney\",\"fox\",\"sling\",\"circleoftrust\",\"attila\",\"mouthfeel\",\"rusty\",\"distinct\",\"patent\",\"realism\",\"scott\",\"pilgrim\",\"mordhau\",\"tarkov\",\"instanced\",\"raid\",\"loot\",\"1.33\",\"corrupted\",\"happiness\",\"bo2\",\"gripe\",\"invasion\",\"grayswood\",\"sherman\",\"pinpoint\",\"1ms\",\"indefinitely\",\"tim\",\"hortons\",\"steeped\",\"\\ud83d\\udd3a\",\"casual\",\"23\",\"guacamelee\",\"21\",\"unravel\",\"crawl\",\"gore\",\"wargroove\",\"dizzy\",\"discomfort\",\"inexpensive\",\"castle\",\"shoe\",\"pore\",\"mercenary\",\"manta\",\"storm\",\"backflip\",\"successfully\",\"reminiscent\",\"antisnakeoil\",\"r/\",\"retina\",\"gt\",\"3570k\",\"vs+\",\"dislikes\",\"indifference\",\"discourage\",\"useless\",\"wholelattelove.com\",\"shoprite\",\"cashier\",\"82\",\"125\",\"rt\",\"rind\",\"excite\",\"gevalia\",\"jasmine\",\"cruise\",\"drag\",\"keybind\",\"singleplayer\",\"guard\",\"thrill\",\"ugh\",\"tune\",\"insightful\",\"meaning\",\"compelling\",\"expiration\",\"shading\",\"extended\",\"sci\",\"darklightgame\",\"revert\",\"dts\",\"bitstream\",\"quarter\",\"xb1\",\"reseller\",\"g1\",\"effectively\",\"darn\",\"nightlife\",\"jersey\",\"rocketfizz\",\"snow\",\"empower\",\"ophelia\",\"cyrus\",\"olberic\",\"primrose\",\"alfyn\",\"therion\",\"chapter\",\"paul\",\"john\",\"probability\",\"\\ud83d\\ude10\",\"paragraph\",\"asking\",\"listing\",\"twinning\",\"l'bri\",\"obligation\",\"peddler\",\"poison\",\"stumptown\",\"bf3\",\"whitening\",\"fluoride\",\"2010\",\"ummon\",\"aoarashi\",\"isuzu\",\"koyamaen\",\"sayaka\",\"addict\",\"warehouse\",\"spiritfarer\",\"invisible\",\"apologise\",\"stealthy\",\"tangerine\",\"troubleshooting\",\"bd\",\"13.6\",\"28.3\",\"frothy\",\"pu\\u2019erh\",\"resetting\",\"originalxbox\",\"prohibit\",\"notch\",\"sponsorship\",\"narrater\",\"loost\",\"-african\",\"pride\",\"tanzania\",\"wisps\",\"combined\",\"mauritius\",\"ssid\",\"screenshots\",\"retire\",\"\\ud83d\\ude4f\",\"bay\",\"village\",\"reforge\",\"yr\",\"data\",\"joysound\",\"workload\",\"turkish\",\"bosnian\",\"unfiltered\",\"knitting\",\"coward\",\"https://www.ign.com/articles/ghost-of-tsushima-devs-discuss-challenging-combat-incredibly-difficult-samurai-fight\",\"d\\u00e9longhi\",\"ecam\",\"suited\",\"quota\",\"xmas\",\"mentally\",\"hades\",\"spiritual\",\"successor\",\"coaster\",\"skylines\",\"warframe\",\"hiccup\",\"kb5005539\",\"kb5006670\",\"3090\",\"kb\",\"steeping\",\"thermometer\",\"sinking\",\"photorealistic\",\"tease\",\"incorporate\",\"unlimited\",\"yt\",\"nana\",\"wendelboe\",\"downwell\",\"tate\",\"fifa18\",\"whisper\",\"checkup\",\"positioning\",\"eco\",\"yunomius\",\"rabbids\",\"bestbuy\",\"yardstick\",\"undertone\",\"buildapc\",\"circular\",\"annoyed\",\"tetley\",\"supernova\",\"1:15\",\"sediment\",\"joe\",\"bagged\",\"perception\",\"perceive\",\"r+f.\",\"arrange\",\"camelot\",\"drinkdudes\",\"miraculously\",\"sodas\",\"sku\",\"downvote\",\"rumour\",\"frankly\",\"gta5\",\"censorship\",\"censor\",\"comp\",\"tf2\",\"oolongs\",\"96\",\"makeover\",\"remastere\",\"saga\",\"soda4u\",\"birch\",\"microfoam\",\"steaming\",\"midway\",\"divinity\",\"avenger\",\"x-2\",\"yirgacheffe\",\"gesha\",\"earthiness\",\"57\",\"ramble\",\"sourness\",\"2080ti\",\"dlss\",\"blurry\",\"lighting\",\"dayton\",\"glance\",\"blonding\",\"sette\",\"270\",\"dancong\",\"cdkey\",\"seemingly\",\"bpm\",\"chatpad\",\"hfcs\",\"historical\",\"whine\",\"tone\",\"720p/60fps\",\"bitrate\",\"skillet\",\"puer\",\"homework\",\"peel\",\"yo\",\"brazilian\",\"bunny\",\"latency\",\"voltage\",\"gf\",\"queen\",\"emotionally\",\"pale\",\"powerade\",\"pope\",\"making\",\"extension\",\"rac\",\"joypad\",\"river\",\"cattail\",\"fiji\",\"proxy\",\"anthem\",\"19:00\",\"globally\",\"cling\",\"hz\",\"eurolux\",\"till\",\"cloudy\",\"ogame\",\"swedish\",\"vimto\",\"earbud\",\"radius\",\"lawsuit\",\"suwon\",\"wha\",\"fang\",\"bridge\",\"corrosion\",\"neverbrokeabone\",\"r&d\",\"mechanism\",\"gtaiv\",\"colored\",\"ir\",\"calorie\",\"valentine\",\"corridor\",\"bww\",\"literature\",\"daemon\",\"machina\",\"k250\",\"roach\",\"apricot\",\"enb\",\"1.04\",\"talking\",\"larian\",\"3pm\",\"ashe\",\"slavery\",\"campaigner\",\"phantom\",\"hourly\",\"backup.bat\",\"pen\",\"engineering\",\"spy\",\"g1s\",\"wallstreetbet\",\"vivent\",\"tf\",\"confirmation\",\"elusive\",\"mk11\",\"10th\",\"hometown\",\"hilarious\",\"o'clock\",\"vile\",\"ps4deal\",\"taiping\",\"houkui\",\"starfield\",\"teredo\",\"-which\",\"bloated\",\"https://www.instagram.com/p/b7ygpoqhsiv/\",\"madebystudiojq\",\"p.\",\"segment\",\"tarheel\",\"cramp\",\"thumb\",\"ifruit\",\"preserve\",\"screech\",\"7.26\",\"scotland\",\"retention\",\"configure\",\"2oz/60ml\",\"hacker\",\"ultimately\",\"fate\",\"delonghi\",\"intelligentsia\",\"authorise\",\"huang\",\"shan\",\"mao\",\"feng\",\"geisha\",\"jet\",\"argentinian\",\"zs\",\".if\",\"mythos\",\"imagery\",\"dk64\",\"dk\",\"ura\",\"overcooked\",\"fraction\",\"crater\",\"dribble\",\"pepsin\",\"bark\",\"ij\",\"cong\",\"glycerin\",\"thesis\",\"uncertainty\",\"simultaneously\",\"faulty\",\"geoff\",\"keighley\",\"2060\",\"par\",\"specially\",\"bury\",\"puerhs\",\"tropical\",\"sober\",\"funcom\",\"denuvo\",\"up\",\"flyer\",\"settle\",\"biz\",\"recreate\",\"colors\",\"cringe\",\"dialing\",\"suicide\",\"portability\",\"cabinet\",\"refacing\",\"roofing\",\"ceylon\",\"bes870xl\",\"limitation\",\"steamer\",\"fh5\",\"tulsi\",\"basil\",\"g7\",\"bialetti\",\"repeatable\",\"probaly\",\"watermelon+strawberry\",\"coke\",\"highland\",\"ddos'd\",\"recourse\",\"gdpr\",\"stipulate\",\"fet\",\"specialized\",\"flavours\",\"royale\",\"contestant\",\"prize\",\"naked\",\"penguin\",\"eugene\",\"labor\",\"farms\",\"peninsula\",\"chalk\",\"sheetz\",\"monitors\",\"sierra\",\"mist\",\"3/4\",\"unreleastic\",\"water.org\",\"gtx1080\",\"legion\",\"3440x1440\",\"tail\",\"medicare\",\"annual\",\"enrollment\",\"hart\",\"perplex\",\"outbound\",\"80k+\",\"sock\",\"defeated\",\"staunch\",\"diff\",\"xss\",\"echinachea\",\"gladly\",\"electrical\",\"serial\",\"refurbish\",\"1117\",\"nov\",\"ditting\",\"430\",\"discerning\",\"plate\",\"dooo\",\"gosh\",\"shiller\",\"workaholic\",\"distracted\",\"revenue\",\"coder\",\"contest\",\"http://www.monoprice.com/product?c_id=113&cp_id=11307&cs_id=1130703&p_id=10734&seq=1&format=2\",\"promotional\",\"posters\",\"mall\",\"pluck\",\"dac\",\"skirt\",\"cheesy\",\"ph\",\"refunded\",\"refugee\",\"watern\",\"sacred\",\"dominant\",\"surrounding\",\"premise\",\"managegement\",\"luggage\",\"whatnot\",\"bubbly\",\"sheep\",\"saver\",\"hd6950\",\"terabyte\",\"harddrive\",\"lemmie\",\"splitgate\",\"xiv\",\"uncover\",\"defenseless\",\"barbarians\",\"warrior\",\"oops\",\"rebel\",\"budokai\",\"http://www.pcper.com/reviews/graphics-cards/mobile-g-sync-confirmed-and-tested-leaked-alpha-driver\",\"https://www.youtube.com/watch?v=k7syvgb6sz4\",\"edp\",\"archaic\",\"streamline\",\"~28\",\"avaliable\",\"manageable\",\"becker\",\"pkd\",\"disease\",\"religiously\",\"3.5ml\",\"britta\",\"diy\",\"http://imgur.com/a/xm1oq\",\"decommission\",\"construction\",\"drm\",\"philosophy\",\"runup\",\"contra\",\"mandate\",\"lites\",\"versus\",\"switches\",\"loan\",\"decanter\",\"remorse\",\"game(doesn\\u2019t\",\"sayonara\",\"whim\",\"rhythm\",\"synthpop\",\"hallucinogen\",\"accidently\",\"irrelevant\",\"01/07/2022\",\"toooo\",\"http://www.davidstea.com\",\"cthulhu\",\"va\",\"discovery\",\"gal\",\"symmetry\",\"mortgage\",\"elbow\",\"999\",\"hugely\",\"crunch\",\"920xl\",\"hg-1\",\"purge\",\"excess\",\"manufacturer\",\"allen\",\"hydrojug\",\"brebcg820bssxl\",\"judging\",\"nil\",\"omg\",\"cruis'n\",\"https://www.nintendo.com/games/detail/cruisn-blast-switch/\",\"impart\",\"all-\",\"tare\",\"moronic\",\"gender\",\"economics\",\"economic\",\"http://www.baristaguildofeurope.com/thelearningproject/2015/3/31/coffee-farm-economic\",\"skim\",\"aces\",\"meter\",\"visually\",\"unappealing\",\"uninspired\",\"horrendous\",\"lacking\",\"overhead\",\"purchases\",\"unrecognized\",\"halp\",\"overhydrate\",\"\\ud83d\\ude14\",\"responsibly\",\"nerd\",\"fl\\u00e5klypa\",\"1975\",\"norwegian\",\"basicly\",\"https://www.youtube.com/watch?v=6vtuegfnwde\",\"eternity\",\"expertly\",\"cocaine\",\"disgaea\",\"cayo\",\"perico\",\"i'm\",\"dispel\",\"sofa\",\"ting\",\"zi\",\"bulang\",\"rinsing\",\"unstuck\",\"dryness\",\"pu'erhs\",\"gaba\",\"ot\",\"fei\",\"0.3\",\"0.4\",\"fruitness\",\"backyard\",\"spigot\",\"clocked\",\"pga\",\"2k21\",\"https://m.media-amazon.com/images/i/816oajpj+8l._ac_ss350_.jpg\",\"sodatalk\",\"diedrate\",\"resturant\",\"facility\",\"dept\",\"agriculure\",\"snapple\",\"kiwi\",\"tyia\",\"cluttered\",\"avengers\",\"y\\u2019know\",\"itch.io\",\"pike\",\"64ish\",\"ml.\",\"leung\",\"http://www.theverge.com/2015/11/5/9674462/usb-type-c-google-engineer-third-party-cable\",\"https://www.amazon.com/gp/product/b010vuqen0/ref=oh_aui_search_detailpage?ie=utf8&psc=1\",\"https://www.amazon.com/gp/profile/amzn1.account.aflicgqrf6brjgh2rrd4vgmb47za?ie=utf8&ref_=cm_cr_rdp_pdp\",\"withstand\",\"cfs\",\"sufferer\",\"hateful\",\"quietly\",\"sugarcane\",\"huawei\",\"brisk\",\"sing\",\"finca\",\"hailcorporate\",\"tricks\",\"1/\",\"2/\",\"exaggerating\",\"iplayer\",\"jealous\",\"cooler/\",\"purifier\",\"nuvo\",\"zenroast\",\"bottomed\",\"saucepan\",\"glare\",\"drunken\",\"solder\",\"interestingly\",\"timothy\",\"houtte\",\"crucify\",\"calming\",\"portifilter\",\"pressurise\",\"philistine\",\"expresso\",\"cookwork\",\"expreso\",\"shoutout\",\"chambord\",\"plunger\",\"mn\",\"minnesota\",\"imaginable\",\"payday\",\"left4dead2\",\"merchandise\",\"dishearten\",\"overstep\",\"bound\",\"reprimand\",\"testimony\",\"ongoing\",\"jury\",\"pose\",\"slap\",\"binning\",\"ga-78lmt\",\"s2p\",\"haf922\",\"specs\",\"fx(tm)-4100\",\"ghz\",\"ati\",\"4800\",\"190\",\"99.3\",\"profitable\",\"fluent\",\"dedication\",\"outweigh\",\"crop\",\"https://preview.redd.it/je2yshc2k5f21.png?width=452&format=png&auto=webp&s=e04c7de1d00fd27addac211c9b38bf280ade7db4\",\"https://preview.redd.it/e6g4tp13k5f21.png?width=450&format=png&auto=webp&s=a857f2a842b5d25d96697107bb616098948038db\",\"disclaimer-\",\"grandpa\",\"responded-\",\"condolence\",\"astound\",\"thoughtfulness\",\"https://imgur.com/a/o0kacia\",\"https://imgur.com/gallery/volqbnh\",\"similarly\",\"mulled\",\"rose\",\"heavenly\",\"unsurprisingly\",\"170f.\",\"sixty\",\"exodus\",\"davidstea\",\"honeydew\",\"nay\",\"contemplate\",\"synonymous\",\"n.e.r.o.\",\"n.e.r.o\",\"adv\",\"ideas\",\"daniel\",\"bloodworth(he\",\"gametrailers.com\",\"http://www.twitch.tv/gametrailers/v/4972732\",\"0.8l-1l\",\"xiaomi\",\"rhoa\",\"further\",\"empire\",\"https://www.kandikoated.com/\",\"http://img.techpowerup.org/140811/gpuz.png\",\"slower\",\"http://users.wfu.edu/yipcw/atg/3d/sony/vegaspro11/images/vegas11-3d-nvidia-control-panel-system_info-1.gif\",\"free'd\",\"cp\",\"showed\",\"dramatically\",\"chilly\",\"infrequently\",\"ogden\",\"rannygazoo\",\"c-\",\"splatnet\",\"bounce\",\"rainmaker\",\"dunk\",\"casualty\",\"nostalgic\",\"candidate\",\"counterpart\",\"pilon\",\"aquila\",\"medaglia\",\"d'oro\",\"normie\",\"proffesional\",\"unoptimization\",\"cpus\",\"lonely\",\"hostel\",\"inspired\",\"https://www.youtube.com/watch?v=689cfpk8ed8\",\"monetize\",\"koji\",\"igarashi\",\"backlash\",\"playtonic\",\"gameswap\",\"config\",\"daystrike\",\"camo\",\"upward\",\"flick\",\"reluctant\",\"tr\",\"eq\",\"unware\",\"hue\",\"offensive\",\"regulate\",\"awake\",\"emitting\",\"flux\",\"adapt\",\"clone\",\"plea\",\"intermediary\",\"nintnedo\",\"p.c.\",\"p.c\",\".8\",\"kd\",\"1.6\",\"rebuye\",\"overdrive\",\"sleeping\",\"locker\",\"emergency\",\"facetime\",\"usd/\",\"taiwan\",\"sandybridge\",\"ivybridge\",\"lido3/2\",\"prima\",\"equate\",\"aero\",\"-e\",\"450ml\",\"weirdo\",\"asaam\",\"https://givin.gift\",\"poonique\",\"\\ud83d\\udc85\",\"\\ud83d\\udc84\",\"\\u2764\",\"\\ud83d\\ude0d\",\"\\u2728\",\"graduation\",\"equitable\",\"advisor\",\"fin\",\"overdrive+\",\"lineup\",\"770\",\"arma\",\"wasteland\",\"predicament\",\"660ti\",\"ftw\",\"habitat\",\"waterbottle\",\"20l\",\"2.6l\",\"gambling\",\"bottles\",\"pepsico\",\"27inch\",\"dell\",\"s2719dgf\",\"l\\u2019occitane\",\"limelight\",\"alcone\",\"shaming\",\"ignorant\",\"outrage\",\"rampage\",\"selfless\",\"homelessness\",\"unfollow\",\"entertaining\",\"theater\",\"agonizing\",\"nel\",\"dissuade\",\"caution\",\"enthusiasm\",\"infectious\",\"thinly\",\"hazardous\",\"pharmacy\",\"droopy\",\"eyelid\",\"lash\",\"disaster\",\"oversaturated\",\"summarize\",\"xb3\",\"independence\",\"mw3\",\"tyler\",\"mw2wv\",\"dawg\",\"distraction\",\"dinosaur\",\"east\",\"simultaneous\",\"roster\",\"revised\",\"revise\",\"hunting\",\"http://www.asus.com/monitors_projectors/vg248qe/\",\"http://www.geforce.com/hardware/technology/g-sync/diy\",\"cad\",\"overpay\",\"pcpartpicker\",\"type|item|price\",\"----|:----|:----\",\"4690\",\"3.5ghz\",\"229.99\",\"h100i\",\"77.0\",\"maximus\",\"lga1150\",\"249.00\",\"g.skill\",\"ripjaws\",\"ddr3\",\"1866\",\"101.99\",\"840\",\"seagate\",\"barracuda\",\"7200rpm\",\"84.99\",\"directcu\",\"809.00\",\"c70\",\"tower\",\"rm\",\"750w\",\"modular\",\"gh24nsb0\",\"dvd\",\"8.1\",\"24.0\",\"299.00\",\"sp120\",\"37.9\",\"34.99\",\"k70\",\"129.99\",\"razer\",\"deathadder\",\"49.99\",\"a40\",\"249.99\",\"2908.87\",\"oddisey\",\"lookout\",\"southwestern\",\"misleading\",\"incorrect\",\"conveniently\",\"integrity\",\"troublesome\",\"latin\",\"m&b\",\"warband\",\"versions\",\"colouring\",\"1-\",\"2-\",\"3-\",\"4-\",\"5-\",\"6-\",\"redemption\",\"7-\",\"infamous\",\"8-\",\"9-\",\"10-\",\"11-\",\"12-\",\"th\",\"https://preview.redd.it/cg0nzl8wjd181.jpg?width=2322&format=pjpg&auto=webp&s=780ff887e7155318442a2e769e4e40b4120dd9be\",\"https://preview.redd.it/29622p8wjd181.jpg?width=4128&format=pjpg&auto=webp&s=0c6c083f770ef1fe56e62445811573c521f06096\",\"https://preview.redd.it/agca589wjd181.jpg?width=2322&format=pjpg&auto=webp&s=9a513f70bff6f5f2fff9a44a8c9c52b911f1987d\",\"robotics;note\",\"interrelated\",\"chaos\",\"murky\",\"robotics;notes\",\"localization\",\"keeps\",\"smashed\",\"plasma\",\"custody\",\"unscathed\",\"belonging\",\"athlon\",\"3800\",\"sandbox\",\"avalanche\",\"unsatisfie\",\"mental\",\"zomboid\",\"percentage\",\"wheeled\",\"steed\",\"/-15\",\"headway\",\"adopter\",\"covert\",\"mergethesubreddit\",\"xboxone\",\"autocorrect\",\"66\",\"offroade\",\"fry\",\"traveler\",\"protagonist\",\"revel\",\"h'aanit\",\"strawpoll\",\"http://www.strawpoll.me/15702944\",\"ocha\",\"https://www.ochaandco.com/\",\"texans\",\"blizzard\",\"candle\",\"2.99\",\"a.c.\",\"newly\",\"items\",\"mbp\",\"powerbank\",\"https://www.amazon.com/gp/product/b01h3cof62/ref=oh_aui_search_detailpage?ie=utf8&psc=1\",\"https://www.amazon.com/gp/product/b01esx3g50/ref=oh_aui_search_detailpage?ie=utf8&psc=1\",\"https://www.amazon.com/gp/product/b0194x4mso/ref=oh_aui_search_detailpage?ie=utf8&psc=1\",\"https://www.amazon.com/gp/product/b01iqulvzi/ref=oh_aui_search_detailpage?ie=utf8&psc=1\",\"https://www.amazon.com/apple-mll82am-usb-c-charge-cable/dp/b01mq5z080/ref=pd_sim_147_1?_encoding=utf8&psc=1&refrid=55c5z28zrj01anfeb9ym\",\"powerbanks\",\"https://www.amazon.com/gp/product/b0176hq1o8/ref=oh_aui_detailpage_o03_s00?ie=utf8&psc=1\",\"https://www.amazon.com/gp/product/b00ydnsh7i/ref=oh_aui_search_detailpage?ie=utf8&psc=1\",\"https://www.amazon.com/gp/product/b00vh84l5e/ref=oh_aui_detailpage_o00_s00?ie=utf8&psc=1\",\"https://www.amazon.com/apple-mnf82ll-usb-c-power-adapter/dp/b01m8o7w40/ref=sr_1_1?ie=utf8&qid=1489458622&sr=8-1&keywords=apple+87w+usb-c+power+adapter\",\"won\",\"craziness\",\"sfv\",\"shareable\",\"pottery\",\"100$-150\",\"diminish\",\"usable\",\"floppy\",\"cdrom\",\"rgh\",\"1.2\",\"jasper\",\"etsy\",\"a50\",\"formulate\",\"whisk\",\"https://preview.redd.it/bkj8rcpjaad21.jpg?width=845&format=pjpg&auto=webp&s=c294b4c25d426da1f78d8f72beafef5d55cb18ab\",\"accessible\",\"pointless\",\"29th\",\"nesquik\",\"yk\",\"multivitamin\",\"xenoverse\",\"intern\",\"reccomendation\",\"marker\",\"https://imgur.com/a/wd37b\",\"emailed\",\"https://bravo-systems.com/product/mini-junior-evd/\",\"http://www.wegausa.com/products/mininova/mininova-evd/\",\"tincture\",\"rules\",\"\\ud83d\\udc12\",\"\\ud83d\\udc4b\",\"\\ud83c\\udffb\",\"\\ud83d\\ude48\",\"\\u263a\",\"carwash\",\"insulation\",\"recommendations\\u203d\",\"konami\",\"xcloud\",\"~anywhere~\",\"nx\",\"bleed\",\"piracy\",\"unibody\",\"ethernet\",\"exponentially\",\"incrementing\",\"m1\",\"abrams\",\"ak-47\",\"akm\",\"portfolio\",\"iphones\",\"se\",\"12s\",\"news+\",\"nuke\",\"stringent\",\"tactically\",\"advantageous\",\"avert\",\"labo\",\"guncon\",\"solved\",\"whith\",\"lining\",\"v60!the\",\"jd\",\"whipper\",\"nitrogen\",\"herb\",\"runners\",\"https://www.humblebundle.com/g/treasuregoblin\",\"regards\",\"mentalbard\",\"authenticity\",\"distributor(s\",\"certificate\",\"manufactory\",\"stpgoods.com\",\"ipm\",\"jsc\",\"1996\",\"sighs\",\"changes\",\"uneven\",\"trendy\",\"mildy\",\"crema\",\"lemony\",\"sourmix\",\"lemoncello\",\"defense\",\"chemically\",\"polen\",\"samll\",\"folding@home\",\"f@h.\",\"http://en.wikipedia.org/wiki/folding@home#playstation_3\",\"likelihood\",\"redevelopedf@h\",\"forbid\",\"functioning\",\"oddity\",\"talos\",\"funnily\",\"90fps\",\"limiter\",\"mmos\",\"xc2\",\"affinity\",\"arrow\",\"backround\",\"choppy\",\"hug\",\"ick\",\"vel\",\"tik\",\"tok\",\"prob\",\"characteristic\",\"gamble\",\"superstars\",\"toddler\",\"https://preview.redd.it/h8ilo1w2k4581.png?width=1210&format=png&auto=webp&s=2944f6f97976c39e5a53b40203a8a6f9be63c91b\",\"mailman\",\"10/29/2021\",\"5000\",\"hs\",\"after\",\"adamantly\",\"question]vr\",\"xv\",\"citanul\",\"answered\",\"antioxidant\",\"heated\",\"lecture\",\"offense\",\"dianhong\",\"varietal\",\"ness\",\"cedar\",\"giawan\",\"celsius\",\"commonality\",\"rushing\",\"aging\",\"approachable\",\"t.j.\",\"kc\",\"learning\",\"payoff\",\"elder\",\"scrolls\",\"vortex\",\"wack\",\"playerbase\",\"sports\",\"slighter\",\"gym\",\"errand\",\"fade\",\"geek\",\"proggress\",\"lexus\",\"sendoutcards\",\"handwritten\",\"hgh\",\"homeopathic\",\"topical\",\"placebo\",\"surly\",\"harm\",\"2160pyuv420\",\"2160\",\"yuv420\",\"configuration\",\"juice+\",\"antacid\",\"gi\",\"shpeel\",\"webinar\",\"abdominal\",\"bloating\",\"smoothie\",\"disinter\",\"deflection\",\"offend\",\"boundary\",\"uninterested\",\"crew\",\"bejewel\",\"stimulation\",\"game(sorry\",\"explosive\",\"puzzling\",\"vote\",\"ya\\u2019ll\",\"100mhz\",\"mature\",\"stagnant\",\"n-1\",\"outperform\",\"recycle\",\"390x/390\",\"290\",\"twin\",\"2~3\",\"450~$550\",\"sustain\",\"sentiment\",\"infus\",\"02:08\",\"med\",\"hunger\",\"prof$t\",\"emote\",\"algorithm\",\"seo\",\"dontcha\",\"chuckle\",\"papa\",\"vaguely\",\"incestuous\",\"https://preview.redd.it/ohbdanjpxwj71.png?width=1370&format=png&auto=webp&s=a409d1ad9830d5305554e28c472b7a52b0137ab1\",\"nitpick\",\"grill\",\"tisanes\",\"wonky\",\"housemate\",\"shorten\",\"coronavirus\",\"soap\",\"lotion\",\"perfume\",\"skinsosoft\",\"getti\",\"guardian\",\"scheherazade\",\"calypso\",\"knife\",\"marketer\",\"coagulate\",\"blob\",\"1/4\",\"kinguin\",\"os\",\"datamine\",\"https://twitter.com/videotech_/status/1445411336729530370\",\"https://twitter.com/gtanet/status/1445412405861834755\",\"vice\",\"disagree\",\"4:3\",\"viewable\",\"readable\",\"sharing\",\"980tis\",\"6gbs\",\"3.7\",\"gig\",\"overclocking\",\"4001\",\"mhz\",\"980ti\",\"mem\",\"loophole\",\"afterburner\",\"mh4\",\"picross\",\"mh\",\"kotaku\",\"thrid\",\"unlicensed\",\"undergo\",\"evaluation\",\"https://kotaku.com/switch-owners-say-third-party-docks-are-bricking-their-1824122777\",\"-50\",\"ff7r\",\"goto\",\"tracker\",\"markup\",\"conclusive\",\"backpack\",\"bangslamtime\",\"ceral\",\"waaaaaaaay\",\"decorative\",\"https://www.amazon.co.uk/dp/b097c44xpt/ref=cm_sw_r_cp_awdb_imm_gk7cg970w6m6g3kzr418\",\"manufacture\",\"repurpose\",\"funky\",\"nightstand\",\"toss\",\"recycling\",\"nye\",\"trump\",\"supporter\",\"slam\",\"https://www.reddit.com/r/antimlm/comments/l9rycy/added_three_days_into_a_ziya_popup_party/\",\"deadle\",\"inauguration\",\"elle\",\"beau\",\"cautionary\",\"tale--\",\"commend\",\"teamie\",\"her--\",\"crates\",\"immediately--\",\"disclaimed\",\"https://preview.redd.it/d20rkc04d5f61.jpg?width=865&format=pjpg&auto=webp&s=01a7a67f5d1484f575288ebc7d37c9e04db0819a\",\"hmmmmmm\",\"https://preview.redd.it/4g40ln1ad5f61.jpg?width=272&format=pjpg&auto=webp&s=15aaf46cf0f500d12495af6f90411be65eb654bc\",\"evolutionary\",\"trait\",\"wan\",\"nibs\",\"meltable\",\"surpprisingly\",\"cdpr\",\"albeit\",\"delist\",\"9/11\",\"marginally\",\"germ\",\"debunk\",\"bully\",\"divorcing\",\"miserable\",\"homemade\",\"https://www.reddit.com/r/legaladvice/comments/81rsdo/i_received_a_c_d_am_i_in_trouble\",\"mb\",\"deffinelty\",\"fishing\",\"soogy\",\"seaweed\",\"compound\",\"questions-\",\"intended\",\"solvent\",\"hiya\",\"dyeing\",\"yarn\",\"conditioning\",\"firmware\",\"ganertag\",\"2,7\",\"photomode\",\"accesible\",\"bias\",\"substantiated\",\"inappropriate\",\"insignificant\",\"pressurized\",\"rts\",\"openra\",\"cncnet\",\"onboard\",\"uhh\",\"~~but\",\"life.~~\",\"goten\",\"suprise\",\"dong\",\"ding\",\"luo\",\"han\",\"techpowerup.com\",\"13.4\",\"rx\",\"9.7\",\"techpowerup\",\"12.15\",\"dictate\",\"hech\",\"programming\",\"sift\",\"uber\",\"tiger\",\"\\ud83e\\udd37\",\"\\ud83c\\udffd\\u200d\",\"\\u2642\",\"20bar\",\"850w\",\"elitist\",\"wwii\",\"wv-33898\",\"longjing\",\"hangzhou\",\"ctrl+v\",\"bro\",\"koolaid\",\"worse\",\"bigelow(bags\",\"entice\",\"dental\",\"responsibility\",\"toothache\",\"abscess\",\"daughter\\u2018s\",\"orajel\",\"ibuprofen\",\"boggle\",\"rural\",\"farcry\",\"mindustry\",\"rejoin\",\"ryzen\",\"3700\",\"rx5700\",\"cabin\",\"blackout\",\"nootropics\",\"liver\",\"metabolize\",\"easier\",\"wakeful\",\"bridal\",\"emails\",\"enforce\",\"mlmers\",\"protection\",\"compliant\",\"guideline\",\"recipient\",\"mailing\",\"violation\",\"41,000\",\"82,000\",\"lawyer\",\"y.o\",\"60gps\",\"torn\",\"marios\",\"tanuki\",\"cheese\",\"crown\",\"piranha\",\"creeper\",\"creek\",\"f&m\",\"hamper\",\"detailed\",\"gmg\",\"sale20\",\"grogre\",\"greenmangaming.com\",\"isolation\",\"wooo\",\"soldier\",\"stylish\",\"monochromatic\",\"floaty\",\"mech\",\"immense\",\"annoyance\",\"excusable\",\"unexplored\",\"appreciater\",\"spark\",\"teachat\",\"registration\",\"recognition\",\"warming\",\"https://preview.redd.it/5xh35kpeb3u51.jpg?width=3024&format=pjpg&auto=webp&s=eb82fd5e9200a28cc273d3e4e60fa1b565770165\",\"shakota\",\"moisturizer\",\"sunscreen\",\"yummy\",\"type\\\"+twitch_prime_linke\",\"lootboxe\",\"worms\",\"w.m.d.\",\"sweaty\",\"philly\",\"h.h\",\"homi\",\"greet\",\"unsafe\",\"malicious\",\"visitor\",\"https\",\"pcgamingwiki\",\"innocence\",\"http://www.wsgf.org/forums/viewtopic.php?p=176452#p176452\",\"fov\",\"casually\",\"sandwitch\",\"civilzation\",\"margaret\",\"tgfop\",\"contemplating\",\"finalize\",\"kakarot\",\"enchance\",\"latino\",\"heritage\",\"synthetic\",\"prison\",\"0.000000000000000000000000000001\",\"discrepancy\",\"annihilate\",\"scar\",\"adagio.com\",\"stepless\",\"m6\",\"fender\",\"nub\",\"m6x1.0\",\"plier\",\"axle\",\"holder\",\"voil\\u00e0\",\"infinitely\",\"unevenness\",\"stiff\",\"follower\",\"nsfw\",\"kyu\",\"publicity\",\"junk\",\"burger\",\"rebuilt\",\"rear\",\"continent\",\"whichever\",\"i_screen_peek\",\"dont_believe_me_ever\",\"shortcut\",\"https://www.icloud.com/shortcuts/cbf4f6fe0b9843449d74a410361b7c56\",\"downloads\",\"https://www.reddit.com/r/nintendoswitch/comments/99x4jh/i_made_an_app_to_quickly_download_and_share/?st=jn4so8ua&sh=803ee717\",\"vive\",\"r3qdm\",\"vggyc\",\"yd42d-9mtv6\",\"4ggrz\",\"collapse\",\"2\\u20195\",\"splitfish\",\"\\ud83e\\udd2c\",\"disgrace\",\"years+\",\"tea(i\",\"ning\\u2019er\",\"jing\",\"gu\",\"needles\",\"fuding\",\"pig\",\"ruifen\",\"https://preview.redd.it/tngcvc9nohj41.png?width=1706&format=png&auto=webp&s=fb6e5d47f1d56597dd1910b15cf0c5f550f76d4f\",\"ummm\",\"pe\",\"prepay\",\"yea\",\"ofc\",\"boston\",\"aesthetically\",\"pleasing\",\"5)40ct\",\"boxes\",\"pods\",\"\\ud83c\\udf40\",\"slurpee\",\"https://www.7-elevenshop.com/\",\"waterbro\",\"unnatural\",\"byzantium\",\"rome\",\"klatch\",\"hawaiian\",\"ka'u\",\"typica\",\"http://www.klatchroasting.com/ka_u_typica_p/haw_kau_typ.htm\",\"kroeger\",\"tiki\",\"fentiman\",\"hunbots\",\"faith\",\"heavily(amway\",\"mk,31,etc\",\"dsa\",\"18.6\",\"capital\",\"morbidly\",\"deet\",\"dare\",\"\\ud83d\\ude31\",\"-deactivate\",\"reactivate\",\"-restore\",\"-defragge\",\"terrific\",\"anosmia\",\"paranosmia\",\"damp\",\"vaccination\",\"mean?(speculation\",\"vc\",\"mascot\",\"thee\",\"beebee890\",\"http://www.youtube.com/user/beebee890\",\"credential\",\"admirable\",\"blasphemy\",\"heresy\",\"safely\",\"infused\",\"delicate\",\"imbalance\",\"credible\",\"https://www.mayoclinic.org/diseases-conditions/hyponatremia/symptoms-causes/syc-20373711\",\"https://www.latimes.com/archives/la-xpm-2007-jan-14-me-water14-story.html\",\"preparer\",\"cliente\",\"cpa\",\"/s\",\"kinu\",\"comandante\",\"~~people~~\",\"rocketwerkz\",\"bohemia\",\"interactive\",\"chest\",\"degenerate\",\"noticably\",\"controll\",\"nick\",\"represent\",\"esque\",\"oriental\",\"mushroomy\",\"maltiest\",\"whatchas\",\"wui\",\"indonesia\",\"uncannily\",\"orchid\",\"sheer\",\"revolutionize\",\"with?(possibly\",\"experience?(i.e\",\"vegas\",\"ll\",\"4years\",\"compartment\",\"aide\",\"chute\",\"rube\",\"goldberg\",\"subpar\",\"accommodate\",\"snippy\",\"unethical\",\"rhetoric\",\"defensiveness\",\"rubbish\",\"ppl\",\"transference\",\"optmimize\",\"5x\",\"tinny\",\"5gb\",\"filters\",\"reorder\",\"mustard\",\"packing\",\"92\",\"c/197\",\"pine\",\"needle\",\"tea-\",\"incident\",\"health-\",\"stroke-\",\"temporal\",\"foux\",\"lile\",\"invetween\",\"checkerpattern\",\"fourth\",\"distinguish\",\"upclose\",\"1080i\",\"reminisce\",\"trinity\",\"hungryhomie\",\"p.s.\",\"personalfinance\",\"pf\",\"richness\",\"investing\",\"persuasively\",\"login\",\"youthberry\",\"heinously\",\"gifted\",\"sydney\",\"https://preview.redd.it/qdlvgttk6ac71.jpg?width=2564&format=pjpg&auto=webp&s=9f38cd383c3725b2c72c8ef637f653f7802564fc\",\"evident\",\"duct\",\"plumber\",\"laryngectomy\",\"chemo\",\"sooo\",\"fret\",\"headsets\",\"grace\",\"swtich\",\"repulsive\",\"grandson\",\"bloodborne\",\"dupe\",\"multimillion\",\"marriage\",\"adulthood\",\"bask\",\"glow\",\"greatness\",\"delvolve\",\"feb.\",\"plexsus\",\"niece\",\"medumbfounded\",\"erm\",\"holistic\",\"medicine\",\"drs\",\"everthi\",\"plexus\",\"legacy\",\"it/\",\"predownloade\",\"x4\",\"blockbuster\",\"shove\",\"gobstoppers\",\"havnt\",\"injustice\",\"dissapoint\",\"spook\",\"creamsicles\",\"hatteras\",\"inert\",\"dress\",\"diversify\",\"bells\",\"forbidden\",\"diabetes\",\"decay\",\"42\",\"considerably\",\"james\",\"1:17\",\"stsrt\",\"stsye\",\"whoch\",\"t.v\",\"sup\",\"hiw\",\"1500$.\",\"furlough\",\"miraclously\",\"slighly\",\"tourism\",\"litter\",\"undercover\",\"inferno\",\"ports-\",\"prequel\",\"hd/4\",\"ww\",\"tp\",\"ss\",\"slant\",\"prediction-\",\"pikmin\",\"theirtrappe\",\"differentiy\",\"reframe\",\"trench\",\"conform\",\"chitchat\",\"vigilant\",\"^_^\",\"flex\",\"owe\",\"termination\",\"showing\",\"populate\",\"uptake\",\"www.findtap.com\",\"use-\",\"https://imgur.com/a/vb0n6ue\",\"luke\",\"pin\",\"aggressively\",\"texan\",\"nbaplayground\",\"http://imgur.com/a/8mskv\",\"goose\",\"wario\",\"fence\",\"overindulge\",\"pretzel\",\"cryptocurrency\",\"bretheren\",\"unleash\",\"righteous\",\"ascaso\",\"cortado\",\"macchiato\",\"denver\",\"colorado\",\"doubtful\",\"maiden\",\"cloud9\",\"seasonings\",\"wonderland\",\"applaud\",\"70,000\",\"12,000\",\"triumph\",\"themes\",\"coloured\",\"purchasable\",\"gane\",\"stave\",\"kettle-\",\"introduction\",\"18y'o\",\"carefully\",\"identification\",\"http://imgur.com/ifhstfz\",\"wrist\",\"y.\",\"win10\",\"ds2\",\"aficionado\",\"bust\",\"mr.\",\"expose\",\"nigh\",\"patiently\",\"grest\",\"unpatche\",\"burman\",\"hempworx\",\"hawk\",\"https://www.reddit.com/r/smallbusiness/comments/8uu8s5/help/\",\"scarlet\",\"tri\",\"404\",\"permission\",\"https://teatrotter.substack.com/welcome\",\"permit\",\"shout\",\"3:52\",\"5:14\",\"https://youtu.be/ymrbcxk9xu8?t=232\",\"goals\",\"avg\",\"overboard\",\"slumbersavant\",\"slumbersavants\",\"1440p/60fps\",\"dragons\",\"dogma\",\"skullgirls\",\"umvc3\",\"calibur\",\"30/60\",\"adress\",\"cited\",\"atrocity\",\"b.s.\",\"undergrad\",\"\\\\~30\",\"clickable\",\"https://imgur.com/gallery/owxruo8\",\"m.s.\",\"commodity\",\"taxonomy\",\"wheher\",\"http://www.reddit.com/r/tea/comments/1e2obf/amazing_tea_taxonomy/\",\"http://jameskennedymonash.wordpress.com/2013/02/13/how-i-brew-tea/\",\"n)indie\",\"supermario\",\"umpteenth\",\"issac\",\"snipperclip\",\"kirby\",\"lightly\",\"instruct\",\"salted\",\"lebukchen\",\"gingery\",\"overthinke\",\"polo\",\"poland\",\"freebie\",\"https://preview.redd.it/gwrisjahmg771.jpg?width=3648&format=pjpg&auto=webp&s=d1b644f027d037293d577eff74b8fcc90cdd9f78\",\"qc\",\"x3\",\"5v/3a\",\"daq7ew5d.\",\"9.00\",\"laggy\",\"4.naruto\",\"storm4\",\"fnaf\",\"banko\",\"fuafuate\",\"qualifie\",\"partial\",\"finished\",\"portland\",\"works\",\"8.62\",\"bigthank\",\"shaken\",\"obsidian\",\"creation\",\"occupation\",\"sith\",\"lightsaber\",\"compensation\",\"tjenword\",\"discussee\",\"a&w.\",\"repaclage\",\"cange\",\"doet\",\"de(definitive\",\"mmorpg\",\"mmorpgs\",\"borderland\",\"jarritos\",\"~~i'll\",\"advice.~~\",\"~~on\",\"wednesday\",\"258\",\"perseveration.~~\",\"results.~~\",\"~~this\",\"ether.~~\",\"themselves.~~\",\"~~wonderful\",\"it.~~\",\"mercedes\",\"fb80\",\"lm\",\"unbalanced\",\"1:5\",\"92c\",\"channeling\",\"bottomless\",\"dirt\",\"brushingbuddies\",\"2.69\",\"https://imgur.com/a/qghr6gm\",\"advent\",\"alkaline\",\"vapor\",\"distil\",\"12w\",\"5v\",\"2.4a\",\"anker\",\"discharge\",\"inconvenient\",\"resources\",\"emphasis\",\"https://www.teapotandtea.com/blog/\",\"https://terebess.hu/english/yixing1.html\",\"https://www.teachat.com/viewtopic.php?t=21881\",\"exchange+shippe\",\"weekday\",\"overdone\",\"vessel\",\"apparatus\",\"adjustable\",\"inquisition\",\"digit\",\"https://i.imgur.com/jsf66vp.png\",\"^(p.s.\",\"strix\",\"https://rog.gg/meta.r\",\"unveil\",\"1:00\",\"point'n'click\",\"scrolling\",\"enjoyed\",\"sorcerer\",\"syberia\",\"dictionary\",\"african\",\"dji\",\"marula\",\"refunds\",\"28th\",\"answers\",\"schooler\",\"junior\",\"dabble\",\"\\ud83e\\udd72\",\"67\",\"55,but\",\"03\",\"alpha\",\"deal/\",\"parent(s\",\"mlm/\",\"retirement\",\"submission\",\"askhistorians\",\"fertility\",\"http://www.reddit.com/r/askhistorians/comments/21ub8v/why_the_trade_of_spices_and_silk_was_so_important/cggn5\",\"nm\",\"rdr1\",\"vroomy\",\"120/144hrtz\",\"24/27\",\"pricy\",\"invalidate\",\"biweekly\",\"doe\",\"sake\",\"friendliness\",\"constructive\",\"asktea\",\"technivorm\",\"alternatively\",\"fort\\u00e9\",\"predefine\",\"fuzze\",\"daz\",\"bog\",\"http://store.dazbog.com/svoboda-blend--12-oz-bag.html\",\"festival\",\"mariage\",\"freres\",\"mine\",\"wood\",\"motorsport\",\"240\",\"wildwood\",\"strangely\",\"withhold\",\"rc\",\"slider\",\"diagonal\",\"mock\",\"c&d\",\"perfectaim\",\"provider\",\"https://perfectaim.io/cheats/destiny-2/\",\"furthermore\",\"cease\",\"desist\",\"justified\",\"inconvenience\",\"diameter\",\"height\",\"onoard\",\"dialog\",\"expertise\",\"hierarchy\",\"ladder\",\"expense\",\"details\",\"wastefull\",\"tom\",\"stripe\",\"nationally\",\"glucose\",\"populace\",\"onwards\",\"flop\",\"upstream\",\"bf2042\",\"shamble\",\"realistically\",\"stump\",\"knowingly\",\"billion\",\"worlds\",\"nonsense\",\"clich\\u00e9\",\"differentiate\",\"animated\",\"cartoon\",\"maya\",\"flairs\",\"organise\",\"streamer\",\"eth\",\"sixth\",\"rrod\",\"resub\",\"significance\",\"neverbrokenabone\",\"putty\",\"sided\",\"uncheck\",\"1140p\",\"bellame\",\"lacy\",\"thong\",\"victor\",\"victoria\",\"secretive\",\"chemicalish\",\"870\",\"epi\",\"seasure\",\"caffein\",\"loathing\",\"far(grante\",\"qol\",\"rifle\",\"explosion\",\"ut\",\"shp9500s\",\"fidelio\",\"x2s\",\"meetup\",\"favvvvooooorrrite\",\"nod\",\"repost\",\"atlanta\",\"shaving\",\"glorification\",\"trauma\",\"angst\",\"wreak\",\"havoc\",\"h&s\",\"feels\",\"tisane\",\"thrash\",\"clarity\",\"flutter\",\"sluggishness\",\"asuh\",\"bladder\",\"sistren\",\"profitec\",\"expobar\",\"brewtus\",\"1400\",\"e61\",\"grouphead\",\"disadvantage\",\"980s\",\"78\",\"~5\",\"9xx\",\"brews\",\"medicinally\",\"impeccable\",\"hesitation\",\"slippery\",\"unreasonable\",\"redact\",\"complacent\",\"dreaded\",\"i\\u2019ve\",\"xr\",\"narcolepsy\",\"attest\",\"caption\",\"stung\",\"fog-\",\"prescribed\",\"vyvanse\",\"orangey\",\"imperial\",\"guan\",\"yin\",\"anxi\",\"300ml\",\"masquerade\",\"s\\u2019more\",\"cheesecake\",\"aloe\",\"unaware\",\"grapevine\",\"2,000\",\"indebted\",\"contractor\",\"unbox\",\"align\",\"loosen\",\"tighten\",\"worrying\",\"magnitude\",\"kanro\",\"gyokuros\",\"retry\",\"submitting\",\"stable\",\"ghosts\",\"h2(n)o\",\"asd\",\"adhd\",\"squash\",\"sugary\",\"alllll\",\"lanayru\",\"calamity\",\"tropico\",\"allkeyshop\",\"http://www.allkeyshop.com/blog/compare-and-buy-cd-key-for-digital-download-tropico-4/\",\"recharge\",\"unwieldy\",\"buckell\",\"smirk\",\"https://preview.redd.it/xwzxarktjww61.jpg?width=1024&format=pjpg&auto=webp&s=54b98dff530cc18b79954572c69c70a67283c630\",\"connoiseur\",\"prepared\",\"chicago\",\"sh\",\"biology\",\"desert\",\"62\",\"cardboard\",\"10s\",\"+5\",\"liu\",\"bao\",\"nug\",\"budge\",\"concentrated\",\"colorbag\",\"yall\",\"bann\",\"acceptablenby\",\"sega\",\"valkyria\",\"mas\",\"^^^^^in\",\"^^^^^action\",\"oof\",\"104\",\"unblemish\",\"comprehension\",\"sufficient\",\"truce\",\"gr\",\"traffic\",\"77\",\"41\",\"firefox\",\"47\",\"pitchers\",\"slowpoursupply\",\"currency\",\"pickup\",\"hotstock\",\"stoked\",\"hashtagge\",\"lovethisprogram\",\"verbatim\",\"partnership\",\"ymca\",\"https://www.nytimes.com/2021/02/17/style/motivational-water-bottle.html?action=click&module=features&pgtype=homepage\",\"sugukcha\",\"hydrangea\",\"logical\",\"wither\",\"ferment\",\"tk\",\"jan\",\"destructive\",\"birthdate\",\"jt\",\"birth\",\"oct\",\"10/12\",\"route+upgrade\",\"http://www.gulikit.com/index.php?ac=article&at=read&did=199\",\"microphone\",\"gadget\",\"thie\",\"v60s\",\"4.0\",\"robot\",\"alike\",\"blueray\",\"sneeze\",\"indescribable\",\"shard\",\"nasal\",\"pasage\",\"lattissima\",\"waycap\",\"16th\",\"orphan\",\"3/8\",\"kevin\",\"https://preview.redd.it/eonyk1m4mqo51.jpg?width=748&format=pjpg&auto=webp&s=73ad6cec265fecf32b4825bf5dafda898ffb878d\",\"https://preview.redd.it/316n99l4mqo51.jpg?width=745&format=pjpg&auto=webp&s=4d99dfa23868feb586ce890aeae0f5186570dc13\",\"kbps\",\"thanksgiving\",\"flashy\",\"hypothetical\",\"taint\",\"sway\",\"sibling\",\"arena\",\"hitman\",\"withe\",\"rdr\",\"goya\",\"cough\",\"betsy\",\"experience\\\\opinion\",\"w\\\\these\",\"freshcoffeeroaster\",\"bolder\",\"fuller\",\"freshcoffeeroasters.com\",\"peru\",\"sol\",\"caf\",\"tarrazu\",\"frc\",\"transcription\",\"tutoring\",\"sewing\",\"alteration\",\"sitting\",\"divorced\",\"figher\",\"https://www.youtube.com/watch?v=7lh7pylwndi\",\"peaceful\",\"stardewand\",\"blocky\",\"vrr\",\"americas\",\"sa\",\"c-00000a01\",\"emblem\",\"houses\",\"fe\",\"coolaid\",\"jagged\",\"comicon\",\"bucharest\",\"urban\",\"strife\",\"ol\",\"physics\",\"https://steamcommunity.com/sharedfiles/filedetails/?id=772335854\",\"upgrades\",\"jrpgs\",\"reeeally\",\"reinvigorate\",\"https://www.reddit.com/r/megaten/comments/bituxf/shin_megami_tensei_is_the_dark_souls_of_dragon/?utm_medium=android_app&utm_source=share\",\"voo\",\"skittles\",\"undeniably\",\"complicate\",\"colorless\",\"focal\",\"edgy\",\"bloodbourne\",\"wolfenstein\",\"mordor\",\"mlb\",\"rivals\",\"sniper\",\"heyy\",\"designing\",\"https://dribbble.com/shots/11202391-fitness-neumorphism\",\"https://dribbble.com/shots/9527558-freebie-neumorphic-ux-ui-element\",\"https://dribbble.com/shots/10538859-freebie-neumorphic-skeuomorphic-light-elements-figma\",\"abrasive\",\"headlight\",\"https://preview.redd.it/1p9vno5sahs21.jpg?width=506&format=pjpg&auto=webp&s=a448dd117bd2de38f752d2211f88bbd19fae4729\",\"m/11\",\"f/13\",\"altho\",\"purchasing\",\"mx350\",\"jan-2019\",\"players\",\"genre(s\",\"publisher\",\"https://newsupermariobrosu.nintendo.com/\",\"pal\",\"hints\",\"gallery\",\"videos**\\u2014make\",\"164\",\"replayability\",\"mii\",\"reviews\",\"aggregators\",\"opencritic\",\"https://discord.gg/switch\",\"coursework\",\"conduct\",\"https://docs.google.com/forms/d/e/1faipqlsfv3meklsnkgdwk0q-gnhfwjniug7osz37xvpkfidb-8iztja/viewform?usp=sf_link\",\"buffalo\",\"bkf\",\"chrysanthemum\",\"buzzword\",\"chipset\",\"royales\",\"fantastically\",\"proximity\",\"planning\",\"dismemberment\",\"workin\",\"dente\",\"noodle\",\"creaminess\",\"captain\",\"falcon\",\"flesh\",\"bounty\",\"pills\",\"https://www.bepic.com/0/index.php?page=opportunity\",\"playlist\",\"reopen\",\"pcgamer\",\"helper\",\"syphon\",\"thw\",\"87w\",\"highschool\",\"2011\",\"knowing\",\"borrow\",\"buddys\",\"unhelpful\",\"rookie\",\"ancestry\",\"199\",\"110\",\"brilliant\",\"clicky\",\"dpad\",\"es2\",\"quieter\",\"re2\",\"glitche\",\"laughter\",\"reflection\",\"moaning\",\"jesusss\",\"bathtub\",\"curtain\",\"undisturbed\",\"tlou2\",\"hatred\",\"sadden\",\"appeals\",\"blending\",\"1970s\",\"purist\",\"https://teforia.com/blog/tea-blending-101\",\"donut\",\"midsection\",\"ridiculousness\",\"eta2\",\"illy\",\"itx\",\"sciences\",\"quintessential\",\"biosciences\",\"qhat\",\"v/1\",\"abyss\",\"bucket\",\"xenogears\",\"deadline\",\"scammed\",\"mo\",\"sociopath\",\"behavior\",\"ethic\",\"fraud\",\"eld\",\"abuse\",\"skinny\",\"2005\",\"0140\",\"reoccurre\",\"reformatte\",\"microsdxc\",\"uhs\",\"100mb\",\"u1\",\"a1\",\"sdsquar-200g\",\"gn6ma\",\"modem\",\"hunphone\",\"netnanny\",\"sinus\",\"terra\",\"representative\",\"freaking\",\"118\",\"seizure\",\"felt\",\"underlying\",\"shokata\",\"ambrosia\",\"overwhelm\",\"berlin\",\"akin\",\"ballpark\",\"commenter\",\"disturb\",\"unsettle\",\"unfulfilled\",\"depress\",\"heaven\",\"therapist\",\"parasail\",\"hyrule\",\"cunning\",\"paradise\",\"creature\",\"matsu\",\"junkie\",\"grimace\",\"dissatisfy\",\"americanos\",\"vivint\",\"modder\",\"cuphead\",\"legends(but\",\"bike\",\"foundation\",\"lbs\",\"1.37\",\"ahoy\",\"potcmeme\",\"https://preview.redd.it/hq1lueb7y7x41.jpg?width=999&format=pjpg&auto=webp&s=611eb1496255ca2cba454cb855003e24201380ef\",\"unusable\",\"veterinary\",\"homes\",\"gardens\",\"wax\",\"pseudoscience\",\"marinate\",\"pathogen\",\"consult\",\"eventful\",\"tragedy\",\"mlmrecovery\",\"sigh\",\"maternity\",\"premature\",\"nicu\",\"devastating\",\"pathetically\",\"grossness\",\"~~water\",\"lover~~\",\"stoke\",\"h2o.\",\"tangent\",\"dantes\",\"garbo\",\"slaying\",\"teambuilding\",\"fortress\",\"fella\",\"snakeoil\",\"inticreates\",\"zxa\",\"rye\",\"establishment\",\"yike\",\"63\",\"washtenaw\",\"county\",\"interconnected\",\"j)rpg\",\"upgrading\",\"dq\",\"ni\",\"kuni\",\"sleuth\",\"1.50\",\"construct\",\"crux\",\"1v1\",\"cheetah\",\"jaguar\",\"dagger\",\"freestyle\",\"cupping\",\"boozy\",\"diesel\",\"considerable\",\"mucilage\",\"https://www.cacaoteaco.com/\",\"yard\",\"inattention\",\"mower\",\"mow\",\"graduate\",\"academically\",\"resonate\",\"conundrum\",\"rewinde\",\"rip\",\"shuck\",\"kindly\",\"76\",\"b.e.t.a.\",\"aunty_fascist\",\"fancyvelociraptor\",\"roide\",\"upgradeable\",\"ps4/\",\"dusty\",\"sweep\",\"shed\",\"fierce\",\"singe\",\"confess\",\"apparebtly\",\"inaccessible\",\"12:00\",\"gmt\",\"12.79\",\"ceremony\",\"reflux\",\"gongu\",\"feb\",\"neighbourhood\",\"2/16/2021\",\"primetime\",\"args\",\"postcard\",\"shere\",\"chipotle\",\"12pk\",\"nevermissamoment\",\"hurtful\",\"highlights\",\"krocal\",\"https://youtu.be/lgxjxe9zd74\",\"crypto\",\"forex\",\"incomplete\",\"regress\",\"amnesia\",\"bgae\",\"scour\",\"dreamfall\",\"longest\",\"paradox\",\"coached\",\"vocabulary\",\"ingenuitea\",\"enjoyingtea.com\",\"defective\",\"gow\",\"https://preview.redd.it/k5szvq4i11981.jpg?width=508&format=pjpg&auto=webp&s=810744fb562096090786d1bb49b4353d03ce44f8\",\"http://imgur.com/a/jbkln\",\"https://www.reddit.com/r/pcgaming/comments/2agz8f/2012_vs_2013_vs_2014_xpost_rsteam/\",\"ethical\",\"pledge\",\"rescue\",\"allergen\",\"environmentally\",\"dispose\",\"reckon\",\"amused\",\"anitmlm\",\"https://imgur.com/gallery/irkh4ok\",\"b.over\",\"cannibalize\",\"equality\",\"splurge\",\"replayable\",\"192\",\"soooooo\",\"monday)and\",\"aren't\",\"pilot\",\"jobseeker\",\"appointment-\",\"gastric\",\"resubmit\",\"optavia\",\"flabbergast\",\"detroit\",\"imagination\",\"2007\",\"unibrew\",\"greenland\",\"diagonally\",\"widespread\",\"pur\",\"aqua\",\"windowsphone\",\"amiix\",\"platinums\",\"arbitrarily\",\"playback\",\"7/9\",\"gamestops\",\"rung\",\"grinders\",\"int'l\",\"geelong\",\"schmoozing\",\"boozing\",\"soley\",\"plush\",\"pillow\",\"shaped\",\"literal\",\"repertoire\",\"frenchpress\",\"coldbrew\",\"dock(g\",\"nx(now\",\"it\\u00b4s\",\"upscale\",\"society\",\"34\",\"gang\",\"armored\",\"all\",\"visa\",\"incentivized\",\"incentivize\",\"credibility\",\"nearsighte\",\"mileage\",\"ample\",\"particle\",\"alienware\",\"recieve\",\"tcl\",\"55r646\",\"@120hz\",\"cans\",\"0.5\",\"scarcity\",\"canning\",\"2k20\",\"acccount\",\"anna\",\"kendrick\",\"acacia\",\"sublime\",\"desserty\",\"attached\",\"tis\",\"drawing\",\"7:30pm\",\"cst\",\"12/13/19\",\"https://imgur.com/a/fzcb2kx\",\"bright_light7\",\"gruvitron\",\"xbox.com\",\"mush\",\"pity\",\"sage\",\"bambino\",\"ap\",\"lieu\",\"reheat\",\"wasteful\",\"brainer\",\"pixelate\",\"cozy\",\"drought\",\"malabsorption\",\"month+\",\"100%e\",\"gear][question\",\"absoloutly\",\"kcup\",\"dq11\",\"bancha\",\"benifit\",\"wolf\",\"origins\",\"deciding\",\"overdose\",\"yogurt\",\"sizable\",\"banana\",\"bread\",\"sweat\",\"nauseate\",\"intentionally\",\"boiled\",\"bought\",\"came\",\"accountability\",\"https://preview.redd.it/9ojungvv2c951.jpg?width=1276&format=pjpg&auto=webp&s=738c5be2ae8966f818e9179491e3d921bc44c83f\",\"enthusiastic\",\"discouraged\",\"devious\",\"patronize\",\"mislead\",\"cal\",\"8bitdo\",\"sn30\",\"pro+\",\"lava\",\"outdoor\",\"disgusted\",\"commitment\",\"tent\",\"doterriblebusiness\",\"confidence\",\"athletic\",\"sustainability\",\"ethics\",\"ethically\",\"mesh\",\"somepoint\",\"spear\",\"insulated\",\"determined\",\"impact\",\"mailer\",\"qr\",\"https://preview.redd.it/vac8qr7916581.jpg?width=275&format=pjpg&auto=webp&s=54d4ecd70032261c8158e905fc6ac6f468bf34b0\",\"https://preview.redd.it/z3leys7916581.jpg?width=275&format=pjpg&auto=webp&s=b8fe83fbcfb42180632c97ae366595dfdfa64068\",\"dandelions\",\"bane\",\"suburban\",\"landscaper\",\"preparation\",\"uproot\",\"taproot\",\"preheat\",\"fahrenheit\",\"brittle\",\"longer.(\\\"you\",\"autumn\",\"faux\",\"chicory\",\"roof\",\"youtubers\",\"enlighten\",\"sauce\",\"compromise\",\"wit\",\"replicate\",\"ahhhhh\",\"lmao\",\"goty\",\"spotify\",\"one/\",\"consumption\",\"exclude\",\"axi\",\"1903\",\"https://i.imgur.com/ziwmkey.png\",\"witcherbat\",\"jaykresge\",\"override\",\"https://www.anandtech.com/show/10312/microsoft-adds-vsync-control-and-adaptive-framerate-support-to-the-universal-windows-platform\",\"https://www.playstation.com/en-us/games/pt-ps4/\",\"disconnected\",\"dnla\",\"spammy\",\"agadio\",\"tao\",\"admire\",\"reddit15\",\"www.theteaspot.com\",\"carpet\",\"viii\",\"enjoyability\",\"omori\",\"ikenfell\",\"ditto\",\"turnip\",\"evasion\",\"pikuniku\",\"submittion\",\"46\",\"refined\",\"strainer\",\"pa\",\"https://www.papowerswitch.com/\",\"mgs5\",\"metalgearsolidv_pc/.\",\"metalgearsolid\",\"cater\",\"diehard\",\"wooden\",\"cigar\",\"rington\",\"ouch\",\"barry\",\"fianc\\u00e9\",\"closing\",\"wobbly\",\"me-\",\"joker\",\"georgia\",\"medroid\",\"fifth\",\"uninitiated\",\"switchs\",\"zeldas\",\"windwaker\",\"rebirth\",\"directional\",\"peachette\",\"relegate\",\"aback\",\"overreact\",\"lido2\",\"drown\",\"seattle\",\"7mo\",\"25th\",\"sippy\",\"poo\",\"tripleshot-\",\"224mlg\",\"advancement\",\"nicotine\",\"edis\",\"perth\",\"https://preview.redd.it/pikesdli5ky11.jpg?width=1920&format=pjpg&auto=webp&s=403ed90fb11839322ccd967632dcdaf9cd202261\",\"mashup\",\"9.99\",\"7.69\",\"au\",\"videos\",\"scenes\",\"1995\",\"nickelodeon\",\"mtv\",\"lenny\",\"loosejocks\",\"ezonecom\",\"jk\",\"accusation\",\"https://www.reddit.com/r/circleoftrust/comments/89vuos/attila_the_hunbot/?st=jflxi9kz&sh=9d26e54a\",\"foretaste\",\"carbonic\",\"pleasingly\",\"rum\",\"eww\",\"norm\",\"scoff\",\"evian\",\"precise\",\"http://imgur.com/sjc4qva\",\"37\",\"simplex\",\"http://imgur.com/a/xduiy\",\"ingest\",\"though.https://imgur.com/a/gvjjbys/\",\"pinnacle\",\"snowboard\",\"chivalrous\",\"modhau\",\"br\",\"economy\",\"zeroes\",\"sentence\",\"+1\",\"uncharte\",\"idea)l\",\"blunt)what\",\"2012/13\",\"hijacked\",\"hahaaha\",\"11/12\",\"\\ud83d\\ude4c\",\"aquafina\",\"granule\",\"sis\",\"beneficial\",\"dc\",\"villain\",\"pomegranite\",\"pelegrino\",\"https://youtu.be/ciylrbtahju\",\"https://store.steampowered.com/app/1547540/they_are_here/\",\"unexplained\",\"7th\",\"breakneck\",\"cornfield\",\"vanish\",\"behaviour\",\"observe\",\"peter\",\"deception\",\"oneself\",\"sensation\",\"journalist\",\"taylor\",\"pixelated\",\"ddr2\",\"550ti\",\"umami\",\"rodan+fields\",\"consultants\",\"steps\",\"klecan\",\"kanteen\",\"5820k\",\"xg270hu\",\"550\",\"tracking\",\"9th\",\"uptick\",\"subnatica\",\"actuality\",\"radar\",\"stikbold\",\"parchments\",\"nidhogg\",\"nitro\",\"towerfall\",\"pode\",\"duck\",\"monopoly\",\"overcook\",\"morta\",\"lichtspeer\",\"speer\",\"cannoli\",\"chicken\",\"wizard\",\"littlebigplanet\",\"disorder\",\"understatement\",\"vent\",\"poisoning\",\"drowsy\",\"activity\",\"compensate\",\"replenish\",\"events\",\"oversee\",\"90days\",\"broker\",\"401k\",\"freelance\",\"verte\",\"fixin\",\"lifelong\",\"fidelity\",\"blurriness\",\"n.verted\",\"experimental\",\"goofy\",\"zany\",\"oftentime\",\"smoothen\",\"warriors\",\"orochi\",\"nah\",\"bout\",\"dear\",\"gamedevs\",\"anemic\",\"cast\",\"siren\",\"spew\",\"amaze\",\"phaselocke\",\"npc\",\"takeshi\",\"wipeout\",\"receipt\",\"kanomi\",\"aspiration\",\"neutral\",\"chatter\",\"regime\",\"breakout\",\"visibly\",\"repulse\",\"contradict\",\"friendship\",\"sucker\",\"grasp\",\"meditation\",\"tea(s\",\"pai\",\"tan\",\"fluddless\",\"nozzle\",\"descent\",\"miserably\",\"flipping\",\"spamme\",\"shoulder\",\"aiming\",\"straightaway\",\"execution\",\"whoooooo\",\"m+b\",\"cronicle\",\"thay\",\"horrify\",\"fok\",\"nutraceutical\",\"bff\",\"groomer\",\"scalp\",\"itchy\",\"attracted\",\"haircare\",\"obsolete\",\"750\",\"670\",\"theranos\",\"mural\",\"headquarters\",\"utah\",\"strict\",\"fraudulent\",\"https://www.forbes.com/sites/katevinton/2016/06/01/billion-dollar-brand-proactiv-rodan-fields/#c9d9a8b3bfe3\",\"consoles\",\"unsolved\",\"compile\",\"digi\",\"thermal\",\"truthful\",\"hq\",\"insistent\",\"9:30\",\"http://www.bestbuy.com/site/sony-dualshock-4-controller-charging-station-for-playstation-4-black/9715101.p?id=1219431371359&skuid=9715101\",\"sh*t\",\"cables\",\"shopper\",\"going\",\"removable\",\"w/4\",\"charlie\",\"4k.\",\"maximise\",\"vouche\",\"2008\",\"alter\",\"liability\",\"yas\",\"dorm\",\"foreign\",\"thinkin\",\"stonk\",\"hmmmm\",\"imarketslive\",\"woo\",\"subrebbit\",\"revival\",\"twinings\",\"revive\",\"bigelow\",\"zhena\",\"flavored\",\"hearty\",\"sniff\",\"stench\",\"campfire\",\"charisma\",\"quicksand\",\"jumbled\",\"throughly\",\"hotkey\",\"poe\",\"forge\",\"voxel\",\"girlfriende\",\"laundry\",\"basketball\",\"congratulate\",\"idolize\",\"attainable\",\"burnout\",\"measurement\",\"resold\",\"https://store.steampowered.com/app/382890/final_fantasy_v_old_ver/\",\"https://store.steampowered.com/app/382900/final_fantasy_vi_old_ver/\",\"controllers\",\"h5\",\"ocean\",\"lb\",\"2ish\",\"exhausting\",\"helped\",\"solidify\",\"belief\",\"down\",\"devoid\",\"adore\",\"dialogue\",\"wordplay\",\"mesmerize\",\"freezing\",\"flummox\",\"charming\",\"absorbing\",\"sophisticated\",\"conceptually\",\"clicker\",\"wright\",\"interactivity\",\"facilitate\",\"contemporary\",\"intoxicating\",\"beige\",\"enigmatic\",\"dexterity\",\"acquisition\",\"lively\",\"canned\",\"recyclable\",\"1/12\",\"superbowl\",\"a.m.\",\"pm'd\",\"apocalyptic\",\"supernatural\",\"being\",\"drone\",\"roadmap\",\"propriety\",\"elgato\",\"teeth\",\"rgb\",\"pb\",\"cb\",\"allows\",\"daylight\",\"noon\",\"rays\",\"receiver\",\"questionnaire\",\"https://www.lifestraw.com/collections/daily-use/products/lifestraw-go\",\"chem\",\"100gal\",\"efficiency\",\"vouch\",\"lake\",\"chelan\",\"wa\",\"hydrating\",\"nba2k19\",\"v.1.02\",\"v1.02\",\"mycareer\",\"12mins\",\"nov.\",\"navy\",\"jingle\",\"gorgeous\",\"\\ud83d\\ude43\",\"fly\",\"shootout\",\"matrix\",\"o.o\",\"https://twitter.com/galyonkin/status/1083807010964025346\",\"tangy\",\"50g-70g-60g-60g-60\",\"70g-50g-60g-60g-60\",\"3ww\",\"scenic\",\"saboteur\",\"ww2\",\"church\",\"allocate\",\"appreicate\",\"migration\",\"motto\",\"tattoo\",\"saying\",\"taxation\",\"delive\",\"northern\",\"heyo\",\"montclair\",\"nearest\",\"staten\",\"ovarian\",\"pcos\",\"upsetting\",\"rogaine\",\"demential\",\"ontario\",\"workforce\",\"https://www.businessinsider.com/rodan-fields-layoffs-corporate-employees-2019-12?fbclid=iwar1mc_dus0ao07w8rfedrc2q9wwz7c92rqxfug7n3d0loai3fuvkrxxnpvq\",\"h'aanith\",\"haanith\",\"ohtpctoa\",\"dog22222\",\"collaborate\",\"unity\",\"drunkenly\",\"brainstorm\",\"execute\",\"iteration\",\"hum\",\"kunming\",\"lamu\",\"2dog\",\"genius\",\"printing\",\"warmth\",\"likeminde\",\"mfs\",\"teaexchange\",\"http://www.reddit.com/r/teaexchange/comments/1eb8fs/official_tea_exchange_box_uscanada/\",\"discredit\",\"ostensibly\",\"horrified\",\"answering\",\"800flower\",\"alienate\",\"brow\",\"littler\",\"lao\",\"styrofoam\",\"zojirushi\",\"limescale\",\"it-\",\"http://justanotherteablog.blogspot.com/2015/03/white-2-teas-lao-cha-tou-first-try.html\",\"duster\",\"sarah\",\"smear\",\"lipsense\",\"gloss\",\"contrived\",\"scammy\",\"irc\",\"mt.\",\"sangrita\",\"drawer\",\"intoxication\",\"seminar\",\"rainstorm\",\"sandwich\",\"deck\",\"declare\",\"100,000\",\"equip\",\"multipurpose\",\"looooove\",\"fx\",\"5200\",\"9700\",\"6800\",\"x1950\",\"9800\",\"6850\",\"tartness\",\"https://www.reddit.com/r/hydrohomies/comments/ctegnt/update_i_will_donate_10_cents_for_every_upvote/?utm_source=share&utm_medium=ios_app\",\"karmawhore\",\"loljkcuzurgay\",\"miscalculate\",\"5k\",\"4am\",\"donation\",\"stickied\",\"8:00\",\"serum\",\"sheesh\",\"rubber\",\"rubbery\",\"chemical\",\"maria\",\"unroasted\",\"roasted-\",\"g5s3w\",\"xn1\",\"http://www.newegg.com/product/product.aspx?item=n82e16834230027\",\"treats\",\"softmod\",\"wiser\",\"probe\",\"exclaim\",\"priceless\",\"ap24\",\"nagging\",\"undesirable\",\"c++\",\"x64\",\"redistributable\",\"https://imgur.com/a/uibtucp\",\"popup\",\"registry\",\"boylan\",\"akira\",\"encha\",\"physiological\",\"usucha\",\"courtesy\",\"sazen\",\"wako\",\"kan\",\"shiro\",\"mukashi\",\"budgetary\",\"carbonation\",\"s|x\",\"topo\",\"chico\",\"xposted\",\"lulano\",\"anon\",\"happened\",\"http://links.lularoefail.com/ftcregs\",\"http://links.lularoefail.com/illegalcredit\",\"https://preview.redd.it/qmy6a8j1gox11.png?width=750&format=png&auto=webp&s=d5b669963e8124c7a984aa18dffc3d29a499136d\",\"https://preview.redd.it/t973y9j1gox11.png?width=750&format=png&auto=webp&s=2bbce9a7251e19626711655e7ca8153fc68731b1\",\"https://preview.redd.it/hbhgiaj1gox11.png?width=750&format=png&auto=webp&s=3815aec47e93c299d2e302107b076ec8f7e99c08\",\"lighthearte\",\"ooblets\",\"tamagotchi\",\"pallet\",\"starve\",\"transistor\",\"grid\",\"offset\",\"foolish\",\"ingocnita\",\"https://gaming.youtube.com/watch?v=2p5on8hvfdc\",\"uh\",\"mins-3\",\"unreadable\",\"theta\",\"schweppes\",\"mojito\",\"tonic\",\"windows10\",\"accessories\",\"vjoy\",\"https://preview.redd.it/g8r4ufmsm3661.png?width=640&format=png&auto=webp&s=90d3f3d4ec5879eac34c69ba0b6617344e7646e6\",\"pointer\",\"bend\",\"bone\",\"nero\",\"ffx|x-2\",\"ffx-2\",\"https://store.eu.square-enix-games.com/en_eu/product/526762/final-fantasy-xx-2-hd-remaster-nintendo-switch#/fea\",\"playasia\",\"de_dust\",\"alamein\",\"neutrally\",\"distinguishable\",\"siege\",\"20th\",\"23rd\",\"barony\",\"26th\",\"borderzone\",\"full\",\"-sorry\",\"2618\",\"0521\",\"traversal\",\"arris\",\"tg1662\",\"dmz\",\"rogue\",\"https://www.humblebundle.com/star-war\",\"drank\",\"swig\",\"query\",\"solicit\",\"invariably\",\"revolve\",\"rebuy\",\"threading\",\"equation\",\"ibm\",\"narrating\",\"narrator\",\"-tame\",\"mi\",\"-coffee\",\"creeme\",\"roobio\",\"-tummy\",\"-market\",\"-pure\",\"-smokey\",\"fortnum\",\"-jasmine\",\"composed\",\"lumi\",\"spa\",\"vaccine\",\"breastfeed\",\"accomodation\",\"nw-31291\",\"correct.(nw-31291\",\"capabilities\",\"division\",\"uncompressed\",\"thedivision\",\"uncompress\",\"http://abload.de/img/thedivision_2016_01_2grqvo.png\",\"http://abload.de/img/thedivision_2016_01_2azrac.png\",\"http://abload.de/img/thedivision_2016_01_2lcr1z.png\",\"http://abload.de/img/thedivision_2016_01_219s1l.png\",\"http://abload.de/img/thedivision_2016_01_22estz.png\",\"http://abload.de/img/thedivision_2016_01_2aksp7.png\",\"http://abload.de/img/thedivision_2016_01_2bnr2l.png\",\"http://abload.de/img/thedivision_2016_01_2gwshx.png\",\"http://abload.de/img/thedivision_2016_01_2hcs11.png\",\"http://abload.de/img/thedivision_2016_01_2h2qm5.png\",\"http://abload.de/img/thedivision_2016_01_2tds6i.png\",\"http://abload.de/img/thedivision_2016_01_2bqs78.png\",\"http://abload.de/img/thedivision_2016_01_26gsd5.png\",\"http://abload.de/img/thedivision_2016_01_255pck.png\",\"http://abload.de/img/thedivision_2016_01_254s10.png\",\"http://abload.de/img/thedivision_2016_01_2y8sps.png\",\"http://abload.de/img/thedivision_2016_01_24qsl7.png\",\"http://abload.de/img/thedivision_2016_01_2k1shv.png\",\"http://abload.de/img/thedivision_2016_01_24vr2j.png\",\"http://abload.de/img/thedivision_2016_01_2hep7k.png\",\"http://abload.de/img/thedivision_2016_01_2qkqrp.png\",\"http://abload.de/img/thedivision_2016_01_2q1r0y.png\",\"http://abload.de/img/thedivision_2016_01_2mgrbz.png\",\"metacarpal\",\"handed\",\"dire\",\"diabetic\",\"https://www.rootbeer.com/products/aw-diet-cream-soda\",\"2l/64\",\"tolerance\",\"liters/64\",\"delfino\",\"plaza\",\"bianco\",\"hills\",\"ricco\",\"gelato\",\"pinna\",\"casino\",\"noki\",\"pianta\",\"widow\",\"coruption\",\"restore\",\"licences\",\"trying\",\"restriction\",\"manu\",\"liqyidsky\",\"egpu\",\"enclosure\",\"pubg\",\"overkill\",\"refurb\",\"~$450\",\"p.m.\",\"xbo\",\"advocate\",\"karmawhoring\",\"merit\",\"asymmetric\",\"technologically\",\"splitscreen\",\"functionally\",\"/mouse\",\"useable\",\"cezve\",\"yugoslavian\",\"bosanska\",\"kava\\\"/bosnian\",\"https://imgur.com/a/3nvkacc\",\"naranja\",\"spain\",\"craving\",\"exorbitant\",\":o\",\"b&n\",\"founder\",\"vomit\",\"brave\",\"introvert\",\"partly\",\"introverted\",\"teaming\",\"ya'll\",\"ign\",\"dodge\",\"yanno\",\"22.110.b\",\"22.110\",\"it's\",\"dc'd\",\"4hr\",\"thieves\",\"tiktok\",\"awe\",\"greens\",\"bogo\",\"weirde\",\"2!it\",\"thursday\",\"21st\",\"https://www.nintendo.com/games/detail/q-u-b-e-2-switch\",\"https://superraregames.com/\",\"harry\",\"corr\",\"savery\",\"benni\",\"adam\",\"rocha\",\"investigation\",\"rebrand\",\"neways\",\"superstar\",\"water-\",\"porto\",\"rico\",\"importing\",\"flowery\",\"bill\",\"spire\",\"xbox360\",\"downspeed\",\"defunct\",\"bloodstained\",\"dungeons\",\"matchmaking\",\"matchmake\",\"50252\",\"mw1\",\"beat'em\",\"seamlessly\",\"baddie\",\"someplace\",\"monotony\",\"selectively\",\"reviewer\",\"portia\",\"aromatic\",\"dissipate\",\"stimulating\",\"fresher\",\"ziplock\",\"neophyte\",\"205\",\"ehr\",\"https://preview.redd.it/alaozk3ktg741.jpg?width=3024&format=pjpg&auto=webp&s=9b81a963c7eea3a9303ff28f004a46984e29685f\",\"wfg\",\"since\",\"sc\",\"20,000\",\"pellegrino\",\"perrier\",\"iso\",\"cheapish\",\"hehe\",\"2:53\",\"isagenix\",\"milestone\",\"meditative\",\"widen\",\"scope\",\"ninja\",\"madcatz\",\"emulation\",\"saints\",\"culprit\",\"inhibit\",\"ash\",\"odor\",\"jingdezhen\",\"fu#c\",\"killsone\",\"gg\",\"walled\",\"deliciousness\",\"gmo'd\",\"aeropress'd\",\"porting\",\"xenonblade\",\"twilight\",\"princess\",\"sideways\",\"profclub\",\"gamemode\",\"collagens\",\"unrealistic\",\"tamarind\",\"jarrito\",\"mandarin\",\"potato\",\"http://imgur.com/a/crhvu\",\"kinum47\",\"helor101\",\"comadantec40\",\"mk1\",\"mk3\",\"formally\",\"urinalysis\",\"unusually\",\"conclusion\",\"exam\",\"http://imgur.com/a/pqgkl3z\",\"ecocha\",\"pakola\",\"inca\",\"kola\",\"stressfree\",\"mhgenu\",\"unwind\",\"99.9\",\"cities\",\"women\",\"unseen\",\"bottom\",\"tacky\",\"relentlessly\",\"vain\",\"flatter\",\"wealthy\",\"wwyd\",\"mount\",\"watering\",\"modification\",\"inspire\",\"genious\",\"outdoors\",\"whirl\",\"boji\",\"kelloo\",\"kochere\",\"makati\",\"contrast\",\"underneath\",\"submautica\",\"disscussion\",\"4700mq\",\"1600mhz\",\"plextor\",\"px-256m5\",\"256\",\"msata\",\"6gb\",\"8mbps\",\"2sv\",\"shy\",\"laughable\",\"nauseam\",\"angel\",\"punishment\",\"^(price\",\"salon\",\"dilmah\",\"ahmad\",\"mumtaz\",\"teakruthi\",\"portugal\",\"6:30\",\"cheerier\",\"vulkan\",\"kudo\",\"viable\",\"75hz\",\"accuracy\",\"dualshock\",\"4s\",\"eso\",\"comeback\",\"stab\",\"peaberry\",\"oculus\",\"4.5\",\"absurdly\",\"augment\",\"armoury\",\"~12\",\"panick\",\"desire\",\"aeropresse\",\"100mg\",\":-p\",\"disposable\",\"abundance\",\"comprehensive\",\"steepster\",\"healthfood\",\"ust\",\"amateur\",\"connoisseur\",\"alton\",\"metropolitan\",\"enhancement\",\"lessen\",\"possess\",\"synergistically\",\"spillane\",\"scientific\",\"threshold\",\"eyeball\",\"unscientific\",\"calculation\",\"badly\",\"altered\",\"carriage\",\"gardening\",\"r\\u00f4le\",\"bankrupt\",\"nonetheless\",\"positively\",\"dermatologist\",\"proactiv\",\"routinely\",\"negligible\",\"unknowingly\",\"sinister\",\"nw-31281\",\"cr*p\",\"messsenger\",\"stalk\",\"respectable\",\"sideline\",\"know-\",\"counterpoint\",\"cigarette\",\"1s\",\"terminate\",\"screwdriver\",\"hibernation\",\"aces(2018\",\"softener\",\"individuals\",\"peddling\",\"numbers\",\"https://preview.redd.it/jsxgmsncubd61.png?width=491&format=png&auto=webp&s=743fe30a7f2dbb25b682e928282df351007a983f\",\"https://preview.redd.it/bza6kekjubd61.png?width=485&format=png&auto=webp&s=d227df26ab65efe8ce58a77ab685b503a0e0ffcd\",\"tire\",\"f'in\",\"makerid\",\"preorders\",\"hasty\",\"messenger\",\"https://www.reddit.com/r/gamestop/comments/5nsjg8/zelda_botw_master_edition_sku_is_fake_in_all_gs/\",\"gawain\",\"dang\",\"qbvh\",\"xxnb\",\"ganp\",\"heje\",\"https://mynintendonews.com/2017/01/17/rumour-rockstars-l-a-noire-may-be-heading-to-nintendo-switch/\",\"499\",\"648\",\"aud\",\"749\",\"uncensored\",\"intrest\",\"295\",\"210\",\"nh\",\"anonymous\",\"https://monsterhunter.fr/2019/03/31/monster-hunter-victory-portable-v-fuite-sur-nintendo-switch/\",\"vest'an\",\"inculde\",\"harpoon\",\"underwater\",\"tigrex\",\"magala\",\"ultrahd\",\"oxidize\",\"hong\",\"pao\",\"woody\",\"backseat\",\"mellow\",\"longtime\",\"realllllllly\",\"conventionally\",\"conscious\",\"mkl\",\"-mary\",\"pardon\",\"ffense\",\"ff15\",\"dollars(gamestop\",\"new(subject\",\"opnion\",\"yankee\",\"finding\",\"ne\",\"bb&b\",\"earp\",\"lockdown\",\"aer\",\"bookmark\",\"baristas\",\"capp\",\"glossy\",\"velvety\",\"https://www.getonthegel.com/\",\"digging\",\"10m\",\"byte\",\"prequelmeme\",\"https://preview.redd.it/41e2ozyh7a931.png?width=799&format=png&auto=webp&s=95a0f0e5c9abb145e584cb1018f0e444aea1460e\",\"nerf\",\"drate\",\"ce-41839\",\"frustrate\",\"unfamiliar\",\"duds\",\"bourbon\",\"bernadina\",\"bonuses\",\"purchaser\",\"pos\",\"50k+\",\"skewed\",\"beep\",\"c2\",\"jx\",\"blunt\",\"game(s\",\"shattered\",\"dimensions\",\"transformers\",\"cybertron\",\"lollipop\",\"chainsaw\",\"teen\",\"navigate\",\"trader\",\"12oz/350ml\",\"45ml\",\"moisten\",\"undrinkable\",\"isp\",\"verizon\",\"fios\",\"75mbps\",\"fluctuate\",\"brit\",\"twinnings\",\"roobios\",\"soliciting\",\"irony\",\"\\ud83d\\ude09\",\"4k60fps\",\"gems\",\"underappreciated\",\"cappucino\",\"blonde\",\"duo\",\"dairy\",\"prouder\",\"yknow\",\"linrary\",\"11.99\",\"evem\",\"185\",\"22g/350\",\"realign\",\"verdant\",\"cleaver\",\"palatable\",\"bv1901gw\",\"~16\",\"soapy\",\"don\\u2019ts\",\"educating\",\"behalf\",\"trashy\",\"checkout\",\"luxury\",\"furniture\",\"manipulate\",\"innocent\",\"loving\",\"inflict\",\"pee\\u2019d\",\"plantronic\",\"becasue\",\"inbuilt\",\"10hour\",\"tragic\",\"inability\",\"overarch\",\"controllable\",\"ft\",\"corporation\",\"obsessive\",\"negatively\",\"extensive\",\"~$12.27\",\"immediatlly\",\"mono\",\"upstairs\",\"downstairs\",\"re4\",\"dongle\",\"doenst\",\"bluedooth\",\"acc\",\"1000kbps\",\"dns\",\"ob\",\"waiter\",\"wellness\",\"popcorn\",\"ultrafine\",\"preperation\",\"lifespan\",\"49\",\"nanocell\",\"scams\",\"anecdote\",\"benton\",\"https://imgur.com/z47onux\",\"counterculture\",\"s&w.\",\"2lbs\",\"1.5lbs\",\"refrigerate\",\"minutes-5\",\"repower\",\"s.t.a.l.k.e.r.\",\"stalker\",\"pebo\",\"8cup\",\"brew(about\",\"990\",\"https://www.youtube.com/watch?v=j-cure2499w\",\"teamwork\",\"cooperation\",\"smudge\",\"horde\",\"relic\",\"gunpowder\",\"cannon\",\"defeat\",\"directx\",\"monie\",\"prudent\",\"foil?-like\",\"tightly\",\"degrade\",\"reload\",\"triology\",\"posible\",\"vicarious\",\"visions\",\"regulator\",\"merger\",\"peet\",\"smokier\",\"steamfriend\",\"hose\",\"tub\",\"keygen\",\"conscience\",\"authenticate\",\"gore(and\",\"sickness\",\"yonder\",\"professor\",\"layton\",\"attorney\",\"lego(my\",\"indiana\",\"horizons\",\"kiki\",\"chanel\",\"sweating\",\"stamina\",\"dicide\",\"bloat\",\"2liters\",\"puffy\",\"urinate\",\"keg\",\"rarity\",\"laudato\",\"si\",\"encyclical\",\"francis\",\"muddle\",\"plugin\",\"circuit\",\"120w\",\"1200\",\"unwell\",\"taster\",\"championship\",\"soundcard\",\"breathe\",\"amyway\",\"stampin\",\"distributer\",\"su\",\"spouse\",\"longaburger\",\"tempting\",\"menghai\",\"toucha\",\"mcnultys\",\"descriptive\",\"soil\",\"6.3\",\"floodgate\",\"breathtake\",\"2l.\",\"mum\",\"thrift\",\"girly\",\"populated\",\"3000\",\"fistofwolf\",\"apprehensive\",\"fe3h\",\"silence\",\"workaround\",\"foolishness\",\"ignorance\",\"resign\",\"pcsx4\",\"orbital\",\"jailbreaking\",\"locked\",\"revoke\",\"solace\",\"kh3\",\"mill\",\"tpp\",\"scandinavia\",\"eager\",\"kart8\",\"voucher\",\"oddyssey\",\"tynemouth\",\"alcaf\\u00e9\",\"ouseburn\",\"oily\",\"garry\",\"\\ud83e\\udd73\",\"persist\",\"stocking\",\"loooong\",\"59\",\"endanger\",\"specie\",\"o_o\",\"heater\",\"el-4000\",\"http://amzn.com/b01mg5ken3\",\"java\",\"http://amzn.com/b01mr8ce6i\",\"terrify\",\"foam\",\"spoon\",\"froth\",\"feast\",\"http://ibb.co/h154sp\",\"pepsis\",\"experation\",\"bottlecapcollecte\",\"running\",\"saeco\",\"urnex\",\"dezcal\",\"elect\",\"retain\",\"devotion\",\"reel\",\"redownload\",\"5-$7\",\"brands\",\"rightfully\",\"cypriot\",\"arabian\",\"lucozade\",\"earphone\",\"shops\",\"hood\",\"sensory\",\"mio\",\"camelback\",\"squirt\",\"tampa\",\"hotline\",\"boyfiend\",\"slimy\",\"anteaque\",\"downtown\",\"exhaust\",\"koreans\",\"ink\",\"fascinating\",\"iroh\",\"potter\",\"https://imgur.com/a/uaggjpj\",\"boarding\",\"greys\",\"daresay\",\"supreme\",\"p's4\",\"r.d.s.\",\"revision\",\"inside(which\",\"calendars\",\"niece-\",\"acknowledge\",\"anyway-\",\"pelvic\",\"remaining\",\"tbsp\",\"ttbsp\",\"whiff\",\"hx\",\"boiler\",\"adequate\",\"calcium\",\"3mg\",\"mg++\",\"0,7mg\",\"tubing\",\"pitting\",\"hardness\",\"composition\",\"recommand\",\"copious\",\"scandalous\",\"h20\",\"tracing\",\"dxr\",\"negative)one\",\"dice\",\"kelso\",\"cole\",\"underwhelme\",\"bodysuit\",\"ik\",\"wearer\",\"gunfire\",\"layer\",\"intensity\",\"dome\",\"treadmill\",\"utterly\",\"incomprehensible\",\"readyplayerone\",\"biotech\",\"bigwig\",\"chipping\",\"awkward\",\"intentional\",\"bothersome\",\"awkwardly\",\"immanent\",\"payne\",\"builders\",\"sam\",\"tentacle\",\"grim\",\"fandango\",\"caesar\",\"pharaoh\",\"zeus\",\"pastel\",\"cuteness\",\"bw\",\"b2w2\",\"shakeology\",\"nit\",\"jarring\",\"accustomed\",\"syrupy\",\"kirin\",\"crispy\",\"overwhelmed\",\"importer\",\"closure\",\"79.99\",\"scanner\",\"tier\",\"plaster\",\"hypnotise\",\"deceivingly\",\"zombine\",\"adobe\",\"archive\",\"78,000\",\"temporarily\",\"relive\",\"gemcraft\",\"bloon\",\"td\",\"3l\",\"tricky\",\"political\",\"painfully\",\"groundbreaking\",\"cultural\",\"societal\",\"economical\",\"sociology\",\"turnover\",\"scamway\",\"mys\",\"hoffmans\",\"6/8\",\"3.how\",\"wwg\",\"/w\",\"privately\",\"nest\",\"salvage\",\"intuitive\",\"mnk\",\"groove\",\"gopaldhara\",\"approx\",\"ftgfop1\",\"appearance\",\"swirly\",\"malty\",\"stayton\",\"chinfai\",\"silicone\",\"skins\",\"handles\",\"https://www.amazon.com/dp/b06xfbsbzn/ref=cm_sw_r_cp_apa_q5p2yberqvfb9\",\"decal\",\"wast\",\"silicon\",\"curio\",\"overtime\",\"saturated\",\"gimmicky\",\"photograph\",\"2080super\",\"stabilizer\",\"resoundingly\",\"exaggerate\",\"puddle\",\"re\",\"miracle\",\"kanto\",\"mainline\",\"befuddlement\",\"removal\",\"leisure\",\"onix\",\"popping\",\"unannounced\",\"chiefly\",\"undocked\",\"iama\",\"https://new.reddit.com/r/iama/comments/dt2prs/we_are_the_dark_crystal_games_team_members/\",\"backbone\",\"50,000\",\"realms\",\"https://www.kickstarter.com/projects/ceresgames/realms-beyond-ashes-of-the-fallen/description\",\"steven\",\"k.o.\",\"2.4\",\"choke\",\"rad\",\"emily\",\"leah\",\"verbose\",\"endearing\",\"spat\",\"trafficker\",\"meaningless\",\"bullying\",\"unsubscribe\",\"0\\u02dac\",\"coat\",\"overlocke\",\"10ghz\",\"cooling\",\"pigs\",\"realtime\",\"folder\",\"http://pastebin.com/tiqf0mrq\",\"c:\\\\program\",\"files\",\"x86)\\\\steam\\\\userdata\\\\yoursteamid\\\\311340\\\\remote\",\"metalgearsolidv_pc\",\"suggestions\",\"required\",\"~~job~~\",\"gist\",\"motivating\",\"executive\",\"x(my\",\"refereed\",\"managing\",\"wastes\",\"renaissance\",\"1,2,3\",\"counterstrike\",\"conker\",\"fur\",\"plane\",\"your(obviously\",\"ns\",\"airport\",\"plethora\",\"growler\",\"legally\",\"rosemary\",\"https://www.globenewswire.com/news-release/2020/10/06/2104567/0/en/doterra-center-for-integrative-oncology-opens-at-new-st-elizabeth-cancer-center.html\",\"lug\",\"projector\",\"crave\",\"uni\",\"appose\",\"mars\",\"interplanetary\",\"wn\",\"unadulterated\",\"cosmic\",\"https://www.independent.co.uk/life-style/gadgets-and-tech/mars-water-bodies-nasa-alien-life-b673519.html?utm_source=reddit.com\",\"jesus\",\"housing\",\"hydroskeptic\",\"dauntless\",\"f2p\",\"@squier\",\"sodas.com\",\"lauson1ex\",\"kyrpt\",\"fatality\",\"grain\",\"patreon\",\"ide\",\"nrs\",\"mk\",\"https://www.youtube.com/watch?v=pxo51gtgkds\",\"1/2/20\",\"friend(who\",\"flashcard\",\"excitedly\",\"said\",\"qna\",\"firstly\",\"https://www.reddit.com/r/antimlm/comments/q0j0f1/my_experience_with_my_close_friend_who_is/?utm_source=share&utm_medium=web2x&context=3\",\"concise\",\"trifecta\",\"adherent\",\"methid\",\"hideous\",\"nickel\",\"cleanup\",\"sorrowtv\",\"immortal\",\"rising\",\"alley\",\"artesian\",\"1920s\",\"1970\",\"percolate\",\"corningware\",\"arabica\",\"rotten\",\"bathe\",\"divine\",\"filtration\",\"seamstress\",\"tout\",\"1950s\",\"eek\",\"memorable\",\"flummoxed\",\"rowdy\",\"roddy\",\"piper\",\"gum\",\"https://youtu.be/6acncdjtoa8\",\"don\",\"quixotea\",\"manchai\",\"backer\",\"pippi\",\"oolongstocking\",\"jenni\",\"rosy\",\"cuppageek\",\"gehab\",\"editing\",\"publish\",\"shizz\",\"https://www.youtube.com/watch?v=mpdtftdahd4\",\"https://www.youtube.com/watch?v=jabvoilcuek&feature=youtu.be\",\"spiced\",\"160\",\"170\",\"battlefied\",\"beeing\",\"dope\",\"young'n\",\"inkling\",\"colorfully\",\"fans\",\"https://gamerant.com/bethesda-starfield-news-2022/?utm_content=buffer9a16e&utm_medium=social-distribution&utm_source=gr-tw&utm_campaign=gr-tw\",\"todd\",\"howard\",\"aya\",\"9am\",\"https://www.reddit.com/r/intel/comments/epk0zs/official_intel_graphics_aya_ask_you_anything/\",\"co2\",\"servicing\",\"infrastructure\",\"troubleshoot\",\"e208\",\"v.s.\",\"ambiguous\",\"motivational\",\"distinctly\",\"foolishly\",\"eh\",\"metabolism\",\"https://imgur.com/a/8qwfsqr\",\"indefinately\",\"trek\",\"unskippable\",\"trudge\",\"obstacle\",\"airplane\",\"pointing\",\"ccop\",\"https://www.sofstudios.com/index.php?/page/index.html\",\"nindies\",\"banjo\",\"kazooie\",\"iirc\",\"reskin\",\"playstation5\",\"logomark\",\"prototype\",\"gradient\",\"impair\",\"deaf\",\"crank\",\"coming\",\"r.b.i.\",\"simulating\",\"drafting\",\"offseason\",\"backlog\",\"awesomely\",\"accessories(battery\",\"\\u201daddiction\",\"48\",\"meal\",\"unhealthily\",\"dependence\",\"psychological\",\"explorer.exe\",\"skeptic\",\"beware\",\"glide\",\"snappy\",\"feasibility\",\"entrepreneurship\",\"http://goo.gl/forms/moj9rsgoyi\",\"collectable\",\"wikipedia\",\"mythical\",\"disprove\",\"wsu\",\"idaho\",\"oregon\",\"v1\",\"0.07\",\"y'know\",\"confine\",\"gears\",\"tactics\",\"obligatory\",\"coffin\",\"playnite\",\"https://imgur.com/a/38pknbq\",\"onward\",\"wean\",\"3,000\",\"fp\",\"jot\",\"replication\",\"popcorning\",\"excelling\",\"versatility\",\"arguably\",\"monolith\",\"eg-1\",\"modding\",\"untill\",\"3k\",\"cinematic\",\"coffe\",\"30ml\",\"1:(x\",\"2oz/\",\"3.2\",\"1:3.2\",\"perma\",\"relieved\",\"suspend\",\"12/31/9999\",\"hijack\",\"separately\",\"unbanned\",\"guitar\",\"warner\",\"ny\",\"fio\",\"anywho\",\"swallow\",\"tectonic\",\"elegant\",\"delightful\",\"authority\",\"azure\",\"oath\",\"felghana\",\"atelier\",\"mundane\",\"unbelievable\",\"binbok\",\"dammit\",\"teavivre\",\"worldwide\",\"16.9\",\"repenting\",\"limestone\",\"monsooned\",\"malabar\",\"whiskey\",\"underestimate\",\"subtract\",\"savory\",\"hash\",\"pipe\",\"harsh\",\"prospect\",\"secondly\",\"garuntee\",\"multiplat\",\"asia\",\"240v\",\"120v.\",\"interchangeable\",\"bamboo\",\"googling\",\"bleached\",\"unbleached\",\"neuroscientist\",\"resorting(though\",\"lab\",\"german\",\"inch\",\"desicion\",\"-thank\",\"someway\",\"doable\",\"at&t\",\"upfront\",\"cydcor\",\"dominos\",\"someday\",\".most\",\".to\",\"fro\",\"superlumen\",\"investigate\",\"madness\",\"darkness\",\"insanity\",\"ambisonic\",\"8d\",\"lovecraftian\",\"360\\u00ba\",\"integrate\",\"casinello\",\"superlumen_oficial\",\"chema\",\"designer\",\"chemacogo\",\"charly\",\"hermogenes\",\"solracher\",\"irene\",\"mart\\u00ednez\",\"superirenne\",\"chang\",\"stem\",\"prominent\",\"treehouse\",\"beam\",\"antagonist\",\"orient\",\"wondering\",\"existent\",\"dunkin\",\"4.25\",\"vie\",\"membrane\",\"gungeon\",\"blossom\",\"tales\",\"cells\",\"indies\",\"mere\",\"dg\",\"maui\",\"https://i.imgur.com/p4goa6e.jpg\",\"minty\",\"george\",\"howell\",\"420\",\"50ml\",\"increment\",\"neck\",\"fews\",\"https://www.youtube.com/watch?v=fzz0pk2q3g8\",\"platfomer\",\"jak\",\"theoretically\",\"bitters\",\"https://pdfhost.io/v/0qtoqunc5_pepsin_bitterspdf.pdf\",\"gentian\",\"wahoo\",\"mandrake\",\"cloves\",\"coriander\",\"\\u03b2\",\"dil\",\"3\\u00bd\",\"oiij\",\"oij\",\"aq\",\"dist\",\"qs\",\"macerate\",\"640\",\"gms\",\"wyatt\",\"2k18\",\"59.99\",\"paddle\",\"famed\",\"eastgate\",\"rave\",\"tinge\",\"1.79\",\"parchment\",\"silverskin\",\"appriate\",\"matte\",\"trieste\",\"croatia\",\"slovenian\",\"cola?i\",\"coastal\",\"shadowplay\",\"alt+z.\",\"dipping\",\"ctr\",\"incompetence\",\"mitigate\",\"unofficial\",\"alleviate\",\"worst\",\"affected\",\"physically\",\"inbetween\",\"mid-90s\",\"chrono\",\"roman\",\"https://www.ey.com/en_us/news/2020/10/ey-announces-winners-for-the-entrepreneur-of-the-year-2020-new-jersey-award\",\"decompose\",\"~3.5\",\"decant\",\"leathery\",\"pry\",\"attractive\",\"attractiveness\",\"https://www.bodum.com/gb/en/11920-259-douro\",\"recommended\",\"8th\",\"destinythegame\",\"@bungie\",\"https://youtu.be/_bn_wjo2m9q\",\"2070\",\"gfuel\",\"savvy\",\"stumped\",\"dosing\",\"fathom\",\"negativity\",\"venting\",\"haptic\",\"ito\",\"en\",\"venus\",\"lp\",\"elektra\",\"wpid\",\"http://imgur.com/edexcga\",\"bargain\",\"7pound\",\"sp\",\"3.it\",\"warrant\",\"https://rocketfizz.com/media/soda-labels/\",\"hickup\",\"lagging\",\"redshift\",\"1.25\",\"secretly\",\"3500\",\"k\\u00ba\",\"paywall\",\"polling\",\"24h\",\"blocking\",\"~~the\",\"table.~~\",\"~~in\",\"costly\",\"me).~~\",\"segmentation\",\"usd$\",\"insomnia\",\"01:00\",\"msconfig.exe\",\"logon\",\"vip\",\"10:30\",\"cloudstrifehy3\",\"reedit\",\"infos\",\"im\",\"daisy\",\"msg\",\"379\",\"https://www.nintendo.com/games/detail/bury-me-my-love-switch/\",\"12/31/19\",\"themo\",\"3yrs\",\"forgave\",\"xboxes\",\"nonstop\",\"h(2)0mies\",\"heathens\",\"pacing\",\"demanding\",\"flying\",\"cauldron\",\"hedge\",\"http://i.imgur.com/bqf2ptn.jpg\",\"bath\",\"slit\",\"tbb\",\"mighty\",\"cards\",\"http://shop.sandisk.com/store/sdiskus/en_us/pd/productid.5180084100\",\"promocode\",\"ultra128sd\",\"https://www.amazon.com/samsung-microsd-adapter-mb-me128ga-am/dp/b06xwzwyvp\",\"https://www.samsung.com/us/computing/memory-storage/memory-cards/microsdxc-evo-plus-memory-card-w--adapter-128gb--2017-model--mb-mc128ga-am/\",\"http://imgur.com/a/wdwdn\",\"insecure\",\"pathetic\",\"trolling\",\"campus\",\"collectively\",\"horrific\",\"broad\",\"400k+\",\"reappear\",\"pool\",\"highlight\",\"detrimental\",\"roadblock\",\"goldeneye\",\"007\",\"dweller\",\"stare\",\"ceiling\",\"\\u00fcbermensch\",\"xoxo\",\"fanatical\",\"keys\",\"academy\",\"p5xcr\",\"vy2ty\",\"hlr47\",\"knights\",\"ccf78\",\"tbb2b-82w22\",\"2b4pl\",\"ylwa5\",\"j9a3f\",\"wzakr\",\"hampg\",\"y3ym9\",\"gapev\",\"wgihn\",\"ayddf\",\"l4bxe\",\"vz407\",\"mec3w\",\"2i7wr\",\"vncel\",\"x79ep\",\"codex\",\"75dby\",\"r7qjc\",\"yj0vj\",\"wyhae-8bcyv\",\"b4kwb\",\"oke\",\"tieguanyin\",\"structure\",\"itwork\",\"ngl\",\"television\",\"crysis\",\"ctrl\",\"fledgling\",\"deacf\",\"rost\",\"suger\",\"wth\",\"mgsv\",\"misspell\",\"pt\",\"whatdoyaknow\",\"memo\",\"surreal\",\"brainwash\",\"midwestern\",\"disposal\",\"planting\",\"sill\",\"desensitize\",\"apostrophe\",\"conclude\",\"bf5\",\"witch\",\"pastime\",\"capitalize\",\"hurricanes&mlms\",\"beyourownceo\",\"shatter\",\"vodka\",\"jameson\",\"blenheim\",\"dr.pepp\",\"annoyingly\",\"torch\",\"monochrome\",\"hungry\",\"scare\",\"intact\",\"influential\",\"tasteless\",\"cooperate\",\"gratification\",\"josta\",\"alltime\",\"antarctica\",\"brasil\",\"spiciness\",\"dnl\",\"upside\",\"aruba\",\"jam\",\"jazz\",\"intervention\",\"fewday\",\"welfare\",\"imporant\",\"mutual\",\"surface\",\"tipping\",\"anybodie\",\"tender\",\"applicable\",\"israel\",\"existed\",\"bradford\",\"enthusiast(read\",\"pbr\",\"purelife\",\"quenching\",\"tingly\",\"amiss\",\"\\ud83d\\ude33\",\"saline\",\"huh\",\"https://i.imgur.com/fk5nbuo.jpg\",\"sahm\",\"achiever\",\"workplace\",\"talent\",\"burden\",\"mil\",\"teaching\",\"sonic\",\"forces\",\"unleashed\",\"sucking\",\"congratulation\",\"remodeling\",\"karens\",\"justifiably\",\"huffy\",\"obligated\",\"sarcastic\",\"mixer\",\"parking\",\"thug\",\"water+\",\"yerba\",\"http://www.mymateworld.com/catalog/index.php?cpath=1\",\"tweets\",\"fumihiko\",\"yasuda\",\"quote\",\"118.05\",\"ec\",\"/espresso\",\"tamp\",\"geyser\",\"bengal\",\"herbal/\",\"i've\",\"jamaica\",\"ka\",\"bigga\",\"unnoficial\",\"journal\",\"compact\",\"straightforwardness\",\"citron\",\"responsive\",\"comfortably\",\"travesty\",\"p65\",\"c1\",\"subsampling\",\"krups\",\"xp1020\",\"arizona\",\"2kgs\",\"negotiate\",\"tours\",\"https://reddit.com/link/ca7z9c/video/c9lesvwofw831/player\",\"https://preview.redd.it/blln3plmlz831.jpg?width=1608&format=pjpg&auto=webp&s=e896f327de8ef788b7dc61250aea8f91eb4a0896\",\"stagg\",\"motivate\",\"0x87e50007\",\"hobbie\",\"standardize\",\"catnip\",\"carolina\",\"crafted\",\"1min\",\"floored\",\"linkedin\",\"resume\",\"preciso\",\"erythritol\",\"sucralose\",\"aspartame\",\"beefy\",\"dreamcast\",\"24gm79g\",\"4kuhd\",\"commando\",\"colander\",\"messy\",\"grit\",\"yardwork\",\"inversion\",\"being\\\"/relaxation\",\"10/40\",\"25/40\",\"50/40\",\"sounding\",\"b&q\",\"f@#&in\",\"vhs\",\"hecka\",\"sonys\",\"pile\",\"standing\",\"repaste\",\"idle\",\"nonalcoholic\",\"paris\",\"switzerland\",\"liechtenstein\",\"venice\",\"austria\",\"hasn't\",\"doesn't\",\"obv\",\"synergy\",\"mario64\",\"casul\",\"deliberation\",\"slick\",\"valiant\",\"preach\",\"choir\",\"1070\",\"3070ti\",\"5600x.\"],\"legendgroup\":\"\",\"marker\":{\"color\":\"#636efa\",\"symbol\":\"circle\"},\"mode\":\"markers\",\"name\":\"\",\"showlegend\":false,\"x\":[1,2,3,4,5,6,7,8,9,10,11,12,13,14,15,16,17,18,19,20,21,22,23,24,25,26,27,28,29,30,31,32,33,34,35,36,37,38,39,40,41,42,43,44,45,46,47,48,49,50,51,52,53,54,55,56,57,58,59,60,61,62,63,64,65,66,67,68,69,70,71,72,73,74,75,76,77,78,79,80,81,82,83,84,85,86,87,88,89,90,91,92,93,94,95,96,97,98,99,100,101,102,103,104,105,106,107,108,109,110,111,112,113,114,115,116,117,118,119,120,121,122,123,124,125,126,127,128,129,130,131,132,133,134,135,136,137,138,139,140,141,142,143,144,145,146,147,148,149,150,151,152,153,154,155,156,157,158,159,160,161,162,163,164,165,166,167,168,169,170,171,172,173,174,175,176,177,178,179,180,181,182,183,184,185,186,187,188,189,190,191,192,193,194,195,196,197,198,199,200,201,202,203,204,205,206,207,208,209,210,211,212,213,214,215,216,217,218,219,220,221,222,223,224,225,226,227,228,229,230,231,232,233,234,235,236,237,238,239,240,241,242,243,244,245,246,247,248,249,250,251,252,253,254,255,256,257,258,259,260,261,262,263,264,265,266,267,268,269,270,271,272,273,274,275,276,277,278,279,280,281,282,283,284,285,286,287,288,289,290,291,292,293,294,295,296,297,298,299,300,301,302,303,304,305,306,307,308,309,310,311,312,313,314,315,316,317,318,319,320,321,322,323,324,325,326,327,328,329,330,331,332,333,334,335,336,337,338,339,340,341,342,343,344,345,346,347,348,349,350,351,352,353,354,355,356,357,358,359,360,361,362,363,364,365,366,367,368,369,370,371,372,373,374,375,376,377,378,379,380,381,382,383,384,385,386,387,388,389,390,391,392,393,394,395,396,397,398,399,400,401,402,403,404,405,406,407,408,409,410,411,412,413,414,415,416,417,418,419,420,421,422,423,424,425,426,427,428,429,430,431,432,433,434,435,436,437,438,439,440,441,442,443,444,445,446,447,448,449,450,451,452,453,454,455,456,457,458,459,460,461,462,463,464,465,466,467,468,469,470,471,472,473,474,475,476,477,478,479,480,481,482,483,484,485,486,487,488,489,490,491,492,493,494,495,496,497,498,499,500,501,502,503,504,505,506,507,508,509,510,511,512,513,514,515,516,517,518,519,520,521,522,523,524,525,526,527,528,529,530,531,532,533,534,535,536,537,538,539,540,541,542,543,544,545,546,547,548,549,550,551,552,553,554,555,556,557,558,559,560,561,562,563,564,565,566,567,568,569,570,571,572,573,574,575,576,577,578,579,580,581,582,583,584,585,586,587,588,589,590,591,592,593,594,595,596,597,598,599,600,601,602,603,604,605,606,607,608,609,610,611,612,613,614,615,616,617,618,619,620,621,622,623,624,625,626,627,628,629,630,631,632,633,634,635,636,637,638,639,640,641,642,643,644,645,646,647,648,649,650,651,652,653,654,655,656,657,658,659,660,661,662,663,664,665,666,667,668,669,670,671,672,673,674,675,676,677,678,679,680,681,682,683,684,685,686,687,688,689,690,691,692,693,694,695,696,697,698,699,700,701,702,703,704,705,706,707,708,709,710,711,712,713,714,715,716,717,718,719,720,721,722,723,724,725,726,727,728,729,730,731,732,733,734,735,736,737,738,739,740,741,742,743,744,745,746,747,748,749,750,751,752,753,754,755,756,757,758,759,760,761,762,763,764,765,766,767,768,769,770,771,772,773,774,775,776,777,778,779,780,781,782,783,784,785,786,787,788,789,790,791,792,793,794,795,796,797,798,799,800,801,802,803,804,805,806,807,808,809,810,811,812,813,814,815,816,817,818,819,820,821,822,823,824,825,826,827,828,829,830,831,832,833,834,835,836,837,838,839,840,841,842,843,844,845,846,847,848,849,850,851,852,853,854,855,856,857,858,859,860,861,862,863,864,865,866,867,868,869,870,871,872,873,874,875,876,877,878,879,880,881,882,883,884,885,886,887,888,889,890,891,892,893,894,895,896,897,898,899,900,901,902,903,904,905,906,907,908,909,910,911,912,913,914,915,916,917,918,919,920,921,922,923,924,925,926,927,928,929,930,931,932,933,934,935,936,937,938,939,940,941,942,943,944,945,946,947,948,949,950,951,952,953,954,955,956,957,958,959,960,961,962,963,964,965,966,967,968,969,970,971,972,973,974,975,976,977,978,979,980,981,982,983,984,985,986,987,988,989,990,991,992,993,994,995,996,997,998,999,1000,1001,1002,1003,1004,1005,1006,1007,1008,1009,1010,1011,1012,1013,1014,1015,1016,1017,1018,1019,1020,1021,1022,1023,1024,1025,1026,1027,1028,1029,1030,1031,1032,1033,1034,1035,1036,1037,1038,1039,1040,1041,1042,1043,1044,1045,1046,1047,1048,1049,1050,1051,1052,1053,1054,1055,1056,1057,1058,1059,1060,1061,1062,1063,1064,1065,1066,1067,1068,1069,1070,1071,1072,1073,1074,1075,1076,1077,1078,1079,1080,1081,1082,1083,1084,1085,1086,1087,1088,1089,1090,1091,1092,1093,1094,1095,1096,1097,1098,1099,1100,1101,1102,1103,1104,1105,1106,1107,1108,1109,1110,1111,1112,1113,1114,1115,1116,1117,1118,1119,1120,1121,1122,1123,1124,1125,1126,1127,1128,1129,1130,1131,1132,1133,1134,1135,1136,1137,1138,1139,1140,1141,1142,1143,1144,1145,1146,1147,1148,1149,1150,1151,1152,1153,1154,1155,1156,1157,1158,1159,1160,1161,1162,1163,1164,1165,1166,1167,1168,1169,1170,1171,1172,1173,1174,1175,1176,1177,1178,1179,1180,1181,1182,1183,1184,1185,1186,1187,1188,1189,1190,1191,1192,1193,1194,1195,1196,1197,1198,1199,1200,1201,1202,1203,1204,1205,1206,1207,1208,1209,1210,1211,1212,1213,1214,1215,1216,1217,1218,1219,1220,1221,1222,1223,1224,1225,1226,1227,1228,1229,1230,1231,1232,1233,1234,1235,1236,1237,1238,1239,1240,1241,1242,1243,1244,1245,1246,1247,1248,1249,1250,1251,1252,1253,1254,1255,1256,1257,1258,1259,1260,1261,1262,1263,1264,1265,1266,1267,1268,1269,1270,1271,1272,1273,1274,1275,1276,1277,1278,1279,1280,1281,1282,1283,1284,1285,1286,1287,1288,1289,1290,1291,1292,1293,1294,1295,1296,1297,1298,1299,1300,1301,1302,1303,1304,1305,1306,1307,1308,1309,1310,1311,1312,1313,1314,1315,1316,1317,1318,1319,1320,1321,1322,1323,1324,1325,1326,1327,1328,1329,1330,1331,1332,1333,1334,1335,1336,1337,1338,1339,1340,1341,1342,1343,1344,1345,1346,1347,1348,1349,1350,1351,1352,1353,1354,1355,1356,1357,1358,1359,1360,1361,1362,1363,1364,1365,1366,1367,1368,1369,1370,1371,1372,1373,1374,1375,1376,1377,1378,1379,1380,1381,1382,1383,1384,1385,1386,1387,1388,1389,1390,1391,1392,1393,1394,1395,1396,1397,1398,1399,1400,1401,1402,1403,1404,1405,1406,1407,1408,1409,1410,1411,1412,1413,1414,1415,1416,1417,1418,1419,1420,1421,1422,1423,1424,1425,1426,1427,1428,1429,1430,1431,1432,1433,1434,1435,1436,1437,1438,1439,1440,1441,1442,1443,1444,1445,1446,1447,1448,1449,1450,1451,1452,1453,1454,1455,1456,1457,1458,1459,1460,1461,1462,1463,1464,1465,1466,1467,1468,1469,1470,1471,1472,1473,1474,1475,1476,1477,1478,1479,1480,1481,1482,1483,1484,1485,1486,1487,1488,1489,1490,1491,1492,1493,1494,1495,1496,1497,1498,1499,1500,1501,1502,1503,1504,1505,1506,1507,1508,1509,1510,1511,1512,1513,1514,1515,1516,1517,1518,1519,1520,1521,1522,1523,1524,1525,1526,1527,1528,1529,1530,1531,1532,1533,1534,1535,1536,1537,1538,1539,1540,1541,1542,1543,1544,1545,1546,1547,1548,1549,1550,1551,1552,1553,1554,1555,1556,1557,1558,1559,1560,1561,1562,1563,1564,1565,1566,1567,1568,1569,1570,1571,1572,1573,1574,1575,1576,1577,1578,1579,1580,1581,1582,1583,1584,1585,1586,1587,1588,1589,1590,1591,1592,1593,1594,1595,1596,1597,1598,1599,1600,1601,1602,1603,1604,1605,1606,1607,1608,1609,1610,1611,1612,1613,1614,1615,1616,1617,1618,1619,1620,1621,1622,1623,1624,1625,1626,1627,1628,1629,1630,1631,1632,1633,1634,1635,1636,1637,1638,1639,1640,1641,1642,1643,1644,1645,1646,1647,1648,1649,1650,1651,1652,1653,1654,1655,1656,1657,1658,1659,1660,1661,1662,1663,1664,1665,1666,1667,1668,1669,1670,1671,1672,1673,1674,1675,1676,1677,1678,1679,1680,1681,1682,1683,1684,1685,1686,1687,1688,1689,1690,1691,1692,1693,1694,1695,1696,1697,1698,1699,1700,1701,1702,1703,1704,1705,1706,1707,1708,1709,1710,1711,1712,1713,1714,1715,1716,1717,1718,1719,1720,1721,1722,1723,1724,1725,1726,1727,1728,1729,1730,1731,1732,1733,1734,1735,1736,1737,1738,1739,1740,1741,1742,1743,1744,1745,1746,1747,1748,1749,1750,1751,1752,1753,1754,1755,1756,1757,1758,1759,1760,1761,1762,1763,1764,1765,1766,1767,1768,1769,1770,1771,1772,1773,1774,1775,1776,1777,1778,1779,1780,1781,1782,1783,1784,1785,1786,1787,1788,1789,1790,1791,1792,1793,1794,1795,1796,1797,1798,1799,1800,1801,1802,1803,1804,1805,1806,1807,1808,1809,1810,1811,1812,1813,1814,1815,1816,1817,1818,1819,1820,1821,1822,1823,1824,1825,1826,1827,1828,1829,1830,1831,1832,1833,1834,1835,1836,1837,1838,1839,1840,1841,1842,1843,1844,1845,1846,1847,1848,1849,1850,1851,1852,1853,1854,1855,1856,1857,1858,1859,1860,1861,1862,1863,1864,1865,1866,1867,1868,1869,1870,1871,1872,1873,1874,1875,1876,1877,1878,1879,1880,1881,1882,1883,1884,1885,1886,1887,1888,1889,1890,1891,1892,1893,1894,1895,1896,1897,1898,1899,1900,1901,1902,1903,1904,1905,1906,1907,1908,1909,1910,1911,1912,1913,1914,1915,1916,1917,1918,1919,1920,1921,1922,1923,1924,1925,1926,1927,1928,1929,1930,1931,1932,1933,1934,1935,1936,1937,1938,1939,1940,1941,1942,1943,1944,1945,1946,1947,1948,1949,1950,1951,1952,1953,1954,1955,1956,1957,1958,1959,1960,1961,1962,1963,1964,1965,1966,1967,1968,1969,1970,1971,1972,1973,1974,1975,1976,1977,1978,1979,1980,1981,1982,1983,1984,1985,1986,1987,1988,1989,1990,1991,1992,1993,1994,1995,1996,1997,1998,1999,2000,2001,2002,2003,2004,2005,2006,2007,2008,2009,2010,2011,2012,2013,2014,2015,2016,2017,2018,2019,2020,2021,2022,2023,2024,2025,2026,2027,2028,2029,2030,2031,2032,2033,2034,2035,2036,2037,2038,2039,2040,2041,2042,2043,2044,2045,2046,2047,2048,2049,2050,2051,2052,2053,2054,2055,2056,2057,2058,2059,2060,2061,2062,2063,2064,2065,2066,2067,2068,2069,2070,2071,2072,2073,2074,2075,2076,2077,2078,2079,2080,2081,2082,2083,2084,2085,2086,2087,2088,2089,2090,2091,2092,2093,2094,2095,2096,2097,2098,2099,2100,2101,2102,2103,2104,2105,2106,2107,2108,2109,2110,2111,2112,2113,2114,2115,2116,2117,2118,2119,2120,2121,2122,2123,2124,2125,2126,2127,2128,2129,2130,2131,2132,2133,2134,2135,2136,2137,2138,2139,2140,2141,2142,2143,2144,2145,2146,2147,2148,2149,2150,2151,2152,2153,2154,2155,2156,2157,2158,2159,2160,2161,2162,2163,2164,2165,2166,2167,2168,2169,2170,2171,2172,2173,2174,2175,2176,2177,2178,2179,2180,2181,2182,2183,2184,2185,2186,2187,2188,2189,2190,2191,2192,2193,2194,2195,2196,2197,2198,2199,2200,2201,2202,2203,2204,2205,2206,2207,2208,2209,2210,2211,2212,2213,2214,2215,2216,2217,2218,2219,2220,2221,2222,2223,2224,2225,2226,2227,2228,2229,2230,2231,2232,2233,2234,2235,2236,2237,2238,2239,2240,2241,2242,2243,2244,2245,2246,2247,2248,2249,2250,2251,2252,2253,2254,2255,2256,2257,2258,2259,2260,2261,2262,2263,2264,2265,2266,2267,2268,2269,2270,2271,2272,2273,2274,2275,2276,2277,2278,2279,2280,2281,2282,2283,2284,2285,2286,2287,2288,2289,2290,2291,2292,2293,2294,2295,2296,2297,2298,2299,2300,2301,2302,2303,2304,2305,2306,2307,2308,2309,2310,2311,2312,2313,2314,2315,2316,2317,2318,2319,2320,2321,2322,2323,2324,2325,2326,2327,2328,2329,2330,2331,2332,2333,2334,2335,2336,2337,2338,2339,2340,2341,2342,2343,2344,2345,2346,2347,2348,2349,2350,2351,2352,2353,2354,2355,2356,2357,2358,2359,2360,2361,2362,2363,2364,2365,2366,2367,2368,2369,2370,2371,2372,2373,2374,2375,2376,2377,2378,2379,2380,2381,2382,2383,2384,2385,2386,2387,2388,2389,2390,2391,2392,2393,2394,2395,2396,2397,2398,2399,2400,2401,2402,2403,2404,2405,2406,2407,2408,2409,2410,2411,2412,2413,2414,2415,2416,2417,2418,2419,2420,2421,2422,2423,2424,2425,2426,2427,2428,2429,2430,2431,2432,2433,2434,2435,2436,2437,2438,2439,2440,2441,2442,2443,2444,2445,2446,2447,2448,2449,2450,2451,2452,2453,2454,2455,2456,2457,2458,2459,2460,2461,2462,2463,2464,2465,2466,2467,2468,2469,2470,2471,2472,2473,2474,2475,2476,2477,2478,2479,2480,2481,2482,2483,2484,2485,2486,2487,2488,2489,2490,2491,2492,2493,2494,2495,2496,2497,2498,2499,2500,2501,2502,2503,2504,2505,2506,2507,2508,2509,2510,2511,2512,2513,2514,2515,2516,2517,2518,2519,2520,2521,2522,2523,2524,2525,2526,2527,2528,2529,2530,2531,2532,2533,2534,2535,2536,2537,2538,2539,2540,2541,2542,2543,2544,2545,2546,2547,2548,2549,2550,2551,2552,2553,2554,2555,2556,2557,2558,2559,2560,2561,2562,2563,2564,2565,2566,2567,2568,2569,2570,2571,2572,2573,2574,2575,2576,2577,2578,2579,2580,2581,2582,2583,2584,2585,2586,2587,2588,2589,2590,2591,2592,2593,2594,2595,2596,2597,2598,2599,2600,2601,2602,2603,2604,2605,2606,2607,2608,2609,2610,2611,2612,2613,2614,2615,2616,2617,2618,2619,2620,2621,2622,2623,2624,2625,2626,2627,2628,2629,2630,2631,2632,2633,2634,2635,2636,2637,2638,2639,2640,2641,2642,2643,2644,2645,2646,2647,2648,2649,2650,2651,2652,2653,2654,2655,2656,2657,2658,2659,2660,2661,2662,2663,2664,2665,2666,2667,2668,2669,2670,2671,2672,2673,2674,2675,2676,2677,2678,2679,2680,2681,2682,2683,2684,2685,2686,2687,2688,2689,2690,2691,2692,2693,2694,2695,2696,2697,2698,2699,2700,2701,2702,2703,2704,2705,2706,2707,2708,2709,2710,2711,2712,2713,2714,2715,2716,2717,2718,2719,2720,2721,2722,2723,2724,2725,2726,2727,2728,2729,2730,2731,2732,2733,2734,2735,2736,2737,2738,2739,2740,2741,2742,2743,2744,2745,2746,2747,2748,2749,2750,2751,2752,2753,2754,2755,2756,2757,2758,2759,2760,2761,2762,2763,2764,2765,2766,2767,2768,2769,2770,2771,2772,2773,2774,2775,2776,2777,2778,2779,2780,2781,2782,2783,2784,2785,2786,2787,2788,2789,2790,2791,2792,2793,2794,2795,2796,2797,2798,2799,2800,2801,2802,2803,2804,2805,2806,2807,2808,2809,2810,2811,2812,2813,2814,2815,2816,2817,2818,2819,2820,2821,2822,2823,2824,2825,2826,2827,2828,2829,2830,2831,2832,2833,2834,2835,2836,2837,2838,2839,2840,2841,2842,2843,2844,2845,2846,2847,2848,2849,2850,2851,2852,2853,2854,2855,2856,2857,2858,2859,2860,2861,2862,2863,2864,2865,2866,2867,2868,2869,2870,2871,2872,2873,2874,2875,2876,2877,2878,2879,2880,2881,2882,2883,2884,2885,2886,2887,2888,2889,2890,2891,2892,2893,2894,2895,2896,2897,2898,2899,2900,2901,2902,2903,2904,2905,2906,2907,2908,2909,2910,2911,2912,2913,2914,2915,2916,2917,2918,2919,2920,2921,2922,2923,2924,2925,2926,2927,2928,2929,2930,2931,2932,2933,2934,2935,2936,2937,2938,2939,2940,2941,2942,2943,2944,2945,2946,2947,2948,2949,2950,2951,2952,2953,2954,2955,2956,2957,2958,2959,2960,2961,2962,2963,2964,2965,2966,2967,2968,2969,2970,2971,2972,2973,2974,2975,2976,2977,2978,2979,2980,2981,2982,2983,2984,2985,2986,2987,2988,2989,2990,2991,2992,2993,2994,2995,2996,2997,2998,2999,3000,3001,3002,3003,3004,3005,3006,3007,3008,3009,3010,3011,3012,3013,3014,3015,3016,3017,3018,3019,3020,3021,3022,3023,3024,3025,3026,3027,3028,3029,3030,3031,3032,3033,3034,3035,3036,3037,3038,3039,3040,3041,3042,3043,3044,3045,3046,3047,3048,3049,3050,3051,3052,3053,3054,3055,3056,3057,3058,3059,3060,3061,3062,3063,3064,3065,3066,3067,3068,3069,3070,3071,3072,3073,3074,3075,3076,3077,3078,3079,3080,3081,3082,3083,3084,3085,3086,3087,3088,3089,3090,3091,3092,3093,3094,3095,3096,3097,3098,3099,3100,3101,3102,3103,3104,3105,3106,3107,3108,3109,3110,3111,3112,3113,3114,3115,3116,3117,3118,3119,3120,3121,3122,3123,3124,3125,3126,3127,3128,3129,3130,3131,3132,3133,3134,3135,3136,3137,3138,3139,3140,3141,3142,3143,3144,3145,3146,3147,3148,3149,3150,3151,3152,3153,3154,3155,3156,3157,3158,3159,3160,3161,3162,3163,3164,3165,3166,3167,3168,3169,3170,3171,3172,3173,3174,3175,3176,3177,3178,3179,3180,3181,3182,3183,3184,3185,3186,3187,3188,3189,3190,3191,3192,3193,3194,3195,3196,3197,3198,3199,3200,3201,3202,3203,3204,3205,3206,3207,3208,3209,3210,3211,3212,3213,3214,3215,3216,3217,3218,3219,3220,3221,3222,3223,3224,3225,3226,3227,3228,3229,3230,3231,3232,3233,3234,3235,3236,3237,3238,3239,3240,3241,3242,3243,3244,3245,3246,3247,3248,3249,3250,3251,3252,3253,3254,3255,3256,3257,3258,3259,3260,3261,3262,3263,3264,3265,3266,3267,3268,3269,3270,3271,3272,3273,3274,3275,3276,3277,3278,3279,3280,3281,3282,3283,3284,3285,3286,3287,3288,3289,3290,3291,3292,3293,3294,3295,3296,3297,3298,3299,3300,3301,3302,3303,3304,3305,3306,3307,3308,3309,3310,3311,3312,3313,3314,3315,3316,3317,3318,3319,3320,3321,3322,3323,3324,3325,3326,3327,3328,3329,3330,3331,3332,3333,3334,3335,3336,3337,3338,3339,3340,3341,3342,3343,3344,3345,3346,3347,3348,3349,3350,3351,3352,3353,3354,3355,3356,3357,3358,3359,3360,3361,3362,3363,3364,3365,3366,3367,3368,3369,3370,3371,3372,3373,3374,3375,3376,3377,3378,3379,3380,3381,3382,3383,3384,3385,3386,3387,3388,3389,3390,3391,3392,3393,3394,3395,3396,3397,3398,3399,3400,3401,3402,3403,3404,3405,3406,3407,3408,3409,3410,3411,3412,3413,3414,3415,3416,3417,3418,3419,3420,3421,3422,3423,3424,3425,3426,3427,3428,3429,3430,3431,3432,3433,3434,3435,3436,3437,3438,3439,3440,3441,3442,3443,3444,3445,3446,3447,3448,3449,3450,3451,3452,3453,3454,3455,3456,3457,3458,3459,3460,3461,3462,3463,3464,3465,3466,3467,3468,3469,3470,3471,3472,3473,3474,3475,3476,3477,3478,3479,3480,3481,3482,3483,3484,3485,3486,3487,3488,3489,3490,3491,3492,3493,3494,3495,3496,3497,3498,3499,3500,3501,3502,3503,3504,3505,3506,3507,3508,3509,3510,3511,3512,3513,3514,3515,3516,3517,3518,3519,3520,3521,3522,3523,3524,3525,3526,3527,3528,3529,3530,3531,3532,3533,3534,3535,3536,3537,3538,3539,3540,3541,3542,3543,3544,3545,3546,3547,3548,3549,3550,3551,3552,3553,3554,3555,3556,3557,3558,3559,3560,3561,3562,3563,3564,3565,3566,3567,3568,3569,3570,3571,3572,3573,3574,3575,3576,3577,3578,3579,3580,3581,3582,3583,3584,3585,3586,3587,3588,3589,3590,3591,3592,3593,3594,3595,3596,3597,3598,3599,3600,3601,3602,3603,3604,3605,3606,3607,3608,3609,3610,3611,3612,3613,3614,3615,3616,3617,3618,3619,3620,3621,3622,3623,3624,3625,3626,3627,3628,3629,3630,3631,3632,3633,3634,3635,3636,3637,3638,3639,3640,3641,3642,3643,3644,3645,3646,3647,3648,3649,3650,3651,3652,3653,3654,3655,3656,3657,3658,3659,3660,3661,3662,3663,3664,3665,3666,3667,3668,3669,3670,3671,3672,3673,3674,3675,3676,3677,3678,3679,3680,3681,3682,3683,3684,3685,3686,3687,3688,3689,3690,3691,3692,3693,3694,3695,3696,3697,3698,3699,3700,3701,3702,3703,3704,3705,3706,3707,3708,3709,3710,3711,3712,3713,3714,3715,3716,3717,3718,3719,3720,3721,3722,3723,3724,3725,3726,3727,3728,3729,3730,3731,3732,3733,3734,3735,3736,3737,3738,3739,3740,3741,3742,3743,3744,3745,3746,3747,3748,3749,3750,3751,3752,3753,3754,3755,3756,3757,3758,3759,3760,3761,3762,3763,3764,3765,3766,3767,3768,3769,3770,3771,3772,3773,3774,3775,3776,3777,3778,3779,3780,3781,3782,3783,3784,3785,3786,3787,3788,3789,3790,3791,3792,3793,3794,3795,3796,3797,3798,3799,3800,3801,3802,3803,3804,3805,3806,3807,3808,3809,3810,3811,3812,3813,3814,3815,3816,3817,3818,3819,3820,3821,3822,3823,3824,3825,3826,3827,3828,3829,3830,3831,3832,3833,3834,3835,3836,3837,3838,3839,3840,3841,3842,3843,3844,3845,3846,3847,3848,3849,3850,3851,3852,3853,3854,3855,3856,3857,3858,3859,3860,3861,3862,3863,3864,3865,3866,3867,3868,3869,3870,3871,3872,3873,3874,3875,3876,3877,3878,3879,3880,3881,3882,3883,3884,3885,3886,3887,3888,3889,3890,3891,3892,3893,3894,3895,3896,3897,3898,3899,3900,3901,3902,3903,3904,3905,3906,3907,3908,3909,3910,3911,3912,3913,3914,3915,3916,3917,3918,3919,3920,3921,3922,3923,3924,3925,3926,3927,3928,3929,3930,3931,3932,3933,3934,3935,3936,3937,3938,3939,3940,3941,3942,3943,3944,3945,3946,3947,3948,3949,3950,3951,3952,3953,3954,3955,3956,3957,3958,3959,3960,3961,3962,3963,3964,3965,3966,3967,3968,3969,3970,3971,3972,3973,3974,3975,3976,3977,3978,3979,3980,3981,3982,3983,3984,3985,3986,3987,3988,3989,3990,3991,3992,3993,3994,3995,3996,3997,3998,3999,4000,4001,4002,4003,4004,4005,4006,4007,4008,4009,4010,4011,4012,4013,4014,4015,4016,4017,4018,4019,4020,4021,4022,4023,4024,4025,4026,4027,4028,4029,4030,4031,4032,4033,4034,4035,4036,4037,4038,4039,4040,4041,4042,4043,4044,4045,4046,4047,4048,4049,4050,4051,4052,4053,4054,4055,4056,4057,4058,4059,4060,4061,4062,4063,4064,4065,4066,4067,4068,4069,4070,4071,4072,4073,4074,4075,4076,4077,4078,4079,4080,4081,4082,4083,4084,4085,4086,4087,4088,4089,4090,4091,4092,4093,4094,4095,4096,4097,4098,4099,4100,4101,4102,4103,4104,4105,4106,4107,4108,4109,4110,4111,4112,4113,4114,4115,4116,4117,4118,4119,4120,4121,4122,4123,4124,4125,4126,4127,4128,4129,4130,4131,4132,4133,4134,4135,4136,4137,4138,4139,4140,4141,4142,4143,4144,4145,4146,4147,4148,4149,4150,4151,4152,4153,4154,4155,4156,4157,4158,4159,4160,4161,4162,4163,4164,4165,4166,4167,4168,4169,4170,4171,4172,4173,4174,4175,4176,4177,4178,4179,4180,4181,4182,4183,4184,4185,4186,4187,4188,4189,4190,4191,4192,4193,4194,4195,4196,4197,4198,4199,4200,4201,4202,4203,4204,4205,4206,4207,4208,4209,4210,4211,4212,4213,4214,4215,4216,4217,4218,4219,4220,4221,4222,4223,4224,4225,4226,4227,4228,4229,4230,4231,4232,4233,4234,4235,4236,4237,4238,4239,4240,4241,4242,4243,4244,4245,4246,4247,4248,4249,4250,4251,4252,4253,4254,4255,4256,4257,4258,4259,4260,4261,4262,4263,4264,4265,4266,4267,4268,4269,4270,4271,4272,4273,4274,4275,4276,4277,4278,4279,4280,4281,4282,4283,4284,4285,4286,4287,4288,4289,4290,4291,4292,4293,4294,4295,4296,4297,4298,4299,4300,4301,4302,4303,4304,4305,4306,4307,4308,4309,4310,4311,4312,4313,4314,4315,4316,4317,4318,4319,4320,4321,4322,4323,4324,4325,4326,4327,4328,4329,4330,4331,4332,4333,4334,4335,4336,4337,4338,4339,4340,4341,4342,4343,4344,4345,4346,4347,4348,4349,4350,4351,4352,4353,4354,4355,4356,4357,4358,4359,4360,4361,4362,4363,4364,4365,4366,4367,4368,4369,4370,4371,4372,4373,4374,4375,4376,4377,4378,4379,4380,4381,4382,4383,4384,4385,4386,4387,4388,4389,4390,4391,4392,4393,4394,4395,4396,4397,4398,4399,4400,4401,4402,4403,4404,4405,4406,4407,4408,4409,4410,4411,4412,4413,4414,4415,4416,4417,4418,4419,4420,4421,4422,4423,4424,4425,4426,4427,4428,4429,4430,4431,4432,4433,4434,4435,4436,4437,4438,4439,4440,4441,4442,4443,4444,4445,4446,4447,4448,4449,4450,4451,4452,4453,4454,4455,4456,4457,4458,4459,4460,4461,4462,4463,4464,4465,4466,4467,4468,4469,4470,4471,4472,4473,4474,4475,4476,4477,4478,4479,4480,4481,4482,4483,4484,4485,4486,4487,4488,4489,4490,4491,4492,4493,4494,4495,4496,4497,4498,4499,4500,4501,4502,4503,4504,4505,4506,4507,4508,4509,4510,4511,4512,4513,4514,4515,4516,4517,4518,4519,4520,4521,4522,4523,4524,4525,4526,4527,4528,4529,4530,4531,4532,4533,4534,4535,4536,4537,4538,4539,4540,4541,4542,4543,4544,4545,4546,4547,4548,4549,4550,4551,4552,4553,4554,4555,4556,4557,4558,4559,4560,4561,4562,4563,4564,4565,4566,4567,4568,4569,4570,4571,4572,4573,4574,4575,4576,4577,4578,4579,4580,4581,4582,4583,4584,4585,4586,4587,4588,4589,4590,4591,4592,4593,4594,4595,4596,4597,4598,4599,4600,4601,4602,4603,4604,4605,4606,4607,4608,4609,4610,4611,4612,4613,4614,4615,4616,4617,4618,4619,4620,4621,4622,4623,4624,4625,4626,4627,4628,4629,4630,4631,4632,4633,4634,4635,4636,4637,4638,4639,4640,4641,4642,4643,4644,4645,4646,4647,4648,4649,4650,4651,4652,4653,4654,4655,4656,4657,4658,4659,4660,4661,4662,4663,4664,4665,4666,4667,4668,4669,4670,4671,4672,4673,4674,4675,4676,4677,4678,4679,4680,4681,4682,4683,4684,4685,4686,4687,4688,4689,4690,4691,4692,4693,4694,4695,4696,4697,4698,4699,4700,4701,4702,4703,4704,4705,4706,4707,4708,4709,4710,4711,4712,4713,4714,4715,4716,4717,4718,4719,4720,4721,4722,4723,4724,4725,4726,4727,4728,4729,4730,4731,4732,4733,4734,4735,4736,4737,4738,4739,4740,4741,4742,4743,4744,4745,4746,4747,4748,4749,4750,4751,4752,4753,4754,4755,4756,4757,4758,4759,4760,4761,4762,4763,4764,4765,4766,4767,4768,4769,4770,4771,4772,4773,4774,4775,4776,4777,4778,4779,4780,4781,4782,4783,4784,4785,4786,4787,4788,4789,4790,4791,4792,4793,4794,4795,4796,4797,4798,4799,4800,4801,4802,4803,4804,4805,4806,4807,4808,4809,4810,4811,4812,4813,4814,4815,4816,4817,4818,4819,4820,4821,4822,4823,4824,4825,4826,4827,4828,4829,4830,4831,4832,4833,4834,4835,4836,4837,4838,4839,4840,4841,4842,4843,4844,4845,4846,4847,4848,4849,4850,4851,4852,4853,4854,4855,4856,4857,4858,4859,4860,4861,4862,4863,4864,4865,4866,4867,4868,4869,4870,4871,4872,4873,4874,4875,4876,4877,4878,4879,4880,4881,4882,4883,4884,4885,4886,4887,4888,4889,4890,4891,4892,4893,4894,4895,4896,4897,4898,4899,4900,4901,4902,4903,4904,4905,4906,4907,4908,4909,4910,4911,4912,4913,4914,4915,4916,4917,4918,4919,4920,4921,4922,4923,4924,4925,4926,4927,4928,4929,4930,4931,4932,4933,4934,4935,4936,4937,4938,4939,4940,4941,4942,4943,4944,4945,4946,4947,4948,4949,4950,4951,4952,4953,4954,4955,4956,4957,4958,4959,4960,4961,4962,4963,4964,4965,4966,4967,4968,4969,4970,4971,4972,4973,4974,4975,4976,4977,4978,4979,4980,4981,4982,4983,4984,4985,4986,4987,4988,4989,4990,4991,4992,4993,4994,4995,4996,4997,4998,4999,5000,5001,5002,5003,5004,5005,5006,5007,5008,5009,5010,5011,5012,5013,5014,5015,5016,5017,5018,5019,5020,5021,5022,5023,5024,5025,5026,5027,5028,5029,5030,5031,5032,5033,5034,5035,5036,5037,5038,5039,5040,5041,5042,5043,5044,5045,5046,5047,5048,5049,5050,5051,5052,5053,5054,5055,5056,5057,5058,5059,5060,5061,5062,5063,5064,5065,5066,5067,5068,5069,5070,5071,5072,5073,5074,5075,5076,5077,5078,5079,5080,5081,5082,5083,5084,5085,5086,5087,5088,5089,5090,5091,5092,5093,5094,5095,5096,5097,5098,5099,5100,5101,5102,5103,5104,5105,5106,5107,5108,5109,5110,5111,5112,5113,5114,5115,5116,5117,5118,5119,5120,5121,5122,5123,5124,5125,5126,5127,5128,5129,5130,5131,5132,5133,5134,5135,5136,5137,5138,5139,5140,5141,5142,5143,5144,5145,5146,5147,5148,5149,5150,5151,5152,5153,5154,5155,5156,5157,5158,5159,5160,5161,5162,5163,5164,5165,5166,5167,5168,5169,5170,5171,5172,5173,5174,5175,5176,5177,5178,5179,5180,5181,5182,5183,5184,5185,5186,5187,5188,5189,5190,5191,5192,5193,5194,5195,5196,5197,5198,5199,5200,5201,5202,5203,5204,5205,5206,5207,5208,5209,5210,5211,5212,5213,5214,5215,5216,5217,5218,5219,5220,5221,5222,5223,5224,5225,5226,5227,5228,5229,5230,5231,5232,5233,5234,5235,5236,5237,5238,5239,5240,5241,5242,5243,5244,5245,5246,5247,5248,5249,5250,5251,5252,5253,5254,5255,5256,5257,5258,5259,5260,5261,5262,5263,5264,5265,5266,5267,5268,5269,5270,5271,5272,5273,5274,5275,5276,5277,5278,5279,5280,5281,5282,5283,5284,5285,5286,5287,5288,5289,5290,5291,5292,5293,5294,5295,5296,5297,5298,5299,5300,5301,5302,5303,5304,5305,5306,5307,5308,5309,5310,5311,5312,5313,5314,5315,5316,5317,5318,5319,5320,5321,5322,5323,5324,5325,5326,5327,5328,5329,5330,5331,5332,5333,5334,5335,5336,5337,5338,5339,5340,5341,5342,5343,5344,5345,5346,5347,5348,5349,5350,5351,5352,5353,5354,5355,5356,5357,5358,5359,5360,5361,5362,5363,5364,5365,5366,5367,5368,5369,5370,5371,5372,5373,5374,5375,5376,5377,5378,5379,5380,5381,5382,5383,5384,5385,5386,5387,5388,5389,5390,5391,5392,5393,5394,5395,5396,5397,5398,5399,5400,5401,5402,5403,5404,5405,5406,5407,5408,5409,5410,5411,5412,5413,5414,5415,5416,5417,5418,5419,5420,5421,5422,5423,5424,5425,5426,5427,5428,5429,5430,5431,5432,5433,5434,5435,5436,5437,5438,5439,5440,5441,5442,5443,5444,5445,5446,5447,5448,5449,5450,5451,5452,5453,5454,5455,5456,5457,5458,5459,5460,5461,5462,5463,5464,5465,5466,5467,5468,5469,5470,5471,5472,5473,5474,5475,5476,5477,5478,5479,5480,5481,5482,5483,5484,5485,5486,5487,5488,5489,5490,5491,5492,5493,5494,5495,5496,5497,5498,5499,5500,5501,5502,5503,5504,5505,5506,5507,5508,5509,5510,5511,5512,5513,5514,5515,5516,5517,5518,5519,5520,5521,5522,5523,5524,5525,5526,5527,5528,5529,5530,5531,5532,5533,5534,5535,5536,5537,5538,5539,5540,5541,5542,5543,5544,5545,5546,5547,5548,5549,5550,5551,5552,5553,5554,5555,5556,5557,5558,5559,5560,5561,5562,5563,5564,5565,5566,5567,5568,5569,5570,5571,5572,5573,5574,5575,5576,5577,5578,5579,5580,5581,5582,5583,5584,5585,5586,5587,5588,5589,5590,5591,5592,5593,5594,5595,5596,5597,5598,5599,5600,5601,5602,5603,5604,5605,5606,5607,5608,5609,5610,5611,5612,5613,5614,5615,5616,5617,5618,5619,5620,5621,5622,5623,5624,5625,5626,5627,5628,5629,5630,5631,5632,5633,5634,5635,5636,5637,5638,5639,5640,5641,5642,5643,5644,5645,5646,5647,5648,5649,5650,5651,5652,5653,5654,5655,5656,5657,5658,5659,5660,5661,5662,5663,5664,5665,5666,5667,5668,5669,5670,5671,5672,5673,5674,5675,5676,5677,5678,5679,5680,5681,5682,5683,5684,5685,5686,5687,5688,5689,5690,5691,5692,5693,5694,5695,5696,5697,5698,5699,5700,5701,5702,5703,5704,5705,5706,5707,5708,5709,5710,5711,5712,5713,5714,5715,5716,5717,5718,5719,5720,5721,5722,5723,5724,5725,5726,5727,5728,5729,5730,5731,5732,5733,5734,5735,5736,5737,5738,5739,5740,5741,5742,5743,5744,5745,5746,5747,5748,5749,5750,5751,5752,5753,5754,5755,5756,5757,5758,5759,5760,5761,5762,5763,5764,5765,5766,5767,5768,5769,5770,5771,5772,5773,5774,5775,5776,5777,5778,5779,5780,5781,5782,5783,5784,5785,5786,5787,5788,5789,5790,5791,5792,5793,5794,5795,5796,5797,5798,5799,5800,5801,5802,5803,5804,5805,5806,5807,5808,5809,5810,5811,5812,5813,5814,5815,5816,5817,5818,5819,5820,5821,5822,5823,5824,5825,5826,5827,5828,5829,5830,5831,5832,5833,5834,5835,5836,5837,5838,5839,5840,5841,5842,5843,5844,5845,5846,5847,5848,5849,5850,5851,5852,5853,5854,5855,5856,5857,5858,5859,5860,5861,5862,5863,5864,5865,5866,5867,5868,5869,5870,5871,5872,5873,5874,5875,5876,5877,5878,5879,5880,5881,5882,5883,5884,5885,5886,5887,5888,5889,5890,5891,5892,5893,5894,5895,5896,5897,5898,5899,5900,5901,5902,5903,5904,5905,5906,5907,5908,5909,5910,5911,5912,5913,5914,5915,5916,5917,5918,5919,5920,5921,5922,5923,5924,5925,5926,5927,5928,5929,5930,5931,5932,5933,5934,5935,5936,5937,5938,5939,5940,5941,5942,5943,5944,5945,5946,5947,5948,5949,5950,5951,5952,5953,5954,5955,5956,5957,5958,5959,5960,5961,5962,5963,5964,5965,5966,5967,5968,5969,5970,5971,5972,5973,5974,5975,5976,5977,5978,5979,5980,5981,5982,5983,5984,5985,5986,5987,5988,5989,5990,5991,5992,5993,5994,5995,5996,5997,5998,5999,6000,6001,6002,6003,6004,6005,6006,6007,6008,6009,6010,6011,6012,6013,6014,6015,6016,6017,6018,6019,6020,6021,6022,6023,6024,6025,6026,6027,6028,6029,6030,6031,6032,6033,6034,6035,6036,6037,6038,6039,6040,6041,6042,6043,6044,6045,6046,6047,6048,6049,6050,6051,6052,6053,6054,6055,6056,6057,6058,6059,6060,6061,6062,6063,6064,6065,6066,6067,6068,6069,6070,6071,6072,6073,6074,6075,6076,6077,6078,6079,6080,6081,6082,6083,6084,6085,6086,6087,6088,6089,6090,6091,6092,6093,6094,6095,6096,6097,6098,6099,6100,6101,6102,6103,6104,6105,6106,6107,6108,6109,6110,6111,6112,6113,6114,6115,6116,6117,6118,6119,6120,6121,6122,6123,6124,6125,6126,6127,6128,6129,6130,6131,6132,6133,6134,6135,6136,6137,6138,6139,6140,6141,6142,6143,6144,6145,6146,6147,6148,6149,6150,6151,6152,6153,6154,6155,6156,6157,6158,6159,6160,6161,6162,6163,6164,6165,6166,6167,6168,6169,6170,6171,6172,6173,6174,6175,6176,6177,6178,6179,6180,6181,6182,6183,6184,6185,6186,6187,6188,6189,6190,6191,6192,6193,6194,6195,6196,6197,6198,6199,6200,6201,6202,6203,6204,6205,6206,6207,6208,6209,6210,6211,6212,6213,6214,6215,6216,6217,6218,6219,6220,6221,6222,6223,6224,6225,6226,6227,6228,6229,6230,6231,6232,6233,6234,6235,6236,6237,6238,6239,6240,6241,6242,6243,6244,6245,6246,6247,6248,6249,6250,6251,6252,6253,6254,6255,6256,6257,6258,6259,6260,6261,6262,6263,6264,6265,6266,6267,6268,6269,6270,6271,6272,6273,6274,6275,6276,6277,6278,6279,6280,6281,6282,6283,6284,6285,6286,6287,6288,6289,6290,6291,6292,6293,6294,6295,6296,6297,6298,6299,6300,6301,6302,6303,6304,6305,6306,6307,6308,6309,6310,6311,6312,6313,6314,6315,6316,6317,6318,6319,6320,6321,6322,6323,6324,6325,6326,6327,6328,6329,6330,6331,6332,6333,6334,6335,6336,6337,6338,6339,6340,6341,6342,6343,6344,6345,6346,6347,6348,6349,6350,6351,6352,6353,6354,6355,6356,6357,6358,6359,6360,6361,6362,6363,6364,6365,6366,6367,6368,6369,6370,6371,6372,6373,6374,6375,6376,6377,6378,6379,6380,6381,6382,6383,6384,6385,6386,6387,6388,6389,6390,6391,6392,6393,6394,6395,6396,6397,6398,6399,6400,6401,6402,6403,6404,6405,6406,6407,6408,6409,6410,6411,6412,6413,6414,6415,6416,6417,6418,6419,6420,6421,6422,6423,6424,6425,6426,6427,6428,6429,6430,6431,6432,6433,6434,6435,6436,6437,6438,6439,6440,6441,6442,6443,6444,6445,6446,6447,6448,6449,6450,6451,6452,6453,6454,6455,6456,6457,6458,6459,6460,6461,6462,6463,6464,6465,6466,6467,6468,6469,6470,6471,6472,6473,6474,6475,6476,6477,6478,6479,6480,6481,6482,6483,6484,6485,6486,6487,6488,6489,6490,6491,6492,6493,6494,6495,6496,6497,6498,6499,6500,6501,6502,6503,6504,6505,6506,6507,6508,6509,6510,6511,6512,6513,6514,6515,6516,6517,6518,6519,6520,6521,6522,6523,6524,6525,6526,6527,6528,6529,6530,6531,6532,6533,6534,6535,6536,6537,6538,6539,6540,6541,6542,6543,6544,6545,6546,6547,6548,6549,6550,6551,6552,6553,6554,6555,6556,6557,6558,6559,6560,6561,6562,6563,6564,6565,6566,6567,6568,6569,6570,6571,6572,6573,6574,6575,6576,6577,6578,6579,6580,6581,6582,6583,6584,6585,6586,6587,6588,6589,6590,6591,6592,6593,6594,6595,6596,6597,6598,6599,6600,6601,6602,6603,6604,6605,6606,6607,6608,6609,6610,6611,6612,6613,6614,6615,6616,6617,6618,6619,6620,6621,6622,6623,6624,6625,6626,6627,6628,6629,6630,6631,6632,6633,6634,6635,6636,6637,6638,6639,6640,6641,6642,6643,6644,6645,6646,6647,6648,6649,6650,6651,6652,6653,6654,6655,6656,6657,6658,6659,6660,6661,6662,6663,6664,6665,6666,6667,6668,6669,6670,6671,6672,6673,6674,6675,6676,6677,6678,6679,6680,6681,6682,6683,6684,6685,6686,6687,6688,6689,6690,6691,6692,6693,6694,6695,6696,6697,6698,6699,6700,6701,6702,6703,6704,6705,6706,6707,6708,6709,6710,6711,6712,6713,6714,6715,6716,6717,6718,6719,6720,6721,6722,6723,6724,6725,6726,6727,6728,6729,6730,6731,6732,6733,6734,6735,6736,6737,6738,6739,6740,6741,6742,6743,6744,6745,6746,6747,6748,6749,6750,6751,6752,6753,6754,6755,6756,6757,6758,6759,6760,6761,6762,6763,6764,6765,6766,6767,6768,6769,6770,6771,6772,6773,6774,6775,6776,6777,6778,6779,6780,6781,6782,6783,6784,6785,6786,6787,6788,6789,6790,6791,6792,6793,6794,6795,6796,6797,6798,6799,6800,6801,6802,6803,6804,6805,6806,6807,6808,6809,6810,6811,6812,6813,6814,6815,6816,6817,6818,6819,6820,6821,6822,6823,6824,6825,6826,6827,6828,6829,6830,6831,6832,6833,6834,6835,6836,6837,6838,6839,6840,6841,6842,6843,6844,6845,6846,6847,6848,6849,6850,6851,6852,6853,6854,6855,6856,6857,6858,6859,6860,6861,6862,6863,6864,6865,6866,6867,6868,6869,6870,6871,6872,6873,6874,6875,6876,6877,6878,6879,6880,6881,6882,6883,6884,6885,6886,6887,6888,6889,6890,6891,6892,6893,6894,6895,6896,6897,6898,6899,6900,6901,6902,6903,6904,6905,6906,6907,6908,6909,6910,6911,6912,6913,6914,6915,6916,6917,6918,6919,6920,6921,6922,6923,6924,6925,6926,6927,6928,6929,6930,6931,6932,6933,6934,6935,6936,6937,6938,6939,6940,6941,6942,6943,6944,6945,6946,6947,6948,6949,6950,6951,6952,6953,6954,6955,6956,6957,6958,6959,6960,6961,6962,6963,6964,6965,6966,6967,6968,6969,6970,6971,6972,6973,6974,6975,6976,6977,6978,6979,6980,6981,6982,6983,6984,6985,6986,6987,6988,6989,6990,6991,6992,6993,6994,6995,6996,6997,6998,6999,7000,7001,7002,7003,7004,7005,7006,7007,7008,7009,7010,7011,7012,7013,7014,7015,7016,7017,7018,7019,7020,7021,7022,7023,7024,7025,7026,7027,7028,7029,7030,7031,7032,7033,7034,7035,7036,7037,7038,7039,7040,7041,7042,7043,7044,7045,7046,7047,7048,7049,7050,7051,7052,7053,7054,7055,7056,7057,7058,7059,7060,7061,7062,7063,7064,7065,7066,7067,7068,7069,7070,7071,7072,7073,7074,7075,7076,7077,7078,7079,7080,7081,7082,7083,7084,7085,7086,7087,7088,7089,7090,7091,7092,7093,7094,7095,7096,7097,7098,7099,7100,7101,7102,7103,7104,7105,7106,7107,7108,7109,7110,7111,7112,7113,7114,7115,7116,7117,7118,7119,7120,7121,7122,7123,7124,7125,7126,7127,7128,7129,7130,7131,7132,7133,7134,7135,7136,7137,7138,7139,7140,7141,7142,7143,7144,7145,7146,7147,7148,7149,7150,7151,7152,7153,7154,7155,7156,7157,7158,7159,7160,7161,7162,7163,7164,7165,7166,7167,7168,7169,7170,7171,7172,7173,7174,7175,7176,7177,7178,7179,7180,7181,7182,7183,7184,7185,7186,7187,7188,7189,7190,7191,7192,7193,7194,7195,7196,7197,7198,7199,7200,7201,7202,7203,7204,7205,7206,7207,7208,7209,7210,7211,7212,7213,7214,7215,7216,7217,7218,7219,7220,7221,7222,7223,7224,7225,7226,7227,7228,7229,7230,7231,7232,7233,7234,7235,7236,7237,7238,7239,7240,7241,7242,7243,7244,7245,7246,7247,7248,7249,7250,7251,7252,7253,7254,7255,7256,7257,7258,7259,7260,7261,7262,7263,7264,7265,7266,7267,7268,7269,7270,7271,7272,7273,7274,7275,7276,7277,7278,7279,7280,7281,7282,7283,7284,7285,7286,7287,7288,7289,7290,7291,7292,7293,7294,7295,7296,7297,7298,7299,7300,7301,7302,7303,7304,7305,7306,7307,7308,7309,7310,7311,7312,7313,7314,7315,7316,7317,7318,7319,7320,7321,7322,7323,7324,7325,7326,7327,7328,7329,7330,7331,7332,7333,7334,7335,7336,7337,7338,7339,7340,7341,7342,7343,7344,7345,7346,7347,7348,7349,7350,7351,7352,7353,7354,7355,7356,7357,7358,7359,7360,7361,7362,7363,7364,7365,7366,7367,7368,7369,7370,7371,7372,7373,7374,7375,7376,7377,7378,7379,7380,7381,7382,7383,7384,7385,7386,7387,7388,7389,7390,7391,7392,7393,7394,7395,7396,7397,7398,7399,7400,7401,7402,7403,7404,7405,7406,7407,7408,7409,7410,7411,7412,7413,7414,7415,7416,7417,7418,7419,7420,7421,7422,7423,7424,7425,7426,7427,7428,7429,7430,7431,7432,7433,7434,7435,7436,7437,7438,7439,7440,7441,7442,7443,7444,7445,7446,7447,7448,7449,7450,7451,7452,7453,7454,7455,7456,7457,7458,7459,7460,7461,7462,7463,7464,7465,7466,7467,7468,7469,7470,7471,7472,7473,7474,7475,7476,7477,7478,7479,7480,7481,7482,7483,7484,7485,7486,7487,7488,7489,7490,7491,7492,7493,7494,7495,7496,7497,7498,7499,7500,7501,7502,7503,7504,7505,7506,7507,7508,7509,7510,7511,7512,7513,7514,7515,7516,7517,7518,7519,7520,7521,7522,7523,7524,7525,7526,7527,7528,7529,7530,7531,7532,7533,7534,7535,7536,7537,7538,7539,7540,7541,7542,7543,7544,7545,7546,7547,7548,7549,7550,7551,7552,7553,7554,7555,7556,7557,7558,7559,7560,7561,7562,7563,7564,7565,7566,7567,7568,7569,7570,7571,7572,7573,7574,7575,7576,7577,7578,7579,7580,7581,7582,7583,7584,7585,7586,7587,7588,7589,7590,7591,7592,7593,7594,7595,7596,7597,7598,7599,7600,7601,7602,7603,7604,7605,7606,7607,7608,7609,7610,7611,7612,7613,7614,7615,7616,7617,7618,7619,7620,7621,7622,7623,7624,7625,7626,7627,7628,7629,7630,7631,7632,7633,7634,7635,7636,7637,7638,7639,7640,7641,7642,7643,7644,7645,7646,7647,7648,7649,7650,7651,7652,7653,7654,7655,7656,7657,7658,7659,7660,7661,7662,7663,7664,7665,7666,7667,7668,7669,7670,7671,7672,7673,7674,7675,7676,7677,7678,7679,7680,7681,7682,7683,7684,7685,7686,7687,7688,7689,7690,7691,7692,7693,7694,7695,7696,7697,7698,7699,7700,7701,7702,7703,7704,7705,7706,7707,7708,7709,7710,7711,7712,7713,7714,7715,7716,7717,7718,7719,7720,7721,7722,7723,7724,7725,7726,7727,7728,7729,7730,7731,7732,7733,7734,7735,7736,7737,7738,7739,7740,7741,7742,7743,7744,7745,7746,7747,7748,7749,7750,7751,7752,7753,7754,7755,7756,7757,7758,7759,7760,7761,7762,7763,7764,7765,7766,7767,7768,7769,7770,7771,7772,7773,7774,7775,7776,7777,7778,7779,7780,7781,7782,7783,7784,7785,7786,7787,7788,7789,7790,7791,7792,7793,7794,7795,7796,7797,7798,7799,7800,7801,7802,7803,7804,7805,7806,7807,7808,7809,7810,7811,7812,7813,7814,7815,7816,7817,7818,7819,7820,7821,7822,7823,7824,7825,7826,7827,7828,7829,7830,7831,7832,7833,7834,7835,7836,7837,7838,7839,7840,7841,7842,7843,7844,7845,7846,7847,7848,7849,7850,7851,7852,7853,7854,7855,7856,7857,7858,7859,7860,7861,7862,7863,7864,7865,7866,7867,7868,7869,7870,7871,7872,7873,7874,7875,7876,7877,7878,7879,7880,7881,7882,7883,7884,7885,7886,7887,7888,7889,7890,7891,7892,7893,7894,7895,7896,7897,7898,7899,7900,7901,7902,7903,7904,7905,7906,7907,7908,7909,7910,7911,7912,7913,7914,7915,7916,7917,7918,7919,7920,7921,7922,7923,7924,7925,7926,7927,7928,7929,7930,7931,7932,7933,7934,7935,7936,7937,7938,7939,7940,7941,7942,7943,7944,7945,7946,7947,7948,7949,7950,7951,7952,7953,7954,7955,7956,7957,7958,7959,7960,7961,7962,7963,7964,7965,7966,7967,7968,7969,7970,7971,7972,7973,7974,7975,7976,7977,7978,7979,7980,7981,7982,7983,7984,7985,7986,7987,7988,7989,7990,7991,7992,7993,7994,7995,7996,7997,7998,7999,8000,8001,8002,8003,8004,8005,8006,8007,8008,8009,8010,8011,8012,8013,8014,8015,8016,8017,8018,8019,8020,8021,8022,8023,8024,8025,8026,8027,8028,8029,8030,8031,8032,8033,8034,8035,8036,8037,8038,8039,8040,8041,8042,8043,8044,8045,8046,8047,8048,8049,8050,8051,8052,8053,8054,8055,8056,8057,8058,8059,8060,8061,8062,8063,8064,8065,8066,8067,8068,8069,8070,8071,8072,8073,8074,8075,8076,8077,8078,8079,8080,8081,8082,8083,8084,8085,8086,8087,8088,8089,8090,8091,8092,8093,8094,8095,8096,8097,8098,8099,8100,8101,8102,8103,8104,8105,8106,8107,8108,8109,8110,8111,8112,8113,8114,8115,8116,8117,8118,8119,8120,8121,8122,8123,8124,8125,8126,8127,8128,8129,8130,8131,8132,8133,8134,8135,8136,8137,8138,8139,8140,8141,8142,8143,8144,8145,8146,8147,8148,8149,8150,8151,8152,8153,8154,8155,8156,8157,8158,8159,8160,8161,8162,8163,8164,8165,8166,8167,8168,8169,8170,8171,8172,8173,8174,8175,8176,8177,8178,8179,8180,8181,8182,8183,8184,8185,8186,8187,8188,8189,8190,8191,8192,8193,8194,8195,8196,8197,8198,8199,8200,8201,8202,8203,8204,8205,8206,8207,8208,8209,8210,8211,8212,8213,8214,8215,8216,8217,8218,8219,8220,8221,8222,8223,8224,8225,8226,8227,8228,8229,8230,8231,8232,8233,8234,8235,8236,8237,8238,8239,8240,8241,8242,8243,8244,8245,8246,8247,8248,8249,8250,8251,8252,8253,8254,8255,8256,8257,8258,8259,8260,8261,8262,8263,8264,8265,8266,8267,8268,8269,8270,8271,8272,8273,8274,8275,8276,8277,8278,8279,8280,8281,8282,8283,8284,8285,8286,8287,8288,8289,8290,8291,8292,8293,8294,8295,8296,8297,8298,8299,8300,8301,8302,8303,8304,8305,8306,8307,8308,8309,8310,8311,8312,8313,8314,8315,8316,8317,8318,8319,8320,8321,8322,8323,8324,8325,8326,8327,8328,8329,8330,8331,8332,8333,8334,8335,8336,8337,8338,8339,8340,8341,8342,8343,8344,8345,8346,8347,8348,8349,8350,8351,8352,8353,8354,8355,8356,8357,8358,8359,8360,8361,8362,8363,8364,8365,8366,8367,8368,8369,8370,8371,8372,8373,8374,8375,8376,8377,8378,8379,8380,8381,8382,8383,8384,8385,8386,8387,8388,8389,8390,8391,8392,8393,8394,8395,8396,8397,8398,8399,8400,8401,8402,8403,8404,8405,8406,8407,8408,8409,8410,8411,8412,8413,8414,8415,8416,8417,8418,8419,8420,8421,8422,8423,8424,8425,8426,8427,8428,8429,8430,8431,8432,8433,8434,8435,8436,8437,8438,8439,8440,8441,8442,8443,8444,8445,8446,8447,8448,8449,8450,8451,8452,8453,8454,8455,8456,8457,8458,8459,8460,8461,8462,8463,8464,8465,8466,8467,8468,8469,8470,8471,8472,8473,8474,8475,8476,8477,8478,8479,8480,8481,8482,8483,8484,8485,8486,8487,8488,8489,8490,8491,8492,8493,8494,8495,8496,8497,8498,8499,8500,8501,8502,8503,8504,8505,8506,8507,8508,8509,8510,8511,8512,8513,8514,8515,8516,8517,8518,8519,8520,8521,8522,8523,8524,8525,8526,8527,8528,8529,8530,8531,8532,8533,8534,8535,8536,8537,8538,8539,8540,8541,8542,8543,8544,8545,8546,8547,8548,8549,8550,8551,8552,8553,8554,8555,8556,8557,8558,8559,8560,8561,8562,8563,8564,8565,8566,8567,8568,8569,8570,8571,8572,8573,8574,8575,8576,8577,8578,8579,8580,8581,8582,8583,8584,8585,8586,8587,8588,8589,8590,8591,8592,8593,8594,8595,8596,8597,8598,8599,8600,8601,8602,8603,8604,8605,8606,8607,8608,8609,8610,8611,8612,8613,8614,8615,8616,8617,8618,8619,8620,8621,8622,8623,8624,8625,8626,8627,8628,8629,8630,8631,8632,8633,8634,8635,8636,8637,8638,8639,8640,8641,8642,8643,8644,8645,8646,8647,8648,8649,8650,8651,8652,8653,8654,8655,8656,8657,8658,8659,8660,8661,8662,8663,8664,8665,8666,8667,8668,8669,8670,8671,8672,8673,8674,8675,8676,8677,8678,8679,8680,8681,8682,8683,8684,8685,8686,8687,8688,8689,8690,8691,8692,8693,8694,8695,8696,8697,8698,8699,8700,8701,8702,8703,8704,8705,8706,8707,8708,8709,8710,8711,8712,8713,8714,8715,8716,8717,8718,8719,8720,8721,8722,8723,8724,8725,8726,8727,8728,8729,8730,8731,8732,8733,8734,8735,8736,8737,8738,8739,8740,8741,8742,8743,8744,8745,8746,8747,8748,8749,8750,8751,8752,8753,8754,8755,8756,8757,8758,8759,8760,8761,8762,8763,8764,8765,8766,8767,8768,8769,8770,8771,8772,8773,8774,8775,8776,8777,8778,8779,8780,8781,8782,8783,8784,8785,8786,8787,8788,8789,8790,8791,8792,8793,8794,8795,8796,8797,8798,8799,8800,8801,8802,8803,8804,8805,8806,8807,8808,8809,8810,8811,8812,8813,8814,8815,8816,8817,8818,8819,8820,8821,8822,8823,8824,8825,8826,8827,8828,8829,8830,8831,8832,8833,8834,8835,8836,8837,8838,8839,8840,8841,8842,8843,8844,8845,8846,8847,8848,8849,8850,8851,8852,8853,8854,8855,8856,8857,8858,8859,8860,8861,8862,8863,8864,8865,8866,8867,8868,8869,8870,8871,8872,8873,8874,8875,8876,8877,8878,8879,8880,8881,8882,8883,8884,8885,8886,8887,8888,8889,8890,8891,8892,8893,8894,8895,8896,8897,8898,8899,8900,8901,8902,8903,8904,8905,8906,8907,8908,8909,8910,8911,8912,8913,8914,8915,8916,8917,8918,8919,8920,8921,8922,8923,8924,8925,8926,8927,8928,8929,8930,8931,8932,8933,8934,8935,8936,8937,8938,8939,8940,8941,8942,8943,8944,8945,8946,8947,8948,8949,8950,8951,8952,8953,8954,8955,8956,8957,8958,8959,8960,8961,8962,8963,8964,8965,8966,8967,8968,8969,8970,8971,8972,8973,8974,8975,8976,8977,8978,8979,8980,8981,8982,8983,8984,8985,8986,8987,8988,8989,8990,8991,8992,8993,8994,8995,8996,8997,8998,8999,9000,9001,9002,9003,9004,9005,9006,9007,9008,9009,9010,9011,9012,9013,9014,9015,9016,9017,9018,9019,9020,9021,9022,9023,9024,9025,9026,9027,9028,9029,9030,9031,9032,9033,9034,9035,9036,9037,9038,9039,9040,9041,9042,9043,9044,9045,9046,9047,9048,9049,9050,9051,9052,9053,9054,9055,9056,9057,9058,9059,9060,9061,9062,9063,9064,9065,9066,9067,9068,9069,9070,9071,9072,9073,9074,9075,9076,9077,9078,9079,9080,9081,9082,9083,9084,9085,9086,9087,9088,9089,9090,9091,9092,9093,9094,9095,9096,9097,9098,9099,9100,9101,9102,9103,9104,9105,9106,9107,9108,9109,9110,9111,9112,9113,9114,9115,9116,9117,9118,9119,9120,9121,9122,9123,9124,9125,9126,9127,9128,9129,9130,9131,9132,9133,9134,9135,9136,9137,9138,9139,9140,9141,9142,9143,9144,9145,9146,9147,9148,9149,9150,9151,9152,9153,9154,9155,9156,9157,9158,9159,9160,9161,9162,9163,9164,9165,9166,9167,9168,9169,9170,9171,9172,9173,9174,9175,9176,9177,9178,9179,9180,9181,9182,9183,9184,9185,9186,9187,9188,9189,9190,9191,9192,9193,9194,9195,9196,9197,9198,9199,9200,9201,9202,9203,9204,9205,9206,9207,9208,9209,9210,9211,9212,9213,9214,9215,9216,9217,9218,9219,9220,9221,9222,9223,9224,9225,9226,9227,9228,9229,9230,9231,9232,9233,9234,9235,9236,9237,9238,9239,9240,9241,9242,9243,9244,9245,9246,9247,9248,9249,9250,9251,9252,9253,9254,9255,9256,9257,9258,9259,9260,9261,9262,9263,9264,9265,9266,9267,9268,9269,9270,9271,9272,9273,9274,9275,9276,9277,9278,9279,9280,9281,9282,9283,9284,9285,9286,9287,9288,9289,9290,9291,9292,9293,9294,9295,9296,9297,9298,9299,9300,9301,9302,9303,9304,9305,9306,9307,9308,9309,9310,9311,9312,9313,9314,9315,9316,9317,9318,9319,9320,9321,9322,9323,9324,9325,9326,9327,9328,9329,9330,9331,9332,9333,9334,9335,9336,9337,9338,9339,9340,9341,9342,9343,9344,9345,9346,9347,9348,9349,9350,9351,9352,9353,9354,9355,9356,9357,9358,9359,9360,9361,9362,9363,9364,9365,9366,9367,9368,9369,9370,9371,9372,9373,9374,9375,9376,9377,9378,9379,9380,9381,9382,9383,9384,9385,9386,9387,9388,9389,9390,9391,9392,9393,9394,9395,9396,9397,9398,9399,9400,9401,9402,9403,9404,9405,9406,9407,9408,9409,9410,9411,9412,9413,9414,9415,9416,9417,9418,9419,9420,9421,9422,9423,9424,9425,9426,9427,9428,9429,9430,9431,9432,9433,9434,9435,9436,9437,9438,9439,9440,9441,9442,9443,9444,9445,9446,9447,9448,9449,9450,9451,9452,9453,9454,9455,9456,9457,9458,9459,9460,9461,9462,9463,9464,9465,9466,9467,9468,9469,9470,9471,9472,9473,9474,9475,9476,9477,9478,9479,9480,9481,9482,9483,9484,9485,9486,9487,9488,9489,9490,9491,9492,9493,9494,9495,9496,9497,9498,9499,9500,9501,9502,9503,9504,9505,9506,9507,9508,9509,9510,9511,9512,9513,9514,9515,9516,9517,9518,9519,9520,9521,9522,9523,9524,9525,9526,9527,9528,9529,9530,9531,9532,9533,9534,9535,9536,9537,9538,9539,9540,9541,9542,9543,9544,9545,9546,9547,9548,9549,9550,9551,9552,9553,9554,9555,9556,9557,9558,9559,9560,9561,9562,9563,9564,9565,9566,9567,9568,9569,9570,9571,9572,9573,9574,9575,9576,9577,9578,9579,9580,9581,9582,9583,9584,9585,9586,9587,9588,9589,9590,9591,9592,9593,9594,9595,9596,9597,9598,9599,9600,9601,9602,9603,9604,9605,9606,9607,9608,9609,9610,9611,9612,9613,9614,9615,9616,9617,9618,9619,9620,9621,9622,9623,9624,9625,9626,9627,9628,9629,9630,9631,9632,9633,9634,9635,9636,9637,9638,9639,9640,9641,9642,9643,9644,9645,9646,9647,9648,9649,9650,9651,9652,9653,9654,9655,9656,9657,9658,9659,9660,9661,9662,9663,9664,9665,9666,9667,9668,9669,9670,9671,9672,9673,9674,9675,9676,9677,9678,9679,9680,9681,9682,9683,9684,9685,9686,9687,9688,9689,9690,9691,9692,9693,9694,9695,9696,9697,9698,9699,9700,9701,9702,9703,9704,9705,9706,9707,9708,9709,9710,9711,9712,9713,9714,9715,9716,9717,9718,9719,9720,9721,9722,9723,9724,9725,9726,9727,9728,9729,9730,9731,9732,9733,9734,9735,9736,9737,9738,9739,9740,9741,9742,9743,9744,9745,9746,9747,9748,9749,9750,9751,9752,9753,9754,9755,9756,9757,9758,9759,9760,9761,9762,9763,9764,9765,9766,9767,9768,9769,9770,9771,9772,9773,9774,9775,9776,9777,9778,9779,9780,9781,9782,9783,9784,9785,9786,9787,9788,9789,9790,9791,9792,9793,9794,9795,9796,9797,9798,9799,9800,9801,9802,9803,9804,9805,9806,9807,9808,9809,9810,9811,9812,9813,9814,9815,9816,9817,9818,9819,9820,9821,9822,9823,9824,9825,9826,9827,9828,9829,9830,9831,9832,9833,9834,9835,9836,9837,9838,9839,9840,9841,9842,9843,9844,9845,9846,9847,9848,9849,9850,9851,9852,9853,9854,9855,9856,9857,9858,9859,9860,9861,9862,9863,9864,9865,9866,9867,9868,9869,9870,9871,9872,9873,9874,9875,9876,9877,9878,9879,9880,9881,9882,9883,9884,9885,9886,9887,9888,9889,9890,9891,9892,9893,9894,9895,9896,9897,9898,9899,9900,9901,9902,9903,9904,9905,9906,9907,9908,9909,9910,9911,9912,9913,9914,9915,9916,9917,9918,9919,9920,9921,9922,9923,9924,9925,9926,9927,9928,9929,9930,9931,9932,9933,9934,9935,9936,9937,9938,9939,9940,9941,9942,9943,9944,9945,9946,9947,9948,9949,9950,9951,9952,9953,9954,9955,9956,9957,9958,9959,9960,9961,9962,9963,9964,9965,9966,9967,9968,9969,9970,9971,9972,9973,9974,9975,9976,9977,9978,9979,9980,9981,9982,9983,9984,9985,9986,9987,9988,9989,9990],\"xaxis\":\"x\",\"y\":[1327,942,793,640,607,560,558,533,507,498,485,480,479,452,450,428,390,376,347,342,338,320,319,291,290,289,287,278,268,264,260,258,255,252,249,247,243,241,239,236,236,221,215,203,201,193,191,182,178,175,174,171,171,169,165,161,158,156,154,153,153,152,152,148,147,145,143,143,139,139,136,135,133,132,130,128,125,125,125,125,124,121,121,120,120,120,119,119,118,118,117,116,116,114,113,111,111,110,110,109,109,108,107,107,107,105,105,105,104,104,104,101,101,101,101,100,100,99,99,99,98,98,98,98,96,96,96,95,95,95,94,94,94,94,93,93,92,92,92,91,91,91,90,90,90,90,90,89,89,89,89,88,88,87,87,87,87,87,86,86,85,83,83,83,83,82,82,82,82,81,80,79,79,79,78,78,77,77,77,77,77,77,76,75,75,75,75,74,74,74,73,73,73,72,72,71,71,71,71,71,71,70,70,70,70,69,69,69,69,69,68,68,68,68,68,68,67,67,67,66,66,66,66,66,66,65,65,65,65,64,64,64,64,64,63,63,63,62,62,62,62,62,62,62,62,62,61,61,61,61,61,61,61,60,60,60,60,59,58,58,58,57,56,56,56,55,55,55,55,55,55,54,54,54,54,53,53,53,52,52,52,52,52,52,51,51,50,50,50,50,49,49,49,49,49,49,49,49,49,49,49,48,48,48,48,47,47,47,47,47,47,47,47,47,47,46,46,46,46,46,46,46,46,46,46,45,45,45,45,45,44,44,44,44,44,44,44,43,43,43,43,43,43,43,42,42,42,42,42,42,42,42,42,42,42,41,41,41,41,41,41,41,41,41,41,41,41,41,41,41,40,40,40,40,40,40,40,40,40,40,39,39,39,39,39,39,39,39,39,39,38,38,38,38,38,38,38,38,38,38,38,38,38,38,38,38,38,38,38,38,38,38,38,37,37,37,37,37,37,36,36,36,36,36,36,36,36,36,36,36,35,35,35,35,35,35,35,35,35,35,34,34,34,34,34,34,34,34,34,34,34,34,34,34,34,33,33,33,33,33,33,33,33,33,33,33,33,33,33,33,32,32,32,32,32,32,32,32,32,32,32,32,32,32,32,32,32,32,32,32,32,32,32,31,31,31,31,31,31,31,31,31,31,31,31,30,30,30,30,30,30,30,30,30,30,30,30,30,30,30,30,30,30,29,29,29,29,29,29,29,29,29,29,29,29,28,28,28,28,28,28,28,28,28,28,28,28,28,28,28,27,27,27,27,27,27,27,27,27,27,27,27,27,27,27,27,27,27,26,26,26,26,26,26,26,26,26,26,26,26,26,26,26,26,26,26,26,26,26,26,26,26,26,25,25,25,25,25,25,25,25,25,25,25,25,25,25,25,25,25,25,25,25,25,25,25,24,24,24,24,24,24,24,24,24,24,24,24,24,24,24,24,24,24,24,23,23,23,23,23,23,23,23,23,23,23,23,23,23,23,23,23,23,23,23,23,23,23,23,23,23,23,23,23,23,22,22,22,22,22,22,22,22,22,22,22,22,22,22,22,22,22,22,22,22,22,22,22,22,22,22,22,22,22,22,22,22,22,22,21,21,21,21,21,21,21,21,21,21,21,21,21,21,21,21,21,21,21,21,21,21,21,21,20,20,20,20,20,20,20,20,20,20,20,20,20,20,20,20,20,20,20,20,20,20,20,20,20,20,20,20,20,20,20,20,20,20,20,20,20,19,19,19,19,19,19,19,19,19,19,19,19,19,19,19,19,19,19,19,19,19,19,19,19,19,19,19,19,19,19,19,19,19,19,19,19,19,19,19,19,19,19,18,18,18,18,18,18,18,18,18,18,18,18,18,18,18,18,18,18,18,18,18,18,18,18,18,18,18,18,18,18,18,18,18,18,18,18,18,18,18,18,18,18,18,18,18,18,17,17,17,17,17,17,17,17,17,17,17,17,17,17,17,17,17,17,17,17,17,17,17,17,17,17,17,17,17,17,17,17,17,17,17,17,17,17,17,17,17,17,17,17,17,17,17,17,17,17,17,17,17,17,16,16,16,16,16,16,16,16,16,16,16,16,16,16,16,16,16,16,16,16,16,16,16,16,16,16,16,16,16,16,16,16,16,16,16,16,16,16,16,16,16,16,16,16,16,16,16,16,16,15,15,15,15,15,15,15,15,15,15,15,15,15,15,15,15,15,15,15,15,15,15,15,15,15,15,15,15,15,15,15,15,15,15,15,15,15,15,15,15,15,15,15,15,15,15,15,15,15,15,15,15,15,15,15,15,15,15,15,15,15,15,15,15,15,15,15,14,14,14,14,14,14,14,14,14,14,14,14,14,14,14,14,14,14,14,14,14,14,14,14,14,14,14,14,14,14,14,14,14,14,14,14,14,14,14,14,14,14,14,14,14,14,14,14,14,14,14,14,14,14,14,14,14,14,14,14,14,14,13,13,13,13,13,13,13,13,13,13,13,13,13,13,13,13,13,13,13,13,13,13,13,13,13,13,13,13,13,13,13,13,13,13,13,13,13,13,13,13,13,13,13,13,13,13,13,13,13,13,13,13,13,13,13,13,13,13,13,13,13,13,13,13,13,13,13,13,13,13,13,13,13,13,13,13,13,13,12,12,12,12,12,12,12,12,12,12,12,12,12,12,12,12,12,12,12,12,12,12,12,12,12,12,12,12,12,12,12,12,12,12,12,12,12,12,12,12,12,12,12,12,12,12,12,12,12,12,12,12,12,12,12,12,12,12,12,12,12,12,12,12,12,12,12,12,12,12,12,12,12,12,12,12,12,12,12,12,12,12,12,12,12,11,11,11,11,11,11,11,11,11,11,11,11,11,11,11,11,11,11,11,11,11,11,11,11,11,11,11,11,11,11,11,11,11,11,11,11,11,11,11,11,11,11,11,11,11,11,11,11,11,11,11,11,11,11,11,11,11,11,11,11,11,11,11,11,11,11,11,11,11,11,11,11,11,11,11,11,11,11,11,11,11,11,11,11,11,11,11,11,11,11,11,11,11,11,11,10,10,10,10,10,10,10,10,10,10,10,10,10,10,10,10,10,10,10,10,10,10,10,10,10,10,10,10,10,10,10,10,10,10,10,10,10,10,10,10,10,10,10,10,10,10,10,10,10,10,10,10,10,10,10,10,10,10,10,10,10,10,10,10,10,10,10,10,10,10,10,10,10,10,10,10,10,10,10,10,10,10,10,10,10,10,10,10,10,10,10,10,10,10,10,10,10,10,10,10,10,10,10,10,10,10,10,10,10,10,10,10,10,10,10,9,9,9,9,9,9,9,9,9,9,9,9,9,9,9,9,9,9,9,9,9,9,9,9,9,9,9,9,9,9,9,9,9,9,9,9,9,9,9,9,9,9,9,9,9,9,9,9,9,9,9,9,9,9,9,9,9,9,9,9,9,9,9,9,9,9,9,9,9,9,9,9,9,9,9,9,9,9,9,9,9,9,9,9,9,9,9,9,9,9,9,9,9,9,9,9,9,9,9,9,9,9,9,9,9,9,9,9,9,9,9,9,9,9,9,9,9,9,9,9,9,9,9,9,9,9,9,9,8,8,8,8,8,8,8,8,8,8,8,8,8,8,8,8,8,8,8,8,8,8,8,8,8,8,8,8,8,8,8,8,8,8,8,8,8,8,8,8,8,8,8,8,8,8,8,8,8,8,8,8,8,8,8,8,8,8,8,8,8,8,8,8,8,8,8,8,8,8,8,8,8,8,8,8,8,8,8,8,8,8,8,8,8,8,8,8,8,8,8,8,8,8,8,8,8,8,8,8,8,8,8,8,8,8,8,8,8,8,8,8,8,8,8,8,8,8,8,8,8,8,8,8,8,8,8,8,8,8,8,8,8,8,8,8,8,8,8,8,8,8,8,8,8,8,8,8,8,8,8,8,8,8,8,8,8,8,8,8,8,8,7,7,7,7,7,7,7,7,7,7,7,7,7,7,7,7,7,7,7,7,7,7,7,7,7,7,7,7,7,7,7,7,7,7,7,7,7,7,7,7,7,7,7,7,7,7,7,7,7,7,7,7,7,7,7,7,7,7,7,7,7,7,7,7,7,7,7,7,7,7,7,7,7,7,7,7,7,7,7,7,7,7,7,7,7,7,7,7,7,7,7,7,7,7,7,7,7,7,7,7,7,7,7,7,7,7,7,7,7,7,7,7,7,7,7,7,7,7,7,7,7,7,7,7,7,7,7,7,7,7,7,7,7,7,7,7,7,7,7,7,7,7,7,7,7,7,7,7,7,7,7,7,7,7,7,7,7,7,7,7,7,7,7,7,7,7,7,7,7,7,7,7,7,7,7,7,7,7,7,7,7,7,7,7,7,7,7,7,7,7,7,7,7,7,7,7,6,6,6,6,6,6,6,6,6,6,6,6,6,6,6,6,6,6,6,6,6,6,6,6,6,6,6,6,6,6,6,6,6,6,6,6,6,6,6,6,6,6,6,6,6,6,6,6,6,6,6,6,6,6,6,6,6,6,6,6,6,6,6,6,6,6,6,6,6,6,6,6,6,6,6,6,6,6,6,6,6,6,6,6,6,6,6,6,6,6,6,6,6,6,6,6,6,6,6,6,6,6,6,6,6,6,6,6,6,6,6,6,6,6,6,6,6,6,6,6,6,6,6,6,6,6,6,6,6,6,6,6,6,6,6,6,6,6,6,6,6,6,6,6,6,6,6,6,6,6,6,6,6,6,6,6,6,6,6,6,6,6,6,6,6,6,6,6,6,6,6,6,6,6,6,6,6,6,6,6,6,6,6,6,6,6,6,6,6,6,6,6,6,6,6,6,6,6,6,6,6,6,6,6,6,6,6,6,6,6,6,6,6,6,6,6,6,6,6,6,6,6,6,6,6,6,6,6,6,6,6,6,6,6,6,6,6,6,6,6,6,6,6,6,6,6,6,6,6,6,6,6,6,6,6,6,6,6,6,5,5,5,5,5,5,5,5,5,5,5,5,5,5,5,5,5,5,5,5,5,5,5,5,5,5,5,5,5,5,5,5,5,5,5,5,5,5,5,5,5,5,5,5,5,5,5,5,5,5,5,5,5,5,5,5,5,5,5,5,5,5,5,5,5,5,5,5,5,5,5,5,5,5,5,5,5,5,5,5,5,5,5,5,5,5,5,5,5,5,5,5,5,5,5,5,5,5,5,5,5,5,5,5,5,5,5,5,5,5,5,5,5,5,5,5,5,5,5,5,5,5,5,5,5,5,5,5,5,5,5,5,5,5,5,5,5,5,5,5,5,5,5,5,5,5,5,5,5,5,5,5,5,5,5,5,5,5,5,5,5,5,5,5,5,5,5,5,5,5,5,5,5,5,5,5,5,5,5,5,5,5,5,5,5,5,5,5,5,5,5,5,5,5,5,5,5,5,5,5,5,5,5,5,5,5,5,5,5,5,5,5,5,5,5,5,5,5,5,5,5,5,5,5,5,5,5,5,5,5,5,5,5,5,5,5,5,5,5,5,5,5,5,5,5,5,5,5,5,5,5,5,5,5,5,5,5,5,5,5,5,5,5,5,5,5,5,5,5,5,5,5,5,5,5,5,5,5,5,5,5,5,5,5,5,5,5,5,5,5,5,5,5,5,5,5,5,5,5,5,5,5,5,5,5,5,5,5,5,5,5,5,5,5,5,5,5,5,5,5,5,5,5,5,5,5,5,5,5,5,5,5,5,5,5,5,5,4,4,4,4,4,4,4,4,4,4,4,4,4,4,4,4,4,4,4,4,4,4,4,4,4,4,4,4,4,4,4,4,4,4,4,4,4,4,4,4,4,4,4,4,4,4,4,4,4,4,4,4,4,4,4,4,4,4,4,4,4,4,4,4,4,4,4,4,4,4,4,4,4,4,4,4,4,4,4,4,4,4,4,4,4,4,4,4,4,4,4,4,4,4,4,4,4,4,4,4,4,4,4,4,4,4,4,4,4,4,4,4,4,4,4,4,4,4,4,4,4,4,4,4,4,4,4,4,4,4,4,4,4,4,4,4,4,4,4,4,4,4,4,4,4,4,4,4,4,4,4,4,4,4,4,4,4,4,4,4,4,4,4,4,4,4,4,4,4,4,4,4,4,4,4,4,4,4,4,4,4,4,4,4,4,4,4,4,4,4,4,4,4,4,4,4,4,4,4,4,4,4,4,4,4,4,4,4,4,4,4,4,4,4,4,4,4,4,4,4,4,4,4,4,4,4,4,4,4,4,4,4,4,4,4,4,4,4,4,4,4,4,4,4,4,4,4,4,4,4,4,4,4,4,4,4,4,4,4,4,4,4,4,4,4,4,4,4,4,4,4,4,4,4,4,4,4,4,4,4,4,4,4,4,4,4,4,4,4,4,4,4,4,4,4,4,4,4,4,4,4,4,4,4,4,4,4,4,4,4,4,4,4,4,4,4,4,4,4,4,4,4,4,4,4,4,4,4,4,4,4,4,4,4,4,4,4,4,4,4,4,4,4,4,4,4,4,4,4,4,4,4,4,4,4,4,4,4,4,4,4,4,4,4,4,4,4,4,4,4,4,4,4,4,4,4,4,4,4,4,4,4,4,4,4,4,4,4,4,4,4,4,4,4,4,4,4,4,4,4,4,4,4,4,4,4,4,4,4,4,4,4,4,4,4,4,4,4,4,4,4,4,4,4,4,4,4,4,4,4,4,4,4,4,4,4,4,4,4,4,4,4,4,4,4,4,4,4,3,3,3,3,3,3,3,3,3,3,3,3,3,3,3,3,3,3,3,3,3,3,3,3,3,3,3,3,3,3,3,3,3,3,3,3,3,3,3,3,3,3,3,3,3,3,3,3,3,3,3,3,3,3,3,3,3,3,3,3,3,3,3,3,3,3,3,3,3,3,3,3,3,3,3,3,3,3,3,3,3,3,3,3,3,3,3,3,3,3,3,3,3,3,3,3,3,3,3,3,3,3,3,3,3,3,3,3,3,3,3,3,3,3,3,3,3,3,3,3,3,3,3,3,3,3,3,3,3,3,3,3,3,3,3,3,3,3,3,3,3,3,3,3,3,3,3,3,3,3,3,3,3,3,3,3,3,3,3,3,3,3,3,3,3,3,3,3,3,3,3,3,3,3,3,3,3,3,3,3,3,3,3,3,3,3,3,3,3,3,3,3,3,3,3,3,3,3,3,3,3,3,3,3,3,3,3,3,3,3,3,3,3,3,3,3,3,3,3,3,3,3,3,3,3,3,3,3,3,3,3,3,3,3,3,3,3,3,3,3,3,3,3,3,3,3,3,3,3,3,3,3,3,3,3,3,3,3,3,3,3,3,3,3,3,3,3,3,3,3,3,3,3,3,3,3,3,3,3,3,3,3,3,3,3,3,3,3,3,3,3,3,3,3,3,3,3,3,3,3,3,3,3,3,3,3,3,3,3,3,3,3,3,3,3,3,3,3,3,3,3,3,3,3,3,3,3,3,3,3,3,3,3,3,3,3,3,3,3,3,3,3,3,3,3,3,3,3,3,3,3,3,3,3,3,3,3,3,3,3,3,3,3,3,3,3,3,3,3,3,3,3,3,3,3,3,3,3,3,3,3,3,3,3,3,3,3,3,3,3,3,3,3,3,3,3,3,3,3,3,3,3,3,3,3,3,3,3,3,3,3,3,3,3,3,3,3,3,3,3,3,3,3,3,3,3,3,3,3,3,3,3,3,3,3,3,3,3,3,3,3,3,3,3,3,3,3,3,3,3,3,3,3,3,3,3,3,3,3,3,3,3,3,3,3,3,3,3,3,3,3,3,3,3,3,3,3,3,3,3,3,3,3,3,3,3,3,3,3,3,3,3,3,3,3,3,3,3,3,3,3,3,3,3,3,3,3,3,3,3,3,3,3,3,3,3,3,3,3,3,3,3,3,3,3,3,3,3,3,3,3,3,3,3,3,3,3,3,3,3,3,3,3,3,3,3,3,3,3,3,3,3,3,3,3,3,3,3,3,3,3,3,3,3,3,3,3,3,3,3,3,3,3,3,3,3,3,3,3,3,3,3,3,3,3,3,3,3,3,3,3,3,3,3,3,3,3,3,3,3,3,3,3,3,3,3,3,3,3,3,3,3,3,3,3,3,3,3,3,3,3,3,3,3,3,3,3,3,3,3,3,3,3,3,3,3,3,3,3,3,3,3,3,3,3,3,3,3,3,3,3,3,3,3,3,3,3,3,3,3,3,3,3,3,3,3,3,3,3,3,3,3,3,3,3,3,3,3,3,3,3,3,3,3,3,3,3,3,3,3,3,3,3,3,3,3,3,3,3,3,3,3,3,3,3,3,3,3,3,3,3,3,3,3,3,3,3,3,3,3,3,3,3,3,3,3,3,3,3,3,3,3,3,3,3,3,3,3,3,2,2,2,2,2,2,2,2,2,2,2,2,2,2,2,2,2,2,2,2,2,2,2,2,2,2,2,2,2,2,2,2,2,2,2,2,2,2,2,2,2,2,2,2,2,2,2,2,2,2,2,2,2,2,2,2,2,2,2,2,2,2,2,2,2,2,2,2,2,2,2,2,2,2,2,2,2,2,2,2,2,2,2,2,2,2,2,2,2,2,2,2,2,2,2,2,2,2,2,2,2,2,2,2,2,2,2,2,2,2,2,2,2,2,2,2,2,2,2,2,2,2,2,2,2,2,2,2,2,2,2,2,2,2,2,2,2,2,2,2,2,2,2,2,2,2,2,2,2,2,2,2,2,2,2,2,2,2,2,2,2,2,2,2,2,2,2,2,2,2,2,2,2,2,2,2,2,2,2,2,2,2,2,2,2,2,2,2,2,2,2,2,2,2,2,2,2,2,2,2,2,2,2,2,2,2,2,2,2,2,2,2,2,2,2,2,2,2,2,2,2,2,2,2,2,2,2,2,2,2,2,2,2,2,2,2,2,2,2,2,2,2,2,2,2,2,2,2,2,2,2,2,2,2,2,2,2,2,2,2,2,2,2,2,2,2,2,2,2,2,2,2,2,2,2,2,2,2,2,2,2,2,2,2,2,2,2,2,2,2,2,2,2,2,2,2,2,2,2,2,2,2,2,2,2,2,2,2,2,2,2,2,2,2,2,2,2,2,2,2,2,2,2,2,2,2,2,2,2,2,2,2,2,2,2,2,2,2,2,2,2,2,2,2,2,2,2,2,2,2,2,2,2,2,2,2,2,2,2,2,2,2,2,2,2,2,2,2,2,2,2,2,2,2,2,2,2,2,2,2,2,2,2,2,2,2,2,2,2,2,2,2,2,2,2,2,2,2,2,2,2,2,2,2,2,2,2,2,2,2,2,2,2,2,2,2,2,2,2,2,2,2,2,2,2,2,2,2,2,2,2,2,2,2,2,2,2,2,2,2,2,2,2,2,2,2,2,2,2,2,2,2,2,2,2,2,2,2,2,2,2,2,2,2,2,2,2,2,2,2,2,2,2,2,2,2,2,2,2,2,2,2,2,2,2,2,2,2,2,2,2,2,2,2,2,2,2,2,2,2,2,2,2,2,2,2,2,2,2,2,2,2,2,2,2,2,2,2,2,2,2,2,2,2,2,2,2,2,2,2,2,2,2,2,2,2,2,2,2,2,2,2,2,2,2,2,2,2,2,2,2,2,2,2,2,2,2,2,2,2,2,2,2,2,2,2,2,2,2,2,2,2,2,2,2,2,2,2,2,2,2,2,2,2,2,2,2,2,2,2,2,2,2,2,2,2,2,2,2,2,2,2,2,2,2,2,2,2,2,2,2,2,2,2,2,2,2,2,2,2,2,2,2,2,2,2,2,2,2,2,2,2,2,2,2,2,2,2,2,2,2,2,2,2,2,2,2,2,2,2,2,2,2,2,2,2,2,2,2,2,2,2,2,2,2,2,2,2,2,2,2,2,2,2,2,2,2,2,2,2,2,2,2,2,2,2,2,2,2,2,2,2,2,2,2,2,2,2,2,2,2,2,2,2,2,2,2,2,2,2,2,2,2,2,2,2,2,2,2,2,2,2,2,2,2,2,2,2,2,2,2,2,2,2,2,2,2,2,2,2,2,2,2,2,2,2,2,2,2,2,2,2,2,2,2,2,2,2,2,2,2,2,2,2,2,2,2,2,2,2,2,2,2,2,2,2,2,2,2,2,2,2,2,2,2,2,2,2,2,2,2,2,2,2,2,2,2,2,2,2,2,2,2,2,2,2,2,2,2,2,2,2,2,2,2,2,2,2,2,2,2,2,2,2,2,2,2,2,2,2,2,2,2,2,2,2,2,2,2,2,2,2,2,2,2,2,2,2,2,2,2,2,2,2,2,2,2,2,2,2,2,2,2,2,2,2,2,2,2,2,2,2,2,2,2,2,2,2,2,2,2,2,2,2,2,2,2,2,2,2,2,2,2,2,2,2,2,2,2,2,2,2,2,2,2,2,2,2,2,2,2,2,2,2,2,2,2,2,2,2,2,2,2,2,2,2,2,2,2,2,2,2,2,2,2,2,2,2,2,2,2,2,2,2,2,2,2,2,2,2,2,2,2,2,2,2,2,2,2,2,2,2,2,2,2,2,2,2,2,2,2,2,2,2,2,2,2,2,2,2,2,2,2,2,2,2,2,2,2,2,2,2,2,2,2,2,2,2,2,2,2,2,2,2,2,2,2,2,2,2,2,2,2,2,2,2,2,2,2,2,2,2,2,2,2,2,2,2,2,2,2,2,2,2,2,2,2,2,2,2,2,2,2,2,2,2,2,2,2,2,2,2,2,2,2,2,2,2,2,2,2,2,2,2,2,2,2,2,2,2,2,2,2,2,2,2,2,2,2,2,2,2,2,2,2,2,2,2,2,2,2,2,2,2,2,2,2,2,2,2,2,2,2,2,2,2,2,2,2,2,2,2,2,2,2,2,2,2,2,2,2,2,2,2,2,2,2,2,2,2,2,2,2,2,2,2,2,2,2,2,2,2,2,2,2,2,2,2,2,2,2,2,2,2,2,2,2,2,2,2,2,2,2,2,2,2,2,2,2,2,2,2,2,2,2,2,2,2,2,2,2,2,2,2,2,2,2,2,2,2,2,2,2,2,2,2,2,2,2,2,2,2,2,2,2,2,2,2,2,2,2,2,2,2,2,2,2,2,2,2,2,2,2,2,2,2,2,2,2,2,2,2,2,2,2,2,2,2,2,2,2,2,2,2,2,2,2,2,2,2,2,2,2,2,2,2,2,2,2,2,2,2,2,2,2,2,2,2,2,2,2,2,2,2,2,2,2,2,2,2,2,2,2,2,2,2,2,2,2,2,2,2,2,2,2,2,2,2,2,2,2,2,2,2,2,2,2,2,2,2,2,2,2,2,2,2,2,2,2,2,2,2,2,2,2,2,2,2,2,2,2,2,2,2,2,2,2,2,2,2,2,2,2,2,2,2,2,2,2,2,2,2,2,2,2,2,2,2,2,2,2,2,2,2,2,2,2,2,2,2,2,2,2,2,2,2,2,2,2,2,2,2,2,2,2,2,2,2,2,2,2,2,2,2,2,2,2,2,2,2,2,2,2,2,2,2,2,2,2,2,2,2,2,2,2,2,2,2,2,2,2,2,2,2,2,2,2,2,2,2,2,2,2,2,2,2,2,2,2,2,2,2,2,2,2,2,2,2,2,2,2,2,2,2,2,2,2,2,2,2,2,2,2,2,2,2,2,2,2,2,2,2,2,2,2,2,2,2,2,2,2,2,2,2,2,2,2,2,2,2,2,2,2,1,1,1,1,1,1,1,1,1,1,1,1,1,1,1,1,1,1,1,1,1,1,1,1,1,1,1,1,1,1,1,1,1,1,1,1,1,1,1,1,1,1,1,1,1,1,1,1,1,1,1,1,1,1,1,1,1,1,1,1,1,1,1,1,1,1,1,1,1,1,1,1,1,1,1,1,1,1,1,1,1,1,1,1,1,1,1,1,1,1,1,1,1,1,1,1,1,1,1,1,1,1,1,1,1,1,1,1,1,1,1,1,1,1,1,1,1,1,1,1,1,1,1,1,1,1,1,1,1,1,1,1,1,1,1,1,1,1,1,1,1,1,1,1,1,1,1,1,1,1,1,1,1,1,1,1,1,1,1,1,1,1,1,1,1,1,1,1,1,1,1,1,1,1,1,1,1,1,1,1,1,1,1,1,1,1,1,1,1,1,1,1,1,1,1,1,1,1,1,1,1,1,1,1,1,1,1,1,1,1,1,1,1,1,1,1,1,1,1,1,1,1,1,1,1,1,1,1,1,1,1,1,1,1,1,1,1,1,1,1,1,1,1,1,1,1,1,1,1,1,1,1,1,1,1,1,1,1,1,1,1,1,1,1,1,1,1,1,1,1,1,1,1,1,1,1,1,1,1,1,1,1,1,1,1,1,1,1,1,1,1,1,1,1,1,1,1,1,1,1,1,1,1,1,1,1,1,1,1,1,1,1,1,1,1,1,1,1,1,1,1,1,1,1,1,1,1,1,1,1,1,1,1,1,1,1,1,1,1,1,1,1,1,1,1,1,1,1,1,1,1,1,1,1,1,1,1,1,1,1,1,1,1,1,1,1,1,1,1,1,1,1,1,1,1,1,1,1,1,1,1,1,1,1,1,1,1,1,1,1,1,1,1,1,1,1,1,1,1,1,1,1,1,1,1,1,1,1,1,1,1,1,1,1,1,1,1,1,1,1,1,1,1,1,1,1,1,1,1,1,1,1,1,1,1,1,1,1,1,1,1,1,1,1,1,1,1,1,1,1,1,1,1,1,1,1,1,1,1,1,1,1,1,1,1,1,1,1,1,1,1,1,1,1,1,1,1,1,1,1,1,1,1,1,1,1,1,1,1,1,1,1,1,1,1,1,1,1,1,1,1,1,1,1,1,1,1,1,1,1,1,1,1,1,1,1,1,1,1,1,1,1,1,1,1,1,1,1,1,1,1,1,1,1,1,1,1,1,1,1,1,1,1,1,1,1,1,1,1,1,1,1,1,1,1,1,1,1,1,1,1,1,1,1,1,1,1,1,1,1,1,1,1,1,1,1,1,1,1,1,1,1,1,1,1,1,1,1,1,1,1,1,1,1,1,1,1,1,1,1,1,1,1,1,1,1,1,1,1,1,1,1,1,1,1,1,1,1,1,1,1,1,1,1,1,1,1,1,1,1,1,1,1,1,1,1,1,1,1,1,1,1,1,1,1,1,1,1,1,1,1,1,1,1,1,1,1,1,1,1,1,1,1,1,1,1,1,1,1,1,1,1,1,1,1,1,1,1,1,1,1,1,1,1,1,1,1,1,1,1,1,1,1,1,1,1,1,1,1,1,1,1,1,1,1,1,1,1,1,1,1,1,1,1,1,1,1,1,1,1,1,1,1,1,1,1,1,1,1,1,1,1,1,1,1,1,1,1,1,1,1,1,1,1,1,1,1,1,1,1,1,1,1,1,1,1,1,1,1,1,1,1,1,1,1,1,1,1,1,1,1,1,1,1,1,1,1,1,1,1,1,1,1,1,1,1,1,1,1,1,1,1,1,1,1,1,1,1,1,1,1,1,1,1,1,1,1,1,1,1,1,1,1,1,1,1,1,1,1,1,1,1,1,1,1,1,1,1,1,1,1,1,1,1,1,1,1,1,1,1,1,1,1,1,1,1,1,1,1,1,1,1,1,1,1,1,1,1,1,1,1,1,1,1,1,1,1,1,1,1,1,1,1,1,1,1,1,1,1,1,1,1,1,1,1,1,1,1,1,1,1,1,1,1,1,1,1,1,1,1,1,1,1,1,1,1,1,1,1,1,1,1,1,1,1,1,1,1,1,1,1,1,1,1,1,1,1,1,1,1,1,1,1,1,1,1,1,1,1,1,1,1,1,1,1,1,1,1,1,1,1,1,1,1,1,1,1,1,1,1,1,1,1,1,1,1,1,1,1,1,1,1,1,1,1,1,1,1,1,1,1,1,1,1,1,1,1,1,1,1,1,1,1,1,1,1,1,1,1,1,1,1,1,1,1,1,1,1,1,1,1,1,1,1,1,1,1,1,1,1,1,1,1,1,1,1,1,1,1,1,1,1,1,1,1,1,1,1,1,1,1,1,1,1,1,1,1,1,1,1,1,1,1,1,1,1,1,1,1,1,1,1,1,1,1,1,1,1,1,1,1,1,1,1,1,1,1,1,1,1,1,1,1,1,1,1,1,1,1,1,1,1,1,1,1,1,1,1,1,1,1,1,1,1,1,1,1,1,1,1,1,1,1,1,1,1,1,1,1,1,1,1,1,1,1,1,1,1,1,1,1,1,1,1,1,1,1,1,1,1,1,1,1,1,1,1,1,1,1,1,1,1,1,1,1,1,1,1,1,1,1,1,1,1,1,1,1,1,1,1,1,1,1,1,1,1,1,1,1,1,1,1,1,1,1,1,1,1,1,1,1,1,1,1,1,1,1,1,1,1,1,1,1,1,1,1,1,1,1,1,1,1,1,1,1,1,1,1,1,1,1,1,1,1,1,1,1,1,1,1,1,1,1,1,1,1,1,1,1,1,1,1,1,1,1,1,1,1,1,1,1,1,1,1,1,1,1,1,1,1,1,1,1,1,1,1,1,1,1,1,1,1,1,1,1,1,1,1,1,1,1,1,1,1,1,1,1,1,1,1,1,1,1,1,1,1,1,1,1,1,1,1,1,1,1,1,1,1,1,1,1,1,1,1,1,1,1,1,1,1,1,1,1,1,1,1,1,1,1,1,1,1,1,1,1,1,1,1,1,1,1,1,1,1,1,1,1,1,1,1,1,1,1,1,1,1,1,1,1,1,1,1,1,1,1,1,1,1,1,1,1,1,1,1,1,1,1,1,1,1,1,1,1,1,1,1,1,1,1,1,1,1,1,1,1,1,1,1,1,1,1,1,1,1,1,1,1,1,1,1,1,1,1,1,1,1,1,1,1,1,1,1,1,1,1,1,1,1,1,1,1,1,1,1,1,1,1,1,1,1,1,1,1,1,1,1,1,1,1,1,1,1,1,1,1,1,1,1,1,1,1,1,1,1,1,1,1,1,1,1,1,1,1,1,1,1,1,1,1,1,1,1,1,1,1,1,1,1,1,1,1,1,1,1,1,1,1,1,1,1,1,1,1,1,1,1,1,1,1,1,1,1,1,1,1,1,1,1,1,1,1,1,1,1,1,1,1,1,1,1,1,1,1,1,1,1,1,1,1,1,1,1,1,1,1,1,1,1,1,1,1,1,1,1,1,1,1,1,1,1,1,1,1,1,1,1,1,1,1,1,1,1,1,1,1,1,1,1,1,1,1,1,1,1,1,1,1,1,1,1,1,1,1,1,1,1,1,1,1,1,1,1,1,1,1,1,1,1,1,1,1,1,1,1,1,1,1,1,1,1,1,1,1,1,1,1,1,1,1,1,1,1,1,1,1,1,1,1,1,1,1,1,1,1,1,1,1,1,1,1,1,1,1,1,1,1,1,1,1,1,1,1,1,1,1,1,1,1,1,1,1,1,1,1,1,1,1,1,1,1,1,1,1,1,1,1,1,1,1,1,1,1,1,1,1,1,1,1,1,1,1,1,1,1,1,1,1,1,1,1,1,1,1,1,1,1,1,1,1,1,1,1,1,1,1,1,1,1,1,1,1,1,1,1,1,1,1,1,1,1,1,1,1,1,1,1,1,1,1,1,1,1,1,1,1,1,1,1,1,1,1,1,1,1,1,1,1,1,1,1,1,1,1,1,1,1,1,1,1,1,1,1,1,1,1,1,1,1,1,1,1,1,1,1,1,1,1,1,1,1,1,1,1,1,1,1,1,1,1,1,1,1,1,1,1,1,1,1,1,1,1,1,1,1,1,1,1,1,1,1,1,1,1,1,1,1,1,1,1,1,1,1,1,1,1,1,1,1,1,1,1,1,1,1,1,1,1,1,1,1,1,1,1,1,1,1,1,1,1,1,1,1,1,1,1,1,1,1,1,1,1,1,1,1,1,1,1,1,1,1,1,1,1,1,1,1,1,1,1,1,1,1,1,1,1,1,1,1,1,1,1,1,1,1,1,1,1,1,1,1,1,1,1,1,1,1,1,1,1,1,1,1,1,1,1,1,1,1,1,1,1,1,1,1,1,1,1,1,1,1,1,1,1,1,1,1,1,1,1,1,1,1,1,1,1,1,1,1,1,1,1,1,1,1,1,1,1,1,1,1,1,1,1,1,1,1,1,1,1,1,1,1,1,1,1,1,1,1,1,1,1,1,1,1,1,1,1,1,1,1,1,1,1,1,1,1,1,1,1,1,1,1,1,1,1,1,1,1,1,1,1,1,1,1,1,1,1,1,1,1,1,1,1,1,1,1,1,1,1,1,1,1,1,1,1,1,1,1,1,1,1,1,1,1,1,1,1,1,1,1,1,1,1,1,1,1,1,1,1,1,1,1,1,1,1,1,1,1,1,1,1,1,1,1,1,1,1,1,1,1,1,1,1,1,1,1,1,1,1,1,1,1,1,1,1,1,1,1,1,1,1,1,1,1,1,1,1,1,1,1,1,1,1,1,1,1,1,1,1,1,1,1,1,1,1,1,1,1,1,1,1,1,1,1,1,1,1,1,1,1,1,1,1,1,1,1,1,1,1,1,1,1,1,1,1,1,1,1,1,1,1,1,1,1,1,1,1,1,1,1,1,1,1,1,1,1,1,1,1,1,1,1,1,1,1,1,1,1,1,1,1,1,1,1,1,1,1,1,1,1,1,1,1,1,1,1,1,1,1,1,1,1,1,1,1,1,1,1,1,1,1,1,1,1,1,1,1,1,1,1,1,1,1,1,1,1,1,1,1,1,1,1,1,1,1,1,1,1,1,1,1,1,1,1,1,1,1,1,1,1,1,1,1,1,1,1,1,1,1,1,1,1,1,1,1,1,1,1,1,1,1,1,1,1,1,1,1,1,1,1,1,1,1,1,1,1,1,1,1,1,1,1,1,1,1,1,1,1,1,1,1,1,1,1,1,1,1,1,1,1,1,1,1,1,1,1,1,1,1,1,1,1,1,1,1,1,1,1,1,1,1,1,1,1,1,1,1,1,1,1,1,1,1,1,1,1,1,1,1,1,1,1,1,1,1,1,1,1,1,1,1,1,1,1,1,1,1,1,1,1,1,1,1,1,1,1,1,1,1,1,1,1,1,1,1,1,1,1,1,1,1,1,1,1,1,1,1,1,1,1,1,1,1,1,1,1,1,1,1,1,1,1,1,1,1,1,1,1,1,1,1,1,1,1,1,1,1,1,1,1,1,1,1,1,1,1,1,1,1,1,1,1,1,1,1,1,1,1,1,1,1,1,1,1,1,1,1,1,1,1,1,1,1,1,1,1,1,1,1,1,1,1,1,1,1,1,1,1,1,1,1,1,1,1,1,1,1,1,1,1,1,1,1,1,1,1,1,1,1,1,1,1,1,1,1,1,1,1,1,1,1,1,1,1,1,1,1,1,1,1,1,1,1,1,1,1,1,1,1,1,1,1,1,1,1,1,1,1,1,1,1,1,1,1,1,1,1,1,1,1,1,1,1,1,1,1,1,1,1,1,1,1,1,1,1,1,1,1,1,1,1,1,1,1,1,1,1,1,1,1,1,1,1,1,1,1,1,1,1,1,1,1,1,1,1,1,1,1,1,1,1,1,1,1,1,1,1,1,1,1,1,1,1,1,1,1,1,1,1,1,1,1,1,1,1,1,1,1,1,1,1,1,1,1,1,1,1,1,1,1,1,1,1,1,1,1,1,1,1,1,1,1,1,1,1,1,1,1,1,1,1,1,1,1,1,1,1,1,1,1,1,1,1,1,1,1,1,1,1,1,1,1,1,1,1,1,1,1,1,1,1,1,1,1,1,1,1,1,1,1,1,1,1,1,1,1,1,1,1,1,1,1,1,1,1,1,1,1,1,1,1,1,1,1,1,1,1,1,1,1,1,1,1,1,1,1,1,1,1,1,1,1,1,1,1,1,1,1,1,1,1,1,1,1,1,1,1,1,1,1,1,1,1,1,1,1,1,1,1,1,1,1,1,1,1,1,1,1,1,1,1,1,1,1,1,1,1,1,1,1,1,1,1,1,1,1,1,1,1,1,1,1,1,1,1,1,1,1,1,1,1,1,1,1,1,1,1,1,1,1,1,1,1,1,1,1,1,1,1,1,1,1,1,1,1,1,1,1,1,1,1,1,1,1,1,1,1,1,1,1,1,1,1,1,1,1,1,1,1,1,1,1,1,1,1,1,1,1,1,1,1,1,1,1,1,1,1,1,1,1,1,1,1,1,1,1,1,1,1,1,1,1,1,1,1,1,1,1,1,1,1,1,1,1,1,1,1,1,1,1,1,1,1,1,1,1,1,1,1,1,1,1,1,1,1,1,1,1,1,1,1,1,1,1,1,1,1,1,1,1,1,1,1,1,1,1,1,1,1,1,1,1,1,1,1,1,1,1,1,1,1,1,1,1,1,1,1,1,1,1,1,1,1,1,1,1,1,1,1,1,1,1,1,1,1,1,1,1,1,1,1,1,1,1,1,1,1,1,1,1,1,1,1,1,1,1,1,1,1,1,1,1,1,1,1,1,1,1,1,1,1,1,1,1,1,1,1,1,1,1,1,1,1,1,1,1,1,1,1,1,1,1,1,1,1,1,1,1,1,1,1,1,1,1,1,1,1,1,1,1,1,1,1,1,1,1,1,1,1,1,1,1,1,1,1,1,1,1,1,1,1,1,1,1,1,1,1,1,1,1,1,1,1,1,1,1,1,1,1,1,1,1,1,1,1,1,1,1,1,1,1,1,1,1,1,1,1,1,1,1,1,1,1,1,1,1,1,1,1,1,1,1,1,1,1,1,1,1,1,1,1,1,1,1,1,1,1,1,1,1,1,1,1,1,1,1,1,1,1,1,1,1,1,1,1,1,1,1,1,1,1,1,1,1,1,1,1,1,1,1,1,1,1,1,1,1,1,1,1,1,1,1,1,1,1,1,1,1,1,1,1,1,1,1,1,1,1,1,1,1,1,1,1,1,1,1,1,1,1,1,1,1,1,1,1,1,1,1,1,1,1,1,1,1,1,1,1,1,1,1,1,1,1,1,1,1,1,1,1,1,1,1,1,1,1,1,1,1,1,1,1,1,1,1,1,1,1,1,1,1,1,1,1,1,1,1,1,1,1,1,1,1,1,1,1,1,1,1,1,1,1,1,1,1,1,1,1,1,1,1,1,1,1,1,1,1,1,1,1,1,1,1,1,1,1,1,1,1,1,1,1,1,1,1,1,1,1,1,1,1,1,1,1,1,1,1,1,1,1,1,1,1,1,1,1,1,1,1,1,1,1,1,1,1,1,1,1,1,1,1,1,1,1,1,1,1,1,1,1,1,1,1,1,1,1,1,1,1,1,1,1,1,1,1,1,1,1,1,1,1,1,1,1,1,1,1,1,1,1,1,1,1,1,1,1,1,1,1,1,1,1,1,1,1,1,1,1,1,1,1,1,1,1,1,1,1,1,1,1,1,1,1,1,1,1,1,1,1,1,1,1,1,1,1,1,1,1,1,1,1,1,1,1,1,1,1,1,1,1,1,1,1,1,1,1,1,1,1,1,1,1,1,1,1,1,1,1,1,1,1,1,1,1,1,1,1,1,1,1,1,1,1,1,1,1,1,1,1,1,1,1,1,1,1,1,1,1,1,1,1,1,1,1,1,1,1,1,1,1,1,1,1,1,1,1,1,1,1,1,1,1,1,1,1,1,1,1,1,1,1,1,1,1,1,1,1,1,1,1,1,1,1,1,1,1,1,1,1,1,1,1,1,1,1,1,1,1,1,1,1,1,1,1,1,1,1,1,1,1,1,1,1,1,1,1,1,1,1,1,1,1,1,1,1,1,1,1,1,1,1,1,1,1,1,1,1,1,1,1,1,1,1,1,1,1,1,1,1,1,1,1,1,1,1,1,1,1,1,1,1,1,1,1,1,1,1,1,1,1,1,1,1,1,1,1,1,1,1,1,1,1,1,1,1,1,1,1,1,1,1,1,1,1,1,1,1,1,1,1,1,1,1,1,1,1,1,1,1,1,1,1,1,1,1,1,1,1,1,1,1,1,1,1,1,1,1,1,1,1,1,1,1,1,1,1,1,1,1,1,1,1,1,1,1,1,1,1,1,1,1,1,1,1,1,1,1,1,1,1,1,1,1,1,1,1,1,1,1,1,1,1,1,1,1,1,1,1,1,1,1,1,1,1,1,1,1,1,1,1,1,1,1,1,1,1,1,1,1,1,1,1,1,1,1,1,1,1,1,1,1,1,1,1,1,1,1,1,1,1,1,1,1,1,1,1,1,1,1,1,1,1,1,1,1,1,1,1,1,1,1,1,1,1,1,1,1,1,1,1,1,1,1,1,1,1,1,1,1,1,1,1,1,1,1,1,1,1,1,1,1,1,1,1,1,1,1,1,1,1,1,1,1,1,1,1,1,1,1,1,1,1,1,1,1,1,1,1,1,1,1,1,1,1,1,1,1,1,1,1,1,1,1,1,1,1,1,1,1,1,1,1,1,1,1,1,1,1,1,1,1,1,1,1,1,1,1,1,1,1,1,1,1,1,1,1,1,1,1,1,1,1,1,1,1,1,1,1,1,1,1,1,1,1,1,1,1,1,1,1,1,1,1,1,1,1,1,1,1,1,1,1,1,1,1,1,1,1,1,1,1,1,1,1,1,1,1,1,1,1,1,1,1,1,1,1,1,1,1,1,1,1,1,1,1,1,1,1,1,1,1,1,1,1,1,1,1,1,1,1,1,1,1,1,1,1,1,1,1,1,1,1,1,1,1,1,1,1,1,1,1,1,1,1,1,1,1,1,1,1,1,1,1,1,1,1,1,1,1,1,1,1,1,1,1,1,1,1,1,1,1,1,1,1,1,1,1,1,1,1,1,1,1,1,1,1,1,1,1,1,1,1,1,1,1,1,1,1,1,1,1,1,1,1,1,1,1,1,1,1,1,1,1,1,1,1,1,1,1,1,1,1,1,1,1,1,1,1,1,1,1,1,1,1,1,1,1,1,1,1,1,1,1,1,1,1,1,1,1,1,1,1,1,1,1,1,1,1,1,1,1,1,1,1,1,1,1,1,1,1,1,1,1,1,1,1,1,1,1,1,1,1,1,1,1,1,1,1,1,1,1,1,1,1,1,1,1,1,1,1,1,1,1,1,1,1,1,1,1,1,1,1,1,1,1,1,1,1,1,1,1,1,1,1,1,1,1,1,1,1,1,1,1,1,1,1,1,1,1,1,1,1,1,1,1,1,1,1,1,1,1,1,1,1,1,1,1,1,1,1,1,1,1,1,1,1,1,1,1,1,1,1,1,1,1,1,1,1,1,1,1,1,1,1,1,1,1,1,1,1,1,1,1,1,1,1,1,1,1,1,1,1,1,1,1,1,1,1,1,1,1,1,1,1,1,1,1,1,1,1,1,1,1,1,1,1,1,1,1,1,1,1,1,1,1,1,1,1,1,1,1,1,1,1,1,1,1,1,1,1,1,1,1,1,1,1,1,1,1,1,1,1,1,1,1,1,1,1,1,1,1,1,1,1,1,1,1,1,1,1,1,1,1,1,1,1,1,1,1,1,1,1,1,1,1,1,1,1,1,1,1,1,1,1,1,1,1,1,1,1,1,1,1,1,1,1,1,1,1,1,1,1,1,1,1,1,1,1,1,1,1,1,1,1,1,1,1,1,1,1,1,1,1,1,1,1,1,1,1,1,1,1,1,1,1,1,1,1,1,1,1,1,1,1,1,1,1,1,1,1,1,1,1,1,1,1,1,1,1,1,1,1,1,1,1,1,1,1,1,1,1,1,1,1,1,1,1,1,1,1,1,1,1,1,1,1,1,1,1,1,1,1,1,1,1,1,1,1,1,1,1,1,1,1,1,1,1,1,1,1,1,1,1,1,1,1,1,1,1,1,1,1,1,1,1,1,1,1,1,1,1,1,1,1,1,1,1,1,1,1,1,1,1,1,1,1,1,1,1,1,1,1,1,1,1,1,1,1,1,1,1,1,1,1,1,1,1,1,1,1,1,1,1,1,1,1,1,1,1,1,1,1,1,1,1,1,1,1,1,1,1,1,1,1,1,1,1,1,1,1,1,1,1,1,1,1,1,1,1,1,1,1,1,1,1,1,1,1,1,1,1,1,1,1,1,1,1,1,1,1,1,1,1,1,1,1,1,1,1,1,1,1,1,1,1,1,1,1,1,1,1,1,1,1,1,1,1,1,1,1,1,1,1,1,1,1,1,1,1,1,1,1,1,1,1,1,1,1,1,1,1,1,1,1,1,1,1,1,1,1,1,1,1,1,1,1,1,1,1,1,1,1,1,1,1,1,1,1,1,1,1,1,1,1,1,1,1,1,1,1,1,1,1,1,1,1,1,1,1,1,1,1,1,1,1,1,1,1,1,1,1,1,1,1,1,1],\"yaxis\":\"y\",\"type\":\"scattergl\"}],                        {\"template\":{\"data\":{\"bar\":[{\"error_x\":{\"color\":\"#2a3f5f\"},\"error_y\":{\"color\":\"#2a3f5f\"},\"marker\":{\"line\":{\"color\":\"#E5ECF6\",\"width\":0.5},\"pattern\":{\"fillmode\":\"overlay\",\"size\":10,\"solidity\":0.2}},\"type\":\"bar\"}],\"barpolar\":[{\"marker\":{\"line\":{\"color\":\"#E5ECF6\",\"width\":0.5},\"pattern\":{\"fillmode\":\"overlay\",\"size\":10,\"solidity\":0.2}},\"type\":\"barpolar\"}],\"carpet\":[{\"aaxis\":{\"endlinecolor\":\"#2a3f5f\",\"gridcolor\":\"white\",\"linecolor\":\"white\",\"minorgridcolor\":\"white\",\"startlinecolor\":\"#2a3f5f\"},\"baxis\":{\"endlinecolor\":\"#2a3f5f\",\"gridcolor\":\"white\",\"linecolor\":\"white\",\"minorgridcolor\":\"white\",\"startlinecolor\":\"#2a3f5f\"},\"type\":\"carpet\"}],\"choropleth\":[{\"colorbar\":{\"outlinewidth\":0,\"ticks\":\"\"},\"type\":\"choropleth\"}],\"contour\":[{\"colorbar\":{\"outlinewidth\":0,\"ticks\":\"\"},\"colorscale\":[[0.0,\"#0d0887\"],[0.1111111111111111,\"#46039f\"],[0.2222222222222222,\"#7201a8\"],[0.3333333333333333,\"#9c179e\"],[0.4444444444444444,\"#bd3786\"],[0.5555555555555556,\"#d8576b\"],[0.6666666666666666,\"#ed7953\"],[0.7777777777777778,\"#fb9f3a\"],[0.8888888888888888,\"#fdca26\"],[1.0,\"#f0f921\"]],\"type\":\"contour\"}],\"contourcarpet\":[{\"colorbar\":{\"outlinewidth\":0,\"ticks\":\"\"},\"type\":\"contourcarpet\"}],\"heatmap\":[{\"colorbar\":{\"outlinewidth\":0,\"ticks\":\"\"},\"colorscale\":[[0.0,\"#0d0887\"],[0.1111111111111111,\"#46039f\"],[0.2222222222222222,\"#7201a8\"],[0.3333333333333333,\"#9c179e\"],[0.4444444444444444,\"#bd3786\"],[0.5555555555555556,\"#d8576b\"],[0.6666666666666666,\"#ed7953\"],[0.7777777777777778,\"#fb9f3a\"],[0.8888888888888888,\"#fdca26\"],[1.0,\"#f0f921\"]],\"type\":\"heatmap\"}],\"heatmapgl\":[{\"colorbar\":{\"outlinewidth\":0,\"ticks\":\"\"},\"colorscale\":[[0.0,\"#0d0887\"],[0.1111111111111111,\"#46039f\"],[0.2222222222222222,\"#7201a8\"],[0.3333333333333333,\"#9c179e\"],[0.4444444444444444,\"#bd3786\"],[0.5555555555555556,\"#d8576b\"],[0.6666666666666666,\"#ed7953\"],[0.7777777777777778,\"#fb9f3a\"],[0.8888888888888888,\"#fdca26\"],[1.0,\"#f0f921\"]],\"type\":\"heatmapgl\"}],\"histogram\":[{\"marker\":{\"pattern\":{\"fillmode\":\"overlay\",\"size\":10,\"solidity\":0.2}},\"type\":\"histogram\"}],\"histogram2d\":[{\"colorbar\":{\"outlinewidth\":0,\"ticks\":\"\"},\"colorscale\":[[0.0,\"#0d0887\"],[0.1111111111111111,\"#46039f\"],[0.2222222222222222,\"#7201a8\"],[0.3333333333333333,\"#9c179e\"],[0.4444444444444444,\"#bd3786\"],[0.5555555555555556,\"#d8576b\"],[0.6666666666666666,\"#ed7953\"],[0.7777777777777778,\"#fb9f3a\"],[0.8888888888888888,\"#fdca26\"],[1.0,\"#f0f921\"]],\"type\":\"histogram2d\"}],\"histogram2dcontour\":[{\"colorbar\":{\"outlinewidth\":0,\"ticks\":\"\"},\"colorscale\":[[0.0,\"#0d0887\"],[0.1111111111111111,\"#46039f\"],[0.2222222222222222,\"#7201a8\"],[0.3333333333333333,\"#9c179e\"],[0.4444444444444444,\"#bd3786\"],[0.5555555555555556,\"#d8576b\"],[0.6666666666666666,\"#ed7953\"],[0.7777777777777778,\"#fb9f3a\"],[0.8888888888888888,\"#fdca26\"],[1.0,\"#f0f921\"]],\"type\":\"histogram2dcontour\"}],\"mesh3d\":[{\"colorbar\":{\"outlinewidth\":0,\"ticks\":\"\"},\"type\":\"mesh3d\"}],\"parcoords\":[{\"line\":{\"colorbar\":{\"outlinewidth\":0,\"ticks\":\"\"}},\"type\":\"parcoords\"}],\"pie\":[{\"automargin\":true,\"type\":\"pie\"}],\"scatter\":[{\"marker\":{\"colorbar\":{\"outlinewidth\":0,\"ticks\":\"\"}},\"type\":\"scatter\"}],\"scatter3d\":[{\"line\":{\"colorbar\":{\"outlinewidth\":0,\"ticks\":\"\"}},\"marker\":{\"colorbar\":{\"outlinewidth\":0,\"ticks\":\"\"}},\"type\":\"scatter3d\"}],\"scattercarpet\":[{\"marker\":{\"colorbar\":{\"outlinewidth\":0,\"ticks\":\"\"}},\"type\":\"scattercarpet\"}],\"scattergeo\":[{\"marker\":{\"colorbar\":{\"outlinewidth\":0,\"ticks\":\"\"}},\"type\":\"scattergeo\"}],\"scattergl\":[{\"marker\":{\"colorbar\":{\"outlinewidth\":0,\"ticks\":\"\"}},\"type\":\"scattergl\"}],\"scattermapbox\":[{\"marker\":{\"colorbar\":{\"outlinewidth\":0,\"ticks\":\"\"}},\"type\":\"scattermapbox\"}],\"scatterpolar\":[{\"marker\":{\"colorbar\":{\"outlinewidth\":0,\"ticks\":\"\"}},\"type\":\"scatterpolar\"}],\"scatterpolargl\":[{\"marker\":{\"colorbar\":{\"outlinewidth\":0,\"ticks\":\"\"}},\"type\":\"scatterpolargl\"}],\"scatterternary\":[{\"marker\":{\"colorbar\":{\"outlinewidth\":0,\"ticks\":\"\"}},\"type\":\"scatterternary\"}],\"surface\":[{\"colorbar\":{\"outlinewidth\":0,\"ticks\":\"\"},\"colorscale\":[[0.0,\"#0d0887\"],[0.1111111111111111,\"#46039f\"],[0.2222222222222222,\"#7201a8\"],[0.3333333333333333,\"#9c179e\"],[0.4444444444444444,\"#bd3786\"],[0.5555555555555556,\"#d8576b\"],[0.6666666666666666,\"#ed7953\"],[0.7777777777777778,\"#fb9f3a\"],[0.8888888888888888,\"#fdca26\"],[1.0,\"#f0f921\"]],\"type\":\"surface\"}],\"table\":[{\"cells\":{\"fill\":{\"color\":\"#EBF0F8\"},\"line\":{\"color\":\"white\"}},\"header\":{\"fill\":{\"color\":\"#C8D4E3\"},\"line\":{\"color\":\"white\"}},\"type\":\"table\"}]},\"layout\":{\"annotationdefaults\":{\"arrowcolor\":\"#2a3f5f\",\"arrowhead\":0,\"arrowwidth\":1},\"autotypenumbers\":\"strict\",\"coloraxis\":{\"colorbar\":{\"outlinewidth\":0,\"ticks\":\"\"}},\"colorscale\":{\"diverging\":[[0,\"#8e0152\"],[0.1,\"#c51b7d\"],[0.2,\"#de77ae\"],[0.3,\"#f1b6da\"],[0.4,\"#fde0ef\"],[0.5,\"#f7f7f7\"],[0.6,\"#e6f5d0\"],[0.7,\"#b8e186\"],[0.8,\"#7fbc41\"],[0.9,\"#4d9221\"],[1,\"#276419\"]],\"sequential\":[[0.0,\"#0d0887\"],[0.1111111111111111,\"#46039f\"],[0.2222222222222222,\"#7201a8\"],[0.3333333333333333,\"#9c179e\"],[0.4444444444444444,\"#bd3786\"],[0.5555555555555556,\"#d8576b\"],[0.6666666666666666,\"#ed7953\"],[0.7777777777777778,\"#fb9f3a\"],[0.8888888888888888,\"#fdca26\"],[1.0,\"#f0f921\"]],\"sequentialminus\":[[0.0,\"#0d0887\"],[0.1111111111111111,\"#46039f\"],[0.2222222222222222,\"#7201a8\"],[0.3333333333333333,\"#9c179e\"],[0.4444444444444444,\"#bd3786\"],[0.5555555555555556,\"#d8576b\"],[0.6666666666666666,\"#ed7953\"],[0.7777777777777778,\"#fb9f3a\"],[0.8888888888888888,\"#fdca26\"],[1.0,\"#f0f921\"]]},\"colorway\":[\"#636efa\",\"#EF553B\",\"#00cc96\",\"#ab63fa\",\"#FFA15A\",\"#19d3f3\",\"#FF6692\",\"#B6E880\",\"#FF97FF\",\"#FECB52\"],\"font\":{\"color\":\"#2a3f5f\"},\"geo\":{\"bgcolor\":\"white\",\"lakecolor\":\"white\",\"landcolor\":\"#E5ECF6\",\"showlakes\":true,\"showland\":true,\"subunitcolor\":\"white\"},\"hoverlabel\":{\"align\":\"left\"},\"hovermode\":\"closest\",\"mapbox\":{\"style\":\"light\"},\"paper_bgcolor\":\"white\",\"plot_bgcolor\":\"#E5ECF6\",\"polar\":{\"angularaxis\":{\"gridcolor\":\"white\",\"linecolor\":\"white\",\"ticks\":\"\"},\"bgcolor\":\"#E5ECF6\",\"radialaxis\":{\"gridcolor\":\"white\",\"linecolor\":\"white\",\"ticks\":\"\"}},\"scene\":{\"xaxis\":{\"backgroundcolor\":\"#E5ECF6\",\"gridcolor\":\"white\",\"gridwidth\":2,\"linecolor\":\"white\",\"showbackground\":true,\"ticks\":\"\",\"zerolinecolor\":\"white\"},\"yaxis\":{\"backgroundcolor\":\"#E5ECF6\",\"gridcolor\":\"white\",\"gridwidth\":2,\"linecolor\":\"white\",\"showbackground\":true,\"ticks\":\"\",\"zerolinecolor\":\"white\"},\"zaxis\":{\"backgroundcolor\":\"#E5ECF6\",\"gridcolor\":\"white\",\"gridwidth\":2,\"linecolor\":\"white\",\"showbackground\":true,\"ticks\":\"\",\"zerolinecolor\":\"white\"}},\"shapedefaults\":{\"line\":{\"color\":\"#2a3f5f\"}},\"ternary\":{\"aaxis\":{\"gridcolor\":\"white\",\"linecolor\":\"white\",\"ticks\":\"\"},\"baxis\":{\"gridcolor\":\"white\",\"linecolor\":\"white\",\"ticks\":\"\"},\"bgcolor\":\"#E5ECF6\",\"caxis\":{\"gridcolor\":\"white\",\"linecolor\":\"white\",\"ticks\":\"\"}},\"title\":{\"x\":0.05},\"xaxis\":{\"automargin\":true,\"gridcolor\":\"white\",\"linecolor\":\"white\",\"ticks\":\"\",\"title\":{\"standoff\":15},\"zerolinecolor\":\"white\",\"zerolinewidth\":2},\"yaxis\":{\"automargin\":true,\"gridcolor\":\"white\",\"linecolor\":\"white\",\"ticks\":\"\",\"title\":{\"standoff\":15},\"zerolinecolor\":\"white\",\"zerolinewidth\":2}}},\"xaxis\":{\"anchor\":\"y\",\"domain\":[0.0,1.0],\"title\":{\"text\":\"Rank\"}},\"yaxis\":{\"anchor\":\"x\",\"domain\":[0.0,1.0],\"title\":{\"text\":\"Frequency\"}},\"legend\":{\"tracegroupgap\":0},\"margin\":{\"t\":60}},                        {\"responsive\": true}                    ).then(function(){\n",
              "                            \n",
              "var gd = document.getElementById('8097aa80-e325-4faa-940c-9d74edbfd39d');\n",
              "var x = new MutationObserver(function (mutations, observer) {{\n",
              "        var display = window.getComputedStyle(gd).display;\n",
              "        if (!display || display === 'none') {{\n",
              "            console.log([gd, 'removed!']);\n",
              "            Plotly.purge(gd);\n",
              "            observer.disconnect();\n",
              "        }}\n",
              "}});\n",
              "\n",
              "// Listen for the removal of the full notebook cells\n",
              "var notebookContainer = gd.closest('#notebook-container');\n",
              "if (notebookContainer) {{\n",
              "    x.observe(notebookContainer, {childList: true});\n",
              "}}\n",
              "\n",
              "// Listen for the clearing of the current output cell\n",
              "var outputEl = gd.closest('.output');\n",
              "if (outputEl) {{\n",
              "    x.observe(outputEl, {childList: true});\n",
              "}}\n",
              "\n",
              "                        })                };                            </script>        </div>\n",
              "</body>\n",
              "</html>"
            ]
          },
          "metadata": {}
        }
      ],
      "source": [
        "import plotly.express as px\n",
        "fig = px.scatter(x=[ i for i,t,c in token_counts_with_rank ], \n",
        "                 y=[ c for i,t,c in token_counts_with_rank ], \n",
        "                 hover_name=[ t for i,t,c in token_counts_with_rank ], \n",
        "                 labels={\n",
        "                     \"x\": \"Rank\",\n",
        "                     \"y\": \"Frequency\"\n",
        "                 })\n",
        "fig.show()"
      ]
    },
    {
      "cell_type": "markdown",
      "source": [
        "You can see that there are a small number of tokens that have fairly high frequency while most have very small frequency. If we log-transform both the frequency and the rank, we get a smoother curve. This means that a small number of tokens no longer dominate."
      ],
      "metadata": {
        "id": "KC13GUMlCuia"
      },
      "id": "KC13GUMlCuia"
    },
    {
      "cell_type": "code",
      "execution_count": 86,
      "id": "714d921a",
      "metadata": {
        "id": "714d921a",
        "colab": {
          "base_uri": "https://localhost:8080/",
          "height": 542
        },
        "outputId": "cc4bcb4a-9085-43ed-cc35-6fb3f7b51a4b"
      },
      "outputs": [
        {
          "output_type": "display_data",
          "data": {
            "text/html": [
              "<html>\n",
              "<head><meta charset=\"utf-8\" /></head>\n",
              "<body>\n",
              "    <div>            <script src=\"https://cdnjs.cloudflare.com/ajax/libs/mathjax/2.7.5/MathJax.js?config=TeX-AMS-MML_SVG\"></script><script type=\"text/javascript\">if (window.MathJax) {MathJax.Hub.Config({SVG: {font: \"STIX-Web\"}});}</script>                <script type=\"text/javascript\">window.PlotlyConfig = {MathJaxConfig: 'local'};</script>\n",
              "        <script src=\"https://cdn.plot.ly/plotly-2.8.3.min.js\"></script>                <div id=\"21a17c0c-13f0-49db-9cfa-9909c4b632f6\" class=\"plotly-graph-div\" style=\"height:525px; width:100%;\"></div>            <script type=\"text/javascript\">                                    window.PLOTLYENV=window.PLOTLYENV || {};                                    if (document.getElementById(\"21a17c0c-13f0-49db-9cfa-9909c4b632f6\")) {                    Plotly.newPlot(                        \"21a17c0c-13f0-49db-9cfa-9909c4b632f6\",                        [{\"hovertemplate\":\"<b>%{hovertext}</b><br><br>Log Rank=%{x}<br>Log Frequency=%{y}<extra></extra>\",\"hovertext\":[\"game\",\"like\",\"tea\",\"know\",\"play\",\"try\",\"good\",\"water\",\"want\",\"get\",\"coffee\",\"look\",\"think\",\"buy\",\"time\",\"find\",\"switch\",\"drink\",\"work\",\"new\",\"go\",\"xbox\",\"people\",\"day\",\"mlm\",\"help\",\"use\",\"thank\",\"start\",\"post\",\"need\",\"love\",\"feel\",\"thing\",\"2\",\"year\",\"soda\",\"way\",\"come\",\"say\",\"friend\",\"series\",\"taste\",\"ps4\",\"lot\",\"$\",\"well\",\"x\",\"tell\",\"see\",\"sure\",\"cup\",\"guy\",\"question\",\"make\",\"controller\",\"pc\",\"brew\",\"old\",\"long\",\"right\",\"ask\",\"sell\",\"console\",\"store\",\"4\",\"3\",\"order\",\"wonder\",\"bad\",\"recently\",\"great\",\"nintendo\",\"month\",\"edit\",\"add\",\"pretty\",\"r\",\"money\",\"different\",\"s\",\"idea\",\"e\",\"run\",\"hear\",\"experience\",\"company\",\"flavor\",\"online\",\"problem\",\"let\",\"issue\",\"leave\",\"v\",\"enjoy\",\"end\",\"check\",\"able\",\"product\",\"maybe\",\"take\",\"sale\",\"big\",\"little\",\"talk\",\"\\u200b\",\"release\",\"5\",\"have\",\"setting\",\"week\",\"1\",\"notice\",\"etc\",\"grinder\",\"shop\",\"high\",\"point\",\"hope\",\"bit\",\"turn\",\"bottle\",\"world\",\"actually\",\"black\",\"option\",\"place\",\"free\",\"kind\",\"u\",\"super\",\"purchase\",\"update\",\"hey\",\"hi\",\"home\",\"today\",\"recommendation\",\"not\",\"/r\",\"hard\",\"suggestion\",\"brand\",\"give\",\"player\",\"download\",\"appreciate\",\"open\",\"ago\",\"sub\",\"c\",\"mean\",\"set\",\"happen\",\"account\",\"share\",\"video\",\"pro\",\"live\",\"version\",\"small\",\"remember\",\"type\",\"stuff\",\"screen\",\"decide\",\"change\",\"read\",\"grind\",\"usb\",\"second\",\"worth\",\"far\",\"story\",\"nice\",\"pick\",\"sugar\",\"hun\",\"10\",\"life\",\"hour\",\"espresso\",\"recommend\",\"join\",\"reason\",\"similar\",\"bean\",\"business\",\"advice\",\"quality\",\"miss\",\"machine\",\"will\",\"system\",\"steam\",\"local\",\"price\",\"send\",\"single\",\"probably\",\"mario\",\"cheap\",\"interested\",\"lose\",\"support\",\"one\",\"save\",\"list\",\"mode\",\"k\",\"base\",\"figure\",\"favorite\",\"usually\",\"easy\",\"|\",\"fun\",\"currently\",\"fine\",\"possible\",\"call\",\"family\",\"night\",\"curious\",\"mom\",\"away\",\"job\",\"ground\",\"fix\",\"link\",\"upgrade\",\"bag\",\"wii\",\"monitor\",\"review\",\"card\",\"pour\",\"instead\",\"comment\",\"g\",\"answer\",\"filter\",\"break\",\"gaming\",\"thread\",\"spend\",\"person\",\"close\",\"pay\",\"milk\",\"code\",\"guess\",\"m\",\"cold\",\"subreddit\",\"example\",\"real\",\"thought\",\"available\",\"+\",\"couple\",\"app\",\"consider\",\"light\",\"connect\",\"party\",\"school\",\"power\",\"wrong\",\"minute\",\"lido\",\"case\",\"community\",\"stop\",\"sweet\",\"level\",\"opinion\",\"low\",\"wait\",\"stay\",\"number\",\"original\",\"happy\",\"green\",\"gta\",\"sign\",\"website\",\"leaf\",\"sync\",\"difference\",\"caffeine\",\"fan\",\"mind\",\"7\",\"hand\",\"method\",\"port\",\"steep\",\"search\",\"got\",\"6\",\"loose\",\"message\",\"later\",\"pot\",\"believe\",\"cause\",\"8\",\"30\",\"stick\",\"watch\",\"gb\",\"control\",\"soon\",\"sound\",\"keep\",\"amazon\",\"cable\",\"morning\",\"sorry\",\"anymore\",\"mention\",\"note\",\"roast\",\"show\",\"homie\",\"group\",\"cool\",\"main\",\"headset\",\"kid\",\"normal\",\"you\",\"basically\",\"house\",\"finally\",\"tv\",\"state\",\"fps\",\"google\",\"strong\",\"ps\",\"market\",\"drive\",\"12\",\"100\",\"tip\",\"bring\",\"scheme\",\"hot\",\"allow\",\"graphic\",\"deal\",\"charge\",\"zero\",\"amazing\",\"diet\",\"to\",\"launch\",\"info\",\"gift\",\"20\",\"ok\",\"require\",\"anybody\",\"information\",\"course\",\"move\",\"absolutely\",\"finish\",\"hate\",\"include\",\"head\",\"pyramid\",\"fall\",\"build\",\"create\",\"drop\",\"speed\",\"aeropress\",\"line\",\"suppose\",\"character\",\"yesterday\",\"result\",\"size\",\"compare\",\"prefer\",\"press\",\"offer\",\"box\",\"apparently\",\"site\",\"360\",\"pack\",\"dark\",\"plus\",\"w/\",\"avoid\",\"realize\",\"expect\",\"edition\",\"advance\",\"digital\",\"oil\",\"learn\",\"cost\",\"plan\",\"follow\",\"feature\",\"shot\",\"past\",\"multiplayer\",\"color\",\"excited\",\"y\\u2019\",\"expensive\",\"chemex\",\"suggest\",\"source\",\"receive\",\"weird\",\"fast\",\"phone\",\"clean\",\"v60\",\"brewing\",\"general\",\"vs\",\"gameplay\",\"early\",\"performance\",\"mod\",\"pre\",\"microsoft\",\"hold\",\"blend\",\"half\",\"die\",\"woman\",\"fact\",\"hit\",\"especially\",\"copy\",\"true\",\"wish\",\"input\",\"key\",\"crash\",\"smell\",\"completely\",\"oz\",\"test\",\"jump\",\"white\",\"city\",\"definitely\",\"process\",\"certain\",\"lol\",\"matter\",\"area\",\"solution\",\"short\",\"sort\",\"non\",\"sense\",\"blue\",\"reddit\",\"discussion\",\"specific\",\"red\",\"style\",\"page\",\"hydro\",\"christmas\",\"user\",\"sleep\",\"15\",\"large\",\"ton\",\"room\",\"bitter\",\"team\",\"clear\",\"choice\",\"effect\",\"rate\",\"explain\",\"meet\",\"games\",\"situation\",\"load\",\"medium\",\"research\",\"health\",\"boss\",\"oolong\",\"picture\",\"future\",\"current\",\"man\",\"root\",\"chat\",\"amway\",\"uk\",\"forward\",\"shipping\",\"access\",\"remove\",\"youtube\",\"awesome\",\"model\",\"lead\",\"marketing\",\"choose\",\"kinda\",\"suck\",\"honestly\",\"double\",\"exist\",\"herbalife\",\"perfect\",\"interesting\",\"service\",\"content\",\"physical\",\"halo\",\"waste\",\"okay\",\"roaster\",\"frame\",\"keyboard\",\"y\",\"ps5\",\"ship\",\"official\",\"chai\",\"tap\",\"oh\",\"multiple\",\"brother\",\"return\",\"pop\",\"internet\",\"final\",\"understand\",\"yes\",\"own\",\"tomorrow\",\"syrup\",\"pepsi\",\"smooth\",\"playstation\",\"audio\",\"obviously\",\"moment\",\"error\",\"french\",\"crazy\",\"kettle\",\"scam\",\"instal\",\"luck\",\"involve\",\"gpu\",\"care\",\"claim\",\"bunch\",\"dew\",\"detail\",\"owner\",\"q\",\"word\",\"dlc\",\"actual\",\"profile\",\"complete\",\"reach\",\"literally\",\"slow\",\"popular\",\"device\",\"p.t.\",\"connection\",\"cut\",\"book\",\"put\",\"chance\",\"important\",\"wife\",\"orange\",\"dock\",\"stock\",\"date\",\"60\",\"burr\",\"library\",\"war\",\"mix\",\"huge\",\"trade\",\"fit\",\"50\",\"ginger\",\"d\",\"l\",\"40\",\"regular\",\"op\",\"computer\",\"reply\",\"college\",\"daily\",\"mail\",\"catch\",\"forget\",\"90\",\"design\",\"setup\",\"pull\",\"wanna\",\"r+f\",\"gen\",\"sit\",\"z\",\"pm\",\"car\",\"replace\",\"pad\",\"sister\",\"gram\",\"decent\",\"young\",\"cat\",\"contact\",\"scale\",\"grow\",\"girl\",\"mountain\",\"ratio\",\"recruit\",\"begin\",\"fruit\",\"text\",\"willing\",\"specifically\",\"display\",\"discount\",\"plug\",\"eye\",\"rpg\",\"discover\",\"drinker\",\"exchange\",\"personally\",\"grey\",\"totally\",\"extra\",\"4k\",\"facebook\",\"food\",\"discuss\",\"co\",\"battlefield\",\"ve\",\"interest\",\"response\",\"concern\",\"blow\",\"nvidia\",\"english\",\"dead\",\"mess\",\"mouse\",\"n\",\"improve\",\"late\",\"random\",\"beer\",\"budget\",\"keurig\",\"mic\",\"delete\",\"theme\",\"directly\",\"pitch\",\"monat\",\"maker\",\"pokemon\",\"outside\",\"listen\",\"zelda\",\"o\",\"gamer\",\"drip\",\"hype\",\"animal\",\"puerh\",\"visit\",\"customer\",\"request\",\"dog\",\"pepper\",\"cream\",\"x.\",\"event\",\"rep\",\"quick\",\"fill\",\"simple\",\"mug\",\"earl\",\"interview\",\"exactly\",\"adventure\",\"benefit\",\"struggle\",\"face\",\"click\",\"windows\",\"server\",\"manage\",\"country\",\"force\",\"member\",\"terrible\",\"immediately\",\"max\",\"doctor\",\"latte\",\"common\",\"rocket\",\"solid\",\"star\",\"install\",\"eventually\",\"replacement\",\"weekend\",\"barista\",\"b\",\"hydrated\",\"hopefully\",\"bed\",\"handheld\",\"term\",\"develop\",\"fresh\",\"approach\",\"w\",\"travel\",\"sony\",\"provide\",\"near\",\"increase\",\"energy\",\"thirsty\",\"3d\",\"patch\",\"recipe\",\"ban\",\"despite\",\"flavour\",\"gsync\",\"apply\",\"60fps\",\"u.s.\",\"lemon\",\"giveaway\",\"matcha\",\"jack\",\"refund\",\"focus\",\"select\",\"normally\",\"temp\",\"special\",\"laptop\",\"knight\",\"16\",\"stand\",\"unfortunately\",\"previous\",\"smart\",\"article\",\"hydrate\",\"quest\",\"handle\",\"social\",\"yeah\",\"t\",\"lock\",\"flat\",\"personal\",\"gold\",\"shut\",\"safe\",\"rest\",\"boot\",\"alternative\",\"hydrohomie\",\"baratza\",\"quickly\",\"fanta\",\"grocery\",\"gallon\",\"breakfast\",\"straight\",\"dry\",\"promote\",\"spec\",\"mm\",\"touch\",\"gear\",\"tired\",\"contain\",\"office\",\"affect\",\"preference\",\"awful\",\"aside\",\"difficult\",\"ring\",\"anti\",\"slightly\",\"canada\",\"144hz\",\"plastic\",\"remote\",\"stardew\",\"match\",\"triple\",\"husband\",\"monthly\",\"skin\",\"convince\",\"generally\",\"adapter\",\"body\",\"joycon\",\"fight\",\"season\",\"joy\",\"file\",\"hdr\",\"blood\",\"arbonne\",\"headphone\",\"unique\",\"report\",\"trouble\",\"variety\",\"supply\",\"announce\",\"promise\",\"major\",\"minecraft\",\"confirm\",\"overall\",\"throw\",\"girlfriend\",\"getting\",\"lite\",\"exclusive\",\"wiki\",\"ice\",\"temperature\",\"adjustment\",\"street\",\"weight\",\"age\",\"worried\",\"range\",\"art\",\"mini\",\"cake\",\"wireless\",\"trick\",\"heavy\",\"fairly\",\"hair\",\"asus\",\"hurt\",\"dollar\",\"herbal\",\"moka\",\"fellow\",\"hdmi\",\"fail\",\"lately\",\"cola\",\"win\",\"likely\",\"disc\",\"combat\",\"battery\",\"eat\",\"cap\",\"carry\",\"psn\",\"feeling\",\"spray\",\"present\",\"poor\",\"profit\",\"income\",\"license\",\"tooth\",\"idk\",\"cafe\",\"death\",\"unable\",\"push\",\"platform\",\"lack\",\"variable\",\"software\",\"window\",\"technology\",\"direction\",\"dripper\",\"grab\",\"target\",\"write\",\"remind\",\"cha\",\"spice\",\"cancel\",\"damage\",\"healthy\",\"juice\",\"con\",\"map\",\"student\",\"rtx\",\"indie\",\"self\",\"attempt\",\"walk\",\"lie\",\"botw\",\"remake\",\"heat\",\"menu\",\"pee\",\"act\",\"natural\",\"spin\",\"mother\",\"encore\",\"network\",\"kill\",\"holiday\",\"parent\",\"potential\",\"auto\",\"cpu\",\"memory\",\"deep\",\"paper\",\"welcome\",\"speak\",\"form\",\"possibly\",\"splatoon\",\"cover\",\"sparkle\",\"shooter\",\"skill\",\"fully\",\"bonus\",\"easily\",\"email\",\"tend\",\"part\",\"direct\",\"genuinely\",\"3rd\",\"boil\",\"sad\",\"starbucks\",\"buck\",\"grip\",\"barely\",\"bar\",\"developer\",\"mobile\",\"upline\",\"weak\",\"greatly\",\"collection\",\"region\",\"challenge\",\"son\",\"alcohol\",\"opportunity\",\"infinite\",\"conversation\",\"fantasy\",\"stupid\",\"smash\",\"chocolate\",\"teapot\",\"period\",\"teavana\",\"aware\",\"recent\",\"rule\",\"continue\",\"sprite\",\"metroid\",\"9\",\"spot\",\"crossing\",\"quit\",\"doterra\",\"explore\",\"town\",\"trust\",\"battle\",\"management\",\"and/or\",\"obvious\",\"summer\",\"3.5\",\"mark\",\"trailer\",\"folk\",\"section\",\"sd\",\"invest\",\"project\",\"particularly\",\"beat\",\"session\",\"prepare\",\"typically\",\"reusable\",\"confused\",\"golf\",\"burn\",\"monster\",\"hunter\",\"desk\",\"favourite\",\":d\",\"25\",\"daughter\",\"shake\",\"refuse\",\"pic\",\"relate\",\"salt\",\"r&f\",\"action\",\"legit\",\"simply\",\"treat\",\"pair\",\"drift\",\"ability\",\"guide\",\"instagram\",\"generation\",\"netflix\",\"extract\",\"f\",\"gamestop\",\"vr\",\"entire\",\"ingredient\",\"rooibo\",\"retro\",\"leak\",\"twice\",\"count\",\"theanine\",\"covid\",\"meme\",\"mlmer\",\"name\",\"helpful\",\"stream\",\"retailer\",\"having\",\"mistake\",\"flag\",\"door\",\"doubt\",\"eshop\",\"\\u00a3\",\"tag\",\"invite\",\"dr\",\"grand\",\"enemy\",\"essential\",\"noire\",\"dose\",\"tl;dr\",\"32\",\"mechanic\",\"financial\",\"swap\",\"nail\",\"ahead\",\"spring\",\"piece\",\"properly\",\"enter\",\"roll\",\"ale\",\"bottled\",\"history\",\"wire\",\"hardware\",\"/u\",\"nut\",\"enable\",\"1080p\",\"label\",\"amd\",\"ruin\",\"advantage\",\"gtx\",\"decision\",\"2018\",\"constantly\",\"middle\",\"ps3\",\"bother\",\"winner\",\"item\",\"refresh\",\"encourage\",\"200\",\"ti\",\"particular\",\"relatively\",\"fire\",\"hrs\",\"subscription\",\"gun\",\"pressure\",\"escape\",\"modern\",\"i.e.\",\"coupon\",\"identify\",\"mission\",\"shoot\",\"skyrim\",\"ssd\",\"horizon\",\"sip\",\"produce\",\"organization\",\"iris\",\"previously\",\"rich\",\"cherry\",\"preferably\",\"purpose\",\"zoom\",\"counter\",\"apart\",\"king\",\"sport\",\"friday\",\"deliver\",\"electric\",\"ready\",\"era\",\"dad\",\"standard\",\"wild\",\"master\",\"hang\",\"golden\",\"portafilter\",\"correct\",\"brain\",\"blast\",\"niche\",\"blog\",\"view\",\"et\",\"sick\",\"movie\",\"couch\",\"yunnan\",\"22\",\"drinking\",\"wonderful\",\"attention\",\"credit\",\"surprised\",\"craft\",\"package\",\"step\",\"air\",\"addition\",\"18\",\"factory\",\"minimum\",\"compatible\",\"shame\",\"limited\",\"psa\",\"address\",\"worry\",\"valley\",\"f.lux\",\"truly\",\"friendly\",\"experiment\",\"slowly\",\"news\",\"120hz\",\"ex\",\"stress\",\"steel\",\"progress\",\"ai\",\"driver\",\"coworker\",\"bluetooth\",\"e.g.\",\"apple\",\"accessory\",\"motion\",\"accord\",\"sweetness\",\"puzzle\",\"legend\",\"deluxe\",\"reduce\",\"datum\",\"alright\",\"demo\",\"extremely\",\"2015\",\"loss\",\"kick\",\"separate\",\"beach\",\"fundraiser\",\"position\",\"log\",\"sample\",\"bowl\",\"browse\",\"seriously\",\"11\",\"premium\",\"og\",\"dragon\",\"2016\",\"league\",\"basic\",\"hd\",\"wars\",\"jedi\",\"3ds\",\"dr.\",\"24\",\"annoying\",\"screw\",\"cheer\",\"dawn\",\"pain\",\"music\",\"consistent\",\"channel\",\"=\",\"table\",\"peach\",\"basket\",\"imagine\",\"pu'erh\",\"enjoyable\",\"journey\",\"fruity\",\"lucky\",\"board\",\"extraction\",\"transfer\",\"metroidvania\",\"lag\",\"potentially\",\"evidence\",\"dream\",\"upset\",\"program\",\"occasionally\",\"intake\",\"devs\",\"effort\",\"trilogy\",\"custom\",\"wide\",\"60hz\",\"refer\",\"usual\",\"evil\",\"fallout\",\"tear\",\"practice\",\"megaman\",\"december\",\"seller\",\"plenty\",\"limit\",\"logo\",\"arrive\",\"origin\",\"accidentally\",\"launcher\",\"1440p\",\"aroma\",\"honest\",\"appear\",\"traditional\",\"floral\",\"plain\",\"nyc\",\"2020\",\"franchise\",\"randomly\",\"35\",\"repair\",\"loud\",\"colour\",\"exotic\",\"respond\",\"charger\",\"lapsang\",\"uninstall\",\"irn\",\"bru\",\"70\",\"can\",\"lady\",\"kit\",\"liter\",\"trial\",\"million\",\"proper\",\"prior\",\"statement\",\"garbage\",\"2017\",\"fb\",\"sun\",\"digitally\",\"bundle\",\"la\",\"strategy\",\"aim\",\"theory\",\"delicious\",\"powerful\",\"odyssey\",\"necessary\",\"warm\",\"breville\",\"visual\",\"breath\",\"min\",\"afraid\",\"rock\",\"ripe\",\"china\",\"suddenly\",\"remain\",\"ms\",\"tin\",\"restart\",\"pure\",\"birthday\",\"equipment\",\"mid\",\"hollow\",\"lemonade\",\"antimlm\",\"somebody\",\"streaming\",\"entirely\",\"rumble\",\"core\",\"block\",\"redditor\",\"harney\",\"busy\",\"tool\",\"adjust\",\"anyways\",\"studio\",\"fair\",\"racing\",\"storage\",\"america\",\"epic\",\"alot\",\"p.t\",\"mad\",\"dm\",\"sensitive\",\"hdd\",\"beginning\",\"electrolyte\",\"500\",\"complex\",\"tank\",\"resource\",\"distributor\",\"client\",\"\\u00b0\",\"aged\",\"capture\",\"over\",\"record\",\"topic\",\"favor\",\"wall\",\"ultra\",\"cyberpunk\",\"metal\",\"living\",\"heart\",\"clearly\",\"pixel\",\"database\",\"external\",\"left\",\"bloom\",\"inside\",\"1000\",\"batch\",\"steal\",\"kart\",\"impression\",\"agree\",\"120fps\",\"shower\",\"cash\",\"ear\",\"mirror\",\"restaurant\",\"enhance\",\"perfectly\",\"decaf\",\"ray\",\"leader\",\"slot\",\"walmart\",\"hydrohomies\",\"proud\",\"raise\",\"ac\",\"accept\",\"reward\",\"chamomile\",\"roasted\",\"stage\",\"preorder\",\"discontinue\",\"complain\",\"theft\",\"vanilla\",\"tasting\",\"shape\",\"appeal\",\"meeting\",\"primerica\",\"l.a.\",\"impressed\",\"everybody\",\"adaptive\",\"cooler\",\"primary\",\"overly\",\"discord\",\"command\",\"application\",\"gaiwan\",\"kitchen\",\"ideal\",\"ad\",\"polish\",\"soft\",\"wake\",\"measure\",\"gets\",\"insight\",\"maintain\",\"disappointed\",\"1st\",\"tasty\",\"sadly\",\"baby\",\"employee\",\"consultant\",\"gate\",\"ignore\",\"useful\",\"value\",\"cups\",\"aunt\",\"80\",\"noticeable\",\"comparison\",\"beta\",\"alive\",\"trip\",\"unreal\",\"child\",\"pattern\",\"iv\",\"tonight\",\"cult\",\"secret\",\"law\",\"degree\",\"majority\",\"rodan\",\"fee\",\"intel\",\"inform\",\"ultimate\",\"vita\",\"frequently\",\"bf\",\"frustrating\",\"ps+\",\"iced\",\"elite\",\"rare\",\"fault\",\"doom\",\"framerate\",\"essentially\",\"white2tea\",\"coin\",\"feedback\",\"noise\",\"medical\",\"genre\",\"infuser\",\"tiny\",\"glitch\",\"cod\",\"playable\",\"campaign\",\"legal\",\"multi\",\"aspect\",\"lover\",\"horrible\",\"cinnamon\",\"render\",\"joke\",\"router\",\"beautiful\",\"pourover\",\"hydration\",\"feed\",\"voice\",\"amount\",\"military\",\"island\",\"shift\",\"a&w\",\"pu\",\"vario\",\"ghost\",\"north\",\"detect\",\"souchong\",\"pineapple\",\"linux\",\"mystery\",\"charity\",\"broken\",\"symptom\",\"ultrawide\",\"insurance\",\"american\",\"commission\",\"sink\",\"infusion\",\"flair\",\"u.k.\",\"unit\",\"episode\",\"btw\",\"teacup\",\"tldr\",\"2013\",\"poster\",\"liquid\",\"hunt\",\"possibility\",\"negative\",\"initially\",\"comparable\",\"nes\",\"snes\",\"`\",\"arm\",\"w/o\",\"fancy\",\"farm\",\"horribly\",\"scared\",\"14\",\"description\",\"disappoint\",\"vendor\",\"hole\",\"beverage\",\"s&w\",\"acidic\",\"spread\",\"category\",\"honey\",\"attach\",\"disable\",\"appropriate\",\"predatory\",\"chinese\",\"nope\",\"witcher\",\">\",\"odd\",\"3.0\",\"consume\",\"human\",\"ritual\",\"san\",\"ama\",\"cycle\",\"fake\",\"proof\",\"aaa\",\"sea\",\"route\",\"familiar\",\"fields\",\"generic\",\"samsung\",\"tb\",\"geforce\",\"cd\",\"nearly\",\"1zpresso\",\"everyday\",\"habit\",\"mint\",\"difficulty\",\"scentsy\",\"rechargeable\",\"clay\",\"stomach\",\"plant\",\"brewer\",\"bright\",\"oled\",\"tough\",\"technique\",\"consistently\",\"surprise\",\"hyper\",\"tech\",\"gain\",\"cousin\",\"vitamin\",\"processing\",\"material\",\"hint\",\"fantastic\",\"crush\",\"introduce\",\"swear\",\"trigger\",\"survival\",\"false\",\"manual\",\"v.\",\"urge\",\"understanding\",\"pibb\",\"bathroom\",\"january\",\"teas\",\"crystal\",\"submit\",\"offline\",\"boy\",\"complaint\",\"13\",\"platformer\",\"donate\",\"bored\",\"2019\",\"rush\",\"e3\",\"bandicoot\",\"clip\",\"sunday\",\"sweetener\",\"succeed\",\"preferred\",\"director\",\"clothing\",\"horror\",\"race\",\"debt\",\"monday\",\"atm\",\"axis\",\"payment\",\"id\",\"fu\",\"forza\",\"pcgaming\",\"mtn\",\"insane\",\"invert\",\"notification\",\"ventures\",\"gray\",\"strange\",\"blind\",\"2d\",\"partner\",\"impossible\",\"instruction\",\"coach\",\"\\ud83d\\udea9\",\"dolby\",\"manager\",\"desolatium\",\"exact\",\"dehydrate\",\"lime\",\"purple\",\"score\",\"fountain\",\"resolution\",\"alarm\",\"gongfu\",\"xsx\",\"advertise\",\"unlike\",\"tempt\",\"fortnite\",\"combo\",\"corner\",\"commercial\",\"stuck\",\"fallen\",\"europe\",\"perspective\",\"depend\",\"ram\",\"wow\",\"solve\",\"truth\",\"ebay\",\"ml\",\"forever\",\"usd\",\"adult\",\"ii\",\"replay\",\"fi\",\"nintendoswitch\",\"recognize\",\"comfortable\",\"knock\",\"trap\",\"chill\",\"paint\",\"hobby\",\"average\",\"99\",\"originally\",\"november\",\"reinstall\",\"rinse\",\"0\",\"wine\",\"image\",\"raw\",\"location\",\"concept\",\"hospital\",\"stumble\",\"suffer\",\"warning\",\"praise\",\"disconnect\",\"somewhat\",\"instant\",\"bodum\",\"path\",\"teach\",\"thinking\",\"oc\",\"stack\",\"technically\",\"processor\",\"planet\",\"selling\",\"active\",\"sons\",\"q&a\",\"1l\",\"150\",\"flow\",\"screenshot\",\"panel\",\"development\",\"bloodstaine\",\"preset\",\"risk\",\"output\",\"technical\",\"tia\",\"babe\",\"addiction\",\"coca\",\"collect\",\"rant\",\"grade\",\"reputable\",\"total\",\"park\",\"track\",\"certainly\",\"hero\",\"780\",\"warn\",\"brown\",\"45\",\"micro\",\"investment\",\"spicy\",\"significantly\",\"expire\",\"clarify\",\"photo\",\"ounce\",\"wash\",\"afford\",\"concerned\",\"rumor\",\"minor\",\"iphone\",\"announcement\",\"building\",\"endless\",\"states\",\"repeat\",\"chip\",\"encounter\",\"cloud\",\"tearing\",\"30fps\",\"constant\",\"background\",\"preview\",\"defend\",\"vibe\",\"2012\",\"ftc\",\"incredible\",\"gut\",\"\\ud83d\\ude02\",\"highly\",\"alliance\",\"supermarket\",\"european\",\"dread\",\"import\",\"bubble\",\"300\",\"lan\",\"combine\",\"corporate\",\"ridiculous\",\"status\",\"nutrition\",\"ideally\",\"alternate\",\"describe\",\"evening\",\"punch\",\"sodium\",\"tax\",\"fifa\",\"bros\",\"roasting\",\"schedule\",\"debate\",\"circle\",\"depth\",\"frother\",\"improvement\",\"bonavita\",\"nearby\",\"culture\",\"nestl\\u00e9\",\"blueberry\",\"artificial\",\"security\",\"automatic\",\"pandemic\",\"transition\",\"silly\",\"imo\",\"nestle\",\"shadow\",\"nabbit\",\"grape\",\"thermos\",\"dandelion\",\"seltzer\",\"lipton\",\"tweak\",\"texte\",\"freeze\",\"speaker\",\"cbd\",\"adagio\",\"d&d\",\"monica\",\"nioh\",\"hibiscus\",\"convenience\",\"chain\",\"rid\",\"initial\",\"goal\",\"stutter\",\"i7\",\"dig\",\"india\",\"reveal\",\"17\",\"host\",\"tournament\",\"reference\",\"neighbor\",\"advanced\",\"dial\",\"chrome\",\"radeon\",\"exploration\",\"attack\",\"builder\",\"language\",\"kidney\",\"hario\",\"theirs\",\"unlock\",\"wedding\",\"icon\",\"porcelain\",\"pricey\",\"excuse\",\"trace\",\"drunk\",\"wet\",\"lift\",\"insert\",\"booth\",\"incredibly\",\"4th\",\"28\",\"gong\",\"flash\",\"95\",\"dilute\",\"bitterness\",\"upload\",\"expectation\",\"astringent\",\"germany\",\"joystick\",\"correctly\",\"ui\",\"wifi\",\"600\",\"perform\",\"shill\",\"achieve\",\"cord\",\"bulk\",\"carafe\",\"msaa\",\"scene\",\"borderlands\",\"floor\",\"pampered\",\"chef\",\"career\",\"february\",\"plum\",\"destroy\",\"father\",\"tutorial\",\"obscure\",\"gamertag\",\"gooseneck\",\"makeup\",\"bandwidth\",\"970\",\"thirst\",\"trading\",\"brick\",\"optimize\",\"road\",\"engine\",\"minimal\",\"gently\",\"register\",\"acid\",\"implement\",\"sky\",\"dishonored\",\"intend\",\"prove\",\"drain\",\"dev\",\"mainly\",\"fizz\",\"packaging\",\"typical\",\"cane\",\"lovely\",\"scroll\",\"beachbody\",\"giant\",\"funny\",\"stranger\",\"awhile\",\"dual\",\"soul\",\"occur\",\"podcast\",\"wind\",\"phase\",\"kingdom\",\"batman\",\"haha\",\"rally\",\"sensitivity\",\"starter\",\"fund\",\"wtf\",\"redeem\",\"luckily\",\"2l\",\"absorb\",\"mineral\",\"dragonball\",\"washington\",\"mg\",\"powder\",\"smoke\",\"portable\",\"garden\",\"mask\",\"fold\",\"compatibility\",\"attend\",\"draw\",\"starbuck\",\"enthusiast\",\"confuse\",\"contribute\",\"boiling\",\"buffering\",\"childhood\",\"1500\",\"serve\",\"100ml\",\"glaze\",\"static\",\"earn\",\"decline\",\"equal\",\"bet\",\"basis\",\"expert\",\"split\",\"sequel\",\"stretch\",\"success\",\"stir\",\"thief\",\"effective\",\"instantly\",\"tie\",\"2080\",\"solo\",\"rope\",\"hack\",\"patient\",\"cache\",\"study\",\"harmful\",\"locate\",\"individual\",\"coop\",\"spoiler\",\"cute\",\"lurk\",\"prime\",\"\\ud83e\\udd23\",\"police\",\"washer\",\"protect\",\"n.\",\"sane\",\"gem\",\"freshly\",\"balance\",\"reading\",\"factor\",\"ip\",\"award\",\"uncomfortable\",\"saving\",\"hook\",\"south\",\"bl\",\"blah\",\"glad\",\"distance\",\"hoffman\",\"mate\",\"lego\",\"afternoon\",\"nba\",\"zombie\",\"forest\",\"environmental\",\"knowledge\",\"mac\",\"spider\",\"bomb\",\"relative\",\"brush\",\"yixe\",\"\\ud83d\\ude2d\",\"y'all\",\"semi\",\"novice\",\"erh\",\"strength\",\"thousand\",\"texas\",\"destiny\",\"stainless\",\"forgot\",\"disgusting\",\"lifestyle\",\"valid\",\"fridge\",\"downline\",\"finer\",\"tsushima\",\"h2o\",\"sarsaparilla\",\"mbps\",\"dogs\",\"equivalent\",\"iron\",\"wirelessly\",\"burst\",\"i.e\",\"gba\",\"workout\",\"england\",\"web\",\"j\",\"ethiopian\",\"flip\",\"aftertaste\",\"ea\",\"volume\",\"recruiter\",\"outlet\",\"stewart\",\"cons\",\"absolute\",\"tango\",\"shelf\",\"inventory\",\"july\",\"vacation\",\"recruitment\",\"tactic\",\"western\",\"roughly\",\"strawberry\",\"asap\",\"sidebar\",\"ips\",\"nephew\",\"converter\",\"environment\",\"zone\",\"entry\",\"cosmetic\",\"ff\",\"civilization\",\"experienced\",\"l.a\",\"dumb\",\"native\",\"lazy\",\"combination\",\"skerton\",\"clunky\",\"garage\",\"container\",\"guest\",\"hearts\",\"soundtrack\",\"selection\",\"primarily\",\"avatar\",\"ending\",\"h\",\"prevent\",\"criterion\",\"judge\",\"advise\",\"novel\",\"preface\",\"land\",\"boring\",\"disk\",\"plz\",\"prix\",\"gather\",\"rise\",\"guilt\",\"2014\",\"2nd\",\"6th\",\"rabbit\",\"australia\",\"chase\",\"simulator\",\"diamond\",\"plastik\",\"retail\",\"carbonated\",\"dashboard\",\"remaster\",\"sampler\",\"costa\",\"drinkable\",\"hub\",\"survive\",\"numerous\",\"thick\",\"public\",\"leninade\",\"skeptical\",\"motherboard\",\"widely\",\"horse\",\"professional\",\"acquaintance\",\"hire\",\"lunch\",\"strongly\",\"bud\",\"teaspoon\",\"squeeze\",\"context\",\"animation\",\"ekg\",\"frustration\",\"occasional\",\"redditgifts\",\"intention\",\"dude\",\"relaxing\",\"poorly\",\"march\",\"sodaswap\",\"sudden\",\"automatically\",\"asleep\",\"hotel\",\"mcc\",\"slayer\",\"nature\",\"flask\",\"da\",\"2/3\",\"eg\",\"british\",\"disappear\",\"capable\",\"jug\",\"pregnant\",\"beauty\",\"corsair\",\"250\",\"optical\",\"64\",\"conference\",\"translation\",\"dust\",\"handful\",\"vehicle\",\"itch\",\"desperately\",\"stat\",\"octopath\",\"forum\",\"kalita\",\"headache\",\"nasty\",\"cent\",\"c.\",\"angle\",\"quarantine\",\"tho\",\"reliable\",\"reset\",\"subscriber\",\"anytime\",\"scoop\",\"d.c.\",\"regularly\",\"science\",\"determine\",\"2021\",\"wave\",\"closed\",\"ipad\",\"significant\",\"reminder\",\"900\",\"warzone\",\"humble\",\"united\",\"backwards\",\"shampoo\",\"subject\",\"palate\",\"activate\",\"apologize\",\"vram\",\"ncp\",\"explanation\",\"consensus\",\"logic\",\"chart\",\"neighborhood\",\"sketchy\",\"slide\",\"mouth\",\"excellent\",\"honor\",\"skip\",\"reaction\",\"fury\",\"optimization\",\"throat\",\"august\",\"roommate\",\"rf\",\"mlms\",\"unavailable\",\"rarely\",\"rockstar\",\"remastered\",\"virtual\",\"immersion\",\"round\",\"testing\",\"best\",\"secure\",\"chug\",\"docked\",\"winter\",\"caramel\",\"\\ud83d\\ude01\",\"corn\",\"partially\",\"fish\",\"heck\",\"pvp\",\"xt\",\"florida\",\"noob\",\"rebuild\",\"bros.\",\"kay\",\"outer\",\"alien\",\"west\",\"dash\",\"apex\",\"twitch\",\"hardly\",\"genuine\",\"entrepreneur\",\"consumer\",\"u.\",\"s.\",\"twitter\",\"est\",\"mixed\",\"genmaicha\",\"indicate\",\"wallet\",\"sheng\",\"<3\",\"barq\",\"400\",\"ease\",\"cook\",\"uncle\",\"defensive\",\"sin\",\"checkerboard\",\"subscribe\",\"club\",\"nespresso\",\"descale\",\"logitech\",\"nalgene\",\"rdr2\",\"convo\",\"toothpaste\",\"treatment\",\"fighting\",\"jewelry\",\"branch\",\"sodastream\",\"dance\",\"stove\",\"cranberry\",\"unplayable\",\"slim\",\"asian\",\"bird\",\"fructose\",\"hopper\",\"mazzer\",\"private\",\"simon\",\"speech\",\"36\",\"international\",\"demand\",\"bungie\",\"california\",\"buddy\",\"narrative\",\"souls\",\"lavender\",\"farmer\",\"farming\",\"anxiety\",\"bear\",\"cartridge\",\"ippodo\",\"parameter\",\"acne\",\"spell\",\"reasonable\",\"username\",\"dislike\",\"sweden\",\"ratchet\",\"clank\",\"kyani\",\"luigi\",\"boost\",\"ya\",\"mr\",\"psv\",\"grandma\",\"ohio\",\"stale\",\"picky\",\"vet\",\"duty\",\"pace\",\"dmc\",\"ds\",\"gas\",\"domed\",\"ps2\",\"clothe\",\"yield\",\"metallic\",\"psvr\",\"19\",\"jamie\",\"ampe\",\"lobby\",\"f.e.a.r\",\"virtuoso\",\"victim\",\"upvote\",\"simulation\",\"nat\",\"tile\",\"ori\",\"yadda\",\"script\",\"sec\",\"clever\",\"expand\",\"draft\",\"dosbox\",\"barrel\",\"stamp\",\"university\",\"aergrind\",\"reshade\",\"depot\",\"mango\",\"xtra\",\"surely\",\"54\",\"artwork\",\"flower\",\"shortage\",\"nos\",\"turbo\",\"row\",\"survey\",\"incase\",\"actively\",\"agency\",\"bell\",\"accident\",\"last\",\"optimal\",\":p\",\"sticker\",\"heavily\",\"coconut\",\"lularoe\",\"haul\",\"overlook\",\"p.s\",\"fishy\",\"positive\",\"wing\",\"mmo\",\"ball\",\"dense\",\"brazil\",\"guilty\",\"mexico\",\"generate\",\"holy\",\"aggressive\",\"regional\",\"here](https://www.reddit.com\",\"bowser\",\"central\",\"canadian\",\"intro\",\"frustrated\",\"m&k\",\"clue\",\"lay\",\"suit\",\"neat\",\"superior\",\"cleaning\",\"strip\",\"subtle\",\"lean\",\"satisfying\",\"75\",\"accurate\",\"arcade\",\"sim\",\"oe\",\"translate\",\"watery\",\"syrah\",\"astringency\",\"mei\",\"58\",\"dispenser\",\"homies\",\"af\",\"functional\",\"diagnose\",\"influencer\",\"700\",\"reality\",\"til\",\"train\",\"gourmet\",\"posting\",\"rn\",\"successful\",\"thin\",\"decade\",\"square\",\"van\",\"splash\",\"immensely\",\"regardless\",\"trend\",\"cutscene\",\"teacher\",\"oc'd\",\"1k\",\"quad\",\"beg\",\"industry\",\"interaction\",\"ish\",\"camera\",\"sencha\",\"vague\",\"capacity\",\"suspect\",\"pci\",\"x2\",\"sli\",\"satisfy\",\"yooka\",\"laylee\",\"enhanced\",\"installation\",\"upwards\",\"acquire\",\"repeatedly\",\"deadzone\",\"warranty\",\"rely\",\"android\",\"legendary\",\"sunset\",\"ds4\",\"wen\",\"preordere\",\"lurker\",\"approve\",\"regulation\",\"mentor\",\"hollywood\",\"evolve\",\"evo\",\"2.5\",\"lg\",\"7.1\",\"resident\",\"uncharted\",\"arkham\",\"length\",\"steins\",\"function\",\"condition\",\"customization\",\"manually\",\"kickstarter\",\"shock\",\"cooper\",\"poll\",\"politely\",\"bc\",\"fighter\",\"champion\",\"percent\",\"mute\",\"forgive\",\"universe\",\"bravo\",\"wega\",\"italy\",\"peace\",\"math\",\"legging\",\"shopping\",\"argument\",\"worthwhile\",\"existence\",\"colleague\",\"tannin\",\"seek\",\"bite\",\"silent\",\"moral\",\"l\\u2019ange\",\"unsweetened\",\"sour\",\"distribute\",\"tweet\",\"stinger\",\"sting\",\"980\",\"principle\",\"blade\",\"song\",\"buggy\",\"le\",\"thrive\",\"supplement\",\"hide\",\"overnight\",\"redhead\",\"earthy\",\"citrus\",\"liquor\",\"apartment\",\"male\",\"crack\",\"reverse\",\"boyfriend\",\"relationship\",\"jp\",\"simulate\",\"clock\",\"1.5\",\"paparazzi\",\"ceo\",\"magic\",\"swing\",\"border\",\"reduction\",\"hybrid\",\"benchmark\",\"convenient\",\"finger\",\"cross\",\"u.k\",\"specialty\",\"bedroom\",\"hardcore\",\"dirty\",\"protective\",\"production\",\"awakening\",\"trash\",\"substance\",\"whilst\",\"slay\",\"sticky\",\"surround\",\"8.03\",\"aid\",\"vs.\",\"statistic\",\"aka\",\"mary\",\"prompt\",\"wilds\",\"buzz\",\"mood\",\"spam\",\"communication\",\"flood\",\"tbh\",\"spoilers\",\"resort\",\"unplug\",\"specify\",\"wsgf\",\"darjeele\",\"wholesale\",\"stall\",\"wi\",\"starting\",\"congrat\",\"sourcing\",\"korean\",\"teabag\",\"-checke\",\"stealth\",\"maintenance\",\"m47\",\"icarus\",\"fond\",\"doc\",\"jittery\",\"anxious\",\"4:6\",\"m.2\",\"loading\",\"fizzy\",\"clog\",\"55\",\"laugh\",\"italian\",\"rent\",\"exercise\",\"steer\",\"adopt\",\"female\",\"mortal\",\"kombat\",\"modest\",\"scratch\",\"mindset\",\"tips\",\"format\",\"chit\",\"supportive\",\"paranoid\",\"cyber\",\"plot\",\"silvia\",\"backstory\",\"heap\",\"chunk\",\"bat\",\"pushy\",\"commit\",\"rune\",\"lil\",\"aukey\",\"cart\",\"raspberry\",\"concentrate\",\"republic\",\"convert\",\"print\",\"necessarily\",\"rpgs\",\"rain\",\"gopro\",\"antique\",\"costco\",\"cube\",\"outcome\",\"pcgame\",\"meta\",\"mixture\",\"101\",\"moccamaster\",\"speciality\",\"comfort\",\"southern\",\"fear\",\"baja\",\"taco\",\"binge\",\"dram\",\"transaction\",\"i\\u00b4m\",\"relax\",\"maxe\",\"aa\",\"imgur\",\"stash\",\"responsible\",\"gyokuro\",\"transmitter\",\"connector\",\"mylar\",\"revolution\",\"overwhelming\",\"fat\",\"pod\",\"desperate\",\"organize\",\"quake\",\"unpleasant\",\"acnh\",\"platinum\",\"consideration\",\"wishlist\",\"toadette\",\"\\u2122\",\"additional\",\"smartphone\",\"caffeinate\",\"tennis\",\"gamepad\",\"blaster\",\"yep\",\"grandmother\",\"toxic\",\"catalog\",\"cry\",\"fuel\",\"shovel\",\"training\",\"midnight\",\"faygo\",\"station\",\"weapon\",\"deserve\",\"cacao\",\"husk\",\"rewind\",\"elaborate\",\"admit\",\"leg\",\"bethesda\",\"fortunate\",\"fiber\",\"conquer\",\"dedicate\",\"gtav\",\"mile\",\"zac\",\"\\ud83d\\udca7\",\"hurricane\",\"socom\",\"recon\",\"settlement\",\"percolator\",\"ezone.com\",\"cardamom\",\"amped\",\"ops\",\"activision\",\"downgrade\",\"straw\",\"sunshine\",\"cc\",\"copper\",\"victory\",\"rude\",\"kickstand\",\"delight\",\"rendering\",\"blu\",\"vizio\",\"maximum\",\"scalper\",\"alt\",\"prey\",\"awareness\",\"disclose\",\"twist\",\"xpost\",\"uninstalle\",\"mainstream\",\"masala\",\"\\u0111ezva\",\"dilemma\",\"overworld\",\"baffle\",\"unglazed\",\"exterior\",\"spirit\",\"disgust\",\"taiwanese\",\"q-\",\"peak\",\"steamworld\",\"cereal\",\"k.\",\"functionality\",\"induction\",\"safeway\",\"redirect\",\"exit\",\"houston\",\"1:2\",\"60ml\",\"rool\",\"\\u2125\",\"mariokart\",\"achievement\",\"reed\",\"welch\",\"housewife\",\"nextdoor\",\"scottish\",\"scary\",\"comply\",\"anniversary\",\"tapping\",\"tapir\",\"royal\",\"grant\",\"leftover\",\"1/2\",\"queue\",\"merch\",\"15th\",\"valhalla\",\"producer\",\"overview\",\"pertain\",\"textbook\",\"wholeheartedly\",\"foot\",\"role\",\"alert\",\"tgy\",\"19.99\",\"caf\\u00e9\",\"inspiration\",\"bunn\",\"avid\",\"egg\",\"forth\",\"on\",\"almond\",\"stevia\",\"promo\",\"ssbu\",\"obsess\",\"civ\",\"vi\",\"prioritize\",\"crowd\",\"ireland\",\"menus\",\"sdcard\",\"enforcement\",\"powered\",\"capresso\",\"secondary\",\"portal\",\"buyer\",\"electronic\",\"tl\",\"bot\",\"david\",\"dozen\",\"remotely\",\"moon\",\"chew\",\"refreshing\",\"wrench\",\"ig\",\"sleeve\",\"vegan\",\"conical\",\"weigh\",\"15:1\",\"spare\",\"insanely\",\"tedious\",\"severely\",\"tray\",\"cincinnati\",\"convention\",\"norway\",\"2000\",\"addictive\",\"addicted\",\"11th\",\"nose\",\"100c\",\"fragrance\",\"berry\",\"sept\",\"pump\",\"flight\",\"emotion\",\"pok\\u00e9mon\",\"looking\",\"operation\",\"carbonate\",\"complicated\",\"2022\",\"bland\",\"lost\",\"halloween\",\"scandal\",\"youtuber\",\"band\",\"preground\",\"benson\",\"rapid\",\"chronic\",\"ill\",\"headphones\",\"el\",\"disclaimer\",\"ceramic\",\"stovetop\",\"lid\",\"occasion\",\"thorough\",\"oppose\",\"sleepy\",\"delivery\",\"string\",\"sanctuary\",\"taa\",\"spill\",\"critical\",\"bin\",\"pcmasterrace\",\"desktop\",\"relevant\",\"venture\",\"disappointing\",\"younique\",\"spiel\",\"shady\",\"soooo\",\"boo\",\"metro\",\"hesitant\",\"dynamic\",\"footage\",\"linear\",\"interface\",\"field\",\"x16\",\"reboot\",\"laser\",\"gauge\",\"architecture\",\"hundred\",\"expanded\",\"promotion\",\"definitive\",\"mixamp\",\"astro\",\"sunlight\",\"ios\",\"unhealthy\",\"opt\",\"tablet\",\"eli5\",\"yu\",\"lin\",\"closely\",\"fool\",\"teenager\",\"signup\",\"llr\",\"\\ufe0f\",\"ds3\",\"shortly\",\"spiderman\",\"85\",\"watcheranon\",\"silver\",\"ensure\",\"moist\",\"homeless\",\"marry\",\"working\",\"danger\",\"strain\",\"rodan+field\",\"vast\",\"disguise\",\"fda\",\"medication\",\"salesperson\",\"operate\",\"acer\",\"uhd\",\"mentorship\",\"freedom\",\"suspicious\",\"slight\",\"shiny\",\"atx\",\"149.99\",\"internal\",\"writer\",\"quiet\",\"overcome\",\"resist\",\"uncertain\",\"studios\",\"gog\",\"subnautica\",\"durability\",\"wise\",\"vision\",\"barqs\",\"creme\",\"alcoholic\",\"tressa\",\"electricity\",\"paypal\",\"generator\",\"movement\",\"\\ud83d\\ude0a\",\"seed\",\"hemp\",\"nuclear\",\"tomb\",\"raider\",\"manufacturing\",\"steady\",\"accomplish\",\"covid-19\",\"melitta\",\"pressurize\",\"runner\",\"upcoming\",\"curiosity\",\"cell\",\"hustle\",\"solely\",\"espressos\",\"f@h\",\"informative\",\"lower\",\"global\",\"sluggish\",\"interact\",\"patience\",\"swipe\",\"persistent\",\"n64\",\"mp\",\"unsure\",\"annoy\",\"intense\",\"saturate\",\"9/10\",\"virus\",\"newb\",\"texture\",\"melaleuca\",\"gel\",\"ailment\",\"vulnerable\",\"involved\",\"thankful\",\"respect\",\"nicely\",\"increasingly\",\"abandon\",\"sized\",\"colorful\",\"challenging\",\"maturity\",\"290x\",\"nauseous\",\"caffeinated\",\"oddly\",\"marvel\",\"iii\",\"affiliate\",\"celestial\",\"u.s\",\"everytime\",\"nostalgia\",\"narrow\",\"september\",\"refill\",\"june\",\"bank\",\"household\",\"gatorade\",\"zyia\",\"extend\",\"nuskin\",\"confusion\",\"pet\",\"dockable\",\"melt\",\"celeste\",\"letter\",\"confront\",\"confusing\",\"brace\",\"keen\",\"ditch\",\"beginner\",\"pause\",\"userbenchmark\",\"speculation\",\"+18\",\"cappuccino\",\"wulong\",\"flame\",\"tflop\",\"5700\",\"26\",\"rdna\",\"binding\",\"isaac\",\"atmosphere\",\"hdtv\",\"em\",\"\\ud83d\\ude44\",\"loop\",\"toad\",\"kool\",\"twining\",\"tablespoon\",\"mild\",\"decrease\",\"expo\",\"header\",\"blaze\",\"phenomenal\",\"tuesday\",\"exciting\",\"axiom\",\"verge\",\"fulfill\",\"teachat.com\",\"avail\",\"folgers\",\"brita\",\"goodness\",\"lesson\",\"popularity\",\"advisory\",\"tale\",\"fyi\",\"flush\",\"agreement\",\"bf1\",\"don't\",\"nylon\",\"engage\",\"paste\",\"subjective\",\"playing\",\"prebuilt\",\"an\",\"dive\",\"visible\",\"knowledgeable\",\"a.\",\"orlando\",\"romance\",\"hidden\",\"gamecube\",\"firm\",\"c40\",\"grinding\",\"equally\",\"bash\",\"found\",\"y\\u2019all\",\"realistic\",\"cave\",\"creator\",\"kong\",\"programmable\",\"sacrifice\",\"justify\",\"nvme\",\"yellow\",\"edge\",\"sunkist\",\"2006\",\"membership\",\"tape\",\"cancer\",\"heal\",\"national\",\"cheerwine\",\"verify\",\"fave\",\"mart\",\"intelligent\",\"plannet\",\"mason\",\"react\",\"dedicated\",\"broth\",\"prediction\",\"jackbox\",\"amiibo\",\"costume\",\"bind\",\"deliberately\",\"excitement\",\"whistle\",\"pleased\",\"pickle\",\"bitcoin\",\"hill\",\"pid\",\"promising\",\"estore\",\"boredom\",\"diablo\",\"atomy\",\"calibrate\",\"fiance\",\"availability\",\"foundry\",\"videogame\",\"invitation\",\"vanquish\",\"yakuza\",\"policy\",\"nindie\",\"idiot\",\"milky\",\"12.99\",\"warfare\",\"acidity\",\"virgil\",\"128\",\"resemble\",\"linger\",\"craigslist\",\"dull\",\"motivation\",\"2k\",\"funnel\",\"rog\",\"notify\",\"akrafo\",\"department\",\"naturally\",\"wage\",\"14th\",\"co.\",\"cheat\",\"inc.\",\"expansion\",\"<\",\"satisfied\",\"president\",\"strictly\",\"newcomer\",\"throwback\",\"rough\",\"deny\",\"financially\",\"argue\",\"unpopular\",\"2.0\",\"pantie\",\"jones\",\"oxenfree\",\"boom\",\"stellar\",\"dinner\",\"karma\",\"calm\",\"xd\",\"fxaa\",\"adderall\",\"angry\",\"additive\",\"500ml\",\"individually\",\"hr\",\"rub\",\"center\",\"eliminate\",\"inverted\",\"driving\",\"euro\",\"t.\",\"boveda\",\"turtle\",\"timer\",\"spike\",\"pitcher\",\"supplier\",\"toronto\",\"signal\",\"hashtag\",\"amacha\",\"hive\",\"fermentation\",\"halfway\",\"minded\",\"settings\",\"sioux\",\"ridiculously\",\"banner\",\"gullible\",\"sight\",\"devos\",\"rican\",\"2.1\",\"freesync\",\"keeper\",\"amazingly\",\"trophy\",\"na\",\"accessibility\",\"com\",\"imply\",\"creative\",\"baseball\",\"megathread\",\"insurgency\",\"sandstorm\",\"immersive\",\"bug\",\"vietnamese\",\"decently\",\"gross\",\"blame\",\"creepy\",\"tight\",\"bold\",\"eta\",\"collectible\",\"saint\",\"psp\",\"stars\",\"sly\",\"deficiency\",\"pleasure\",\"counteract\",\"livid\",\"worker\",\"ps1\",\"sore\",\"tac\",\"rayman\",\"pirate\",\"qualified\",\"demon\",\"dante\",\"eastern\",\"careful\",\"tall\",\"nz\",\"sword\",\"crisis\",\"tree\",\"norwex\",\"eu\",\"q.u.b.e.\",\"ect\",\"insider\",\"arms\",\"staff\",\"breeder\",\"poodle\",\"mold\",\"poke\",\"bioshock\",\"creamy\",\"puzzler\",\"practically\",\"browser\",\"in\",\"estate\",\"wiiu\",\"usage\",\"efron\",\"dungeon\",\"sachet\",\"variation\",\"sims\",\"docx\",\"killer\",\"independent\",\"fitness\",\"back\",\"backup\",\"stone\",\"dip\",\"confrontational\",\"masters\",\"brag\",\"snap\",\"verification\",\"ambit\",\"frequent\",\"humid\",\"pg\",\"storyline\",\"communicate\",\"flavoring\",\"exclusively\",\"hunbot\",\"reconnect\",\"spout\",\"clove\",\"element\",\"corrupt\",\"salty\",\"wand\",\"salary\",\"graphical\",\"ugly\",\"playtime\",\"compliment\",\"realise\",\"yoshi\",\"airborne\",\"customize\",\"howdy\",\"macbook\",\"sf\",\"diagnostic\",\"proceed\",\"printable\",\"wasd\",\"bragging\",\"defer\",\"deferred\",\"engineer\",\"stereo\",\"p\",\"supervisor\",\"illegal\",\"stressful\",\"thankfully\",\"booklet\",\"pco\",\"lend\",\"irish\",\"appartamento\",\"gasket\",\"nu\",\"crosspost\",\"marukyu\",\"emulator\",\"340\",\"divide\",\"heroes\",\"related\",\"pulp\",\"dimension\",\"london\",\"admittedly\",\"rootbeer\",\"harbor\",\"sirena\",\"warcraft\",\"dlcs\",\"france\",\"karaoke\",\"minority\",\"usa\",\"sensor\",\"meh\",\"top\",\"modere\",\"hop\",\"180\",\"bang\",\"interior\",\"7up\",\"marzocco\",\"surprisingly\",\"mk8\",\"creditcard\",\"inferior\",\"e.g\",\"cabi\",\"polite\",\"dunno\",\"kona\",\"pound\",\"concentration\",\"ace\",\"65\",\"following\",\"interval\",\"mkl-\",\"nightmares\",\"l.\",\"1300\",\"timemore\",\"questions\",\"swirl\",\"scaling\",\"hzd\",\"valve\",\"vibrate\",\"fictional\",\"capability\",\"contamination\",\"premade\",\"guarda\",\"do\",\"coelhos\",\"friends\",\"xboxfriend\",\"screamer\",\"kinect\",\"ucb\",\"korea\",\"bergamot\",\"pouch\",\"muscovado\",\"\\u25cf\",\"tactile\",\"vest\",\"cope\",\"skincare\",\"hori\",\"tetsubin\",\"robusta\",\"fenyx\",\"explode\",\"liberty\",\"ergonomic\",\"lovecraft\",\"prologue\",\"grd\",\"calibration\",\"wegmans\",\"outcast\",\"organic\",\"stuttering\",\"sunsetscreen\",\"modify\",\"brightness\",\"coz\",\"slice\",\"breakpoint\",\"estimate\",\"hawaii\",\"egcg\",\"souvenir\",\"repurchase\",\"pu'er\",\"1991\",\"sparkling\",\"refrigerator\",\"distribution\",\"locally\",\"yuck\",\"boba\",\"1,000\",\"ubisoft\",\"8700k\",\"bottleneck\",\"licensed\",\"uncommon\",\"shocked\",\"maximize\",\"jin\",\"xuan\",\"towel\",\"unhappy\",\"omit\",\"wh\",\"correlate\",\"ek43\",\"hater\",\"2x\",\"yl\",\"pennsylvania\",\"monoprice\",\"backlit\",\"packet\",\"rotation\",\"mua3\",\"consignment\",\"rack\",\"marked\",\"bond\",\"candy\",\"splatte\",\"countless\",\"growth\",\"wary\",\"babes\",\"croix\",\"polar\",\"overwatch\",\"fend\",\"citizen\",\"object\",\"\\ud83d\\udc4d\",\"kotor\",\"gyro\",\"erase\",\"suspension\",\"polycystic\",\"drill\",\"belong\",\"infinity\",\"los\",\"angeles\",\"exclusivity\",\"hostile\",\"oblivion\",\"lo\",\"unflavored\",\"diving\",\"codes\",\"accounts\",\"relatedsub\",\"moderators](https://www.reddit.com\",\"compose?to=%2fr%2fnintendoswitch\",\"nintendofriend\",\"switchfcswap\",\"mecha\",\"server](https://discord.gg\",\"search?q\",\"friend+request+weekend&restrict_sr\",\"on&sort\",\"new&t\",\"inconsistent\",\"k&m\",\"ys\",\"cleanse\",\"dump\",\"inevitably\",\"conflicting\",\"cruelty\",\"faint\",\"toluene\",\"grammar\",\"stationary\",\"integrated\",\"oxo\",\"amazed\",\"globe\",\"phenomenon\",\"clarification\",\"temper\",\"demographic\",\"consistency\",\"profession\",\"guild\",\"f.e.a.r.\",\"masterpiece\",\"generous\",\"timing\",\"guarantee\",\"layout\",\"pan\",\"sorely\",\"comic\",\"yell\",\"pinchcliffe\",\"beloved\",\"atleast\",\"teaser\",\"pillars\",\"loathe\",\"heist\",\"chair\",\"seat\",\"juan\",\"surprising\",\"amber\",\"gui\",\"xi\",\"unheard\",\"consist\",\"guys\",\"tour\",\"shlt\",\"inlay\",\"fvckin\",\"duh\",\"wisdom\",\"chop\",\"waterni**as\",\"vloggersupdate\",\"reliability\",\"approximately\",\"braid\",\"reasonably\",\"fatigue\",\"education\",\"outright\",\"charm\",\"affordable\",\"cascara\",\"rica\",\"outstanding\",\"earning\",\"film\",\"bbc\",\"thx\",\"popper\",\"ancient\",\"flawlessly\",\"periodically\",\"stroke\",\"surgery\",\"detachable\",\"motor\",\"mcdonalds\",\"grove\",\"sleepytime\",\"minus\",\"brim\",\"suareasy\",\"generosity\",\"disabled\",\"branching\",\"completion\",\"downright\",\"pve\",\"variant\",\"editions\",\"reserve\",\"gigabyte\",\"3.6\",\"psu\",\"reconsider\",\"downer\",\"pursue\",\"stance\",\"ago-\",\"catalogue\",\"cider\",\"seep\",\"huns\",\"insist\",\"drastic\",\"yay\",\"convinced\",\"writing\",\"ed\",\"100hrs\",\"kandi\",\"toy\",\"bus\",\"incorrectly\",\"z.\",\"x8\",\"1.0\",\"elementary\",\"needless\",\"underrated\",\"rank\",\"b-\",\"bustelo\",\"nowadays\",\"emotional\",\"points\",\"andreas\",\"thumbstick\",\"detection\",\"migraine\",\"sennheiser\",\"whore\",\"bo3\",\"arise\",\"proprietary\",\"cradle\",\"caffiene\",\"scenario\",\"productive\",\"pricing\",\"highest\",\"clueless\",\"330ml\",\"thai\",\"indian\",\"santa\",\"docuserie\",\"purely\",\"balanced\",\"teamplay\",\"sixaxis\",\"emulate\",\"repackage\",\"finance\",\"r&c\",\"metacritic\",\"kicker\",\"800\",\"immediate\",\"evga\",\"sig\",\"teaware\",\"gasoline\",\"mexican\",\"daycare\",\"conventional\",\"hypothetically\",\"redout\",\"futuristic\",\"racer\",\"grandfather\",\"r&f.\",\"syndrome\",\"booster\",\"dangerous\",\"regimen\",\"permanent\",\"predator\",\"strike\",\"deliverance\",\"incentive\",\"vg248qe\",\"beastly\",\"rig\",\"breakdown\",\"merchant\",\"i5\",\"cfm\",\"124.99\",\"vii\",\"vengeance\",\"certify\",\"oem\",\"99.99\",\"120\",\"wired\",\"taxis\",\"cemu\",\"legitimate\",\"internship\",\"bs\",\"york\",\"pink\",\"aesthetic\",\"2.50\",\"vn\",\"graphics\",\"autosave\",\"genki\",\"bricke\",\"barrier\",\"consolidate\",\"steering\",\"saturation\",\"crashing\",\"phoenix\",\"ahold\",\"f.\",\"unlucky\",\"2.09\",\"zx\",\"v2\",\"firmly\",\"dehua\",\"smoky\",\"wether\",\"echo\",\"soo\",\"foreseeable\",\"eligible\",\"litre\",\"protein\",\"camomile\",\"6l\",\"hammer\",\"dbz\",\"systems\",\"riddle\",\"subreddits\",\"monkey\",\"vacuum\",\"scoot\",\"rust\",\"31\",\"cheaply\",\"plex\",\"x1\",\"furious\",\"incremental\",\"disclosure\",\"conspiracy\",\"dominate\",\"officially\",\"compete\",\"ole\",\"vein\",\"brutal\",\"destruction\",\"taikoo\",\"drum\",\"wear\",\"else\",\"validate\",\"lomonosov\",\"apology\",\"differ\",\"russian\",\"pique\",\"splinter\",\"mgs\",\"reception\",\"inevitable\",\"confrontation\",\"tongue\",\"scarce\",\"fulfil\",\"christian\",\"folger\",\"promos\",\"spectacular\",\"tamper\",\"hone\",\"specialist\",\"foul\",\"scent\",\"citric\",\"acrid\",\"liklihood\",\"computing\",\"hyperx\",\"nettle\",\"regard\",\"interfere\",\"clash\",\"weirdly\",\"witness\",\"universal\",\"complexity\",\"anecdotal\",\"meth\",\"bore\",\"instance\",\"thumbnail\",\"smoothly\",\"homepage\",\"touchscreen\",\"ecoshield\",\"recall\",\"buying\",\"unanswered\",\"humorous\",\"steeps\",\"minerally\",\"gongmei\",\"qi\",\"surge\",\"joint\",\"curve\",\"magnificent\",\"s\\u2019well\",\"slip\",\"golds\",\"interference\",\"infuriate\",\"snake\",\"flaw\",\"criticism\",\"de\",\"partake\",\"cure\",\"unrelated\",\"severe\",\"abnormal\",\"neutralize\",\"allergic\",\"walking\",\"colony\",\"ur\",\"dewmocracy\",\"loser\",\"motivated\",\"650\",\"seven\",\"infuse\",\"leafs\",\"rooibos\",\"engagement\",\"microwave\",\"zeal\",\"avon\",\"pamphlet\",\"opening\",\"baldur\",\"cutco\",\"float\",\"obsessed\",\"nso\",\"mimic\",\"shrink\",\"disservice\",\"farth\",\"realm\",\"accompany\",\"2077\",\"peripheral\",\"blink\",\"americans\",\"hopeful\",\"void\",\"microplastic\",\"liking\",\"fortune\",\"penny\",\"discard\",\"reuse\",\"shine\",\"exception\",\"tinker\",\"furry\",\"mumba\",\"orzly\",\"protector\",\"fortunately\",\"offering\",\"delay\",\"sanitizer\",\"misinformation\",\"tense\",\"divorce\",\"legaladvice\",\"newspaper\",\"nonpolar\",\"invention\",\"peppermint\",\"stain\",\"litterally\",\"propose\",\"supposedly\",\"few\",\"influence\",\"satisfaction\",\"c&c\",\"merry\",\"efficient\",\"meat\",\"nag\",\"soulslike\",\"drifter\",\"anaheim\",\"redownloade\",\"ff14\",\"longje\",\"mediocre\",\"illness\",\"ctc\",\"askreddit\",\"commonly\",\"respective\",\"triage\",\"temporary\",\"filling\",\"clover\",\"startup\",\"edit-\",\"jitter\",\"aforementioned\",\"cite\",\"nighttime\",\"deceptive\",\"violate\",\"interpretation\",\"utilize\",\"muscle\",\"sicily\",\"wrap\",\"francisco\",\"coast\",\"ikea\",\"gato\",\"roboto\",\"metroidvanias\",\"scientist\",\"polished\",\"presentation\",\"inquiry\",\"admin\",\"maxwell\",\"wintery\",\"legends\",\"pathfinder\",\"mama\",\"enthusiastically\",\"philadelphia\",\"widescreen\",\"browsing\",\"http://www.wsgf.org/forums/viewtopic.php?f=95&t=33144\",\"unwanted\",\"problematic\",\"plague\",\"appealing\",\"rental\",\"notion\",\"wpa\",\"wpa2\",\"brief\",\"modde\",\"drawback\",\"evenly\",\"nylock\",\"gamerscore\",\"crisp\",\"cocoa\",\"spyro\",\"reignited\",\"microsd\",\"rift\",\"controversy\",\"fad\",\"2.4ghz\",\"educate\",\"curate\",\"pekoe\",\"shou\",\"b.\",\"americano\",\"vividly\",\"waternword\",\"seal\",\"shasta\",\"kroger\",\"religion\",\"ce-38605\",\"explicitly\",\"infect\",\"interpret\",\"peanut\",\"recover\",\"glory\",\"excessive\",\"dehydration\",\"strive\",\"hyponatremia\",\"brothers\",\"traveller\",\"undecided\",\"dayz.\",\"dayz\",\"ps4s\",\"115\",\"dent\",\"chocolatey\",\"enormous\",\"famous\",\"donkey\",\"27\",\"convoluted\",\"gravity\",\"freshness\",\"nervous\",\"leadership\",\"tetsu\",\"kasuya\",\"origami\",\"sata\",\"briefly\",\"recording\",\"teammate\",\"cafec\",\"t-92\",\"injection\",\"bare\",\"interlace\",\"1080\",\"2009\",\"hibernationhomie\",\"deprive\",\"numerically\",\"heathen\",\"mysterious\",\"certification\",\"drainage\",\"radiation\",\"peg\",\"tube\",\"quench\",\"servers\",\"overload\",\"failure\",\"wal\",\"spoil\",\"tx\",\"scream\",\"nc\",\"s.o.s.\",\"freak\",\"wander\",\"acceptable\",\"jrpg\",\"straightforward\",\"postmix\",\"dodgy\",\"sum\",\"magical\",\"goo\",\"sm4sh\",\"advertising\",\"ironic\",\"opposite\",\"objective\",\"retract\",\"retreat\",\"constraint\",\"lengthy\",\"impress\",\"flexship\",\"csr\",\"contract\",\"penalty\",\"korra\",\"edit2\",\"midwest_wonder\",\"moderate\",\"symbol\",\"maps\",\"pretend\",\"teasales\",\"playgrounds\",\"task\",\"urine\",\"depravity\",\"sodahomies\",\"rancilio\",\"pat\",\"grateful\",\"1.7\",\"salesman\",\"fibre\",\"6.0.1\",\"6.0.0\",\"vary\",\"elden\",\"bob\",\"infiltrate\",\"smallbusiness\",\"grocer\",\"jungle\",\"jim\",\"avenue\",\"l\\u2019brie\",\"h1z1\",\"trainer\",\"magazine\",\"alongside\",\"tekken\",\"extent\",\"citation\",\"senior\",\"publicly\",\"rmx\",\"glorious\",\"spicey\",\"steeper\",\"hahaha\",\"shirt\",\"xl\",\"fighterz\",\"reader\",\"blackberry\",\"recommendations\",\"amazon.com\",\"sinensis\",\"flexibility\",\"forte\",\"bg\",\"formula\",\"mafia\",\"authorize\",\"~~i\",\"deactivate\",\"deactivation\",\"reinstate\",\"stranding\",\"fetco\",\"ek\",\"colombian\",\"brushing\",\"xcom\",\"\\u20ac\",\"calendar\",\"mu\",\"sieve\",\"buffs\",\"3080\",\"pst\",\"canister\",\"snack\",\"drpepper\",\"holidays\",\"dec\",\"guidance\",\"toe\",\"guru\",\"weekly\",\"jon\",\"danish\",\"svoboda\",\"celebrate\",\"marketplace\",\"shall\",\"downside\",\"embrace\",\"st.\",\"louis\",\"climb\",\"definition\",\"confident\",\"baked\",\"dramless\",\"meaningful\",\"enjoyment\",\"youth\",\"woods\",\"thimbleweed\",\"i\\u00b4ve\",\"brutality\",\"moda\",\"amp\",\"diego\",\"positivity\",\"perk\",\"cheers\",\"exhausted\",\"induce\",\"dependency\",\"consequence\",\"noticeably\",\"programmer\",\"29\",\"safari\",\"shocker\",\"fledge\",\"fujian\",\"overpriced\",\"realignment\",\"continuously\",\"n++\",\"bless\",\"mcdonald\",\"ab\",\"default\",\"pray\",\"aw\",\"rec\",\"climate\",\"humidity\",\"hei\",\"tou\",\"capcom\",\"frank\",\"outrageous\",\"unite\",\"sodanibbas\",\"fortebg\",\"lcd\",\"ie\",\"wpm\",\"here\",\"heartburn\",\"minimize\",\"healthyu\",\"eating\",\"harvesting\",\"rolling\",\"harvest\",\"october\",\"375\",\"1893\",\"hk\",\"clinic\",\"scatter\",\"cs\",\"nutty\",\"terror\",\"peruvian\",\"pocket\",\"voiceover\",\"bake\",\"cookie\",\"denmark\",\"pumpkin\",\"decorate\",\"7.99\",\"pleasant\",\"font\",\"behold\",\"incoming\",\"wilfa\",\"svart\",\"shin\",\"megami\",\"tensei\",\"smt\",\"refillable\",\"skittle\",\"dissolve\",\"shadows\",\"killzone\",\"neumorphism\",\"gentle\",\"violent\",\"battlefront\",\"mushroom\",\"wealth\",\"tackle\",\"platforming\",\"80/100\",\"predict\",\"peer\",\"stubborn\",\"drama\",\"cleaner\",\"span\",\"feasible\",\"somethin\",\"deliberate\",\"gunplay\",\"lookin\",\"al\",\"shwepps\",\"c+\",\"dasani\",\"robust\",\"breach\",\"5th\",\"ride\",\"moxie\",\"hat\",\"tab\",\"pokken\",\"spit\",\"tabletop\",\"es1\",\"express\",\"storytelling\",\"reject\",\"apparent\",\"chick\",\"dm\\u2019d\",\"attract\",\"pinch\",\"inhaler\",\"itworks\",\"nft\",\"sinner\",\"better\",\"daxter\",\"hurry\",\"politeness\",\"ffx\",\"27.5\",\"bullet\",\"sandisk\",\"commander\",\"mt\",\"cf\",\"grad\",\"peruse\",\"dangerously\",\"restrict\",\"betray\",\"elderberry\",\"edith\",\"finch\",\"deeply\",\"depressed\",\"detective\",\"350\",\"motorstorm\",\"offroad\",\"optional\",\"blank\",\"tint\",\"elderly\",\"diffuser\",\"diffuse\",\"audacity\",\"dramatic\",\"jamberry\",\"officer\",\"eternal\",\"requirement\",\"spotlight\",\"michigan\",\"largely\",\"digimon\",\"dogurai\",\"mega\",\"sweeten\",\"spearmint\",\"neglect\",\"lawn\",\"district\",\"gotten\",\"tolerate\",\"outsell\",\"dino\",\"fav\",\"therapeutic\",\"bait\",\"worldventures\",\"goblin\",\"fiancee\",\"breed\",\"inc\",\"tradition\",\"puppy\",\"ween\",\"overprice\",\"bedtime\",\"routine\",\"bistro\",\"giotto\",\"newbie\",\"marcus\",\"jar\",\"faxe\",\"kondi\",\"stateside\",\"aldi\",\"ticket\",\"ymmv\",\"airtight\",\"australian\",\"workshop\",\"arakai\",\"greeting\",\"danidev\",\"tacos\",\"monetarily\",\"terribly\",\"hud\",\"@60hz\",\"earth\",\"pearl\",\"rosali\",\"colossus\",\"unopened\",\"fart\",\"palette\",\"littlewood\",\"holding\",\"nabbits\",\"finder\",\"43\",\"teraflop\",\"twig\",\"ida\",\"nascar\",\"secondhand\",\"april\",\"finely\",\"unflavore\",\"darjeeling\",\"aromatherapist\",\"organizer\",\"naive\",\"economically\",\"cone\",\"takeaway\",\"kirkland\",\"property\",\"thoroughly\",\"oven\",\"chocolaty\",\"conflict\",\"watermelon\",\"tidal\",\"2042\",\"resolve\",\"afaik\",\"38\",\"duplicate\",\"renewable\",\"obtain\",\"faq\",\"hade\",\"deer\",\"cooking\",\"fusion\",\"mansion\",\"nuance\",\"withdrawal\",\"g'day\",\"sunny\",\"pit\",\"disney\",\"fox\",\"sling\",\"circleoftrust\",\"attila\",\"mouthfeel\",\"rusty\",\"distinct\",\"patent\",\"realism\",\"scott\",\"pilgrim\",\"mordhau\",\"tarkov\",\"instanced\",\"raid\",\"loot\",\"1.33\",\"corrupted\",\"happiness\",\"bo2\",\"gripe\",\"invasion\",\"grayswood\",\"sherman\",\"pinpoint\",\"1ms\",\"indefinitely\",\"tim\",\"hortons\",\"steeped\",\"\\ud83d\\udd3a\",\"casual\",\"23\",\"guacamelee\",\"21\",\"unravel\",\"crawl\",\"gore\",\"wargroove\",\"dizzy\",\"discomfort\",\"inexpensive\",\"castle\",\"shoe\",\"pore\",\"mercenary\",\"manta\",\"storm\",\"backflip\",\"successfully\",\"reminiscent\",\"antisnakeoil\",\"r/\",\"retina\",\"gt\",\"3570k\",\"vs+\",\"dislikes\",\"indifference\",\"discourage\",\"useless\",\"wholelattelove.com\",\"shoprite\",\"cashier\",\"82\",\"125\",\"rt\",\"rind\",\"excite\",\"gevalia\",\"jasmine\",\"cruise\",\"drag\",\"keybind\",\"singleplayer\",\"guard\",\"thrill\",\"ugh\",\"tune\",\"insightful\",\"meaning\",\"compelling\",\"expiration\",\"shading\",\"extended\",\"sci\",\"darklightgame\",\"revert\",\"dts\",\"bitstream\",\"quarter\",\"xb1\",\"reseller\",\"g1\",\"effectively\",\"darn\",\"nightlife\",\"jersey\",\"rocketfizz\",\"snow\",\"empower\",\"ophelia\",\"cyrus\",\"olberic\",\"primrose\",\"alfyn\",\"therion\",\"chapter\",\"paul\",\"john\",\"probability\",\"\\ud83d\\ude10\",\"paragraph\",\"asking\",\"listing\",\"twinning\",\"l'bri\",\"obligation\",\"peddler\",\"poison\",\"stumptown\",\"bf3\",\"whitening\",\"fluoride\",\"2010\",\"ummon\",\"aoarashi\",\"isuzu\",\"koyamaen\",\"sayaka\",\"addict\",\"warehouse\",\"spiritfarer\",\"invisible\",\"apologise\",\"stealthy\",\"tangerine\",\"troubleshooting\",\"bd\",\"13.6\",\"28.3\",\"frothy\",\"pu\\u2019erh\",\"resetting\",\"originalxbox\",\"prohibit\",\"notch\",\"sponsorship\",\"narrater\",\"loost\",\"-african\",\"pride\",\"tanzania\",\"wisps\",\"combined\",\"mauritius\",\"ssid\",\"screenshots\",\"retire\",\"\\ud83d\\ude4f\",\"bay\",\"village\",\"reforge\",\"yr\",\"data\",\"joysound\",\"workload\",\"turkish\",\"bosnian\",\"unfiltered\",\"knitting\",\"coward\",\"https://www.ign.com/articles/ghost-of-tsushima-devs-discuss-challenging-combat-incredibly-difficult-samurai-fight\",\"d\\u00e9longhi\",\"ecam\",\"suited\",\"quota\",\"xmas\",\"mentally\",\"hades\",\"spiritual\",\"successor\",\"coaster\",\"skylines\",\"warframe\",\"hiccup\",\"kb5005539\",\"kb5006670\",\"3090\",\"kb\",\"steeping\",\"thermometer\",\"sinking\",\"photorealistic\",\"tease\",\"incorporate\",\"unlimited\",\"yt\",\"nana\",\"wendelboe\",\"downwell\",\"tate\",\"fifa18\",\"whisper\",\"checkup\",\"positioning\",\"eco\",\"yunomius\",\"rabbids\",\"bestbuy\",\"yardstick\",\"undertone\",\"buildapc\",\"circular\",\"annoyed\",\"tetley\",\"supernova\",\"1:15\",\"sediment\",\"joe\",\"bagged\",\"perception\",\"perceive\",\"r+f.\",\"arrange\",\"camelot\",\"drinkdudes\",\"miraculously\",\"sodas\",\"sku\",\"downvote\",\"rumour\",\"frankly\",\"gta5\",\"censorship\",\"censor\",\"comp\",\"tf2\",\"oolongs\",\"96\",\"makeover\",\"remastere\",\"saga\",\"soda4u\",\"birch\",\"microfoam\",\"steaming\",\"midway\",\"divinity\",\"avenger\",\"x-2\",\"yirgacheffe\",\"gesha\",\"earthiness\",\"57\",\"ramble\",\"sourness\",\"2080ti\",\"dlss\",\"blurry\",\"lighting\",\"dayton\",\"glance\",\"blonding\",\"sette\",\"270\",\"dancong\",\"cdkey\",\"seemingly\",\"bpm\",\"chatpad\",\"hfcs\",\"historical\",\"whine\",\"tone\",\"720p/60fps\",\"bitrate\",\"skillet\",\"puer\",\"homework\",\"peel\",\"yo\",\"brazilian\",\"bunny\",\"latency\",\"voltage\",\"gf\",\"queen\",\"emotionally\",\"pale\",\"powerade\",\"pope\",\"making\",\"extension\",\"rac\",\"joypad\",\"river\",\"cattail\",\"fiji\",\"proxy\",\"anthem\",\"19:00\",\"globally\",\"cling\",\"hz\",\"eurolux\",\"till\",\"cloudy\",\"ogame\",\"swedish\",\"vimto\",\"earbud\",\"radius\",\"lawsuit\",\"suwon\",\"wha\",\"fang\",\"bridge\",\"corrosion\",\"neverbrokeabone\",\"r&d\",\"mechanism\",\"gtaiv\",\"colored\",\"ir\",\"calorie\",\"valentine\",\"corridor\",\"bww\",\"literature\",\"daemon\",\"machina\",\"k250\",\"roach\",\"apricot\",\"enb\",\"1.04\",\"talking\",\"larian\",\"3pm\",\"ashe\",\"slavery\",\"campaigner\",\"phantom\",\"hourly\",\"backup.bat\",\"pen\",\"engineering\",\"spy\",\"g1s\",\"wallstreetbet\",\"vivent\",\"tf\",\"confirmation\",\"elusive\",\"mk11\",\"10th\",\"hometown\",\"hilarious\",\"o'clock\",\"vile\",\"ps4deal\",\"taiping\",\"houkui\",\"starfield\",\"teredo\",\"-which\",\"bloated\",\"https://www.instagram.com/p/b7ygpoqhsiv/\",\"madebystudiojq\",\"p.\",\"segment\",\"tarheel\",\"cramp\",\"thumb\",\"ifruit\",\"preserve\",\"screech\",\"7.26\",\"scotland\",\"retention\",\"configure\",\"2oz/60ml\",\"hacker\",\"ultimately\",\"fate\",\"delonghi\",\"intelligentsia\",\"authorise\",\"huang\",\"shan\",\"mao\",\"feng\",\"geisha\",\"jet\",\"argentinian\",\"zs\",\".if\",\"mythos\",\"imagery\",\"dk64\",\"dk\",\"ura\",\"overcooked\",\"fraction\",\"crater\",\"dribble\",\"pepsin\",\"bark\",\"ij\",\"cong\",\"glycerin\",\"thesis\",\"uncertainty\",\"simultaneously\",\"faulty\",\"geoff\",\"keighley\",\"2060\",\"par\",\"specially\",\"bury\",\"puerhs\",\"tropical\",\"sober\",\"funcom\",\"denuvo\",\"up\",\"flyer\",\"settle\",\"biz\",\"recreate\",\"colors\",\"cringe\",\"dialing\",\"suicide\",\"portability\",\"cabinet\",\"refacing\",\"roofing\",\"ceylon\",\"bes870xl\",\"limitation\",\"steamer\",\"fh5\",\"tulsi\",\"basil\",\"g7\",\"bialetti\",\"repeatable\",\"probaly\",\"watermelon+strawberry\",\"coke\",\"highland\",\"ddos'd\",\"recourse\",\"gdpr\",\"stipulate\",\"fet\",\"specialized\",\"flavours\",\"royale\",\"contestant\",\"prize\",\"naked\",\"penguin\",\"eugene\",\"labor\",\"farms\",\"peninsula\",\"chalk\",\"sheetz\",\"monitors\",\"sierra\",\"mist\",\"3/4\",\"unreleastic\",\"water.org\",\"gtx1080\",\"legion\",\"3440x1440\",\"tail\",\"medicare\",\"annual\",\"enrollment\",\"hart\",\"perplex\",\"outbound\",\"80k+\",\"sock\",\"defeated\",\"staunch\",\"diff\",\"xss\",\"echinachea\",\"gladly\",\"electrical\",\"serial\",\"refurbish\",\"1117\",\"nov\",\"ditting\",\"430\",\"discerning\",\"plate\",\"dooo\",\"gosh\",\"shiller\",\"workaholic\",\"distracted\",\"revenue\",\"coder\",\"contest\",\"http://www.monoprice.com/product?c_id=113&cp_id=11307&cs_id=1130703&p_id=10734&seq=1&format=2\",\"promotional\",\"posters\",\"mall\",\"pluck\",\"dac\",\"skirt\",\"cheesy\",\"ph\",\"refunded\",\"refugee\",\"watern\",\"sacred\",\"dominant\",\"surrounding\",\"premise\",\"managegement\",\"luggage\",\"whatnot\",\"bubbly\",\"sheep\",\"saver\",\"hd6950\",\"terabyte\",\"harddrive\",\"lemmie\",\"splitgate\",\"xiv\",\"uncover\",\"defenseless\",\"barbarians\",\"warrior\",\"oops\",\"rebel\",\"budokai\",\"http://www.pcper.com/reviews/graphics-cards/mobile-g-sync-confirmed-and-tested-leaked-alpha-driver\",\"https://www.youtube.com/watch?v=k7syvgb6sz4\",\"edp\",\"archaic\",\"streamline\",\"~28\",\"avaliable\",\"manageable\",\"becker\",\"pkd\",\"disease\",\"religiously\",\"3.5ml\",\"britta\",\"diy\",\"http://imgur.com/a/xm1oq\",\"decommission\",\"construction\",\"drm\",\"philosophy\",\"runup\",\"contra\",\"mandate\",\"lites\",\"versus\",\"switches\",\"loan\",\"decanter\",\"remorse\",\"game(doesn\\u2019t\",\"sayonara\",\"whim\",\"rhythm\",\"synthpop\",\"hallucinogen\",\"accidently\",\"irrelevant\",\"01/07/2022\",\"toooo\",\"http://www.davidstea.com\",\"cthulhu\",\"va\",\"discovery\",\"gal\",\"symmetry\",\"mortgage\",\"elbow\",\"999\",\"hugely\",\"crunch\",\"920xl\",\"hg-1\",\"purge\",\"excess\",\"manufacturer\",\"allen\",\"hydrojug\",\"brebcg820bssxl\",\"judging\",\"nil\",\"omg\",\"cruis'n\",\"https://www.nintendo.com/games/detail/cruisn-blast-switch/\",\"impart\",\"all-\",\"tare\",\"moronic\",\"gender\",\"economics\",\"economic\",\"http://www.baristaguildofeurope.com/thelearningproject/2015/3/31/coffee-farm-economic\",\"skim\",\"aces\",\"meter\",\"visually\",\"unappealing\",\"uninspired\",\"horrendous\",\"lacking\",\"overhead\",\"purchases\",\"unrecognized\",\"halp\",\"overhydrate\",\"\\ud83d\\ude14\",\"responsibly\",\"nerd\",\"fl\\u00e5klypa\",\"1975\",\"norwegian\",\"basicly\",\"https://www.youtube.com/watch?v=6vtuegfnwde\",\"eternity\",\"expertly\",\"cocaine\",\"disgaea\",\"cayo\",\"perico\",\"i'm\",\"dispel\",\"sofa\",\"ting\",\"zi\",\"bulang\",\"rinsing\",\"unstuck\",\"dryness\",\"pu'erhs\",\"gaba\",\"ot\",\"fei\",\"0.3\",\"0.4\",\"fruitness\",\"backyard\",\"spigot\",\"clocked\",\"pga\",\"2k21\",\"https://m.media-amazon.com/images/i/816oajpj+8l._ac_ss350_.jpg\",\"sodatalk\",\"diedrate\",\"resturant\",\"facility\",\"dept\",\"agriculure\",\"snapple\",\"kiwi\",\"tyia\",\"cluttered\",\"avengers\",\"y\\u2019know\",\"itch.io\",\"pike\",\"64ish\",\"ml.\",\"leung\",\"http://www.theverge.com/2015/11/5/9674462/usb-type-c-google-engineer-third-party-cable\",\"https://www.amazon.com/gp/product/b010vuqen0/ref=oh_aui_search_detailpage?ie=utf8&psc=1\",\"https://www.amazon.com/gp/profile/amzn1.account.aflicgqrf6brjgh2rrd4vgmb47za?ie=utf8&ref_=cm_cr_rdp_pdp\",\"withstand\",\"cfs\",\"sufferer\",\"hateful\",\"quietly\",\"sugarcane\",\"huawei\",\"brisk\",\"sing\",\"finca\",\"hailcorporate\",\"tricks\",\"1/\",\"2/\",\"exaggerating\",\"iplayer\",\"jealous\",\"cooler/\",\"purifier\",\"nuvo\",\"zenroast\",\"bottomed\",\"saucepan\",\"glare\",\"drunken\",\"solder\",\"interestingly\",\"timothy\",\"houtte\",\"crucify\",\"calming\",\"portifilter\",\"pressurise\",\"philistine\",\"expresso\",\"cookwork\",\"expreso\",\"shoutout\",\"chambord\",\"plunger\",\"mn\",\"minnesota\",\"imaginable\",\"payday\",\"left4dead2\",\"merchandise\",\"dishearten\",\"overstep\",\"bound\",\"reprimand\",\"testimony\",\"ongoing\",\"jury\",\"pose\",\"slap\",\"binning\",\"ga-78lmt\",\"s2p\",\"haf922\",\"specs\",\"fx(tm)-4100\",\"ghz\",\"ati\",\"4800\",\"190\",\"99.3\",\"profitable\",\"fluent\",\"dedication\",\"outweigh\",\"crop\",\"https://preview.redd.it/je2yshc2k5f21.png?width=452&format=png&auto=webp&s=e04c7de1d00fd27addac211c9b38bf280ade7db4\",\"https://preview.redd.it/e6g4tp13k5f21.png?width=450&format=png&auto=webp&s=a857f2a842b5d25d96697107bb616098948038db\",\"disclaimer-\",\"grandpa\",\"responded-\",\"condolence\",\"astound\",\"thoughtfulness\",\"https://imgur.com/a/o0kacia\",\"https://imgur.com/gallery/volqbnh\",\"similarly\",\"mulled\",\"rose\",\"heavenly\",\"unsurprisingly\",\"170f.\",\"sixty\",\"exodus\",\"davidstea\",\"honeydew\",\"nay\",\"contemplate\",\"synonymous\",\"n.e.r.o.\",\"n.e.r.o\",\"adv\",\"ideas\",\"daniel\",\"bloodworth(he\",\"gametrailers.com\",\"http://www.twitch.tv/gametrailers/v/4972732\",\"0.8l-1l\",\"xiaomi\",\"rhoa\",\"further\",\"empire\",\"https://www.kandikoated.com/\",\"http://img.techpowerup.org/140811/gpuz.png\",\"slower\",\"http://users.wfu.edu/yipcw/atg/3d/sony/vegaspro11/images/vegas11-3d-nvidia-control-panel-system_info-1.gif\",\"free'd\",\"cp\",\"showed\",\"dramatically\",\"chilly\",\"infrequently\",\"ogden\",\"rannygazoo\",\"c-\",\"splatnet\",\"bounce\",\"rainmaker\",\"dunk\",\"casualty\",\"nostalgic\",\"candidate\",\"counterpart\",\"pilon\",\"aquila\",\"medaglia\",\"d'oro\",\"normie\",\"proffesional\",\"unoptimization\",\"cpus\",\"lonely\",\"hostel\",\"inspired\",\"https://www.youtube.com/watch?v=689cfpk8ed8\",\"monetize\",\"koji\",\"igarashi\",\"backlash\",\"playtonic\",\"gameswap\",\"config\",\"daystrike\",\"camo\",\"upward\",\"flick\",\"reluctant\",\"tr\",\"eq\",\"unware\",\"hue\",\"offensive\",\"regulate\",\"awake\",\"emitting\",\"flux\",\"adapt\",\"clone\",\"plea\",\"intermediary\",\"nintnedo\",\"p.c.\",\"p.c\",\".8\",\"kd\",\"1.6\",\"rebuye\",\"overdrive\",\"sleeping\",\"locker\",\"emergency\",\"facetime\",\"usd/\",\"taiwan\",\"sandybridge\",\"ivybridge\",\"lido3/2\",\"prima\",\"equate\",\"aero\",\"-e\",\"450ml\",\"weirdo\",\"asaam\",\"https://givin.gift\",\"poonique\",\"\\ud83d\\udc85\",\"\\ud83d\\udc84\",\"\\u2764\",\"\\ud83d\\ude0d\",\"\\u2728\",\"graduation\",\"equitable\",\"advisor\",\"fin\",\"overdrive+\",\"lineup\",\"770\",\"arma\",\"wasteland\",\"predicament\",\"660ti\",\"ftw\",\"habitat\",\"waterbottle\",\"20l\",\"2.6l\",\"gambling\",\"bottles\",\"pepsico\",\"27inch\",\"dell\",\"s2719dgf\",\"l\\u2019occitane\",\"limelight\",\"alcone\",\"shaming\",\"ignorant\",\"outrage\",\"rampage\",\"selfless\",\"homelessness\",\"unfollow\",\"entertaining\",\"theater\",\"agonizing\",\"nel\",\"dissuade\",\"caution\",\"enthusiasm\",\"infectious\",\"thinly\",\"hazardous\",\"pharmacy\",\"droopy\",\"eyelid\",\"lash\",\"disaster\",\"oversaturated\",\"summarize\",\"xb3\",\"independence\",\"mw3\",\"tyler\",\"mw2wv\",\"dawg\",\"distraction\",\"dinosaur\",\"east\",\"simultaneous\",\"roster\",\"revised\",\"revise\",\"hunting\",\"http://www.asus.com/monitors_projectors/vg248qe/\",\"http://www.geforce.com/hardware/technology/g-sync/diy\",\"cad\",\"overpay\",\"pcpartpicker\",\"type|item|price\",\"----|:----|:----\",\"4690\",\"3.5ghz\",\"229.99\",\"h100i\",\"77.0\",\"maximus\",\"lga1150\",\"249.00\",\"g.skill\",\"ripjaws\",\"ddr3\",\"1866\",\"101.99\",\"840\",\"seagate\",\"barracuda\",\"7200rpm\",\"84.99\",\"directcu\",\"809.00\",\"c70\",\"tower\",\"rm\",\"750w\",\"modular\",\"gh24nsb0\",\"dvd\",\"8.1\",\"24.0\",\"299.00\",\"sp120\",\"37.9\",\"34.99\",\"k70\",\"129.99\",\"razer\",\"deathadder\",\"49.99\",\"a40\",\"249.99\",\"2908.87\",\"oddisey\",\"lookout\",\"southwestern\",\"misleading\",\"incorrect\",\"conveniently\",\"integrity\",\"troublesome\",\"latin\",\"m&b\",\"warband\",\"versions\",\"colouring\",\"1-\",\"2-\",\"3-\",\"4-\",\"5-\",\"6-\",\"redemption\",\"7-\",\"infamous\",\"8-\",\"9-\",\"10-\",\"11-\",\"12-\",\"th\",\"https://preview.redd.it/cg0nzl8wjd181.jpg?width=2322&format=pjpg&auto=webp&s=780ff887e7155318442a2e769e4e40b4120dd9be\",\"https://preview.redd.it/29622p8wjd181.jpg?width=4128&format=pjpg&auto=webp&s=0c6c083f770ef1fe56e62445811573c521f06096\",\"https://preview.redd.it/agca589wjd181.jpg?width=2322&format=pjpg&auto=webp&s=9a513f70bff6f5f2fff9a44a8c9c52b911f1987d\",\"robotics;note\",\"interrelated\",\"chaos\",\"murky\",\"robotics;notes\",\"localization\",\"keeps\",\"smashed\",\"plasma\",\"custody\",\"unscathed\",\"belonging\",\"athlon\",\"3800\",\"sandbox\",\"avalanche\",\"unsatisfie\",\"mental\",\"zomboid\",\"percentage\",\"wheeled\",\"steed\",\"/-15\",\"headway\",\"adopter\",\"covert\",\"mergethesubreddit\",\"xboxone\",\"autocorrect\",\"66\",\"offroade\",\"fry\",\"traveler\",\"protagonist\",\"revel\",\"h'aanit\",\"strawpoll\",\"http://www.strawpoll.me/15702944\",\"ocha\",\"https://www.ochaandco.com/\",\"texans\",\"blizzard\",\"candle\",\"2.99\",\"a.c.\",\"newly\",\"items\",\"mbp\",\"powerbank\",\"https://www.amazon.com/gp/product/b01h3cof62/ref=oh_aui_search_detailpage?ie=utf8&psc=1\",\"https://www.amazon.com/gp/product/b01esx3g50/ref=oh_aui_search_detailpage?ie=utf8&psc=1\",\"https://www.amazon.com/gp/product/b0194x4mso/ref=oh_aui_search_detailpage?ie=utf8&psc=1\",\"https://www.amazon.com/gp/product/b01iqulvzi/ref=oh_aui_search_detailpage?ie=utf8&psc=1\",\"https://www.amazon.com/apple-mll82am-usb-c-charge-cable/dp/b01mq5z080/ref=pd_sim_147_1?_encoding=utf8&psc=1&refrid=55c5z28zrj01anfeb9ym\",\"powerbanks\",\"https://www.amazon.com/gp/product/b0176hq1o8/ref=oh_aui_detailpage_o03_s00?ie=utf8&psc=1\",\"https://www.amazon.com/gp/product/b00ydnsh7i/ref=oh_aui_search_detailpage?ie=utf8&psc=1\",\"https://www.amazon.com/gp/product/b00vh84l5e/ref=oh_aui_detailpage_o00_s00?ie=utf8&psc=1\",\"https://www.amazon.com/apple-mnf82ll-usb-c-power-adapter/dp/b01m8o7w40/ref=sr_1_1?ie=utf8&qid=1489458622&sr=8-1&keywords=apple+87w+usb-c+power+adapter\",\"won\",\"craziness\",\"sfv\",\"shareable\",\"pottery\",\"100$-150\",\"diminish\",\"usable\",\"floppy\",\"cdrom\",\"rgh\",\"1.2\",\"jasper\",\"etsy\",\"a50\",\"formulate\",\"whisk\",\"https://preview.redd.it/bkj8rcpjaad21.jpg?width=845&format=pjpg&auto=webp&s=c294b4c25d426da1f78d8f72beafef5d55cb18ab\",\"accessible\",\"pointless\",\"29th\",\"nesquik\",\"yk\",\"multivitamin\",\"xenoverse\",\"intern\",\"reccomendation\",\"marker\",\"https://imgur.com/a/wd37b\",\"emailed\",\"https://bravo-systems.com/product/mini-junior-evd/\",\"http://www.wegausa.com/products/mininova/mininova-evd/\",\"tincture\",\"rules\",\"\\ud83d\\udc12\",\"\\ud83d\\udc4b\",\"\\ud83c\\udffb\",\"\\ud83d\\ude48\",\"\\u263a\",\"carwash\",\"insulation\",\"recommendations\\u203d\",\"konami\",\"xcloud\",\"~anywhere~\",\"nx\",\"bleed\",\"piracy\",\"unibody\",\"ethernet\",\"exponentially\",\"incrementing\",\"m1\",\"abrams\",\"ak-47\",\"akm\",\"portfolio\",\"iphones\",\"se\",\"12s\",\"news+\",\"nuke\",\"stringent\",\"tactically\",\"advantageous\",\"avert\",\"labo\",\"guncon\",\"solved\",\"whith\",\"lining\",\"v60!the\",\"jd\",\"whipper\",\"nitrogen\",\"herb\",\"runners\",\"https://www.humblebundle.com/g/treasuregoblin\",\"regards\",\"mentalbard\",\"authenticity\",\"distributor(s\",\"certificate\",\"manufactory\",\"stpgoods.com\",\"ipm\",\"jsc\",\"1996\",\"sighs\",\"changes\",\"uneven\",\"trendy\",\"mildy\",\"crema\",\"lemony\",\"sourmix\",\"lemoncello\",\"defense\",\"chemically\",\"polen\",\"samll\",\"folding@home\",\"f@h.\",\"http://en.wikipedia.org/wiki/folding@home#playstation_3\",\"likelihood\",\"redevelopedf@h\",\"forbid\",\"functioning\",\"oddity\",\"talos\",\"funnily\",\"90fps\",\"limiter\",\"mmos\",\"xc2\",\"affinity\",\"arrow\",\"backround\",\"choppy\",\"hug\",\"ick\",\"vel\",\"tik\",\"tok\",\"prob\",\"characteristic\",\"gamble\",\"superstars\",\"toddler\",\"https://preview.redd.it/h8ilo1w2k4581.png?width=1210&format=png&auto=webp&s=2944f6f97976c39e5a53b40203a8a6f9be63c91b\",\"mailman\",\"10/29/2021\",\"5000\",\"hs\",\"after\",\"adamantly\",\"question]vr\",\"xv\",\"citanul\",\"answered\",\"antioxidant\",\"heated\",\"lecture\",\"offense\",\"dianhong\",\"varietal\",\"ness\",\"cedar\",\"giawan\",\"celsius\",\"commonality\",\"rushing\",\"aging\",\"approachable\",\"t.j.\",\"kc\",\"learning\",\"payoff\",\"elder\",\"scrolls\",\"vortex\",\"wack\",\"playerbase\",\"sports\",\"slighter\",\"gym\",\"errand\",\"fade\",\"geek\",\"proggress\",\"lexus\",\"sendoutcards\",\"handwritten\",\"hgh\",\"homeopathic\",\"topical\",\"placebo\",\"surly\",\"harm\",\"2160pyuv420\",\"2160\",\"yuv420\",\"configuration\",\"juice+\",\"antacid\",\"gi\",\"shpeel\",\"webinar\",\"abdominal\",\"bloating\",\"smoothie\",\"disinter\",\"deflection\",\"offend\",\"boundary\",\"uninterested\",\"crew\",\"bejewel\",\"stimulation\",\"game(sorry\",\"explosive\",\"puzzling\",\"vote\",\"ya\\u2019ll\",\"100mhz\",\"mature\",\"stagnant\",\"n-1\",\"outperform\",\"recycle\",\"390x/390\",\"290\",\"twin\",\"2~3\",\"450~$550\",\"sustain\",\"sentiment\",\"infus\",\"02:08\",\"med\",\"hunger\",\"prof$t\",\"emote\",\"algorithm\",\"seo\",\"dontcha\",\"chuckle\",\"papa\",\"vaguely\",\"incestuous\",\"https://preview.redd.it/ohbdanjpxwj71.png?width=1370&format=png&auto=webp&s=a409d1ad9830d5305554e28c472b7a52b0137ab1\",\"nitpick\",\"grill\",\"tisanes\",\"wonky\",\"housemate\",\"shorten\",\"coronavirus\",\"soap\",\"lotion\",\"perfume\",\"skinsosoft\",\"getti\",\"guardian\",\"scheherazade\",\"calypso\",\"knife\",\"marketer\",\"coagulate\",\"blob\",\"1/4\",\"kinguin\",\"os\",\"datamine\",\"https://twitter.com/videotech_/status/1445411336729530370\",\"https://twitter.com/gtanet/status/1445412405861834755\",\"vice\",\"disagree\",\"4:3\",\"viewable\",\"readable\",\"sharing\",\"980tis\",\"6gbs\",\"3.7\",\"gig\",\"overclocking\",\"4001\",\"mhz\",\"980ti\",\"mem\",\"loophole\",\"afterburner\",\"mh4\",\"picross\",\"mh\",\"kotaku\",\"thrid\",\"unlicensed\",\"undergo\",\"evaluation\",\"https://kotaku.com/switch-owners-say-third-party-docks-are-bricking-their-1824122777\",\"-50\",\"ff7r\",\"goto\",\"tracker\",\"markup\",\"conclusive\",\"backpack\",\"bangslamtime\",\"ceral\",\"waaaaaaaay\",\"decorative\",\"https://www.amazon.co.uk/dp/b097c44xpt/ref=cm_sw_r_cp_awdb_imm_gk7cg970w6m6g3kzr418\",\"manufacture\",\"repurpose\",\"funky\",\"nightstand\",\"toss\",\"recycling\",\"nye\",\"trump\",\"supporter\",\"slam\",\"https://www.reddit.com/r/antimlm/comments/l9rycy/added_three_days_into_a_ziya_popup_party/\",\"deadle\",\"inauguration\",\"elle\",\"beau\",\"cautionary\",\"tale--\",\"commend\",\"teamie\",\"her--\",\"crates\",\"immediately--\",\"disclaimed\",\"https://preview.redd.it/d20rkc04d5f61.jpg?width=865&format=pjpg&auto=webp&s=01a7a67f5d1484f575288ebc7d37c9e04db0819a\",\"hmmmmmm\",\"https://preview.redd.it/4g40ln1ad5f61.jpg?width=272&format=pjpg&auto=webp&s=15aaf46cf0f500d12495af6f90411be65eb654bc\",\"evolutionary\",\"trait\",\"wan\",\"nibs\",\"meltable\",\"surpprisingly\",\"cdpr\",\"albeit\",\"delist\",\"9/11\",\"marginally\",\"germ\",\"debunk\",\"bully\",\"divorcing\",\"miserable\",\"homemade\",\"https://www.reddit.com/r/legaladvice/comments/81rsdo/i_received_a_c_d_am_i_in_trouble\",\"mb\",\"deffinelty\",\"fishing\",\"soogy\",\"seaweed\",\"compound\",\"questions-\",\"intended\",\"solvent\",\"hiya\",\"dyeing\",\"yarn\",\"conditioning\",\"firmware\",\"ganertag\",\"2,7\",\"photomode\",\"accesible\",\"bias\",\"substantiated\",\"inappropriate\",\"insignificant\",\"pressurized\",\"rts\",\"openra\",\"cncnet\",\"onboard\",\"uhh\",\"~~but\",\"life.~~\",\"goten\",\"suprise\",\"dong\",\"ding\",\"luo\",\"han\",\"techpowerup.com\",\"13.4\",\"rx\",\"9.7\",\"techpowerup\",\"12.15\",\"dictate\",\"hech\",\"programming\",\"sift\",\"uber\",\"tiger\",\"\\ud83e\\udd37\",\"\\ud83c\\udffd\\u200d\",\"\\u2642\",\"20bar\",\"850w\",\"elitist\",\"wwii\",\"wv-33898\",\"longjing\",\"hangzhou\",\"ctrl+v\",\"bro\",\"koolaid\",\"worse\",\"bigelow(bags\",\"entice\",\"dental\",\"responsibility\",\"toothache\",\"abscess\",\"daughter\\u2018s\",\"orajel\",\"ibuprofen\",\"boggle\",\"rural\",\"farcry\",\"mindustry\",\"rejoin\",\"ryzen\",\"3700\",\"rx5700\",\"cabin\",\"blackout\",\"nootropics\",\"liver\",\"metabolize\",\"easier\",\"wakeful\",\"bridal\",\"emails\",\"enforce\",\"mlmers\",\"protection\",\"compliant\",\"guideline\",\"recipient\",\"mailing\",\"violation\",\"41,000\",\"82,000\",\"lawyer\",\"y.o\",\"60gps\",\"torn\",\"marios\",\"tanuki\",\"cheese\",\"crown\",\"piranha\",\"creeper\",\"creek\",\"f&m\",\"hamper\",\"detailed\",\"gmg\",\"sale20\",\"grogre\",\"greenmangaming.com\",\"isolation\",\"wooo\",\"soldier\",\"stylish\",\"monochromatic\",\"floaty\",\"mech\",\"immense\",\"annoyance\",\"excusable\",\"unexplored\",\"appreciater\",\"spark\",\"teachat\",\"registration\",\"recognition\",\"warming\",\"https://preview.redd.it/5xh35kpeb3u51.jpg?width=3024&format=pjpg&auto=webp&s=eb82fd5e9200a28cc273d3e4e60fa1b565770165\",\"shakota\",\"moisturizer\",\"sunscreen\",\"yummy\",\"type\\\"+twitch_prime_linke\",\"lootboxe\",\"worms\",\"w.m.d.\",\"sweaty\",\"philly\",\"h.h\",\"homi\",\"greet\",\"unsafe\",\"malicious\",\"visitor\",\"https\",\"pcgamingwiki\",\"innocence\",\"http://www.wsgf.org/forums/viewtopic.php?p=176452#p176452\",\"fov\",\"casually\",\"sandwitch\",\"civilzation\",\"margaret\",\"tgfop\",\"contemplating\",\"finalize\",\"kakarot\",\"enchance\",\"latino\",\"heritage\",\"synthetic\",\"prison\",\"0.000000000000000000000000000001\",\"discrepancy\",\"annihilate\",\"scar\",\"adagio.com\",\"stepless\",\"m6\",\"fender\",\"nub\",\"m6x1.0\",\"plier\",\"axle\",\"holder\",\"voil\\u00e0\",\"infinitely\",\"unevenness\",\"stiff\",\"follower\",\"nsfw\",\"kyu\",\"publicity\",\"junk\",\"burger\",\"rebuilt\",\"rear\",\"continent\",\"whichever\",\"i_screen_peek\",\"dont_believe_me_ever\",\"shortcut\",\"https://www.icloud.com/shortcuts/cbf4f6fe0b9843449d74a410361b7c56\",\"downloads\",\"https://www.reddit.com/r/nintendoswitch/comments/99x4jh/i_made_an_app_to_quickly_download_and_share/?st=jn4so8ua&sh=803ee717\",\"vive\",\"r3qdm\",\"vggyc\",\"yd42d-9mtv6\",\"4ggrz\",\"collapse\",\"2\\u20195\",\"splitfish\",\"\\ud83e\\udd2c\",\"disgrace\",\"years+\",\"tea(i\",\"ning\\u2019er\",\"jing\",\"gu\",\"needles\",\"fuding\",\"pig\",\"ruifen\",\"https://preview.redd.it/tngcvc9nohj41.png?width=1706&format=png&auto=webp&s=fb6e5d47f1d56597dd1910b15cf0c5f550f76d4f\",\"ummm\",\"pe\",\"prepay\",\"yea\",\"ofc\",\"boston\",\"aesthetically\",\"pleasing\",\"5)40ct\",\"boxes\",\"pods\",\"\\ud83c\\udf40\",\"slurpee\",\"https://www.7-elevenshop.com/\",\"waterbro\",\"unnatural\",\"byzantium\",\"rome\",\"klatch\",\"hawaiian\",\"ka'u\",\"typica\",\"http://www.klatchroasting.com/ka_u_typica_p/haw_kau_typ.htm\",\"kroeger\",\"tiki\",\"fentiman\",\"hunbots\",\"faith\",\"heavily(amway\",\"mk,31,etc\",\"dsa\",\"18.6\",\"capital\",\"morbidly\",\"deet\",\"dare\",\"\\ud83d\\ude31\",\"-deactivate\",\"reactivate\",\"-restore\",\"-defragge\",\"terrific\",\"anosmia\",\"paranosmia\",\"damp\",\"vaccination\",\"mean?(speculation\",\"vc\",\"mascot\",\"thee\",\"beebee890\",\"http://www.youtube.com/user/beebee890\",\"credential\",\"admirable\",\"blasphemy\",\"heresy\",\"safely\",\"infused\",\"delicate\",\"imbalance\",\"credible\",\"https://www.mayoclinic.org/diseases-conditions/hyponatremia/symptoms-causes/syc-20373711\",\"https://www.latimes.com/archives/la-xpm-2007-jan-14-me-water14-story.html\",\"preparer\",\"cliente\",\"cpa\",\"/s\",\"kinu\",\"comandante\",\"~~people~~\",\"rocketwerkz\",\"bohemia\",\"interactive\",\"chest\",\"degenerate\",\"noticably\",\"controll\",\"nick\",\"represent\",\"esque\",\"oriental\",\"mushroomy\",\"maltiest\",\"whatchas\",\"wui\",\"indonesia\",\"uncannily\",\"orchid\",\"sheer\",\"revolutionize\",\"with?(possibly\",\"experience?(i.e\",\"vegas\",\"ll\",\"4years\",\"compartment\",\"aide\",\"chute\",\"rube\",\"goldberg\",\"subpar\",\"accommodate\",\"snippy\",\"unethical\",\"rhetoric\",\"defensiveness\",\"rubbish\",\"ppl\",\"transference\",\"optmimize\",\"5x\",\"tinny\",\"5gb\",\"filters\",\"reorder\",\"mustard\",\"packing\",\"92\",\"c/197\",\"pine\",\"needle\",\"tea-\",\"incident\",\"health-\",\"stroke-\",\"temporal\",\"foux\",\"lile\",\"invetween\",\"checkerpattern\",\"fourth\",\"distinguish\",\"upclose\",\"1080i\",\"reminisce\",\"trinity\",\"hungryhomie\",\"p.s.\",\"personalfinance\",\"pf\",\"richness\",\"investing\",\"persuasively\",\"login\",\"youthberry\",\"heinously\",\"gifted\",\"sydney\",\"https://preview.redd.it/qdlvgttk6ac71.jpg?width=2564&format=pjpg&auto=webp&s=9f38cd383c3725b2c72c8ef637f653f7802564fc\",\"evident\",\"duct\",\"plumber\",\"laryngectomy\",\"chemo\",\"sooo\",\"fret\",\"headsets\",\"grace\",\"swtich\",\"repulsive\",\"grandson\",\"bloodborne\",\"dupe\",\"multimillion\",\"marriage\",\"adulthood\",\"bask\",\"glow\",\"greatness\",\"delvolve\",\"feb.\",\"plexsus\",\"niece\",\"medumbfounded\",\"erm\",\"holistic\",\"medicine\",\"drs\",\"everthi\",\"plexus\",\"legacy\",\"it/\",\"predownloade\",\"x4\",\"blockbuster\",\"shove\",\"gobstoppers\",\"havnt\",\"injustice\",\"dissapoint\",\"spook\",\"creamsicles\",\"hatteras\",\"inert\",\"dress\",\"diversify\",\"bells\",\"forbidden\",\"diabetes\",\"decay\",\"42\",\"considerably\",\"james\",\"1:17\",\"stsrt\",\"stsye\",\"whoch\",\"t.v\",\"sup\",\"hiw\",\"1500$.\",\"furlough\",\"miraclously\",\"slighly\",\"tourism\",\"litter\",\"undercover\",\"inferno\",\"ports-\",\"prequel\",\"hd/4\",\"ww\",\"tp\",\"ss\",\"slant\",\"prediction-\",\"pikmin\",\"theirtrappe\",\"differentiy\",\"reframe\",\"trench\",\"conform\",\"chitchat\",\"vigilant\",\"^_^\",\"flex\",\"owe\",\"termination\",\"showing\",\"populate\",\"uptake\",\"www.findtap.com\",\"use-\",\"https://imgur.com/a/vb0n6ue\",\"luke\",\"pin\",\"aggressively\",\"texan\",\"nbaplayground\",\"http://imgur.com/a/8mskv\",\"goose\",\"wario\",\"fence\",\"overindulge\",\"pretzel\",\"cryptocurrency\",\"bretheren\",\"unleash\",\"righteous\",\"ascaso\",\"cortado\",\"macchiato\",\"denver\",\"colorado\",\"doubtful\",\"maiden\",\"cloud9\",\"seasonings\",\"wonderland\",\"applaud\",\"70,000\",\"12,000\",\"triumph\",\"themes\",\"coloured\",\"purchasable\",\"gane\",\"stave\",\"kettle-\",\"introduction\",\"18y'o\",\"carefully\",\"identification\",\"http://imgur.com/ifhstfz\",\"wrist\",\"y.\",\"win10\",\"ds2\",\"aficionado\",\"bust\",\"mr.\",\"expose\",\"nigh\",\"patiently\",\"grest\",\"unpatche\",\"burman\",\"hempworx\",\"hawk\",\"https://www.reddit.com/r/smallbusiness/comments/8uu8s5/help/\",\"scarlet\",\"tri\",\"404\",\"permission\",\"https://teatrotter.substack.com/welcome\",\"permit\",\"shout\",\"3:52\",\"5:14\",\"https://youtu.be/ymrbcxk9xu8?t=232\",\"goals\",\"avg\",\"overboard\",\"slumbersavant\",\"slumbersavants\",\"1440p/60fps\",\"dragons\",\"dogma\",\"skullgirls\",\"umvc3\",\"calibur\",\"30/60\",\"adress\",\"cited\",\"atrocity\",\"b.s.\",\"undergrad\",\"\\\\~30\",\"clickable\",\"https://imgur.com/gallery/owxruo8\",\"m.s.\",\"commodity\",\"taxonomy\",\"wheher\",\"http://www.reddit.com/r/tea/comments/1e2obf/amazing_tea_taxonomy/\",\"http://jameskennedymonash.wordpress.com/2013/02/13/how-i-brew-tea/\",\"n)indie\",\"supermario\",\"umpteenth\",\"issac\",\"snipperclip\",\"kirby\",\"lightly\",\"instruct\",\"salted\",\"lebukchen\",\"gingery\",\"overthinke\",\"polo\",\"poland\",\"freebie\",\"https://preview.redd.it/gwrisjahmg771.jpg?width=3648&format=pjpg&auto=webp&s=d1b644f027d037293d577eff74b8fcc90cdd9f78\",\"qc\",\"x3\",\"5v/3a\",\"daq7ew5d.\",\"9.00\",\"laggy\",\"4.naruto\",\"storm4\",\"fnaf\",\"banko\",\"fuafuate\",\"qualifie\",\"partial\",\"finished\",\"portland\",\"works\",\"8.62\",\"bigthank\",\"shaken\",\"obsidian\",\"creation\",\"occupation\",\"sith\",\"lightsaber\",\"compensation\",\"tjenword\",\"discussee\",\"a&w.\",\"repaclage\",\"cange\",\"doet\",\"de(definitive\",\"mmorpg\",\"mmorpgs\",\"borderland\",\"jarritos\",\"~~i'll\",\"advice.~~\",\"~~on\",\"wednesday\",\"258\",\"perseveration.~~\",\"results.~~\",\"~~this\",\"ether.~~\",\"themselves.~~\",\"~~wonderful\",\"it.~~\",\"mercedes\",\"fb80\",\"lm\",\"unbalanced\",\"1:5\",\"92c\",\"channeling\",\"bottomless\",\"dirt\",\"brushingbuddies\",\"2.69\",\"https://imgur.com/a/qghr6gm\",\"advent\",\"alkaline\",\"vapor\",\"distil\",\"12w\",\"5v\",\"2.4a\",\"anker\",\"discharge\",\"inconvenient\",\"resources\",\"emphasis\",\"https://www.teapotandtea.com/blog/\",\"https://terebess.hu/english/yixing1.html\",\"https://www.teachat.com/viewtopic.php?t=21881\",\"exchange+shippe\",\"weekday\",\"overdone\",\"vessel\",\"apparatus\",\"adjustable\",\"inquisition\",\"digit\",\"https://i.imgur.com/jsf66vp.png\",\"^(p.s.\",\"strix\",\"https://rog.gg/meta.r\",\"unveil\",\"1:00\",\"point'n'click\",\"scrolling\",\"enjoyed\",\"sorcerer\",\"syberia\",\"dictionary\",\"african\",\"dji\",\"marula\",\"refunds\",\"28th\",\"answers\",\"schooler\",\"junior\",\"dabble\",\"\\ud83e\\udd72\",\"67\",\"55,but\",\"03\",\"alpha\",\"deal/\",\"parent(s\",\"mlm/\",\"retirement\",\"submission\",\"askhistorians\",\"fertility\",\"http://www.reddit.com/r/askhistorians/comments/21ub8v/why_the_trade_of_spices_and_silk_was_so_important/cggn5\",\"nm\",\"rdr1\",\"vroomy\",\"120/144hrtz\",\"24/27\",\"pricy\",\"invalidate\",\"biweekly\",\"doe\",\"sake\",\"friendliness\",\"constructive\",\"asktea\",\"technivorm\",\"alternatively\",\"fort\\u00e9\",\"predefine\",\"fuzze\",\"daz\",\"bog\",\"http://store.dazbog.com/svoboda-blend--12-oz-bag.html\",\"festival\",\"mariage\",\"freres\",\"mine\",\"wood\",\"motorsport\",\"240\",\"wildwood\",\"strangely\",\"withhold\",\"rc\",\"slider\",\"diagonal\",\"mock\",\"c&d\",\"perfectaim\",\"provider\",\"https://perfectaim.io/cheats/destiny-2/\",\"furthermore\",\"cease\",\"desist\",\"justified\",\"inconvenience\",\"diameter\",\"height\",\"onoard\",\"dialog\",\"expertise\",\"hierarchy\",\"ladder\",\"expense\",\"details\",\"wastefull\",\"tom\",\"stripe\",\"nationally\",\"glucose\",\"populace\",\"onwards\",\"flop\",\"upstream\",\"bf2042\",\"shamble\",\"realistically\",\"stump\",\"knowingly\",\"billion\",\"worlds\",\"nonsense\",\"clich\\u00e9\",\"differentiate\",\"animated\",\"cartoon\",\"maya\",\"flairs\",\"organise\",\"streamer\",\"eth\",\"sixth\",\"rrod\",\"resub\",\"significance\",\"neverbrokenabone\",\"putty\",\"sided\",\"uncheck\",\"1140p\",\"bellame\",\"lacy\",\"thong\",\"victor\",\"victoria\",\"secretive\",\"chemicalish\",\"870\",\"epi\",\"seasure\",\"caffein\",\"loathing\",\"far(grante\",\"qol\",\"rifle\",\"explosion\",\"ut\",\"shp9500s\",\"fidelio\",\"x2s\",\"meetup\",\"favvvvooooorrrite\",\"nod\",\"repost\",\"atlanta\",\"shaving\",\"glorification\",\"trauma\",\"angst\",\"wreak\",\"havoc\",\"h&s\",\"feels\",\"tisane\",\"thrash\",\"clarity\",\"flutter\",\"sluggishness\",\"asuh\",\"bladder\",\"sistren\",\"profitec\",\"expobar\",\"brewtus\",\"1400\",\"e61\",\"grouphead\",\"disadvantage\",\"980s\",\"78\",\"~5\",\"9xx\",\"brews\",\"medicinally\",\"impeccable\",\"hesitation\",\"slippery\",\"unreasonable\",\"redact\",\"complacent\",\"dreaded\",\"i\\u2019ve\",\"xr\",\"narcolepsy\",\"attest\",\"caption\",\"stung\",\"fog-\",\"prescribed\",\"vyvanse\",\"orangey\",\"imperial\",\"guan\",\"yin\",\"anxi\",\"300ml\",\"masquerade\",\"s\\u2019more\",\"cheesecake\",\"aloe\",\"unaware\",\"grapevine\",\"2,000\",\"indebted\",\"contractor\",\"unbox\",\"align\",\"loosen\",\"tighten\",\"worrying\",\"magnitude\",\"kanro\",\"gyokuros\",\"retry\",\"submitting\",\"stable\",\"ghosts\",\"h2(n)o\",\"asd\",\"adhd\",\"squash\",\"sugary\",\"alllll\",\"lanayru\",\"calamity\",\"tropico\",\"allkeyshop\",\"http://www.allkeyshop.com/blog/compare-and-buy-cd-key-for-digital-download-tropico-4/\",\"recharge\",\"unwieldy\",\"buckell\",\"smirk\",\"https://preview.redd.it/xwzxarktjww61.jpg?width=1024&format=pjpg&auto=webp&s=54b98dff530cc18b79954572c69c70a67283c630\",\"connoiseur\",\"prepared\",\"chicago\",\"sh\",\"biology\",\"desert\",\"62\",\"cardboard\",\"10s\",\"+5\",\"liu\",\"bao\",\"nug\",\"budge\",\"concentrated\",\"colorbag\",\"yall\",\"bann\",\"acceptablenby\",\"sega\",\"valkyria\",\"mas\",\"^^^^^in\",\"^^^^^action\",\"oof\",\"104\",\"unblemish\",\"comprehension\",\"sufficient\",\"truce\",\"gr\",\"traffic\",\"77\",\"41\",\"firefox\",\"47\",\"pitchers\",\"slowpoursupply\",\"currency\",\"pickup\",\"hotstock\",\"stoked\",\"hashtagge\",\"lovethisprogram\",\"verbatim\",\"partnership\",\"ymca\",\"https://www.nytimes.com/2021/02/17/style/motivational-water-bottle.html?action=click&module=features&pgtype=homepage\",\"sugukcha\",\"hydrangea\",\"logical\",\"wither\",\"ferment\",\"tk\",\"jan\",\"destructive\",\"birthdate\",\"jt\",\"birth\",\"oct\",\"10/12\",\"route+upgrade\",\"http://www.gulikit.com/index.php?ac=article&at=read&did=199\",\"microphone\",\"gadget\",\"thie\",\"v60s\",\"4.0\",\"robot\",\"alike\",\"blueray\",\"sneeze\",\"indescribable\",\"shard\",\"nasal\",\"pasage\",\"lattissima\",\"waycap\",\"16th\",\"orphan\",\"3/8\",\"kevin\",\"https://preview.redd.it/eonyk1m4mqo51.jpg?width=748&format=pjpg&auto=webp&s=73ad6cec265fecf32b4825bf5dafda898ffb878d\",\"https://preview.redd.it/316n99l4mqo51.jpg?width=745&format=pjpg&auto=webp&s=4d99dfa23868feb586ce890aeae0f5186570dc13\",\"kbps\",\"thanksgiving\",\"flashy\",\"hypothetical\",\"taint\",\"sway\",\"sibling\",\"arena\",\"hitman\",\"withe\",\"rdr\",\"goya\",\"cough\",\"betsy\",\"experience\\\\opinion\",\"w\\\\these\",\"freshcoffeeroaster\",\"bolder\",\"fuller\",\"freshcoffeeroasters.com\",\"peru\",\"sol\",\"caf\",\"tarrazu\",\"frc\",\"transcription\",\"tutoring\",\"sewing\",\"alteration\",\"sitting\",\"divorced\",\"figher\",\"https://www.youtube.com/watch?v=7lh7pylwndi\",\"peaceful\",\"stardewand\",\"blocky\",\"vrr\",\"americas\",\"sa\",\"c-00000a01\",\"emblem\",\"houses\",\"fe\",\"coolaid\",\"jagged\",\"comicon\",\"bucharest\",\"urban\",\"strife\",\"ol\",\"physics\",\"https://steamcommunity.com/sharedfiles/filedetails/?id=772335854\",\"upgrades\",\"jrpgs\",\"reeeally\",\"reinvigorate\",\"https://www.reddit.com/r/megaten/comments/bituxf/shin_megami_tensei_is_the_dark_souls_of_dragon/?utm_medium=android_app&utm_source=share\",\"voo\",\"skittles\",\"undeniably\",\"complicate\",\"colorless\",\"focal\",\"edgy\",\"bloodbourne\",\"wolfenstein\",\"mordor\",\"mlb\",\"rivals\",\"sniper\",\"heyy\",\"designing\",\"https://dribbble.com/shots/11202391-fitness-neumorphism\",\"https://dribbble.com/shots/9527558-freebie-neumorphic-ux-ui-element\",\"https://dribbble.com/shots/10538859-freebie-neumorphic-skeuomorphic-light-elements-figma\",\"abrasive\",\"headlight\",\"https://preview.redd.it/1p9vno5sahs21.jpg?width=506&format=pjpg&auto=webp&s=a448dd117bd2de38f752d2211f88bbd19fae4729\",\"m/11\",\"f/13\",\"altho\",\"purchasing\",\"mx350\",\"jan-2019\",\"players\",\"genre(s\",\"publisher\",\"https://newsupermariobrosu.nintendo.com/\",\"pal\",\"hints\",\"gallery\",\"videos**\\u2014make\",\"164\",\"replayability\",\"mii\",\"reviews\",\"aggregators\",\"opencritic\",\"https://discord.gg/switch\",\"coursework\",\"conduct\",\"https://docs.google.com/forms/d/e/1faipqlsfv3meklsnkgdwk0q-gnhfwjniug7osz37xvpkfidb-8iztja/viewform?usp=sf_link\",\"buffalo\",\"bkf\",\"chrysanthemum\",\"buzzword\",\"chipset\",\"royales\",\"fantastically\",\"proximity\",\"planning\",\"dismemberment\",\"workin\",\"dente\",\"noodle\",\"creaminess\",\"captain\",\"falcon\",\"flesh\",\"bounty\",\"pills\",\"https://www.bepic.com/0/index.php?page=opportunity\",\"playlist\",\"reopen\",\"pcgamer\",\"helper\",\"syphon\",\"thw\",\"87w\",\"highschool\",\"2011\",\"knowing\",\"borrow\",\"buddys\",\"unhelpful\",\"rookie\",\"ancestry\",\"199\",\"110\",\"brilliant\",\"clicky\",\"dpad\",\"es2\",\"quieter\",\"re2\",\"glitche\",\"laughter\",\"reflection\",\"moaning\",\"jesusss\",\"bathtub\",\"curtain\",\"undisturbed\",\"tlou2\",\"hatred\",\"sadden\",\"appeals\",\"blending\",\"1970s\",\"purist\",\"https://teforia.com/blog/tea-blending-101\",\"donut\",\"midsection\",\"ridiculousness\",\"eta2\",\"illy\",\"itx\",\"sciences\",\"quintessential\",\"biosciences\",\"qhat\",\"v/1\",\"abyss\",\"bucket\",\"xenogears\",\"deadline\",\"scammed\",\"mo\",\"sociopath\",\"behavior\",\"ethic\",\"fraud\",\"eld\",\"abuse\",\"skinny\",\"2005\",\"0140\",\"reoccurre\",\"reformatte\",\"microsdxc\",\"uhs\",\"100mb\",\"u1\",\"a1\",\"sdsquar-200g\",\"gn6ma\",\"modem\",\"hunphone\",\"netnanny\",\"sinus\",\"terra\",\"representative\",\"freaking\",\"118\",\"seizure\",\"felt\",\"underlying\",\"shokata\",\"ambrosia\",\"overwhelm\",\"berlin\",\"akin\",\"ballpark\",\"commenter\",\"disturb\",\"unsettle\",\"unfulfilled\",\"depress\",\"heaven\",\"therapist\",\"parasail\",\"hyrule\",\"cunning\",\"paradise\",\"creature\",\"matsu\",\"junkie\",\"grimace\",\"dissatisfy\",\"americanos\",\"vivint\",\"modder\",\"cuphead\",\"legends(but\",\"bike\",\"foundation\",\"lbs\",\"1.37\",\"ahoy\",\"potcmeme\",\"https://preview.redd.it/hq1lueb7y7x41.jpg?width=999&format=pjpg&auto=webp&s=611eb1496255ca2cba454cb855003e24201380ef\",\"unusable\",\"veterinary\",\"homes\",\"gardens\",\"wax\",\"pseudoscience\",\"marinate\",\"pathogen\",\"consult\",\"eventful\",\"tragedy\",\"mlmrecovery\",\"sigh\",\"maternity\",\"premature\",\"nicu\",\"devastating\",\"pathetically\",\"grossness\",\"~~water\",\"lover~~\",\"stoke\",\"h2o.\",\"tangent\",\"dantes\",\"garbo\",\"slaying\",\"teambuilding\",\"fortress\",\"fella\",\"snakeoil\",\"inticreates\",\"zxa\",\"rye\",\"establishment\",\"yike\",\"63\",\"washtenaw\",\"county\",\"interconnected\",\"j)rpg\",\"upgrading\",\"dq\",\"ni\",\"kuni\",\"sleuth\",\"1.50\",\"construct\",\"crux\",\"1v1\",\"cheetah\",\"jaguar\",\"dagger\",\"freestyle\",\"cupping\",\"boozy\",\"diesel\",\"considerable\",\"mucilage\",\"https://www.cacaoteaco.com/\",\"yard\",\"inattention\",\"mower\",\"mow\",\"graduate\",\"academically\",\"resonate\",\"conundrum\",\"rewinde\",\"rip\",\"shuck\",\"kindly\",\"76\",\"b.e.t.a.\",\"aunty_fascist\",\"fancyvelociraptor\",\"roide\",\"upgradeable\",\"ps4/\",\"dusty\",\"sweep\",\"shed\",\"fierce\",\"singe\",\"confess\",\"apparebtly\",\"inaccessible\",\"12:00\",\"gmt\",\"12.79\",\"ceremony\",\"reflux\",\"gongu\",\"feb\",\"neighbourhood\",\"2/16/2021\",\"primetime\",\"args\",\"postcard\",\"shere\",\"chipotle\",\"12pk\",\"nevermissamoment\",\"hurtful\",\"highlights\",\"krocal\",\"https://youtu.be/lgxjxe9zd74\",\"crypto\",\"forex\",\"incomplete\",\"regress\",\"amnesia\",\"bgae\",\"scour\",\"dreamfall\",\"longest\",\"paradox\",\"coached\",\"vocabulary\",\"ingenuitea\",\"enjoyingtea.com\",\"defective\",\"gow\",\"https://preview.redd.it/k5szvq4i11981.jpg?width=508&format=pjpg&auto=webp&s=810744fb562096090786d1bb49b4353d03ce44f8\",\"http://imgur.com/a/jbkln\",\"https://www.reddit.com/r/pcgaming/comments/2agz8f/2012_vs_2013_vs_2014_xpost_rsteam/\",\"ethical\",\"pledge\",\"rescue\",\"allergen\",\"environmentally\",\"dispose\",\"reckon\",\"amused\",\"anitmlm\",\"https://imgur.com/gallery/irkh4ok\",\"b.over\",\"cannibalize\",\"equality\",\"splurge\",\"replayable\",\"192\",\"soooooo\",\"monday)and\",\"aren't\",\"pilot\",\"jobseeker\",\"appointment-\",\"gastric\",\"resubmit\",\"optavia\",\"flabbergast\",\"detroit\",\"imagination\",\"2007\",\"unibrew\",\"greenland\",\"diagonally\",\"widespread\",\"pur\",\"aqua\",\"windowsphone\",\"amiix\",\"platinums\",\"arbitrarily\",\"playback\",\"7/9\",\"gamestops\",\"rung\",\"grinders\",\"int'l\",\"geelong\",\"schmoozing\",\"boozing\",\"soley\",\"plush\",\"pillow\",\"shaped\",\"literal\",\"repertoire\",\"frenchpress\",\"coldbrew\",\"dock(g\",\"nx(now\",\"it\\u00b4s\",\"upscale\",\"society\",\"34\",\"gang\",\"armored\",\"all\",\"visa\",\"incentivized\",\"incentivize\",\"credibility\",\"nearsighte\",\"mileage\",\"ample\",\"particle\",\"alienware\",\"recieve\",\"tcl\",\"55r646\",\"@120hz\",\"cans\",\"0.5\",\"scarcity\",\"canning\",\"2k20\",\"acccount\",\"anna\",\"kendrick\",\"acacia\",\"sublime\",\"desserty\",\"attached\",\"tis\",\"drawing\",\"7:30pm\",\"cst\",\"12/13/19\",\"https://imgur.com/a/fzcb2kx\",\"bright_light7\",\"gruvitron\",\"xbox.com\",\"mush\",\"pity\",\"sage\",\"bambino\",\"ap\",\"lieu\",\"reheat\",\"wasteful\",\"brainer\",\"pixelate\",\"cozy\",\"drought\",\"malabsorption\",\"month+\",\"100%e\",\"gear][question\",\"absoloutly\",\"kcup\",\"dq11\",\"bancha\",\"benifit\",\"wolf\",\"origins\",\"deciding\",\"overdose\",\"yogurt\",\"sizable\",\"banana\",\"bread\",\"sweat\",\"nauseate\",\"intentionally\",\"boiled\",\"bought\",\"came\",\"accountability\",\"https://preview.redd.it/9ojungvv2c951.jpg?width=1276&format=pjpg&auto=webp&s=738c5be2ae8966f818e9179491e3d921bc44c83f\",\"enthusiastic\",\"discouraged\",\"devious\",\"patronize\",\"mislead\",\"cal\",\"8bitdo\",\"sn30\",\"pro+\",\"lava\",\"outdoor\",\"disgusted\",\"commitment\",\"tent\",\"doterriblebusiness\",\"confidence\",\"athletic\",\"sustainability\",\"ethics\",\"ethically\",\"mesh\",\"somepoint\",\"spear\",\"insulated\",\"determined\",\"impact\",\"mailer\",\"qr\",\"https://preview.redd.it/vac8qr7916581.jpg?width=275&format=pjpg&auto=webp&s=54d4ecd70032261c8158e905fc6ac6f468bf34b0\",\"https://preview.redd.it/z3leys7916581.jpg?width=275&format=pjpg&auto=webp&s=b8fe83fbcfb42180632c97ae366595dfdfa64068\",\"dandelions\",\"bane\",\"suburban\",\"landscaper\",\"preparation\",\"uproot\",\"taproot\",\"preheat\",\"fahrenheit\",\"brittle\",\"longer.(\\\"you\",\"autumn\",\"faux\",\"chicory\",\"roof\",\"youtubers\",\"enlighten\",\"sauce\",\"compromise\",\"wit\",\"replicate\",\"ahhhhh\",\"lmao\",\"goty\",\"spotify\",\"one/\",\"consumption\",\"exclude\",\"axi\",\"1903\",\"https://i.imgur.com/ziwmkey.png\",\"witcherbat\",\"jaykresge\",\"override\",\"https://www.anandtech.com/show/10312/microsoft-adds-vsync-control-and-adaptive-framerate-support-to-the-universal-windows-platform\",\"https://www.playstation.com/en-us/games/pt-ps4/\",\"disconnected\",\"dnla\",\"spammy\",\"agadio\",\"tao\",\"admire\",\"reddit15\",\"www.theteaspot.com\",\"carpet\",\"viii\",\"enjoyability\",\"omori\",\"ikenfell\",\"ditto\",\"turnip\",\"evasion\",\"pikuniku\",\"submittion\",\"46\",\"refined\",\"strainer\",\"pa\",\"https://www.papowerswitch.com/\",\"mgs5\",\"metalgearsolidv_pc/.\",\"metalgearsolid\",\"cater\",\"diehard\",\"wooden\",\"cigar\",\"rington\",\"ouch\",\"barry\",\"fianc\\u00e9\",\"closing\",\"wobbly\",\"me-\",\"joker\",\"georgia\",\"medroid\",\"fifth\",\"uninitiated\",\"switchs\",\"zeldas\",\"windwaker\",\"rebirth\",\"directional\",\"peachette\",\"relegate\",\"aback\",\"overreact\",\"lido2\",\"drown\",\"seattle\",\"7mo\",\"25th\",\"sippy\",\"poo\",\"tripleshot-\",\"224mlg\",\"advancement\",\"nicotine\",\"edis\",\"perth\",\"https://preview.redd.it/pikesdli5ky11.jpg?width=1920&format=pjpg&auto=webp&s=403ed90fb11839322ccd967632dcdaf9cd202261\",\"mashup\",\"9.99\",\"7.69\",\"au\",\"videos\",\"scenes\",\"1995\",\"nickelodeon\",\"mtv\",\"lenny\",\"loosejocks\",\"ezonecom\",\"jk\",\"accusation\",\"https://www.reddit.com/r/circleoftrust/comments/89vuos/attila_the_hunbot/?st=jflxi9kz&sh=9d26e54a\",\"foretaste\",\"carbonic\",\"pleasingly\",\"rum\",\"eww\",\"norm\",\"scoff\",\"evian\",\"precise\",\"http://imgur.com/sjc4qva\",\"37\",\"simplex\",\"http://imgur.com/a/xduiy\",\"ingest\",\"though.https://imgur.com/a/gvjjbys/\",\"pinnacle\",\"snowboard\",\"chivalrous\",\"modhau\",\"br\",\"economy\",\"zeroes\",\"sentence\",\"+1\",\"uncharte\",\"idea)l\",\"blunt)what\",\"2012/13\",\"hijacked\",\"hahaaha\",\"11/12\",\"\\ud83d\\ude4c\",\"aquafina\",\"granule\",\"sis\",\"beneficial\",\"dc\",\"villain\",\"pomegranite\",\"pelegrino\",\"https://youtu.be/ciylrbtahju\",\"https://store.steampowered.com/app/1547540/they_are_here/\",\"unexplained\",\"7th\",\"breakneck\",\"cornfield\",\"vanish\",\"behaviour\",\"observe\",\"peter\",\"deception\",\"oneself\",\"sensation\",\"journalist\",\"taylor\",\"pixelated\",\"ddr2\",\"550ti\",\"umami\",\"rodan+fields\",\"consultants\",\"steps\",\"klecan\",\"kanteen\",\"5820k\",\"xg270hu\",\"550\",\"tracking\",\"9th\",\"uptick\",\"subnatica\",\"actuality\",\"radar\",\"stikbold\",\"parchments\",\"nidhogg\",\"nitro\",\"towerfall\",\"pode\",\"duck\",\"monopoly\",\"overcook\",\"morta\",\"lichtspeer\",\"speer\",\"cannoli\",\"chicken\",\"wizard\",\"littlebigplanet\",\"disorder\",\"understatement\",\"vent\",\"poisoning\",\"drowsy\",\"activity\",\"compensate\",\"replenish\",\"events\",\"oversee\",\"90days\",\"broker\",\"401k\",\"freelance\",\"verte\",\"fixin\",\"lifelong\",\"fidelity\",\"blurriness\",\"n.verted\",\"experimental\",\"goofy\",\"zany\",\"oftentime\",\"smoothen\",\"warriors\",\"orochi\",\"nah\",\"bout\",\"dear\",\"gamedevs\",\"anemic\",\"cast\",\"siren\",\"spew\",\"amaze\",\"phaselocke\",\"npc\",\"takeshi\",\"wipeout\",\"receipt\",\"kanomi\",\"aspiration\",\"neutral\",\"chatter\",\"regime\",\"breakout\",\"visibly\",\"repulse\",\"contradict\",\"friendship\",\"sucker\",\"grasp\",\"meditation\",\"tea(s\",\"pai\",\"tan\",\"fluddless\",\"nozzle\",\"descent\",\"miserably\",\"flipping\",\"spamme\",\"shoulder\",\"aiming\",\"straightaway\",\"execution\",\"whoooooo\",\"m+b\",\"cronicle\",\"thay\",\"horrify\",\"fok\",\"nutraceutical\",\"bff\",\"groomer\",\"scalp\",\"itchy\",\"attracted\",\"haircare\",\"obsolete\",\"750\",\"670\",\"theranos\",\"mural\",\"headquarters\",\"utah\",\"strict\",\"fraudulent\",\"https://www.forbes.com/sites/katevinton/2016/06/01/billion-dollar-brand-proactiv-rodan-fields/#c9d9a8b3bfe3\",\"consoles\",\"unsolved\",\"compile\",\"digi\",\"thermal\",\"truthful\",\"hq\",\"insistent\",\"9:30\",\"http://www.bestbuy.com/site/sony-dualshock-4-controller-charging-station-for-playstation-4-black/9715101.p?id=1219431371359&skuid=9715101\",\"sh*t\",\"cables\",\"shopper\",\"going\",\"removable\",\"w/4\",\"charlie\",\"4k.\",\"maximise\",\"vouche\",\"2008\",\"alter\",\"liability\",\"yas\",\"dorm\",\"foreign\",\"thinkin\",\"stonk\",\"hmmmm\",\"imarketslive\",\"woo\",\"subrebbit\",\"revival\",\"twinings\",\"revive\",\"bigelow\",\"zhena\",\"flavored\",\"hearty\",\"sniff\",\"stench\",\"campfire\",\"charisma\",\"quicksand\",\"jumbled\",\"throughly\",\"hotkey\",\"poe\",\"forge\",\"voxel\",\"girlfriende\",\"laundry\",\"basketball\",\"congratulate\",\"idolize\",\"attainable\",\"burnout\",\"measurement\",\"resold\",\"https://store.steampowered.com/app/382890/final_fantasy_v_old_ver/\",\"https://store.steampowered.com/app/382900/final_fantasy_vi_old_ver/\",\"controllers\",\"h5\",\"ocean\",\"lb\",\"2ish\",\"exhausting\",\"helped\",\"solidify\",\"belief\",\"down\",\"devoid\",\"adore\",\"dialogue\",\"wordplay\",\"mesmerize\",\"freezing\",\"flummox\",\"charming\",\"absorbing\",\"sophisticated\",\"conceptually\",\"clicker\",\"wright\",\"interactivity\",\"facilitate\",\"contemporary\",\"intoxicating\",\"beige\",\"enigmatic\",\"dexterity\",\"acquisition\",\"lively\",\"canned\",\"recyclable\",\"1/12\",\"superbowl\",\"a.m.\",\"pm'd\",\"apocalyptic\",\"supernatural\",\"being\",\"drone\",\"roadmap\",\"propriety\",\"elgato\",\"teeth\",\"rgb\",\"pb\",\"cb\",\"allows\",\"daylight\",\"noon\",\"rays\",\"receiver\",\"questionnaire\",\"https://www.lifestraw.com/collections/daily-use/products/lifestraw-go\",\"chem\",\"100gal\",\"efficiency\",\"vouch\",\"lake\",\"chelan\",\"wa\",\"hydrating\",\"nba2k19\",\"v.1.02\",\"v1.02\",\"mycareer\",\"12mins\",\"nov.\",\"navy\",\"jingle\",\"gorgeous\",\"\\ud83d\\ude43\",\"fly\",\"shootout\",\"matrix\",\"o.o\",\"https://twitter.com/galyonkin/status/1083807010964025346\",\"tangy\",\"50g-70g-60g-60g-60\",\"70g-50g-60g-60g-60\",\"3ww\",\"scenic\",\"saboteur\",\"ww2\",\"church\",\"allocate\",\"appreicate\",\"migration\",\"motto\",\"tattoo\",\"saying\",\"taxation\",\"delive\",\"northern\",\"heyo\",\"montclair\",\"nearest\",\"staten\",\"ovarian\",\"pcos\",\"upsetting\",\"rogaine\",\"demential\",\"ontario\",\"workforce\",\"https://www.businessinsider.com/rodan-fields-layoffs-corporate-employees-2019-12?fbclid=iwar1mc_dus0ao07w8rfedrc2q9wwz7c92rqxfug7n3d0loai3fuvkrxxnpvq\",\"h'aanith\",\"haanith\",\"ohtpctoa\",\"dog22222\",\"collaborate\",\"unity\",\"drunkenly\",\"brainstorm\",\"execute\",\"iteration\",\"hum\",\"kunming\",\"lamu\",\"2dog\",\"genius\",\"printing\",\"warmth\",\"likeminde\",\"mfs\",\"teaexchange\",\"http://www.reddit.com/r/teaexchange/comments/1eb8fs/official_tea_exchange_box_uscanada/\",\"discredit\",\"ostensibly\",\"horrified\",\"answering\",\"800flower\",\"alienate\",\"brow\",\"littler\",\"lao\",\"styrofoam\",\"zojirushi\",\"limescale\",\"it-\",\"http://justanotherteablog.blogspot.com/2015/03/white-2-teas-lao-cha-tou-first-try.html\",\"duster\",\"sarah\",\"smear\",\"lipsense\",\"gloss\",\"contrived\",\"scammy\",\"irc\",\"mt.\",\"sangrita\",\"drawer\",\"intoxication\",\"seminar\",\"rainstorm\",\"sandwich\",\"deck\",\"declare\",\"100,000\",\"equip\",\"multipurpose\",\"looooove\",\"fx\",\"5200\",\"9700\",\"6800\",\"x1950\",\"9800\",\"6850\",\"tartness\",\"https://www.reddit.com/r/hydrohomies/comments/ctegnt/update_i_will_donate_10_cents_for_every_upvote/?utm_source=share&utm_medium=ios_app\",\"karmawhore\",\"loljkcuzurgay\",\"miscalculate\",\"5k\",\"4am\",\"donation\",\"stickied\",\"8:00\",\"serum\",\"sheesh\",\"rubber\",\"rubbery\",\"chemical\",\"maria\",\"unroasted\",\"roasted-\",\"g5s3w\",\"xn1\",\"http://www.newegg.com/product/product.aspx?item=n82e16834230027\",\"treats\",\"softmod\",\"wiser\",\"probe\",\"exclaim\",\"priceless\",\"ap24\",\"nagging\",\"undesirable\",\"c++\",\"x64\",\"redistributable\",\"https://imgur.com/a/uibtucp\",\"popup\",\"registry\",\"boylan\",\"akira\",\"encha\",\"physiological\",\"usucha\",\"courtesy\",\"sazen\",\"wako\",\"kan\",\"shiro\",\"mukashi\",\"budgetary\",\"carbonation\",\"s|x\",\"topo\",\"chico\",\"xposted\",\"lulano\",\"anon\",\"happened\",\"http://links.lularoefail.com/ftcregs\",\"http://links.lularoefail.com/illegalcredit\",\"https://preview.redd.it/qmy6a8j1gox11.png?width=750&format=png&auto=webp&s=d5b669963e8124c7a984aa18dffc3d29a499136d\",\"https://preview.redd.it/t973y9j1gox11.png?width=750&format=png&auto=webp&s=2bbce9a7251e19626711655e7ca8153fc68731b1\",\"https://preview.redd.it/hbhgiaj1gox11.png?width=750&format=png&auto=webp&s=3815aec47e93c299d2e302107b076ec8f7e99c08\",\"lighthearte\",\"ooblets\",\"tamagotchi\",\"pallet\",\"starve\",\"transistor\",\"grid\",\"offset\",\"foolish\",\"ingocnita\",\"https://gaming.youtube.com/watch?v=2p5on8hvfdc\",\"uh\",\"mins-3\",\"unreadable\",\"theta\",\"schweppes\",\"mojito\",\"tonic\",\"windows10\",\"accessories\",\"vjoy\",\"https://preview.redd.it/g8r4ufmsm3661.png?width=640&format=png&auto=webp&s=90d3f3d4ec5879eac34c69ba0b6617344e7646e6\",\"pointer\",\"bend\",\"bone\",\"nero\",\"ffx|x-2\",\"ffx-2\",\"https://store.eu.square-enix-games.com/en_eu/product/526762/final-fantasy-xx-2-hd-remaster-nintendo-switch#/fea\",\"playasia\",\"de_dust\",\"alamein\",\"neutrally\",\"distinguishable\",\"siege\",\"20th\",\"23rd\",\"barony\",\"26th\",\"borderzone\",\"full\",\"-sorry\",\"2618\",\"0521\",\"traversal\",\"arris\",\"tg1662\",\"dmz\",\"rogue\",\"https://www.humblebundle.com/star-war\",\"drank\",\"swig\",\"query\",\"solicit\",\"invariably\",\"revolve\",\"rebuy\",\"threading\",\"equation\",\"ibm\",\"narrating\",\"narrator\",\"-tame\",\"mi\",\"-coffee\",\"creeme\",\"roobio\",\"-tummy\",\"-market\",\"-pure\",\"-smokey\",\"fortnum\",\"-jasmine\",\"composed\",\"lumi\",\"spa\",\"vaccine\",\"breastfeed\",\"accomodation\",\"nw-31291\",\"correct.(nw-31291\",\"capabilities\",\"division\",\"uncompressed\",\"thedivision\",\"uncompress\",\"http://abload.de/img/thedivision_2016_01_2grqvo.png\",\"http://abload.de/img/thedivision_2016_01_2azrac.png\",\"http://abload.de/img/thedivision_2016_01_2lcr1z.png\",\"http://abload.de/img/thedivision_2016_01_219s1l.png\",\"http://abload.de/img/thedivision_2016_01_22estz.png\",\"http://abload.de/img/thedivision_2016_01_2aksp7.png\",\"http://abload.de/img/thedivision_2016_01_2bnr2l.png\",\"http://abload.de/img/thedivision_2016_01_2gwshx.png\",\"http://abload.de/img/thedivision_2016_01_2hcs11.png\",\"http://abload.de/img/thedivision_2016_01_2h2qm5.png\",\"http://abload.de/img/thedivision_2016_01_2tds6i.png\",\"http://abload.de/img/thedivision_2016_01_2bqs78.png\",\"http://abload.de/img/thedivision_2016_01_26gsd5.png\",\"http://abload.de/img/thedivision_2016_01_255pck.png\",\"http://abload.de/img/thedivision_2016_01_254s10.png\",\"http://abload.de/img/thedivision_2016_01_2y8sps.png\",\"http://abload.de/img/thedivision_2016_01_24qsl7.png\",\"http://abload.de/img/thedivision_2016_01_2k1shv.png\",\"http://abload.de/img/thedivision_2016_01_24vr2j.png\",\"http://abload.de/img/thedivision_2016_01_2hep7k.png\",\"http://abload.de/img/thedivision_2016_01_2qkqrp.png\",\"http://abload.de/img/thedivision_2016_01_2q1r0y.png\",\"http://abload.de/img/thedivision_2016_01_2mgrbz.png\",\"metacarpal\",\"handed\",\"dire\",\"diabetic\",\"https://www.rootbeer.com/products/aw-diet-cream-soda\",\"2l/64\",\"tolerance\",\"liters/64\",\"delfino\",\"plaza\",\"bianco\",\"hills\",\"ricco\",\"gelato\",\"pinna\",\"casino\",\"noki\",\"pianta\",\"widow\",\"coruption\",\"restore\",\"licences\",\"trying\",\"restriction\",\"manu\",\"liqyidsky\",\"egpu\",\"enclosure\",\"pubg\",\"overkill\",\"refurb\",\"~$450\",\"p.m.\",\"xbo\",\"advocate\",\"karmawhoring\",\"merit\",\"asymmetric\",\"technologically\",\"splitscreen\",\"functionally\",\"/mouse\",\"useable\",\"cezve\",\"yugoslavian\",\"bosanska\",\"kava\\\"/bosnian\",\"https://imgur.com/a/3nvkacc\",\"naranja\",\"spain\",\"craving\",\"exorbitant\",\":o\",\"b&n\",\"founder\",\"vomit\",\"brave\",\"introvert\",\"partly\",\"introverted\",\"teaming\",\"ya'll\",\"ign\",\"dodge\",\"yanno\",\"22.110.b\",\"22.110\",\"it's\",\"dc'd\",\"4hr\",\"thieves\",\"tiktok\",\"awe\",\"greens\",\"bogo\",\"weirde\",\"2!it\",\"thursday\",\"21st\",\"https://www.nintendo.com/games/detail/q-u-b-e-2-switch\",\"https://superraregames.com/\",\"harry\",\"corr\",\"savery\",\"benni\",\"adam\",\"rocha\",\"investigation\",\"rebrand\",\"neways\",\"superstar\",\"water-\",\"porto\",\"rico\",\"importing\",\"flowery\",\"bill\",\"spire\",\"xbox360\",\"downspeed\",\"defunct\",\"bloodstained\",\"dungeons\",\"matchmaking\",\"matchmake\",\"50252\",\"mw1\",\"beat'em\",\"seamlessly\",\"baddie\",\"someplace\",\"monotony\",\"selectively\",\"reviewer\",\"portia\",\"aromatic\",\"dissipate\",\"stimulating\",\"fresher\",\"ziplock\",\"neophyte\",\"205\",\"ehr\",\"https://preview.redd.it/alaozk3ktg741.jpg?width=3024&format=pjpg&auto=webp&s=9b81a963c7eea3a9303ff28f004a46984e29685f\",\"wfg\",\"since\",\"sc\",\"20,000\",\"pellegrino\",\"perrier\",\"iso\",\"cheapish\",\"hehe\",\"2:53\",\"isagenix\",\"milestone\",\"meditative\",\"widen\",\"scope\",\"ninja\",\"madcatz\",\"emulation\",\"saints\",\"culprit\",\"inhibit\",\"ash\",\"odor\",\"jingdezhen\",\"fu#c\",\"killsone\",\"gg\",\"walled\",\"deliciousness\",\"gmo'd\",\"aeropress'd\",\"porting\",\"xenonblade\",\"twilight\",\"princess\",\"sideways\",\"profclub\",\"gamemode\",\"collagens\",\"unrealistic\",\"tamarind\",\"jarrito\",\"mandarin\",\"potato\",\"http://imgur.com/a/crhvu\",\"kinum47\",\"helor101\",\"comadantec40\",\"mk1\",\"mk3\",\"formally\",\"urinalysis\",\"unusually\",\"conclusion\",\"exam\",\"http://imgur.com/a/pqgkl3z\",\"ecocha\",\"pakola\",\"inca\",\"kola\",\"stressfree\",\"mhgenu\",\"unwind\",\"99.9\",\"cities\",\"women\",\"unseen\",\"bottom\",\"tacky\",\"relentlessly\",\"vain\",\"flatter\",\"wealthy\",\"wwyd\",\"mount\",\"watering\",\"modification\",\"inspire\",\"genious\",\"outdoors\",\"whirl\",\"boji\",\"kelloo\",\"kochere\",\"makati\",\"contrast\",\"underneath\",\"submautica\",\"disscussion\",\"4700mq\",\"1600mhz\",\"plextor\",\"px-256m5\",\"256\",\"msata\",\"6gb\",\"8mbps\",\"2sv\",\"shy\",\"laughable\",\"nauseam\",\"angel\",\"punishment\",\"^(price\",\"salon\",\"dilmah\",\"ahmad\",\"mumtaz\",\"teakruthi\",\"portugal\",\"6:30\",\"cheerier\",\"vulkan\",\"kudo\",\"viable\",\"75hz\",\"accuracy\",\"dualshock\",\"4s\",\"eso\",\"comeback\",\"stab\",\"peaberry\",\"oculus\",\"4.5\",\"absurdly\",\"augment\",\"armoury\",\"~12\",\"panick\",\"desire\",\"aeropresse\",\"100mg\",\":-p\",\"disposable\",\"abundance\",\"comprehensive\",\"steepster\",\"healthfood\",\"ust\",\"amateur\",\"connoisseur\",\"alton\",\"metropolitan\",\"enhancement\",\"lessen\",\"possess\",\"synergistically\",\"spillane\",\"scientific\",\"threshold\",\"eyeball\",\"unscientific\",\"calculation\",\"badly\",\"altered\",\"carriage\",\"gardening\",\"r\\u00f4le\",\"bankrupt\",\"nonetheless\",\"positively\",\"dermatologist\",\"proactiv\",\"routinely\",\"negligible\",\"unknowingly\",\"sinister\",\"nw-31281\",\"cr*p\",\"messsenger\",\"stalk\",\"respectable\",\"sideline\",\"know-\",\"counterpoint\",\"cigarette\",\"1s\",\"terminate\",\"screwdriver\",\"hibernation\",\"aces(2018\",\"softener\",\"individuals\",\"peddling\",\"numbers\",\"https://preview.redd.it/jsxgmsncubd61.png?width=491&format=png&auto=webp&s=743fe30a7f2dbb25b682e928282df351007a983f\",\"https://preview.redd.it/bza6kekjubd61.png?width=485&format=png&auto=webp&s=d227df26ab65efe8ce58a77ab685b503a0e0ffcd\",\"tire\",\"f'in\",\"makerid\",\"preorders\",\"hasty\",\"messenger\",\"https://www.reddit.com/r/gamestop/comments/5nsjg8/zelda_botw_master_edition_sku_is_fake_in_all_gs/\",\"gawain\",\"dang\",\"qbvh\",\"xxnb\",\"ganp\",\"heje\",\"https://mynintendonews.com/2017/01/17/rumour-rockstars-l-a-noire-may-be-heading-to-nintendo-switch/\",\"499\",\"648\",\"aud\",\"749\",\"uncensored\",\"intrest\",\"295\",\"210\",\"nh\",\"anonymous\",\"https://monsterhunter.fr/2019/03/31/monster-hunter-victory-portable-v-fuite-sur-nintendo-switch/\",\"vest'an\",\"inculde\",\"harpoon\",\"underwater\",\"tigrex\",\"magala\",\"ultrahd\",\"oxidize\",\"hong\",\"pao\",\"woody\",\"backseat\",\"mellow\",\"longtime\",\"realllllllly\",\"conventionally\",\"conscious\",\"mkl\",\"-mary\",\"pardon\",\"ffense\",\"ff15\",\"dollars(gamestop\",\"new(subject\",\"opnion\",\"yankee\",\"finding\",\"ne\",\"bb&b\",\"earp\",\"lockdown\",\"aer\",\"bookmark\",\"baristas\",\"capp\",\"glossy\",\"velvety\",\"https://www.getonthegel.com/\",\"digging\",\"10m\",\"byte\",\"prequelmeme\",\"https://preview.redd.it/41e2ozyh7a931.png?width=799&format=png&auto=webp&s=95a0f0e5c9abb145e584cb1018f0e444aea1460e\",\"nerf\",\"drate\",\"ce-41839\",\"frustrate\",\"unfamiliar\",\"duds\",\"bourbon\",\"bernadina\",\"bonuses\",\"purchaser\",\"pos\",\"50k+\",\"skewed\",\"beep\",\"c2\",\"jx\",\"blunt\",\"game(s\",\"shattered\",\"dimensions\",\"transformers\",\"cybertron\",\"lollipop\",\"chainsaw\",\"teen\",\"navigate\",\"trader\",\"12oz/350ml\",\"45ml\",\"moisten\",\"undrinkable\",\"isp\",\"verizon\",\"fios\",\"75mbps\",\"fluctuate\",\"brit\",\"twinnings\",\"roobios\",\"soliciting\",\"irony\",\"\\ud83d\\ude09\",\"4k60fps\",\"gems\",\"underappreciated\",\"cappucino\",\"blonde\",\"duo\",\"dairy\",\"prouder\",\"yknow\",\"linrary\",\"11.99\",\"evem\",\"185\",\"22g/350\",\"realign\",\"verdant\",\"cleaver\",\"palatable\",\"bv1901gw\",\"~16\",\"soapy\",\"don\\u2019ts\",\"educating\",\"behalf\",\"trashy\",\"checkout\",\"luxury\",\"furniture\",\"manipulate\",\"innocent\",\"loving\",\"inflict\",\"pee\\u2019d\",\"plantronic\",\"becasue\",\"inbuilt\",\"10hour\",\"tragic\",\"inability\",\"overarch\",\"controllable\",\"ft\",\"corporation\",\"obsessive\",\"negatively\",\"extensive\",\"~$12.27\",\"immediatlly\",\"mono\",\"upstairs\",\"downstairs\",\"re4\",\"dongle\",\"doenst\",\"bluedooth\",\"acc\",\"1000kbps\",\"dns\",\"ob\",\"waiter\",\"wellness\",\"popcorn\",\"ultrafine\",\"preperation\",\"lifespan\",\"49\",\"nanocell\",\"scams\",\"anecdote\",\"benton\",\"https://imgur.com/z47onux\",\"counterculture\",\"s&w.\",\"2lbs\",\"1.5lbs\",\"refrigerate\",\"minutes-5\",\"repower\",\"s.t.a.l.k.e.r.\",\"stalker\",\"pebo\",\"8cup\",\"brew(about\",\"990\",\"https://www.youtube.com/watch?v=j-cure2499w\",\"teamwork\",\"cooperation\",\"smudge\",\"horde\",\"relic\",\"gunpowder\",\"cannon\",\"defeat\",\"directx\",\"monie\",\"prudent\",\"foil?-like\",\"tightly\",\"degrade\",\"reload\",\"triology\",\"posible\",\"vicarious\",\"visions\",\"regulator\",\"merger\",\"peet\",\"smokier\",\"steamfriend\",\"hose\",\"tub\",\"keygen\",\"conscience\",\"authenticate\",\"gore(and\",\"sickness\",\"yonder\",\"professor\",\"layton\",\"attorney\",\"lego(my\",\"indiana\",\"horizons\",\"kiki\",\"chanel\",\"sweating\",\"stamina\",\"dicide\",\"bloat\",\"2liters\",\"puffy\",\"urinate\",\"keg\",\"rarity\",\"laudato\",\"si\",\"encyclical\",\"francis\",\"muddle\",\"plugin\",\"circuit\",\"120w\",\"1200\",\"unwell\",\"taster\",\"championship\",\"soundcard\",\"breathe\",\"amyway\",\"stampin\",\"distributer\",\"su\",\"spouse\",\"longaburger\",\"tempting\",\"menghai\",\"toucha\",\"mcnultys\",\"descriptive\",\"soil\",\"6.3\",\"floodgate\",\"breathtake\",\"2l.\",\"mum\",\"thrift\",\"girly\",\"populated\",\"3000\",\"fistofwolf\",\"apprehensive\",\"fe3h\",\"silence\",\"workaround\",\"foolishness\",\"ignorance\",\"resign\",\"pcsx4\",\"orbital\",\"jailbreaking\",\"locked\",\"revoke\",\"solace\",\"kh3\",\"mill\",\"tpp\",\"scandinavia\",\"eager\",\"kart8\",\"voucher\",\"oddyssey\",\"tynemouth\",\"alcaf\\u00e9\",\"ouseburn\",\"oily\",\"garry\",\"\\ud83e\\udd73\",\"persist\",\"stocking\",\"loooong\",\"59\",\"endanger\",\"specie\",\"o_o\",\"heater\",\"el-4000\",\"http://amzn.com/b01mg5ken3\",\"java\",\"http://amzn.com/b01mr8ce6i\",\"terrify\",\"foam\",\"spoon\",\"froth\",\"feast\",\"http://ibb.co/h154sp\",\"pepsis\",\"experation\",\"bottlecapcollecte\",\"running\",\"saeco\",\"urnex\",\"dezcal\",\"elect\",\"retain\",\"devotion\",\"reel\",\"redownload\",\"5-$7\",\"brands\",\"rightfully\",\"cypriot\",\"arabian\",\"lucozade\",\"earphone\",\"shops\",\"hood\",\"sensory\",\"mio\",\"camelback\",\"squirt\",\"tampa\",\"hotline\",\"boyfiend\",\"slimy\",\"anteaque\",\"downtown\",\"exhaust\",\"koreans\",\"ink\",\"fascinating\",\"iroh\",\"potter\",\"https://imgur.com/a/uaggjpj\",\"boarding\",\"greys\",\"daresay\",\"supreme\",\"p's4\",\"r.d.s.\",\"revision\",\"inside(which\",\"calendars\",\"niece-\",\"acknowledge\",\"anyway-\",\"pelvic\",\"remaining\",\"tbsp\",\"ttbsp\",\"whiff\",\"hx\",\"boiler\",\"adequate\",\"calcium\",\"3mg\",\"mg++\",\"0,7mg\",\"tubing\",\"pitting\",\"hardness\",\"composition\",\"recommand\",\"copious\",\"scandalous\",\"h20\",\"tracing\",\"dxr\",\"negative)one\",\"dice\",\"kelso\",\"cole\",\"underwhelme\",\"bodysuit\",\"ik\",\"wearer\",\"gunfire\",\"layer\",\"intensity\",\"dome\",\"treadmill\",\"utterly\",\"incomprehensible\",\"readyplayerone\",\"biotech\",\"bigwig\",\"chipping\",\"awkward\",\"intentional\",\"bothersome\",\"awkwardly\",\"immanent\",\"payne\",\"builders\",\"sam\",\"tentacle\",\"grim\",\"fandango\",\"caesar\",\"pharaoh\",\"zeus\",\"pastel\",\"cuteness\",\"bw\",\"b2w2\",\"shakeology\",\"nit\",\"jarring\",\"accustomed\",\"syrupy\",\"kirin\",\"crispy\",\"overwhelmed\",\"importer\",\"closure\",\"79.99\",\"scanner\",\"tier\",\"plaster\",\"hypnotise\",\"deceivingly\",\"zombine\",\"adobe\",\"archive\",\"78,000\",\"temporarily\",\"relive\",\"gemcraft\",\"bloon\",\"td\",\"3l\",\"tricky\",\"political\",\"painfully\",\"groundbreaking\",\"cultural\",\"societal\",\"economical\",\"sociology\",\"turnover\",\"scamway\",\"mys\",\"hoffmans\",\"6/8\",\"3.how\",\"wwg\",\"/w\",\"privately\",\"nest\",\"salvage\",\"intuitive\",\"mnk\",\"groove\",\"gopaldhara\",\"approx\",\"ftgfop1\",\"appearance\",\"swirly\",\"malty\",\"stayton\",\"chinfai\",\"silicone\",\"skins\",\"handles\",\"https://www.amazon.com/dp/b06xfbsbzn/ref=cm_sw_r_cp_apa_q5p2yberqvfb9\",\"decal\",\"wast\",\"silicon\",\"curio\",\"overtime\",\"saturated\",\"gimmicky\",\"photograph\",\"2080super\",\"stabilizer\",\"resoundingly\",\"exaggerate\",\"puddle\",\"re\",\"miracle\",\"kanto\",\"mainline\",\"befuddlement\",\"removal\",\"leisure\",\"onix\",\"popping\",\"unannounced\",\"chiefly\",\"undocked\",\"iama\",\"https://new.reddit.com/r/iama/comments/dt2prs/we_are_the_dark_crystal_games_team_members/\",\"backbone\",\"50,000\",\"realms\",\"https://www.kickstarter.com/projects/ceresgames/realms-beyond-ashes-of-the-fallen/description\",\"steven\",\"k.o.\",\"2.4\",\"choke\",\"rad\",\"emily\",\"leah\",\"verbose\",\"endearing\",\"spat\",\"trafficker\",\"meaningless\",\"bullying\",\"unsubscribe\",\"0\\u02dac\",\"coat\",\"overlocke\",\"10ghz\",\"cooling\",\"pigs\",\"realtime\",\"folder\",\"http://pastebin.com/tiqf0mrq\",\"c:\\\\program\",\"files\",\"x86)\\\\steam\\\\userdata\\\\yoursteamid\\\\311340\\\\remote\",\"metalgearsolidv_pc\",\"suggestions\",\"required\",\"~~job~~\",\"gist\",\"motivating\",\"executive\",\"x(my\",\"refereed\",\"managing\",\"wastes\",\"renaissance\",\"1,2,3\",\"counterstrike\",\"conker\",\"fur\",\"plane\",\"your(obviously\",\"ns\",\"airport\",\"plethora\",\"growler\",\"legally\",\"rosemary\",\"https://www.globenewswire.com/news-release/2020/10/06/2104567/0/en/doterra-center-for-integrative-oncology-opens-at-new-st-elizabeth-cancer-center.html\",\"lug\",\"projector\",\"crave\",\"uni\",\"appose\",\"mars\",\"interplanetary\",\"wn\",\"unadulterated\",\"cosmic\",\"https://www.independent.co.uk/life-style/gadgets-and-tech/mars-water-bodies-nasa-alien-life-b673519.html?utm_source=reddit.com\",\"jesus\",\"housing\",\"hydroskeptic\",\"dauntless\",\"f2p\",\"@squier\",\"sodas.com\",\"lauson1ex\",\"kyrpt\",\"fatality\",\"grain\",\"patreon\",\"ide\",\"nrs\",\"mk\",\"https://www.youtube.com/watch?v=pxo51gtgkds\",\"1/2/20\",\"friend(who\",\"flashcard\",\"excitedly\",\"said\",\"qna\",\"firstly\",\"https://www.reddit.com/r/antimlm/comments/q0j0f1/my_experience_with_my_close_friend_who_is/?utm_source=share&utm_medium=web2x&context=3\",\"concise\",\"trifecta\",\"adherent\",\"methid\",\"hideous\",\"nickel\",\"cleanup\",\"sorrowtv\",\"immortal\",\"rising\",\"alley\",\"artesian\",\"1920s\",\"1970\",\"percolate\",\"corningware\",\"arabica\",\"rotten\",\"bathe\",\"divine\",\"filtration\",\"seamstress\",\"tout\",\"1950s\",\"eek\",\"memorable\",\"flummoxed\",\"rowdy\",\"roddy\",\"piper\",\"gum\",\"https://youtu.be/6acncdjtoa8\",\"don\",\"quixotea\",\"manchai\",\"backer\",\"pippi\",\"oolongstocking\",\"jenni\",\"rosy\",\"cuppageek\",\"gehab\",\"editing\",\"publish\",\"shizz\",\"https://www.youtube.com/watch?v=mpdtftdahd4\",\"https://www.youtube.com/watch?v=jabvoilcuek&feature=youtu.be\",\"spiced\",\"160\",\"170\",\"battlefied\",\"beeing\",\"dope\",\"young'n\",\"inkling\",\"colorfully\",\"fans\",\"https://gamerant.com/bethesda-starfield-news-2022/?utm_content=buffer9a16e&utm_medium=social-distribution&utm_source=gr-tw&utm_campaign=gr-tw\",\"todd\",\"howard\",\"aya\",\"9am\",\"https://www.reddit.com/r/intel/comments/epk0zs/official_intel_graphics_aya_ask_you_anything/\",\"co2\",\"servicing\",\"infrastructure\",\"troubleshoot\",\"e208\",\"v.s.\",\"ambiguous\",\"motivational\",\"distinctly\",\"foolishly\",\"eh\",\"metabolism\",\"https://imgur.com/a/8qwfsqr\",\"indefinately\",\"trek\",\"unskippable\",\"trudge\",\"obstacle\",\"airplane\",\"pointing\",\"ccop\",\"https://www.sofstudios.com/index.php?/page/index.html\",\"nindies\",\"banjo\",\"kazooie\",\"iirc\",\"reskin\",\"playstation5\",\"logomark\",\"prototype\",\"gradient\",\"impair\",\"deaf\",\"crank\",\"coming\",\"r.b.i.\",\"simulating\",\"drafting\",\"offseason\",\"backlog\",\"awesomely\",\"accessories(battery\",\"\\u201daddiction\",\"48\",\"meal\",\"unhealthily\",\"dependence\",\"psychological\",\"explorer.exe\",\"skeptic\",\"beware\",\"glide\",\"snappy\",\"feasibility\",\"entrepreneurship\",\"http://goo.gl/forms/moj9rsgoyi\",\"collectable\",\"wikipedia\",\"mythical\",\"disprove\",\"wsu\",\"idaho\",\"oregon\",\"v1\",\"0.07\",\"y'know\",\"confine\",\"gears\",\"tactics\",\"obligatory\",\"coffin\",\"playnite\",\"https://imgur.com/a/38pknbq\",\"onward\",\"wean\",\"3,000\",\"fp\",\"jot\",\"replication\",\"popcorning\",\"excelling\",\"versatility\",\"arguably\",\"monolith\",\"eg-1\",\"modding\",\"untill\",\"3k\",\"cinematic\",\"coffe\",\"30ml\",\"1:(x\",\"2oz/\",\"3.2\",\"1:3.2\",\"perma\",\"relieved\",\"suspend\",\"12/31/9999\",\"hijack\",\"separately\",\"unbanned\",\"guitar\",\"warner\",\"ny\",\"fio\",\"anywho\",\"swallow\",\"tectonic\",\"elegant\",\"delightful\",\"authority\",\"azure\",\"oath\",\"felghana\",\"atelier\",\"mundane\",\"unbelievable\",\"binbok\",\"dammit\",\"teavivre\",\"worldwide\",\"16.9\",\"repenting\",\"limestone\",\"monsooned\",\"malabar\",\"whiskey\",\"underestimate\",\"subtract\",\"savory\",\"hash\",\"pipe\",\"harsh\",\"prospect\",\"secondly\",\"garuntee\",\"multiplat\",\"asia\",\"240v\",\"120v.\",\"interchangeable\",\"bamboo\",\"googling\",\"bleached\",\"unbleached\",\"neuroscientist\",\"resorting(though\",\"lab\",\"german\",\"inch\",\"desicion\",\"-thank\",\"someway\",\"doable\",\"at&t\",\"upfront\",\"cydcor\",\"dominos\",\"someday\",\".most\",\".to\",\"fro\",\"superlumen\",\"investigate\",\"madness\",\"darkness\",\"insanity\",\"ambisonic\",\"8d\",\"lovecraftian\",\"360\\u00ba\",\"integrate\",\"casinello\",\"superlumen_oficial\",\"chema\",\"designer\",\"chemacogo\",\"charly\",\"hermogenes\",\"solracher\",\"irene\",\"mart\\u00ednez\",\"superirenne\",\"chang\",\"stem\",\"prominent\",\"treehouse\",\"beam\",\"antagonist\",\"orient\",\"wondering\",\"existent\",\"dunkin\",\"4.25\",\"vie\",\"membrane\",\"gungeon\",\"blossom\",\"tales\",\"cells\",\"indies\",\"mere\",\"dg\",\"maui\",\"https://i.imgur.com/p4goa6e.jpg\",\"minty\",\"george\",\"howell\",\"420\",\"50ml\",\"increment\",\"neck\",\"fews\",\"https://www.youtube.com/watch?v=fzz0pk2q3g8\",\"platfomer\",\"jak\",\"theoretically\",\"bitters\",\"https://pdfhost.io/v/0qtoqunc5_pepsin_bitterspdf.pdf\",\"gentian\",\"wahoo\",\"mandrake\",\"cloves\",\"coriander\",\"\\u03b2\",\"dil\",\"3\\u00bd\",\"oiij\",\"oij\",\"aq\",\"dist\",\"qs\",\"macerate\",\"640\",\"gms\",\"wyatt\",\"2k18\",\"59.99\",\"paddle\",\"famed\",\"eastgate\",\"rave\",\"tinge\",\"1.79\",\"parchment\",\"silverskin\",\"appriate\",\"matte\",\"trieste\",\"croatia\",\"slovenian\",\"cola?i\",\"coastal\",\"shadowplay\",\"alt+z.\",\"dipping\",\"ctr\",\"incompetence\",\"mitigate\",\"unofficial\",\"alleviate\",\"worst\",\"affected\",\"physically\",\"inbetween\",\"mid-90s\",\"chrono\",\"roman\",\"https://www.ey.com/en_us/news/2020/10/ey-announces-winners-for-the-entrepreneur-of-the-year-2020-new-jersey-award\",\"decompose\",\"~3.5\",\"decant\",\"leathery\",\"pry\",\"attractive\",\"attractiveness\",\"https://www.bodum.com/gb/en/11920-259-douro\",\"recommended\",\"8th\",\"destinythegame\",\"@bungie\",\"https://youtu.be/_bn_wjo2m9q\",\"2070\",\"gfuel\",\"savvy\",\"stumped\",\"dosing\",\"fathom\",\"negativity\",\"venting\",\"haptic\",\"ito\",\"en\",\"venus\",\"lp\",\"elektra\",\"wpid\",\"http://imgur.com/edexcga\",\"bargain\",\"7pound\",\"sp\",\"3.it\",\"warrant\",\"https://rocketfizz.com/media/soda-labels/\",\"hickup\",\"lagging\",\"redshift\",\"1.25\",\"secretly\",\"3500\",\"k\\u00ba\",\"paywall\",\"polling\",\"24h\",\"blocking\",\"~~the\",\"table.~~\",\"~~in\",\"costly\",\"me).~~\",\"segmentation\",\"usd$\",\"insomnia\",\"01:00\",\"msconfig.exe\",\"logon\",\"vip\",\"10:30\",\"cloudstrifehy3\",\"reedit\",\"infos\",\"im\",\"daisy\",\"msg\",\"379\",\"https://www.nintendo.com/games/detail/bury-me-my-love-switch/\",\"12/31/19\",\"themo\",\"3yrs\",\"forgave\",\"xboxes\",\"nonstop\",\"h(2)0mies\",\"heathens\",\"pacing\",\"demanding\",\"flying\",\"cauldron\",\"hedge\",\"http://i.imgur.com/bqf2ptn.jpg\",\"bath\",\"slit\",\"tbb\",\"mighty\",\"cards\",\"http://shop.sandisk.com/store/sdiskus/en_us/pd/productid.5180084100\",\"promocode\",\"ultra128sd\",\"https://www.amazon.com/samsung-microsd-adapter-mb-me128ga-am/dp/b06xwzwyvp\",\"https://www.samsung.com/us/computing/memory-storage/memory-cards/microsdxc-evo-plus-memory-card-w--adapter-128gb--2017-model--mb-mc128ga-am/\",\"http://imgur.com/a/wdwdn\",\"insecure\",\"pathetic\",\"trolling\",\"campus\",\"collectively\",\"horrific\",\"broad\",\"400k+\",\"reappear\",\"pool\",\"highlight\",\"detrimental\",\"roadblock\",\"goldeneye\",\"007\",\"dweller\",\"stare\",\"ceiling\",\"\\u00fcbermensch\",\"xoxo\",\"fanatical\",\"keys\",\"academy\",\"p5xcr\",\"vy2ty\",\"hlr47\",\"knights\",\"ccf78\",\"tbb2b-82w22\",\"2b4pl\",\"ylwa5\",\"j9a3f\",\"wzakr\",\"hampg\",\"y3ym9\",\"gapev\",\"wgihn\",\"ayddf\",\"l4bxe\",\"vz407\",\"mec3w\",\"2i7wr\",\"vncel\",\"x79ep\",\"codex\",\"75dby\",\"r7qjc\",\"yj0vj\",\"wyhae-8bcyv\",\"b4kwb\",\"oke\",\"tieguanyin\",\"structure\",\"itwork\",\"ngl\",\"television\",\"crysis\",\"ctrl\",\"fledgling\",\"deacf\",\"rost\",\"suger\",\"wth\",\"mgsv\",\"misspell\",\"pt\",\"whatdoyaknow\",\"memo\",\"surreal\",\"brainwash\",\"midwestern\",\"disposal\",\"planting\",\"sill\",\"desensitize\",\"apostrophe\",\"conclude\",\"bf5\",\"witch\",\"pastime\",\"capitalize\",\"hurricanes&mlms\",\"beyourownceo\",\"shatter\",\"vodka\",\"jameson\",\"blenheim\",\"dr.pepp\",\"annoyingly\",\"torch\",\"monochrome\",\"hungry\",\"scare\",\"intact\",\"influential\",\"tasteless\",\"cooperate\",\"gratification\",\"josta\",\"alltime\",\"antarctica\",\"brasil\",\"spiciness\",\"dnl\",\"upside\",\"aruba\",\"jam\",\"jazz\",\"intervention\",\"fewday\",\"welfare\",\"imporant\",\"mutual\",\"surface\",\"tipping\",\"anybodie\",\"tender\",\"applicable\",\"israel\",\"existed\",\"bradford\",\"enthusiast(read\",\"pbr\",\"purelife\",\"quenching\",\"tingly\",\"amiss\",\"\\ud83d\\ude33\",\"saline\",\"huh\",\"https://i.imgur.com/fk5nbuo.jpg\",\"sahm\",\"achiever\",\"workplace\",\"talent\",\"burden\",\"mil\",\"teaching\",\"sonic\",\"forces\",\"unleashed\",\"sucking\",\"congratulation\",\"remodeling\",\"karens\",\"justifiably\",\"huffy\",\"obligated\",\"sarcastic\",\"mixer\",\"parking\",\"thug\",\"water+\",\"yerba\",\"http://www.mymateworld.com/catalog/index.php?cpath=1\",\"tweets\",\"fumihiko\",\"yasuda\",\"quote\",\"118.05\",\"ec\",\"/espresso\",\"tamp\",\"geyser\",\"bengal\",\"herbal/\",\"i've\",\"jamaica\",\"ka\",\"bigga\",\"unnoficial\",\"journal\",\"compact\",\"straightforwardness\",\"citron\",\"responsive\",\"comfortably\",\"travesty\",\"p65\",\"c1\",\"subsampling\",\"krups\",\"xp1020\",\"arizona\",\"2kgs\",\"negotiate\",\"tours\",\"https://reddit.com/link/ca7z9c/video/c9lesvwofw831/player\",\"https://preview.redd.it/blln3plmlz831.jpg?width=1608&format=pjpg&auto=webp&s=e896f327de8ef788b7dc61250aea8f91eb4a0896\",\"stagg\",\"motivate\",\"0x87e50007\",\"hobbie\",\"standardize\",\"catnip\",\"carolina\",\"crafted\",\"1min\",\"floored\",\"linkedin\",\"resume\",\"preciso\",\"erythritol\",\"sucralose\",\"aspartame\",\"beefy\",\"dreamcast\",\"24gm79g\",\"4kuhd\",\"commando\",\"colander\",\"messy\",\"grit\",\"yardwork\",\"inversion\",\"being\\\"/relaxation\",\"10/40\",\"25/40\",\"50/40\",\"sounding\",\"b&q\",\"f@#&in\",\"vhs\",\"hecka\",\"sonys\",\"pile\",\"standing\",\"repaste\",\"idle\",\"nonalcoholic\",\"paris\",\"switzerland\",\"liechtenstein\",\"venice\",\"austria\",\"hasn't\",\"doesn't\",\"obv\",\"synergy\",\"mario64\",\"casul\",\"deliberation\",\"slick\",\"valiant\",\"preach\",\"choir\",\"1070\",\"3070ti\",\"5600x.\"],\"legendgroup\":\"\",\"marker\":{\"color\":\"#636efa\",\"symbol\":\"circle\"},\"mode\":\"markers\",\"name\":\"\",\"showlegend\":false,\"x\":[1,2,3,4,5,6,7,8,9,10,11,12,13,14,15,16,17,18,19,20,21,22,23,24,25,26,27,28,29,30,31,32,33,34,35,36,37,38,39,40,41,42,43,44,45,46,47,48,49,50,51,52,53,54,55,56,57,58,59,60,61,62,63,64,65,66,67,68,69,70,71,72,73,74,75,76,77,78,79,80,81,82,83,84,85,86,87,88,89,90,91,92,93,94,95,96,97,98,99,100,101,102,103,104,105,106,107,108,109,110,111,112,113,114,115,116,117,118,119,120,121,122,123,124,125,126,127,128,129,130,131,132,133,134,135,136,137,138,139,140,141,142,143,144,145,146,147,148,149,150,151,152,153,154,155,156,157,158,159,160,161,162,163,164,165,166,167,168,169,170,171,172,173,174,175,176,177,178,179,180,181,182,183,184,185,186,187,188,189,190,191,192,193,194,195,196,197,198,199,200,201,202,203,204,205,206,207,208,209,210,211,212,213,214,215,216,217,218,219,220,221,222,223,224,225,226,227,228,229,230,231,232,233,234,235,236,237,238,239,240,241,242,243,244,245,246,247,248,249,250,251,252,253,254,255,256,257,258,259,260,261,262,263,264,265,266,267,268,269,270,271,272,273,274,275,276,277,278,279,280,281,282,283,284,285,286,287,288,289,290,291,292,293,294,295,296,297,298,299,300,301,302,303,304,305,306,307,308,309,310,311,312,313,314,315,316,317,318,319,320,321,322,323,324,325,326,327,328,329,330,331,332,333,334,335,336,337,338,339,340,341,342,343,344,345,346,347,348,349,350,351,352,353,354,355,356,357,358,359,360,361,362,363,364,365,366,367,368,369,370,371,372,373,374,375,376,377,378,379,380,381,382,383,384,385,386,387,388,389,390,391,392,393,394,395,396,397,398,399,400,401,402,403,404,405,406,407,408,409,410,411,412,413,414,415,416,417,418,419,420,421,422,423,424,425,426,427,428,429,430,431,432,433,434,435,436,437,438,439,440,441,442,443,444,445,446,447,448,449,450,451,452,453,454,455,456,457,458,459,460,461,462,463,464,465,466,467,468,469,470,471,472,473,474,475,476,477,478,479,480,481,482,483,484,485,486,487,488,489,490,491,492,493,494,495,496,497,498,499,500,501,502,503,504,505,506,507,508,509,510,511,512,513,514,515,516,517,518,519,520,521,522,523,524,525,526,527,528,529,530,531,532,533,534,535,536,537,538,539,540,541,542,543,544,545,546,547,548,549,550,551,552,553,554,555,556,557,558,559,560,561,562,563,564,565,566,567,568,569,570,571,572,573,574,575,576,577,578,579,580,581,582,583,584,585,586,587,588,589,590,591,592,593,594,595,596,597,598,599,600,601,602,603,604,605,606,607,608,609,610,611,612,613,614,615,616,617,618,619,620,621,622,623,624,625,626,627,628,629,630,631,632,633,634,635,636,637,638,639,640,641,642,643,644,645,646,647,648,649,650,651,652,653,654,655,656,657,658,659,660,661,662,663,664,665,666,667,668,669,670,671,672,673,674,675,676,677,678,679,680,681,682,683,684,685,686,687,688,689,690,691,692,693,694,695,696,697,698,699,700,701,702,703,704,705,706,707,708,709,710,711,712,713,714,715,716,717,718,719,720,721,722,723,724,725,726,727,728,729,730,731,732,733,734,735,736,737,738,739,740,741,742,743,744,745,746,747,748,749,750,751,752,753,754,755,756,757,758,759,760,761,762,763,764,765,766,767,768,769,770,771,772,773,774,775,776,777,778,779,780,781,782,783,784,785,786,787,788,789,790,791,792,793,794,795,796,797,798,799,800,801,802,803,804,805,806,807,808,809,810,811,812,813,814,815,816,817,818,819,820,821,822,823,824,825,826,827,828,829,830,831,832,833,834,835,836,837,838,839,840,841,842,843,844,845,846,847,848,849,850,851,852,853,854,855,856,857,858,859,860,861,862,863,864,865,866,867,868,869,870,871,872,873,874,875,876,877,878,879,880,881,882,883,884,885,886,887,888,889,890,891,892,893,894,895,896,897,898,899,900,901,902,903,904,905,906,907,908,909,910,911,912,913,914,915,916,917,918,919,920,921,922,923,924,925,926,927,928,929,930,931,932,933,934,935,936,937,938,939,940,941,942,943,944,945,946,947,948,949,950,951,952,953,954,955,956,957,958,959,960,961,962,963,964,965,966,967,968,969,970,971,972,973,974,975,976,977,978,979,980,981,982,983,984,985,986,987,988,989,990,991,992,993,994,995,996,997,998,999,1000,1001,1002,1003,1004,1005,1006,1007,1008,1009,1010,1011,1012,1013,1014,1015,1016,1017,1018,1019,1020,1021,1022,1023,1024,1025,1026,1027,1028,1029,1030,1031,1032,1033,1034,1035,1036,1037,1038,1039,1040,1041,1042,1043,1044,1045,1046,1047,1048,1049,1050,1051,1052,1053,1054,1055,1056,1057,1058,1059,1060,1061,1062,1063,1064,1065,1066,1067,1068,1069,1070,1071,1072,1073,1074,1075,1076,1077,1078,1079,1080,1081,1082,1083,1084,1085,1086,1087,1088,1089,1090,1091,1092,1093,1094,1095,1096,1097,1098,1099,1100,1101,1102,1103,1104,1105,1106,1107,1108,1109,1110,1111,1112,1113,1114,1115,1116,1117,1118,1119,1120,1121,1122,1123,1124,1125,1126,1127,1128,1129,1130,1131,1132,1133,1134,1135,1136,1137,1138,1139,1140,1141,1142,1143,1144,1145,1146,1147,1148,1149,1150,1151,1152,1153,1154,1155,1156,1157,1158,1159,1160,1161,1162,1163,1164,1165,1166,1167,1168,1169,1170,1171,1172,1173,1174,1175,1176,1177,1178,1179,1180,1181,1182,1183,1184,1185,1186,1187,1188,1189,1190,1191,1192,1193,1194,1195,1196,1197,1198,1199,1200,1201,1202,1203,1204,1205,1206,1207,1208,1209,1210,1211,1212,1213,1214,1215,1216,1217,1218,1219,1220,1221,1222,1223,1224,1225,1226,1227,1228,1229,1230,1231,1232,1233,1234,1235,1236,1237,1238,1239,1240,1241,1242,1243,1244,1245,1246,1247,1248,1249,1250,1251,1252,1253,1254,1255,1256,1257,1258,1259,1260,1261,1262,1263,1264,1265,1266,1267,1268,1269,1270,1271,1272,1273,1274,1275,1276,1277,1278,1279,1280,1281,1282,1283,1284,1285,1286,1287,1288,1289,1290,1291,1292,1293,1294,1295,1296,1297,1298,1299,1300,1301,1302,1303,1304,1305,1306,1307,1308,1309,1310,1311,1312,1313,1314,1315,1316,1317,1318,1319,1320,1321,1322,1323,1324,1325,1326,1327,1328,1329,1330,1331,1332,1333,1334,1335,1336,1337,1338,1339,1340,1341,1342,1343,1344,1345,1346,1347,1348,1349,1350,1351,1352,1353,1354,1355,1356,1357,1358,1359,1360,1361,1362,1363,1364,1365,1366,1367,1368,1369,1370,1371,1372,1373,1374,1375,1376,1377,1378,1379,1380,1381,1382,1383,1384,1385,1386,1387,1388,1389,1390,1391,1392,1393,1394,1395,1396,1397,1398,1399,1400,1401,1402,1403,1404,1405,1406,1407,1408,1409,1410,1411,1412,1413,1414,1415,1416,1417,1418,1419,1420,1421,1422,1423,1424,1425,1426,1427,1428,1429,1430,1431,1432,1433,1434,1435,1436,1437,1438,1439,1440,1441,1442,1443,1444,1445,1446,1447,1448,1449,1450,1451,1452,1453,1454,1455,1456,1457,1458,1459,1460,1461,1462,1463,1464,1465,1466,1467,1468,1469,1470,1471,1472,1473,1474,1475,1476,1477,1478,1479,1480,1481,1482,1483,1484,1485,1486,1487,1488,1489,1490,1491,1492,1493,1494,1495,1496,1497,1498,1499,1500,1501,1502,1503,1504,1505,1506,1507,1508,1509,1510,1511,1512,1513,1514,1515,1516,1517,1518,1519,1520,1521,1522,1523,1524,1525,1526,1527,1528,1529,1530,1531,1532,1533,1534,1535,1536,1537,1538,1539,1540,1541,1542,1543,1544,1545,1546,1547,1548,1549,1550,1551,1552,1553,1554,1555,1556,1557,1558,1559,1560,1561,1562,1563,1564,1565,1566,1567,1568,1569,1570,1571,1572,1573,1574,1575,1576,1577,1578,1579,1580,1581,1582,1583,1584,1585,1586,1587,1588,1589,1590,1591,1592,1593,1594,1595,1596,1597,1598,1599,1600,1601,1602,1603,1604,1605,1606,1607,1608,1609,1610,1611,1612,1613,1614,1615,1616,1617,1618,1619,1620,1621,1622,1623,1624,1625,1626,1627,1628,1629,1630,1631,1632,1633,1634,1635,1636,1637,1638,1639,1640,1641,1642,1643,1644,1645,1646,1647,1648,1649,1650,1651,1652,1653,1654,1655,1656,1657,1658,1659,1660,1661,1662,1663,1664,1665,1666,1667,1668,1669,1670,1671,1672,1673,1674,1675,1676,1677,1678,1679,1680,1681,1682,1683,1684,1685,1686,1687,1688,1689,1690,1691,1692,1693,1694,1695,1696,1697,1698,1699,1700,1701,1702,1703,1704,1705,1706,1707,1708,1709,1710,1711,1712,1713,1714,1715,1716,1717,1718,1719,1720,1721,1722,1723,1724,1725,1726,1727,1728,1729,1730,1731,1732,1733,1734,1735,1736,1737,1738,1739,1740,1741,1742,1743,1744,1745,1746,1747,1748,1749,1750,1751,1752,1753,1754,1755,1756,1757,1758,1759,1760,1761,1762,1763,1764,1765,1766,1767,1768,1769,1770,1771,1772,1773,1774,1775,1776,1777,1778,1779,1780,1781,1782,1783,1784,1785,1786,1787,1788,1789,1790,1791,1792,1793,1794,1795,1796,1797,1798,1799,1800,1801,1802,1803,1804,1805,1806,1807,1808,1809,1810,1811,1812,1813,1814,1815,1816,1817,1818,1819,1820,1821,1822,1823,1824,1825,1826,1827,1828,1829,1830,1831,1832,1833,1834,1835,1836,1837,1838,1839,1840,1841,1842,1843,1844,1845,1846,1847,1848,1849,1850,1851,1852,1853,1854,1855,1856,1857,1858,1859,1860,1861,1862,1863,1864,1865,1866,1867,1868,1869,1870,1871,1872,1873,1874,1875,1876,1877,1878,1879,1880,1881,1882,1883,1884,1885,1886,1887,1888,1889,1890,1891,1892,1893,1894,1895,1896,1897,1898,1899,1900,1901,1902,1903,1904,1905,1906,1907,1908,1909,1910,1911,1912,1913,1914,1915,1916,1917,1918,1919,1920,1921,1922,1923,1924,1925,1926,1927,1928,1929,1930,1931,1932,1933,1934,1935,1936,1937,1938,1939,1940,1941,1942,1943,1944,1945,1946,1947,1948,1949,1950,1951,1952,1953,1954,1955,1956,1957,1958,1959,1960,1961,1962,1963,1964,1965,1966,1967,1968,1969,1970,1971,1972,1973,1974,1975,1976,1977,1978,1979,1980,1981,1982,1983,1984,1985,1986,1987,1988,1989,1990,1991,1992,1993,1994,1995,1996,1997,1998,1999,2000,2001,2002,2003,2004,2005,2006,2007,2008,2009,2010,2011,2012,2013,2014,2015,2016,2017,2018,2019,2020,2021,2022,2023,2024,2025,2026,2027,2028,2029,2030,2031,2032,2033,2034,2035,2036,2037,2038,2039,2040,2041,2042,2043,2044,2045,2046,2047,2048,2049,2050,2051,2052,2053,2054,2055,2056,2057,2058,2059,2060,2061,2062,2063,2064,2065,2066,2067,2068,2069,2070,2071,2072,2073,2074,2075,2076,2077,2078,2079,2080,2081,2082,2083,2084,2085,2086,2087,2088,2089,2090,2091,2092,2093,2094,2095,2096,2097,2098,2099,2100,2101,2102,2103,2104,2105,2106,2107,2108,2109,2110,2111,2112,2113,2114,2115,2116,2117,2118,2119,2120,2121,2122,2123,2124,2125,2126,2127,2128,2129,2130,2131,2132,2133,2134,2135,2136,2137,2138,2139,2140,2141,2142,2143,2144,2145,2146,2147,2148,2149,2150,2151,2152,2153,2154,2155,2156,2157,2158,2159,2160,2161,2162,2163,2164,2165,2166,2167,2168,2169,2170,2171,2172,2173,2174,2175,2176,2177,2178,2179,2180,2181,2182,2183,2184,2185,2186,2187,2188,2189,2190,2191,2192,2193,2194,2195,2196,2197,2198,2199,2200,2201,2202,2203,2204,2205,2206,2207,2208,2209,2210,2211,2212,2213,2214,2215,2216,2217,2218,2219,2220,2221,2222,2223,2224,2225,2226,2227,2228,2229,2230,2231,2232,2233,2234,2235,2236,2237,2238,2239,2240,2241,2242,2243,2244,2245,2246,2247,2248,2249,2250,2251,2252,2253,2254,2255,2256,2257,2258,2259,2260,2261,2262,2263,2264,2265,2266,2267,2268,2269,2270,2271,2272,2273,2274,2275,2276,2277,2278,2279,2280,2281,2282,2283,2284,2285,2286,2287,2288,2289,2290,2291,2292,2293,2294,2295,2296,2297,2298,2299,2300,2301,2302,2303,2304,2305,2306,2307,2308,2309,2310,2311,2312,2313,2314,2315,2316,2317,2318,2319,2320,2321,2322,2323,2324,2325,2326,2327,2328,2329,2330,2331,2332,2333,2334,2335,2336,2337,2338,2339,2340,2341,2342,2343,2344,2345,2346,2347,2348,2349,2350,2351,2352,2353,2354,2355,2356,2357,2358,2359,2360,2361,2362,2363,2364,2365,2366,2367,2368,2369,2370,2371,2372,2373,2374,2375,2376,2377,2378,2379,2380,2381,2382,2383,2384,2385,2386,2387,2388,2389,2390,2391,2392,2393,2394,2395,2396,2397,2398,2399,2400,2401,2402,2403,2404,2405,2406,2407,2408,2409,2410,2411,2412,2413,2414,2415,2416,2417,2418,2419,2420,2421,2422,2423,2424,2425,2426,2427,2428,2429,2430,2431,2432,2433,2434,2435,2436,2437,2438,2439,2440,2441,2442,2443,2444,2445,2446,2447,2448,2449,2450,2451,2452,2453,2454,2455,2456,2457,2458,2459,2460,2461,2462,2463,2464,2465,2466,2467,2468,2469,2470,2471,2472,2473,2474,2475,2476,2477,2478,2479,2480,2481,2482,2483,2484,2485,2486,2487,2488,2489,2490,2491,2492,2493,2494,2495,2496,2497,2498,2499,2500,2501,2502,2503,2504,2505,2506,2507,2508,2509,2510,2511,2512,2513,2514,2515,2516,2517,2518,2519,2520,2521,2522,2523,2524,2525,2526,2527,2528,2529,2530,2531,2532,2533,2534,2535,2536,2537,2538,2539,2540,2541,2542,2543,2544,2545,2546,2547,2548,2549,2550,2551,2552,2553,2554,2555,2556,2557,2558,2559,2560,2561,2562,2563,2564,2565,2566,2567,2568,2569,2570,2571,2572,2573,2574,2575,2576,2577,2578,2579,2580,2581,2582,2583,2584,2585,2586,2587,2588,2589,2590,2591,2592,2593,2594,2595,2596,2597,2598,2599,2600,2601,2602,2603,2604,2605,2606,2607,2608,2609,2610,2611,2612,2613,2614,2615,2616,2617,2618,2619,2620,2621,2622,2623,2624,2625,2626,2627,2628,2629,2630,2631,2632,2633,2634,2635,2636,2637,2638,2639,2640,2641,2642,2643,2644,2645,2646,2647,2648,2649,2650,2651,2652,2653,2654,2655,2656,2657,2658,2659,2660,2661,2662,2663,2664,2665,2666,2667,2668,2669,2670,2671,2672,2673,2674,2675,2676,2677,2678,2679,2680,2681,2682,2683,2684,2685,2686,2687,2688,2689,2690,2691,2692,2693,2694,2695,2696,2697,2698,2699,2700,2701,2702,2703,2704,2705,2706,2707,2708,2709,2710,2711,2712,2713,2714,2715,2716,2717,2718,2719,2720,2721,2722,2723,2724,2725,2726,2727,2728,2729,2730,2731,2732,2733,2734,2735,2736,2737,2738,2739,2740,2741,2742,2743,2744,2745,2746,2747,2748,2749,2750,2751,2752,2753,2754,2755,2756,2757,2758,2759,2760,2761,2762,2763,2764,2765,2766,2767,2768,2769,2770,2771,2772,2773,2774,2775,2776,2777,2778,2779,2780,2781,2782,2783,2784,2785,2786,2787,2788,2789,2790,2791,2792,2793,2794,2795,2796,2797,2798,2799,2800,2801,2802,2803,2804,2805,2806,2807,2808,2809,2810,2811,2812,2813,2814,2815,2816,2817,2818,2819,2820,2821,2822,2823,2824,2825,2826,2827,2828,2829,2830,2831,2832,2833,2834,2835,2836,2837,2838,2839,2840,2841,2842,2843,2844,2845,2846,2847,2848,2849,2850,2851,2852,2853,2854,2855,2856,2857,2858,2859,2860,2861,2862,2863,2864,2865,2866,2867,2868,2869,2870,2871,2872,2873,2874,2875,2876,2877,2878,2879,2880,2881,2882,2883,2884,2885,2886,2887,2888,2889,2890,2891,2892,2893,2894,2895,2896,2897,2898,2899,2900,2901,2902,2903,2904,2905,2906,2907,2908,2909,2910,2911,2912,2913,2914,2915,2916,2917,2918,2919,2920,2921,2922,2923,2924,2925,2926,2927,2928,2929,2930,2931,2932,2933,2934,2935,2936,2937,2938,2939,2940,2941,2942,2943,2944,2945,2946,2947,2948,2949,2950,2951,2952,2953,2954,2955,2956,2957,2958,2959,2960,2961,2962,2963,2964,2965,2966,2967,2968,2969,2970,2971,2972,2973,2974,2975,2976,2977,2978,2979,2980,2981,2982,2983,2984,2985,2986,2987,2988,2989,2990,2991,2992,2993,2994,2995,2996,2997,2998,2999,3000,3001,3002,3003,3004,3005,3006,3007,3008,3009,3010,3011,3012,3013,3014,3015,3016,3017,3018,3019,3020,3021,3022,3023,3024,3025,3026,3027,3028,3029,3030,3031,3032,3033,3034,3035,3036,3037,3038,3039,3040,3041,3042,3043,3044,3045,3046,3047,3048,3049,3050,3051,3052,3053,3054,3055,3056,3057,3058,3059,3060,3061,3062,3063,3064,3065,3066,3067,3068,3069,3070,3071,3072,3073,3074,3075,3076,3077,3078,3079,3080,3081,3082,3083,3084,3085,3086,3087,3088,3089,3090,3091,3092,3093,3094,3095,3096,3097,3098,3099,3100,3101,3102,3103,3104,3105,3106,3107,3108,3109,3110,3111,3112,3113,3114,3115,3116,3117,3118,3119,3120,3121,3122,3123,3124,3125,3126,3127,3128,3129,3130,3131,3132,3133,3134,3135,3136,3137,3138,3139,3140,3141,3142,3143,3144,3145,3146,3147,3148,3149,3150,3151,3152,3153,3154,3155,3156,3157,3158,3159,3160,3161,3162,3163,3164,3165,3166,3167,3168,3169,3170,3171,3172,3173,3174,3175,3176,3177,3178,3179,3180,3181,3182,3183,3184,3185,3186,3187,3188,3189,3190,3191,3192,3193,3194,3195,3196,3197,3198,3199,3200,3201,3202,3203,3204,3205,3206,3207,3208,3209,3210,3211,3212,3213,3214,3215,3216,3217,3218,3219,3220,3221,3222,3223,3224,3225,3226,3227,3228,3229,3230,3231,3232,3233,3234,3235,3236,3237,3238,3239,3240,3241,3242,3243,3244,3245,3246,3247,3248,3249,3250,3251,3252,3253,3254,3255,3256,3257,3258,3259,3260,3261,3262,3263,3264,3265,3266,3267,3268,3269,3270,3271,3272,3273,3274,3275,3276,3277,3278,3279,3280,3281,3282,3283,3284,3285,3286,3287,3288,3289,3290,3291,3292,3293,3294,3295,3296,3297,3298,3299,3300,3301,3302,3303,3304,3305,3306,3307,3308,3309,3310,3311,3312,3313,3314,3315,3316,3317,3318,3319,3320,3321,3322,3323,3324,3325,3326,3327,3328,3329,3330,3331,3332,3333,3334,3335,3336,3337,3338,3339,3340,3341,3342,3343,3344,3345,3346,3347,3348,3349,3350,3351,3352,3353,3354,3355,3356,3357,3358,3359,3360,3361,3362,3363,3364,3365,3366,3367,3368,3369,3370,3371,3372,3373,3374,3375,3376,3377,3378,3379,3380,3381,3382,3383,3384,3385,3386,3387,3388,3389,3390,3391,3392,3393,3394,3395,3396,3397,3398,3399,3400,3401,3402,3403,3404,3405,3406,3407,3408,3409,3410,3411,3412,3413,3414,3415,3416,3417,3418,3419,3420,3421,3422,3423,3424,3425,3426,3427,3428,3429,3430,3431,3432,3433,3434,3435,3436,3437,3438,3439,3440,3441,3442,3443,3444,3445,3446,3447,3448,3449,3450,3451,3452,3453,3454,3455,3456,3457,3458,3459,3460,3461,3462,3463,3464,3465,3466,3467,3468,3469,3470,3471,3472,3473,3474,3475,3476,3477,3478,3479,3480,3481,3482,3483,3484,3485,3486,3487,3488,3489,3490,3491,3492,3493,3494,3495,3496,3497,3498,3499,3500,3501,3502,3503,3504,3505,3506,3507,3508,3509,3510,3511,3512,3513,3514,3515,3516,3517,3518,3519,3520,3521,3522,3523,3524,3525,3526,3527,3528,3529,3530,3531,3532,3533,3534,3535,3536,3537,3538,3539,3540,3541,3542,3543,3544,3545,3546,3547,3548,3549,3550,3551,3552,3553,3554,3555,3556,3557,3558,3559,3560,3561,3562,3563,3564,3565,3566,3567,3568,3569,3570,3571,3572,3573,3574,3575,3576,3577,3578,3579,3580,3581,3582,3583,3584,3585,3586,3587,3588,3589,3590,3591,3592,3593,3594,3595,3596,3597,3598,3599,3600,3601,3602,3603,3604,3605,3606,3607,3608,3609,3610,3611,3612,3613,3614,3615,3616,3617,3618,3619,3620,3621,3622,3623,3624,3625,3626,3627,3628,3629,3630,3631,3632,3633,3634,3635,3636,3637,3638,3639,3640,3641,3642,3643,3644,3645,3646,3647,3648,3649,3650,3651,3652,3653,3654,3655,3656,3657,3658,3659,3660,3661,3662,3663,3664,3665,3666,3667,3668,3669,3670,3671,3672,3673,3674,3675,3676,3677,3678,3679,3680,3681,3682,3683,3684,3685,3686,3687,3688,3689,3690,3691,3692,3693,3694,3695,3696,3697,3698,3699,3700,3701,3702,3703,3704,3705,3706,3707,3708,3709,3710,3711,3712,3713,3714,3715,3716,3717,3718,3719,3720,3721,3722,3723,3724,3725,3726,3727,3728,3729,3730,3731,3732,3733,3734,3735,3736,3737,3738,3739,3740,3741,3742,3743,3744,3745,3746,3747,3748,3749,3750,3751,3752,3753,3754,3755,3756,3757,3758,3759,3760,3761,3762,3763,3764,3765,3766,3767,3768,3769,3770,3771,3772,3773,3774,3775,3776,3777,3778,3779,3780,3781,3782,3783,3784,3785,3786,3787,3788,3789,3790,3791,3792,3793,3794,3795,3796,3797,3798,3799,3800,3801,3802,3803,3804,3805,3806,3807,3808,3809,3810,3811,3812,3813,3814,3815,3816,3817,3818,3819,3820,3821,3822,3823,3824,3825,3826,3827,3828,3829,3830,3831,3832,3833,3834,3835,3836,3837,3838,3839,3840,3841,3842,3843,3844,3845,3846,3847,3848,3849,3850,3851,3852,3853,3854,3855,3856,3857,3858,3859,3860,3861,3862,3863,3864,3865,3866,3867,3868,3869,3870,3871,3872,3873,3874,3875,3876,3877,3878,3879,3880,3881,3882,3883,3884,3885,3886,3887,3888,3889,3890,3891,3892,3893,3894,3895,3896,3897,3898,3899,3900,3901,3902,3903,3904,3905,3906,3907,3908,3909,3910,3911,3912,3913,3914,3915,3916,3917,3918,3919,3920,3921,3922,3923,3924,3925,3926,3927,3928,3929,3930,3931,3932,3933,3934,3935,3936,3937,3938,3939,3940,3941,3942,3943,3944,3945,3946,3947,3948,3949,3950,3951,3952,3953,3954,3955,3956,3957,3958,3959,3960,3961,3962,3963,3964,3965,3966,3967,3968,3969,3970,3971,3972,3973,3974,3975,3976,3977,3978,3979,3980,3981,3982,3983,3984,3985,3986,3987,3988,3989,3990,3991,3992,3993,3994,3995,3996,3997,3998,3999,4000,4001,4002,4003,4004,4005,4006,4007,4008,4009,4010,4011,4012,4013,4014,4015,4016,4017,4018,4019,4020,4021,4022,4023,4024,4025,4026,4027,4028,4029,4030,4031,4032,4033,4034,4035,4036,4037,4038,4039,4040,4041,4042,4043,4044,4045,4046,4047,4048,4049,4050,4051,4052,4053,4054,4055,4056,4057,4058,4059,4060,4061,4062,4063,4064,4065,4066,4067,4068,4069,4070,4071,4072,4073,4074,4075,4076,4077,4078,4079,4080,4081,4082,4083,4084,4085,4086,4087,4088,4089,4090,4091,4092,4093,4094,4095,4096,4097,4098,4099,4100,4101,4102,4103,4104,4105,4106,4107,4108,4109,4110,4111,4112,4113,4114,4115,4116,4117,4118,4119,4120,4121,4122,4123,4124,4125,4126,4127,4128,4129,4130,4131,4132,4133,4134,4135,4136,4137,4138,4139,4140,4141,4142,4143,4144,4145,4146,4147,4148,4149,4150,4151,4152,4153,4154,4155,4156,4157,4158,4159,4160,4161,4162,4163,4164,4165,4166,4167,4168,4169,4170,4171,4172,4173,4174,4175,4176,4177,4178,4179,4180,4181,4182,4183,4184,4185,4186,4187,4188,4189,4190,4191,4192,4193,4194,4195,4196,4197,4198,4199,4200,4201,4202,4203,4204,4205,4206,4207,4208,4209,4210,4211,4212,4213,4214,4215,4216,4217,4218,4219,4220,4221,4222,4223,4224,4225,4226,4227,4228,4229,4230,4231,4232,4233,4234,4235,4236,4237,4238,4239,4240,4241,4242,4243,4244,4245,4246,4247,4248,4249,4250,4251,4252,4253,4254,4255,4256,4257,4258,4259,4260,4261,4262,4263,4264,4265,4266,4267,4268,4269,4270,4271,4272,4273,4274,4275,4276,4277,4278,4279,4280,4281,4282,4283,4284,4285,4286,4287,4288,4289,4290,4291,4292,4293,4294,4295,4296,4297,4298,4299,4300,4301,4302,4303,4304,4305,4306,4307,4308,4309,4310,4311,4312,4313,4314,4315,4316,4317,4318,4319,4320,4321,4322,4323,4324,4325,4326,4327,4328,4329,4330,4331,4332,4333,4334,4335,4336,4337,4338,4339,4340,4341,4342,4343,4344,4345,4346,4347,4348,4349,4350,4351,4352,4353,4354,4355,4356,4357,4358,4359,4360,4361,4362,4363,4364,4365,4366,4367,4368,4369,4370,4371,4372,4373,4374,4375,4376,4377,4378,4379,4380,4381,4382,4383,4384,4385,4386,4387,4388,4389,4390,4391,4392,4393,4394,4395,4396,4397,4398,4399,4400,4401,4402,4403,4404,4405,4406,4407,4408,4409,4410,4411,4412,4413,4414,4415,4416,4417,4418,4419,4420,4421,4422,4423,4424,4425,4426,4427,4428,4429,4430,4431,4432,4433,4434,4435,4436,4437,4438,4439,4440,4441,4442,4443,4444,4445,4446,4447,4448,4449,4450,4451,4452,4453,4454,4455,4456,4457,4458,4459,4460,4461,4462,4463,4464,4465,4466,4467,4468,4469,4470,4471,4472,4473,4474,4475,4476,4477,4478,4479,4480,4481,4482,4483,4484,4485,4486,4487,4488,4489,4490,4491,4492,4493,4494,4495,4496,4497,4498,4499,4500,4501,4502,4503,4504,4505,4506,4507,4508,4509,4510,4511,4512,4513,4514,4515,4516,4517,4518,4519,4520,4521,4522,4523,4524,4525,4526,4527,4528,4529,4530,4531,4532,4533,4534,4535,4536,4537,4538,4539,4540,4541,4542,4543,4544,4545,4546,4547,4548,4549,4550,4551,4552,4553,4554,4555,4556,4557,4558,4559,4560,4561,4562,4563,4564,4565,4566,4567,4568,4569,4570,4571,4572,4573,4574,4575,4576,4577,4578,4579,4580,4581,4582,4583,4584,4585,4586,4587,4588,4589,4590,4591,4592,4593,4594,4595,4596,4597,4598,4599,4600,4601,4602,4603,4604,4605,4606,4607,4608,4609,4610,4611,4612,4613,4614,4615,4616,4617,4618,4619,4620,4621,4622,4623,4624,4625,4626,4627,4628,4629,4630,4631,4632,4633,4634,4635,4636,4637,4638,4639,4640,4641,4642,4643,4644,4645,4646,4647,4648,4649,4650,4651,4652,4653,4654,4655,4656,4657,4658,4659,4660,4661,4662,4663,4664,4665,4666,4667,4668,4669,4670,4671,4672,4673,4674,4675,4676,4677,4678,4679,4680,4681,4682,4683,4684,4685,4686,4687,4688,4689,4690,4691,4692,4693,4694,4695,4696,4697,4698,4699,4700,4701,4702,4703,4704,4705,4706,4707,4708,4709,4710,4711,4712,4713,4714,4715,4716,4717,4718,4719,4720,4721,4722,4723,4724,4725,4726,4727,4728,4729,4730,4731,4732,4733,4734,4735,4736,4737,4738,4739,4740,4741,4742,4743,4744,4745,4746,4747,4748,4749,4750,4751,4752,4753,4754,4755,4756,4757,4758,4759,4760,4761,4762,4763,4764,4765,4766,4767,4768,4769,4770,4771,4772,4773,4774,4775,4776,4777,4778,4779,4780,4781,4782,4783,4784,4785,4786,4787,4788,4789,4790,4791,4792,4793,4794,4795,4796,4797,4798,4799,4800,4801,4802,4803,4804,4805,4806,4807,4808,4809,4810,4811,4812,4813,4814,4815,4816,4817,4818,4819,4820,4821,4822,4823,4824,4825,4826,4827,4828,4829,4830,4831,4832,4833,4834,4835,4836,4837,4838,4839,4840,4841,4842,4843,4844,4845,4846,4847,4848,4849,4850,4851,4852,4853,4854,4855,4856,4857,4858,4859,4860,4861,4862,4863,4864,4865,4866,4867,4868,4869,4870,4871,4872,4873,4874,4875,4876,4877,4878,4879,4880,4881,4882,4883,4884,4885,4886,4887,4888,4889,4890,4891,4892,4893,4894,4895,4896,4897,4898,4899,4900,4901,4902,4903,4904,4905,4906,4907,4908,4909,4910,4911,4912,4913,4914,4915,4916,4917,4918,4919,4920,4921,4922,4923,4924,4925,4926,4927,4928,4929,4930,4931,4932,4933,4934,4935,4936,4937,4938,4939,4940,4941,4942,4943,4944,4945,4946,4947,4948,4949,4950,4951,4952,4953,4954,4955,4956,4957,4958,4959,4960,4961,4962,4963,4964,4965,4966,4967,4968,4969,4970,4971,4972,4973,4974,4975,4976,4977,4978,4979,4980,4981,4982,4983,4984,4985,4986,4987,4988,4989,4990,4991,4992,4993,4994,4995,4996,4997,4998,4999,5000,5001,5002,5003,5004,5005,5006,5007,5008,5009,5010,5011,5012,5013,5014,5015,5016,5017,5018,5019,5020,5021,5022,5023,5024,5025,5026,5027,5028,5029,5030,5031,5032,5033,5034,5035,5036,5037,5038,5039,5040,5041,5042,5043,5044,5045,5046,5047,5048,5049,5050,5051,5052,5053,5054,5055,5056,5057,5058,5059,5060,5061,5062,5063,5064,5065,5066,5067,5068,5069,5070,5071,5072,5073,5074,5075,5076,5077,5078,5079,5080,5081,5082,5083,5084,5085,5086,5087,5088,5089,5090,5091,5092,5093,5094,5095,5096,5097,5098,5099,5100,5101,5102,5103,5104,5105,5106,5107,5108,5109,5110,5111,5112,5113,5114,5115,5116,5117,5118,5119,5120,5121,5122,5123,5124,5125,5126,5127,5128,5129,5130,5131,5132,5133,5134,5135,5136,5137,5138,5139,5140,5141,5142,5143,5144,5145,5146,5147,5148,5149,5150,5151,5152,5153,5154,5155,5156,5157,5158,5159,5160,5161,5162,5163,5164,5165,5166,5167,5168,5169,5170,5171,5172,5173,5174,5175,5176,5177,5178,5179,5180,5181,5182,5183,5184,5185,5186,5187,5188,5189,5190,5191,5192,5193,5194,5195,5196,5197,5198,5199,5200,5201,5202,5203,5204,5205,5206,5207,5208,5209,5210,5211,5212,5213,5214,5215,5216,5217,5218,5219,5220,5221,5222,5223,5224,5225,5226,5227,5228,5229,5230,5231,5232,5233,5234,5235,5236,5237,5238,5239,5240,5241,5242,5243,5244,5245,5246,5247,5248,5249,5250,5251,5252,5253,5254,5255,5256,5257,5258,5259,5260,5261,5262,5263,5264,5265,5266,5267,5268,5269,5270,5271,5272,5273,5274,5275,5276,5277,5278,5279,5280,5281,5282,5283,5284,5285,5286,5287,5288,5289,5290,5291,5292,5293,5294,5295,5296,5297,5298,5299,5300,5301,5302,5303,5304,5305,5306,5307,5308,5309,5310,5311,5312,5313,5314,5315,5316,5317,5318,5319,5320,5321,5322,5323,5324,5325,5326,5327,5328,5329,5330,5331,5332,5333,5334,5335,5336,5337,5338,5339,5340,5341,5342,5343,5344,5345,5346,5347,5348,5349,5350,5351,5352,5353,5354,5355,5356,5357,5358,5359,5360,5361,5362,5363,5364,5365,5366,5367,5368,5369,5370,5371,5372,5373,5374,5375,5376,5377,5378,5379,5380,5381,5382,5383,5384,5385,5386,5387,5388,5389,5390,5391,5392,5393,5394,5395,5396,5397,5398,5399,5400,5401,5402,5403,5404,5405,5406,5407,5408,5409,5410,5411,5412,5413,5414,5415,5416,5417,5418,5419,5420,5421,5422,5423,5424,5425,5426,5427,5428,5429,5430,5431,5432,5433,5434,5435,5436,5437,5438,5439,5440,5441,5442,5443,5444,5445,5446,5447,5448,5449,5450,5451,5452,5453,5454,5455,5456,5457,5458,5459,5460,5461,5462,5463,5464,5465,5466,5467,5468,5469,5470,5471,5472,5473,5474,5475,5476,5477,5478,5479,5480,5481,5482,5483,5484,5485,5486,5487,5488,5489,5490,5491,5492,5493,5494,5495,5496,5497,5498,5499,5500,5501,5502,5503,5504,5505,5506,5507,5508,5509,5510,5511,5512,5513,5514,5515,5516,5517,5518,5519,5520,5521,5522,5523,5524,5525,5526,5527,5528,5529,5530,5531,5532,5533,5534,5535,5536,5537,5538,5539,5540,5541,5542,5543,5544,5545,5546,5547,5548,5549,5550,5551,5552,5553,5554,5555,5556,5557,5558,5559,5560,5561,5562,5563,5564,5565,5566,5567,5568,5569,5570,5571,5572,5573,5574,5575,5576,5577,5578,5579,5580,5581,5582,5583,5584,5585,5586,5587,5588,5589,5590,5591,5592,5593,5594,5595,5596,5597,5598,5599,5600,5601,5602,5603,5604,5605,5606,5607,5608,5609,5610,5611,5612,5613,5614,5615,5616,5617,5618,5619,5620,5621,5622,5623,5624,5625,5626,5627,5628,5629,5630,5631,5632,5633,5634,5635,5636,5637,5638,5639,5640,5641,5642,5643,5644,5645,5646,5647,5648,5649,5650,5651,5652,5653,5654,5655,5656,5657,5658,5659,5660,5661,5662,5663,5664,5665,5666,5667,5668,5669,5670,5671,5672,5673,5674,5675,5676,5677,5678,5679,5680,5681,5682,5683,5684,5685,5686,5687,5688,5689,5690,5691,5692,5693,5694,5695,5696,5697,5698,5699,5700,5701,5702,5703,5704,5705,5706,5707,5708,5709,5710,5711,5712,5713,5714,5715,5716,5717,5718,5719,5720,5721,5722,5723,5724,5725,5726,5727,5728,5729,5730,5731,5732,5733,5734,5735,5736,5737,5738,5739,5740,5741,5742,5743,5744,5745,5746,5747,5748,5749,5750,5751,5752,5753,5754,5755,5756,5757,5758,5759,5760,5761,5762,5763,5764,5765,5766,5767,5768,5769,5770,5771,5772,5773,5774,5775,5776,5777,5778,5779,5780,5781,5782,5783,5784,5785,5786,5787,5788,5789,5790,5791,5792,5793,5794,5795,5796,5797,5798,5799,5800,5801,5802,5803,5804,5805,5806,5807,5808,5809,5810,5811,5812,5813,5814,5815,5816,5817,5818,5819,5820,5821,5822,5823,5824,5825,5826,5827,5828,5829,5830,5831,5832,5833,5834,5835,5836,5837,5838,5839,5840,5841,5842,5843,5844,5845,5846,5847,5848,5849,5850,5851,5852,5853,5854,5855,5856,5857,5858,5859,5860,5861,5862,5863,5864,5865,5866,5867,5868,5869,5870,5871,5872,5873,5874,5875,5876,5877,5878,5879,5880,5881,5882,5883,5884,5885,5886,5887,5888,5889,5890,5891,5892,5893,5894,5895,5896,5897,5898,5899,5900,5901,5902,5903,5904,5905,5906,5907,5908,5909,5910,5911,5912,5913,5914,5915,5916,5917,5918,5919,5920,5921,5922,5923,5924,5925,5926,5927,5928,5929,5930,5931,5932,5933,5934,5935,5936,5937,5938,5939,5940,5941,5942,5943,5944,5945,5946,5947,5948,5949,5950,5951,5952,5953,5954,5955,5956,5957,5958,5959,5960,5961,5962,5963,5964,5965,5966,5967,5968,5969,5970,5971,5972,5973,5974,5975,5976,5977,5978,5979,5980,5981,5982,5983,5984,5985,5986,5987,5988,5989,5990,5991,5992,5993,5994,5995,5996,5997,5998,5999,6000,6001,6002,6003,6004,6005,6006,6007,6008,6009,6010,6011,6012,6013,6014,6015,6016,6017,6018,6019,6020,6021,6022,6023,6024,6025,6026,6027,6028,6029,6030,6031,6032,6033,6034,6035,6036,6037,6038,6039,6040,6041,6042,6043,6044,6045,6046,6047,6048,6049,6050,6051,6052,6053,6054,6055,6056,6057,6058,6059,6060,6061,6062,6063,6064,6065,6066,6067,6068,6069,6070,6071,6072,6073,6074,6075,6076,6077,6078,6079,6080,6081,6082,6083,6084,6085,6086,6087,6088,6089,6090,6091,6092,6093,6094,6095,6096,6097,6098,6099,6100,6101,6102,6103,6104,6105,6106,6107,6108,6109,6110,6111,6112,6113,6114,6115,6116,6117,6118,6119,6120,6121,6122,6123,6124,6125,6126,6127,6128,6129,6130,6131,6132,6133,6134,6135,6136,6137,6138,6139,6140,6141,6142,6143,6144,6145,6146,6147,6148,6149,6150,6151,6152,6153,6154,6155,6156,6157,6158,6159,6160,6161,6162,6163,6164,6165,6166,6167,6168,6169,6170,6171,6172,6173,6174,6175,6176,6177,6178,6179,6180,6181,6182,6183,6184,6185,6186,6187,6188,6189,6190,6191,6192,6193,6194,6195,6196,6197,6198,6199,6200,6201,6202,6203,6204,6205,6206,6207,6208,6209,6210,6211,6212,6213,6214,6215,6216,6217,6218,6219,6220,6221,6222,6223,6224,6225,6226,6227,6228,6229,6230,6231,6232,6233,6234,6235,6236,6237,6238,6239,6240,6241,6242,6243,6244,6245,6246,6247,6248,6249,6250,6251,6252,6253,6254,6255,6256,6257,6258,6259,6260,6261,6262,6263,6264,6265,6266,6267,6268,6269,6270,6271,6272,6273,6274,6275,6276,6277,6278,6279,6280,6281,6282,6283,6284,6285,6286,6287,6288,6289,6290,6291,6292,6293,6294,6295,6296,6297,6298,6299,6300,6301,6302,6303,6304,6305,6306,6307,6308,6309,6310,6311,6312,6313,6314,6315,6316,6317,6318,6319,6320,6321,6322,6323,6324,6325,6326,6327,6328,6329,6330,6331,6332,6333,6334,6335,6336,6337,6338,6339,6340,6341,6342,6343,6344,6345,6346,6347,6348,6349,6350,6351,6352,6353,6354,6355,6356,6357,6358,6359,6360,6361,6362,6363,6364,6365,6366,6367,6368,6369,6370,6371,6372,6373,6374,6375,6376,6377,6378,6379,6380,6381,6382,6383,6384,6385,6386,6387,6388,6389,6390,6391,6392,6393,6394,6395,6396,6397,6398,6399,6400,6401,6402,6403,6404,6405,6406,6407,6408,6409,6410,6411,6412,6413,6414,6415,6416,6417,6418,6419,6420,6421,6422,6423,6424,6425,6426,6427,6428,6429,6430,6431,6432,6433,6434,6435,6436,6437,6438,6439,6440,6441,6442,6443,6444,6445,6446,6447,6448,6449,6450,6451,6452,6453,6454,6455,6456,6457,6458,6459,6460,6461,6462,6463,6464,6465,6466,6467,6468,6469,6470,6471,6472,6473,6474,6475,6476,6477,6478,6479,6480,6481,6482,6483,6484,6485,6486,6487,6488,6489,6490,6491,6492,6493,6494,6495,6496,6497,6498,6499,6500,6501,6502,6503,6504,6505,6506,6507,6508,6509,6510,6511,6512,6513,6514,6515,6516,6517,6518,6519,6520,6521,6522,6523,6524,6525,6526,6527,6528,6529,6530,6531,6532,6533,6534,6535,6536,6537,6538,6539,6540,6541,6542,6543,6544,6545,6546,6547,6548,6549,6550,6551,6552,6553,6554,6555,6556,6557,6558,6559,6560,6561,6562,6563,6564,6565,6566,6567,6568,6569,6570,6571,6572,6573,6574,6575,6576,6577,6578,6579,6580,6581,6582,6583,6584,6585,6586,6587,6588,6589,6590,6591,6592,6593,6594,6595,6596,6597,6598,6599,6600,6601,6602,6603,6604,6605,6606,6607,6608,6609,6610,6611,6612,6613,6614,6615,6616,6617,6618,6619,6620,6621,6622,6623,6624,6625,6626,6627,6628,6629,6630,6631,6632,6633,6634,6635,6636,6637,6638,6639,6640,6641,6642,6643,6644,6645,6646,6647,6648,6649,6650,6651,6652,6653,6654,6655,6656,6657,6658,6659,6660,6661,6662,6663,6664,6665,6666,6667,6668,6669,6670,6671,6672,6673,6674,6675,6676,6677,6678,6679,6680,6681,6682,6683,6684,6685,6686,6687,6688,6689,6690,6691,6692,6693,6694,6695,6696,6697,6698,6699,6700,6701,6702,6703,6704,6705,6706,6707,6708,6709,6710,6711,6712,6713,6714,6715,6716,6717,6718,6719,6720,6721,6722,6723,6724,6725,6726,6727,6728,6729,6730,6731,6732,6733,6734,6735,6736,6737,6738,6739,6740,6741,6742,6743,6744,6745,6746,6747,6748,6749,6750,6751,6752,6753,6754,6755,6756,6757,6758,6759,6760,6761,6762,6763,6764,6765,6766,6767,6768,6769,6770,6771,6772,6773,6774,6775,6776,6777,6778,6779,6780,6781,6782,6783,6784,6785,6786,6787,6788,6789,6790,6791,6792,6793,6794,6795,6796,6797,6798,6799,6800,6801,6802,6803,6804,6805,6806,6807,6808,6809,6810,6811,6812,6813,6814,6815,6816,6817,6818,6819,6820,6821,6822,6823,6824,6825,6826,6827,6828,6829,6830,6831,6832,6833,6834,6835,6836,6837,6838,6839,6840,6841,6842,6843,6844,6845,6846,6847,6848,6849,6850,6851,6852,6853,6854,6855,6856,6857,6858,6859,6860,6861,6862,6863,6864,6865,6866,6867,6868,6869,6870,6871,6872,6873,6874,6875,6876,6877,6878,6879,6880,6881,6882,6883,6884,6885,6886,6887,6888,6889,6890,6891,6892,6893,6894,6895,6896,6897,6898,6899,6900,6901,6902,6903,6904,6905,6906,6907,6908,6909,6910,6911,6912,6913,6914,6915,6916,6917,6918,6919,6920,6921,6922,6923,6924,6925,6926,6927,6928,6929,6930,6931,6932,6933,6934,6935,6936,6937,6938,6939,6940,6941,6942,6943,6944,6945,6946,6947,6948,6949,6950,6951,6952,6953,6954,6955,6956,6957,6958,6959,6960,6961,6962,6963,6964,6965,6966,6967,6968,6969,6970,6971,6972,6973,6974,6975,6976,6977,6978,6979,6980,6981,6982,6983,6984,6985,6986,6987,6988,6989,6990,6991,6992,6993,6994,6995,6996,6997,6998,6999,7000,7001,7002,7003,7004,7005,7006,7007,7008,7009,7010,7011,7012,7013,7014,7015,7016,7017,7018,7019,7020,7021,7022,7023,7024,7025,7026,7027,7028,7029,7030,7031,7032,7033,7034,7035,7036,7037,7038,7039,7040,7041,7042,7043,7044,7045,7046,7047,7048,7049,7050,7051,7052,7053,7054,7055,7056,7057,7058,7059,7060,7061,7062,7063,7064,7065,7066,7067,7068,7069,7070,7071,7072,7073,7074,7075,7076,7077,7078,7079,7080,7081,7082,7083,7084,7085,7086,7087,7088,7089,7090,7091,7092,7093,7094,7095,7096,7097,7098,7099,7100,7101,7102,7103,7104,7105,7106,7107,7108,7109,7110,7111,7112,7113,7114,7115,7116,7117,7118,7119,7120,7121,7122,7123,7124,7125,7126,7127,7128,7129,7130,7131,7132,7133,7134,7135,7136,7137,7138,7139,7140,7141,7142,7143,7144,7145,7146,7147,7148,7149,7150,7151,7152,7153,7154,7155,7156,7157,7158,7159,7160,7161,7162,7163,7164,7165,7166,7167,7168,7169,7170,7171,7172,7173,7174,7175,7176,7177,7178,7179,7180,7181,7182,7183,7184,7185,7186,7187,7188,7189,7190,7191,7192,7193,7194,7195,7196,7197,7198,7199,7200,7201,7202,7203,7204,7205,7206,7207,7208,7209,7210,7211,7212,7213,7214,7215,7216,7217,7218,7219,7220,7221,7222,7223,7224,7225,7226,7227,7228,7229,7230,7231,7232,7233,7234,7235,7236,7237,7238,7239,7240,7241,7242,7243,7244,7245,7246,7247,7248,7249,7250,7251,7252,7253,7254,7255,7256,7257,7258,7259,7260,7261,7262,7263,7264,7265,7266,7267,7268,7269,7270,7271,7272,7273,7274,7275,7276,7277,7278,7279,7280,7281,7282,7283,7284,7285,7286,7287,7288,7289,7290,7291,7292,7293,7294,7295,7296,7297,7298,7299,7300,7301,7302,7303,7304,7305,7306,7307,7308,7309,7310,7311,7312,7313,7314,7315,7316,7317,7318,7319,7320,7321,7322,7323,7324,7325,7326,7327,7328,7329,7330,7331,7332,7333,7334,7335,7336,7337,7338,7339,7340,7341,7342,7343,7344,7345,7346,7347,7348,7349,7350,7351,7352,7353,7354,7355,7356,7357,7358,7359,7360,7361,7362,7363,7364,7365,7366,7367,7368,7369,7370,7371,7372,7373,7374,7375,7376,7377,7378,7379,7380,7381,7382,7383,7384,7385,7386,7387,7388,7389,7390,7391,7392,7393,7394,7395,7396,7397,7398,7399,7400,7401,7402,7403,7404,7405,7406,7407,7408,7409,7410,7411,7412,7413,7414,7415,7416,7417,7418,7419,7420,7421,7422,7423,7424,7425,7426,7427,7428,7429,7430,7431,7432,7433,7434,7435,7436,7437,7438,7439,7440,7441,7442,7443,7444,7445,7446,7447,7448,7449,7450,7451,7452,7453,7454,7455,7456,7457,7458,7459,7460,7461,7462,7463,7464,7465,7466,7467,7468,7469,7470,7471,7472,7473,7474,7475,7476,7477,7478,7479,7480,7481,7482,7483,7484,7485,7486,7487,7488,7489,7490,7491,7492,7493,7494,7495,7496,7497,7498,7499,7500,7501,7502,7503,7504,7505,7506,7507,7508,7509,7510,7511,7512,7513,7514,7515,7516,7517,7518,7519,7520,7521,7522,7523,7524,7525,7526,7527,7528,7529,7530,7531,7532,7533,7534,7535,7536,7537,7538,7539,7540,7541,7542,7543,7544,7545,7546,7547,7548,7549,7550,7551,7552,7553,7554,7555,7556,7557,7558,7559,7560,7561,7562,7563,7564,7565,7566,7567,7568,7569,7570,7571,7572,7573,7574,7575,7576,7577,7578,7579,7580,7581,7582,7583,7584,7585,7586,7587,7588,7589,7590,7591,7592,7593,7594,7595,7596,7597,7598,7599,7600,7601,7602,7603,7604,7605,7606,7607,7608,7609,7610,7611,7612,7613,7614,7615,7616,7617,7618,7619,7620,7621,7622,7623,7624,7625,7626,7627,7628,7629,7630,7631,7632,7633,7634,7635,7636,7637,7638,7639,7640,7641,7642,7643,7644,7645,7646,7647,7648,7649,7650,7651,7652,7653,7654,7655,7656,7657,7658,7659,7660,7661,7662,7663,7664,7665,7666,7667,7668,7669,7670,7671,7672,7673,7674,7675,7676,7677,7678,7679,7680,7681,7682,7683,7684,7685,7686,7687,7688,7689,7690,7691,7692,7693,7694,7695,7696,7697,7698,7699,7700,7701,7702,7703,7704,7705,7706,7707,7708,7709,7710,7711,7712,7713,7714,7715,7716,7717,7718,7719,7720,7721,7722,7723,7724,7725,7726,7727,7728,7729,7730,7731,7732,7733,7734,7735,7736,7737,7738,7739,7740,7741,7742,7743,7744,7745,7746,7747,7748,7749,7750,7751,7752,7753,7754,7755,7756,7757,7758,7759,7760,7761,7762,7763,7764,7765,7766,7767,7768,7769,7770,7771,7772,7773,7774,7775,7776,7777,7778,7779,7780,7781,7782,7783,7784,7785,7786,7787,7788,7789,7790,7791,7792,7793,7794,7795,7796,7797,7798,7799,7800,7801,7802,7803,7804,7805,7806,7807,7808,7809,7810,7811,7812,7813,7814,7815,7816,7817,7818,7819,7820,7821,7822,7823,7824,7825,7826,7827,7828,7829,7830,7831,7832,7833,7834,7835,7836,7837,7838,7839,7840,7841,7842,7843,7844,7845,7846,7847,7848,7849,7850,7851,7852,7853,7854,7855,7856,7857,7858,7859,7860,7861,7862,7863,7864,7865,7866,7867,7868,7869,7870,7871,7872,7873,7874,7875,7876,7877,7878,7879,7880,7881,7882,7883,7884,7885,7886,7887,7888,7889,7890,7891,7892,7893,7894,7895,7896,7897,7898,7899,7900,7901,7902,7903,7904,7905,7906,7907,7908,7909,7910,7911,7912,7913,7914,7915,7916,7917,7918,7919,7920,7921,7922,7923,7924,7925,7926,7927,7928,7929,7930,7931,7932,7933,7934,7935,7936,7937,7938,7939,7940,7941,7942,7943,7944,7945,7946,7947,7948,7949,7950,7951,7952,7953,7954,7955,7956,7957,7958,7959,7960,7961,7962,7963,7964,7965,7966,7967,7968,7969,7970,7971,7972,7973,7974,7975,7976,7977,7978,7979,7980,7981,7982,7983,7984,7985,7986,7987,7988,7989,7990,7991,7992,7993,7994,7995,7996,7997,7998,7999,8000,8001,8002,8003,8004,8005,8006,8007,8008,8009,8010,8011,8012,8013,8014,8015,8016,8017,8018,8019,8020,8021,8022,8023,8024,8025,8026,8027,8028,8029,8030,8031,8032,8033,8034,8035,8036,8037,8038,8039,8040,8041,8042,8043,8044,8045,8046,8047,8048,8049,8050,8051,8052,8053,8054,8055,8056,8057,8058,8059,8060,8061,8062,8063,8064,8065,8066,8067,8068,8069,8070,8071,8072,8073,8074,8075,8076,8077,8078,8079,8080,8081,8082,8083,8084,8085,8086,8087,8088,8089,8090,8091,8092,8093,8094,8095,8096,8097,8098,8099,8100,8101,8102,8103,8104,8105,8106,8107,8108,8109,8110,8111,8112,8113,8114,8115,8116,8117,8118,8119,8120,8121,8122,8123,8124,8125,8126,8127,8128,8129,8130,8131,8132,8133,8134,8135,8136,8137,8138,8139,8140,8141,8142,8143,8144,8145,8146,8147,8148,8149,8150,8151,8152,8153,8154,8155,8156,8157,8158,8159,8160,8161,8162,8163,8164,8165,8166,8167,8168,8169,8170,8171,8172,8173,8174,8175,8176,8177,8178,8179,8180,8181,8182,8183,8184,8185,8186,8187,8188,8189,8190,8191,8192,8193,8194,8195,8196,8197,8198,8199,8200,8201,8202,8203,8204,8205,8206,8207,8208,8209,8210,8211,8212,8213,8214,8215,8216,8217,8218,8219,8220,8221,8222,8223,8224,8225,8226,8227,8228,8229,8230,8231,8232,8233,8234,8235,8236,8237,8238,8239,8240,8241,8242,8243,8244,8245,8246,8247,8248,8249,8250,8251,8252,8253,8254,8255,8256,8257,8258,8259,8260,8261,8262,8263,8264,8265,8266,8267,8268,8269,8270,8271,8272,8273,8274,8275,8276,8277,8278,8279,8280,8281,8282,8283,8284,8285,8286,8287,8288,8289,8290,8291,8292,8293,8294,8295,8296,8297,8298,8299,8300,8301,8302,8303,8304,8305,8306,8307,8308,8309,8310,8311,8312,8313,8314,8315,8316,8317,8318,8319,8320,8321,8322,8323,8324,8325,8326,8327,8328,8329,8330,8331,8332,8333,8334,8335,8336,8337,8338,8339,8340,8341,8342,8343,8344,8345,8346,8347,8348,8349,8350,8351,8352,8353,8354,8355,8356,8357,8358,8359,8360,8361,8362,8363,8364,8365,8366,8367,8368,8369,8370,8371,8372,8373,8374,8375,8376,8377,8378,8379,8380,8381,8382,8383,8384,8385,8386,8387,8388,8389,8390,8391,8392,8393,8394,8395,8396,8397,8398,8399,8400,8401,8402,8403,8404,8405,8406,8407,8408,8409,8410,8411,8412,8413,8414,8415,8416,8417,8418,8419,8420,8421,8422,8423,8424,8425,8426,8427,8428,8429,8430,8431,8432,8433,8434,8435,8436,8437,8438,8439,8440,8441,8442,8443,8444,8445,8446,8447,8448,8449,8450,8451,8452,8453,8454,8455,8456,8457,8458,8459,8460,8461,8462,8463,8464,8465,8466,8467,8468,8469,8470,8471,8472,8473,8474,8475,8476,8477,8478,8479,8480,8481,8482,8483,8484,8485,8486,8487,8488,8489,8490,8491,8492,8493,8494,8495,8496,8497,8498,8499,8500,8501,8502,8503,8504,8505,8506,8507,8508,8509,8510,8511,8512,8513,8514,8515,8516,8517,8518,8519,8520,8521,8522,8523,8524,8525,8526,8527,8528,8529,8530,8531,8532,8533,8534,8535,8536,8537,8538,8539,8540,8541,8542,8543,8544,8545,8546,8547,8548,8549,8550,8551,8552,8553,8554,8555,8556,8557,8558,8559,8560,8561,8562,8563,8564,8565,8566,8567,8568,8569,8570,8571,8572,8573,8574,8575,8576,8577,8578,8579,8580,8581,8582,8583,8584,8585,8586,8587,8588,8589,8590,8591,8592,8593,8594,8595,8596,8597,8598,8599,8600,8601,8602,8603,8604,8605,8606,8607,8608,8609,8610,8611,8612,8613,8614,8615,8616,8617,8618,8619,8620,8621,8622,8623,8624,8625,8626,8627,8628,8629,8630,8631,8632,8633,8634,8635,8636,8637,8638,8639,8640,8641,8642,8643,8644,8645,8646,8647,8648,8649,8650,8651,8652,8653,8654,8655,8656,8657,8658,8659,8660,8661,8662,8663,8664,8665,8666,8667,8668,8669,8670,8671,8672,8673,8674,8675,8676,8677,8678,8679,8680,8681,8682,8683,8684,8685,8686,8687,8688,8689,8690,8691,8692,8693,8694,8695,8696,8697,8698,8699,8700,8701,8702,8703,8704,8705,8706,8707,8708,8709,8710,8711,8712,8713,8714,8715,8716,8717,8718,8719,8720,8721,8722,8723,8724,8725,8726,8727,8728,8729,8730,8731,8732,8733,8734,8735,8736,8737,8738,8739,8740,8741,8742,8743,8744,8745,8746,8747,8748,8749,8750,8751,8752,8753,8754,8755,8756,8757,8758,8759,8760,8761,8762,8763,8764,8765,8766,8767,8768,8769,8770,8771,8772,8773,8774,8775,8776,8777,8778,8779,8780,8781,8782,8783,8784,8785,8786,8787,8788,8789,8790,8791,8792,8793,8794,8795,8796,8797,8798,8799,8800,8801,8802,8803,8804,8805,8806,8807,8808,8809,8810,8811,8812,8813,8814,8815,8816,8817,8818,8819,8820,8821,8822,8823,8824,8825,8826,8827,8828,8829,8830,8831,8832,8833,8834,8835,8836,8837,8838,8839,8840,8841,8842,8843,8844,8845,8846,8847,8848,8849,8850,8851,8852,8853,8854,8855,8856,8857,8858,8859,8860,8861,8862,8863,8864,8865,8866,8867,8868,8869,8870,8871,8872,8873,8874,8875,8876,8877,8878,8879,8880,8881,8882,8883,8884,8885,8886,8887,8888,8889,8890,8891,8892,8893,8894,8895,8896,8897,8898,8899,8900,8901,8902,8903,8904,8905,8906,8907,8908,8909,8910,8911,8912,8913,8914,8915,8916,8917,8918,8919,8920,8921,8922,8923,8924,8925,8926,8927,8928,8929,8930,8931,8932,8933,8934,8935,8936,8937,8938,8939,8940,8941,8942,8943,8944,8945,8946,8947,8948,8949,8950,8951,8952,8953,8954,8955,8956,8957,8958,8959,8960,8961,8962,8963,8964,8965,8966,8967,8968,8969,8970,8971,8972,8973,8974,8975,8976,8977,8978,8979,8980,8981,8982,8983,8984,8985,8986,8987,8988,8989,8990,8991,8992,8993,8994,8995,8996,8997,8998,8999,9000,9001,9002,9003,9004,9005,9006,9007,9008,9009,9010,9011,9012,9013,9014,9015,9016,9017,9018,9019,9020,9021,9022,9023,9024,9025,9026,9027,9028,9029,9030,9031,9032,9033,9034,9035,9036,9037,9038,9039,9040,9041,9042,9043,9044,9045,9046,9047,9048,9049,9050,9051,9052,9053,9054,9055,9056,9057,9058,9059,9060,9061,9062,9063,9064,9065,9066,9067,9068,9069,9070,9071,9072,9073,9074,9075,9076,9077,9078,9079,9080,9081,9082,9083,9084,9085,9086,9087,9088,9089,9090,9091,9092,9093,9094,9095,9096,9097,9098,9099,9100,9101,9102,9103,9104,9105,9106,9107,9108,9109,9110,9111,9112,9113,9114,9115,9116,9117,9118,9119,9120,9121,9122,9123,9124,9125,9126,9127,9128,9129,9130,9131,9132,9133,9134,9135,9136,9137,9138,9139,9140,9141,9142,9143,9144,9145,9146,9147,9148,9149,9150,9151,9152,9153,9154,9155,9156,9157,9158,9159,9160,9161,9162,9163,9164,9165,9166,9167,9168,9169,9170,9171,9172,9173,9174,9175,9176,9177,9178,9179,9180,9181,9182,9183,9184,9185,9186,9187,9188,9189,9190,9191,9192,9193,9194,9195,9196,9197,9198,9199,9200,9201,9202,9203,9204,9205,9206,9207,9208,9209,9210,9211,9212,9213,9214,9215,9216,9217,9218,9219,9220,9221,9222,9223,9224,9225,9226,9227,9228,9229,9230,9231,9232,9233,9234,9235,9236,9237,9238,9239,9240,9241,9242,9243,9244,9245,9246,9247,9248,9249,9250,9251,9252,9253,9254,9255,9256,9257,9258,9259,9260,9261,9262,9263,9264,9265,9266,9267,9268,9269,9270,9271,9272,9273,9274,9275,9276,9277,9278,9279,9280,9281,9282,9283,9284,9285,9286,9287,9288,9289,9290,9291,9292,9293,9294,9295,9296,9297,9298,9299,9300,9301,9302,9303,9304,9305,9306,9307,9308,9309,9310,9311,9312,9313,9314,9315,9316,9317,9318,9319,9320,9321,9322,9323,9324,9325,9326,9327,9328,9329,9330,9331,9332,9333,9334,9335,9336,9337,9338,9339,9340,9341,9342,9343,9344,9345,9346,9347,9348,9349,9350,9351,9352,9353,9354,9355,9356,9357,9358,9359,9360,9361,9362,9363,9364,9365,9366,9367,9368,9369,9370,9371,9372,9373,9374,9375,9376,9377,9378,9379,9380,9381,9382,9383,9384,9385,9386,9387,9388,9389,9390,9391,9392,9393,9394,9395,9396,9397,9398,9399,9400,9401,9402,9403,9404,9405,9406,9407,9408,9409,9410,9411,9412,9413,9414,9415,9416,9417,9418,9419,9420,9421,9422,9423,9424,9425,9426,9427,9428,9429,9430,9431,9432,9433,9434,9435,9436,9437,9438,9439,9440,9441,9442,9443,9444,9445,9446,9447,9448,9449,9450,9451,9452,9453,9454,9455,9456,9457,9458,9459,9460,9461,9462,9463,9464,9465,9466,9467,9468,9469,9470,9471,9472,9473,9474,9475,9476,9477,9478,9479,9480,9481,9482,9483,9484,9485,9486,9487,9488,9489,9490,9491,9492,9493,9494,9495,9496,9497,9498,9499,9500,9501,9502,9503,9504,9505,9506,9507,9508,9509,9510,9511,9512,9513,9514,9515,9516,9517,9518,9519,9520,9521,9522,9523,9524,9525,9526,9527,9528,9529,9530,9531,9532,9533,9534,9535,9536,9537,9538,9539,9540,9541,9542,9543,9544,9545,9546,9547,9548,9549,9550,9551,9552,9553,9554,9555,9556,9557,9558,9559,9560,9561,9562,9563,9564,9565,9566,9567,9568,9569,9570,9571,9572,9573,9574,9575,9576,9577,9578,9579,9580,9581,9582,9583,9584,9585,9586,9587,9588,9589,9590,9591,9592,9593,9594,9595,9596,9597,9598,9599,9600,9601,9602,9603,9604,9605,9606,9607,9608,9609,9610,9611,9612,9613,9614,9615,9616,9617,9618,9619,9620,9621,9622,9623,9624,9625,9626,9627,9628,9629,9630,9631,9632,9633,9634,9635,9636,9637,9638,9639,9640,9641,9642,9643,9644,9645,9646,9647,9648,9649,9650,9651,9652,9653,9654,9655,9656,9657,9658,9659,9660,9661,9662,9663,9664,9665,9666,9667,9668,9669,9670,9671,9672,9673,9674,9675,9676,9677,9678,9679,9680,9681,9682,9683,9684,9685,9686,9687,9688,9689,9690,9691,9692,9693,9694,9695,9696,9697,9698,9699,9700,9701,9702,9703,9704,9705,9706,9707,9708,9709,9710,9711,9712,9713,9714,9715,9716,9717,9718,9719,9720,9721,9722,9723,9724,9725,9726,9727,9728,9729,9730,9731,9732,9733,9734,9735,9736,9737,9738,9739,9740,9741,9742,9743,9744,9745,9746,9747,9748,9749,9750,9751,9752,9753,9754,9755,9756,9757,9758,9759,9760,9761,9762,9763,9764,9765,9766,9767,9768,9769,9770,9771,9772,9773,9774,9775,9776,9777,9778,9779,9780,9781,9782,9783,9784,9785,9786,9787,9788,9789,9790,9791,9792,9793,9794,9795,9796,9797,9798,9799,9800,9801,9802,9803,9804,9805,9806,9807,9808,9809,9810,9811,9812,9813,9814,9815,9816,9817,9818,9819,9820,9821,9822,9823,9824,9825,9826,9827,9828,9829,9830,9831,9832,9833,9834,9835,9836,9837,9838,9839,9840,9841,9842,9843,9844,9845,9846,9847,9848,9849,9850,9851,9852,9853,9854,9855,9856,9857,9858,9859,9860,9861,9862,9863,9864,9865,9866,9867,9868,9869,9870,9871,9872,9873,9874,9875,9876,9877,9878,9879,9880,9881,9882,9883,9884,9885,9886,9887,9888,9889,9890,9891,9892,9893,9894,9895,9896,9897,9898,9899,9900,9901,9902,9903,9904,9905,9906,9907,9908,9909,9910,9911,9912,9913,9914,9915,9916,9917,9918,9919,9920,9921,9922,9923,9924,9925,9926,9927,9928,9929,9930,9931,9932,9933,9934,9935,9936,9937,9938,9939,9940,9941,9942,9943,9944,9945,9946,9947,9948,9949,9950,9951,9952,9953,9954,9955,9956,9957,9958,9959,9960,9961,9962,9963,9964,9965,9966,9967,9968,9969,9970,9971,9972,9973,9974,9975,9976,9977,9978,9979,9980,9981,9982,9983,9984,9985,9986,9987,9988,9989,9990],\"xaxis\":\"x\",\"y\":[1327,942,793,640,607,560,558,533,507,498,485,480,479,452,450,428,390,376,347,342,338,320,319,291,290,289,287,278,268,264,260,258,255,252,249,247,243,241,239,236,236,221,215,203,201,193,191,182,178,175,174,171,171,169,165,161,158,156,154,153,153,152,152,148,147,145,143,143,139,139,136,135,133,132,130,128,125,125,125,125,124,121,121,120,120,120,119,119,118,118,117,116,116,114,113,111,111,110,110,109,109,108,107,107,107,105,105,105,104,104,104,101,101,101,101,100,100,99,99,99,98,98,98,98,96,96,96,95,95,95,94,94,94,94,93,93,92,92,92,91,91,91,90,90,90,90,90,89,89,89,89,88,88,87,87,87,87,87,86,86,85,83,83,83,83,82,82,82,82,81,80,79,79,79,78,78,77,77,77,77,77,77,76,75,75,75,75,74,74,74,73,73,73,72,72,71,71,71,71,71,71,70,70,70,70,69,69,69,69,69,68,68,68,68,68,68,67,67,67,66,66,66,66,66,66,65,65,65,65,64,64,64,64,64,63,63,63,62,62,62,62,62,62,62,62,62,61,61,61,61,61,61,61,60,60,60,60,59,58,58,58,57,56,56,56,55,55,55,55,55,55,54,54,54,54,53,53,53,52,52,52,52,52,52,51,51,50,50,50,50,49,49,49,49,49,49,49,49,49,49,49,48,48,48,48,47,47,47,47,47,47,47,47,47,47,46,46,46,46,46,46,46,46,46,46,45,45,45,45,45,44,44,44,44,44,44,44,43,43,43,43,43,43,43,42,42,42,42,42,42,42,42,42,42,42,41,41,41,41,41,41,41,41,41,41,41,41,41,41,41,40,40,40,40,40,40,40,40,40,40,39,39,39,39,39,39,39,39,39,39,38,38,38,38,38,38,38,38,38,38,38,38,38,38,38,38,38,38,38,38,38,38,38,37,37,37,37,37,37,36,36,36,36,36,36,36,36,36,36,36,35,35,35,35,35,35,35,35,35,35,34,34,34,34,34,34,34,34,34,34,34,34,34,34,34,33,33,33,33,33,33,33,33,33,33,33,33,33,33,33,32,32,32,32,32,32,32,32,32,32,32,32,32,32,32,32,32,32,32,32,32,32,32,31,31,31,31,31,31,31,31,31,31,31,31,30,30,30,30,30,30,30,30,30,30,30,30,30,30,30,30,30,30,29,29,29,29,29,29,29,29,29,29,29,29,28,28,28,28,28,28,28,28,28,28,28,28,28,28,28,27,27,27,27,27,27,27,27,27,27,27,27,27,27,27,27,27,27,26,26,26,26,26,26,26,26,26,26,26,26,26,26,26,26,26,26,26,26,26,26,26,26,26,25,25,25,25,25,25,25,25,25,25,25,25,25,25,25,25,25,25,25,25,25,25,25,24,24,24,24,24,24,24,24,24,24,24,24,24,24,24,24,24,24,24,23,23,23,23,23,23,23,23,23,23,23,23,23,23,23,23,23,23,23,23,23,23,23,23,23,23,23,23,23,23,22,22,22,22,22,22,22,22,22,22,22,22,22,22,22,22,22,22,22,22,22,22,22,22,22,22,22,22,22,22,22,22,22,22,21,21,21,21,21,21,21,21,21,21,21,21,21,21,21,21,21,21,21,21,21,21,21,21,20,20,20,20,20,20,20,20,20,20,20,20,20,20,20,20,20,20,20,20,20,20,20,20,20,20,20,20,20,20,20,20,20,20,20,20,20,19,19,19,19,19,19,19,19,19,19,19,19,19,19,19,19,19,19,19,19,19,19,19,19,19,19,19,19,19,19,19,19,19,19,19,19,19,19,19,19,19,19,18,18,18,18,18,18,18,18,18,18,18,18,18,18,18,18,18,18,18,18,18,18,18,18,18,18,18,18,18,18,18,18,18,18,18,18,18,18,18,18,18,18,18,18,18,18,17,17,17,17,17,17,17,17,17,17,17,17,17,17,17,17,17,17,17,17,17,17,17,17,17,17,17,17,17,17,17,17,17,17,17,17,17,17,17,17,17,17,17,17,17,17,17,17,17,17,17,17,17,17,16,16,16,16,16,16,16,16,16,16,16,16,16,16,16,16,16,16,16,16,16,16,16,16,16,16,16,16,16,16,16,16,16,16,16,16,16,16,16,16,16,16,16,16,16,16,16,16,16,15,15,15,15,15,15,15,15,15,15,15,15,15,15,15,15,15,15,15,15,15,15,15,15,15,15,15,15,15,15,15,15,15,15,15,15,15,15,15,15,15,15,15,15,15,15,15,15,15,15,15,15,15,15,15,15,15,15,15,15,15,15,15,15,15,15,15,14,14,14,14,14,14,14,14,14,14,14,14,14,14,14,14,14,14,14,14,14,14,14,14,14,14,14,14,14,14,14,14,14,14,14,14,14,14,14,14,14,14,14,14,14,14,14,14,14,14,14,14,14,14,14,14,14,14,14,14,14,14,13,13,13,13,13,13,13,13,13,13,13,13,13,13,13,13,13,13,13,13,13,13,13,13,13,13,13,13,13,13,13,13,13,13,13,13,13,13,13,13,13,13,13,13,13,13,13,13,13,13,13,13,13,13,13,13,13,13,13,13,13,13,13,13,13,13,13,13,13,13,13,13,13,13,13,13,13,13,12,12,12,12,12,12,12,12,12,12,12,12,12,12,12,12,12,12,12,12,12,12,12,12,12,12,12,12,12,12,12,12,12,12,12,12,12,12,12,12,12,12,12,12,12,12,12,12,12,12,12,12,12,12,12,12,12,12,12,12,12,12,12,12,12,12,12,12,12,12,12,12,12,12,12,12,12,12,12,12,12,12,12,12,12,11,11,11,11,11,11,11,11,11,11,11,11,11,11,11,11,11,11,11,11,11,11,11,11,11,11,11,11,11,11,11,11,11,11,11,11,11,11,11,11,11,11,11,11,11,11,11,11,11,11,11,11,11,11,11,11,11,11,11,11,11,11,11,11,11,11,11,11,11,11,11,11,11,11,11,11,11,11,11,11,11,11,11,11,11,11,11,11,11,11,11,11,11,11,11,10,10,10,10,10,10,10,10,10,10,10,10,10,10,10,10,10,10,10,10,10,10,10,10,10,10,10,10,10,10,10,10,10,10,10,10,10,10,10,10,10,10,10,10,10,10,10,10,10,10,10,10,10,10,10,10,10,10,10,10,10,10,10,10,10,10,10,10,10,10,10,10,10,10,10,10,10,10,10,10,10,10,10,10,10,10,10,10,10,10,10,10,10,10,10,10,10,10,10,10,10,10,10,10,10,10,10,10,10,10,10,10,10,10,10,9,9,9,9,9,9,9,9,9,9,9,9,9,9,9,9,9,9,9,9,9,9,9,9,9,9,9,9,9,9,9,9,9,9,9,9,9,9,9,9,9,9,9,9,9,9,9,9,9,9,9,9,9,9,9,9,9,9,9,9,9,9,9,9,9,9,9,9,9,9,9,9,9,9,9,9,9,9,9,9,9,9,9,9,9,9,9,9,9,9,9,9,9,9,9,9,9,9,9,9,9,9,9,9,9,9,9,9,9,9,9,9,9,9,9,9,9,9,9,9,9,9,9,9,9,9,9,9,8,8,8,8,8,8,8,8,8,8,8,8,8,8,8,8,8,8,8,8,8,8,8,8,8,8,8,8,8,8,8,8,8,8,8,8,8,8,8,8,8,8,8,8,8,8,8,8,8,8,8,8,8,8,8,8,8,8,8,8,8,8,8,8,8,8,8,8,8,8,8,8,8,8,8,8,8,8,8,8,8,8,8,8,8,8,8,8,8,8,8,8,8,8,8,8,8,8,8,8,8,8,8,8,8,8,8,8,8,8,8,8,8,8,8,8,8,8,8,8,8,8,8,8,8,8,8,8,8,8,8,8,8,8,8,8,8,8,8,8,8,8,8,8,8,8,8,8,8,8,8,8,8,8,8,8,8,8,8,8,8,8,7,7,7,7,7,7,7,7,7,7,7,7,7,7,7,7,7,7,7,7,7,7,7,7,7,7,7,7,7,7,7,7,7,7,7,7,7,7,7,7,7,7,7,7,7,7,7,7,7,7,7,7,7,7,7,7,7,7,7,7,7,7,7,7,7,7,7,7,7,7,7,7,7,7,7,7,7,7,7,7,7,7,7,7,7,7,7,7,7,7,7,7,7,7,7,7,7,7,7,7,7,7,7,7,7,7,7,7,7,7,7,7,7,7,7,7,7,7,7,7,7,7,7,7,7,7,7,7,7,7,7,7,7,7,7,7,7,7,7,7,7,7,7,7,7,7,7,7,7,7,7,7,7,7,7,7,7,7,7,7,7,7,7,7,7,7,7,7,7,7,7,7,7,7,7,7,7,7,7,7,7,7,7,7,7,7,7,7,7,7,7,7,7,7,7,7,6,6,6,6,6,6,6,6,6,6,6,6,6,6,6,6,6,6,6,6,6,6,6,6,6,6,6,6,6,6,6,6,6,6,6,6,6,6,6,6,6,6,6,6,6,6,6,6,6,6,6,6,6,6,6,6,6,6,6,6,6,6,6,6,6,6,6,6,6,6,6,6,6,6,6,6,6,6,6,6,6,6,6,6,6,6,6,6,6,6,6,6,6,6,6,6,6,6,6,6,6,6,6,6,6,6,6,6,6,6,6,6,6,6,6,6,6,6,6,6,6,6,6,6,6,6,6,6,6,6,6,6,6,6,6,6,6,6,6,6,6,6,6,6,6,6,6,6,6,6,6,6,6,6,6,6,6,6,6,6,6,6,6,6,6,6,6,6,6,6,6,6,6,6,6,6,6,6,6,6,6,6,6,6,6,6,6,6,6,6,6,6,6,6,6,6,6,6,6,6,6,6,6,6,6,6,6,6,6,6,6,6,6,6,6,6,6,6,6,6,6,6,6,6,6,6,6,6,6,6,6,6,6,6,6,6,6,6,6,6,6,6,6,6,6,6,6,6,6,6,6,6,6,6,6,6,6,6,6,5,5,5,5,5,5,5,5,5,5,5,5,5,5,5,5,5,5,5,5,5,5,5,5,5,5,5,5,5,5,5,5,5,5,5,5,5,5,5,5,5,5,5,5,5,5,5,5,5,5,5,5,5,5,5,5,5,5,5,5,5,5,5,5,5,5,5,5,5,5,5,5,5,5,5,5,5,5,5,5,5,5,5,5,5,5,5,5,5,5,5,5,5,5,5,5,5,5,5,5,5,5,5,5,5,5,5,5,5,5,5,5,5,5,5,5,5,5,5,5,5,5,5,5,5,5,5,5,5,5,5,5,5,5,5,5,5,5,5,5,5,5,5,5,5,5,5,5,5,5,5,5,5,5,5,5,5,5,5,5,5,5,5,5,5,5,5,5,5,5,5,5,5,5,5,5,5,5,5,5,5,5,5,5,5,5,5,5,5,5,5,5,5,5,5,5,5,5,5,5,5,5,5,5,5,5,5,5,5,5,5,5,5,5,5,5,5,5,5,5,5,5,5,5,5,5,5,5,5,5,5,5,5,5,5,5,5,5,5,5,5,5,5,5,5,5,5,5,5,5,5,5,5,5,5,5,5,5,5,5,5,5,5,5,5,5,5,5,5,5,5,5,5,5,5,5,5,5,5,5,5,5,5,5,5,5,5,5,5,5,5,5,5,5,5,5,5,5,5,5,5,5,5,5,5,5,5,5,5,5,5,5,5,5,5,5,5,5,5,5,5,5,5,5,5,5,5,5,5,5,5,5,5,5,5,5,5,4,4,4,4,4,4,4,4,4,4,4,4,4,4,4,4,4,4,4,4,4,4,4,4,4,4,4,4,4,4,4,4,4,4,4,4,4,4,4,4,4,4,4,4,4,4,4,4,4,4,4,4,4,4,4,4,4,4,4,4,4,4,4,4,4,4,4,4,4,4,4,4,4,4,4,4,4,4,4,4,4,4,4,4,4,4,4,4,4,4,4,4,4,4,4,4,4,4,4,4,4,4,4,4,4,4,4,4,4,4,4,4,4,4,4,4,4,4,4,4,4,4,4,4,4,4,4,4,4,4,4,4,4,4,4,4,4,4,4,4,4,4,4,4,4,4,4,4,4,4,4,4,4,4,4,4,4,4,4,4,4,4,4,4,4,4,4,4,4,4,4,4,4,4,4,4,4,4,4,4,4,4,4,4,4,4,4,4,4,4,4,4,4,4,4,4,4,4,4,4,4,4,4,4,4,4,4,4,4,4,4,4,4,4,4,4,4,4,4,4,4,4,4,4,4,4,4,4,4,4,4,4,4,4,4,4,4,4,4,4,4,4,4,4,4,4,4,4,4,4,4,4,4,4,4,4,4,4,4,4,4,4,4,4,4,4,4,4,4,4,4,4,4,4,4,4,4,4,4,4,4,4,4,4,4,4,4,4,4,4,4,4,4,4,4,4,4,4,4,4,4,4,4,4,4,4,4,4,4,4,4,4,4,4,4,4,4,4,4,4,4,4,4,4,4,4,4,4,4,4,4,4,4,4,4,4,4,4,4,4,4,4,4,4,4,4,4,4,4,4,4,4,4,4,4,4,4,4,4,4,4,4,4,4,4,4,4,4,4,4,4,4,4,4,4,4,4,4,4,4,4,4,4,4,4,4,4,4,4,4,4,4,4,4,4,4,4,4,4,4,4,4,4,4,4,4,4,4,4,4,4,4,4,4,4,4,4,4,4,4,4,4,4,4,4,4,4,4,4,4,4,4,4,4,4,4,4,4,4,4,4,4,4,4,4,4,4,4,3,3,3,3,3,3,3,3,3,3,3,3,3,3,3,3,3,3,3,3,3,3,3,3,3,3,3,3,3,3,3,3,3,3,3,3,3,3,3,3,3,3,3,3,3,3,3,3,3,3,3,3,3,3,3,3,3,3,3,3,3,3,3,3,3,3,3,3,3,3,3,3,3,3,3,3,3,3,3,3,3,3,3,3,3,3,3,3,3,3,3,3,3,3,3,3,3,3,3,3,3,3,3,3,3,3,3,3,3,3,3,3,3,3,3,3,3,3,3,3,3,3,3,3,3,3,3,3,3,3,3,3,3,3,3,3,3,3,3,3,3,3,3,3,3,3,3,3,3,3,3,3,3,3,3,3,3,3,3,3,3,3,3,3,3,3,3,3,3,3,3,3,3,3,3,3,3,3,3,3,3,3,3,3,3,3,3,3,3,3,3,3,3,3,3,3,3,3,3,3,3,3,3,3,3,3,3,3,3,3,3,3,3,3,3,3,3,3,3,3,3,3,3,3,3,3,3,3,3,3,3,3,3,3,3,3,3,3,3,3,3,3,3,3,3,3,3,3,3,3,3,3,3,3,3,3,3,3,3,3,3,3,3,3,3,3,3,3,3,3,3,3,3,3,3,3,3,3,3,3,3,3,3,3,3,3,3,3,3,3,3,3,3,3,3,3,3,3,3,3,3,3,3,3,3,3,3,3,3,3,3,3,3,3,3,3,3,3,3,3,3,3,3,3,3,3,3,3,3,3,3,3,3,3,3,3,3,3,3,3,3,3,3,3,3,3,3,3,3,3,3,3,3,3,3,3,3,3,3,3,3,3,3,3,3,3,3,3,3,3,3,3,3,3,3,3,3,3,3,3,3,3,3,3,3,3,3,3,3,3,3,3,3,3,3,3,3,3,3,3,3,3,3,3,3,3,3,3,3,3,3,3,3,3,3,3,3,3,3,3,3,3,3,3,3,3,3,3,3,3,3,3,3,3,3,3,3,3,3,3,3,3,3,3,3,3,3,3,3,3,3,3,3,3,3,3,3,3,3,3,3,3,3,3,3,3,3,3,3,3,3,3,3,3,3,3,3,3,3,3,3,3,3,3,3,3,3,3,3,3,3,3,3,3,3,3,3,3,3,3,3,3,3,3,3,3,3,3,3,3,3,3,3,3,3,3,3,3,3,3,3,3,3,3,3,3,3,3,3,3,3,3,3,3,3,3,3,3,3,3,3,3,3,3,3,3,3,3,3,3,3,3,3,3,3,3,3,3,3,3,3,3,3,3,3,3,3,3,3,3,3,3,3,3,3,3,3,3,3,3,3,3,3,3,3,3,3,3,3,3,3,3,3,3,3,3,3,3,3,3,3,3,3,3,3,3,3,3,3,3,3,3,3,3,3,3,3,3,3,3,3,3,3,3,3,3,3,3,3,3,3,3,3,3,3,3,3,3,3,3,3,3,3,3,3,3,3,3,3,3,3,3,3,3,3,3,3,3,3,3,3,3,3,3,3,3,3,3,3,3,3,3,3,3,3,3,3,3,3,3,3,3,3,3,3,3,3,3,3,3,3,3,3,3,3,3,3,3,3,3,3,3,3,3,3,3,3,3,3,3,3,3,3,3,3,3,3,3,3,3,3,3,3,3,3,3,3,3,3,3,3,3,3,3,3,3,3,3,3,2,2,2,2,2,2,2,2,2,2,2,2,2,2,2,2,2,2,2,2,2,2,2,2,2,2,2,2,2,2,2,2,2,2,2,2,2,2,2,2,2,2,2,2,2,2,2,2,2,2,2,2,2,2,2,2,2,2,2,2,2,2,2,2,2,2,2,2,2,2,2,2,2,2,2,2,2,2,2,2,2,2,2,2,2,2,2,2,2,2,2,2,2,2,2,2,2,2,2,2,2,2,2,2,2,2,2,2,2,2,2,2,2,2,2,2,2,2,2,2,2,2,2,2,2,2,2,2,2,2,2,2,2,2,2,2,2,2,2,2,2,2,2,2,2,2,2,2,2,2,2,2,2,2,2,2,2,2,2,2,2,2,2,2,2,2,2,2,2,2,2,2,2,2,2,2,2,2,2,2,2,2,2,2,2,2,2,2,2,2,2,2,2,2,2,2,2,2,2,2,2,2,2,2,2,2,2,2,2,2,2,2,2,2,2,2,2,2,2,2,2,2,2,2,2,2,2,2,2,2,2,2,2,2,2,2,2,2,2,2,2,2,2,2,2,2,2,2,2,2,2,2,2,2,2,2,2,2,2,2,2,2,2,2,2,2,2,2,2,2,2,2,2,2,2,2,2,2,2,2,2,2,2,2,2,2,2,2,2,2,2,2,2,2,2,2,2,2,2,2,2,2,2,2,2,2,2,2,2,2,2,2,2,2,2,2,2,2,2,2,2,2,2,2,2,2,2,2,2,2,2,2,2,2,2,2,2,2,2,2,2,2,2,2,2,2,2,2,2,2,2,2,2,2,2,2,2,2,2,2,2,2,2,2,2,2,2,2,2,2,2,2,2,2,2,2,2,2,2,2,2,2,2,2,2,2,2,2,2,2,2,2,2,2,2,2,2,2,2,2,2,2,2,2,2,2,2,2,2,2,2,2,2,2,2,2,2,2,2,2,2,2,2,2,2,2,2,2,2,2,2,2,2,2,2,2,2,2,2,2,2,2,2,2,2,2,2,2,2,2,2,2,2,2,2,2,2,2,2,2,2,2,2,2,2,2,2,2,2,2,2,2,2,2,2,2,2,2,2,2,2,2,2,2,2,2,2,2,2,2,2,2,2,2,2,2,2,2,2,2,2,2,2,2,2,2,2,2,2,2,2,2,2,2,2,2,2,2,2,2,2,2,2,2,2,2,2,2,2,2,2,2,2,2,2,2,2,2,2,2,2,2,2,2,2,2,2,2,2,2,2,2,2,2,2,2,2,2,2,2,2,2,2,2,2,2,2,2,2,2,2,2,2,2,2,2,2,2,2,2,2,2,2,2,2,2,2,2,2,2,2,2,2,2,2,2,2,2,2,2,2,2,2,2,2,2,2,2,2,2,2,2,2,2,2,2,2,2,2,2,2,2,2,2,2,2,2,2,2,2,2,2,2,2,2,2,2,2,2,2,2,2,2,2,2,2,2,2,2,2,2,2,2,2,2,2,2,2,2,2,2,2,2,2,2,2,2,2,2,2,2,2,2,2,2,2,2,2,2,2,2,2,2,2,2,2,2,2,2,2,2,2,2,2,2,2,2,2,2,2,2,2,2,2,2,2,2,2,2,2,2,2,2,2,2,2,2,2,2,2,2,2,2,2,2,2,2,2,2,2,2,2,2,2,2,2,2,2,2,2,2,2,2,2,2,2,2,2,2,2,2,2,2,2,2,2,2,2,2,2,2,2,2,2,2,2,2,2,2,2,2,2,2,2,2,2,2,2,2,2,2,2,2,2,2,2,2,2,2,2,2,2,2,2,2,2,2,2,2,2,2,2,2,2,2,2,2,2,2,2,2,2,2,2,2,2,2,2,2,2,2,2,2,2,2,2,2,2,2,2,2,2,2,2,2,2,2,2,2,2,2,2,2,2,2,2,2,2,2,2,2,2,2,2,2,2,2,2,2,2,2,2,2,2,2,2,2,2,2,2,2,2,2,2,2,2,2,2,2,2,2,2,2,2,2,2,2,2,2,2,2,2,2,2,2,2,2,2,2,2,2,2,2,2,2,2,2,2,2,2,2,2,2,2,2,2,2,2,2,2,2,2,2,2,2,2,2,2,2,2,2,2,2,2,2,2,2,2,2,2,2,2,2,2,2,2,2,2,2,2,2,2,2,2,2,2,2,2,2,2,2,2,2,2,2,2,2,2,2,2,2,2,2,2,2,2,2,2,2,2,2,2,2,2,2,2,2,2,2,2,2,2,2,2,2,2,2,2,2,2,2,2,2,2,2,2,2,2,2,2,2,2,2,2,2,2,2,2,2,2,2,2,2,2,2,2,2,2,2,2,2,2,2,2,2,2,2,2,2,2,2,2,2,2,2,2,2,2,2,2,2,2,2,2,2,2,2,2,2,2,2,2,2,2,2,2,2,2,2,2,2,2,2,2,2,2,2,2,2,2,2,2,2,2,2,2,2,2,2,2,2,2,2,2,2,2,2,2,2,2,2,2,2,2,2,2,2,2,2,2,2,2,2,2,2,2,2,2,2,2,2,2,2,2,2,2,2,2,2,2,2,2,2,2,2,2,2,2,2,2,2,2,2,2,2,2,2,2,2,2,2,2,2,2,2,2,2,2,2,2,2,2,2,2,2,2,2,2,2,2,2,2,2,2,2,2,2,2,2,2,2,2,2,2,2,2,2,2,2,2,2,2,2,2,2,2,2,2,2,2,2,2,2,2,2,2,2,2,2,2,2,2,2,2,2,2,2,2,2,2,2,2,2,2,2,2,2,2,2,2,2,2,2,2,2,2,2,2,2,2,2,2,2,2,2,2,2,2,2,2,2,2,2,2,2,2,2,2,2,2,2,2,2,2,2,2,2,2,2,2,2,2,2,2,2,2,2,2,2,2,2,2,2,2,2,2,2,2,2,2,2,2,2,2,2,2,2,2,2,2,2,2,2,2,2,2,2,2,2,2,2,2,2,2,2,2,2,2,2,2,2,2,2,2,2,2,2,2,2,2,2,2,2,2,2,2,2,2,2,2,2,2,2,2,2,2,2,2,2,2,2,2,2,2,2,2,2,2,2,2,2,2,2,2,2,2,2,2,2,2,2,2,2,2,2,2,2,2,2,2,2,2,2,2,2,2,2,2,2,2,2,2,2,2,2,2,2,2,2,2,2,2,2,2,2,2,2,2,2,2,2,2,2,2,2,2,2,2,2,2,2,2,2,2,2,2,2,2,2,2,2,2,2,2,2,2,2,2,2,2,2,2,2,2,2,2,2,2,2,2,2,2,2,2,2,2,2,2,2,2,2,2,2,2,2,2,2,2,2,2,2,2,2,2,2,2,2,2,2,2,2,2,2,2,2,2,2,2,2,2,2,2,2,1,1,1,1,1,1,1,1,1,1,1,1,1,1,1,1,1,1,1,1,1,1,1,1,1,1,1,1,1,1,1,1,1,1,1,1,1,1,1,1,1,1,1,1,1,1,1,1,1,1,1,1,1,1,1,1,1,1,1,1,1,1,1,1,1,1,1,1,1,1,1,1,1,1,1,1,1,1,1,1,1,1,1,1,1,1,1,1,1,1,1,1,1,1,1,1,1,1,1,1,1,1,1,1,1,1,1,1,1,1,1,1,1,1,1,1,1,1,1,1,1,1,1,1,1,1,1,1,1,1,1,1,1,1,1,1,1,1,1,1,1,1,1,1,1,1,1,1,1,1,1,1,1,1,1,1,1,1,1,1,1,1,1,1,1,1,1,1,1,1,1,1,1,1,1,1,1,1,1,1,1,1,1,1,1,1,1,1,1,1,1,1,1,1,1,1,1,1,1,1,1,1,1,1,1,1,1,1,1,1,1,1,1,1,1,1,1,1,1,1,1,1,1,1,1,1,1,1,1,1,1,1,1,1,1,1,1,1,1,1,1,1,1,1,1,1,1,1,1,1,1,1,1,1,1,1,1,1,1,1,1,1,1,1,1,1,1,1,1,1,1,1,1,1,1,1,1,1,1,1,1,1,1,1,1,1,1,1,1,1,1,1,1,1,1,1,1,1,1,1,1,1,1,1,1,1,1,1,1,1,1,1,1,1,1,1,1,1,1,1,1,1,1,1,1,1,1,1,1,1,1,1,1,1,1,1,1,1,1,1,1,1,1,1,1,1,1,1,1,1,1,1,1,1,1,1,1,1,1,1,1,1,1,1,1,1,1,1,1,1,1,1,1,1,1,1,1,1,1,1,1,1,1,1,1,1,1,1,1,1,1,1,1,1,1,1,1,1,1,1,1,1,1,1,1,1,1,1,1,1,1,1,1,1,1,1,1,1,1,1,1,1,1,1,1,1,1,1,1,1,1,1,1,1,1,1,1,1,1,1,1,1,1,1,1,1,1,1,1,1,1,1,1,1,1,1,1,1,1,1,1,1,1,1,1,1,1,1,1,1,1,1,1,1,1,1,1,1,1,1,1,1,1,1,1,1,1,1,1,1,1,1,1,1,1,1,1,1,1,1,1,1,1,1,1,1,1,1,1,1,1,1,1,1,1,1,1,1,1,1,1,1,1,1,1,1,1,1,1,1,1,1,1,1,1,1,1,1,1,1,1,1,1,1,1,1,1,1,1,1,1,1,1,1,1,1,1,1,1,1,1,1,1,1,1,1,1,1,1,1,1,1,1,1,1,1,1,1,1,1,1,1,1,1,1,1,1,1,1,1,1,1,1,1,1,1,1,1,1,1,1,1,1,1,1,1,1,1,1,1,1,1,1,1,1,1,1,1,1,1,1,1,1,1,1,1,1,1,1,1,1,1,1,1,1,1,1,1,1,1,1,1,1,1,1,1,1,1,1,1,1,1,1,1,1,1,1,1,1,1,1,1,1,1,1,1,1,1,1,1,1,1,1,1,1,1,1,1,1,1,1,1,1,1,1,1,1,1,1,1,1,1,1,1,1,1,1,1,1,1,1,1,1,1,1,1,1,1,1,1,1,1,1,1,1,1,1,1,1,1,1,1,1,1,1,1,1,1,1,1,1,1,1,1,1,1,1,1,1,1,1,1,1,1,1,1,1,1,1,1,1,1,1,1,1,1,1,1,1,1,1,1,1,1,1,1,1,1,1,1,1,1,1,1,1,1,1,1,1,1,1,1,1,1,1,1,1,1,1,1,1,1,1,1,1,1,1,1,1,1,1,1,1,1,1,1,1,1,1,1,1,1,1,1,1,1,1,1,1,1,1,1,1,1,1,1,1,1,1,1,1,1,1,1,1,1,1,1,1,1,1,1,1,1,1,1,1,1,1,1,1,1,1,1,1,1,1,1,1,1,1,1,1,1,1,1,1,1,1,1,1,1,1,1,1,1,1,1,1,1,1,1,1,1,1,1,1,1,1,1,1,1,1,1,1,1,1,1,1,1,1,1,1,1,1,1,1,1,1,1,1,1,1,1,1,1,1,1,1,1,1,1,1,1,1,1,1,1,1,1,1,1,1,1,1,1,1,1,1,1,1,1,1,1,1,1,1,1,1,1,1,1,1,1,1,1,1,1,1,1,1,1,1,1,1,1,1,1,1,1,1,1,1,1,1,1,1,1,1,1,1,1,1,1,1,1,1,1,1,1,1,1,1,1,1,1,1,1,1,1,1,1,1,1,1,1,1,1,1,1,1,1,1,1,1,1,1,1,1,1,1,1,1,1,1,1,1,1,1,1,1,1,1,1,1,1,1,1,1,1,1,1,1,1,1,1,1,1,1,1,1,1,1,1,1,1,1,1,1,1,1,1,1,1,1,1,1,1,1,1,1,1,1,1,1,1,1,1,1,1,1,1,1,1,1,1,1,1,1,1,1,1,1,1,1,1,1,1,1,1,1,1,1,1,1,1,1,1,1,1,1,1,1,1,1,1,1,1,1,1,1,1,1,1,1,1,1,1,1,1,1,1,1,1,1,1,1,1,1,1,1,1,1,1,1,1,1,1,1,1,1,1,1,1,1,1,1,1,1,1,1,1,1,1,1,1,1,1,1,1,1,1,1,1,1,1,1,1,1,1,1,1,1,1,1,1,1,1,1,1,1,1,1,1,1,1,1,1,1,1,1,1,1,1,1,1,1,1,1,1,1,1,1,1,1,1,1,1,1,1,1,1,1,1,1,1,1,1,1,1,1,1,1,1,1,1,1,1,1,1,1,1,1,1,1,1,1,1,1,1,1,1,1,1,1,1,1,1,1,1,1,1,1,1,1,1,1,1,1,1,1,1,1,1,1,1,1,1,1,1,1,1,1,1,1,1,1,1,1,1,1,1,1,1,1,1,1,1,1,1,1,1,1,1,1,1,1,1,1,1,1,1,1,1,1,1,1,1,1,1,1,1,1,1,1,1,1,1,1,1,1,1,1,1,1,1,1,1,1,1,1,1,1,1,1,1,1,1,1,1,1,1,1,1,1,1,1,1,1,1,1,1,1,1,1,1,1,1,1,1,1,1,1,1,1,1,1,1,1,1,1,1,1,1,1,1,1,1,1,1,1,1,1,1,1,1,1,1,1,1,1,1,1,1,1,1,1,1,1,1,1,1,1,1,1,1,1,1,1,1,1,1,1,1,1,1,1,1,1,1,1,1,1,1,1,1,1,1,1,1,1,1,1,1,1,1,1,1,1,1,1,1,1,1,1,1,1,1,1,1,1,1,1,1,1,1,1,1,1,1,1,1,1,1,1,1,1,1,1,1,1,1,1,1,1,1,1,1,1,1,1,1,1,1,1,1,1,1,1,1,1,1,1,1,1,1,1,1,1,1,1,1,1,1,1,1,1,1,1,1,1,1,1,1,1,1,1,1,1,1,1,1,1,1,1,1,1,1,1,1,1,1,1,1,1,1,1,1,1,1,1,1,1,1,1,1,1,1,1,1,1,1,1,1,1,1,1,1,1,1,1,1,1,1,1,1,1,1,1,1,1,1,1,1,1,1,1,1,1,1,1,1,1,1,1,1,1,1,1,1,1,1,1,1,1,1,1,1,1,1,1,1,1,1,1,1,1,1,1,1,1,1,1,1,1,1,1,1,1,1,1,1,1,1,1,1,1,1,1,1,1,1,1,1,1,1,1,1,1,1,1,1,1,1,1,1,1,1,1,1,1,1,1,1,1,1,1,1,1,1,1,1,1,1,1,1,1,1,1,1,1,1,1,1,1,1,1,1,1,1,1,1,1,1,1,1,1,1,1,1,1,1,1,1,1,1,1,1,1,1,1,1,1,1,1,1,1,1,1,1,1,1,1,1,1,1,1,1,1,1,1,1,1,1,1,1,1,1,1,1,1,1,1,1,1,1,1,1,1,1,1,1,1,1,1,1,1,1,1,1,1,1,1,1,1,1,1,1,1,1,1,1,1,1,1,1,1,1,1,1,1,1,1,1,1,1,1,1,1,1,1,1,1,1,1,1,1,1,1,1,1,1,1,1,1,1,1,1,1,1,1,1,1,1,1,1,1,1,1,1,1,1,1,1,1,1,1,1,1,1,1,1,1,1,1,1,1,1,1,1,1,1,1,1,1,1,1,1,1,1,1,1,1,1,1,1,1,1,1,1,1,1,1,1,1,1,1,1,1,1,1,1,1,1,1,1,1,1,1,1,1,1,1,1,1,1,1,1,1,1,1,1,1,1,1,1,1,1,1,1,1,1,1,1,1,1,1,1,1,1,1,1,1,1,1,1,1,1,1,1,1,1,1,1,1,1,1,1,1,1,1,1,1,1,1,1,1,1,1,1,1,1,1,1,1,1,1,1,1,1,1,1,1,1,1,1,1,1,1,1,1,1,1,1,1,1,1,1,1,1,1,1,1,1,1,1,1,1,1,1,1,1,1,1,1,1,1,1,1,1,1,1,1,1,1,1,1,1,1,1,1,1,1,1,1,1,1,1,1,1,1,1,1,1,1,1,1,1,1,1,1,1,1,1,1,1,1,1,1,1,1,1,1,1,1,1,1,1,1,1,1,1,1,1,1,1,1,1,1,1,1,1,1,1,1,1,1,1,1,1,1,1,1,1,1,1,1,1,1,1,1,1,1,1,1,1,1,1,1,1,1,1,1,1,1,1,1,1,1,1,1,1,1,1,1,1,1,1,1,1,1,1,1,1,1,1,1,1,1,1,1,1,1,1,1,1,1,1,1,1,1,1,1,1,1,1,1,1,1,1,1,1,1,1,1,1,1,1,1,1,1,1,1,1,1,1,1,1,1,1,1,1,1,1,1,1,1,1,1,1,1,1,1,1,1,1,1,1,1,1,1,1,1,1,1,1,1,1,1,1,1,1,1,1,1,1,1,1,1,1,1,1,1,1,1,1,1,1,1,1,1,1,1,1,1,1,1,1,1,1,1,1,1,1,1,1,1,1,1,1,1,1,1,1,1,1,1,1,1,1,1,1,1,1,1,1,1,1,1,1,1,1,1,1,1,1,1,1,1,1,1,1,1,1,1,1,1,1,1,1,1,1,1,1,1,1,1,1,1,1,1,1,1,1,1,1,1,1,1,1,1,1,1,1,1,1,1,1,1,1,1,1,1,1,1,1,1,1,1,1,1,1,1,1,1,1,1,1,1,1,1,1,1,1,1,1,1,1,1,1,1,1,1,1,1,1,1,1,1,1,1,1,1,1,1,1,1,1,1,1,1,1,1,1,1,1,1,1,1,1,1,1,1,1,1,1,1,1,1,1,1,1,1,1,1,1,1,1,1,1,1,1,1,1,1,1,1,1,1,1,1,1,1,1,1,1,1,1,1,1,1,1,1,1,1,1,1,1,1,1,1,1,1,1,1,1,1,1,1,1,1,1,1,1,1,1,1,1,1,1,1,1,1,1,1,1,1,1,1,1,1,1,1,1,1,1,1,1,1,1,1,1,1,1,1,1,1,1,1,1,1,1,1,1,1,1,1,1,1,1,1,1,1,1,1,1,1,1,1,1,1,1,1,1,1,1,1,1,1,1,1,1,1,1,1,1,1,1,1,1,1,1,1,1,1,1,1,1,1,1,1,1,1,1,1,1,1,1,1,1,1,1,1,1,1,1,1,1,1,1,1,1,1,1,1,1,1,1,1,1,1,1,1,1,1,1,1,1,1,1,1,1,1,1,1,1,1,1,1,1,1,1,1,1,1,1,1,1,1,1,1,1,1,1,1,1,1,1,1,1,1,1,1,1,1,1,1,1,1,1,1,1,1,1,1,1,1,1,1,1,1,1,1,1,1,1,1,1,1,1,1,1,1,1,1,1,1,1,1,1,1,1,1,1,1,1,1,1,1,1,1,1,1,1,1,1,1,1,1,1,1,1,1,1,1,1,1,1,1,1,1,1,1,1,1,1,1,1,1,1,1,1,1,1,1,1,1,1,1,1,1,1,1,1,1,1,1,1,1,1,1,1,1,1,1,1,1,1,1,1,1,1,1,1,1,1,1,1,1,1,1,1,1,1,1,1,1,1,1,1,1,1,1,1,1,1,1,1,1,1,1,1,1,1,1,1,1,1,1,1,1,1,1,1,1,1,1,1,1,1,1,1,1,1,1,1,1,1,1,1,1,1,1,1,1,1,1,1,1,1,1,1,1,1,1,1,1,1,1,1,1,1,1,1,1,1,1,1,1,1,1,1,1,1,1,1,1,1,1,1,1,1,1,1,1,1,1,1,1,1,1,1,1,1,1,1,1,1,1,1,1,1,1,1,1,1,1,1,1,1,1,1,1,1,1,1,1,1,1,1,1,1,1,1,1,1,1,1,1,1,1,1,1,1,1,1,1,1,1,1,1,1,1,1,1,1,1,1,1,1,1,1,1,1,1,1,1,1,1,1,1,1,1,1,1,1,1,1,1,1,1,1,1,1,1,1,1,1,1,1,1,1,1,1,1,1,1,1,1,1,1,1,1,1,1,1,1,1,1,1,1,1,1,1,1,1,1,1,1,1,1,1,1,1,1,1,1,1,1,1,1,1,1,1,1,1,1,1,1,1,1,1,1,1,1,1,1,1,1,1,1,1,1,1,1,1,1,1,1,1,1,1,1,1,1,1,1,1,1,1,1,1,1,1,1,1,1,1,1,1,1,1,1,1,1,1,1,1,1,1,1,1,1,1,1,1,1,1,1,1,1,1,1,1,1,1,1,1,1,1,1,1,1,1,1,1,1,1,1,1,1,1,1,1,1,1,1,1,1,1,1,1,1,1,1,1,1,1,1,1,1,1,1,1,1,1,1,1,1,1,1,1,1,1,1,1,1,1,1,1,1,1,1,1,1,1,1,1,1,1,1,1,1,1,1,1,1,1,1,1,1,1,1,1,1,1,1,1,1,1,1,1,1,1,1,1,1,1,1,1,1,1,1,1,1,1,1,1,1,1,1,1,1,1,1,1,1,1,1,1,1,1,1,1,1,1,1,1,1,1,1,1,1,1,1,1,1,1,1,1,1,1,1,1,1,1,1,1,1,1,1,1,1,1,1,1,1,1,1,1,1,1,1,1,1,1,1,1,1,1,1,1,1,1,1,1,1,1,1,1,1,1,1,1,1,1,1,1,1,1,1,1,1,1,1,1,1,1,1,1,1,1,1,1,1,1,1,1,1,1,1,1,1,1,1,1,1,1,1,1,1,1,1,1,1,1,1,1,1,1,1,1,1,1,1,1,1,1,1,1,1,1,1,1,1,1,1,1,1,1,1,1,1,1,1,1,1,1,1,1,1,1,1,1,1,1,1,1,1,1,1,1,1,1,1,1,1,1,1,1,1,1,1,1,1,1,1,1,1,1,1,1,1,1,1,1,1,1,1,1,1,1,1,1,1,1,1,1,1,1,1,1,1,1,1,1,1,1,1,1,1,1,1,1,1,1,1,1,1,1,1,1,1,1,1,1,1,1,1,1,1,1,1,1,1,1,1,1,1,1,1,1,1,1,1,1,1,1,1,1,1,1,1,1,1,1,1,1,1,1,1,1,1,1,1,1,1,1,1,1,1,1,1,1,1,1,1,1,1,1,1,1,1,1,1,1,1,1,1,1,1,1,1,1,1,1,1,1,1,1,1,1,1,1,1,1,1,1,1,1,1,1,1,1,1,1,1,1,1,1,1,1,1,1,1,1,1,1,1,1,1,1,1,1,1,1,1,1,1,1,1,1,1,1,1,1,1,1,1,1,1,1,1,1,1,1,1,1,1,1,1,1,1,1,1,1,1,1,1,1,1,1,1,1,1,1,1,1,1,1,1,1,1,1,1,1,1,1,1,1,1,1,1,1,1,1,1,1,1,1,1,1,1,1,1,1,1,1,1,1,1,1,1,1,1,1,1,1,1,1,1,1,1,1,1,1,1,1,1,1,1,1,1,1,1,1,1,1,1,1,1,1,1,1,1,1,1,1,1,1,1,1,1,1,1,1,1,1,1,1,1,1,1,1,1,1,1,1,1,1,1,1,1,1,1,1,1,1,1,1,1,1,1,1,1,1,1,1,1,1,1,1,1,1,1,1,1,1,1,1,1,1,1,1,1,1,1,1,1,1,1,1,1,1,1,1,1,1,1,1,1,1,1,1,1,1,1,1,1,1,1,1,1,1,1,1,1,1,1,1,1,1,1,1,1,1,1,1,1,1,1,1,1,1,1,1,1,1,1,1,1,1,1,1,1,1,1,1,1,1,1,1,1,1,1,1,1,1,1,1,1,1,1,1,1,1,1,1,1,1,1,1,1,1,1,1,1,1,1,1,1,1,1,1,1,1,1,1,1,1,1,1,1,1,1,1,1,1,1,1,1,1,1,1,1,1,1,1,1,1,1,1,1,1,1,1,1,1,1,1,1,1,1,1,1,1,1,1,1,1,1,1,1,1,1,1,1,1,1,1,1,1,1,1,1,1,1,1,1,1,1,1,1,1,1,1,1,1,1,1,1,1,1,1,1,1,1,1,1,1,1,1,1,1,1,1,1,1,1,1,1,1,1,1,1,1,1,1,1,1,1,1,1,1,1,1,1,1,1,1,1,1,1,1,1,1,1,1,1,1,1,1,1,1,1,1,1,1,1,1,1,1,1,1,1,1,1,1,1,1,1,1,1,1,1,1,1,1,1,1,1,1,1,1,1,1,1,1,1,1,1,1,1,1,1,1,1,1,1,1,1,1,1,1,1,1,1,1,1,1,1,1,1,1,1,1,1,1,1,1,1,1,1,1,1,1,1,1,1,1,1,1,1,1,1,1,1,1,1,1,1,1,1,1,1,1,1,1,1,1,1,1,1,1,1,1,1,1,1,1,1,1,1,1,1,1,1,1,1,1,1,1,1,1,1,1,1,1,1,1,1,1,1,1,1,1,1,1,1,1,1,1,1,1,1,1,1,1,1,1,1,1,1,1,1,1,1,1,1,1,1,1,1,1,1,1,1,1,1,1,1,1,1,1,1,1,1,1,1,1,1,1,1,1,1,1,1,1,1,1,1,1,1,1,1,1,1,1,1,1,1,1,1,1,1,1,1,1,1,1,1,1,1,1,1,1,1,1,1,1,1,1,1,1,1,1,1,1,1,1,1,1,1,1,1,1,1,1,1,1,1,1,1,1,1,1,1,1,1,1,1,1,1,1,1,1,1,1,1,1,1,1,1,1,1,1,1,1,1,1,1,1,1,1,1,1,1,1,1,1,1,1,1,1,1,1,1,1,1,1,1,1,1,1,1,1,1,1,1,1,1,1,1,1,1,1,1,1,1,1,1,1,1,1,1,1,1,1,1,1,1,1,1,1,1,1,1,1,1,1,1,1,1,1,1,1,1,1,1,1,1,1,1,1,1,1,1,1,1,1,1,1,1,1,1,1,1,1,1,1,1,1,1,1,1,1,1,1,1,1,1,1,1,1,1,1,1,1,1,1,1,1,1,1,1,1,1,1,1,1,1,1,1,1,1,1,1,1,1,1,1,1,1,1,1,1,1,1,1,1,1,1,1,1,1,1,1,1,1,1,1,1,1,1,1,1,1,1,1,1,1,1,1,1,1,1,1,1,1,1,1,1,1,1,1,1,1,1,1,1,1,1,1,1,1,1,1,1,1,1,1,1,1,1,1,1,1,1,1,1,1,1,1,1,1,1,1,1,1,1,1,1,1,1,1,1,1,1,1,1,1,1,1,1,1,1,1,1,1,1,1,1,1,1,1,1,1,1,1,1,1,1,1,1,1,1,1,1,1,1,1,1,1,1,1,1,1,1,1,1,1,1,1,1,1,1,1,1,1,1,1,1,1,1,1,1,1,1,1,1,1,1,1,1,1,1,1,1,1,1,1,1,1,1,1,1,1,1,1,1,1,1,1,1,1,1,1,1,1,1,1,1,1,1,1,1,1,1,1,1,1,1,1,1,1,1,1,1,1,1,1,1,1,1,1,1,1,1,1,1,1,1,1,1,1,1,1,1,1,1,1,1,1,1,1,1,1,1,1,1,1,1,1,1,1,1,1,1,1,1,1,1,1,1,1,1,1,1,1,1,1,1,1,1,1,1,1,1,1,1,1,1,1,1,1,1,1,1,1,1,1,1,1,1,1,1,1,1,1,1,1,1,1,1,1,1,1,1,1,1,1,1,1,1,1,1,1,1,1,1,1,1,1,1,1,1,1,1,1,1,1,1,1,1,1,1,1,1,1,1,1,1,1,1,1,1,1,1,1,1,1,1,1,1,1,1,1,1,1,1,1,1,1,1,1,1,1,1,1,1,1,1,1,1,1,1,1,1,1,1,1,1,1,1,1,1,1,1,1,1,1,1,1,1,1,1,1,1,1,1,1,1,1,1,1,1,1,1,1,1,1,1,1,1,1,1,1,1,1,1,1,1,1,1,1,1,1,1,1,1,1,1,1,1,1,1,1,1,1,1,1,1,1,1,1,1,1,1,1,1,1,1,1,1,1,1,1,1,1,1,1,1,1,1,1,1,1,1,1,1,1,1,1,1,1,1,1,1,1,1,1,1,1,1,1,1,1,1,1,1,1,1,1,1,1,1,1,1,1,1,1,1,1,1,1,1,1,1,1,1,1,1,1,1,1,1,1,1,1,1,1,1,1,1,1,1,1,1,1,1,1,1,1,1,1,1,1,1,1,1,1,1,1,1,1,1,1,1,1,1,1,1,1,1,1,1,1,1,1,1,1,1,1,1,1],\"yaxis\":\"y\",\"type\":\"scattergl\"}],                        {\"template\":{\"data\":{\"bar\":[{\"error_x\":{\"color\":\"#2a3f5f\"},\"error_y\":{\"color\":\"#2a3f5f\"},\"marker\":{\"line\":{\"color\":\"#E5ECF6\",\"width\":0.5},\"pattern\":{\"fillmode\":\"overlay\",\"size\":10,\"solidity\":0.2}},\"type\":\"bar\"}],\"barpolar\":[{\"marker\":{\"line\":{\"color\":\"#E5ECF6\",\"width\":0.5},\"pattern\":{\"fillmode\":\"overlay\",\"size\":10,\"solidity\":0.2}},\"type\":\"barpolar\"}],\"carpet\":[{\"aaxis\":{\"endlinecolor\":\"#2a3f5f\",\"gridcolor\":\"white\",\"linecolor\":\"white\",\"minorgridcolor\":\"white\",\"startlinecolor\":\"#2a3f5f\"},\"baxis\":{\"endlinecolor\":\"#2a3f5f\",\"gridcolor\":\"white\",\"linecolor\":\"white\",\"minorgridcolor\":\"white\",\"startlinecolor\":\"#2a3f5f\"},\"type\":\"carpet\"}],\"choropleth\":[{\"colorbar\":{\"outlinewidth\":0,\"ticks\":\"\"},\"type\":\"choropleth\"}],\"contour\":[{\"colorbar\":{\"outlinewidth\":0,\"ticks\":\"\"},\"colorscale\":[[0.0,\"#0d0887\"],[0.1111111111111111,\"#46039f\"],[0.2222222222222222,\"#7201a8\"],[0.3333333333333333,\"#9c179e\"],[0.4444444444444444,\"#bd3786\"],[0.5555555555555556,\"#d8576b\"],[0.6666666666666666,\"#ed7953\"],[0.7777777777777778,\"#fb9f3a\"],[0.8888888888888888,\"#fdca26\"],[1.0,\"#f0f921\"]],\"type\":\"contour\"}],\"contourcarpet\":[{\"colorbar\":{\"outlinewidth\":0,\"ticks\":\"\"},\"type\":\"contourcarpet\"}],\"heatmap\":[{\"colorbar\":{\"outlinewidth\":0,\"ticks\":\"\"},\"colorscale\":[[0.0,\"#0d0887\"],[0.1111111111111111,\"#46039f\"],[0.2222222222222222,\"#7201a8\"],[0.3333333333333333,\"#9c179e\"],[0.4444444444444444,\"#bd3786\"],[0.5555555555555556,\"#d8576b\"],[0.6666666666666666,\"#ed7953\"],[0.7777777777777778,\"#fb9f3a\"],[0.8888888888888888,\"#fdca26\"],[1.0,\"#f0f921\"]],\"type\":\"heatmap\"}],\"heatmapgl\":[{\"colorbar\":{\"outlinewidth\":0,\"ticks\":\"\"},\"colorscale\":[[0.0,\"#0d0887\"],[0.1111111111111111,\"#46039f\"],[0.2222222222222222,\"#7201a8\"],[0.3333333333333333,\"#9c179e\"],[0.4444444444444444,\"#bd3786\"],[0.5555555555555556,\"#d8576b\"],[0.6666666666666666,\"#ed7953\"],[0.7777777777777778,\"#fb9f3a\"],[0.8888888888888888,\"#fdca26\"],[1.0,\"#f0f921\"]],\"type\":\"heatmapgl\"}],\"histogram\":[{\"marker\":{\"pattern\":{\"fillmode\":\"overlay\",\"size\":10,\"solidity\":0.2}},\"type\":\"histogram\"}],\"histogram2d\":[{\"colorbar\":{\"outlinewidth\":0,\"ticks\":\"\"},\"colorscale\":[[0.0,\"#0d0887\"],[0.1111111111111111,\"#46039f\"],[0.2222222222222222,\"#7201a8\"],[0.3333333333333333,\"#9c179e\"],[0.4444444444444444,\"#bd3786\"],[0.5555555555555556,\"#d8576b\"],[0.6666666666666666,\"#ed7953\"],[0.7777777777777778,\"#fb9f3a\"],[0.8888888888888888,\"#fdca26\"],[1.0,\"#f0f921\"]],\"type\":\"histogram2d\"}],\"histogram2dcontour\":[{\"colorbar\":{\"outlinewidth\":0,\"ticks\":\"\"},\"colorscale\":[[0.0,\"#0d0887\"],[0.1111111111111111,\"#46039f\"],[0.2222222222222222,\"#7201a8\"],[0.3333333333333333,\"#9c179e\"],[0.4444444444444444,\"#bd3786\"],[0.5555555555555556,\"#d8576b\"],[0.6666666666666666,\"#ed7953\"],[0.7777777777777778,\"#fb9f3a\"],[0.8888888888888888,\"#fdca26\"],[1.0,\"#f0f921\"]],\"type\":\"histogram2dcontour\"}],\"mesh3d\":[{\"colorbar\":{\"outlinewidth\":0,\"ticks\":\"\"},\"type\":\"mesh3d\"}],\"parcoords\":[{\"line\":{\"colorbar\":{\"outlinewidth\":0,\"ticks\":\"\"}},\"type\":\"parcoords\"}],\"pie\":[{\"automargin\":true,\"type\":\"pie\"}],\"scatter\":[{\"marker\":{\"colorbar\":{\"outlinewidth\":0,\"ticks\":\"\"}},\"type\":\"scatter\"}],\"scatter3d\":[{\"line\":{\"colorbar\":{\"outlinewidth\":0,\"ticks\":\"\"}},\"marker\":{\"colorbar\":{\"outlinewidth\":0,\"ticks\":\"\"}},\"type\":\"scatter3d\"}],\"scattercarpet\":[{\"marker\":{\"colorbar\":{\"outlinewidth\":0,\"ticks\":\"\"}},\"type\":\"scattercarpet\"}],\"scattergeo\":[{\"marker\":{\"colorbar\":{\"outlinewidth\":0,\"ticks\":\"\"}},\"type\":\"scattergeo\"}],\"scattergl\":[{\"marker\":{\"colorbar\":{\"outlinewidth\":0,\"ticks\":\"\"}},\"type\":\"scattergl\"}],\"scattermapbox\":[{\"marker\":{\"colorbar\":{\"outlinewidth\":0,\"ticks\":\"\"}},\"type\":\"scattermapbox\"}],\"scatterpolar\":[{\"marker\":{\"colorbar\":{\"outlinewidth\":0,\"ticks\":\"\"}},\"type\":\"scatterpolar\"}],\"scatterpolargl\":[{\"marker\":{\"colorbar\":{\"outlinewidth\":0,\"ticks\":\"\"}},\"type\":\"scatterpolargl\"}],\"scatterternary\":[{\"marker\":{\"colorbar\":{\"outlinewidth\":0,\"ticks\":\"\"}},\"type\":\"scatterternary\"}],\"surface\":[{\"colorbar\":{\"outlinewidth\":0,\"ticks\":\"\"},\"colorscale\":[[0.0,\"#0d0887\"],[0.1111111111111111,\"#46039f\"],[0.2222222222222222,\"#7201a8\"],[0.3333333333333333,\"#9c179e\"],[0.4444444444444444,\"#bd3786\"],[0.5555555555555556,\"#d8576b\"],[0.6666666666666666,\"#ed7953\"],[0.7777777777777778,\"#fb9f3a\"],[0.8888888888888888,\"#fdca26\"],[1.0,\"#f0f921\"]],\"type\":\"surface\"}],\"table\":[{\"cells\":{\"fill\":{\"color\":\"#EBF0F8\"},\"line\":{\"color\":\"white\"}},\"header\":{\"fill\":{\"color\":\"#C8D4E3\"},\"line\":{\"color\":\"white\"}},\"type\":\"table\"}]},\"layout\":{\"annotationdefaults\":{\"arrowcolor\":\"#2a3f5f\",\"arrowhead\":0,\"arrowwidth\":1},\"autotypenumbers\":\"strict\",\"coloraxis\":{\"colorbar\":{\"outlinewidth\":0,\"ticks\":\"\"}},\"colorscale\":{\"diverging\":[[0,\"#8e0152\"],[0.1,\"#c51b7d\"],[0.2,\"#de77ae\"],[0.3,\"#f1b6da\"],[0.4,\"#fde0ef\"],[0.5,\"#f7f7f7\"],[0.6,\"#e6f5d0\"],[0.7,\"#b8e186\"],[0.8,\"#7fbc41\"],[0.9,\"#4d9221\"],[1,\"#276419\"]],\"sequential\":[[0.0,\"#0d0887\"],[0.1111111111111111,\"#46039f\"],[0.2222222222222222,\"#7201a8\"],[0.3333333333333333,\"#9c179e\"],[0.4444444444444444,\"#bd3786\"],[0.5555555555555556,\"#d8576b\"],[0.6666666666666666,\"#ed7953\"],[0.7777777777777778,\"#fb9f3a\"],[0.8888888888888888,\"#fdca26\"],[1.0,\"#f0f921\"]],\"sequentialminus\":[[0.0,\"#0d0887\"],[0.1111111111111111,\"#46039f\"],[0.2222222222222222,\"#7201a8\"],[0.3333333333333333,\"#9c179e\"],[0.4444444444444444,\"#bd3786\"],[0.5555555555555556,\"#d8576b\"],[0.6666666666666666,\"#ed7953\"],[0.7777777777777778,\"#fb9f3a\"],[0.8888888888888888,\"#fdca26\"],[1.0,\"#f0f921\"]]},\"colorway\":[\"#636efa\",\"#EF553B\",\"#00cc96\",\"#ab63fa\",\"#FFA15A\",\"#19d3f3\",\"#FF6692\",\"#B6E880\",\"#FF97FF\",\"#FECB52\"],\"font\":{\"color\":\"#2a3f5f\"},\"geo\":{\"bgcolor\":\"white\",\"lakecolor\":\"white\",\"landcolor\":\"#E5ECF6\",\"showlakes\":true,\"showland\":true,\"subunitcolor\":\"white\"},\"hoverlabel\":{\"align\":\"left\"},\"hovermode\":\"closest\",\"mapbox\":{\"style\":\"light\"},\"paper_bgcolor\":\"white\",\"plot_bgcolor\":\"#E5ECF6\",\"polar\":{\"angularaxis\":{\"gridcolor\":\"white\",\"linecolor\":\"white\",\"ticks\":\"\"},\"bgcolor\":\"#E5ECF6\",\"radialaxis\":{\"gridcolor\":\"white\",\"linecolor\":\"white\",\"ticks\":\"\"}},\"scene\":{\"xaxis\":{\"backgroundcolor\":\"#E5ECF6\",\"gridcolor\":\"white\",\"gridwidth\":2,\"linecolor\":\"white\",\"showbackground\":true,\"ticks\":\"\",\"zerolinecolor\":\"white\"},\"yaxis\":{\"backgroundcolor\":\"#E5ECF6\",\"gridcolor\":\"white\",\"gridwidth\":2,\"linecolor\":\"white\",\"showbackground\":true,\"ticks\":\"\",\"zerolinecolor\":\"white\"},\"zaxis\":{\"backgroundcolor\":\"#E5ECF6\",\"gridcolor\":\"white\",\"gridwidth\":2,\"linecolor\":\"white\",\"showbackground\":true,\"ticks\":\"\",\"zerolinecolor\":\"white\"}},\"shapedefaults\":{\"line\":{\"color\":\"#2a3f5f\"}},\"ternary\":{\"aaxis\":{\"gridcolor\":\"white\",\"linecolor\":\"white\",\"ticks\":\"\"},\"baxis\":{\"gridcolor\":\"white\",\"linecolor\":\"white\",\"ticks\":\"\"},\"bgcolor\":\"#E5ECF6\",\"caxis\":{\"gridcolor\":\"white\",\"linecolor\":\"white\",\"ticks\":\"\"}},\"title\":{\"x\":0.05},\"xaxis\":{\"automargin\":true,\"gridcolor\":\"white\",\"linecolor\":\"white\",\"ticks\":\"\",\"title\":{\"standoff\":15},\"zerolinecolor\":\"white\",\"zerolinewidth\":2},\"yaxis\":{\"automargin\":true,\"gridcolor\":\"white\",\"linecolor\":\"white\",\"ticks\":\"\",\"title\":{\"standoff\":15},\"zerolinecolor\":\"white\",\"zerolinewidth\":2}}},\"xaxis\":{\"anchor\":\"y\",\"domain\":[0.0,1.0],\"title\":{\"text\":\"Log Rank\"},\"type\":\"log\"},\"yaxis\":{\"anchor\":\"x\",\"domain\":[0.0,1.0],\"title\":{\"text\":\"Log Frequency\"},\"type\":\"log\"},\"legend\":{\"tracegroupgap\":0},\"margin\":{\"t\":60}},                        {\"responsive\": true}                    ).then(function(){\n",
              "                            \n",
              "var gd = document.getElementById('21a17c0c-13f0-49db-9cfa-9909c4b632f6');\n",
              "var x = new MutationObserver(function (mutations, observer) {{\n",
              "        var display = window.getComputedStyle(gd).display;\n",
              "        if (!display || display === 'none') {{\n",
              "            console.log([gd, 'removed!']);\n",
              "            Plotly.purge(gd);\n",
              "            observer.disconnect();\n",
              "        }}\n",
              "}});\n",
              "\n",
              "// Listen for the removal of the full notebook cells\n",
              "var notebookContainer = gd.closest('#notebook-container');\n",
              "if (notebookContainer) {{\n",
              "    x.observe(notebookContainer, {childList: true});\n",
              "}}\n",
              "\n",
              "// Listen for the clearing of the current output cell\n",
              "var outputEl = gd.closest('.output');\n",
              "if (outputEl) {{\n",
              "    x.observe(outputEl, {childList: true});\n",
              "}}\n",
              "\n",
              "                        })                };                            </script>        </div>\n",
              "</body>\n",
              "</html>"
            ]
          },
          "metadata": {}
        }
      ],
      "source": [
        "import plotly.express as px\n",
        "fig = px.scatter(x=[ i for i,t,c in token_counts_with_rank ], \n",
        "                 y=[ c for i,t,c in token_counts_with_rank ], \n",
        "                 hover_name=[ t for i,t,c in token_counts_with_rank ], \n",
        "                 labels={\n",
        "                     \"x\": \"Log Rank\",\n",
        "                     \"y\": \"Log Frequency\"\n",
        "                 },\n",
        "                log_x=True,\n",
        "                log_y=True)\n",
        "fig.show()"
      ]
    },
    {
      "cell_type": "markdown",
      "source": [
        "### Calculating similarity with sparse vectors\n",
        "\n",
        "Back to our sparse vectors! We've calculated TF-IDF vectors but now we want to be able to compare them.\n",
        "\n",
        "**Exercise:** Write a function that calculates the Euclidean distance between two sparse vectors. Think the hypotenuse of a right angled triangle, but in more dimensions. The `math.sqrt` function may be useful."
      ],
      "metadata": {
        "id": "Z9SsfR0LJL7Q"
      },
      "id": "Z9SsfR0LJL7Q"
    },
    {
      "cell_type": "code",
      "execution_count": 94,
      "id": "94297bfe",
      "metadata": {
        "id": "94297bfe",
        "colab": {
          "base_uri": "https://localhost:8080/"
        },
        "outputId": "6736fad4-66d0-41be-dd7c-db9380655a13"
      },
      "outputs": [
        {
          "output_type": "execute_result",
          "data": {
            "text/plain": [
              "2.6457513110645907"
            ]
          },
          "metadata": {},
          "execution_count": 94
        }
      ],
      "source": [
        "def sparse_euclidean_distance(sv1, sv2):\n",
        "  # your code!\n",
        "  #the square root of the sum of the squared differences between the two vectors.\n",
        "  euclid_dis = 0\n",
        "  s = set(sv1.keys()).union(sv2.keys())\n",
        "  for elt in s:\n",
        "    diff = sv1.get(elt, 0) - sv2.get(elt, 0)\n",
        "    sqr_diff = diff ** 2\n",
        "    euclid_dis += sqr_diff\n",
        "\n",
        "  return math.sqrt(euclid_dis)\n",
        "    \n",
        "sv1 = {0:2, 2:1, 4:1}\n",
        "sv2 = {0:1, 1:1, 2:3}\n",
        "    \n",
        "# Example usage:\n",
        "sparse_euclidean_distance(sv1,sv2)"
      ]
    },
    {
      "cell_type": "code",
      "source": [
        "labtest(sparse_euclidean_distance)"
      ],
      "metadata": {
        "id": "UN3hWoe0xrQv",
        "colab": {
          "base_uri": "https://localhost:8080/"
        },
        "outputId": "058a1909-ed64-4ab2-cd5e-7c90eba33832"
      },
      "id": "UN3hWoe0xrQv",
      "execution_count": 95,
      "outputs": [
        {
          "output_type": "stream",
          "name": "stdout",
          "text": [
            "----------------------------\n",
            "LABTEST: Running 5 testcases\n",
            "----------------------------\n",
            "Input: ({2: 1}, {0: 3}). Running... \n",
            "OK.\n",
            "Input: ({1: 2, 0: 1}, {0: 4, 2: 1}). Running... \n",
            "OK.\n",
            "Input: ({0: 2, 4: 2}, {4: 5, 0: 2}). Running... \n",
            "OK.\n",
            "Input: ({5: 2, 4: 4, 3: 5}, {2: 4, 0: 3, 1: 3}). Running... \n",
            "OK.\n",
            "Input: ({1: 1, 6: 1, 2: 4}, {0: 5, 2: 3, 5: 1}). Running... \n",
            "OK.\n",
            "----------------------------\n",
            "5 testcases PASSED\n",
            "----------------------------\n"
          ]
        }
      ]
    },
    {
      "cell_type": "markdown",
      "source": [
        "The Euclidean distance is actually rather computationally expensive. A more common method is the angle between two vectors. We use the cosine rule to calculate it which uses the dot product. One way to optimise this approach is to normalize all your vectors so that they have length 1.\n",
        "\n",
        "**Exercise:** Write a function `normalize_sparse_vector` that takes a sparse vector and returns a normalized version of it. This is a vector pointing in the same direction but with unit length (=1)"
      ],
      "metadata": {
        "id": "Zhx7pbZnDyib"
      },
      "id": "Zhx7pbZnDyib"
    },
    {
      "cell_type": "code",
      "execution_count": null,
      "id": "46bb9d91",
      "metadata": {
        "id": "46bb9d91"
      },
      "outputs": [],
      "source": [
        "def normalize_sparse_vector(sv):\n",
        "  # your code!\n",
        "\n",
        "# Example usage:\n",
        "normalize_sparse_vector({1:1,2:2})"
      ]
    },
    {
      "cell_type": "code",
      "source": [
        "labtest(normalize_sparse_vector)"
      ],
      "metadata": {
        "id": "MIABEd3RxuCO"
      },
      "id": "MIABEd3RxuCO",
      "execution_count": null,
      "outputs": []
    },
    {
      "cell_type": "markdown",
      "source": [
        "Recall that two vectors pointing in the same direction will have an angle of zero between them and a cosine of one. Whereas two angles that are orthogonal will have an angle of ninety degrees and a cosine of zero.\n",
        "\n",
        "To calculate the cosine of an angle between two normalized vectors, you calculate a dot product. \n",
        "\n",
        "**Exercise:** Write a function `sparse_dot_prod` that calculates the dot product between two vectors. It can assume that the vectors it is given are already normalized."
      ],
      "metadata": {
        "id": "iIS5-kqUESan"
      },
      "id": "iIS5-kqUESan"
    },
    {
      "cell_type": "code",
      "execution_count": null,
      "id": "2533f6a8",
      "metadata": {
        "id": "2533f6a8"
      },
      "outputs": [],
      "source": [
        "def sparse_dot_prod(sv1, sv2):\n",
        "  # your code!\n",
        "\n",
        "sv1 = normalize_sparse_vector({0:2, 2:1, 4:1})\n",
        "sv2 = normalize_sparse_vector({0:1, 1:1, 2:3})\n",
        "    \n",
        "# Example usage:\n",
        "sparse_dot_prod(sv1,sv2)"
      ]
    },
    {
      "cell_type": "code",
      "source": [
        "labtest(sparse_dot_prod)"
      ],
      "metadata": {
        "id": "ygf0n-GrxxAu"
      },
      "id": "ygf0n-GrxxAu",
      "execution_count": null,
      "outputs": []
    },
    {
      "cell_type": "markdown",
      "source": [
        "Lastly, let's combine these two ideas together to create a single function that calculates the cosine similarity. Recall that the equation for the cosine similarity is:"
      ],
      "metadata": {
        "id": "gkEqEk7pfrU4"
      },
      "id": "gkEqEk7pfrU4"
    },
    {
      "cell_type": "markdown",
      "source": [
        "![image.png](data:image/png;base64,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)"
      ],
      "metadata": {
        "id": "FoCWgRtIfr4j"
      },
      "id": "FoCWgRtIfr4j"
    },
    {
      "cell_type": "markdown",
      "source": [
        "**Exercise:** Write a `cosine_similarity` function that takes two sparse vectors and calculates the cosine similarity. The input vectors may not be normalized. An inefficient way would be to use the normalize function above first before doing a dot product. Try to calculate the cosine similarity without using `normalize_sparse_vector` by calculating the magnitudes of the two vectors and use the equation above."
      ],
      "metadata": {
        "id": "kcUAgx0pftAe"
      },
      "id": "kcUAgx0pftAe"
    },
    {
      "cell_type": "code",
      "source": [
        "def sparse_cosine_similarity(sv1, sv2):\n",
        "  # your code!\n",
        "\n",
        "# Example usage:\n",
        "sparse_cosine_similarity({0:1,1:2},{0:2,1:3})"
      ],
      "metadata": {
        "id": "3Gjwxaaqf7KP"
      },
      "id": "3Gjwxaaqf7KP",
      "execution_count": null,
      "outputs": []
    },
    {
      "cell_type": "code",
      "source": [
        "labtest(sparse_cosine_similarity)"
      ],
      "metadata": {
        "id": "l-j1cn3of_Jo"
      },
      "id": "l-j1cn3of_Jo",
      "execution_count": null,
      "outputs": []
    },
    {
      "cell_type": "markdown",
      "source": [
        "### Performance on our Reddit data\n",
        "\n",
        "First, let's calculate the TFIDF vectors for our Reddit posts using our previous `make_tfidf_sparse` function,"
      ],
      "metadata": {
        "id": "8yR52NKNJE-g"
      },
      "id": "8yR52NKNJE-g"
    },
    {
      "cell_type": "code",
      "execution_count": null,
      "id": "cc29ec1b",
      "metadata": {
        "id": "cc29ec1b"
      },
      "outputs": [],
      "source": [
        "posts_tokens = [ p['tokens'] for p in posts ]\n",
        "posts_vocab = make_vocabulary(posts_tokens)\n",
        "posts_docfreq = doc_frequency(posts_tokens)\n",
        "N = len(posts)\n",
        "\n",
        "posts_tfidf_vectors = [ make_tfidf_sparse(pt, posts_vocab, posts_docfreq, N) for pt in posts_tokens ]"
      ]
    },
    {
      "cell_type": "markdown",
      "source": [
        "To use our dot product function, we first need to create a normalized version of the vectors."
      ],
      "metadata": {
        "id": "_OctQ2WqE3y9"
      },
      "id": "_OctQ2WqE3y9"
    },
    {
      "cell_type": "code",
      "execution_count": null,
      "id": "b2bccb63",
      "metadata": {
        "id": "b2bccb63"
      },
      "outputs": [],
      "source": [
        "posts_norm_vectors = [ normalize_sparse_vector(sv) for sv in posts_tfidf_vectors ]"
      ]
    },
    {
      "cell_type": "markdown",
      "source": [
        "Now let's do a little performance calculation. We can use the `%timeit` macro to get our notebook to calculate the time for getting the euclidean distance between one vector and the rest of them."
      ],
      "metadata": {
        "id": "SLKEjl41FWEb"
      },
      "id": "SLKEjl41FWEb"
    },
    {
      "cell_type": "code",
      "execution_count": null,
      "id": "893b0f26",
      "metadata": {
        "id": "893b0f26"
      },
      "outputs": [],
      "source": [
        "%timeit [ sparse_euclidean_distance(posts_tfidf_vectors[0],sv) for sv in posts_tfidf_vectors ]"
      ]
    },
    {
      "cell_type": "markdown",
      "source": [
        "How does that compare to calculating the cosine similarity?"
      ],
      "metadata": {
        "id": "WW8j0_PMFk-Q"
      },
      "id": "WW8j0_PMFk-Q"
    },
    {
      "cell_type": "code",
      "source": [
        "%timeit [ sparse_cosine_similarity(posts_tfidf_vectors[0],sv) for sv in posts_tfidf_vectors ]"
      ],
      "metadata": {
        "id": "jooUHxgemB3A"
      },
      "id": "jooUHxgemB3A",
      "execution_count": null,
      "outputs": []
    },
    {
      "cell_type": "markdown",
      "source": [
        "And lastly, how does it compare to calculating the cosine similarity by doing the dot products of normalized vectors?"
      ],
      "metadata": {
        "id": "SywebNCVmGBL"
      },
      "id": "SywebNCVmGBL"
    },
    {
      "cell_type": "code",
      "execution_count": null,
      "id": "be6b67d7",
      "metadata": {
        "id": "be6b67d7"
      },
      "outputs": [],
      "source": [
        "%timeit [ sparse_dot_prod(posts_norm_vectors[0],sv) for sv in posts_norm_vectors ]"
      ]
    },
    {
      "cell_type": "markdown",
      "source": [
        "The dot product function should be the fastest of the three. Admittedly, some preprocessing (the normalization) was needed, but if you are calculating a lot of similarities, it's clearly the best option. And that's without all the performance enhancements that modern CPUs have specifically for doing vector calculations which are perfect for dot products."
      ],
      "metadata": {
        "id": "rtKIg114FuVY"
      },
      "id": "rtKIg114FuVY"
    },
    {
      "cell_type": "markdown",
      "source": [
        "### Calculating similarity on our Reddit data\n",
        "\n",
        "We'll go back to our Reddit posts. Let's remind ourselves how many posts there are."
      ],
      "metadata": {
        "id": "k2hLvRhCGD89"
      },
      "id": "k2hLvRhCGD89"
    },
    {
      "cell_type": "code",
      "execution_count": null,
      "id": "dd7ae79f",
      "metadata": {
        "id": "dd7ae79f"
      },
      "outputs": [],
      "source": [
        "len(posts)"
      ]
    },
    {
      "cell_type": "markdown",
      "source": [
        "And we have a matching number of normalized sparse vectors:"
      ],
      "metadata": {
        "id": "RC_w7k7pG3lH"
      },
      "id": "RC_w7k7pG3lH"
    },
    {
      "cell_type": "code",
      "execution_count": null,
      "id": "cc3b15c6",
      "metadata": {
        "id": "cc3b15c6"
      },
      "outputs": [],
      "source": [
        "len(posts_norm_vectors)"
      ]
    },
    {
      "cell_type": "markdown",
      "source": [
        "We can use the same code from last lab to iterate through our posts, calculate a similarity score and save it. Recall that the dot product of normalized vectors is giving us the cosine between the TFIDF vectors for the Reddit posts."
      ],
      "metadata": {
        "id": "ZbTYmj7fG-cM"
      },
      "id": "ZbTYmj7fG-cM"
    },
    {
      "cell_type": "code",
      "execution_count": null,
      "id": "68b993c1",
      "metadata": {
        "id": "68b993c1"
      },
      "outputs": [],
      "source": [
        "scores_with_posts = []\n",
        "target_vector = posts_norm_vectors[0]\n",
        "for sv,post in zip(posts_norm_vectors,posts):\n",
        "  similarity_score = sparse_dot_prod(target_vector,sv)\n",
        "  scores_with_posts.append( (similarity_score, post))"
      ]
    },
    {
      "cell_type": "markdown",
      "source": [
        "Next we sort them. We again use `reverse=True` to get the highest scores first, and use the `key` function to only sort by the similarity score (and not try to sort the posts themselves which will fail)."
      ],
      "metadata": {
        "id": "mlAoLwVUHVWU"
      },
      "id": "mlAoLwVUHVWU"
    },
    {
      "cell_type": "code",
      "execution_count": null,
      "id": "6a830e44",
      "metadata": {
        "id": "6a830e44"
      },
      "outputs": [],
      "source": [
        "sorted_scores_with_posts = sorted(scores_with_posts, reverse=True, key=lambda x:x[0])"
      ]
    },
    {
      "cell_type": "markdown",
      "source": [
        "And output the top ten:"
      ],
      "metadata": {
        "id": "YlaJYX3KHhVY"
      },
      "id": "YlaJYX3KHhVY"
    },
    {
      "cell_type": "code",
      "execution_count": null,
      "id": "2f970523",
      "metadata": {
        "id": "2f970523"
      },
      "outputs": [],
      "source": [
        "for score,post in sorted_scores_with_posts[:10]:\n",
        "    print(f\"{score:.2f}\\t{post['title']}\")"
      ]
    },
    {
      "cell_type": "markdown",
      "source": [
        "Fantastic! We see various similar posts. There seem to be more about Irn Bru this time and about sodas"
      ],
      "metadata": {
        "id": "ufR7r0leHlW1"
      },
      "id": "ufR7r0leHlW1"
    },
    {
      "cell_type": "markdown",
      "source": [
        "### Using scikit-learn for vectorizing text\n",
        "\n",
        "Well done! You wrote a vectorizer from scratch. We're now going to look at scikit-learn's vectorizer functionality.\n",
        "\n",
        "Scikit-learn provides some excellent documentation. On most pages, there's a short bit of example code. This exercise is going to illustrate using scikit-learn's documentation.\n",
        "\n",
        "**Exercise**: Using the documentation of the [TfidfVectorizer](https://scikit-learn.org/stable/modules/generated/sklearn.feature_extraction.text.TfidfVectorizer.html) class, write a function `tfidf_vectorize_with_sklearn` that uses a vectorizer to fit and transform a text corpus and returns the result which is a sparse matrix. Look at the example code on the documentation page, about halfway down the page. Yes, this is basically a copy and paste exercise 😀. Remember to `import` the TfidfVectorizer and use the defaults for TfidfVectorizer - i.e. don't change anything."
      ],
      "metadata": {
        "id": "nQ-7kOkDI_BI"
      },
      "id": "nQ-7kOkDI_BI"
    },
    {
      "cell_type": "code",
      "execution_count": null,
      "id": "25ffe929",
      "metadata": {
        "id": "25ffe929"
      },
      "outputs": [],
      "source": [
        "def tfidf_vectorize_with_sklearn(text_corpus):\n",
        "  # your code!\n",
        "\n",
        "# Example usage:\n",
        "tfidf_vectorize_with_sklearn(\n",
        "  [\n",
        "    \"My favourite soft drink is Apple Tango, but I also love Irn Bru.\",\n",
        "    \"Irn Bru is a great drink.\",\n",
        "  ]\n",
        ")"
      ]
    },
    {
      "cell_type": "code",
      "execution_count": null,
      "id": "b99cf7b0",
      "metadata": {
        "id": "b99cf7b0"
      },
      "outputs": [],
      "source": [
        "labtest(tfidf_vectorize_with_sklearn)"
      ]
    },
    {
      "cell_type": "markdown",
      "source": [
        "Let's look at what the TfidfVectorizer is giving us:"
      ],
      "metadata": {
        "id": "cxfJEvWJIpB9"
      },
      "id": "cxfJEvWJIpB9"
    },
    {
      "cell_type": "code",
      "execution_count": null,
      "id": "e56f2756",
      "metadata": {
        "id": "e56f2756"
      },
      "outputs": [],
      "source": [
        "sparse_matrix = tfidf_vectorize_with_sklearn(\n",
        "  [\n",
        "    \"My favourite soft drink is Apple Tango, but I also love Irn Bru.\",\n",
        "    \"Irn Bru is a great drink.\",\n",
        "  ]\n",
        ")\n",
        "\n",
        "type(sparse_matrix)"
      ]
    },
    {
      "cell_type": "markdown",
      "source": [
        "It's a `csr_matrix` from the [scipy](https://scipy.org/) library which provides various data structures. This is one of them. It's a sparse matrix, similar in concept to our sparse vectors. It only store the locations and data of non-zero values.\n",
        "\n",
        "Below is some code showing how you can create one of these:"
      ],
      "metadata": {
        "id": "6lMNFI3yIvii"
      },
      "id": "6lMNFI3yIvii"
    },
    {
      "cell_type": "code",
      "execution_count": null,
      "id": "e8423419",
      "metadata": {
        "id": "e8423419"
      },
      "outputs": [],
      "source": [
        "from scipy.sparse import csr_matrix\n",
        "\n",
        "vector = [0,2,0,3,0,1]\n",
        "sparse_matrix = csr_matrix(vector)\n",
        "sparse_matrix"
      ]
    },
    {
      "cell_type": "markdown",
      "source": [
        "Notice that the description says \"3 stored elements\". It hasn't stored the zero elements.\n",
        "\n",
        "Another useful thing is to know the size of a matrix:"
      ],
      "metadata": {
        "id": "J2kUQ1ktJJxj"
      },
      "id": "J2kUQ1ktJJxj"
    },
    {
      "cell_type": "code",
      "execution_count": null,
      "id": "7270e09c",
      "metadata": {
        "id": "7270e09c"
      },
      "outputs": [],
      "source": [
        "sparse_matrix.shape"
      ]
    },
    {
      "cell_type": "markdown",
      "source": [
        "You can get a dense version of your matrix using the `todense` function:"
      ],
      "metadata": {
        "id": "Ceu4fXUSJUWs"
      },
      "id": "Ceu4fXUSJUWs"
    },
    {
      "cell_type": "code",
      "execution_count": null,
      "id": "627f6178",
      "metadata": {
        "id": "627f6178"
      },
      "outputs": [],
      "source": [
        "sparse_matrix.todense()"
      ]
    },
    {
      "cell_type": "markdown",
      "source": [
        "**Exercise:** With a very small change to the previous function, write a function `tfidf_vectorize_with_sklearn_and_spacy` that combines the `TfidfVectorizer` with our previously written `text_pipeline_spacy`. The tokenizer argument (as descibed on [documentation page](https://scikit-learn.org/stable/modules/generated/sklearn.feature_extraction.text.TfidfVectorizer.html)) may come in hand."
      ],
      "metadata": {
        "id": "_fMzbV0KJb-K"
      },
      "id": "_fMzbV0KJb-K"
    },
    {
      "cell_type": "code",
      "execution_count": null,
      "id": "fa6846a5",
      "metadata": {
        "id": "fa6846a5"
      },
      "outputs": [],
      "source": [
        "def tfidf_vectorize_with_sklearn_and_spacy(text_corpus):\n",
        "  # your code!\n",
        "\n",
        "# Example usage:\n",
        "tfidf_vectorize_with_sklearn_and_spacy(\n",
        "    [\n",
        "        \"My favourite soft drink is Apple Tango, but I also love Irn Bru.\",\n",
        "        \"Irn Bru is a great drink.\",\n",
        "    ]\n",
        ")"
      ]
    },
    {
      "cell_type": "code",
      "execution_count": null,
      "id": "1a690174",
      "metadata": {
        "id": "1a690174"
      },
      "outputs": [],
      "source": [
        "labtest(tfidf_vectorize_with_sklearn_and_spacy)"
      ]
    },
    {
      "cell_type": "markdown",
      "source": [
        "At the moment, we're creating a vectorizer and then throwing it away. You may want to keep it if you want to vectorize future documents, or look up which element of the vector corresponds to which token (e.g. what our `make_vocabulary` function gives us). You can get the list of tokens used for mapping from the vectorizer's `get_feature_names_out` function."
      ],
      "metadata": {
        "id": "s4Zt_nt3KJV8"
      },
      "id": "s4Zt_nt3KJV8"
    },
    {
      "cell_type": "code",
      "source": [
        "text_corpus = ['Glasgow smiles better', 'He smiles a lot']\n",
        "\n",
        "vectorizer = TfidfVectorizer(tokenizer=text_pipeline_spacy)\n",
        "X = vectorizer.fit_transform(text_corpus)\n",
        "vectorizer.get_feature_names_out()"
      ],
      "metadata": {
        "id": "4B-RQqSuHR1H"
      },
      "id": "4B-RQqSuHR1H",
      "execution_count": null,
      "outputs": []
    },
    {
      "cell_type": "markdown",
      "source": [
        "Now let's run the TfidfVectorizer on the Reddit data. It may take a minute (and there's no way to get a nice progress bar 😞)"
      ],
      "metadata": {
        "id": "NHAx4Gq3Kd6_"
      },
      "id": "NHAx4Gq3Kd6_"
    },
    {
      "cell_type": "code",
      "execution_count": null,
      "id": "ac0f3f5f",
      "metadata": {
        "id": "ac0f3f5f"
      },
      "outputs": [],
      "source": [
        "texts_of_posts = [ p['title'] + '\\n' + p['body'] for p in posts ]\n",
        "post_tfidf_matrix = tfidf_vectorize_with_sklearn_and_spacy(texts_of_posts)\n",
        "post_tfidf_matrix"
      ]
    },
    {
      "cell_type": "markdown",
      "source": [
        "We've now got our sparse matrix for the 2000 posts. We can double check that the sizes match:"
      ],
      "metadata": {
        "id": "i_AUr5TVKumu"
      },
      "id": "i_AUr5TVKumu"
    },
    {
      "cell_type": "code",
      "execution_count": null,
      "id": "f460106c",
      "metadata": {
        "id": "f460106c"
      },
      "outputs": [],
      "source": [
        "print(f\"len(posts)={len(posts)}\")\n",
        "print(f\"post_tfidf_matrix.shape={post_tfidf_matrix.shape}\")\n",
        "\n",
        "assert len(posts) == post_tfidf_matrix.shape[0]"
      ]
    },
    {
      "cell_type": "markdown",
      "source": [
        "`TfidfVectorizer` very nicely provides normalized vectors as output by default. This means we can calculate the dot product using these vectors to get the cosine similarities. Scipy provides a `dot` function that does a dot product with another vector.\n",
        "\n",
        "To dot product a (1,9828) vector with another vector of the same size, you need to transpose the second vector. For this, you can use `.T` as below.\n",
        "\n",
        "The code below calculates the dot product for our target vector against all the others."
      ],
      "metadata": {
        "id": "Si9HP-T9K3PP"
      },
      "id": "Si9HP-T9K3PP"
    },
    {
      "cell_type": "code",
      "execution_count": null,
      "id": "72e56981",
      "metadata": {
        "id": "72e56981"
      },
      "outputs": [],
      "source": [
        "scores_with_posts = []\n",
        "target_vector = post_tfidf_matrix[0,:]\n",
        "for i,post in enumerate(posts):\n",
        "  dotprod = target_vector.dot(post_tfidf_matrix[i,:].T)\n",
        "  similarity_score = dotprod[0,0]\n",
        "  scores_with_posts.append( (similarity_score, post))"
      ]
    },
    {
      "cell_type": "markdown",
      "source": [
        "We sort and output the top ten. Looks pretty similar, but oddly not exactly the same as our code. This is because scikit-learn uses slightly different definitions of TF and IDF for the TF-IDF calculation. Some of the parameters to TfidfVectorizer can adjust which equations to use."
      ],
      "metadata": {
        "id": "vDfK8dl8a_DD"
      },
      "id": "vDfK8dl8a_DD"
    },
    {
      "cell_type": "code",
      "execution_count": null,
      "id": "af3debd1",
      "metadata": {
        "id": "af3debd1"
      },
      "outputs": [],
      "source": [
        "sorted_scores_with_posts = sorted(scores_with_posts, reverse=True, key=lambda x:x[0])\n",
        "\n",
        "for score,post in sorted_scores_with_posts[:10]:\n",
        "    print(f\"{score:.2f}\\t{post['title']}\")"
      ]
    },
    {
      "cell_type": "markdown",
      "source": [
        "One big benefit of using scikit-learn and scipy's sparse matrices (apart from shorter code) is performance. We can calculate an all-by-all comparison by matrix multiplying the sparse matrix of normalized TFIDF vectors by itself transposed (which uses the `dot` function again)."
      ],
      "metadata": {
        "id": "hc3BsiIkbNag"
      },
      "id": "hc3BsiIkbNag"
    },
    {
      "cell_type": "code",
      "execution_count": null,
      "id": "53f7201b",
      "metadata": {
        "id": "53f7201b"
      },
      "outputs": [],
      "source": [
        "all_pairs_comparison = post_tfidf_matrix.dot(post_tfidf_matrix.T)\n",
        "all_pairs_comparison = all_pairs_comparison.todense() # It's dense data now, so let's store it as dense\n",
        "\n",
        "all_pairs_comparison.shape"
      ]
    },
    {
      "cell_type": "markdown",
      "source": [
        "This gives us a 2000x2000 matrices where element `(i,j)` is the cosine similarity between post `i` and post `j`. You could then slice out row `i` to see the similarity scores of all documents against post `i`."
      ],
      "metadata": {
        "id": "cpfHAZKZb984"
      },
      "id": "cpfHAZKZb984"
    },
    {
      "cell_type": "markdown",
      "source": [
        "## Optional Extras\n",
        "\n",
        "These are optional directions to go into more detail.\n",
        "\n",
        "1. Scikit-learn provides a HashingVectorizer as an alternative to a TfidfVectorizer. Can you find out why?\n",
        "2. Vector similarity scores can be used for all sorts of applications, including clustering. You'll build K-Means from scratch in your assessed coursework, but Scikit-learn provides many built-in clustering implementations. This includes [hierachical clustering](https://scikit-learn.org/stable/modules/generated/sklearn.cluster.AgglomerativeClustering.html#sklearn.cluster.AgglomerativeClustering) we discussed in lecture. Can you find any interesting clusters using this technique?\n"
      ],
      "metadata": {
        "id": "riuA2RstLxJy"
      },
      "id": "riuA2RstLxJy"
    }
  ],
  "metadata": {
    "kernelspec": {
      "display_name": "Python 3 (ipykernel)",
      "language": "python",
      "name": "python3"
    },
    "language_info": {
      "codemirror_mode": {
        "name": "ipython",
        "version": 3
      },
      "file_extension": ".py",
      "mimetype": "text/x-python",
      "name": "python",
      "nbconvert_exporter": "python",
      "pygments_lexer": "ipython3",
      "version": "3.8.10"
    },
    "colab": {
      "provenance": [],
      "include_colab_link": true
    }
  },
  "nbformat": 4,
  "nbformat_minor": 5
}